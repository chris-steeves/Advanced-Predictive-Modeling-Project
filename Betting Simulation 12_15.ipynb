{
 "cells": [
  {
   "cell_type": "code",
   "execution_count": 1,
   "metadata": {},
   "outputs": [],
   "source": [
    "from pandas import Series, DataFrame\n",
    "import pandas as pd\n",
    "import numpy as np\n",
    "import matplotlib.pyplot as plt\n",
    "from sklearn.model_selection import train_test_split\n",
    "from sklearn.linear_model import LinearRegression\n",
    "from sklearn.linear_model import Ridge\n",
    "from sklearn.metrics import mean_squared_error\n",
    "from sklearn.metrics import mean_absolute_error\n",
    "from sklearn.ensemble import GradientBoostingRegressor\n",
    "from sklearn.model_selection import GridSearchCV\n",
    "from datetime import datetime\n",
    "from sklearn.model_selection import RandomizedSearchCV\n",
    "from sklearn.ensemble import GradientBoostingRegressor\n",
    "from datetime import *\n",
    "from random import *\n",
    "\n",
    "pd.set_option('display.max_columns', None)\n",
    "\n",
    "gbr = pd.read_csv('gbr_predictions_12_15.csv')\n",
    "bagr = pd.read_csv('bagr_predictions_12_15.csv')\n",
    "\n",
    "past_2017 = pd.read_csv('past_2017.csv').dropna() #dropna to get rid of AFC vs NFC game\n",
    "past_2018 = pd.read_csv('past_2018.csv').dropna() #dropna to get rid of AFC vs NFC game\n",
    "past_2019 = pd.read_csv('past_2019_12_15.csv')\n",
    "future_2019 = pd.read_csv('future_12_15.csv')\n",
    "\n",
    "all_games = pd.read_csv('allgames_12_15.csv')\n",
    "\n",
    "all_games['Week'] = all_games['Week'].replace(['WC', 'DP', 'CC', 'SB'], [18, 19, 20, 21])\n",
    "all_games['Week'] = all_games['Week'].astype(int)\n"
   ]
  },
  {
   "cell_type": "code",
   "execution_count": 2,
   "metadata": {},
   "outputs": [
    {
     "name": "stderr",
     "output_type": "stream",
     "text": [
      "C:\\Users\\chris\\Anaconda2\\lib\\site-packages\\pandas\\core\\frame.py:6692: FutureWarning: Sorting because non-concatenation axis is not aligned. A future version\n",
      "of pandas will change to not sort by default.\n",
      "\n",
      "To accept the future behavior, pass 'sort=False'.\n",
      "\n",
      "To retain the current behavior and silence the warning, pass 'sort=True'.\n",
      "\n",
      "  sort=sort)\n"
     ]
    }
   ],
   "source": [
    "current_week = all_games[all_games['Season']==2019]['Week'].max() # get rid of -1 when predicting future\n",
    "\n",
    "future_2019['Week'] = current_week\n",
    "future_2019['Season'] = 2019\n",
    "\n",
    "# Derive Week and season of lines to create composite key with all_games\n",
    "\n",
    "def getWeek2019(s):\n",
    "        new_date = date(int(s[:4]), int(s[5:7]), int(s[8:10]))\n",
    "        for i in range(1,current_week+1):\n",
    "            if (new_date < date(2019,9,3) + timedelta(7*i)):\n",
    "                return i\n",
    "            \n",
    "past_2019['Week'] = past_2019['Date'].apply(getWeek2019)\n",
    "past_2019['Season'] = 2019\n",
    "\n",
    "def getWeek2018(s):\n",
    "        new_date = date(int(s[:4]), int(s[5:7]), int(s[8:10]))\n",
    "        for i in range(1,22):\n",
    "            if (new_date < date(2018,9,4) + timedelta(7*i)):\n",
    "                return i\n",
    "        return 21\n",
    "            \n",
    "past_2018['Week'] = past_2018['Date'].apply(getWeek2018)\n",
    "past_2018['Season'] = 2018\n",
    "\n",
    "def getWeek2017(s):\n",
    "        new_date = date(int(s[:4]), int(s[5:7]), int(s[8:10]))\n",
    "        for i in range(1,22):\n",
    "            if (new_date < date(2017,9,5) + timedelta(7*i)):\n",
    "                return i\n",
    "        return 21\n",
    "            \n",
    "past_2017['Week'] = past_2017['Date'].apply(getWeek2017)\n",
    "past_2017['Season'] = 2017\n",
    "\n",
    "past_2019 = past_2019[past_2019['Week'] < current_week]\n",
    "\n",
    "lines = past_2017.append(past_2018).append(past_2019).append(future_2019)"
   ]
  },
  {
   "cell_type": "code",
   "execution_count": 3,
   "metadata": {},
   "outputs": [],
   "source": [
    "keys = all_games[(all_games['H/A']=='H')][['GameNum','Opposing Team','Week','Team','Season']]\n",
    "\n",
    "lines = lines.merge(keys,left_on=['Week','Home', 'Away','Season'],right_on=['Week','Team', 'Opposing Team','Season'])\n",
    "lines = lines.drop(columns=['Unnamed: 0','Date','Opposing Team','Team','Week','Season'])"
   ]
  },
  {
   "cell_type": "code",
   "execution_count": 4,
   "metadata": {},
   "outputs": [],
   "source": [
    "gbr = gbr.merge(right=gbr, left_on='GameNum', right_on='GameNum')\n",
    "bagr = bagr.merge(right=bagr, left_on='GameNum', right_on='GameNum')"
   ]
  },
  {
   "cell_type": "code",
   "execution_count": 5,
   "metadata": {},
   "outputs": [],
   "source": [
    "gbr_opposing_1 = gbr.merge(right=all_games[['GameNum','Opposing Team','H/A','PA','PF']], \n",
    "                           left_on=['GameNum','Team_y'], \n",
    "                           right_on=['GameNum','Opposing Team'])\n",
    "\n",
    "bagr_opposing_1 = bagr.merge(right=all_games[['GameNum','Opposing Team','H/A','PA','PF']], \n",
    "                             left_on=['GameNum','Team_y'],\n",
    "                             right_on=['GameNum','Opposing Team'])\n"
   ]
  },
  {
   "cell_type": "code",
   "execution_count": 6,
   "metadata": {},
   "outputs": [],
   "source": [
    "bagr_opposing_1 = bagr_opposing_1[bagr_opposing_1['Team_x'] != bagr_opposing_1['Team_y']]\n",
    "bagr_opposing_1 = bagr_opposing_1[bagr_opposing_1['H/A'] == 'H']\n",
    "\n",
    "gbr_opposing_1 = gbr_opposing_1[gbr_opposing_1['Team_x'] != gbr_opposing_1['Team_y']]\n",
    "gbr_opposing_1 = gbr_opposing_1[gbr_opposing_1['H/A'] == 'H']"
   ]
  },
  {
   "cell_type": "code",
   "execution_count": 7,
   "metadata": {},
   "outputs": [],
   "source": [
    "gbr_opposing_1=gbr_opposing_1.drop(columns=['H/A','Opposing Team','Team_y','Unnamed: 0_y','Team_x','Unnamed: 0_x'])\n",
    "bagr_opposing_1=bagr_opposing_1.drop(columns=['H/A','Opposing Team','Team_y','Unnamed: 0_y','Team_x','Unnamed: 0_x'])"
   ]
  },
  {
   "cell_type": "code",
   "execution_count": 8,
   "metadata": {},
   "outputs": [],
   "source": [
    "gbr_opposing_1 = gbr_opposing_1.set_index('GameNum').reset_index()\n",
    "bagr_opposing_1 = bagr_opposing_1.set_index('GameNum').reset_index()"
   ]
  },
  {
   "cell_type": "code",
   "execution_count": 9,
   "metadata": {},
   "outputs": [],
   "source": [
    "bagr_opposing_1 = bagr_opposing_1.sort_values('GameNum')\n",
    "gbr_opposing_1 = gbr_opposing_1.sort_values('GameNum')"
   ]
  },
  {
   "cell_type": "markdown",
   "metadata": {},
   "source": [
    "# Select data to use here"
   ]
  },
  {
   "cell_type": "code",
   "execution_count": 10,
   "metadata": {},
   "outputs": [],
   "source": [
    "## Only run if trying to predict next week\n",
    "\n",
    "## Put the next upcoming game's GameNum as next_game\n",
    "next_game = 3680\n",
    "\n",
    "\n",
    "def simulatePrediction(seed):\n",
    "\n",
    "    df=gbr_opposing_1\n",
    "    \n",
    "    ####CHANGE NUM TO THE NEXT GAME YOU WANT TO PREDICT FOR ####\n",
    "    \n",
    "\n",
    "    PFY = df[df['GameNum'] < next_game]['PF']\n",
    "    PAY = df[df['GameNum'] < next_game]['PA']\n",
    "\n",
    "    df = df.drop(['PA','PF'],axis=1)\n",
    "\n",
    "    df_next_week = df[df['GameNum'] >= next_game]\n",
    "    df_next_week_pred = df[df['GameNum'] >= next_game][['GameNum','PASS_x']]\n",
    "    X = df[df['GameNum'] < next_game]\n",
    "    \n",
    "\n",
    "    loss = ['ls','huber']\n",
    "    max_depth = [int(x) for x in np.linspace(start = 1, stop = 4, num = 4)]\n",
    "    n_estimators = [int(x) for x in np.linspace(start = 10, stop = 28, num = 10)]\n",
    "    learning_rate = np.linspace(start=0.1, stop=0.6, num=6)\n",
    "\n",
    "    param_grid = {'loss': loss,\n",
    "                  'learning_rate': learning_rate,\n",
    "                  'max_depth': max_depth,\n",
    "                  'n_estimators': n_estimators}\n",
    "    print(param_grid)\n",
    "\n",
    "    X_train,X_test,y_train,y_test = train_test_split(X,PFY,test_size=.33, random_state=seed)\n",
    "\n",
    "    # X_train = X[:-150]\n",
    "    # X_test = X[-150:]\n",
    "    # y_train = PFY[:-150]\n",
    "    # y_test = PFY[-150:]\n",
    "\n",
    "    #X_train,X_test,y_train,y_test = train_test_split(X,PFY,test_size=13,random_state=3)\n",
    "\n",
    "    gbr = GradientBoostingRegressor()\n",
    "    grid_search = GridSearchCV(gbr, param_grid, cv=5, scoring='neg_mean_squared_error', n_jobs=-1, verbose=3)\n",
    "    grid_search.fit(X_train, y_train)\n",
    "\n",
    "    grid_search.best_params_\n",
    "\n",
    "    regressor = GradientBoostingRegressor(\n",
    "        max_depth=grid_search.best_params_['max_depth'],\n",
    "        n_estimators=grid_search.best_params_['n_estimators'],\n",
    "        learning_rate=grid_search.best_params_['learning_rate']\n",
    "    )\n",
    "    regressor.fit(X_train, y_train)\n",
    "    errors = [mean_squared_error(y_test, y_pred) for y_pred in regressor.staged_predict(X_test)]\n",
    "    best_n_estimators = np.argmin(errors)\n",
    "    best_regressor = GradientBoostingRegressor(\n",
    "        max_depth=grid_search.best_params_['max_depth'],\n",
    "        n_estimators=grid_search.best_params_['n_estimators'],\n",
    "        learning_rate=grid_search.best_params_['learning_rate']\n",
    "    )\n",
    "    best_regressor.fit(X_train, y_train)\n",
    "\n",
    "    df_next_week_pred['Predicted PF'] = best_regressor.predict(df_next_week)\n",
    "    y_pred = best_regressor.predict(X_test)\n",
    "\n",
    "    fill0 = pd.Series([0,0,0,0,0,0,0,0,0,0,0,0,0,0,0,0])\n",
    "    df_next_week_pred['PFY'] = fill0\n",
    "\n",
    "    PFY_df = pd.DataFrame(y_test, columns = ['PFY']) \n",
    "    PFY_df['PFY']=y_test\n",
    "    PFY_df['Predicted PF']=y_pred\n",
    "    PFY_df.iloc[:5]\n",
    "\n",
    "    X_train,X_test,y_train,y_test=train_test_split(X,PAY,test_size=.33, random_state=seed)\n",
    "\n",
    "\n",
    "    gbr = GradientBoostingRegressor()\n",
    "    grid_search = GridSearchCV(gbr, param_grid, cv=5, scoring='neg_mean_squared_error', n_jobs=-1, verbose=3)\n",
    "    grid_search.fit(X_train, y_train)\n",
    "\n",
    "    grid_search.best_params_\n",
    "\n",
    "    regressor = GradientBoostingRegressor(\n",
    "        max_depth=grid_search.best_params_['max_depth'],\n",
    "        n_estimators=grid_search.best_params_['n_estimators'],\n",
    "        learning_rate=grid_search.best_params_['learning_rate']\n",
    "    )\n",
    "\n",
    "    regressor.fit(X_train, y_train)\n",
    "    errors = [mean_squared_error(y_test, y_pred) for y_pred in regressor.staged_predict(X_test)]\n",
    "    best_n_estimators = np.argmin(errors)\n",
    "    best_regressor = GradientBoostingRegressor(\n",
    "        max_depth=grid_search.best_params_['max_depth'],\n",
    "        n_estimators=grid_search.best_params_['n_estimators'],\n",
    "        learning_rate=grid_search.best_params_['learning_rate']\n",
    "    )\n",
    "    best_regressor.fit(X_train, y_train)\n",
    "\n",
    "    df_next_week_pred['Predicted PA'] =  best_regressor.predict(df_next_week)\n",
    "\n",
    "    y_pred = best_regressor.predict(X_test)\n",
    "\n",
    "    fill0 = pd.Series([0,0,0,0,0,0,0,0,0,0,0,0,0,0,0,0])\n",
    "    df_next_week_pred['PAY'] = fill0\n",
    "\n",
    "    PAY_df = pd.DataFrame(y_test, columns = ['PAY']) \n",
    "    PAY_df['PAY']=y_test\n",
    "    PAY_df['Predicted PA']=y_pred\n",
    "    PAY_df.iloc[:5]\n",
    "\n",
    "    # Predictions\n",
    "\n",
    "    next_week_pred=df_next_week_pred.fillna(0)\n",
    "\n",
    "    PFY_join = PFY_df.reset_index()\n",
    "    PAY_join = PAY_df.reset_index()\n",
    "    X_test_join = X_test.reset_index()\n",
    "\n",
    "\n",
    "    predicted_df = X_test_join[['GameNum','index']].merge(PAY_join, how='outer')\n",
    "    predicted_df = predicted_df.merge(PFY_join, how='outer').drop(columns='index')\n",
    "    predicted_df = predicted_df.dropna()\n",
    "    \n",
    "    predicted_df['PAY']= predicted_df['PAY'].astype(float)\n",
    "    predicted_df['PFY']= predicted_df['PFY'].astype(float)\n",
    "    \n",
    "\n",
    "    predicted_df['Predicted_Spread']=np.round((predicted_df['Predicted PF']-predicted_df['Predicted PA'])*-1) #round\n",
    "\n",
    "    predicted_df['Game_Spread']=(predicted_df['PFY'].astype(float)-predicted_df['PAY'].astype(float))*-1\n",
    "\n",
    "    predicted_df['Predicted_OU']=np.round(predicted_df['Predicted PA']+predicted_df['Predicted PF']) #round\n",
    "\n",
    "    predicted_df['Game_OU']=(predicted_df['PFY']+predicted_df['PAY'])\n",
    "\n",
    "    predicted_df['Predicted_Spread'].hist(bins=20)\n",
    "    predicted_df['Game_Spread'].hist(bins=20,alpha=0.5,color='b')\n",
    "    \n",
    "    \n",
    "    predicted_df = predicted_df[predicted_df['GameNum'] < next_game]\n",
    "    \n",
    "    next_week_pred['Predicted_Spread'] = np.round((next_week_pred['Predicted PF'] - next_week_pred['Predicted PA']) *-1)\n",
    "\n",
    "\n",
    "\n",
    "    \n",
    "    \n",
    "\n",
    "    print 'Games predicted: ' + str(len(predicted_df))\n",
    "    return next_week_pred, predicted_df"
   ]
  },
  {
   "cell_type": "code",
   "execution_count": 11,
   "metadata": {},
   "outputs": [
    {
     "name": "stdout",
     "output_type": "stream",
     "text": [
      "\n",
      "\n",
      "Now Starting Simulation Number: 1\n",
      "\n",
      "\n",
      "{'n_estimators': [10, 12, 14, 16, 18, 20, 22, 24, 26, 28], 'loss': ['ls', 'huber'], 'learning_rate': array([0.1, 0.2, 0.3, 0.4, 0.5, 0.6]), 'max_depth': [1, 2, 3, 4]}\n",
      "Fitting 5 folds for each of 480 candidates, totalling 2400 fits\n"
     ]
    },
    {
     "name": "stderr",
     "output_type": "stream",
     "text": [
      "[Parallel(n_jobs=-1)]: Using backend LokyBackend with 4 concurrent workers.\n",
      "[Parallel(n_jobs=-1)]: Done  24 tasks      | elapsed:    5.6s\n",
      "[Parallel(n_jobs=-1)]: Done 681 tasks      | elapsed:   12.6s\n",
      "[Parallel(n_jobs=-1)]: Done 1961 tasks      | elapsed:   30.3s\n",
      "[Parallel(n_jobs=-1)]: Done 2393 out of 2400 | elapsed:   36.0s remaining:    0.0s\n",
      "[Parallel(n_jobs=-1)]: Done 2400 out of 2400 | elapsed:   36.1s finished\n",
      "C:\\Users\\chris\\Anaconda2\\lib\\site-packages\\sklearn\\model_selection\\_search.py:841: DeprecationWarning: The default of the `iid` parameter will change from True to False in version 0.22 and will be removed in 0.24. This will change numeric results when test-set sizes are unequal.\n",
      "  DeprecationWarning)\n"
     ]
    },
    {
     "name": "stdout",
     "output_type": "stream",
     "text": [
      "Fitting 5 folds for each of 480 candidates, totalling 2400 fits\n"
     ]
    },
    {
     "name": "stderr",
     "output_type": "stream",
     "text": [
      "[Parallel(n_jobs=-1)]: Using backend LokyBackend with 4 concurrent workers.\n",
      "[Parallel(n_jobs=-1)]: Done 200 tasks      | elapsed:    2.0s\n",
      "[Parallel(n_jobs=-1)]: Done 1736 tasks      | elapsed:   20.5s\n",
      "[Parallel(n_jobs=-1)]: Done 2400 out of 2400 | elapsed:   28.7s finished\n",
      "C:\\Users\\chris\\Anaconda2\\lib\\site-packages\\sklearn\\model_selection\\_search.py:841: DeprecationWarning: The default of the `iid` parameter will change from True to False in version 0.22 and will be removed in 0.24. This will change numeric results when test-set sizes are unequal.\n",
      "  DeprecationWarning)\n"
     ]
    },
    {
     "name": "stdout",
     "output_type": "stream",
     "text": [
      "Games predicted: 245\n",
      "\n",
      "\n",
      "Now Starting Simulation Number: 2\n",
      "\n",
      "\n",
      "{'n_estimators': [10, 12, 14, 16, 18, 20, 22, 24, 26, 28], 'loss': ['ls', 'huber'], 'learning_rate': array([0.1, 0.2, 0.3, 0.4, 0.5, 0.6]), 'max_depth': [1, 2, 3, 4]}\n",
      "Fitting 5 folds for each of 480 candidates, totalling 2400 fits\n"
     ]
    },
    {
     "name": "stderr",
     "output_type": "stream",
     "text": [
      "[Parallel(n_jobs=-1)]: Using backend LokyBackend with 4 concurrent workers.\n",
      "[Parallel(n_jobs=-1)]: Done 104 tasks      | elapsed:    0.7s\n",
      "[Parallel(n_jobs=-1)]: Done 680 tasks      | elapsed:    7.5s\n",
      "[Parallel(n_jobs=-1)]: Done 1640 tasks      | elapsed:   19.4s\n",
      "[Parallel(n_jobs=-1)]: Done 2400 out of 2400 | elapsed:   28.7s finished\n",
      "C:\\Users\\chris\\Anaconda2\\lib\\site-packages\\sklearn\\model_selection\\_search.py:841: DeprecationWarning: The default of the `iid` parameter will change from True to False in version 0.22 and will be removed in 0.24. This will change numeric results when test-set sizes are unequal.\n",
      "  DeprecationWarning)\n",
      "[Parallel(n_jobs=-1)]: Using backend LokyBackend with 4 concurrent workers.\n"
     ]
    },
    {
     "name": "stdout",
     "output_type": "stream",
     "text": [
      "Fitting 5 folds for each of 480 candidates, totalling 2400 fits\n"
     ]
    },
    {
     "name": "stderr",
     "output_type": "stream",
     "text": [
      "[Parallel(n_jobs=-1)]: Done 152 tasks      | elapsed:    1.3s\n",
      "[Parallel(n_jobs=-1)]: Done 1304 tasks      | elapsed:   14.7s\n",
      "[Parallel(n_jobs=-1)]: Done 2400 out of 2400 | elapsed:   28.1s finished\n",
      "C:\\Users\\chris\\Anaconda2\\lib\\site-packages\\sklearn\\model_selection\\_search.py:841: DeprecationWarning: The default of the `iid` parameter will change from True to False in version 0.22 and will be removed in 0.24. This will change numeric results when test-set sizes are unequal.\n",
      "  DeprecationWarning)\n",
      "[Parallel(n_jobs=-1)]: Using backend LokyBackend with 4 concurrent workers.\n"
     ]
    },
    {
     "name": "stdout",
     "output_type": "stream",
     "text": [
      "Games predicted: 245\n",
      "\n",
      "\n",
      "Now Starting Simulation Number: 3\n",
      "\n",
      "\n",
      "{'n_estimators': [10, 12, 14, 16, 18, 20, 22, 24, 26, 28], 'loss': ['ls', 'huber'], 'learning_rate': array([0.1, 0.2, 0.3, 0.4, 0.5, 0.6]), 'max_depth': [1, 2, 3, 4]}\n",
      "Fitting 5 folds for each of 480 candidates, totalling 2400 fits\n"
     ]
    },
    {
     "name": "stderr",
     "output_type": "stream",
     "text": [
      "[Parallel(n_jobs=-1)]: Done 136 tasks      | elapsed:    1.1s\n",
      "[Parallel(n_jobs=-1)]: Done 904 tasks      | elapsed:   10.1s\n",
      "[Parallel(n_jobs=-1)]: Done 2184 tasks      | elapsed:   25.4s\n",
      "[Parallel(n_jobs=-1)]: Done 2400 out of 2400 | elapsed:   28.8s finished\n",
      "C:\\Users\\chris\\Anaconda2\\lib\\site-packages\\sklearn\\model_selection\\_search.py:841: DeprecationWarning: The default of the `iid` parameter will change from True to False in version 0.22 and will be removed in 0.24. This will change numeric results when test-set sizes are unequal.\n",
      "  DeprecationWarning)\n",
      "[Parallel(n_jobs=-1)]: Using backend LokyBackend with 4 concurrent workers.\n"
     ]
    },
    {
     "name": "stdout",
     "output_type": "stream",
     "text": [
      "Fitting 5 folds for each of 480 candidates, totalling 2400 fits\n"
     ]
    },
    {
     "name": "stderr",
     "output_type": "stream",
     "text": [
      "[Parallel(n_jobs=-1)]: Done 136 tasks      | elapsed:    1.1s\n",
      "[Parallel(n_jobs=-1)]: Done 904 tasks      | elapsed:   10.2s\n",
      "[Parallel(n_jobs=-1)]: Done 2184 tasks      | elapsed:   25.0s\n",
      "[Parallel(n_jobs=-1)]: Done 2400 out of 2400 | elapsed:   28.2s finished\n",
      "C:\\Users\\chris\\Anaconda2\\lib\\site-packages\\sklearn\\model_selection\\_search.py:841: DeprecationWarning: The default of the `iid` parameter will change from True to False in version 0.22 and will be removed in 0.24. This will change numeric results when test-set sizes are unequal.\n",
      "  DeprecationWarning)\n",
      "[Parallel(n_jobs=-1)]: Using backend LokyBackend with 4 concurrent workers.\n"
     ]
    },
    {
     "name": "stdout",
     "output_type": "stream",
     "text": [
      "Games predicted: 245\n",
      "\n",
      "\n",
      "Now Starting Simulation Number: 4\n",
      "\n",
      "\n",
      "{'n_estimators': [10, 12, 14, 16, 18, 20, 22, 24, 26, 28], 'loss': ['ls', 'huber'], 'learning_rate': array([0.1, 0.2, 0.3, 0.4, 0.5, 0.6]), 'max_depth': [1, 2, 3, 4]}\n",
      "Fitting 5 folds for each of 480 candidates, totalling 2400 fits\n"
     ]
    },
    {
     "name": "stderr",
     "output_type": "stream",
     "text": [
      "[Parallel(n_jobs=-1)]: Done 104 tasks      | elapsed:    0.8s\n",
      "[Parallel(n_jobs=-1)]: Done 680 tasks      | elapsed:    7.4s\n",
      "[Parallel(n_jobs=-1)]: Done 1640 tasks      | elapsed:   19.4s\n",
      "[Parallel(n_jobs=-1)]: Done 2400 out of 2400 | elapsed:   28.8s finished\n",
      "C:\\Users\\chris\\Anaconda2\\lib\\site-packages\\sklearn\\model_selection\\_search.py:841: DeprecationWarning: The default of the `iid` parameter will change from True to False in version 0.22 and will be removed in 0.24. This will change numeric results when test-set sizes are unequal.\n",
      "  DeprecationWarning)\n",
      "[Parallel(n_jobs=-1)]: Using backend LokyBackend with 4 concurrent workers.\n"
     ]
    },
    {
     "name": "stdout",
     "output_type": "stream",
     "text": [
      "Fitting 5 folds for each of 480 candidates, totalling 2400 fits\n"
     ]
    },
    {
     "name": "stderr",
     "output_type": "stream",
     "text": [
      "[Parallel(n_jobs=-1)]: Done 136 tasks      | elapsed:    1.1s\n",
      "[Parallel(n_jobs=-1)]: Done 904 tasks      | elapsed:    9.9s\n",
      "[Parallel(n_jobs=-1)]: Done 2184 tasks      | elapsed:   24.6s\n",
      "[Parallel(n_jobs=-1)]: Done 2400 out of 2400 | elapsed:   27.8s finished\n",
      "C:\\Users\\chris\\Anaconda2\\lib\\site-packages\\sklearn\\model_selection\\_search.py:841: DeprecationWarning: The default of the `iid` parameter will change from True to False in version 0.22 and will be removed in 0.24. This will change numeric results when test-set sizes are unequal.\n",
      "  DeprecationWarning)\n",
      "[Parallel(n_jobs=-1)]: Using backend LokyBackend with 4 concurrent workers.\n"
     ]
    },
    {
     "name": "stdout",
     "output_type": "stream",
     "text": [
      "Games predicted: 245\n",
      "\n",
      "\n",
      "Now Starting Simulation Number: 5\n",
      "\n",
      "\n",
      "{'n_estimators': [10, 12, 14, 16, 18, 20, 22, 24, 26, 28], 'loss': ['ls', 'huber'], 'learning_rate': array([0.1, 0.2, 0.3, 0.4, 0.5, 0.6]), 'max_depth': [1, 2, 3, 4]}\n",
      "Fitting 5 folds for each of 480 candidates, totalling 2400 fits\n"
     ]
    },
    {
     "name": "stderr",
     "output_type": "stream",
     "text": [
      "[Parallel(n_jobs=-1)]: Done 136 tasks      | elapsed:    1.1s\n",
      "[Parallel(n_jobs=-1)]: Done 904 tasks      | elapsed:   10.1s\n",
      "[Parallel(n_jobs=-1)]: Done 2184 tasks      | elapsed:   25.2s\n",
      "[Parallel(n_jobs=-1)]: Done 2400 out of 2400 | elapsed:   28.5s finished\n",
      "C:\\Users\\chris\\Anaconda2\\lib\\site-packages\\sklearn\\model_selection\\_search.py:841: DeprecationWarning: The default of the `iid` parameter will change from True to False in version 0.22 and will be removed in 0.24. This will change numeric results when test-set sizes are unequal.\n",
      "  DeprecationWarning)\n",
      "[Parallel(n_jobs=-1)]: Using backend LokyBackend with 4 concurrent workers.\n"
     ]
    },
    {
     "name": "stdout",
     "output_type": "stream",
     "text": [
      "Fitting 5 folds for each of 480 candidates, totalling 2400 fits\n"
     ]
    },
    {
     "name": "stderr",
     "output_type": "stream",
     "text": [
      "[Parallel(n_jobs=-1)]: Done 104 tasks      | elapsed:    0.7s\n",
      "[Parallel(n_jobs=-1)]: Done 680 tasks      | elapsed:    7.2s\n",
      "[Parallel(n_jobs=-1)]: Done 1640 tasks      | elapsed:   18.9s\n",
      "[Parallel(n_jobs=-1)]: Done 2400 out of 2400 | elapsed:   28.4s finished\n",
      "C:\\Users\\chris\\Anaconda2\\lib\\site-packages\\sklearn\\model_selection\\_search.py:841: DeprecationWarning: The default of the `iid` parameter will change from True to False in version 0.22 and will be removed in 0.24. This will change numeric results when test-set sizes are unequal.\n",
      "  DeprecationWarning)\n",
      "[Parallel(n_jobs=-1)]: Using backend LokyBackend with 4 concurrent workers.\n"
     ]
    },
    {
     "name": "stdout",
     "output_type": "stream",
     "text": [
      "Games predicted: 245\n",
      "\n",
      "\n",
      "Now Starting Simulation Number: 6\n",
      "\n",
      "\n",
      "{'n_estimators': [10, 12, 14, 16, 18, 20, 22, 24, 26, 28], 'loss': ['ls', 'huber'], 'learning_rate': array([0.1, 0.2, 0.3, 0.4, 0.5, 0.6]), 'max_depth': [1, 2, 3, 4]}\n",
      "Fitting 5 folds for each of 480 candidates, totalling 2400 fits\n"
     ]
    },
    {
     "name": "stderr",
     "output_type": "stream",
     "text": [
      "[Parallel(n_jobs=-1)]: Done 104 tasks      | elapsed:    0.8s\n",
      "[Parallel(n_jobs=-1)]: Done 680 tasks      | elapsed:    7.8s\n",
      "[Parallel(n_jobs=-1)]: Done 1640 tasks      | elapsed:   20.6s\n",
      "[Parallel(n_jobs=-1)]: Done 2400 out of 2400 | elapsed:   29.9s finished\n",
      "C:\\Users\\chris\\Anaconda2\\lib\\site-packages\\sklearn\\model_selection\\_search.py:841: DeprecationWarning: The default of the `iid` parameter will change from True to False in version 0.22 and will be removed in 0.24. This will change numeric results when test-set sizes are unequal.\n",
      "  DeprecationWarning)\n",
      "[Parallel(n_jobs=-1)]: Using backend LokyBackend with 4 concurrent workers.\n"
     ]
    },
    {
     "name": "stdout",
     "output_type": "stream",
     "text": [
      "Fitting 5 folds for each of 480 candidates, totalling 2400 fits\n"
     ]
    },
    {
     "name": "stderr",
     "output_type": "stream",
     "text": [
      "[Parallel(n_jobs=-1)]: Done 232 tasks      | elapsed:    2.1s\n",
      "[Parallel(n_jobs=-1)]: Done 1576 tasks      | elapsed:   18.0s\n",
      "[Parallel(n_jobs=-1)]: Done 2400 out of 2400 | elapsed:   27.7s finished\n",
      "C:\\Users\\chris\\Anaconda2\\lib\\site-packages\\sklearn\\model_selection\\_search.py:841: DeprecationWarning: The default of the `iid` parameter will change from True to False in version 0.22 and will be removed in 0.24. This will change numeric results when test-set sizes are unequal.\n",
      "  DeprecationWarning)\n",
      "[Parallel(n_jobs=-1)]: Using backend LokyBackend with 4 concurrent workers.\n"
     ]
    },
    {
     "name": "stdout",
     "output_type": "stream",
     "text": [
      "Games predicted: 245\n",
      "\n",
      "\n",
      "Now Starting Simulation Number: 7\n",
      "\n",
      "\n",
      "{'n_estimators': [10, 12, 14, 16, 18, 20, 22, 24, 26, 28], 'loss': ['ls', 'huber'], 'learning_rate': array([0.1, 0.2, 0.3, 0.4, 0.5, 0.6]), 'max_depth': [1, 2, 3, 4]}\n",
      "Fitting 5 folds for each of 480 candidates, totalling 2400 fits\n"
     ]
    },
    {
     "name": "stderr",
     "output_type": "stream",
     "text": [
      "[Parallel(n_jobs=-1)]: Done 104 tasks      | elapsed:    0.8s\n",
      "[Parallel(n_jobs=-1)]: Done 680 tasks      | elapsed:    7.5s\n",
      "[Parallel(n_jobs=-1)]: Done 1640 tasks      | elapsed:   20.1s\n",
      "[Parallel(n_jobs=-1)]: Done 2400 out of 2400 | elapsed:   30.3s finished\n",
      "C:\\Users\\chris\\Anaconda2\\lib\\site-packages\\sklearn\\model_selection\\_search.py:841: DeprecationWarning: The default of the `iid` parameter will change from True to False in version 0.22 and will be removed in 0.24. This will change numeric results when test-set sizes are unequal.\n",
      "  DeprecationWarning)\n",
      "[Parallel(n_jobs=-1)]: Using backend LokyBackend with 4 concurrent workers.\n"
     ]
    },
    {
     "name": "stdout",
     "output_type": "stream",
     "text": [
      "Fitting 5 folds for each of 480 candidates, totalling 2400 fits\n"
     ]
    },
    {
     "name": "stderr",
     "output_type": "stream",
     "text": [
      "[Parallel(n_jobs=-1)]: Done 104 tasks      | elapsed:    0.9s\n",
      "[Parallel(n_jobs=-1)]: Done 680 tasks      | elapsed:    7.8s\n",
      "[Parallel(n_jobs=-1)]: Done 1640 tasks      | elapsed:   19.6s\n",
      "[Parallel(n_jobs=-1)]: Done 2400 out of 2400 | elapsed:   28.5s finished\n",
      "C:\\Users\\chris\\Anaconda2\\lib\\site-packages\\sklearn\\model_selection\\_search.py:841: DeprecationWarning: The default of the `iid` parameter will change from True to False in version 0.22 and will be removed in 0.24. This will change numeric results when test-set sizes are unequal.\n",
      "  DeprecationWarning)\n",
      "[Parallel(n_jobs=-1)]: Using backend LokyBackend with 4 concurrent workers.\n"
     ]
    },
    {
     "name": "stdout",
     "output_type": "stream",
     "text": [
      "Games predicted: 245\n",
      "\n",
      "\n",
      "Now Starting Simulation Number: 8\n",
      "\n",
      "\n",
      "{'n_estimators': [10, 12, 14, 16, 18, 20, 22, 24, 26, 28], 'loss': ['ls', 'huber'], 'learning_rate': array([0.1, 0.2, 0.3, 0.4, 0.5, 0.6]), 'max_depth': [1, 2, 3, 4]}\n",
      "Fitting 5 folds for each of 480 candidates, totalling 2400 fits\n"
     ]
    },
    {
     "name": "stderr",
     "output_type": "stream",
     "text": [
      "[Parallel(n_jobs=-1)]: Done 104 tasks      | elapsed:    0.8s\n",
      "[Parallel(n_jobs=-1)]: Done 680 tasks      | elapsed:    7.5s\n",
      "[Parallel(n_jobs=-1)]: Done 1640 tasks      | elapsed:   19.8s\n",
      "[Parallel(n_jobs=-1)]: Done 2400 out of 2400 | elapsed:   29.4s finished\n",
      "C:\\Users\\chris\\Anaconda2\\lib\\site-packages\\sklearn\\model_selection\\_search.py:841: DeprecationWarning: The default of the `iid` parameter will change from True to False in version 0.22 and will be removed in 0.24. This will change numeric results when test-set sizes are unequal.\n",
      "  DeprecationWarning)\n",
      "[Parallel(n_jobs=-1)]: Using backend LokyBackend with 4 concurrent workers.\n"
     ]
    },
    {
     "name": "stdout",
     "output_type": "stream",
     "text": [
      "Fitting 5 folds for each of 480 candidates, totalling 2400 fits\n"
     ]
    },
    {
     "name": "stderr",
     "output_type": "stream",
     "text": [
      "[Parallel(n_jobs=-1)]: Done 104 tasks      | elapsed:    0.8s\n",
      "[Parallel(n_jobs=-1)]: Done 680 tasks      | elapsed:    8.1s\n",
      "[Parallel(n_jobs=-1)]: Done 1640 tasks      | elapsed:   22.1s\n",
      "[Parallel(n_jobs=-1)]: Done 2400 out of 2400 | elapsed:   32.7s finished\n",
      "C:\\Users\\chris\\Anaconda2\\lib\\site-packages\\sklearn\\model_selection\\_search.py:841: DeprecationWarning: The default of the `iid` parameter will change from True to False in version 0.22 and will be removed in 0.24. This will change numeric results when test-set sizes are unequal.\n",
      "  DeprecationWarning)\n",
      "[Parallel(n_jobs=-1)]: Using backend LokyBackend with 4 concurrent workers.\n"
     ]
    },
    {
     "name": "stdout",
     "output_type": "stream",
     "text": [
      "Games predicted: 245\n",
      "\n",
      "\n",
      "Now Starting Simulation Number: 9\n",
      "\n",
      "\n",
      "{'n_estimators': [10, 12, 14, 16, 18, 20, 22, 24, 26, 28], 'loss': ['ls', 'huber'], 'learning_rate': array([0.1, 0.2, 0.3, 0.4, 0.5, 0.6]), 'max_depth': [1, 2, 3, 4]}\n",
      "Fitting 5 folds for each of 480 candidates, totalling 2400 fits\n"
     ]
    },
    {
     "name": "stderr",
     "output_type": "stream",
     "text": [
      "[Parallel(n_jobs=-1)]: Done 168 tasks      | elapsed:    1.6s\n",
      "[Parallel(n_jobs=-1)]: Done 1128 tasks      | elapsed:   13.1s\n",
      "[Parallel(n_jobs=-1)]: Done 2400 out of 2400 | elapsed:   28.2s finished\n",
      "C:\\Users\\chris\\Anaconda2\\lib\\site-packages\\sklearn\\model_selection\\_search.py:841: DeprecationWarning: The default of the `iid` parameter will change from True to False in version 0.22 and will be removed in 0.24. This will change numeric results when test-set sizes are unequal.\n",
      "  DeprecationWarning)\n",
      "[Parallel(n_jobs=-1)]: Using backend LokyBackend with 4 concurrent workers.\n"
     ]
    },
    {
     "name": "stdout",
     "output_type": "stream",
     "text": [
      "Fitting 5 folds for each of 480 candidates, totalling 2400 fits\n"
     ]
    },
    {
     "name": "stderr",
     "output_type": "stream",
     "text": [
      "[Parallel(n_jobs=-1)]: Done 136 tasks      | elapsed:    1.3s\n",
      "[Parallel(n_jobs=-1)]: Done 904 tasks      | elapsed:   10.4s\n",
      "[Parallel(n_jobs=-1)]: Done 2184 tasks      | elapsed:   26.0s\n",
      "[Parallel(n_jobs=-1)]: Done 2400 out of 2400 | elapsed:   29.5s finished\n",
      "C:\\Users\\chris\\Anaconda2\\lib\\site-packages\\sklearn\\model_selection\\_search.py:841: DeprecationWarning: The default of the `iid` parameter will change from True to False in version 0.22 and will be removed in 0.24. This will change numeric results when test-set sizes are unequal.\n",
      "  DeprecationWarning)\n",
      "[Parallel(n_jobs=-1)]: Using backend LokyBackend with 4 concurrent workers.\n"
     ]
    },
    {
     "name": "stdout",
     "output_type": "stream",
     "text": [
      "Games predicted: 245\n",
      "\n",
      "\n",
      "Now Starting Simulation Number: 10\n",
      "\n",
      "\n",
      "{'n_estimators': [10, 12, 14, 16, 18, 20, 22, 24, 26, 28], 'loss': ['ls', 'huber'], 'learning_rate': array([0.1, 0.2, 0.3, 0.4, 0.5, 0.6]), 'max_depth': [1, 2, 3, 4]}\n",
      "Fitting 5 folds for each of 480 candidates, totalling 2400 fits\n"
     ]
    },
    {
     "name": "stderr",
     "output_type": "stream",
     "text": [
      "[Parallel(n_jobs=-1)]: Done 120 tasks      | elapsed:    1.0s\n",
      "[Parallel(n_jobs=-1)]: Done 1080 tasks      | elapsed:   13.3s\n",
      "[Parallel(n_jobs=-1)]: Done 2400 out of 2400 | elapsed:   32.4s finished\n",
      "C:\\Users\\chris\\Anaconda2\\lib\\site-packages\\sklearn\\model_selection\\_search.py:841: DeprecationWarning: The default of the `iid` parameter will change from True to False in version 0.22 and will be removed in 0.24. This will change numeric results when test-set sizes are unequal.\n",
      "  DeprecationWarning)\n",
      "[Parallel(n_jobs=-1)]: Using backend LokyBackend with 4 concurrent workers.\n"
     ]
    },
    {
     "name": "stdout",
     "output_type": "stream",
     "text": [
      "Fitting 5 folds for each of 480 candidates, totalling 2400 fits\n"
     ]
    },
    {
     "name": "stderr",
     "output_type": "stream",
     "text": [
      "[Parallel(n_jobs=-1)]: Done 104 tasks      | elapsed:    0.8s\n",
      "[Parallel(n_jobs=-1)]: Done 680 tasks      | elapsed:    7.8s\n",
      "[Parallel(n_jobs=-1)]: Done 1640 tasks      | elapsed:   19.5s\n",
      "[Parallel(n_jobs=-1)]: Done 2400 out of 2400 | elapsed:   28.6s finished\n",
      "C:\\Users\\chris\\Anaconda2\\lib\\site-packages\\sklearn\\model_selection\\_search.py:841: DeprecationWarning: The default of the `iid` parameter will change from True to False in version 0.22 and will be removed in 0.24. This will change numeric results when test-set sizes are unequal.\n",
      "  DeprecationWarning)\n",
      "[Parallel(n_jobs=-1)]: Using backend LokyBackend with 4 concurrent workers.\n"
     ]
    },
    {
     "name": "stdout",
     "output_type": "stream",
     "text": [
      "Games predicted: 245\n",
      "\n",
      "\n",
      "Now Starting Simulation Number: 11\n",
      "\n",
      "\n",
      "{'n_estimators': [10, 12, 14, 16, 18, 20, 22, 24, 26, 28], 'loss': ['ls', 'huber'], 'learning_rate': array([0.1, 0.2, 0.3, 0.4, 0.5, 0.6]), 'max_depth': [1, 2, 3, 4]}\n",
      "Fitting 5 folds for each of 480 candidates, totalling 2400 fits\n"
     ]
    },
    {
     "name": "stderr",
     "output_type": "stream",
     "text": [
      "[Parallel(n_jobs=-1)]: Done 136 tasks      | elapsed:    1.1s\n",
      "[Parallel(n_jobs=-1)]: Done 904 tasks      | elapsed:   10.0s\n",
      "[Parallel(n_jobs=-1)]: Done 2184 tasks      | elapsed:   25.3s\n",
      "[Parallel(n_jobs=-1)]: Done 2400 out of 2400 | elapsed:   28.6s finished\n",
      "C:\\Users\\chris\\Anaconda2\\lib\\site-packages\\sklearn\\model_selection\\_search.py:841: DeprecationWarning: The default of the `iid` parameter will change from True to False in version 0.22 and will be removed in 0.24. This will change numeric results when test-set sizes are unequal.\n",
      "  DeprecationWarning)\n",
      "[Parallel(n_jobs=-1)]: Using backend LokyBackend with 4 concurrent workers.\n"
     ]
    },
    {
     "name": "stdout",
     "output_type": "stream",
     "text": [
      "Fitting 5 folds for each of 480 candidates, totalling 2400 fits\n"
     ]
    },
    {
     "name": "stderr",
     "output_type": "stream",
     "text": [
      "[Parallel(n_jobs=-1)]: Done 136 tasks      | elapsed:    1.2s\n",
      "[Parallel(n_jobs=-1)]: Done 904 tasks      | elapsed:   11.3s\n",
      "[Parallel(n_jobs=-1)]: Done 2184 tasks      | elapsed:   28.7s\n",
      "[Parallel(n_jobs=-1)]: Done 2400 out of 2400 | elapsed:   32.1s finished\n",
      "C:\\Users\\chris\\Anaconda2\\lib\\site-packages\\sklearn\\model_selection\\_search.py:841: DeprecationWarning: The default of the `iid` parameter will change from True to False in version 0.22 and will be removed in 0.24. This will change numeric results when test-set sizes are unequal.\n",
      "  DeprecationWarning)\n",
      "[Parallel(n_jobs=-1)]: Using backend LokyBackend with 4 concurrent workers.\n"
     ]
    },
    {
     "name": "stdout",
     "output_type": "stream",
     "text": [
      "Games predicted: 245\n",
      "\n",
      "\n",
      "Now Starting Simulation Number: 12\n",
      "\n",
      "\n",
      "{'n_estimators': [10, 12, 14, 16, 18, 20, 22, 24, 26, 28], 'loss': ['ls', 'huber'], 'learning_rate': array([0.1, 0.2, 0.3, 0.4, 0.5, 0.6]), 'max_depth': [1, 2, 3, 4]}\n",
      "Fitting 5 folds for each of 480 candidates, totalling 2400 fits\n"
     ]
    },
    {
     "name": "stderr",
     "output_type": "stream",
     "text": [
      "[Parallel(n_jobs=-1)]: Done 104 tasks      | elapsed:    0.8s\n",
      "[Parallel(n_jobs=-1)]: Done 680 tasks      | elapsed:    7.6s\n",
      "[Parallel(n_jobs=-1)]: Done 1640 tasks      | elapsed:   19.3s\n",
      "[Parallel(n_jobs=-1)]: Done 2400 out of 2400 | elapsed:   28.4s finished\n",
      "C:\\Users\\chris\\Anaconda2\\lib\\site-packages\\sklearn\\model_selection\\_search.py:841: DeprecationWarning: The default of the `iid` parameter will change from True to False in version 0.22 and will be removed in 0.24. This will change numeric results when test-set sizes are unequal.\n",
      "  DeprecationWarning)\n",
      "[Parallel(n_jobs=-1)]: Using backend LokyBackend with 4 concurrent workers.\n"
     ]
    },
    {
     "name": "stdout",
     "output_type": "stream",
     "text": [
      "Fitting 5 folds for each of 480 candidates, totalling 2400 fits\n"
     ]
    },
    {
     "name": "stderr",
     "output_type": "stream",
     "text": [
      "[Parallel(n_jobs=-1)]: Done 136 tasks      | elapsed:    1.1s\n",
      "[Parallel(n_jobs=-1)]: Done 904 tasks      | elapsed:   10.1s\n",
      "[Parallel(n_jobs=-1)]: Done 2184 tasks      | elapsed:   25.1s\n",
      "[Parallel(n_jobs=-1)]: Done 2400 out of 2400 | elapsed:   28.2s finished\n",
      "C:\\Users\\chris\\Anaconda2\\lib\\site-packages\\sklearn\\model_selection\\_search.py:841: DeprecationWarning: The default of the `iid` parameter will change from True to False in version 0.22 and will be removed in 0.24. This will change numeric results when test-set sizes are unequal.\n",
      "  DeprecationWarning)\n",
      "[Parallel(n_jobs=-1)]: Using backend LokyBackend with 4 concurrent workers.\n"
     ]
    },
    {
     "name": "stdout",
     "output_type": "stream",
     "text": [
      "Games predicted: 245\n",
      "\n",
      "\n",
      "Now Starting Simulation Number: 13\n",
      "\n",
      "\n",
      "{'n_estimators': [10, 12, 14, 16, 18, 20, 22, 24, 26, 28], 'loss': ['ls', 'huber'], 'learning_rate': array([0.1, 0.2, 0.3, 0.4, 0.5, 0.6]), 'max_depth': [1, 2, 3, 4]}\n",
      "Fitting 5 folds for each of 480 candidates, totalling 2400 fits\n"
     ]
    },
    {
     "name": "stderr",
     "output_type": "stream",
     "text": [
      "[Parallel(n_jobs=-1)]: Done 120 tasks      | elapsed:    0.9s\n",
      "[Parallel(n_jobs=-1)]: Done 1080 tasks      | elapsed:   11.9s\n",
      "[Parallel(n_jobs=-1)]: Done 2400 out of 2400 | elapsed:   28.4s finished\n",
      "C:\\Users\\chris\\Anaconda2\\lib\\site-packages\\sklearn\\model_selection\\_search.py:841: DeprecationWarning: The default of the `iid` parameter will change from True to False in version 0.22 and will be removed in 0.24. This will change numeric results when test-set sizes are unequal.\n",
      "  DeprecationWarning)\n",
      "[Parallel(n_jobs=-1)]: Using backend LokyBackend with 4 concurrent workers.\n"
     ]
    },
    {
     "name": "stdout",
     "output_type": "stream",
     "text": [
      "Fitting 5 folds for each of 480 candidates, totalling 2400 fits\n"
     ]
    },
    {
     "name": "stderr",
     "output_type": "stream",
     "text": [
      "[Parallel(n_jobs=-1)]: Done 104 tasks      | elapsed:    0.8s\n",
      "[Parallel(n_jobs=-1)]: Done 680 tasks      | elapsed:    7.9s\n",
      "[Parallel(n_jobs=-1)]: Done 1640 tasks      | elapsed:   20.0s\n",
      "[Parallel(n_jobs=-1)]: Done 2400 out of 2400 | elapsed:   30.4s finished\n",
      "C:\\Users\\chris\\Anaconda2\\lib\\site-packages\\sklearn\\model_selection\\_search.py:841: DeprecationWarning: The default of the `iid` parameter will change from True to False in version 0.22 and will be removed in 0.24. This will change numeric results when test-set sizes are unequal.\n",
      "  DeprecationWarning)\n"
     ]
    },
    {
     "name": "stdout",
     "output_type": "stream",
     "text": [
      "Games predicted: 245\n",
      "\n",
      "\n",
      "Now Starting Simulation Number: 14\n",
      "\n",
      "\n",
      "{'n_estimators': [10, 12, 14, 16, 18, 20, 22, 24, 26, 28], 'loss': ['ls', 'huber'], 'learning_rate': array([0.1, 0.2, 0.3, 0.4, 0.5, 0.6]), 'max_depth': [1, 2, 3, 4]}\n",
      "Fitting 5 folds for each of 480 candidates, totalling 2400 fits\n"
     ]
    },
    {
     "name": "stderr",
     "output_type": "stream",
     "text": [
      "[Parallel(n_jobs=-1)]: Using backend LokyBackend with 4 concurrent workers.\n",
      "[Parallel(n_jobs=-1)]: Done 104 tasks      | elapsed:    0.9s\n",
      "[Parallel(n_jobs=-1)]: Done 680 tasks      | elapsed:    7.9s\n",
      "[Parallel(n_jobs=-1)]: Done 1640 tasks      | elapsed:   20.9s\n",
      "[Parallel(n_jobs=-1)]: Done 2400 out of 2400 | elapsed:   30.8s finished\n",
      "C:\\Users\\chris\\Anaconda2\\lib\\site-packages\\sklearn\\model_selection\\_search.py:841: DeprecationWarning: The default of the `iid` parameter will change from True to False in version 0.22 and will be removed in 0.24. This will change numeric results when test-set sizes are unequal.\n",
      "  DeprecationWarning)\n",
      "[Parallel(n_jobs=-1)]: Using backend LokyBackend with 4 concurrent workers.\n"
     ]
    },
    {
     "name": "stdout",
     "output_type": "stream",
     "text": [
      "Fitting 5 folds for each of 480 candidates, totalling 2400 fits\n"
     ]
    },
    {
     "name": "stderr",
     "output_type": "stream",
     "text": [
      "[Parallel(n_jobs=-1)]: Done 104 tasks      | elapsed:    0.9s\n",
      "[Parallel(n_jobs=-1)]: Done 680 tasks      | elapsed:    8.4s\n",
      "[Parallel(n_jobs=-1)]: Done 1640 tasks      | elapsed:   21.0s\n",
      "[Parallel(n_jobs=-1)]: Done 2400 out of 2400 | elapsed:   30.6s finished\n",
      "C:\\Users\\chris\\Anaconda2\\lib\\site-packages\\sklearn\\model_selection\\_search.py:841: DeprecationWarning: The default of the `iid` parameter will change from True to False in version 0.22 and will be removed in 0.24. This will change numeric results when test-set sizes are unequal.\n",
      "  DeprecationWarning)\n"
     ]
    },
    {
     "name": "stdout",
     "output_type": "stream",
     "text": [
      "Games predicted: 245\n",
      "\n",
      "\n",
      "Now Starting Simulation Number: 15\n",
      "\n",
      "\n",
      "{'n_estimators': [10, 12, 14, 16, 18, 20, 22, 24, 26, 28], 'loss': ['ls', 'huber'], 'learning_rate': array([0.1, 0.2, 0.3, 0.4, 0.5, 0.6]), 'max_depth': [1, 2, 3, 4]}\n",
      "Fitting 5 folds for each of 480 candidates, totalling 2400 fits\n"
     ]
    },
    {
     "name": "stderr",
     "output_type": "stream",
     "text": [
      "[Parallel(n_jobs=-1)]: Using backend LokyBackend with 4 concurrent workers.\n",
      "[Parallel(n_jobs=-1)]: Done 104 tasks      | elapsed:    1.1s\n",
      "[Parallel(n_jobs=-1)]: Done 872 tasks      | elapsed:   10.4s\n",
      "[Parallel(n_jobs=-1)]: Done 2152 tasks      | elapsed:   25.0s\n",
      "[Parallel(n_jobs=-1)]: Done 2400 out of 2400 | elapsed:   29.1s finished\n",
      "C:\\Users\\chris\\Anaconda2\\lib\\site-packages\\sklearn\\model_selection\\_search.py:841: DeprecationWarning: The default of the `iid` parameter will change from True to False in version 0.22 and will be removed in 0.24. This will change numeric results when test-set sizes are unequal.\n",
      "  DeprecationWarning)\n"
     ]
    },
    {
     "name": "stdout",
     "output_type": "stream",
     "text": [
      "Fitting 5 folds for each of 480 candidates, totalling 2400 fits\n"
     ]
    },
    {
     "name": "stderr",
     "output_type": "stream",
     "text": [
      "[Parallel(n_jobs=-1)]: Using backend LokyBackend with 4 concurrent workers.\n",
      "[Parallel(n_jobs=-1)]: Done  72 tasks      | elapsed:    0.8s\n",
      "[Parallel(n_jobs=-1)]: Done 456 tasks      | elapsed:    6.6s\n",
      "[Parallel(n_jobs=-1)]: Done 1096 tasks      | elapsed:   14.3s\n",
      "[Parallel(n_jobs=-1)]: Done 1992 tasks      | elapsed:   26.6s\n",
      "[Parallel(n_jobs=-1)]: Done 2400 out of 2400 | elapsed:   32.7s finished\n",
      "C:\\Users\\chris\\Anaconda2\\lib\\site-packages\\sklearn\\model_selection\\_search.py:841: DeprecationWarning: The default of the `iid` parameter will change from True to False in version 0.22 and will be removed in 0.24. This will change numeric results when test-set sizes are unequal.\n",
      "  DeprecationWarning)\n"
     ]
    },
    {
     "name": "stdout",
     "output_type": "stream",
     "text": [
      "Games predicted: 245\n",
      "\n",
      "\n",
      "Now Starting Simulation Number: 16\n",
      "\n",
      "\n",
      "{'n_estimators': [10, 12, 14, 16, 18, 20, 22, 24, 26, 28], 'loss': ['ls', 'huber'], 'learning_rate': array([0.1, 0.2, 0.3, 0.4, 0.5, 0.6]), 'max_depth': [1, 2, 3, 4]}\n",
      "Fitting 5 folds for each of 480 candidates, totalling 2400 fits\n"
     ]
    },
    {
     "name": "stderr",
     "output_type": "stream",
     "text": [
      "[Parallel(n_jobs=-1)]: Using backend LokyBackend with 4 concurrent workers.\n",
      "[Parallel(n_jobs=-1)]: Done  72 tasks      | elapsed:    0.8s\n",
      "[Parallel(n_jobs=-1)]: Done 456 tasks      | elapsed:    5.6s\n",
      "[Parallel(n_jobs=-1)]: Done 1096 tasks      | elapsed:   12.9s\n",
      "[Parallel(n_jobs=-1)]: Done 1992 tasks      | elapsed:   24.0s\n",
      "[Parallel(n_jobs=-1)]: Done 2400 out of 2400 | elapsed:   29.2s finished\n",
      "C:\\Users\\chris\\Anaconda2\\lib\\site-packages\\sklearn\\model_selection\\_search.py:841: DeprecationWarning: The default of the `iid` parameter will change from True to False in version 0.22 and will be removed in 0.24. This will change numeric results when test-set sizes are unequal.\n",
      "  DeprecationWarning)\n",
      "[Parallel(n_jobs=-1)]: Using backend LokyBackend with 4 concurrent workers.\n"
     ]
    },
    {
     "name": "stdout",
     "output_type": "stream",
     "text": [
      "Fitting 5 folds for each of 480 candidates, totalling 2400 fits\n"
     ]
    },
    {
     "name": "stderr",
     "output_type": "stream",
     "text": [
      "[Parallel(n_jobs=-1)]: Done 136 tasks      | elapsed:    1.1s\n",
      "[Parallel(n_jobs=-1)]: Done 904 tasks      | elapsed:   10.1s\n",
      "[Parallel(n_jobs=-1)]: Done 2184 tasks      | elapsed:   25.7s\n",
      "[Parallel(n_jobs=-1)]: Done 2400 out of 2400 | elapsed:   29.3s finished\n",
      "C:\\Users\\chris\\Anaconda2\\lib\\site-packages\\sklearn\\model_selection\\_search.py:841: DeprecationWarning: The default of the `iid` parameter will change from True to False in version 0.22 and will be removed in 0.24. This will change numeric results when test-set sizes are unequal.\n",
      "  DeprecationWarning)\n",
      "[Parallel(n_jobs=-1)]: Using backend LokyBackend with 4 concurrent workers.\n"
     ]
    },
    {
     "name": "stdout",
     "output_type": "stream",
     "text": [
      "Games predicted: 245\n",
      "\n",
      "\n",
      "Now Starting Simulation Number: 17\n",
      "\n",
      "\n",
      "{'n_estimators': [10, 12, 14, 16, 18, 20, 22, 24, 26, 28], 'loss': ['ls', 'huber'], 'learning_rate': array([0.1, 0.2, 0.3, 0.4, 0.5, 0.6]), 'max_depth': [1, 2, 3, 4]}\n",
      "Fitting 5 folds for each of 480 candidates, totalling 2400 fits\n"
     ]
    },
    {
     "name": "stderr",
     "output_type": "stream",
     "text": [
      "[Parallel(n_jobs=-1)]: Done 104 tasks      | elapsed:    0.8s\n",
      "[Parallel(n_jobs=-1)]: Done 680 tasks      | elapsed:    7.8s\n",
      "[Parallel(n_jobs=-1)]: Done 1640 tasks      | elapsed:   19.4s\n",
      "[Parallel(n_jobs=-1)]: Done 2400 out of 2400 | elapsed:   28.3s finished\n",
      "C:\\Users\\chris\\Anaconda2\\lib\\site-packages\\sklearn\\model_selection\\_search.py:841: DeprecationWarning: The default of the `iid` parameter will change from True to False in version 0.22 and will be removed in 0.24. This will change numeric results when test-set sizes are unequal.\n",
      "  DeprecationWarning)\n",
      "[Parallel(n_jobs=-1)]: Using backend LokyBackend with 4 concurrent workers.\n"
     ]
    },
    {
     "name": "stdout",
     "output_type": "stream",
     "text": [
      "Fitting 5 folds for each of 480 candidates, totalling 2400 fits\n"
     ]
    },
    {
     "name": "stderr",
     "output_type": "stream",
     "text": [
      "[Parallel(n_jobs=-1)]: Done 104 tasks      | elapsed:    0.8s\n",
      "[Parallel(n_jobs=-1)]: Done 680 tasks      | elapsed:    7.2s\n",
      "[Parallel(n_jobs=-1)]: Done 1640 tasks      | elapsed:   18.8s\n",
      "[Parallel(n_jobs=-1)]: Done 2400 out of 2400 | elapsed:   28.4s finished\n",
      "C:\\Users\\chris\\Anaconda2\\lib\\site-packages\\sklearn\\model_selection\\_search.py:841: DeprecationWarning: The default of the `iid` parameter will change from True to False in version 0.22 and will be removed in 0.24. This will change numeric results when test-set sizes are unequal.\n",
      "  DeprecationWarning)\n",
      "[Parallel(n_jobs=-1)]: Using backend LokyBackend with 4 concurrent workers.\n"
     ]
    },
    {
     "name": "stdout",
     "output_type": "stream",
     "text": [
      "Games predicted: 245\n",
      "\n",
      "\n",
      "Now Starting Simulation Number: 18\n",
      "\n",
      "\n",
      "{'n_estimators': [10, 12, 14, 16, 18, 20, 22, 24, 26, 28], 'loss': ['ls', 'huber'], 'learning_rate': array([0.1, 0.2, 0.3, 0.4, 0.5, 0.6]), 'max_depth': [1, 2, 3, 4]}\n",
      "Fitting 5 folds for each of 480 candidates, totalling 2400 fits\n"
     ]
    },
    {
     "name": "stderr",
     "output_type": "stream",
     "text": [
      "[Parallel(n_jobs=-1)]: Done 136 tasks      | elapsed:    1.2s\n",
      "[Parallel(n_jobs=-1)]: Done 904 tasks      | elapsed:   11.5s\n",
      "[Parallel(n_jobs=-1)]: Done 2184 tasks      | elapsed:   27.6s\n",
      "[Parallel(n_jobs=-1)]: Done 2400 out of 2400 | elapsed:   30.9s finished\n",
      "C:\\Users\\chris\\Anaconda2\\lib\\site-packages\\sklearn\\model_selection\\_search.py:841: DeprecationWarning: The default of the `iid` parameter will change from True to False in version 0.22 and will be removed in 0.24. This will change numeric results when test-set sizes are unequal.\n",
      "  DeprecationWarning)\n",
      "[Parallel(n_jobs=-1)]: Using backend LokyBackend with 4 concurrent workers.\n"
     ]
    },
    {
     "name": "stdout",
     "output_type": "stream",
     "text": [
      "Fitting 5 folds for each of 480 candidates, totalling 2400 fits\n"
     ]
    },
    {
     "name": "stderr",
     "output_type": "stream",
     "text": [
      "[Parallel(n_jobs=-1)]: Done 136 tasks      | elapsed:    1.1s\n",
      "[Parallel(n_jobs=-1)]: Done 904 tasks      | elapsed:    9.9s\n",
      "[Parallel(n_jobs=-1)]: Done 2184 tasks      | elapsed:   24.5s\n",
      "[Parallel(n_jobs=-1)]: Done 2400 out of 2400 | elapsed:   27.9s finished\n",
      "C:\\Users\\chris\\Anaconda2\\lib\\site-packages\\sklearn\\model_selection\\_search.py:841: DeprecationWarning: The default of the `iid` parameter will change from True to False in version 0.22 and will be removed in 0.24. This will change numeric results when test-set sizes are unequal.\n",
      "  DeprecationWarning)\n",
      "[Parallel(n_jobs=-1)]: Using backend LokyBackend with 4 concurrent workers.\n"
     ]
    },
    {
     "name": "stdout",
     "output_type": "stream",
     "text": [
      "Games predicted: 245\n",
      "\n",
      "\n",
      "Now Starting Simulation Number: 19\n",
      "\n",
      "\n",
      "{'n_estimators': [10, 12, 14, 16, 18, 20, 22, 24, 26, 28], 'loss': ['ls', 'huber'], 'learning_rate': array([0.1, 0.2, 0.3, 0.4, 0.5, 0.6]), 'max_depth': [1, 2, 3, 4]}\n",
      "Fitting 5 folds for each of 480 candidates, totalling 2400 fits\n"
     ]
    },
    {
     "name": "stderr",
     "output_type": "stream",
     "text": [
      "[Parallel(n_jobs=-1)]: Done 152 tasks      | elapsed:    1.5s\n",
      "[Parallel(n_jobs=-1)]: Done 1496 tasks      | elapsed:   17.7s\n",
      "[Parallel(n_jobs=-1)]: Done 2400 out of 2400 | elapsed:   30.0s finished\n",
      "C:\\Users\\chris\\Anaconda2\\lib\\site-packages\\sklearn\\model_selection\\_search.py:841: DeprecationWarning: The default of the `iid` parameter will change from True to False in version 0.22 and will be removed in 0.24. This will change numeric results when test-set sizes are unequal.\n",
      "  DeprecationWarning)\n",
      "[Parallel(n_jobs=-1)]: Using backend LokyBackend with 4 concurrent workers.\n"
     ]
    },
    {
     "name": "stdout",
     "output_type": "stream",
     "text": [
      "Fitting 5 folds for each of 480 candidates, totalling 2400 fits\n"
     ]
    },
    {
     "name": "stderr",
     "output_type": "stream",
     "text": [
      "[Parallel(n_jobs=-1)]: Done 136 tasks      | elapsed:    1.5s\n",
      "[Parallel(n_jobs=-1)]: Done 904 tasks      | elapsed:   11.7s\n",
      "[Parallel(n_jobs=-1)]: Done 2184 tasks      | elapsed:   26.6s\n",
      "[Parallel(n_jobs=-1)]: Done 2400 out of 2400 | elapsed:   29.9s finished\n",
      "C:\\Users\\chris\\Anaconda2\\lib\\site-packages\\sklearn\\model_selection\\_search.py:841: DeprecationWarning: The default of the `iid` parameter will change from True to False in version 0.22 and will be removed in 0.24. This will change numeric results when test-set sizes are unequal.\n",
      "  DeprecationWarning)\n",
      "[Parallel(n_jobs=-1)]: Using backend LokyBackend with 4 concurrent workers.\n"
     ]
    },
    {
     "name": "stdout",
     "output_type": "stream",
     "text": [
      "Games predicted: 245\n",
      "\n",
      "\n",
      "Now Starting Simulation Number: 20\n",
      "\n",
      "\n",
      "{'n_estimators': [10, 12, 14, 16, 18, 20, 22, 24, 26, 28], 'loss': ['ls', 'huber'], 'learning_rate': array([0.1, 0.2, 0.3, 0.4, 0.5, 0.6]), 'max_depth': [1, 2, 3, 4]}\n",
      "Fitting 5 folds for each of 480 candidates, totalling 2400 fits\n"
     ]
    },
    {
     "name": "stderr",
     "output_type": "stream",
     "text": [
      "[Parallel(n_jobs=-1)]: Done 152 tasks      | elapsed:    1.3s\n",
      "[Parallel(n_jobs=-1)]: Done 1304 tasks      | elapsed:   14.7s\n",
      "[Parallel(n_jobs=-1)]: Done 2400 out of 2400 | elapsed:   28.0s finished\n",
      "C:\\Users\\chris\\Anaconda2\\lib\\site-packages\\sklearn\\model_selection\\_search.py:841: DeprecationWarning: The default of the `iid` parameter will change from True to False in version 0.22 and will be removed in 0.24. This will change numeric results when test-set sizes are unequal.\n",
      "  DeprecationWarning)\n",
      "[Parallel(n_jobs=-1)]: Using backend LokyBackend with 4 concurrent workers.\n"
     ]
    },
    {
     "name": "stdout",
     "output_type": "stream",
     "text": [
      "Fitting 5 folds for each of 480 candidates, totalling 2400 fits\n"
     ]
    },
    {
     "name": "stderr",
     "output_type": "stream",
     "text": [
      "[Parallel(n_jobs=-1)]: Done 104 tasks      | elapsed:    0.8s\n",
      "[Parallel(n_jobs=-1)]: Done 680 tasks      | elapsed:    7.6s\n",
      "[Parallel(n_jobs=-1)]: Done 1640 tasks      | elapsed:   20.1s\n",
      "[Parallel(n_jobs=-1)]: Done 2400 out of 2400 | elapsed:   29.9s finished\n",
      "C:\\Users\\chris\\Anaconda2\\lib\\site-packages\\sklearn\\model_selection\\_search.py:841: DeprecationWarning: The default of the `iid` parameter will change from True to False in version 0.22 and will be removed in 0.24. This will change numeric results when test-set sizes are unequal.\n",
      "  DeprecationWarning)\n",
      "[Parallel(n_jobs=-1)]: Using backend LokyBackend with 4 concurrent workers.\n"
     ]
    },
    {
     "name": "stdout",
     "output_type": "stream",
     "text": [
      "Games predicted: 245\n",
      "\n",
      "\n",
      "Now Starting Simulation Number: 21\n",
      "\n",
      "\n",
      "{'n_estimators': [10, 12, 14, 16, 18, 20, 22, 24, 26, 28], 'loss': ['ls', 'huber'], 'learning_rate': array([0.1, 0.2, 0.3, 0.4, 0.5, 0.6]), 'max_depth': [1, 2, 3, 4]}\n",
      "Fitting 5 folds for each of 480 candidates, totalling 2400 fits\n"
     ]
    },
    {
     "name": "stderr",
     "output_type": "stream",
     "text": [
      "[Parallel(n_jobs=-1)]: Done 136 tasks      | elapsed:    1.2s\n",
      "[Parallel(n_jobs=-1)]: Done 904 tasks      | elapsed:   10.4s\n",
      "[Parallel(n_jobs=-1)]: Done 2184 tasks      | elapsed:   25.0s\n",
      "[Parallel(n_jobs=-1)]: Done 2400 out of 2400 | elapsed:   28.1s finished\n",
      "C:\\Users\\chris\\Anaconda2\\lib\\site-packages\\sklearn\\model_selection\\_search.py:841: DeprecationWarning: The default of the `iid` parameter will change from True to False in version 0.22 and will be removed in 0.24. This will change numeric results when test-set sizes are unequal.\n",
      "  DeprecationWarning)\n",
      "[Parallel(n_jobs=-1)]: Using backend LokyBackend with 4 concurrent workers.\n"
     ]
    },
    {
     "name": "stdout",
     "output_type": "stream",
     "text": [
      "Fitting 5 folds for each of 480 candidates, totalling 2400 fits\n"
     ]
    },
    {
     "name": "stderr",
     "output_type": "stream",
     "text": [
      "[Parallel(n_jobs=-1)]: Done 104 tasks      | elapsed:    0.7s\n",
      "[Parallel(n_jobs=-1)]: Done 680 tasks      | elapsed:    7.3s\n",
      "[Parallel(n_jobs=-1)]: Done 1640 tasks      | elapsed:   19.6s\n",
      "[Parallel(n_jobs=-1)]: Done 2400 out of 2400 | elapsed:   29.6s finished\n",
      "C:\\Users\\chris\\Anaconda2\\lib\\site-packages\\sklearn\\model_selection\\_search.py:841: DeprecationWarning: The default of the `iid` parameter will change from True to False in version 0.22 and will be removed in 0.24. This will change numeric results when test-set sizes are unequal.\n",
      "  DeprecationWarning)\n",
      "[Parallel(n_jobs=-1)]: Using backend LokyBackend with 4 concurrent workers.\n"
     ]
    },
    {
     "name": "stdout",
     "output_type": "stream",
     "text": [
      "Games predicted: 245\n",
      "\n",
      "\n",
      "Now Starting Simulation Number: 22\n",
      "\n",
      "\n",
      "{'n_estimators': [10, 12, 14, 16, 18, 20, 22, 24, 26, 28], 'loss': ['ls', 'huber'], 'learning_rate': array([0.1, 0.2, 0.3, 0.4, 0.5, 0.6]), 'max_depth': [1, 2, 3, 4]}\n",
      "Fitting 5 folds for each of 480 candidates, totalling 2400 fits\n"
     ]
    },
    {
     "name": "stderr",
     "output_type": "stream",
     "text": [
      "[Parallel(n_jobs=-1)]: Done 136 tasks      | elapsed:    1.3s\n",
      "[Parallel(n_jobs=-1)]: Done 1288 tasks      | elapsed:   16.2s\n",
      "[Parallel(n_jobs=-1)]: Done 2400 out of 2400 | elapsed:   29.4s finished\n",
      "C:\\Users\\chris\\Anaconda2\\lib\\site-packages\\sklearn\\model_selection\\_search.py:841: DeprecationWarning: The default of the `iid` parameter will change from True to False in version 0.22 and will be removed in 0.24. This will change numeric results when test-set sizes are unequal.\n",
      "  DeprecationWarning)\n",
      "[Parallel(n_jobs=-1)]: Using backend LokyBackend with 4 concurrent workers.\n"
     ]
    },
    {
     "name": "stdout",
     "output_type": "stream",
     "text": [
      "Fitting 5 folds for each of 480 candidates, totalling 2400 fits\n"
     ]
    },
    {
     "name": "stderr",
     "output_type": "stream",
     "text": [
      "[Parallel(n_jobs=-1)]: Done 136 tasks      | elapsed:    1.1s\n",
      "[Parallel(n_jobs=-1)]: Done 904 tasks      | elapsed:   10.0s\n",
      "[Parallel(n_jobs=-1)]: Done 2184 tasks      | elapsed:   24.7s\n",
      "[Parallel(n_jobs=-1)]: Done 2400 out of 2400 | elapsed:   28.0s finished\n",
      "C:\\Users\\chris\\Anaconda2\\lib\\site-packages\\sklearn\\model_selection\\_search.py:841: DeprecationWarning: The default of the `iid` parameter will change from True to False in version 0.22 and will be removed in 0.24. This will change numeric results when test-set sizes are unequal.\n",
      "  DeprecationWarning)\n",
      "[Parallel(n_jobs=-1)]: Using backend LokyBackend with 4 concurrent workers.\n"
     ]
    },
    {
     "name": "stdout",
     "output_type": "stream",
     "text": [
      "Games predicted: 245\n",
      "\n",
      "\n",
      "Now Starting Simulation Number: 23\n",
      "\n",
      "\n",
      "{'n_estimators': [10, 12, 14, 16, 18, 20, 22, 24, 26, 28], 'loss': ['ls', 'huber'], 'learning_rate': array([0.1, 0.2, 0.3, 0.4, 0.5, 0.6]), 'max_depth': [1, 2, 3, 4]}\n",
      "Fitting 5 folds for each of 480 candidates, totalling 2400 fits\n"
     ]
    },
    {
     "name": "stderr",
     "output_type": "stream",
     "text": [
      "[Parallel(n_jobs=-1)]: Done 136 tasks      | elapsed:    1.6s\n",
      "[Parallel(n_jobs=-1)]: Done 904 tasks      | elapsed:   12.7s\n",
      "[Parallel(n_jobs=-1)]: Done 2184 tasks      | elapsed:   29.6s\n",
      "[Parallel(n_jobs=-1)]: Done 2400 out of 2400 | elapsed:   32.9s finished\n",
      "C:\\Users\\chris\\Anaconda2\\lib\\site-packages\\sklearn\\model_selection\\_search.py:841: DeprecationWarning: The default of the `iid` parameter will change from True to False in version 0.22 and will be removed in 0.24. This will change numeric results when test-set sizes are unequal.\n",
      "  DeprecationWarning)\n",
      "[Parallel(n_jobs=-1)]: Using backend LokyBackend with 4 concurrent workers.\n"
     ]
    },
    {
     "name": "stdout",
     "output_type": "stream",
     "text": [
      "Fitting 5 folds for each of 480 candidates, totalling 2400 fits\n"
     ]
    },
    {
     "name": "stderr",
     "output_type": "stream",
     "text": [
      "[Parallel(n_jobs=-1)]: Done 152 tasks      | elapsed:    1.4s\n",
      "[Parallel(n_jobs=-1)]: Done 1304 tasks      | elapsed:   14.7s\n",
      "[Parallel(n_jobs=-1)]: Done 2400 out of 2400 | elapsed:   27.6s finished\n",
      "C:\\Users\\chris\\Anaconda2\\lib\\site-packages\\sklearn\\model_selection\\_search.py:841: DeprecationWarning: The default of the `iid` parameter will change from True to False in version 0.22 and will be removed in 0.24. This will change numeric results when test-set sizes are unequal.\n",
      "  DeprecationWarning)\n",
      "[Parallel(n_jobs=-1)]: Using backend LokyBackend with 4 concurrent workers.\n"
     ]
    },
    {
     "name": "stdout",
     "output_type": "stream",
     "text": [
      "Games predicted: 245\n",
      "\n",
      "\n",
      "Now Starting Simulation Number: 24\n",
      "\n",
      "\n",
      "{'n_estimators': [10, 12, 14, 16, 18, 20, 22, 24, 26, 28], 'loss': ['ls', 'huber'], 'learning_rate': array([0.1, 0.2, 0.3, 0.4, 0.5, 0.6]), 'max_depth': [1, 2, 3, 4]}\n",
      "Fitting 5 folds for each of 480 candidates, totalling 2400 fits\n"
     ]
    },
    {
     "name": "stderr",
     "output_type": "stream",
     "text": [
      "[Parallel(n_jobs=-1)]: Done 136 tasks      | elapsed:    1.1s\n",
      "[Parallel(n_jobs=-1)]: Done 904 tasks      | elapsed:   10.4s\n",
      "[Parallel(n_jobs=-1)]: Done 2184 tasks      | elapsed:   26.2s\n",
      "[Parallel(n_jobs=-1)]: Done 2400 out of 2400 | elapsed:   29.9s finished\n",
      "C:\\Users\\chris\\Anaconda2\\lib\\site-packages\\sklearn\\model_selection\\_search.py:841: DeprecationWarning: The default of the `iid` parameter will change from True to False in version 0.22 and will be removed in 0.24. This will change numeric results when test-set sizes are unequal.\n",
      "  DeprecationWarning)\n",
      "[Parallel(n_jobs=-1)]: Using backend LokyBackend with 4 concurrent workers.\n"
     ]
    },
    {
     "name": "stdout",
     "output_type": "stream",
     "text": [
      "Fitting 5 folds for each of 480 candidates, totalling 2400 fits\n"
     ]
    },
    {
     "name": "stderr",
     "output_type": "stream",
     "text": [
      "[Parallel(n_jobs=-1)]: Done 104 tasks      | elapsed:    0.9s\n",
      "[Parallel(n_jobs=-1)]: Done 680 tasks      | elapsed:    8.3s\n",
      "[Parallel(n_jobs=-1)]: Done 1640 tasks      | elapsed:   22.0s\n",
      "[Parallel(n_jobs=-1)]: Done 2400 out of 2400 | elapsed:   31.6s finished\n",
      "C:\\Users\\chris\\Anaconda2\\lib\\site-packages\\sklearn\\model_selection\\_search.py:841: DeprecationWarning: The default of the `iid` parameter will change from True to False in version 0.22 and will be removed in 0.24. This will change numeric results when test-set sizes are unequal.\n",
      "  DeprecationWarning)\n",
      "[Parallel(n_jobs=-1)]: Using backend LokyBackend with 4 concurrent workers.\n"
     ]
    },
    {
     "name": "stdout",
     "output_type": "stream",
     "text": [
      "Games predicted: 245\n",
      "\n",
      "\n",
      "Now Starting Simulation Number: 25\n",
      "\n",
      "\n",
      "{'n_estimators': [10, 12, 14, 16, 18, 20, 22, 24, 26, 28], 'loss': ['ls', 'huber'], 'learning_rate': array([0.1, 0.2, 0.3, 0.4, 0.5, 0.6]), 'max_depth': [1, 2, 3, 4]}\n",
      "Fitting 5 folds for each of 480 candidates, totalling 2400 fits\n"
     ]
    },
    {
     "name": "stderr",
     "output_type": "stream",
     "text": [
      "[Parallel(n_jobs=-1)]: Done 136 tasks      | elapsed:    1.1s\n",
      "[Parallel(n_jobs=-1)]: Done 904 tasks      | elapsed:   10.5s\n",
      "[Parallel(n_jobs=-1)]: Done 2184 tasks      | elapsed:   25.5s\n",
      "[Parallel(n_jobs=-1)]: Done 2400 out of 2400 | elapsed:   28.9s finished\n",
      "C:\\Users\\chris\\Anaconda2\\lib\\site-packages\\sklearn\\model_selection\\_search.py:841: DeprecationWarning: The default of the `iid` parameter will change from True to False in version 0.22 and will be removed in 0.24. This will change numeric results when test-set sizes are unequal.\n",
      "  DeprecationWarning)\n",
      "[Parallel(n_jobs=-1)]: Using backend LokyBackend with 4 concurrent workers.\n"
     ]
    },
    {
     "name": "stdout",
     "output_type": "stream",
     "text": [
      "Fitting 5 folds for each of 480 candidates, totalling 2400 fits\n"
     ]
    },
    {
     "name": "stderr",
     "output_type": "stream",
     "text": [
      "[Parallel(n_jobs=-1)]: Done 104 tasks      | elapsed:    0.9s\n",
      "[Parallel(n_jobs=-1)]: Done 680 tasks      | elapsed:    7.6s\n",
      "[Parallel(n_jobs=-1)]: Done 1640 tasks      | elapsed:   19.9s\n",
      "[Parallel(n_jobs=-1)]: Done 2400 out of 2400 | elapsed:   30.2s finished\n",
      "C:\\Users\\chris\\Anaconda2\\lib\\site-packages\\sklearn\\model_selection\\_search.py:841: DeprecationWarning: The default of the `iid` parameter will change from True to False in version 0.22 and will be removed in 0.24. This will change numeric results when test-set sizes are unequal.\n",
      "  DeprecationWarning)\n",
      "[Parallel(n_jobs=-1)]: Using backend LokyBackend with 4 concurrent workers.\n"
     ]
    },
    {
     "name": "stdout",
     "output_type": "stream",
     "text": [
      "Games predicted: 245\n",
      "\n",
      "\n",
      "Now Starting Simulation Number: 26\n",
      "\n",
      "\n",
      "{'n_estimators': [10, 12, 14, 16, 18, 20, 22, 24, 26, 28], 'loss': ['ls', 'huber'], 'learning_rate': array([0.1, 0.2, 0.3, 0.4, 0.5, 0.6]), 'max_depth': [1, 2, 3, 4]}\n",
      "Fitting 5 folds for each of 480 candidates, totalling 2400 fits\n"
     ]
    },
    {
     "name": "stderr",
     "output_type": "stream",
     "text": [
      "[Parallel(n_jobs=-1)]: Done 136 tasks      | elapsed:    1.3s\n",
      "[Parallel(n_jobs=-1)]: Done 904 tasks      | elapsed:   11.6s\n",
      "[Parallel(n_jobs=-1)]: Done 2184 tasks      | elapsed:   27.3s\n",
      "[Parallel(n_jobs=-1)]: Done 2400 out of 2400 | elapsed:   30.5s finished\n",
      "C:\\Users\\chris\\Anaconda2\\lib\\site-packages\\sklearn\\model_selection\\_search.py:841: DeprecationWarning: The default of the `iid` parameter will change from True to False in version 0.22 and will be removed in 0.24. This will change numeric results when test-set sizes are unequal.\n",
      "  DeprecationWarning)\n",
      "[Parallel(n_jobs=-1)]: Using backend LokyBackend with 4 concurrent workers.\n"
     ]
    },
    {
     "name": "stdout",
     "output_type": "stream",
     "text": [
      "Fitting 5 folds for each of 480 candidates, totalling 2400 fits\n"
     ]
    },
    {
     "name": "stderr",
     "output_type": "stream",
     "text": [
      "[Parallel(n_jobs=-1)]: Done 104 tasks      | elapsed:    0.7s\n",
      "[Parallel(n_jobs=-1)]: Done 680 tasks      | elapsed:    7.1s\n",
      "[Parallel(n_jobs=-1)]: Done 1640 tasks      | elapsed:   18.4s\n",
      "[Parallel(n_jobs=-1)]: Done 2400 out of 2400 | elapsed:   27.4s finished\n",
      "C:\\Users\\chris\\Anaconda2\\lib\\site-packages\\sklearn\\model_selection\\_search.py:841: DeprecationWarning: The default of the `iid` parameter will change from True to False in version 0.22 and will be removed in 0.24. This will change numeric results when test-set sizes are unequal.\n",
      "  DeprecationWarning)\n",
      "[Parallel(n_jobs=-1)]: Using backend LokyBackend with 4 concurrent workers.\n"
     ]
    },
    {
     "name": "stdout",
     "output_type": "stream",
     "text": [
      "Games predicted: 245\n",
      "\n",
      "\n",
      "Now Starting Simulation Number: 27\n",
      "\n",
      "\n",
      "{'n_estimators': [10, 12, 14, 16, 18, 20, 22, 24, 26, 28], 'loss': ['ls', 'huber'], 'learning_rate': array([0.1, 0.2, 0.3, 0.4, 0.5, 0.6]), 'max_depth': [1, 2, 3, 4]}\n",
      "Fitting 5 folds for each of 480 candidates, totalling 2400 fits\n"
     ]
    },
    {
     "name": "stderr",
     "output_type": "stream",
     "text": [
      "[Parallel(n_jobs=-1)]: Done 136 tasks      | elapsed:    1.2s\n",
      "[Parallel(n_jobs=-1)]: Done 904 tasks      | elapsed:   10.5s\n",
      "[Parallel(n_jobs=-1)]: Done 2184 tasks      | elapsed:   26.8s\n",
      "[Parallel(n_jobs=-1)]: Done 2400 out of 2400 | elapsed:   31.1s finished\n",
      "C:\\Users\\chris\\Anaconda2\\lib\\site-packages\\sklearn\\model_selection\\_search.py:841: DeprecationWarning: The default of the `iid` parameter will change from True to False in version 0.22 and will be removed in 0.24. This will change numeric results when test-set sizes are unequal.\n",
      "  DeprecationWarning)\n",
      "[Parallel(n_jobs=-1)]: Using backend LokyBackend with 4 concurrent workers.\n"
     ]
    },
    {
     "name": "stdout",
     "output_type": "stream",
     "text": [
      "Fitting 5 folds for each of 480 candidates, totalling 2400 fits\n"
     ]
    },
    {
     "name": "stderr",
     "output_type": "stream",
     "text": [
      "[Parallel(n_jobs=-1)]: Done 136 tasks      | elapsed:    2.0s\n",
      "[Parallel(n_jobs=-1)]: Done 904 tasks      | elapsed:   14.8s\n",
      "[Parallel(n_jobs=-1)]: Done 2184 tasks      | elapsed:   29.5s\n",
      "[Parallel(n_jobs=-1)]: Done 2400 out of 2400 | elapsed:   32.7s finished\n",
      "C:\\Users\\chris\\Anaconda2\\lib\\site-packages\\sklearn\\model_selection\\_search.py:841: DeprecationWarning: The default of the `iid` parameter will change from True to False in version 0.22 and will be removed in 0.24. This will change numeric results when test-set sizes are unequal.\n",
      "  DeprecationWarning)\n",
      "[Parallel(n_jobs=-1)]: Using backend LokyBackend with 4 concurrent workers.\n"
     ]
    },
    {
     "name": "stdout",
     "output_type": "stream",
     "text": [
      "Games predicted: 245\n",
      "\n",
      "\n",
      "Now Starting Simulation Number: 28\n",
      "\n",
      "\n",
      "{'n_estimators': [10, 12, 14, 16, 18, 20, 22, 24, 26, 28], 'loss': ['ls', 'huber'], 'learning_rate': array([0.1, 0.2, 0.3, 0.4, 0.5, 0.6]), 'max_depth': [1, 2, 3, 4]}\n",
      "Fitting 5 folds for each of 480 candidates, totalling 2400 fits\n"
     ]
    },
    {
     "name": "stderr",
     "output_type": "stream",
     "text": [
      "[Parallel(n_jobs=-1)]: Done 104 tasks      | elapsed:    0.7s\n",
      "[Parallel(n_jobs=-1)]: Done 680 tasks      | elapsed:    8.5s\n",
      "[Parallel(n_jobs=-1)]: Done 1640 tasks      | elapsed:   21.2s\n",
      "[Parallel(n_jobs=-1)]: Done 2400 out of 2400 | elapsed:   30.6s finished\n",
      "C:\\Users\\chris\\Anaconda2\\lib\\site-packages\\sklearn\\model_selection\\_search.py:841: DeprecationWarning: The default of the `iid` parameter will change from True to False in version 0.22 and will be removed in 0.24. This will change numeric results when test-set sizes are unequal.\n",
      "  DeprecationWarning)\n",
      "[Parallel(n_jobs=-1)]: Using backend LokyBackend with 4 concurrent workers.\n"
     ]
    },
    {
     "name": "stdout",
     "output_type": "stream",
     "text": [
      "Fitting 5 folds for each of 480 candidates, totalling 2400 fits\n"
     ]
    },
    {
     "name": "stderr",
     "output_type": "stream",
     "text": [
      "[Parallel(n_jobs=-1)]: Done 136 tasks      | elapsed:    1.1s\n",
      "[Parallel(n_jobs=-1)]: Done 904 tasks      | elapsed:   10.9s\n",
      "[Parallel(n_jobs=-1)]: Done 2184 tasks      | elapsed:   27.4s\n",
      "[Parallel(n_jobs=-1)]: Done 2400 out of 2400 | elapsed:   30.7s finished\n",
      "C:\\Users\\chris\\Anaconda2\\lib\\site-packages\\sklearn\\model_selection\\_search.py:841: DeprecationWarning: The default of the `iid` parameter will change from True to False in version 0.22 and will be removed in 0.24. This will change numeric results when test-set sizes are unequal.\n",
      "  DeprecationWarning)\n",
      "[Parallel(n_jobs=-1)]: Using backend LokyBackend with 4 concurrent workers.\n"
     ]
    },
    {
     "name": "stdout",
     "output_type": "stream",
     "text": [
      "Games predicted: 245\n",
      "\n",
      "\n",
      "Now Starting Simulation Number: 29\n",
      "\n",
      "\n",
      "{'n_estimators': [10, 12, 14, 16, 18, 20, 22, 24, 26, 28], 'loss': ['ls', 'huber'], 'learning_rate': array([0.1, 0.2, 0.3, 0.4, 0.5, 0.6]), 'max_depth': [1, 2, 3, 4]}\n",
      "Fitting 5 folds for each of 480 candidates, totalling 2400 fits\n"
     ]
    },
    {
     "name": "stderr",
     "output_type": "stream",
     "text": [
      "[Parallel(n_jobs=-1)]: Done 136 tasks      | elapsed:    1.1s\n",
      "[Parallel(n_jobs=-1)]: Done 904 tasks      | elapsed:   10.2s\n",
      "[Parallel(n_jobs=-1)]: Done 2184 tasks      | elapsed:   24.7s\n",
      "[Parallel(n_jobs=-1)]: Done 2400 out of 2400 | elapsed:   27.8s finished\n",
      "C:\\Users\\chris\\Anaconda2\\lib\\site-packages\\sklearn\\model_selection\\_search.py:841: DeprecationWarning: The default of the `iid` parameter will change from True to False in version 0.22 and will be removed in 0.24. This will change numeric results when test-set sizes are unequal.\n",
      "  DeprecationWarning)\n",
      "[Parallel(n_jobs=-1)]: Using backend LokyBackend with 4 concurrent workers.\n"
     ]
    },
    {
     "name": "stdout",
     "output_type": "stream",
     "text": [
      "Fitting 5 folds for each of 480 candidates, totalling 2400 fits\n"
     ]
    },
    {
     "name": "stderr",
     "output_type": "stream",
     "text": [
      "[Parallel(n_jobs=-1)]: Done 136 tasks      | elapsed:    1.0s\n",
      "[Parallel(n_jobs=-1)]: Done 904 tasks      | elapsed:   10.0s\n",
      "[Parallel(n_jobs=-1)]: Done 2184 tasks      | elapsed:   25.4s\n",
      "[Parallel(n_jobs=-1)]: Done 2400 out of 2400 | elapsed:   28.7s finished\n",
      "C:\\Users\\chris\\Anaconda2\\lib\\site-packages\\sklearn\\model_selection\\_search.py:841: DeprecationWarning: The default of the `iid` parameter will change from True to False in version 0.22 and will be removed in 0.24. This will change numeric results when test-set sizes are unequal.\n",
      "  DeprecationWarning)\n",
      "[Parallel(n_jobs=-1)]: Using backend LokyBackend with 4 concurrent workers.\n"
     ]
    },
    {
     "name": "stdout",
     "output_type": "stream",
     "text": [
      "Games predicted: 245\n",
      "\n",
      "\n",
      "Now Starting Simulation Number: 30\n",
      "\n",
      "\n",
      "{'n_estimators': [10, 12, 14, 16, 18, 20, 22, 24, 26, 28], 'loss': ['ls', 'huber'], 'learning_rate': array([0.1, 0.2, 0.3, 0.4, 0.5, 0.6]), 'max_depth': [1, 2, 3, 4]}\n",
      "Fitting 5 folds for each of 480 candidates, totalling 2400 fits\n"
     ]
    },
    {
     "name": "stderr",
     "output_type": "stream",
     "text": [
      "[Parallel(n_jobs=-1)]: Done 136 tasks      | elapsed:    1.2s\n",
      "[Parallel(n_jobs=-1)]: Done 904 tasks      | elapsed:   11.4s\n",
      "[Parallel(n_jobs=-1)]: Done 2184 tasks      | elapsed:   28.8s\n",
      "[Parallel(n_jobs=-1)]: Done 2400 out of 2400 | elapsed:   32.5s finished\n",
      "C:\\Users\\chris\\Anaconda2\\lib\\site-packages\\sklearn\\model_selection\\_search.py:841: DeprecationWarning: The default of the `iid` parameter will change from True to False in version 0.22 and will be removed in 0.24. This will change numeric results when test-set sizes are unequal.\n",
      "  DeprecationWarning)\n",
      "[Parallel(n_jobs=-1)]: Using backend LokyBackend with 4 concurrent workers.\n"
     ]
    },
    {
     "name": "stdout",
     "output_type": "stream",
     "text": [
      "Fitting 5 folds for each of 480 candidates, totalling 2400 fits\n"
     ]
    },
    {
     "name": "stderr",
     "output_type": "stream",
     "text": [
      "[Parallel(n_jobs=-1)]: Done 120 tasks      | elapsed:    1.1s\n",
      "[Parallel(n_jobs=-1)]: Done 1080 tasks      | elapsed:   12.3s\n",
      "[Parallel(n_jobs=-1)]: Done 2400 out of 2400 | elapsed:   28.3s finished\n",
      "C:\\Users\\chris\\Anaconda2\\lib\\site-packages\\sklearn\\model_selection\\_search.py:841: DeprecationWarning: The default of the `iid` parameter will change from True to False in version 0.22 and will be removed in 0.24. This will change numeric results when test-set sizes are unequal.\n",
      "  DeprecationWarning)\n",
      "[Parallel(n_jobs=-1)]: Using backend LokyBackend with 4 concurrent workers.\n"
     ]
    },
    {
     "name": "stdout",
     "output_type": "stream",
     "text": [
      "Games predicted: 245\n",
      "\n",
      "\n",
      "Now Starting Simulation Number: 31\n",
      "\n",
      "\n",
      "{'n_estimators': [10, 12, 14, 16, 18, 20, 22, 24, 26, 28], 'loss': ['ls', 'huber'], 'learning_rate': array([0.1, 0.2, 0.3, 0.4, 0.5, 0.6]), 'max_depth': [1, 2, 3, 4]}\n",
      "Fitting 5 folds for each of 480 candidates, totalling 2400 fits\n"
     ]
    },
    {
     "name": "stderr",
     "output_type": "stream",
     "text": [
      "[Parallel(n_jobs=-1)]: Done 104 tasks      | elapsed:    0.8s\n",
      "[Parallel(n_jobs=-1)]: Done 680 tasks      | elapsed:    7.4s\n",
      "[Parallel(n_jobs=-1)]: Done 1640 tasks      | elapsed:   19.7s\n",
      "[Parallel(n_jobs=-1)]: Done 2400 out of 2400 | elapsed:   29.9s finished\n",
      "C:\\Users\\chris\\Anaconda2\\lib\\site-packages\\sklearn\\model_selection\\_search.py:841: DeprecationWarning: The default of the `iid` parameter will change from True to False in version 0.22 and will be removed in 0.24. This will change numeric results when test-set sizes are unequal.\n",
      "  DeprecationWarning)\n",
      "[Parallel(n_jobs=-1)]: Using backend LokyBackend with 4 concurrent workers.\n"
     ]
    },
    {
     "name": "stdout",
     "output_type": "stream",
     "text": [
      "Fitting 5 folds for each of 480 candidates, totalling 2400 fits\n"
     ]
    },
    {
     "name": "stderr",
     "output_type": "stream",
     "text": [
      "[Parallel(n_jobs=-1)]: Done 120 tasks      | elapsed:    1.1s\n",
      "[Parallel(n_jobs=-1)]: Done 1080 tasks      | elapsed:   13.7s\n",
      "[Parallel(n_jobs=-1)]: Done 2400 out of 2400 | elapsed:   33.2s finished\n",
      "C:\\Users\\chris\\Anaconda2\\lib\\site-packages\\sklearn\\model_selection\\_search.py:841: DeprecationWarning: The default of the `iid` parameter will change from True to False in version 0.22 and will be removed in 0.24. This will change numeric results when test-set sizes are unequal.\n",
      "  DeprecationWarning)\n"
     ]
    },
    {
     "name": "stdout",
     "output_type": "stream",
     "text": [
      "Games predicted: 245\n",
      "\n",
      "\n",
      "Now Starting Simulation Number: 32\n",
      "\n",
      "\n",
      "{'n_estimators': [10, 12, 14, 16, 18, 20, 22, 24, 26, 28], 'loss': ['ls', 'huber'], 'learning_rate': array([0.1, 0.2, 0.3, 0.4, 0.5, 0.6]), 'max_depth': [1, 2, 3, 4]}\n",
      "Fitting 5 folds for each of 480 candidates, totalling 2400 fits\n"
     ]
    },
    {
     "name": "stderr",
     "output_type": "stream",
     "text": [
      "[Parallel(n_jobs=-1)]: Using backend LokyBackend with 4 concurrent workers.\n",
      "[Parallel(n_jobs=-1)]: Done 104 tasks      | elapsed:    0.9s\n",
      "[Parallel(n_jobs=-1)]: Done 680 tasks      | elapsed:    7.6s\n",
      "[Parallel(n_jobs=-1)]: Done 1640 tasks      | elapsed:   19.4s\n",
      "[Parallel(n_jobs=-1)]: Done 2400 out of 2400 | elapsed:   28.4s finished\n",
      "C:\\Users\\chris\\Anaconda2\\lib\\site-packages\\sklearn\\model_selection\\_search.py:841: DeprecationWarning: The default of the `iid` parameter will change from True to False in version 0.22 and will be removed in 0.24. This will change numeric results when test-set sizes are unequal.\n",
      "  DeprecationWarning)\n",
      "[Parallel(n_jobs=-1)]: Using backend LokyBackend with 4 concurrent workers.\n"
     ]
    },
    {
     "name": "stdout",
     "output_type": "stream",
     "text": [
      "Fitting 5 folds for each of 480 candidates, totalling 2400 fits\n"
     ]
    },
    {
     "name": "stderr",
     "output_type": "stream",
     "text": [
      "[Parallel(n_jobs=-1)]: Done 104 tasks      | elapsed:    0.9s\n",
      "[Parallel(n_jobs=-1)]: Done 680 tasks      | elapsed:    7.4s\n",
      "[Parallel(n_jobs=-1)]: Done 1640 tasks      | elapsed:   19.3s\n",
      "[Parallel(n_jobs=-1)]: Done 2400 out of 2400 | elapsed:   29.1s finished\n",
      "C:\\Users\\chris\\Anaconda2\\lib\\site-packages\\sklearn\\model_selection\\_search.py:841: DeprecationWarning: The default of the `iid` parameter will change from True to False in version 0.22 and will be removed in 0.24. This will change numeric results when test-set sizes are unequal.\n",
      "  DeprecationWarning)\n"
     ]
    },
    {
     "name": "stdout",
     "output_type": "stream",
     "text": [
      "Games predicted: 245\n",
      "\n",
      "\n",
      "Now Starting Simulation Number: 33\n",
      "\n",
      "\n",
      "{'n_estimators': [10, 12, 14, 16, 18, 20, 22, 24, 26, 28], 'loss': ['ls', 'huber'], 'learning_rate': array([0.1, 0.2, 0.3, 0.4, 0.5, 0.6]), 'max_depth': [1, 2, 3, 4]}\n",
      "Fitting 5 folds for each of 480 candidates, totalling 2400 fits\n"
     ]
    },
    {
     "name": "stderr",
     "output_type": "stream",
     "text": [
      "[Parallel(n_jobs=-1)]: Using backend LokyBackend with 4 concurrent workers.\n",
      "[Parallel(n_jobs=-1)]: Done 104 tasks      | elapsed:    0.9s\n",
      "[Parallel(n_jobs=-1)]: Done 680 tasks      | elapsed:    8.2s\n",
      "[Parallel(n_jobs=-1)]: Done 1640 tasks      | elapsed:   21.7s\n",
      "[Parallel(n_jobs=-1)]: Done 2400 out of 2400 | elapsed:   32.0s finished\n",
      "C:\\Users\\chris\\Anaconda2\\lib\\site-packages\\sklearn\\model_selection\\_search.py:841: DeprecationWarning: The default of the `iid` parameter will change from True to False in version 0.22 and will be removed in 0.24. This will change numeric results when test-set sizes are unequal.\n",
      "  DeprecationWarning)\n",
      "[Parallel(n_jobs=-1)]: Using backend LokyBackend with 4 concurrent workers.\n"
     ]
    },
    {
     "name": "stdout",
     "output_type": "stream",
     "text": [
      "Fitting 5 folds for each of 480 candidates, totalling 2400 fits\n"
     ]
    },
    {
     "name": "stderr",
     "output_type": "stream",
     "text": [
      "[Parallel(n_jobs=-1)]: Done 104 tasks      | elapsed:    0.8s\n",
      "[Parallel(n_jobs=-1)]: Done 680 tasks      | elapsed:    7.5s\n",
      "[Parallel(n_jobs=-1)]: Done 1640 tasks      | elapsed:   19.0s\n",
      "[Parallel(n_jobs=-1)]: Done 2400 out of 2400 | elapsed:   28.1s finished\n",
      "C:\\Users\\chris\\Anaconda2\\lib\\site-packages\\sklearn\\model_selection\\_search.py:841: DeprecationWarning: The default of the `iid` parameter will change from True to False in version 0.22 and will be removed in 0.24. This will change numeric results when test-set sizes are unequal.\n",
      "  DeprecationWarning)\n",
      "[Parallel(n_jobs=-1)]: Using backend LokyBackend with 4 concurrent workers.\n"
     ]
    },
    {
     "name": "stdout",
     "output_type": "stream",
     "text": [
      "Games predicted: 245\n",
      "\n",
      "\n",
      "Now Starting Simulation Number: 34\n",
      "\n",
      "\n",
      "{'n_estimators': [10, 12, 14, 16, 18, 20, 22, 24, 26, 28], 'loss': ['ls', 'huber'], 'learning_rate': array([0.1, 0.2, 0.3, 0.4, 0.5, 0.6]), 'max_depth': [1, 2, 3, 4]}\n",
      "Fitting 5 folds for each of 480 candidates, totalling 2400 fits\n"
     ]
    },
    {
     "name": "stderr",
     "output_type": "stream",
     "text": [
      "[Parallel(n_jobs=-1)]: Done 136 tasks      | elapsed:    1.1s\n",
      "[Parallel(n_jobs=-1)]: Done 904 tasks      | elapsed:   10.7s\n",
      "[Parallel(n_jobs=-1)]: Done 2184 tasks      | elapsed:   26.7s\n",
      "[Parallel(n_jobs=-1)]: Done 2400 out of 2400 | elapsed:   30.6s finished\n",
      "C:\\Users\\chris\\Anaconda2\\lib\\site-packages\\sklearn\\model_selection\\_search.py:841: DeprecationWarning: The default of the `iid` parameter will change from True to False in version 0.22 and will be removed in 0.24. This will change numeric results when test-set sizes are unequal.\n",
      "  DeprecationWarning)\n",
      "[Parallel(n_jobs=-1)]: Using backend LokyBackend with 4 concurrent workers.\n"
     ]
    },
    {
     "name": "stdout",
     "output_type": "stream",
     "text": [
      "Fitting 5 folds for each of 480 candidates, totalling 2400 fits\n"
     ]
    },
    {
     "name": "stderr",
     "output_type": "stream",
     "text": [
      "[Parallel(n_jobs=-1)]: Done 120 tasks      | elapsed:    1.1s\n",
      "[Parallel(n_jobs=-1)]: Done 1080 tasks      | elapsed:   13.9s\n",
      "[Parallel(n_jobs=-1)]: Done 2400 out of 2400 | elapsed:   31.5s finished\n",
      "C:\\Users\\chris\\Anaconda2\\lib\\site-packages\\sklearn\\model_selection\\_search.py:841: DeprecationWarning: The default of the `iid` parameter will change from True to False in version 0.22 and will be removed in 0.24. This will change numeric results when test-set sizes are unequal.\n",
      "  DeprecationWarning)\n"
     ]
    },
    {
     "name": "stdout",
     "output_type": "stream",
     "text": [
      "Games predicted: 245\n",
      "\n",
      "\n",
      "Now Starting Simulation Number: 35\n",
      "\n",
      "\n",
      "{'n_estimators': [10, 12, 14, 16, 18, 20, 22, 24, 26, 28], 'loss': ['ls', 'huber'], 'learning_rate': array([0.1, 0.2, 0.3, 0.4, 0.5, 0.6]), 'max_depth': [1, 2, 3, 4]}\n",
      "Fitting 5 folds for each of 480 candidates, totalling 2400 fits\n"
     ]
    },
    {
     "name": "stderr",
     "output_type": "stream",
     "text": [
      "[Parallel(n_jobs=-1)]: Using backend LokyBackend with 4 concurrent workers.\n",
      "[Parallel(n_jobs=-1)]: Done 136 tasks      | elapsed:    1.1s\n",
      "[Parallel(n_jobs=-1)]: Done 904 tasks      | elapsed:   10.2s\n",
      "[Parallel(n_jobs=-1)]: Done 2184 tasks      | elapsed:   25.6s\n",
      "[Parallel(n_jobs=-1)]: Done 2400 out of 2400 | elapsed:   29.4s finished\n",
      "C:\\Users\\chris\\Anaconda2\\lib\\site-packages\\sklearn\\model_selection\\_search.py:841: DeprecationWarning: The default of the `iid` parameter will change from True to False in version 0.22 and will be removed in 0.24. This will change numeric results when test-set sizes are unequal.\n",
      "  DeprecationWarning)\n",
      "[Parallel(n_jobs=-1)]: Using backend LokyBackend with 4 concurrent workers.\n"
     ]
    },
    {
     "name": "stdout",
     "output_type": "stream",
     "text": [
      "Fitting 5 folds for each of 480 candidates, totalling 2400 fits\n"
     ]
    },
    {
     "name": "stderr",
     "output_type": "stream",
     "text": [
      "[Parallel(n_jobs=-1)]: Done 104 tasks      | elapsed:    1.1s\n",
      "[Parallel(n_jobs=-1)]: Done 680 tasks      | elapsed:    8.5s\n",
      "[Parallel(n_jobs=-1)]: Done 1640 tasks      | elapsed:   21.6s\n",
      "[Parallel(n_jobs=-1)]: Done 2400 out of 2400 | elapsed:   32.5s finished\n",
      "C:\\Users\\chris\\Anaconda2\\lib\\site-packages\\sklearn\\model_selection\\_search.py:841: DeprecationWarning: The default of the `iid` parameter will change from True to False in version 0.22 and will be removed in 0.24. This will change numeric results when test-set sizes are unequal.\n",
      "  DeprecationWarning)\n"
     ]
    },
    {
     "name": "stdout",
     "output_type": "stream",
     "text": [
      "Games predicted: 245\n",
      "\n",
      "\n",
      "Now Starting Simulation Number: 36\n",
      "\n",
      "\n",
      "{'n_estimators': [10, 12, 14, 16, 18, 20, 22, 24, 26, 28], 'loss': ['ls', 'huber'], 'learning_rate': array([0.1, 0.2, 0.3, 0.4, 0.5, 0.6]), 'max_depth': [1, 2, 3, 4]}\n",
      "Fitting 5 folds for each of 480 candidates, totalling 2400 fits\n"
     ]
    },
    {
     "name": "stderr",
     "output_type": "stream",
     "text": [
      "[Parallel(n_jobs=-1)]: Using backend LokyBackend with 4 concurrent workers.\n",
      "[Parallel(n_jobs=-1)]: Done 136 tasks      | elapsed:    1.3s\n",
      "[Parallel(n_jobs=-1)]: Done 904 tasks      | elapsed:   12.4s\n",
      "[Parallel(n_jobs=-1)]: Done 2184 tasks      | elapsed:   28.5s\n",
      "[Parallel(n_jobs=-1)]: Done 2400 out of 2400 | elapsed:   32.0s finished\n",
      "C:\\Users\\chris\\Anaconda2\\lib\\site-packages\\sklearn\\model_selection\\_search.py:841: DeprecationWarning: The default of the `iid` parameter will change from True to False in version 0.22 and will be removed in 0.24. This will change numeric results when test-set sizes are unequal.\n",
      "  DeprecationWarning)\n"
     ]
    },
    {
     "name": "stdout",
     "output_type": "stream",
     "text": [
      "Fitting 5 folds for each of 480 candidates, totalling 2400 fits\n"
     ]
    },
    {
     "name": "stderr",
     "output_type": "stream",
     "text": [
      "[Parallel(n_jobs=-1)]: Using backend LokyBackend with 4 concurrent workers.\n",
      "[Parallel(n_jobs=-1)]: Done 104 tasks      | elapsed:    0.8s\n",
      "[Parallel(n_jobs=-1)]: Done 680 tasks      | elapsed:    7.4s\n",
      "[Parallel(n_jobs=-1)]: Done 1640 tasks      | elapsed:   19.6s\n",
      "[Parallel(n_jobs=-1)]: Done 2400 out of 2400 | elapsed:   29.1s finished\n",
      "C:\\Users\\chris\\Anaconda2\\lib\\site-packages\\sklearn\\model_selection\\_search.py:841: DeprecationWarning: The default of the `iid` parameter will change from True to False in version 0.22 and will be removed in 0.24. This will change numeric results when test-set sizes are unequal.\n",
      "  DeprecationWarning)\n"
     ]
    },
    {
     "name": "stdout",
     "output_type": "stream",
     "text": [
      "Games predicted: 245\n",
      "\n",
      "\n",
      "Now Starting Simulation Number: 37\n",
      "\n",
      "\n",
      "{'n_estimators': [10, 12, 14, 16, 18, 20, 22, 24, 26, 28], 'loss': ['ls', 'huber'], 'learning_rate': array([0.1, 0.2, 0.3, 0.4, 0.5, 0.6]), 'max_depth': [1, 2, 3, 4]}\n",
      "Fitting 5 folds for each of 480 candidates, totalling 2400 fits\n"
     ]
    },
    {
     "name": "stderr",
     "output_type": "stream",
     "text": [
      "[Parallel(n_jobs=-1)]: Using backend LokyBackend with 4 concurrent workers.\n",
      "[Parallel(n_jobs=-1)]: Done 104 tasks      | elapsed:    0.9s\n",
      "[Parallel(n_jobs=-1)]: Done 872 tasks      | elapsed:   10.6s\n",
      "[Parallel(n_jobs=-1)]: Done 2152 tasks      | elapsed:   26.9s\n",
      "[Parallel(n_jobs=-1)]: Done 2400 out of 2400 | elapsed:   31.4s finished\n",
      "C:\\Users\\chris\\Anaconda2\\lib\\site-packages\\sklearn\\model_selection\\_search.py:841: DeprecationWarning: The default of the `iid` parameter will change from True to False in version 0.22 and will be removed in 0.24. This will change numeric results when test-set sizes are unequal.\n",
      "  DeprecationWarning)\n"
     ]
    },
    {
     "name": "stdout",
     "output_type": "stream",
     "text": [
      "Fitting 5 folds for each of 480 candidates, totalling 2400 fits\n"
     ]
    },
    {
     "name": "stderr",
     "output_type": "stream",
     "text": [
      "[Parallel(n_jobs=-1)]: Using backend LokyBackend with 4 concurrent workers.\n",
      "[Parallel(n_jobs=-1)]: Done 136 tasks      | elapsed:    1.4s\n",
      "[Parallel(n_jobs=-1)]: Done 904 tasks      | elapsed:   12.0s\n",
      "[Parallel(n_jobs=-1)]: Done 2184 tasks      | elapsed:   27.2s\n",
      "[Parallel(n_jobs=-1)]: Done 2400 out of 2400 | elapsed:   30.8s finished\n",
      "C:\\Users\\chris\\Anaconda2\\lib\\site-packages\\sklearn\\model_selection\\_search.py:841: DeprecationWarning: The default of the `iid` parameter will change from True to False in version 0.22 and will be removed in 0.24. This will change numeric results when test-set sizes are unequal.\n",
      "  DeprecationWarning)\n"
     ]
    },
    {
     "name": "stdout",
     "output_type": "stream",
     "text": [
      "Games predicted: 245\n",
      "\n",
      "\n",
      "Now Starting Simulation Number: 38\n",
      "\n",
      "\n",
      "{'n_estimators': [10, 12, 14, 16, 18, 20, 22, 24, 26, 28], 'loss': ['ls', 'huber'], 'learning_rate': array([0.1, 0.2, 0.3, 0.4, 0.5, 0.6]), 'max_depth': [1, 2, 3, 4]}\n",
      "Fitting 5 folds for each of 480 candidates, totalling 2400 fits\n"
     ]
    },
    {
     "name": "stderr",
     "output_type": "stream",
     "text": [
      "[Parallel(n_jobs=-1)]: Using backend LokyBackend with 4 concurrent workers.\n",
      "[Parallel(n_jobs=-1)]: Done  72 tasks      | elapsed:    0.8s\n",
      "[Parallel(n_jobs=-1)]: Done 456 tasks      | elapsed:    7.2s\n",
      "[Parallel(n_jobs=-1)]: Done 1096 tasks      | elapsed:   14.4s\n",
      "[Parallel(n_jobs=-1)]: Done 1992 tasks      | elapsed:   26.0s\n",
      "[Parallel(n_jobs=-1)]: Done 2400 out of 2400 | elapsed:   31.6s finished\n",
      "C:\\Users\\chris\\Anaconda2\\lib\\site-packages\\sklearn\\model_selection\\_search.py:841: DeprecationWarning: The default of the `iid` parameter will change from True to False in version 0.22 and will be removed in 0.24. This will change numeric results when test-set sizes are unequal.\n",
      "  DeprecationWarning)\n",
      "[Parallel(n_jobs=-1)]: Using backend LokyBackend with 4 concurrent workers.\n"
     ]
    },
    {
     "name": "stdout",
     "output_type": "stream",
     "text": [
      "Fitting 5 folds for each of 480 candidates, totalling 2400 fits\n"
     ]
    },
    {
     "name": "stderr",
     "output_type": "stream",
     "text": [
      "[Parallel(n_jobs=-1)]: Done 120 tasks      | elapsed:    1.1s\n",
      "[Parallel(n_jobs=-1)]: Done 1080 tasks      | elapsed:   13.4s\n",
      "[Parallel(n_jobs=-1)]: Done 2400 out of 2400 | elapsed:   32.1s finished\n",
      "C:\\Users\\chris\\Anaconda2\\lib\\site-packages\\sklearn\\model_selection\\_search.py:841: DeprecationWarning: The default of the `iid` parameter will change from True to False in version 0.22 and will be removed in 0.24. This will change numeric results when test-set sizes are unequal.\n",
      "  DeprecationWarning)\n",
      "[Parallel(n_jobs=-1)]: Using backend LokyBackend with 4 concurrent workers.\n"
     ]
    },
    {
     "name": "stdout",
     "output_type": "stream",
     "text": [
      "Games predicted: 245\n",
      "\n",
      "\n",
      "Now Starting Simulation Number: 39\n",
      "\n",
      "\n",
      "{'n_estimators': [10, 12, 14, 16, 18, 20, 22, 24, 26, 28], 'loss': ['ls', 'huber'], 'learning_rate': array([0.1, 0.2, 0.3, 0.4, 0.5, 0.6]), 'max_depth': [1, 2, 3, 4]}\n",
      "Fitting 5 folds for each of 480 candidates, totalling 2400 fits\n"
     ]
    },
    {
     "name": "stderr",
     "output_type": "stream",
     "text": [
      "[Parallel(n_jobs=-1)]: Done 136 tasks      | elapsed:    1.3s\n",
      "[Parallel(n_jobs=-1)]: Done 904 tasks      | elapsed:   11.0s\n",
      "[Parallel(n_jobs=-1)]: Done 2184 tasks      | elapsed:   26.0s\n",
      "[Parallel(n_jobs=-1)]: Done 2400 out of 2400 | elapsed:   29.2s finished\n",
      "C:\\Users\\chris\\Anaconda2\\lib\\site-packages\\sklearn\\model_selection\\_search.py:841: DeprecationWarning: The default of the `iid` parameter will change from True to False in version 0.22 and will be removed in 0.24. This will change numeric results when test-set sizes are unequal.\n",
      "  DeprecationWarning)\n",
      "[Parallel(n_jobs=-1)]: Using backend LokyBackend with 4 concurrent workers.\n"
     ]
    },
    {
     "name": "stdout",
     "output_type": "stream",
     "text": [
      "Fitting 5 folds for each of 480 candidates, totalling 2400 fits\n"
     ]
    },
    {
     "name": "stderr",
     "output_type": "stream",
     "text": [
      "[Parallel(n_jobs=-1)]: Done 104 tasks      | elapsed:    0.7s\n",
      "[Parallel(n_jobs=-1)]: Done 680 tasks      | elapsed:    7.1s\n",
      "[Parallel(n_jobs=-1)]: Done 1640 tasks      | elapsed:   19.1s\n",
      "[Parallel(n_jobs=-1)]: Done 2400 out of 2400 | elapsed:   28.5s finished\n",
      "C:\\Users\\chris\\Anaconda2\\lib\\site-packages\\sklearn\\model_selection\\_search.py:841: DeprecationWarning: The default of the `iid` parameter will change from True to False in version 0.22 and will be removed in 0.24. This will change numeric results when test-set sizes are unequal.\n",
      "  DeprecationWarning)\n",
      "[Parallel(n_jobs=-1)]: Using backend LokyBackend with 4 concurrent workers.\n"
     ]
    },
    {
     "name": "stdout",
     "output_type": "stream",
     "text": [
      "Games predicted: 245\n",
      "\n",
      "\n",
      "Now Starting Simulation Number: 40\n",
      "\n",
      "\n",
      "{'n_estimators': [10, 12, 14, 16, 18, 20, 22, 24, 26, 28], 'loss': ['ls', 'huber'], 'learning_rate': array([0.1, 0.2, 0.3, 0.4, 0.5, 0.6]), 'max_depth': [1, 2, 3, 4]}\n",
      "Fitting 5 folds for each of 480 candidates, totalling 2400 fits\n"
     ]
    },
    {
     "name": "stderr",
     "output_type": "stream",
     "text": [
      "[Parallel(n_jobs=-1)]: Done 104 tasks      | elapsed:    0.8s\n",
      "[Parallel(n_jobs=-1)]: Done 680 tasks      | elapsed:    7.9s\n",
      "[Parallel(n_jobs=-1)]: Done 1640 tasks      | elapsed:   21.3s\n",
      "[Parallel(n_jobs=-1)]: Done 2400 out of 2400 | elapsed:   32.6s finished\n",
      "C:\\Users\\chris\\Anaconda2\\lib\\site-packages\\sklearn\\model_selection\\_search.py:841: DeprecationWarning: The default of the `iid` parameter will change from True to False in version 0.22 and will be removed in 0.24. This will change numeric results when test-set sizes are unequal.\n",
      "  DeprecationWarning)\n",
      "[Parallel(n_jobs=-1)]: Using backend LokyBackend with 4 concurrent workers.\n"
     ]
    },
    {
     "name": "stdout",
     "output_type": "stream",
     "text": [
      "Fitting 5 folds for each of 480 candidates, totalling 2400 fits\n"
     ]
    },
    {
     "name": "stderr",
     "output_type": "stream",
     "text": [
      "[Parallel(n_jobs=-1)]: Done 152 tasks      | elapsed:    1.5s\n",
      "[Parallel(n_jobs=-1)]: Done 1304 tasks      | elapsed:   15.7s\n",
      "[Parallel(n_jobs=-1)]: Done 2400 out of 2400 | elapsed:   28.8s finished\n",
      "C:\\Users\\chris\\Anaconda2\\lib\\site-packages\\sklearn\\model_selection\\_search.py:841: DeprecationWarning: The default of the `iid` parameter will change from True to False in version 0.22 and will be removed in 0.24. This will change numeric results when test-set sizes are unequal.\n",
      "  DeprecationWarning)\n",
      "[Parallel(n_jobs=-1)]: Using backend LokyBackend with 4 concurrent workers.\n"
     ]
    },
    {
     "name": "stdout",
     "output_type": "stream",
     "text": [
      "Games predicted: 245\n",
      "\n",
      "\n",
      "Now Starting Simulation Number: 41\n",
      "\n",
      "\n",
      "{'n_estimators': [10, 12, 14, 16, 18, 20, 22, 24, 26, 28], 'loss': ['ls', 'huber'], 'learning_rate': array([0.1, 0.2, 0.3, 0.4, 0.5, 0.6]), 'max_depth': [1, 2, 3, 4]}\n",
      "Fitting 5 folds for each of 480 candidates, totalling 2400 fits\n"
     ]
    },
    {
     "name": "stderr",
     "output_type": "stream",
     "text": [
      "[Parallel(n_jobs=-1)]: Done 136 tasks      | elapsed:    1.1s\n",
      "[Parallel(n_jobs=-1)]: Done 904 tasks      | elapsed:   10.1s\n",
      "[Parallel(n_jobs=-1)]: Done 2184 tasks      | elapsed:   25.0s\n",
      "[Parallel(n_jobs=-1)]: Done 2400 out of 2400 | elapsed:   28.2s finished\n",
      "C:\\Users\\chris\\Anaconda2\\lib\\site-packages\\sklearn\\model_selection\\_search.py:841: DeprecationWarning: The default of the `iid` parameter will change from True to False in version 0.22 and will be removed in 0.24. This will change numeric results when test-set sizes are unequal.\n",
      "  DeprecationWarning)\n",
      "[Parallel(n_jobs=-1)]: Using backend LokyBackend with 4 concurrent workers.\n"
     ]
    },
    {
     "name": "stdout",
     "output_type": "stream",
     "text": [
      "Fitting 5 folds for each of 480 candidates, totalling 2400 fits\n"
     ]
    },
    {
     "name": "stderr",
     "output_type": "stream",
     "text": [
      "[Parallel(n_jobs=-1)]: Done 104 tasks      | elapsed:    0.7s\n",
      "[Parallel(n_jobs=-1)]: Done 680 tasks      | elapsed:    7.7s\n",
      "[Parallel(n_jobs=-1)]: Done 1640 tasks      | elapsed:   20.6s\n",
      "[Parallel(n_jobs=-1)]: Done 2400 out of 2400 | elapsed:   31.3s finished\n",
      "C:\\Users\\chris\\Anaconda2\\lib\\site-packages\\sklearn\\model_selection\\_search.py:841: DeprecationWarning: The default of the `iid` parameter will change from True to False in version 0.22 and will be removed in 0.24. This will change numeric results when test-set sizes are unequal.\n",
      "  DeprecationWarning)\n",
      "[Parallel(n_jobs=-1)]: Using backend LokyBackend with 4 concurrent workers.\n"
     ]
    },
    {
     "name": "stdout",
     "output_type": "stream",
     "text": [
      "Games predicted: 245\n",
      "\n",
      "\n",
      "Now Starting Simulation Number: 42\n",
      "\n",
      "\n",
      "{'n_estimators': [10, 12, 14, 16, 18, 20, 22, 24, 26, 28], 'loss': ['ls', 'huber'], 'learning_rate': array([0.1, 0.2, 0.3, 0.4, 0.5, 0.6]), 'max_depth': [1, 2, 3, 4]}\n",
      "Fitting 5 folds for each of 480 candidates, totalling 2400 fits\n"
     ]
    },
    {
     "name": "stderr",
     "output_type": "stream",
     "text": [
      "[Parallel(n_jobs=-1)]: Done 152 tasks      | elapsed:    1.7s\n",
      "[Parallel(n_jobs=-1)]: Done 1304 tasks      | elapsed:   16.7s\n",
      "[Parallel(n_jobs=-1)]: Done 2400 out of 2400 | elapsed:   29.8s finished\n",
      "C:\\Users\\chris\\Anaconda2\\lib\\site-packages\\sklearn\\model_selection\\_search.py:841: DeprecationWarning: The default of the `iid` parameter will change from True to False in version 0.22 and will be removed in 0.24. This will change numeric results when test-set sizes are unequal.\n",
      "  DeprecationWarning)\n",
      "[Parallel(n_jobs=-1)]: Using backend LokyBackend with 4 concurrent workers.\n"
     ]
    },
    {
     "name": "stdout",
     "output_type": "stream",
     "text": [
      "Fitting 5 folds for each of 480 candidates, totalling 2400 fits\n"
     ]
    },
    {
     "name": "stderr",
     "output_type": "stream",
     "text": [
      "[Parallel(n_jobs=-1)]: Done 104 tasks      | elapsed:    0.8s\n",
      "[Parallel(n_jobs=-1)]: Done 680 tasks      | elapsed:    7.4s\n",
      "[Parallel(n_jobs=-1)]: Done 1640 tasks      | elapsed:   18.8s\n",
      "[Parallel(n_jobs=-1)]: Done 2400 out of 2400 | elapsed:   28.0s finished\n",
      "C:\\Users\\chris\\Anaconda2\\lib\\site-packages\\sklearn\\model_selection\\_search.py:841: DeprecationWarning: The default of the `iid` parameter will change from True to False in version 0.22 and will be removed in 0.24. This will change numeric results when test-set sizes are unequal.\n",
      "  DeprecationWarning)\n",
      "[Parallel(n_jobs=-1)]: Using backend LokyBackend with 4 concurrent workers.\n"
     ]
    },
    {
     "name": "stdout",
     "output_type": "stream",
     "text": [
      "Games predicted: 245\n",
      "\n",
      "\n",
      "Now Starting Simulation Number: 43\n",
      "\n",
      "\n",
      "{'n_estimators': [10, 12, 14, 16, 18, 20, 22, 24, 26, 28], 'loss': ['ls', 'huber'], 'learning_rate': array([0.1, 0.2, 0.3, 0.4, 0.5, 0.6]), 'max_depth': [1, 2, 3, 4]}\n",
      "Fitting 5 folds for each of 480 candidates, totalling 2400 fits\n"
     ]
    },
    {
     "name": "stderr",
     "output_type": "stream",
     "text": [
      "[Parallel(n_jobs=-1)]: Done 104 tasks      | elapsed:    0.8s\n",
      "[Parallel(n_jobs=-1)]: Done 680 tasks      | elapsed:    7.7s\n",
      "[Parallel(n_jobs=-1)]: Done 1640 tasks      | elapsed:   20.6s\n",
      "[Parallel(n_jobs=-1)]: Done 2400 out of 2400 | elapsed:   31.4s finished\n",
      "C:\\Users\\chris\\Anaconda2\\lib\\site-packages\\sklearn\\model_selection\\_search.py:841: DeprecationWarning: The default of the `iid` parameter will change from True to False in version 0.22 and will be removed in 0.24. This will change numeric results when test-set sizes are unequal.\n",
      "  DeprecationWarning)\n",
      "[Parallel(n_jobs=-1)]: Using backend LokyBackend with 4 concurrent workers.\n"
     ]
    },
    {
     "name": "stdout",
     "output_type": "stream",
     "text": [
      "Fitting 5 folds for each of 480 candidates, totalling 2400 fits\n"
     ]
    },
    {
     "name": "stderr",
     "output_type": "stream",
     "text": [
      "[Parallel(n_jobs=-1)]: Done 136 tasks      | elapsed:    1.3s\n",
      "[Parallel(n_jobs=-1)]: Done 904 tasks      | elapsed:   12.2s\n",
      "[Parallel(n_jobs=-1)]: Done 2184 tasks      | elapsed:   27.9s\n",
      "[Parallel(n_jobs=-1)]: Done 2400 out of 2400 | elapsed:   31.1s finished\n",
      "C:\\Users\\chris\\Anaconda2\\lib\\site-packages\\sklearn\\model_selection\\_search.py:841: DeprecationWarning: The default of the `iid` parameter will change from True to False in version 0.22 and will be removed in 0.24. This will change numeric results when test-set sizes are unequal.\n",
      "  DeprecationWarning)\n",
      "[Parallel(n_jobs=-1)]: Using backend LokyBackend with 4 concurrent workers.\n"
     ]
    },
    {
     "name": "stdout",
     "output_type": "stream",
     "text": [
      "Games predicted: 245\n",
      "\n",
      "\n",
      "Now Starting Simulation Number: 44\n",
      "\n",
      "\n",
      "{'n_estimators': [10, 12, 14, 16, 18, 20, 22, 24, 26, 28], 'loss': ['ls', 'huber'], 'learning_rate': array([0.1, 0.2, 0.3, 0.4, 0.5, 0.6]), 'max_depth': [1, 2, 3, 4]}\n",
      "Fitting 5 folds for each of 480 candidates, totalling 2400 fits\n"
     ]
    },
    {
     "name": "stderr",
     "output_type": "stream",
     "text": [
      "[Parallel(n_jobs=-1)]: Done 136 tasks      | elapsed:    1.1s\n",
      "[Parallel(n_jobs=-1)]: Done 904 tasks      | elapsed:   10.2s\n",
      "[Parallel(n_jobs=-1)]: Done 2184 tasks      | elapsed:   25.6s\n",
      "[Parallel(n_jobs=-1)]: Done 2400 out of 2400 | elapsed:   29.3s finished\n",
      "C:\\Users\\chris\\Anaconda2\\lib\\site-packages\\sklearn\\model_selection\\_search.py:841: DeprecationWarning: The default of the `iid` parameter will change from True to False in version 0.22 and will be removed in 0.24. This will change numeric results when test-set sizes are unequal.\n",
      "  DeprecationWarning)\n"
     ]
    },
    {
     "name": "stdout",
     "output_type": "stream",
     "text": [
      "Fitting 5 folds for each of 480 candidates, totalling 2400 fits\n"
     ]
    },
    {
     "name": "stderr",
     "output_type": "stream",
     "text": [
      "[Parallel(n_jobs=-1)]: Using backend LokyBackend with 4 concurrent workers.\n",
      "[Parallel(n_jobs=-1)]: Done 136 tasks      | elapsed:    1.2s\n",
      "[Parallel(n_jobs=-1)]: Done 904 tasks      | elapsed:   11.0s\n",
      "[Parallel(n_jobs=-1)]: Done 2184 tasks      | elapsed:   27.8s\n",
      "[Parallel(n_jobs=-1)]: Done 2400 out of 2400 | elapsed:   32.0s finished\n",
      "C:\\Users\\chris\\Anaconda2\\lib\\site-packages\\sklearn\\model_selection\\_search.py:841: DeprecationWarning: The default of the `iid` parameter will change from True to False in version 0.22 and will be removed in 0.24. This will change numeric results when test-set sizes are unequal.\n",
      "  DeprecationWarning)\n"
     ]
    },
    {
     "name": "stdout",
     "output_type": "stream",
     "text": [
      "Games predicted: 245\n",
      "\n",
      "\n",
      "Now Starting Simulation Number: 45\n",
      "\n",
      "\n",
      "{'n_estimators': [10, 12, 14, 16, 18, 20, 22, 24, 26, 28], 'loss': ['ls', 'huber'], 'learning_rate': array([0.1, 0.2, 0.3, 0.4, 0.5, 0.6]), 'max_depth': [1, 2, 3, 4]}\n",
      "Fitting 5 folds for each of 480 candidates, totalling 2400 fits\n"
     ]
    },
    {
     "name": "stderr",
     "output_type": "stream",
     "text": [
      "[Parallel(n_jobs=-1)]: Using backend LokyBackend with 4 concurrent workers.\n",
      "[Parallel(n_jobs=-1)]: Done  72 tasks      | elapsed:    0.8s\n",
      "[Parallel(n_jobs=-1)]: Done 456 tasks      | elapsed:    6.7s\n",
      "[Parallel(n_jobs=-1)]: Done 1096 tasks      | elapsed:   15.3s\n",
      "[Parallel(n_jobs=-1)]: Done 1992 tasks      | elapsed:   27.8s\n",
      "[Parallel(n_jobs=-1)]: Done 2400 out of 2400 | elapsed:   33.6s finished\n",
      "C:\\Users\\chris\\Anaconda2\\lib\\site-packages\\sklearn\\model_selection\\_search.py:841: DeprecationWarning: The default of the `iid` parameter will change from True to False in version 0.22 and will be removed in 0.24. This will change numeric results when test-set sizes are unequal.\n",
      "  DeprecationWarning)\n"
     ]
    },
    {
     "name": "stdout",
     "output_type": "stream",
     "text": [
      "Fitting 5 folds for each of 480 candidates, totalling 2400 fits\n"
     ]
    },
    {
     "name": "stderr",
     "output_type": "stream",
     "text": [
      "[Parallel(n_jobs=-1)]: Using backend LokyBackend with 4 concurrent workers.\n",
      "[Parallel(n_jobs=-1)]: Done  56 tasks      | elapsed:    0.8s\n",
      "[Parallel(n_jobs=-1)]: Done 440 tasks      | elapsed:    6.0s\n",
      "[Parallel(n_jobs=-1)]: Done 1080 tasks      | elapsed:   13.3s\n",
      "[Parallel(n_jobs=-1)]: Done 1976 tasks      | elapsed:   24.8s\n",
      "[Parallel(n_jobs=-1)]: Done 2400 out of 2400 | elapsed:   30.7s finished\n",
      "C:\\Users\\chris\\Anaconda2\\lib\\site-packages\\sklearn\\model_selection\\_search.py:841: DeprecationWarning: The default of the `iid` parameter will change from True to False in version 0.22 and will be removed in 0.24. This will change numeric results when test-set sizes are unequal.\n",
      "  DeprecationWarning)\n",
      "[Parallel(n_jobs=-1)]: Using backend LokyBackend with 4 concurrent workers.\n"
     ]
    },
    {
     "name": "stdout",
     "output_type": "stream",
     "text": [
      "Games predicted: 245\n",
      "\n",
      "\n",
      "Now Starting Simulation Number: 46\n",
      "\n",
      "\n",
      "{'n_estimators': [10, 12, 14, 16, 18, 20, 22, 24, 26, 28], 'loss': ['ls', 'huber'], 'learning_rate': array([0.1, 0.2, 0.3, 0.4, 0.5, 0.6]), 'max_depth': [1, 2, 3, 4]}\n",
      "Fitting 5 folds for each of 480 candidates, totalling 2400 fits\n"
     ]
    },
    {
     "name": "stderr",
     "output_type": "stream",
     "text": [
      "[Parallel(n_jobs=-1)]: Done 136 tasks      | elapsed:    1.2s\n",
      "[Parallel(n_jobs=-1)]: Done 904 tasks      | elapsed:   11.4s\n",
      "[Parallel(n_jobs=-1)]: Done 2184 tasks      | elapsed:   30.2s\n",
      "[Parallel(n_jobs=-1)]: Done 2400 out of 2400 | elapsed:   34.2s finished\n",
      "C:\\Users\\chris\\Anaconda2\\lib\\site-packages\\sklearn\\model_selection\\_search.py:841: DeprecationWarning: The default of the `iid` parameter will change from True to False in version 0.22 and will be removed in 0.24. This will change numeric results when test-set sizes are unequal.\n",
      "  DeprecationWarning)\n",
      "[Parallel(n_jobs=-1)]: Using backend LokyBackend with 4 concurrent workers.\n"
     ]
    },
    {
     "name": "stdout",
     "output_type": "stream",
     "text": [
      "Fitting 5 folds for each of 480 candidates, totalling 2400 fits\n"
     ]
    },
    {
     "name": "stderr",
     "output_type": "stream",
     "text": [
      "[Parallel(n_jobs=-1)]: Done 104 tasks      | elapsed:    0.9s\n",
      "[Parallel(n_jobs=-1)]: Done 680 tasks      | elapsed:    8.3s\n",
      "[Parallel(n_jobs=-1)]: Done 1640 tasks      | elapsed:   20.5s\n",
      "[Parallel(n_jobs=-1)]: Done 2400 out of 2400 | elapsed:   29.3s finished\n",
      "C:\\Users\\chris\\Anaconda2\\lib\\site-packages\\sklearn\\model_selection\\_search.py:841: DeprecationWarning: The default of the `iid` parameter will change from True to False in version 0.22 and will be removed in 0.24. This will change numeric results when test-set sizes are unequal.\n",
      "  DeprecationWarning)\n",
      "[Parallel(n_jobs=-1)]: Using backend LokyBackend with 4 concurrent workers.\n"
     ]
    },
    {
     "name": "stdout",
     "output_type": "stream",
     "text": [
      "Games predicted: 245\n",
      "\n",
      "\n",
      "Now Starting Simulation Number: 47\n",
      "\n",
      "\n",
      "{'n_estimators': [10, 12, 14, 16, 18, 20, 22, 24, 26, 28], 'loss': ['ls', 'huber'], 'learning_rate': array([0.1, 0.2, 0.3, 0.4, 0.5, 0.6]), 'max_depth': [1, 2, 3, 4]}\n",
      "Fitting 5 folds for each of 480 candidates, totalling 2400 fits\n"
     ]
    },
    {
     "name": "stderr",
     "output_type": "stream",
     "text": [
      "[Parallel(n_jobs=-1)]: Done 136 tasks      | elapsed:    1.1s\n",
      "[Parallel(n_jobs=-1)]: Done 904 tasks      | elapsed:   10.0s\n",
      "[Parallel(n_jobs=-1)]: Done 2184 tasks      | elapsed:   25.0s\n",
      "[Parallel(n_jobs=-1)]: Done 2400 out of 2400 | elapsed:   28.4s finished\n",
      "C:\\Users\\chris\\Anaconda2\\lib\\site-packages\\sklearn\\model_selection\\_search.py:841: DeprecationWarning: The default of the `iid` parameter will change from True to False in version 0.22 and will be removed in 0.24. This will change numeric results when test-set sizes are unequal.\n",
      "  DeprecationWarning)\n",
      "[Parallel(n_jobs=-1)]: Using backend LokyBackend with 4 concurrent workers.\n"
     ]
    },
    {
     "name": "stdout",
     "output_type": "stream",
     "text": [
      "Fitting 5 folds for each of 480 candidates, totalling 2400 fits\n"
     ]
    },
    {
     "name": "stderr",
     "output_type": "stream",
     "text": [
      "[Parallel(n_jobs=-1)]: Done 136 tasks      | elapsed:    1.1s\n",
      "[Parallel(n_jobs=-1)]: Done 904 tasks      | elapsed:   10.9s\n",
      "[Parallel(n_jobs=-1)]: Done 2184 tasks      | elapsed:   27.6s\n",
      "[Parallel(n_jobs=-1)]: Done 2400 out of 2400 | elapsed:   31.3s finished\n",
      "C:\\Users\\chris\\Anaconda2\\lib\\site-packages\\sklearn\\model_selection\\_search.py:841: DeprecationWarning: The default of the `iid` parameter will change from True to False in version 0.22 and will be removed in 0.24. This will change numeric results when test-set sizes are unequal.\n",
      "  DeprecationWarning)\n",
      "[Parallel(n_jobs=-1)]: Using backend LokyBackend with 4 concurrent workers.\n"
     ]
    },
    {
     "name": "stdout",
     "output_type": "stream",
     "text": [
      "Games predicted: 245\n",
      "\n",
      "\n",
      "Now Starting Simulation Number: 48\n",
      "\n",
      "\n",
      "{'n_estimators': [10, 12, 14, 16, 18, 20, 22, 24, 26, 28], 'loss': ['ls', 'huber'], 'learning_rate': array([0.1, 0.2, 0.3, 0.4, 0.5, 0.6]), 'max_depth': [1, 2, 3, 4]}\n",
      "Fitting 5 folds for each of 480 candidates, totalling 2400 fits\n"
     ]
    },
    {
     "name": "stderr",
     "output_type": "stream",
     "text": [
      "[Parallel(n_jobs=-1)]: Done 168 tasks      | elapsed:    1.7s\n",
      "[Parallel(n_jobs=-1)]: Done 1128 tasks      | elapsed:   14.5s\n",
      "[Parallel(n_jobs=-1)]: Done 2400 out of 2400 | elapsed:   29.9s finished\n",
      "C:\\Users\\chris\\Anaconda2\\lib\\site-packages\\sklearn\\model_selection\\_search.py:841: DeprecationWarning: The default of the `iid` parameter will change from True to False in version 0.22 and will be removed in 0.24. This will change numeric results when test-set sizes are unequal.\n",
      "  DeprecationWarning)\n",
      "[Parallel(n_jobs=-1)]: Using backend LokyBackend with 4 concurrent workers.\n"
     ]
    },
    {
     "name": "stdout",
     "output_type": "stream",
     "text": [
      "Fitting 5 folds for each of 480 candidates, totalling 2400 fits\n"
     ]
    },
    {
     "name": "stderr",
     "output_type": "stream",
     "text": [
      "[Parallel(n_jobs=-1)]: Done 104 tasks      | elapsed:    0.7s\n",
      "[Parallel(n_jobs=-1)]: Done 680 tasks      | elapsed:    7.2s\n",
      "[Parallel(n_jobs=-1)]: Done 1640 tasks      | elapsed:   18.8s\n",
      "[Parallel(n_jobs=-1)]: Done 2400 out of 2400 | elapsed:   28.1s finished\n",
      "C:\\Users\\chris\\Anaconda2\\lib\\site-packages\\sklearn\\model_selection\\_search.py:841: DeprecationWarning: The default of the `iid` parameter will change from True to False in version 0.22 and will be removed in 0.24. This will change numeric results when test-set sizes are unequal.\n",
      "  DeprecationWarning)\n",
      "[Parallel(n_jobs=-1)]: Using backend LokyBackend with 4 concurrent workers.\n"
     ]
    },
    {
     "name": "stdout",
     "output_type": "stream",
     "text": [
      "Games predicted: 245\n",
      "\n",
      "\n",
      "Now Starting Simulation Number: 49\n",
      "\n",
      "\n",
      "{'n_estimators': [10, 12, 14, 16, 18, 20, 22, 24, 26, 28], 'loss': ['ls', 'huber'], 'learning_rate': array([0.1, 0.2, 0.3, 0.4, 0.5, 0.6]), 'max_depth': [1, 2, 3, 4]}\n",
      "Fitting 5 folds for each of 480 candidates, totalling 2400 fits\n"
     ]
    },
    {
     "name": "stderr",
     "output_type": "stream",
     "text": [
      "[Parallel(n_jobs=-1)]: Done 146 tasks      | elapsed:    1.4s\n",
      "[Parallel(n_jobs=-1)]: Done 1298 tasks      | elapsed:   16.4s\n",
      "[Parallel(n_jobs=-1)]: Done 2400 out of 2400 | elapsed:   32.0s finished\n",
      "C:\\Users\\chris\\Anaconda2\\lib\\site-packages\\sklearn\\model_selection\\_search.py:841: DeprecationWarning: The default of the `iid` parameter will change from True to False in version 0.22 and will be removed in 0.24. This will change numeric results when test-set sizes are unequal.\n",
      "  DeprecationWarning)\n"
     ]
    },
    {
     "name": "stdout",
     "output_type": "stream",
     "text": [
      "Fitting 5 folds for each of 480 candidates, totalling 2400 fits\n"
     ]
    },
    {
     "name": "stderr",
     "output_type": "stream",
     "text": [
      "[Parallel(n_jobs=-1)]: Using backend LokyBackend with 4 concurrent workers.\n",
      "[Parallel(n_jobs=-1)]: Done 136 tasks      | elapsed:    1.2s\n",
      "[Parallel(n_jobs=-1)]: Done 904 tasks      | elapsed:   10.7s\n",
      "[Parallel(n_jobs=-1)]: Done 2184 tasks      | elapsed:   25.6s\n",
      "[Parallel(n_jobs=-1)]: Done 2400 out of 2400 | elapsed:   28.7s finished\n",
      "C:\\Users\\chris\\Anaconda2\\lib\\site-packages\\sklearn\\model_selection\\_search.py:841: DeprecationWarning: The default of the `iid` parameter will change from True to False in version 0.22 and will be removed in 0.24. This will change numeric results when test-set sizes are unequal.\n",
      "  DeprecationWarning)\n",
      "[Parallel(n_jobs=-1)]: Using backend LokyBackend with 4 concurrent workers.\n"
     ]
    },
    {
     "name": "stdout",
     "output_type": "stream",
     "text": [
      "Games predicted: 245\n",
      "\n",
      "\n",
      "Now Starting Simulation Number: 50\n",
      "\n",
      "\n",
      "{'n_estimators': [10, 12, 14, 16, 18, 20, 22, 24, 26, 28], 'loss': ['ls', 'huber'], 'learning_rate': array([0.1, 0.2, 0.3, 0.4, 0.5, 0.6]), 'max_depth': [1, 2, 3, 4]}\n",
      "Fitting 5 folds for each of 480 candidates, totalling 2400 fits\n"
     ]
    },
    {
     "name": "stderr",
     "output_type": "stream",
     "text": [
      "[Parallel(n_jobs=-1)]: Done 136 tasks      | elapsed:    1.0s\n",
      "[Parallel(n_jobs=-1)]: Done 904 tasks      | elapsed:   10.1s\n",
      "[Parallel(n_jobs=-1)]: Done 2184 tasks      | elapsed:   25.6s\n",
      "[Parallel(n_jobs=-1)]: Done 2400 out of 2400 | elapsed:   29.1s finished\n",
      "C:\\Users\\chris\\Anaconda2\\lib\\site-packages\\sklearn\\model_selection\\_search.py:841: DeprecationWarning: The default of the `iid` parameter will change from True to False in version 0.22 and will be removed in 0.24. This will change numeric results when test-set sizes are unequal.\n",
      "  DeprecationWarning)\n",
      "[Parallel(n_jobs=-1)]: Using backend LokyBackend with 4 concurrent workers.\n"
     ]
    },
    {
     "name": "stdout",
     "output_type": "stream",
     "text": [
      "Fitting 5 folds for each of 480 candidates, totalling 2400 fits\n"
     ]
    },
    {
     "name": "stderr",
     "output_type": "stream",
     "text": [
      "[Parallel(n_jobs=-1)]: Done 152 tasks      | elapsed:    1.4s\n",
      "[Parallel(n_jobs=-1)]: Done 1304 tasks      | elapsed:   16.6s\n",
      "[Parallel(n_jobs=-1)]: Done 2400 out of 2400 | elapsed:   31.5s finished\n",
      "C:\\Users\\chris\\Anaconda2\\lib\\site-packages\\sklearn\\model_selection\\_search.py:841: DeprecationWarning: The default of the `iid` parameter will change from True to False in version 0.22 and will be removed in 0.24. This will change numeric results when test-set sizes are unequal.\n",
      "  DeprecationWarning)\n",
      "[Parallel(n_jobs=-1)]: Using backend LokyBackend with 4 concurrent workers.\n"
     ]
    },
    {
     "name": "stdout",
     "output_type": "stream",
     "text": [
      "Games predicted: 245\n",
      "\n",
      "\n",
      "Now Starting Simulation Number: 51\n",
      "\n",
      "\n",
      "{'n_estimators': [10, 12, 14, 16, 18, 20, 22, 24, 26, 28], 'loss': ['ls', 'huber'], 'learning_rate': array([0.1, 0.2, 0.3, 0.4, 0.5, 0.6]), 'max_depth': [1, 2, 3, 4]}\n",
      "Fitting 5 folds for each of 480 candidates, totalling 2400 fits\n"
     ]
    },
    {
     "name": "stderr",
     "output_type": "stream",
     "text": [
      "[Parallel(n_jobs=-1)]: Done 168 tasks      | elapsed:    1.5s\n",
      "[Parallel(n_jobs=-1)]: Done 1128 tasks      | elapsed:   12.7s\n",
      "[Parallel(n_jobs=-1)]: Done 2400 out of 2400 | elapsed:   27.7s finished\n",
      "C:\\Users\\chris\\Anaconda2\\lib\\site-packages\\sklearn\\model_selection\\_search.py:841: DeprecationWarning: The default of the `iid` parameter will change from True to False in version 0.22 and will be removed in 0.24. This will change numeric results when test-set sizes are unequal.\n",
      "  DeprecationWarning)\n",
      "[Parallel(n_jobs=-1)]: Using backend LokyBackend with 4 concurrent workers.\n"
     ]
    },
    {
     "name": "stdout",
     "output_type": "stream",
     "text": [
      "Fitting 5 folds for each of 480 candidates, totalling 2400 fits\n"
     ]
    },
    {
     "name": "stderr",
     "output_type": "stream",
     "text": [
      "[Parallel(n_jobs=-1)]: Done 200 tasks      | elapsed:    2.0s\n",
      "[Parallel(n_jobs=-1)]: Done 1460 tasks      | elapsed:   16.6s\n",
      "[Parallel(n_jobs=-1)]: Done 2400 out of 2400 | elapsed:   29.0s finished\n",
      "C:\\Users\\chris\\Anaconda2\\lib\\site-packages\\sklearn\\model_selection\\_search.py:841: DeprecationWarning: The default of the `iid` parameter will change from True to False in version 0.22 and will be removed in 0.24. This will change numeric results when test-set sizes are unequal.\n",
      "  DeprecationWarning)\n",
      "[Parallel(n_jobs=-1)]: Using backend LokyBackend with 4 concurrent workers.\n"
     ]
    },
    {
     "name": "stdout",
     "output_type": "stream",
     "text": [
      "Games predicted: 245\n",
      "\n",
      "\n",
      "Now Starting Simulation Number: 52\n",
      "\n",
      "\n",
      "{'n_estimators': [10, 12, 14, 16, 18, 20, 22, 24, 26, 28], 'loss': ['ls', 'huber'], 'learning_rate': array([0.1, 0.2, 0.3, 0.4, 0.5, 0.6]), 'max_depth': [1, 2, 3, 4]}\n",
      "Fitting 5 folds for each of 480 candidates, totalling 2400 fits\n"
     ]
    },
    {
     "name": "stderr",
     "output_type": "stream",
     "text": [
      "[Parallel(n_jobs=-1)]: Done 136 tasks      | elapsed:    1.2s\n",
      "[Parallel(n_jobs=-1)]: Done 904 tasks      | elapsed:   11.3s\n",
      "[Parallel(n_jobs=-1)]: Done 2184 tasks      | elapsed:   28.4s\n",
      "[Parallel(n_jobs=-1)]: Done 2400 out of 2400 | elapsed:   31.8s finished\n",
      "C:\\Users\\chris\\Anaconda2\\lib\\site-packages\\sklearn\\model_selection\\_search.py:841: DeprecationWarning: The default of the `iid` parameter will change from True to False in version 0.22 and will be removed in 0.24. This will change numeric results when test-set sizes are unequal.\n",
      "  DeprecationWarning)\n",
      "[Parallel(n_jobs=-1)]: Using backend LokyBackend with 4 concurrent workers.\n"
     ]
    },
    {
     "name": "stdout",
     "output_type": "stream",
     "text": [
      "Fitting 5 folds for each of 480 candidates, totalling 2400 fits\n"
     ]
    },
    {
     "name": "stderr",
     "output_type": "stream",
     "text": [
      "[Parallel(n_jobs=-1)]: Done 136 tasks      | elapsed:    1.1s\n",
      "[Parallel(n_jobs=-1)]: Done 904 tasks      | elapsed:   10.2s\n",
      "[Parallel(n_jobs=-1)]: Done 2184 tasks      | elapsed:   24.5s\n",
      "[Parallel(n_jobs=-1)]: Done 2400 out of 2400 | elapsed:   27.6s finished\n",
      "C:\\Users\\chris\\Anaconda2\\lib\\site-packages\\sklearn\\model_selection\\_search.py:841: DeprecationWarning: The default of the `iid` parameter will change from True to False in version 0.22 and will be removed in 0.24. This will change numeric results when test-set sizes are unequal.\n",
      "  DeprecationWarning)\n",
      "[Parallel(n_jobs=-1)]: Using backend LokyBackend with 4 concurrent workers.\n"
     ]
    },
    {
     "name": "stdout",
     "output_type": "stream",
     "text": [
      "Games predicted: 245\n",
      "\n",
      "\n",
      "Now Starting Simulation Number: 53\n",
      "\n",
      "\n",
      "{'n_estimators': [10, 12, 14, 16, 18, 20, 22, 24, 26, 28], 'loss': ['ls', 'huber'], 'learning_rate': array([0.1, 0.2, 0.3, 0.4, 0.5, 0.6]), 'max_depth': [1, 2, 3, 4]}\n",
      "Fitting 5 folds for each of 480 candidates, totalling 2400 fits\n"
     ]
    },
    {
     "name": "stderr",
     "output_type": "stream",
     "text": [
      "[Parallel(n_jobs=-1)]: Done 136 tasks      | elapsed:    1.1s\n",
      "[Parallel(n_jobs=-1)]: Done 904 tasks      | elapsed:   10.0s\n",
      "[Parallel(n_jobs=-1)]: Done 2184 tasks      | elapsed:   25.3s\n",
      "[Parallel(n_jobs=-1)]: Done 2400 out of 2400 | elapsed:   28.6s finished\n",
      "C:\\Users\\chris\\Anaconda2\\lib\\site-packages\\sklearn\\model_selection\\_search.py:841: DeprecationWarning: The default of the `iid` parameter will change from True to False in version 0.22 and will be removed in 0.24. This will change numeric results when test-set sizes are unequal.\n",
      "  DeprecationWarning)\n",
      "[Parallel(n_jobs=-1)]: Using backend LokyBackend with 4 concurrent workers.\n"
     ]
    },
    {
     "name": "stdout",
     "output_type": "stream",
     "text": [
      "Fitting 5 folds for each of 480 candidates, totalling 2400 fits\n"
     ]
    },
    {
     "name": "stderr",
     "output_type": "stream",
     "text": [
      "[Parallel(n_jobs=-1)]: Done 136 tasks      | elapsed:    1.1s\n",
      "[Parallel(n_jobs=-1)]: Done 904 tasks      | elapsed:   11.0s\n",
      "[Parallel(n_jobs=-1)]: Done 2184 tasks      | elapsed:   27.5s\n",
      "[Parallel(n_jobs=-1)]: Done 2400 out of 2400 | elapsed:   30.8s finished\n",
      "C:\\Users\\chris\\Anaconda2\\lib\\site-packages\\sklearn\\model_selection\\_search.py:841: DeprecationWarning: The default of the `iid` parameter will change from True to False in version 0.22 and will be removed in 0.24. This will change numeric results when test-set sizes are unequal.\n",
      "  DeprecationWarning)\n",
      "[Parallel(n_jobs=-1)]: Using backend LokyBackend with 4 concurrent workers.\n"
     ]
    },
    {
     "name": "stdout",
     "output_type": "stream",
     "text": [
      "Games predicted: 245\n",
      "\n",
      "\n",
      "Now Starting Simulation Number: 54\n",
      "\n",
      "\n",
      "{'n_estimators': [10, 12, 14, 16, 18, 20, 22, 24, 26, 28], 'loss': ['ls', 'huber'], 'learning_rate': array([0.1, 0.2, 0.3, 0.4, 0.5, 0.6]), 'max_depth': [1, 2, 3, 4]}\n",
      "Fitting 5 folds for each of 480 candidates, totalling 2400 fits\n"
     ]
    },
    {
     "name": "stderr",
     "output_type": "stream",
     "text": [
      "[Parallel(n_jobs=-1)]: Done 136 tasks      | elapsed:    1.1s\n",
      "[Parallel(n_jobs=-1)]: Done 904 tasks      | elapsed:   10.3s\n",
      "[Parallel(n_jobs=-1)]: Done 2184 tasks      | elapsed:   25.1s\n",
      "[Parallel(n_jobs=-1)]: Done 2400 out of 2400 | elapsed:   28.4s finished\n",
      "C:\\Users\\chris\\Anaconda2\\lib\\site-packages\\sklearn\\model_selection\\_search.py:841: DeprecationWarning: The default of the `iid` parameter will change from True to False in version 0.22 and will be removed in 0.24. This will change numeric results when test-set sizes are unequal.\n",
      "  DeprecationWarning)\n",
      "[Parallel(n_jobs=-1)]: Using backend LokyBackend with 4 concurrent workers.\n"
     ]
    },
    {
     "name": "stdout",
     "output_type": "stream",
     "text": [
      "Fitting 5 folds for each of 480 candidates, totalling 2400 fits\n"
     ]
    },
    {
     "name": "stderr",
     "output_type": "stream",
     "text": [
      "[Parallel(n_jobs=-1)]: Done 152 tasks      | elapsed:    1.3s\n",
      "[Parallel(n_jobs=-1)]: Done 1304 tasks      | elapsed:   15.2s\n",
      "[Parallel(n_jobs=-1)]: Done 2400 out of 2400 | elapsed:   29.6s finished\n",
      "C:\\Users\\chris\\Anaconda2\\lib\\site-packages\\sklearn\\model_selection\\_search.py:841: DeprecationWarning: The default of the `iid` parameter will change from True to False in version 0.22 and will be removed in 0.24. This will change numeric results when test-set sizes are unequal.\n",
      "  DeprecationWarning)\n",
      "[Parallel(n_jobs=-1)]: Using backend LokyBackend with 4 concurrent workers.\n"
     ]
    },
    {
     "name": "stdout",
     "output_type": "stream",
     "text": [
      "Games predicted: 245\n",
      "\n",
      "\n",
      "Now Starting Simulation Number: 55\n",
      "\n",
      "\n",
      "{'n_estimators': [10, 12, 14, 16, 18, 20, 22, 24, 26, 28], 'loss': ['ls', 'huber'], 'learning_rate': array([0.1, 0.2, 0.3, 0.4, 0.5, 0.6]), 'max_depth': [1, 2, 3, 4]}\n",
      "Fitting 5 folds for each of 480 candidates, totalling 2400 fits\n"
     ]
    },
    {
     "name": "stderr",
     "output_type": "stream",
     "text": [
      "[Parallel(n_jobs=-1)]: Done 136 tasks      | elapsed:    1.2s\n",
      "[Parallel(n_jobs=-1)]: Done 904 tasks      | elapsed:   11.6s\n",
      "[Parallel(n_jobs=-1)]: Done 2184 tasks      | elapsed:   28.1s\n",
      "[Parallel(n_jobs=-1)]: Done 2400 out of 2400 | elapsed:   31.3s finished\n",
      "C:\\Users\\chris\\Anaconda2\\lib\\site-packages\\sklearn\\model_selection\\_search.py:841: DeprecationWarning: The default of the `iid` parameter will change from True to False in version 0.22 and will be removed in 0.24. This will change numeric results when test-set sizes are unequal.\n",
      "  DeprecationWarning)\n",
      "[Parallel(n_jobs=-1)]: Using backend LokyBackend with 4 concurrent workers.\n"
     ]
    },
    {
     "name": "stdout",
     "output_type": "stream",
     "text": [
      "Fitting 5 folds for each of 480 candidates, totalling 2400 fits\n"
     ]
    },
    {
     "name": "stderr",
     "output_type": "stream",
     "text": [
      "[Parallel(n_jobs=-1)]: Done 136 tasks      | elapsed:    1.1s\n",
      "[Parallel(n_jobs=-1)]: Done 904 tasks      | elapsed:    9.8s\n",
      "[Parallel(n_jobs=-1)]: Done 2184 tasks      | elapsed:   24.2s\n",
      "[Parallel(n_jobs=-1)]: Done 2400 out of 2400 | elapsed:   27.4s finished\n",
      "C:\\Users\\chris\\Anaconda2\\lib\\site-packages\\sklearn\\model_selection\\_search.py:841: DeprecationWarning: The default of the `iid` parameter will change from True to False in version 0.22 and will be removed in 0.24. This will change numeric results when test-set sizes are unequal.\n",
      "  DeprecationWarning)\n",
      "[Parallel(n_jobs=-1)]: Using backend LokyBackend with 4 concurrent workers.\n"
     ]
    },
    {
     "name": "stdout",
     "output_type": "stream",
     "text": [
      "Games predicted: 245\n",
      "\n",
      "\n",
      "Now Starting Simulation Number: 56\n",
      "\n",
      "\n",
      "{'n_estimators': [10, 12, 14, 16, 18, 20, 22, 24, 26, 28], 'loss': ['ls', 'huber'], 'learning_rate': array([0.1, 0.2, 0.3, 0.4, 0.5, 0.6]), 'max_depth': [1, 2, 3, 4]}\n",
      "Fitting 5 folds for each of 480 candidates, totalling 2400 fits\n"
     ]
    },
    {
     "name": "stderr",
     "output_type": "stream",
     "text": [
      "[Parallel(n_jobs=-1)]: Done 168 tasks      | elapsed:    1.4s\n",
      "[Parallel(n_jobs=-1)]: Done 1512 tasks      | elapsed:   17.5s\n",
      "[Parallel(n_jobs=-1)]: Done 2400 out of 2400 | elapsed:   29.5s finished\n",
      "C:\\Users\\chris\\Anaconda2\\lib\\site-packages\\sklearn\\model_selection\\_search.py:841: DeprecationWarning: The default of the `iid` parameter will change from True to False in version 0.22 and will be removed in 0.24. This will change numeric results when test-set sizes are unequal.\n",
      "  DeprecationWarning)\n",
      "[Parallel(n_jobs=-1)]: Using backend LokyBackend with 4 concurrent workers.\n"
     ]
    },
    {
     "name": "stdout",
     "output_type": "stream",
     "text": [
      "Fitting 5 folds for each of 480 candidates, totalling 2400 fits\n"
     ]
    },
    {
     "name": "stderr",
     "output_type": "stream",
     "text": [
      "[Parallel(n_jobs=-1)]: Done 152 tasks      | elapsed:    1.5s\n",
      "[Parallel(n_jobs=-1)]: Done 1304 tasks      | elapsed:   16.5s\n",
      "[Parallel(n_jobs=-1)]: Done 2400 out of 2400 | elapsed:   29.9s finished\n",
      "C:\\Users\\chris\\Anaconda2\\lib\\site-packages\\sklearn\\model_selection\\_search.py:841: DeprecationWarning: The default of the `iid` parameter will change from True to False in version 0.22 and will be removed in 0.24. This will change numeric results when test-set sizes are unequal.\n",
      "  DeprecationWarning)\n",
      "[Parallel(n_jobs=-1)]: Using backend LokyBackend with 4 concurrent workers.\n"
     ]
    },
    {
     "name": "stdout",
     "output_type": "stream",
     "text": [
      "Games predicted: 245\n",
      "\n",
      "\n",
      "Now Starting Simulation Number: 57\n",
      "\n",
      "\n",
      "{'n_estimators': [10, 12, 14, 16, 18, 20, 22, 24, 26, 28], 'loss': ['ls', 'huber'], 'learning_rate': array([0.1, 0.2, 0.3, 0.4, 0.5, 0.6]), 'max_depth': [1, 2, 3, 4]}\n",
      "Fitting 5 folds for each of 480 candidates, totalling 2400 fits\n"
     ]
    },
    {
     "name": "stderr",
     "output_type": "stream",
     "text": [
      "[Parallel(n_jobs=-1)]: Done 136 tasks      | elapsed:    1.0s\n",
      "[Parallel(n_jobs=-1)]: Done 904 tasks      | elapsed:    9.9s\n",
      "[Parallel(n_jobs=-1)]: Done 2184 tasks      | elapsed:   24.7s\n",
      "[Parallel(n_jobs=-1)]: Done 2400 out of 2400 | elapsed:   28.0s finished\n",
      "C:\\Users\\chris\\Anaconda2\\lib\\site-packages\\sklearn\\model_selection\\_search.py:841: DeprecationWarning: The default of the `iid` parameter will change from True to False in version 0.22 and will be removed in 0.24. This will change numeric results when test-set sizes are unequal.\n",
      "  DeprecationWarning)\n",
      "[Parallel(n_jobs=-1)]: Using backend LokyBackend with 4 concurrent workers.\n"
     ]
    },
    {
     "name": "stdout",
     "output_type": "stream",
     "text": [
      "Fitting 5 folds for each of 480 candidates, totalling 2400 fits\n"
     ]
    },
    {
     "name": "stderr",
     "output_type": "stream",
     "text": [
      "[Parallel(n_jobs=-1)]: Done 104 tasks      | elapsed:    0.7s\n",
      "[Parallel(n_jobs=-1)]: Done 680 tasks      | elapsed:    7.8s\n",
      "[Parallel(n_jobs=-1)]: Done 1640 tasks      | elapsed:   20.4s\n",
      "[Parallel(n_jobs=-1)]: Done 2400 out of 2400 | elapsed:   30.7s finished\n",
      "C:\\Users\\chris\\Anaconda2\\lib\\site-packages\\sklearn\\model_selection\\_search.py:841: DeprecationWarning: The default of the `iid` parameter will change from True to False in version 0.22 and will be removed in 0.24. This will change numeric results when test-set sizes are unequal.\n",
      "  DeprecationWarning)\n",
      "[Parallel(n_jobs=-1)]: Using backend LokyBackend with 4 concurrent workers.\n"
     ]
    },
    {
     "name": "stdout",
     "output_type": "stream",
     "text": [
      "Games predicted: 245\n",
      "\n",
      "\n",
      "Now Starting Simulation Number: 58\n",
      "\n",
      "\n",
      "{'n_estimators': [10, 12, 14, 16, 18, 20, 22, 24, 26, 28], 'loss': ['ls', 'huber'], 'learning_rate': array([0.1, 0.2, 0.3, 0.4, 0.5, 0.6]), 'max_depth': [1, 2, 3, 4]}\n",
      "Fitting 5 folds for each of 480 candidates, totalling 2400 fits\n"
     ]
    },
    {
     "name": "stderr",
     "output_type": "stream",
     "text": [
      "[Parallel(n_jobs=-1)]: Done 168 tasks      | elapsed:    1.6s\n",
      "[Parallel(n_jobs=-1)]: Done 1512 tasks      | elapsed:   18.0s\n",
      "[Parallel(n_jobs=-1)]: Done 2400 out of 2400 | elapsed:   28.8s finished\n",
      "C:\\Users\\chris\\Anaconda2\\lib\\site-packages\\sklearn\\model_selection\\_search.py:841: DeprecationWarning: The default of the `iid` parameter will change from True to False in version 0.22 and will be removed in 0.24. This will change numeric results when test-set sizes are unequal.\n",
      "  DeprecationWarning)\n",
      "[Parallel(n_jobs=-1)]: Using backend LokyBackend with 4 concurrent workers.\n"
     ]
    },
    {
     "name": "stdout",
     "output_type": "stream",
     "text": [
      "Fitting 5 folds for each of 480 candidates, totalling 2400 fits\n"
     ]
    },
    {
     "name": "stderr",
     "output_type": "stream",
     "text": [
      "[Parallel(n_jobs=-1)]: Done 136 tasks      | elapsed:    1.0s\n",
      "[Parallel(n_jobs=-1)]: Done 904 tasks      | elapsed:   10.0s\n",
      "[Parallel(n_jobs=-1)]: Done 2184 tasks      | elapsed:   25.4s\n",
      "[Parallel(n_jobs=-1)]: Done 2400 out of 2400 | elapsed:   29.4s finished\n",
      "C:\\Users\\chris\\Anaconda2\\lib\\site-packages\\sklearn\\model_selection\\_search.py:841: DeprecationWarning: The default of the `iid` parameter will change from True to False in version 0.22 and will be removed in 0.24. This will change numeric results when test-set sizes are unequal.\n",
      "  DeprecationWarning)\n"
     ]
    },
    {
     "name": "stdout",
     "output_type": "stream",
     "text": [
      "Games predicted: 245\n",
      "\n",
      "\n",
      "Now Starting Simulation Number: 59\n",
      "\n",
      "\n",
      "{'n_estimators': [10, 12, 14, 16, 18, 20, 22, 24, 26, 28], 'loss': ['ls', 'huber'], 'learning_rate': array([0.1, 0.2, 0.3, 0.4, 0.5, 0.6]), 'max_depth': [1, 2, 3, 4]}\n",
      "Fitting 5 folds for each of 480 candidates, totalling 2400 fits\n"
     ]
    },
    {
     "name": "stderr",
     "output_type": "stream",
     "text": [
      "[Parallel(n_jobs=-1)]: Using backend LokyBackend with 4 concurrent workers.\n",
      "[Parallel(n_jobs=-1)]: Done 104 tasks      | elapsed:    1.0s\n",
      "[Parallel(n_jobs=-1)]: Done 680 tasks      | elapsed:    8.2s\n",
      "[Parallel(n_jobs=-1)]: Done 1640 tasks      | elapsed:   21.7s\n",
      "[Parallel(n_jobs=-1)]: Done 2400 out of 2400 | elapsed:   32.8s finished\n",
      "C:\\Users\\chris\\Anaconda2\\lib\\site-packages\\sklearn\\model_selection\\_search.py:841: DeprecationWarning: The default of the `iid` parameter will change from True to False in version 0.22 and will be removed in 0.24. This will change numeric results when test-set sizes are unequal.\n",
      "  DeprecationWarning)\n",
      "[Parallel(n_jobs=-1)]: Using backend LokyBackend with 4 concurrent workers.\n"
     ]
    },
    {
     "name": "stdout",
     "output_type": "stream",
     "text": [
      "Fitting 5 folds for each of 480 candidates, totalling 2400 fits\n"
     ]
    },
    {
     "name": "stderr",
     "output_type": "stream",
     "text": [
      "[Parallel(n_jobs=-1)]: Done 152 tasks      | elapsed:    1.5s\n",
      "[Parallel(n_jobs=-1)]: Done 1304 tasks      | elapsed:   15.6s\n",
      "[Parallel(n_jobs=-1)]: Done 2400 out of 2400 | elapsed:   28.7s finished\n",
      "C:\\Users\\chris\\Anaconda2\\lib\\site-packages\\sklearn\\model_selection\\_search.py:841: DeprecationWarning: The default of the `iid` parameter will change from True to False in version 0.22 and will be removed in 0.24. This will change numeric results when test-set sizes are unequal.\n",
      "  DeprecationWarning)\n"
     ]
    },
    {
     "name": "stdout",
     "output_type": "stream",
     "text": [
      "Games predicted: 245\n",
      "\n",
      "\n",
      "Now Starting Simulation Number: 60\n",
      "\n",
      "\n",
      "{'n_estimators': [10, 12, 14, 16, 18, 20, 22, 24, 26, 28], 'loss': ['ls', 'huber'], 'learning_rate': array([0.1, 0.2, 0.3, 0.4, 0.5, 0.6]), 'max_depth': [1, 2, 3, 4]}\n",
      "Fitting 5 folds for each of 480 candidates, totalling 2400 fits\n"
     ]
    },
    {
     "name": "stderr",
     "output_type": "stream",
     "text": [
      "[Parallel(n_jobs=-1)]: Using backend LokyBackend with 4 concurrent workers.\n",
      "[Parallel(n_jobs=-1)]: Done 136 tasks      | elapsed:    1.2s\n",
      "[Parallel(n_jobs=-1)]: Done 904 tasks      | elapsed:   10.1s\n",
      "[Parallel(n_jobs=-1)]: Done 2184 tasks      | elapsed:   25.2s\n",
      "[Parallel(n_jobs=-1)]: Done 2400 out of 2400 | elapsed:   28.6s finished\n",
      "C:\\Users\\chris\\Anaconda2\\lib\\site-packages\\sklearn\\model_selection\\_search.py:841: DeprecationWarning: The default of the `iid` parameter will change from True to False in version 0.22 and will be removed in 0.24. This will change numeric results when test-set sizes are unequal.\n",
      "  DeprecationWarning)\n",
      "[Parallel(n_jobs=-1)]: Using backend LokyBackend with 4 concurrent workers.\n"
     ]
    },
    {
     "name": "stdout",
     "output_type": "stream",
     "text": [
      "Fitting 5 folds for each of 480 candidates, totalling 2400 fits\n"
     ]
    },
    {
     "name": "stderr",
     "output_type": "stream",
     "text": [
      "[Parallel(n_jobs=-1)]: Done 136 tasks      | elapsed:    1.1s\n",
      "[Parallel(n_jobs=-1)]: Done 904 tasks      | elapsed:   10.9s\n",
      "[Parallel(n_jobs=-1)]: Done 2184 tasks      | elapsed:   27.7s\n",
      "[Parallel(n_jobs=-1)]: Done 2400 out of 2400 | elapsed:   31.3s finished\n",
      "C:\\Users\\chris\\Anaconda2\\lib\\site-packages\\sklearn\\model_selection\\_search.py:841: DeprecationWarning: The default of the `iid` parameter will change from True to False in version 0.22 and will be removed in 0.24. This will change numeric results when test-set sizes are unequal.\n",
      "  DeprecationWarning)\n"
     ]
    },
    {
     "name": "stdout",
     "output_type": "stream",
     "text": [
      "Games predicted: 245\n",
      "\n",
      "\n",
      "Now Starting Simulation Number: 61\n",
      "\n",
      "\n",
      "{'n_estimators': [10, 12, 14, 16, 18, 20, 22, 24, 26, 28], 'loss': ['ls', 'huber'], 'learning_rate': array([0.1, 0.2, 0.3, 0.4, 0.5, 0.6]), 'max_depth': [1, 2, 3, 4]}\n",
      "Fitting 5 folds for each of 480 candidates, totalling 2400 fits\n"
     ]
    },
    {
     "name": "stderr",
     "output_type": "stream",
     "text": [
      "[Parallel(n_jobs=-1)]: Using backend LokyBackend with 4 concurrent workers.\n",
      "[Parallel(n_jobs=-1)]: Done 104 tasks      | elapsed:    1.2s\n",
      "[Parallel(n_jobs=-1)]: Done 680 tasks      | elapsed:    8.3s\n",
      "[Parallel(n_jobs=-1)]: Done 1640 tasks      | elapsed:   19.9s\n",
      "[Parallel(n_jobs=-1)]: Done 2400 out of 2400 | elapsed:   28.9s finished\n",
      "C:\\Users\\chris\\Anaconda2\\lib\\site-packages\\sklearn\\model_selection\\_search.py:841: DeprecationWarning: The default of the `iid` parameter will change from True to False in version 0.22 and will be removed in 0.24. This will change numeric results when test-set sizes are unequal.\n",
      "  DeprecationWarning)\n",
      "[Parallel(n_jobs=-1)]: Using backend LokyBackend with 4 concurrent workers.\n"
     ]
    },
    {
     "name": "stdout",
     "output_type": "stream",
     "text": [
      "Fitting 5 folds for each of 480 candidates, totalling 2400 fits\n"
     ]
    },
    {
     "name": "stderr",
     "output_type": "stream",
     "text": [
      "[Parallel(n_jobs=-1)]: Done 140 tasks      | elapsed:    1.3s\n",
      "[Parallel(n_jobs=-1)]: Done 1292 tasks      | elapsed:   14.5s\n",
      "[Parallel(n_jobs=-1)]: Done 2400 out of 2400 | elapsed:   29.1s finished\n",
      "C:\\Users\\chris\\Anaconda2\\lib\\site-packages\\sklearn\\model_selection\\_search.py:841: DeprecationWarning: The default of the `iid` parameter will change from True to False in version 0.22 and will be removed in 0.24. This will change numeric results when test-set sizes are unequal.\n",
      "  DeprecationWarning)\n"
     ]
    },
    {
     "name": "stdout",
     "output_type": "stream",
     "text": [
      "Games predicted: 245\n",
      "\n",
      "\n",
      "Now Starting Simulation Number: 62\n",
      "\n",
      "\n",
      "{'n_estimators': [10, 12, 14, 16, 18, 20, 22, 24, 26, 28], 'loss': ['ls', 'huber'], 'learning_rate': array([0.1, 0.2, 0.3, 0.4, 0.5, 0.6]), 'max_depth': [1, 2, 3, 4]}\n",
      "Fitting 5 folds for each of 480 candidates, totalling 2400 fits\n"
     ]
    },
    {
     "name": "stderr",
     "output_type": "stream",
     "text": [
      "[Parallel(n_jobs=-1)]: Using backend LokyBackend with 4 concurrent workers.\n",
      "[Parallel(n_jobs=-1)]: Done 136 tasks      | elapsed:    1.3s\n",
      "[Parallel(n_jobs=-1)]: Done 904 tasks      | elapsed:   11.4s\n",
      "[Parallel(n_jobs=-1)]: Done 2184 tasks      | elapsed:   27.8s\n",
      "[Parallel(n_jobs=-1)]: Done 2400 out of 2400 | elapsed:   31.1s finished\n",
      "C:\\Users\\chris\\Anaconda2\\lib\\site-packages\\sklearn\\model_selection\\_search.py:841: DeprecationWarning: The default of the `iid` parameter will change from True to False in version 0.22 and will be removed in 0.24. This will change numeric results when test-set sizes are unequal.\n",
      "  DeprecationWarning)\n",
      "[Parallel(n_jobs=-1)]: Using backend LokyBackend with 4 concurrent workers.\n"
     ]
    },
    {
     "name": "stdout",
     "output_type": "stream",
     "text": [
      "Fitting 5 folds for each of 480 candidates, totalling 2400 fits\n"
     ]
    },
    {
     "name": "stderr",
     "output_type": "stream",
     "text": [
      "[Parallel(n_jobs=-1)]: Done 152 tasks      | elapsed:    1.3s\n",
      "[Parallel(n_jobs=-1)]: Done 1304 tasks      | elapsed:   14.6s\n",
      "[Parallel(n_jobs=-1)]: Done 2400 out of 2400 | elapsed:   28.0s finished\n",
      "C:\\Users\\chris\\Anaconda2\\lib\\site-packages\\sklearn\\model_selection\\_search.py:841: DeprecationWarning: The default of the `iid` parameter will change from True to False in version 0.22 and will be removed in 0.24. This will change numeric results when test-set sizes are unequal.\n",
      "  DeprecationWarning)\n"
     ]
    },
    {
     "name": "stdout",
     "output_type": "stream",
     "text": [
      "Games predicted: 245\n",
      "\n",
      "\n",
      "Now Starting Simulation Number: 63\n",
      "\n",
      "\n",
      "{'n_estimators': [10, 12, 14, 16, 18, 20, 22, 24, 26, 28], 'loss': ['ls', 'huber'], 'learning_rate': array([0.1, 0.2, 0.3, 0.4, 0.5, 0.6]), 'max_depth': [1, 2, 3, 4]}\n",
      "Fitting 5 folds for each of 480 candidates, totalling 2400 fits\n"
     ]
    },
    {
     "name": "stderr",
     "output_type": "stream",
     "text": [
      "[Parallel(n_jobs=-1)]: Using backend LokyBackend with 4 concurrent workers.\n",
      "[Parallel(n_jobs=-1)]: Done 104 tasks      | elapsed:    0.8s\n",
      "[Parallel(n_jobs=-1)]: Done 680 tasks      | elapsed:    7.6s\n",
      "[Parallel(n_jobs=-1)]: Done 1640 tasks      | elapsed:   20.0s\n",
      "[Parallel(n_jobs=-1)]: Done 2400 out of 2400 | elapsed:   30.3s finished\n",
      "C:\\Users\\chris\\Anaconda2\\lib\\site-packages\\sklearn\\model_selection\\_search.py:841: DeprecationWarning: The default of the `iid` parameter will change from True to False in version 0.22 and will be removed in 0.24. This will change numeric results when test-set sizes are unequal.\n",
      "  DeprecationWarning)\n",
      "[Parallel(n_jobs=-1)]: Using backend LokyBackend with 4 concurrent workers.\n"
     ]
    },
    {
     "name": "stdout",
     "output_type": "stream",
     "text": [
      "Fitting 5 folds for each of 480 candidates, totalling 2400 fits\n"
     ]
    },
    {
     "name": "stderr",
     "output_type": "stream",
     "text": [
      "[Parallel(n_jobs=-1)]: Done 136 tasks      | elapsed:    1.2s\n",
      "[Parallel(n_jobs=-1)]: Done 904 tasks      | elapsed:   11.5s\n",
      "[Parallel(n_jobs=-1)]: Done 2184 tasks      | elapsed:   26.6s\n",
      "[Parallel(n_jobs=-1)]: Done 2400 out of 2400 | elapsed:   29.8s finished\n",
      "C:\\Users\\chris\\Anaconda2\\lib\\site-packages\\sklearn\\model_selection\\_search.py:841: DeprecationWarning: The default of the `iid` parameter will change from True to False in version 0.22 and will be removed in 0.24. This will change numeric results when test-set sizes are unequal.\n",
      "  DeprecationWarning)\n",
      "[Parallel(n_jobs=-1)]: Using backend LokyBackend with 4 concurrent workers.\n"
     ]
    },
    {
     "name": "stdout",
     "output_type": "stream",
     "text": [
      "Games predicted: 245\n",
      "\n",
      "\n",
      "Now Starting Simulation Number: 64\n",
      "\n",
      "\n",
      "{'n_estimators': [10, 12, 14, 16, 18, 20, 22, 24, 26, 28], 'loss': ['ls', 'huber'], 'learning_rate': array([0.1, 0.2, 0.3, 0.4, 0.5, 0.6]), 'max_depth': [1, 2, 3, 4]}\n",
      "Fitting 5 folds for each of 480 candidates, totalling 2400 fits\n"
     ]
    },
    {
     "name": "stderr",
     "output_type": "stream",
     "text": [
      "[Parallel(n_jobs=-1)]: Done 136 tasks      | elapsed:    1.1s\n",
      "[Parallel(n_jobs=-1)]: Done 904 tasks      | elapsed:   10.4s\n",
      "[Parallel(n_jobs=-1)]: Done 2184 tasks      | elapsed:   25.1s\n",
      "[Parallel(n_jobs=-1)]: Done 2400 out of 2400 | elapsed:   28.4s finished\n",
      "C:\\Users\\chris\\Anaconda2\\lib\\site-packages\\sklearn\\model_selection\\_search.py:841: DeprecationWarning: The default of the `iid` parameter will change from True to False in version 0.22 and will be removed in 0.24. This will change numeric results when test-set sizes are unequal.\n",
      "  DeprecationWarning)\n",
      "[Parallel(n_jobs=-1)]: Using backend LokyBackend with 4 concurrent workers.\n"
     ]
    },
    {
     "name": "stdout",
     "output_type": "stream",
     "text": [
      "Fitting 5 folds for each of 480 candidates, totalling 2400 fits\n"
     ]
    },
    {
     "name": "stderr",
     "output_type": "stream",
     "text": [
      "[Parallel(n_jobs=-1)]: Done 136 tasks      | elapsed:    1.1s\n",
      "[Parallel(n_jobs=-1)]: Done 904 tasks      | elapsed:   10.7s\n",
      "[Parallel(n_jobs=-1)]: Done 2184 tasks      | elapsed:   26.9s\n",
      "[Parallel(n_jobs=-1)]: Done 2400 out of 2400 | elapsed:   30.8s finished\n",
      "C:\\Users\\chris\\Anaconda2\\lib\\site-packages\\sklearn\\model_selection\\_search.py:841: DeprecationWarning: The default of the `iid` parameter will change from True to False in version 0.22 and will be removed in 0.24. This will change numeric results when test-set sizes are unequal.\n",
      "  DeprecationWarning)\n"
     ]
    },
    {
     "name": "stdout",
     "output_type": "stream",
     "text": [
      "Games predicted: 245\n",
      "\n",
      "\n",
      "Now Starting Simulation Number: 65\n",
      "\n",
      "\n",
      "{'n_estimators': [10, 12, 14, 16, 18, 20, 22, 24, 26, 28], 'loss': ['ls', 'huber'], 'learning_rate': array([0.1, 0.2, 0.3, 0.4, 0.5, 0.6]), 'max_depth': [1, 2, 3, 4]}\n",
      "Fitting 5 folds for each of 480 candidates, totalling 2400 fits\n"
     ]
    },
    {
     "name": "stderr",
     "output_type": "stream",
     "text": [
      "[Parallel(n_jobs=-1)]: Using backend LokyBackend with 4 concurrent workers.\n",
      "[Parallel(n_jobs=-1)]: Done 104 tasks      | elapsed:    0.9s\n",
      "[Parallel(n_jobs=-1)]: Done 680 tasks      | elapsed:    8.5s\n",
      "[Parallel(n_jobs=-1)]: Done 1640 tasks      | elapsed:   21.6s\n",
      "[Parallel(n_jobs=-1)]: Done 2400 out of 2400 | elapsed:   30.8s finished\n",
      "C:\\Users\\chris\\Anaconda2\\lib\\site-packages\\sklearn\\model_selection\\_search.py:841: DeprecationWarning: The default of the `iid` parameter will change from True to False in version 0.22 and will be removed in 0.24. This will change numeric results when test-set sizes are unequal.\n",
      "  DeprecationWarning)\n",
      "[Parallel(n_jobs=-1)]: Using backend LokyBackend with 4 concurrent workers.\n"
     ]
    },
    {
     "name": "stdout",
     "output_type": "stream",
     "text": [
      "Fitting 5 folds for each of 480 candidates, totalling 2400 fits\n"
     ]
    },
    {
     "name": "stderr",
     "output_type": "stream",
     "text": [
      "[Parallel(n_jobs=-1)]: Done 104 tasks      | elapsed:    0.8s\n",
      "[Parallel(n_jobs=-1)]: Done 680 tasks      | elapsed:    7.2s\n",
      "[Parallel(n_jobs=-1)]: Done 1640 tasks      | elapsed:   18.7s\n",
      "[Parallel(n_jobs=-1)]: Done 2400 out of 2400 | elapsed:   28.0s finished\n",
      "C:\\Users\\chris\\Anaconda2\\lib\\site-packages\\sklearn\\model_selection\\_search.py:841: DeprecationWarning: The default of the `iid` parameter will change from True to False in version 0.22 and will be removed in 0.24. This will change numeric results when test-set sizes are unequal.\n",
      "  DeprecationWarning)\n",
      "[Parallel(n_jobs=-1)]: Using backend LokyBackend with 4 concurrent workers.\n"
     ]
    },
    {
     "name": "stdout",
     "output_type": "stream",
     "text": [
      "Games predicted: 245\n",
      "\n",
      "\n",
      "Now Starting Simulation Number: 66\n",
      "\n",
      "\n",
      "{'n_estimators': [10, 12, 14, 16, 18, 20, 22, 24, 26, 28], 'loss': ['ls', 'huber'], 'learning_rate': array([0.1, 0.2, 0.3, 0.4, 0.5, 0.6]), 'max_depth': [1, 2, 3, 4]}\n",
      "Fitting 5 folds for each of 480 candidates, totalling 2400 fits\n"
     ]
    },
    {
     "name": "stderr",
     "output_type": "stream",
     "text": [
      "[Parallel(n_jobs=-1)]: Done 136 tasks      | elapsed:    1.1s\n",
      "[Parallel(n_jobs=-1)]: Done 904 tasks      | elapsed:   10.5s\n",
      "[Parallel(n_jobs=-1)]: Done 2184 tasks      | elapsed:   26.9s\n",
      "[Parallel(n_jobs=-1)]: Done 2400 out of 2400 | elapsed:   30.6s finished\n",
      "C:\\Users\\chris\\Anaconda2\\lib\\site-packages\\sklearn\\model_selection\\_search.py:841: DeprecationWarning: The default of the `iid` parameter will change from True to False in version 0.22 and will be removed in 0.24. This will change numeric results when test-set sizes are unequal.\n",
      "  DeprecationWarning)\n",
      "[Parallel(n_jobs=-1)]: Using backend LokyBackend with 4 concurrent workers.\n"
     ]
    },
    {
     "name": "stdout",
     "output_type": "stream",
     "text": [
      "Fitting 5 folds for each of 480 candidates, totalling 2400 fits\n"
     ]
    },
    {
     "name": "stderr",
     "output_type": "stream",
     "text": [
      "[Parallel(n_jobs=-1)]: Done 104 tasks      | elapsed:    0.8s\n",
      "[Parallel(n_jobs=-1)]: Done 680 tasks      | elapsed:    8.2s\n",
      "[Parallel(n_jobs=-1)]: Done 1640 tasks      | elapsed:   20.3s\n",
      "[Parallel(n_jobs=-1)]: Done 2400 out of 2400 | elapsed:   29.3s finished\n",
      "C:\\Users\\chris\\Anaconda2\\lib\\site-packages\\sklearn\\model_selection\\_search.py:841: DeprecationWarning: The default of the `iid` parameter will change from True to False in version 0.22 and will be removed in 0.24. This will change numeric results when test-set sizes are unequal.\n",
      "  DeprecationWarning)\n"
     ]
    },
    {
     "name": "stdout",
     "output_type": "stream",
     "text": [
      "Games predicted: 245\n",
      "\n",
      "\n",
      "Now Starting Simulation Number: 67\n",
      "\n",
      "\n",
      "{'n_estimators': [10, 12, 14, 16, 18, 20, 22, 24, 26, 28], 'loss': ['ls', 'huber'], 'learning_rate': array([0.1, 0.2, 0.3, 0.4, 0.5, 0.6]), 'max_depth': [1, 2, 3, 4]}\n",
      "Fitting 5 folds for each of 480 candidates, totalling 2400 fits\n"
     ]
    },
    {
     "name": "stderr",
     "output_type": "stream",
     "text": [
      "[Parallel(n_jobs=-1)]: Using backend LokyBackend with 4 concurrent workers.\n",
      "[Parallel(n_jobs=-1)]: Done 136 tasks      | elapsed:    1.1s\n",
      "[Parallel(n_jobs=-1)]: Done 904 tasks      | elapsed:   10.1s\n",
      "[Parallel(n_jobs=-1)]: Done 2184 tasks      | elapsed:   25.0s\n",
      "[Parallel(n_jobs=-1)]: Done 2400 out of 2400 | elapsed:   28.5s finished\n",
      "C:\\Users\\chris\\Anaconda2\\lib\\site-packages\\sklearn\\model_selection\\_search.py:841: DeprecationWarning: The default of the `iid` parameter will change from True to False in version 0.22 and will be removed in 0.24. This will change numeric results when test-set sizes are unequal.\n",
      "  DeprecationWarning)\n",
      "[Parallel(n_jobs=-1)]: Using backend LokyBackend with 4 concurrent workers.\n"
     ]
    },
    {
     "name": "stdout",
     "output_type": "stream",
     "text": [
      "Fitting 5 folds for each of 480 candidates, totalling 2400 fits\n"
     ]
    },
    {
     "name": "stderr",
     "output_type": "stream",
     "text": [
      "[Parallel(n_jobs=-1)]: Done 136 tasks      | elapsed:    1.1s\n",
      "[Parallel(n_jobs=-1)]: Done 904 tasks      | elapsed:   11.0s\n",
      "[Parallel(n_jobs=-1)]: Done 2184 tasks      | elapsed:   27.8s\n",
      "[Parallel(n_jobs=-1)]: Done 2400 out of 2400 | elapsed:   31.2s finished\n",
      "C:\\Users\\chris\\Anaconda2\\lib\\site-packages\\sklearn\\model_selection\\_search.py:841: DeprecationWarning: The default of the `iid` parameter will change from True to False in version 0.22 and will be removed in 0.24. This will change numeric results when test-set sizes are unequal.\n",
      "  DeprecationWarning)\n",
      "[Parallel(n_jobs=-1)]: Using backend LokyBackend with 4 concurrent workers.\n"
     ]
    },
    {
     "name": "stdout",
     "output_type": "stream",
     "text": [
      "Games predicted: 245\n",
      "\n",
      "\n",
      "Now Starting Simulation Number: 68\n",
      "\n",
      "\n",
      "{'n_estimators': [10, 12, 14, 16, 18, 20, 22, 24, 26, 28], 'loss': ['ls', 'huber'], 'learning_rate': array([0.1, 0.2, 0.3, 0.4, 0.5, 0.6]), 'max_depth': [1, 2, 3, 4]}\n",
      "Fitting 5 folds for each of 480 candidates, totalling 2400 fits\n"
     ]
    },
    {
     "name": "stderr",
     "output_type": "stream",
     "text": [
      "[Parallel(n_jobs=-1)]: Done 136 tasks      | elapsed:    1.1s\n",
      "[Parallel(n_jobs=-1)]: Done 904 tasks      | elapsed:   10.4s\n",
      "[Parallel(n_jobs=-1)]: Done 2184 tasks      | elapsed:   25.1s\n",
      "[Parallel(n_jobs=-1)]: Done 2400 out of 2400 | elapsed:   28.4s finished\n",
      "C:\\Users\\chris\\Anaconda2\\lib\\site-packages\\sklearn\\model_selection\\_search.py:841: DeprecationWarning: The default of the `iid` parameter will change from True to False in version 0.22 and will be removed in 0.24. This will change numeric results when test-set sizes are unequal.\n",
      "  DeprecationWarning)\n",
      "[Parallel(n_jobs=-1)]: Using backend LokyBackend with 4 concurrent workers.\n"
     ]
    },
    {
     "name": "stdout",
     "output_type": "stream",
     "text": [
      "Fitting 5 folds for each of 480 candidates, totalling 2400 fits\n"
     ]
    },
    {
     "name": "stderr",
     "output_type": "stream",
     "text": [
      "[Parallel(n_jobs=-1)]: Done 136 tasks      | elapsed:    1.1s\n",
      "[Parallel(n_jobs=-1)]: Done 904 tasks      | elapsed:   10.1s\n",
      "[Parallel(n_jobs=-1)]: Done 2184 tasks      | elapsed:   25.4s\n",
      "[Parallel(n_jobs=-1)]: Done 2400 out of 2400 | elapsed:   28.9s finished\n",
      "C:\\Users\\chris\\Anaconda2\\lib\\site-packages\\sklearn\\model_selection\\_search.py:841: DeprecationWarning: The default of the `iid` parameter will change from True to False in version 0.22 and will be removed in 0.24. This will change numeric results when test-set sizes are unequal.\n",
      "  DeprecationWarning)\n",
      "[Parallel(n_jobs=-1)]: Using backend LokyBackend with 4 concurrent workers.\n"
     ]
    },
    {
     "name": "stdout",
     "output_type": "stream",
     "text": [
      "Games predicted: 245\n",
      "\n",
      "\n",
      "Now Starting Simulation Number: 69\n",
      "\n",
      "\n",
      "{'n_estimators': [10, 12, 14, 16, 18, 20, 22, 24, 26, 28], 'loss': ['ls', 'huber'], 'learning_rate': array([0.1, 0.2, 0.3, 0.4, 0.5, 0.6]), 'max_depth': [1, 2, 3, 4]}\n",
      "Fitting 5 folds for each of 480 candidates, totalling 2400 fits\n"
     ]
    },
    {
     "name": "stderr",
     "output_type": "stream",
     "text": [
      "[Parallel(n_jobs=-1)]: Done 120 tasks      | elapsed:    1.1s\n",
      "[Parallel(n_jobs=-1)]: Done 1080 tasks      | elapsed:   13.8s\n",
      "[Parallel(n_jobs=-1)]: Done 2400 out of 2400 | elapsed:   31.4s finished\n",
      "C:\\Users\\chris\\Anaconda2\\lib\\site-packages\\sklearn\\model_selection\\_search.py:841: DeprecationWarning: The default of the `iid` parameter will change from True to False in version 0.22 and will be removed in 0.24. This will change numeric results when test-set sizes are unequal.\n",
      "  DeprecationWarning)\n",
      "[Parallel(n_jobs=-1)]: Using backend LokyBackend with 4 concurrent workers.\n"
     ]
    },
    {
     "name": "stdout",
     "output_type": "stream",
     "text": [
      "Fitting 5 folds for each of 480 candidates, totalling 2400 fits\n"
     ]
    },
    {
     "name": "stderr",
     "output_type": "stream",
     "text": [
      "[Parallel(n_jobs=-1)]: Done 104 tasks      | elapsed:    0.7s\n",
      "[Parallel(n_jobs=-1)]: Done 680 tasks      | elapsed:    7.2s\n",
      "[Parallel(n_jobs=-1)]: Done 1640 tasks      | elapsed:   18.7s\n",
      "[Parallel(n_jobs=-1)]: Done 2400 out of 2400 | elapsed:   27.7s finished\n",
      "C:\\Users\\chris\\Anaconda2\\lib\\site-packages\\sklearn\\model_selection\\_search.py:841: DeprecationWarning: The default of the `iid` parameter will change from True to False in version 0.22 and will be removed in 0.24. This will change numeric results when test-set sizes are unequal.\n",
      "  DeprecationWarning)\n",
      "[Parallel(n_jobs=-1)]: Using backend LokyBackend with 4 concurrent workers.\n"
     ]
    },
    {
     "name": "stdout",
     "output_type": "stream",
     "text": [
      "Games predicted: 245\n",
      "\n",
      "\n",
      "Now Starting Simulation Number: 70\n",
      "\n",
      "\n",
      "{'n_estimators': [10, 12, 14, 16, 18, 20, 22, 24, 26, 28], 'loss': ['ls', 'huber'], 'learning_rate': array([0.1, 0.2, 0.3, 0.4, 0.5, 0.6]), 'max_depth': [1, 2, 3, 4]}\n",
      "Fitting 5 folds for each of 480 candidates, totalling 2400 fits\n"
     ]
    },
    {
     "name": "stderr",
     "output_type": "stream",
     "text": [
      "[Parallel(n_jobs=-1)]: Done 152 tasks      | elapsed:    1.3s\n",
      "[Parallel(n_jobs=-1)]: Done 1304 tasks      | elapsed:   15.3s\n",
      "[Parallel(n_jobs=-1)]: Done 2400 out of 2400 | elapsed:   29.6s finished\n",
      "C:\\Users\\chris\\Anaconda2\\lib\\site-packages\\sklearn\\model_selection\\_search.py:841: DeprecationWarning: The default of the `iid` parameter will change from True to False in version 0.22 and will be removed in 0.24. This will change numeric results when test-set sizes are unequal.\n",
      "  DeprecationWarning)\n",
      "[Parallel(n_jobs=-1)]: Using backend LokyBackend with 4 concurrent workers.\n"
     ]
    },
    {
     "name": "stdout",
     "output_type": "stream",
     "text": [
      "Fitting 5 folds for each of 480 candidates, totalling 2400 fits\n"
     ]
    },
    {
     "name": "stderr",
     "output_type": "stream",
     "text": [
      "[Parallel(n_jobs=-1)]: Done 136 tasks      | elapsed:    1.2s\n",
      "[Parallel(n_jobs=-1)]: Done 904 tasks      | elapsed:   11.7s\n",
      "[Parallel(n_jobs=-1)]: Done 2184 tasks      | elapsed:   27.3s\n",
      "[Parallel(n_jobs=-1)]: Done 2400 out of 2400 | elapsed:   30.6s finished\n",
      "C:\\Users\\chris\\Anaconda2\\lib\\site-packages\\sklearn\\model_selection\\_search.py:841: DeprecationWarning: The default of the `iid` parameter will change from True to False in version 0.22 and will be removed in 0.24. This will change numeric results when test-set sizes are unequal.\n",
      "  DeprecationWarning)\n",
      "[Parallel(n_jobs=-1)]: Using backend LokyBackend with 4 concurrent workers.\n"
     ]
    },
    {
     "name": "stdout",
     "output_type": "stream",
     "text": [
      "Games predicted: 245\n",
      "\n",
      "\n",
      "Now Starting Simulation Number: 71\n",
      "\n",
      "\n",
      "{'n_estimators': [10, 12, 14, 16, 18, 20, 22, 24, 26, 28], 'loss': ['ls', 'huber'], 'learning_rate': array([0.1, 0.2, 0.3, 0.4, 0.5, 0.6]), 'max_depth': [1, 2, 3, 4]}\n",
      "Fitting 5 folds for each of 480 candidates, totalling 2400 fits\n"
     ]
    },
    {
     "name": "stderr",
     "output_type": "stream",
     "text": [
      "[Parallel(n_jobs=-1)]: Done 184 tasks      | elapsed:    1.6s\n",
      "[Parallel(n_jobs=-1)]: Done 1720 tasks      | elapsed:   19.1s\n",
      "[Parallel(n_jobs=-1)]: Done 2400 out of 2400 | elapsed:   27.4s finished\n",
      "C:\\Users\\chris\\Anaconda2\\lib\\site-packages\\sklearn\\model_selection\\_search.py:841: DeprecationWarning: The default of the `iid` parameter will change from True to False in version 0.22 and will be removed in 0.24. This will change numeric results when test-set sizes are unequal.\n",
      "  DeprecationWarning)\n",
      "[Parallel(n_jobs=-1)]: Using backend LokyBackend with 4 concurrent workers.\n"
     ]
    },
    {
     "name": "stdout",
     "output_type": "stream",
     "text": [
      "Fitting 5 folds for each of 480 candidates, totalling 2400 fits\n"
     ]
    },
    {
     "name": "stderr",
     "output_type": "stream",
     "text": [
      "[Parallel(n_jobs=-1)]: Done 136 tasks      | elapsed:    1.1s\n",
      "[Parallel(n_jobs=-1)]: Done 904 tasks      | elapsed:   10.4s\n",
      "[Parallel(n_jobs=-1)]: Done 2184 tasks      | elapsed:   26.4s\n",
      "[Parallel(n_jobs=-1)]: Done 2400 out of 2400 | elapsed:   30.3s finished\n",
      "C:\\Users\\chris\\Anaconda2\\lib\\site-packages\\sklearn\\model_selection\\_search.py:841: DeprecationWarning: The default of the `iid` parameter will change from True to False in version 0.22 and will be removed in 0.24. This will change numeric results when test-set sizes are unequal.\n",
      "  DeprecationWarning)\n"
     ]
    },
    {
     "name": "stdout",
     "output_type": "stream",
     "text": [
      "Games predicted: 245\n",
      "\n",
      "\n",
      "Now Starting Simulation Number: 72\n",
      "\n",
      "\n",
      "{'n_estimators': [10, 12, 14, 16, 18, 20, 22, 24, 26, 28], 'loss': ['ls', 'huber'], 'learning_rate': array([0.1, 0.2, 0.3, 0.4, 0.5, 0.6]), 'max_depth': [1, 2, 3, 4]}\n",
      "Fitting 5 folds for each of 480 candidates, totalling 2400 fits\n"
     ]
    },
    {
     "name": "stderr",
     "output_type": "stream",
     "text": [
      "[Parallel(n_jobs=-1)]: Using backend LokyBackend with 4 concurrent workers.\n",
      "[Parallel(n_jobs=-1)]: Done 136 tasks      | elapsed:    1.3s\n",
      "[Parallel(n_jobs=-1)]: Done 904 tasks      | elapsed:   11.3s\n",
      "[Parallel(n_jobs=-1)]: Done 2184 tasks      | elapsed:   26.2s\n",
      "[Parallel(n_jobs=-1)]: Done 2400 out of 2400 | elapsed:   29.3s finished\n",
      "C:\\Users\\chris\\Anaconda2\\lib\\site-packages\\sklearn\\model_selection\\_search.py:841: DeprecationWarning: The default of the `iid` parameter will change from True to False in version 0.22 and will be removed in 0.24. This will change numeric results when test-set sizes are unequal.\n",
      "  DeprecationWarning)\n",
      "[Parallel(n_jobs=-1)]: Using backend LokyBackend with 4 concurrent workers.\n"
     ]
    },
    {
     "name": "stdout",
     "output_type": "stream",
     "text": [
      "Fitting 5 folds for each of 480 candidates, totalling 2400 fits\n"
     ]
    },
    {
     "name": "stderr",
     "output_type": "stream",
     "text": [
      "[Parallel(n_jobs=-1)]: Done 136 tasks      | elapsed:    1.1s\n",
      "[Parallel(n_jobs=-1)]: Done 904 tasks      | elapsed:   10.0s\n",
      "[Parallel(n_jobs=-1)]: Done 2184 tasks      | elapsed:   25.1s\n",
      "[Parallel(n_jobs=-1)]: Done 2400 out of 2400 | elapsed:   28.3s finished\n",
      "C:\\Users\\chris\\Anaconda2\\lib\\site-packages\\sklearn\\model_selection\\_search.py:841: DeprecationWarning: The default of the `iid` parameter will change from True to False in version 0.22 and will be removed in 0.24. This will change numeric results when test-set sizes are unequal.\n",
      "  DeprecationWarning)\n"
     ]
    },
    {
     "name": "stdout",
     "output_type": "stream",
     "text": [
      "Games predicted: 245\n",
      "\n",
      "\n",
      "Now Starting Simulation Number: 73\n",
      "\n",
      "\n",
      "{'n_estimators': [10, 12, 14, 16, 18, 20, 22, 24, 26, 28], 'loss': ['ls', 'huber'], 'learning_rate': array([0.1, 0.2, 0.3, 0.4, 0.5, 0.6]), 'max_depth': [1, 2, 3, 4]}\n",
      "Fitting 5 folds for each of 480 candidates, totalling 2400 fits\n"
     ]
    },
    {
     "name": "stderr",
     "output_type": "stream",
     "text": [
      "[Parallel(n_jobs=-1)]: Using backend LokyBackend with 4 concurrent workers.\n",
      "[Parallel(n_jobs=-1)]: Done 200 tasks      | elapsed:    2.0s\n",
      "[Parallel(n_jobs=-1)]: Done 1352 tasks      | elapsed:   16.4s\n",
      "[Parallel(n_jobs=-1)]: Done 2400 out of 2400 | elapsed:   30.9s finished\n",
      "C:\\Users\\chris\\Anaconda2\\lib\\site-packages\\sklearn\\model_selection\\_search.py:841: DeprecationWarning: The default of the `iid` parameter will change from True to False in version 0.22 and will be removed in 0.24. This will change numeric results when test-set sizes are unequal.\n",
      "  DeprecationWarning)\n",
      "[Parallel(n_jobs=-1)]: Using backend LokyBackend with 4 concurrent workers.\n"
     ]
    },
    {
     "name": "stdout",
     "output_type": "stream",
     "text": [
      "Fitting 5 folds for each of 480 candidates, totalling 2400 fits\n"
     ]
    },
    {
     "name": "stderr",
     "output_type": "stream",
     "text": [
      "[Parallel(n_jobs=-1)]: Done 136 tasks      | elapsed:    1.3s\n",
      "[Parallel(n_jobs=-1)]: Done 1288 tasks      | elapsed:   15.0s\n",
      "[Parallel(n_jobs=-1)]: Done 2400 out of 2400 | elapsed:   28.4s finished\n",
      "C:\\Users\\chris\\Anaconda2\\lib\\site-packages\\sklearn\\model_selection\\_search.py:841: DeprecationWarning: The default of the `iid` parameter will change from True to False in version 0.22 and will be removed in 0.24. This will change numeric results when test-set sizes are unequal.\n",
      "  DeprecationWarning)\n",
      "[Parallel(n_jobs=-1)]: Using backend LokyBackend with 4 concurrent workers.\n"
     ]
    },
    {
     "name": "stdout",
     "output_type": "stream",
     "text": [
      "Games predicted: 245\n",
      "\n",
      "\n",
      "Now Starting Simulation Number: 74\n",
      "\n",
      "\n",
      "{'n_estimators': [10, 12, 14, 16, 18, 20, 22, 24, 26, 28], 'loss': ['ls', 'huber'], 'learning_rate': array([0.1, 0.2, 0.3, 0.4, 0.5, 0.6]), 'max_depth': [1, 2, 3, 4]}\n",
      "Fitting 5 folds for each of 480 candidates, totalling 2400 fits\n"
     ]
    },
    {
     "name": "stderr",
     "output_type": "stream",
     "text": [
      "[Parallel(n_jobs=-1)]: Done 168 tasks      | elapsed:    1.4s\n",
      "[Parallel(n_jobs=-1)]: Done 1512 tasks      | elapsed:   16.9s\n",
      "[Parallel(n_jobs=-1)]: Done 2400 out of 2400 | elapsed:   28.8s finished\n",
      "C:\\Users\\chris\\Anaconda2\\lib\\site-packages\\sklearn\\model_selection\\_search.py:841: DeprecationWarning: The default of the `iid` parameter will change from True to False in version 0.22 and will be removed in 0.24. This will change numeric results when test-set sizes are unequal.\n",
      "  DeprecationWarning)\n",
      "[Parallel(n_jobs=-1)]: Using backend LokyBackend with 4 concurrent workers.\n"
     ]
    },
    {
     "name": "stdout",
     "output_type": "stream",
     "text": [
      "Fitting 5 folds for each of 480 candidates, totalling 2400 fits\n"
     ]
    },
    {
     "name": "stderr",
     "output_type": "stream",
     "text": [
      "[Parallel(n_jobs=-1)]: Done 136 tasks      | elapsed:    1.2s\n",
      "[Parallel(n_jobs=-1)]: Done 904 tasks      | elapsed:   11.1s\n",
      "[Parallel(n_jobs=-1)]: Done 2184 tasks      | elapsed:   28.6s\n",
      "[Parallel(n_jobs=-1)]: Done 2400 out of 2400 | elapsed:   32.8s finished\n",
      "C:\\Users\\chris\\Anaconda2\\lib\\site-packages\\sklearn\\model_selection\\_search.py:841: DeprecationWarning: The default of the `iid` parameter will change from True to False in version 0.22 and will be removed in 0.24. This will change numeric results when test-set sizes are unequal.\n",
      "  DeprecationWarning)\n"
     ]
    },
    {
     "name": "stdout",
     "output_type": "stream",
     "text": [
      "Games predicted: 245\n",
      "\n",
      "\n",
      "Now Starting Simulation Number: 75\n",
      "\n",
      "\n",
      "{'n_estimators': [10, 12, 14, 16, 18, 20, 22, 24, 26, 28], 'loss': ['ls', 'huber'], 'learning_rate': array([0.1, 0.2, 0.3, 0.4, 0.5, 0.6]), 'max_depth': [1, 2, 3, 4]}\n",
      "Fitting 5 folds for each of 480 candidates, totalling 2400 fits\n"
     ]
    },
    {
     "name": "stderr",
     "output_type": "stream",
     "text": [
      "[Parallel(n_jobs=-1)]: Using backend LokyBackend with 4 concurrent workers.\n",
      "[Parallel(n_jobs=-1)]: Done 136 tasks      | elapsed:    1.2s\n",
      "[Parallel(n_jobs=-1)]: Done 904 tasks      | elapsed:   10.7s\n",
      "[Parallel(n_jobs=-1)]: Done 2184 tasks      | elapsed:   25.4s\n",
      "[Parallel(n_jobs=-1)]: Done 2400 out of 2400 | elapsed:   28.6s finished\n",
      "C:\\Users\\chris\\Anaconda2\\lib\\site-packages\\sklearn\\model_selection\\_search.py:841: DeprecationWarning: The default of the `iid` parameter will change from True to False in version 0.22 and will be removed in 0.24. This will change numeric results when test-set sizes are unequal.\n",
      "  DeprecationWarning)\n",
      "[Parallel(n_jobs=-1)]: Using backend LokyBackend with 4 concurrent workers.\n"
     ]
    },
    {
     "name": "stdout",
     "output_type": "stream",
     "text": [
      "Fitting 5 folds for each of 480 candidates, totalling 2400 fits\n"
     ]
    },
    {
     "name": "stderr",
     "output_type": "stream",
     "text": [
      "[Parallel(n_jobs=-1)]: Done 136 tasks      | elapsed:    1.1s\n",
      "[Parallel(n_jobs=-1)]: Done 904 tasks      | elapsed:    9.9s\n",
      "[Parallel(n_jobs=-1)]: Done 2184 tasks      | elapsed:   25.0s\n",
      "[Parallel(n_jobs=-1)]: Done 2400 out of 2400 | elapsed:   28.3s finished\n",
      "C:\\Users\\chris\\Anaconda2\\lib\\site-packages\\sklearn\\model_selection\\_search.py:841: DeprecationWarning: The default of the `iid` parameter will change from True to False in version 0.22 and will be removed in 0.24. This will change numeric results when test-set sizes are unequal.\n",
      "  DeprecationWarning)\n"
     ]
    },
    {
     "name": "stdout",
     "output_type": "stream",
     "text": [
      "Games predicted: 245\n",
      "\n",
      "\n",
      "Now Starting Simulation Number: 76\n",
      "\n",
      "\n",
      "{'n_estimators': [10, 12, 14, 16, 18, 20, 22, 24, 26, 28], 'loss': ['ls', 'huber'], 'learning_rate': array([0.1, 0.2, 0.3, 0.4, 0.5, 0.6]), 'max_depth': [1, 2, 3, 4]}\n",
      "Fitting 5 folds for each of 480 candidates, totalling 2400 fits\n"
     ]
    },
    {
     "name": "stderr",
     "output_type": "stream",
     "text": [
      "[Parallel(n_jobs=-1)]: Using backend LokyBackend with 4 concurrent workers.\n",
      "[Parallel(n_jobs=-1)]: Done 216 tasks      | elapsed:    2.2s\n",
      "[Parallel(n_jobs=-1)]: Done 1242 tasks      | elapsed:   15.9s\n",
      "[Parallel(n_jobs=-1)]: Done 2400 out of 2400 | elapsed:   32.0s finished\n",
      "C:\\Users\\chris\\Anaconda2\\lib\\site-packages\\sklearn\\model_selection\\_search.py:841: DeprecationWarning: The default of the `iid` parameter will change from True to False in version 0.22 and will be removed in 0.24. This will change numeric results when test-set sizes are unequal.\n",
      "  DeprecationWarning)\n",
      "[Parallel(n_jobs=-1)]: Using backend LokyBackend with 4 concurrent workers.\n"
     ]
    },
    {
     "name": "stdout",
     "output_type": "stream",
     "text": [
      "Fitting 5 folds for each of 480 candidates, totalling 2400 fits\n"
     ]
    },
    {
     "name": "stderr",
     "output_type": "stream",
     "text": [
      "[Parallel(n_jobs=-1)]: Done 136 tasks      | elapsed:    1.3s\n",
      "[Parallel(n_jobs=-1)]: Done 1288 tasks      | elapsed:   15.1s\n",
      "[Parallel(n_jobs=-1)]: Done 2400 out of 2400 | elapsed:   28.0s finished\n",
      "C:\\Users\\chris\\Anaconda2\\lib\\site-packages\\sklearn\\model_selection\\_search.py:841: DeprecationWarning: The default of the `iid` parameter will change from True to False in version 0.22 and will be removed in 0.24. This will change numeric results when test-set sizes are unequal.\n",
      "  DeprecationWarning)\n",
      "[Parallel(n_jobs=-1)]: Using backend LokyBackend with 4 concurrent workers.\n"
     ]
    },
    {
     "name": "stdout",
     "output_type": "stream",
     "text": [
      "Games predicted: 245\n",
      "\n",
      "\n",
      "Now Starting Simulation Number: 77\n",
      "\n",
      "\n",
      "{'n_estimators': [10, 12, 14, 16, 18, 20, 22, 24, 26, 28], 'loss': ['ls', 'huber'], 'learning_rate': array([0.1, 0.2, 0.3, 0.4, 0.5, 0.6]), 'max_depth': [1, 2, 3, 4]}\n",
      "Fitting 5 folds for each of 480 candidates, totalling 2400 fits\n"
     ]
    },
    {
     "name": "stderr",
     "output_type": "stream",
     "text": [
      "[Parallel(n_jobs=-1)]: Done 152 tasks      | elapsed:    1.3s\n",
      "[Parallel(n_jobs=-1)]: Done 1304 tasks      | elapsed:   15.0s\n",
      "[Parallel(n_jobs=-1)]: Done 2400 out of 2400 | elapsed:   28.5s finished\n",
      "C:\\Users\\chris\\Anaconda2\\lib\\site-packages\\sklearn\\model_selection\\_search.py:841: DeprecationWarning: The default of the `iid` parameter will change from True to False in version 0.22 and will be removed in 0.24. This will change numeric results when test-set sizes are unequal.\n",
      "  DeprecationWarning)\n",
      "[Parallel(n_jobs=-1)]: Using backend LokyBackend with 4 concurrent workers.\n"
     ]
    },
    {
     "name": "stdout",
     "output_type": "stream",
     "text": [
      "Fitting 5 folds for each of 480 candidates, totalling 2400 fits\n"
     ]
    },
    {
     "name": "stderr",
     "output_type": "stream",
     "text": [
      "[Parallel(n_jobs=-1)]: Done 136 tasks      | elapsed:    1.2s\n",
      "[Parallel(n_jobs=-1)]: Done 904 tasks      | elapsed:   11.4s\n",
      "[Parallel(n_jobs=-1)]: Done 2184 tasks      | elapsed:   28.6s\n",
      "[Parallel(n_jobs=-1)]: Done 2400 out of 2400 | elapsed:   32.3s finished\n",
      "C:\\Users\\chris\\Anaconda2\\lib\\site-packages\\sklearn\\model_selection\\_search.py:841: DeprecationWarning: The default of the `iid` parameter will change from True to False in version 0.22 and will be removed in 0.24. This will change numeric results when test-set sizes are unequal.\n",
      "  DeprecationWarning)\n",
      "[Parallel(n_jobs=-1)]: Using backend LokyBackend with 4 concurrent workers.\n"
     ]
    },
    {
     "name": "stdout",
     "output_type": "stream",
     "text": [
      "Games predicted: 245\n",
      "\n",
      "\n",
      "Now Starting Simulation Number: 78\n",
      "\n",
      "\n",
      "{'n_estimators': [10, 12, 14, 16, 18, 20, 22, 24, 26, 28], 'loss': ['ls', 'huber'], 'learning_rate': array([0.1, 0.2, 0.3, 0.4, 0.5, 0.6]), 'max_depth': [1, 2, 3, 4]}\n",
      "Fitting 5 folds for each of 480 candidates, totalling 2400 fits\n"
     ]
    },
    {
     "name": "stderr",
     "output_type": "stream",
     "text": [
      "[Parallel(n_jobs=-1)]: Done 168 tasks      | elapsed:    1.6s\n",
      "[Parallel(n_jobs=-1)]: Done 1128 tasks      | elapsed:   13.4s\n",
      "[Parallel(n_jobs=-1)]: Done 2400 out of 2400 | elapsed:   28.3s finished\n",
      "C:\\Users\\chris\\Anaconda2\\lib\\site-packages\\sklearn\\model_selection\\_search.py:841: DeprecationWarning: The default of the `iid` parameter will change from True to False in version 0.22 and will be removed in 0.24. This will change numeric results when test-set sizes are unequal.\n",
      "  DeprecationWarning)\n",
      "[Parallel(n_jobs=-1)]: Using backend LokyBackend with 4 concurrent workers.\n"
     ]
    },
    {
     "name": "stdout",
     "output_type": "stream",
     "text": [
      "Fitting 5 folds for each of 480 candidates, totalling 2400 fits\n"
     ]
    },
    {
     "name": "stderr",
     "output_type": "stream",
     "text": [
      "[Parallel(n_jobs=-1)]: Done 152 tasks      | elapsed:    1.3s\n",
      "[Parallel(n_jobs=-1)]: Done 1304 tasks      | elapsed:   14.6s\n",
      "[Parallel(n_jobs=-1)]: Done 2400 out of 2400 | elapsed:   27.9s finished\n",
      "C:\\Users\\chris\\Anaconda2\\lib\\site-packages\\sklearn\\model_selection\\_search.py:841: DeprecationWarning: The default of the `iid` parameter will change from True to False in version 0.22 and will be removed in 0.24. This will change numeric results when test-set sizes are unequal.\n",
      "  DeprecationWarning)\n"
     ]
    },
    {
     "name": "stdout",
     "output_type": "stream",
     "text": [
      "Games predicted: 245\n",
      "\n",
      "\n",
      "Now Starting Simulation Number: 79\n",
      "\n",
      "\n",
      "{'n_estimators': [10, 12, 14, 16, 18, 20, 22, 24, 26, 28], 'loss': ['ls', 'huber'], 'learning_rate': array([0.1, 0.2, 0.3, 0.4, 0.5, 0.6]), 'max_depth': [1, 2, 3, 4]}\n",
      "Fitting 5 folds for each of 480 candidates, totalling 2400 fits\n"
     ]
    },
    {
     "name": "stderr",
     "output_type": "stream",
     "text": [
      "[Parallel(n_jobs=-1)]: Using backend LokyBackend with 4 concurrent workers.\n",
      "[Parallel(n_jobs=-1)]: Done 200 tasks      | elapsed:    2.0s\n",
      "[Parallel(n_jobs=-1)]: Done 1352 tasks      | elapsed:   16.7s\n",
      "[Parallel(n_jobs=-1)]: Done 2400 out of 2400 | elapsed:   31.5s finished\n",
      "C:\\Users\\chris\\Anaconda2\\lib\\site-packages\\sklearn\\model_selection\\_search.py:841: DeprecationWarning: The default of the `iid` parameter will change from True to False in version 0.22 and will be removed in 0.24. This will change numeric results when test-set sizes are unequal.\n",
      "  DeprecationWarning)\n",
      "[Parallel(n_jobs=-1)]: Using backend LokyBackend with 4 concurrent workers.\n"
     ]
    },
    {
     "name": "stdout",
     "output_type": "stream",
     "text": [
      "Fitting 5 folds for each of 480 candidates, totalling 2400 fits\n"
     ]
    },
    {
     "name": "stderr",
     "output_type": "stream",
     "text": [
      "[Parallel(n_jobs=-1)]: Done 136 tasks      | elapsed:    1.3s\n",
      "[Parallel(n_jobs=-1)]: Done 1288 tasks      | elapsed:   14.9s\n",
      "[Parallel(n_jobs=-1)]: Done 2400 out of 2400 | elapsed:   27.8s finished\n",
      "C:\\Users\\chris\\Anaconda2\\lib\\site-packages\\sklearn\\model_selection\\_search.py:841: DeprecationWarning: The default of the `iid` parameter will change from True to False in version 0.22 and will be removed in 0.24. This will change numeric results when test-set sizes are unequal.\n",
      "  DeprecationWarning)\n"
     ]
    },
    {
     "name": "stdout",
     "output_type": "stream",
     "text": [
      "Games predicted: 245\n",
      "\n",
      "\n",
      "Now Starting Simulation Number: 80\n",
      "\n",
      "\n",
      "{'n_estimators': [10, 12, 14, 16, 18, 20, 22, 24, 26, 28], 'loss': ['ls', 'huber'], 'learning_rate': array([0.1, 0.2, 0.3, 0.4, 0.5, 0.6]), 'max_depth': [1, 2, 3, 4]}\n",
      "Fitting 5 folds for each of 480 candidates, totalling 2400 fits\n"
     ]
    },
    {
     "name": "stderr",
     "output_type": "stream",
     "text": [
      "[Parallel(n_jobs=-1)]: Using backend LokyBackend with 4 concurrent workers.\n",
      "[Parallel(n_jobs=-1)]: Done 136 tasks      | elapsed:    1.1s\n",
      "[Parallel(n_jobs=-1)]: Done 904 tasks      | elapsed:   10.6s\n",
      "[Parallel(n_jobs=-1)]: Done 2184 tasks      | elapsed:   28.0s\n",
      "[Parallel(n_jobs=-1)]: Done 2400 out of 2400 | elapsed:   31.9s finished\n",
      "C:\\Users\\chris\\Anaconda2\\lib\\site-packages\\sklearn\\model_selection\\_search.py:841: DeprecationWarning: The default of the `iid` parameter will change from True to False in version 0.22 and will be removed in 0.24. This will change numeric results when test-set sizes are unequal.\n",
      "  DeprecationWarning)\n"
     ]
    },
    {
     "name": "stdout",
     "output_type": "stream",
     "text": [
      "Fitting 5 folds for each of 480 candidates, totalling 2400 fits\n"
     ]
    },
    {
     "name": "stderr",
     "output_type": "stream",
     "text": [
      "[Parallel(n_jobs=-1)]: Using backend LokyBackend with 4 concurrent workers.\n",
      "[Parallel(n_jobs=-1)]: Done 152 tasks      | elapsed:    1.5s\n",
      "[Parallel(n_jobs=-1)]: Done 1304 tasks      | elapsed:   16.9s\n",
      "[Parallel(n_jobs=-1)]: Done 2400 out of 2400 | elapsed:   31.1s finished\n",
      "C:\\Users\\chris\\Anaconda2\\lib\\site-packages\\sklearn\\model_selection\\_search.py:841: DeprecationWarning: The default of the `iid` parameter will change from True to False in version 0.22 and will be removed in 0.24. This will change numeric results when test-set sizes are unequal.\n",
      "  DeprecationWarning)\n"
     ]
    },
    {
     "name": "stdout",
     "output_type": "stream",
     "text": [
      "Games predicted: 245\n",
      "\n",
      "\n",
      "Now Starting Simulation Number: 81\n",
      "\n",
      "\n",
      "{'n_estimators': [10, 12, 14, 16, 18, 20, 22, 24, 26, 28], 'loss': ['ls', 'huber'], 'learning_rate': array([0.1, 0.2, 0.3, 0.4, 0.5, 0.6]), 'max_depth': [1, 2, 3, 4]}\n",
      "Fitting 5 folds for each of 480 candidates, totalling 2400 fits\n"
     ]
    },
    {
     "name": "stderr",
     "output_type": "stream",
     "text": [
      "[Parallel(n_jobs=-1)]: Using backend LokyBackend with 4 concurrent workers.\n",
      "[Parallel(n_jobs=-1)]: Done 200 tasks      | elapsed:    1.9s\n",
      "[Parallel(n_jobs=-1)]: Done 1352 tasks      | elapsed:   15.0s\n",
      "[Parallel(n_jobs=-1)]: Done 2400 out of 2400 | elapsed:   27.7s finished\n",
      "C:\\Users\\chris\\Anaconda2\\lib\\site-packages\\sklearn\\model_selection\\_search.py:841: DeprecationWarning: The default of the `iid` parameter will change from True to False in version 0.22 and will be removed in 0.24. This will change numeric results when test-set sizes are unequal.\n",
      "  DeprecationWarning)\n",
      "[Parallel(n_jobs=-1)]: Using backend LokyBackend with 4 concurrent workers.\n"
     ]
    },
    {
     "name": "stdout",
     "output_type": "stream",
     "text": [
      "Fitting 5 folds for each of 480 candidates, totalling 2400 fits\n"
     ]
    },
    {
     "name": "stderr",
     "output_type": "stream",
     "text": [
      "[Parallel(n_jobs=-1)]: Done 184 tasks      | elapsed:    1.7s\n",
      "[Parallel(n_jobs=-1)]: Done 1720 tasks      | elapsed:   20.1s\n",
      "[Parallel(n_jobs=-1)]: Done 2400 out of 2400 | elapsed:   29.1s finished\n",
      "C:\\Users\\chris\\Anaconda2\\lib\\site-packages\\sklearn\\model_selection\\_search.py:841: DeprecationWarning: The default of the `iid` parameter will change from True to False in version 0.22 and will be removed in 0.24. This will change numeric results when test-set sizes are unequal.\n",
      "  DeprecationWarning)\n"
     ]
    },
    {
     "name": "stdout",
     "output_type": "stream",
     "text": [
      "Games predicted: 245\n",
      "\n",
      "\n",
      "Now Starting Simulation Number: 82\n",
      "\n",
      "\n",
      "{'n_estimators': [10, 12, 14, 16, 18, 20, 22, 24, 26, 28], 'loss': ['ls', 'huber'], 'learning_rate': array([0.1, 0.2, 0.3, 0.4, 0.5, 0.6]), 'max_depth': [1, 2, 3, 4]}\n",
      "Fitting 5 folds for each of 480 candidates, totalling 2400 fits\n"
     ]
    },
    {
     "name": "stderr",
     "output_type": "stream",
     "text": [
      "[Parallel(n_jobs=-1)]: Using backend LokyBackend with 4 concurrent workers.\n",
      "[Parallel(n_jobs=-1)]: Done 136 tasks      | elapsed:    1.2s\n",
      "[Parallel(n_jobs=-1)]: Done 904 tasks      | elapsed:   11.7s\n",
      "[Parallel(n_jobs=-1)]: Done 2184 tasks      | elapsed:   28.0s\n",
      "[Parallel(n_jobs=-1)]: Done 2400 out of 2400 | elapsed:   31.2s finished\n",
      "C:\\Users\\chris\\Anaconda2\\lib\\site-packages\\sklearn\\model_selection\\_search.py:841: DeprecationWarning: The default of the `iid` parameter will change from True to False in version 0.22 and will be removed in 0.24. This will change numeric results when test-set sizes are unequal.\n",
      "  DeprecationWarning)\n",
      "[Parallel(n_jobs=-1)]: Using backend LokyBackend with 4 concurrent workers.\n"
     ]
    },
    {
     "name": "stdout",
     "output_type": "stream",
     "text": [
      "Fitting 5 folds for each of 480 candidates, totalling 2400 fits\n"
     ]
    },
    {
     "name": "stderr",
     "output_type": "stream",
     "text": [
      "[Parallel(n_jobs=-1)]: Done 136 tasks      | elapsed:    1.1s\n",
      "[Parallel(n_jobs=-1)]: Done 904 tasks      | elapsed:   12.0s\n",
      "[Parallel(n_jobs=-1)]: Done 2184 tasks      | elapsed:   27.0s\n",
      "[Parallel(n_jobs=-1)]: Done 2400 out of 2400 | elapsed:   30.4s finished\n",
      "C:\\Users\\chris\\Anaconda2\\lib\\site-packages\\sklearn\\model_selection\\_search.py:841: DeprecationWarning: The default of the `iid` parameter will change from True to False in version 0.22 and will be removed in 0.24. This will change numeric results when test-set sizes are unequal.\n",
      "  DeprecationWarning)\n"
     ]
    },
    {
     "name": "stdout",
     "output_type": "stream",
     "text": [
      "Games predicted: 245\n",
      "\n",
      "\n",
      "Now Starting Simulation Number: 83\n",
      "\n",
      "\n",
      "{'n_estimators': [10, 12, 14, 16, 18, 20, 22, 24, 26, 28], 'loss': ['ls', 'huber'], 'learning_rate': array([0.1, 0.2, 0.3, 0.4, 0.5, 0.6]), 'max_depth': [1, 2, 3, 4]}\n",
      "Fitting 5 folds for each of 480 candidates, totalling 2400 fits\n"
     ]
    },
    {
     "name": "stderr",
     "output_type": "stream",
     "text": [
      "[Parallel(n_jobs=-1)]: Using backend LokyBackend with 4 concurrent workers.\n",
      "[Parallel(n_jobs=-1)]: Done 104 tasks      | elapsed:    0.8s\n",
      "[Parallel(n_jobs=-1)]: Done 680 tasks      | elapsed:    7.9s\n",
      "[Parallel(n_jobs=-1)]: Done 1640 tasks      | elapsed:   21.0s\n",
      "[Parallel(n_jobs=-1)]: Done 2400 out of 2400 | elapsed:   31.9s finished\n",
      "C:\\Users\\chris\\Anaconda2\\lib\\site-packages\\sklearn\\model_selection\\_search.py:841: DeprecationWarning: The default of the `iid` parameter will change from True to False in version 0.22 and will be removed in 0.24. This will change numeric results when test-set sizes are unequal.\n",
      "  DeprecationWarning)\n",
      "[Parallel(n_jobs=-1)]: Using backend LokyBackend with 4 concurrent workers.\n"
     ]
    },
    {
     "name": "stdout",
     "output_type": "stream",
     "text": [
      "Fitting 5 folds for each of 480 candidates, totalling 2400 fits\n"
     ]
    },
    {
     "name": "stderr",
     "output_type": "stream",
     "text": [
      "[Parallel(n_jobs=-1)]: Done 104 tasks      | elapsed:    0.9s\n",
      "[Parallel(n_jobs=-1)]: Done 680 tasks      | elapsed:    9.2s\n",
      "[Parallel(n_jobs=-1)]: Done 1640 tasks      | elapsed:   22.1s\n",
      "[Parallel(n_jobs=-1)]: Done 2400 out of 2400 | elapsed:   31.4s finished\n",
      "C:\\Users\\chris\\Anaconda2\\lib\\site-packages\\sklearn\\model_selection\\_search.py:841: DeprecationWarning: The default of the `iid` parameter will change from True to False in version 0.22 and will be removed in 0.24. This will change numeric results when test-set sizes are unequal.\n",
      "  DeprecationWarning)\n"
     ]
    },
    {
     "name": "stdout",
     "output_type": "stream",
     "text": [
      "Games predicted: 245\n",
      "\n",
      "\n",
      "Now Starting Simulation Number: 84\n",
      "\n",
      "\n",
      "{'n_estimators': [10, 12, 14, 16, 18, 20, 22, 24, 26, 28], 'loss': ['ls', 'huber'], 'learning_rate': array([0.1, 0.2, 0.3, 0.4, 0.5, 0.6]), 'max_depth': [1, 2, 3, 4]}\n",
      "Fitting 5 folds for each of 480 candidates, totalling 2400 fits\n"
     ]
    },
    {
     "name": "stderr",
     "output_type": "stream",
     "text": [
      "[Parallel(n_jobs=-1)]: Using backend LokyBackend with 4 concurrent workers.\n",
      "[Parallel(n_jobs=-1)]: Done 136 tasks      | elapsed:    1.2s\n",
      "[Parallel(n_jobs=-1)]: Done 904 tasks      | elapsed:   10.5s\n",
      "[Parallel(n_jobs=-1)]: Done 2184 tasks      | elapsed:   25.8s\n",
      "[Parallel(n_jobs=-1)]: Done 2400 out of 2400 | elapsed:   29.2s finished\n",
      "C:\\Users\\chris\\Anaconda2\\lib\\site-packages\\sklearn\\model_selection\\_search.py:841: DeprecationWarning: The default of the `iid` parameter will change from True to False in version 0.22 and will be removed in 0.24. This will change numeric results when test-set sizes are unequal.\n",
      "  DeprecationWarning)\n",
      "[Parallel(n_jobs=-1)]: Using backend LokyBackend with 4 concurrent workers.\n"
     ]
    },
    {
     "name": "stdout",
     "output_type": "stream",
     "text": [
      "Fitting 5 folds for each of 480 candidates, totalling 2400 fits\n"
     ]
    },
    {
     "name": "stderr",
     "output_type": "stream",
     "text": [
      "[Parallel(n_jobs=-1)]: Done 152 tasks      | elapsed:    1.4s\n",
      "[Parallel(n_jobs=-1)]: Done 1304 tasks      | elapsed:   16.1s\n",
      "[Parallel(n_jobs=-1)]: Done 2400 out of 2400 | elapsed:   31.1s finished\n",
      "C:\\Users\\chris\\Anaconda2\\lib\\site-packages\\sklearn\\model_selection\\_search.py:841: DeprecationWarning: The default of the `iid` parameter will change from True to False in version 0.22 and will be removed in 0.24. This will change numeric results when test-set sizes are unequal.\n",
      "  DeprecationWarning)\n"
     ]
    },
    {
     "name": "stdout",
     "output_type": "stream",
     "text": [
      "Games predicted: 245\n",
      "\n",
      "\n",
      "Now Starting Simulation Number: 85\n",
      "\n",
      "\n",
      "{'n_estimators': [10, 12, 14, 16, 18, 20, 22, 24, 26, 28], 'loss': ['ls', 'huber'], 'learning_rate': array([0.1, 0.2, 0.3, 0.4, 0.5, 0.6]), 'max_depth': [1, 2, 3, 4]}\n",
      "Fitting 5 folds for each of 480 candidates, totalling 2400 fits\n"
     ]
    },
    {
     "name": "stderr",
     "output_type": "stream",
     "text": [
      "[Parallel(n_jobs=-1)]: Using backend LokyBackend with 4 concurrent workers.\n",
      "[Parallel(n_jobs=-1)]: Done 104 tasks      | elapsed:    1.0s\n",
      "[Parallel(n_jobs=-1)]: Done 680 tasks      | elapsed:    8.9s\n",
      "[Parallel(n_jobs=-1)]: Done 1640 tasks      | elapsed:   21.6s\n",
      "[Parallel(n_jobs=-1)]: Done 2400 out of 2400 | elapsed:   31.2s finished\n",
      "C:\\Users\\chris\\Anaconda2\\lib\\site-packages\\sklearn\\model_selection\\_search.py:841: DeprecationWarning: The default of the `iid` parameter will change from True to False in version 0.22 and will be removed in 0.24. This will change numeric results when test-set sizes are unequal.\n",
      "  DeprecationWarning)\n"
     ]
    },
    {
     "name": "stdout",
     "output_type": "stream",
     "text": [
      "Fitting 5 folds for each of 480 candidates, totalling 2400 fits\n"
     ]
    },
    {
     "name": "stderr",
     "output_type": "stream",
     "text": [
      "[Parallel(n_jobs=-1)]: Using backend LokyBackend with 4 concurrent workers.\n",
      "[Parallel(n_jobs=-1)]: Done 136 tasks      | elapsed:    1.1s\n",
      "[Parallel(n_jobs=-1)]: Done 904 tasks      | elapsed:   10.2s\n",
      "[Parallel(n_jobs=-1)]: Done 2184 tasks      | elapsed:   25.2s\n",
      "[Parallel(n_jobs=-1)]: Done 2400 out of 2400 | elapsed:   28.4s finished\n",
      "C:\\Users\\chris\\Anaconda2\\lib\\site-packages\\sklearn\\model_selection\\_search.py:841: DeprecationWarning: The default of the `iid` parameter will change from True to False in version 0.22 and will be removed in 0.24. This will change numeric results when test-set sizes are unequal.\n",
      "  DeprecationWarning)\n"
     ]
    },
    {
     "name": "stdout",
     "output_type": "stream",
     "text": [
      "Games predicted: 245\n",
      "\n",
      "\n",
      "Now Starting Simulation Number: 86\n",
      "\n",
      "\n",
      "{'n_estimators': [10, 12, 14, 16, 18, 20, 22, 24, 26, 28], 'loss': ['ls', 'huber'], 'learning_rate': array([0.1, 0.2, 0.3, 0.4, 0.5, 0.6]), 'max_depth': [1, 2, 3, 4]}\n",
      "Fitting 5 folds for each of 480 candidates, totalling 2400 fits\n"
     ]
    },
    {
     "name": "stderr",
     "output_type": "stream",
     "text": [
      "[Parallel(n_jobs=-1)]: Using backend LokyBackend with 4 concurrent workers.\n",
      "[Parallel(n_jobs=-1)]: Done 104 tasks      | elapsed:    0.8s\n",
      "[Parallel(n_jobs=-1)]: Done 680 tasks      | elapsed:    7.6s\n",
      "[Parallel(n_jobs=-1)]: Done 1640 tasks      | elapsed:   20.4s\n",
      "[Parallel(n_jobs=-1)]: Done 2400 out of 2400 | elapsed:   31.2s finished\n",
      "C:\\Users\\chris\\Anaconda2\\lib\\site-packages\\sklearn\\model_selection\\_search.py:841: DeprecationWarning: The default of the `iid` parameter will change from True to False in version 0.22 and will be removed in 0.24. This will change numeric results when test-set sizes are unequal.\n",
      "  DeprecationWarning)\n",
      "[Parallel(n_jobs=-1)]: Using backend LokyBackend with 4 concurrent workers.\n"
     ]
    },
    {
     "name": "stdout",
     "output_type": "stream",
     "text": [
      "Fitting 5 folds for each of 480 candidates, totalling 2400 fits\n"
     ]
    },
    {
     "name": "stderr",
     "output_type": "stream",
     "text": [
      "[Parallel(n_jobs=-1)]: Done 136 tasks      | elapsed:    1.3s\n",
      "[Parallel(n_jobs=-1)]: Done 904 tasks      | elapsed:   11.6s\n",
      "[Parallel(n_jobs=-1)]: Done 2184 tasks      | elapsed:   26.6s\n",
      "[Parallel(n_jobs=-1)]: Done 2400 out of 2400 | elapsed:   29.7s finished\n",
      "C:\\Users\\chris\\Anaconda2\\lib\\site-packages\\sklearn\\model_selection\\_search.py:841: DeprecationWarning: The default of the `iid` parameter will change from True to False in version 0.22 and will be removed in 0.24. This will change numeric results when test-set sizes are unequal.\n",
      "  DeprecationWarning)\n"
     ]
    },
    {
     "name": "stdout",
     "output_type": "stream",
     "text": [
      "Games predicted: 245\n",
      "\n",
      "\n",
      "Now Starting Simulation Number: 87\n",
      "\n",
      "\n",
      "{'n_estimators': [10, 12, 14, 16, 18, 20, 22, 24, 26, 28], 'loss': ['ls', 'huber'], 'learning_rate': array([0.1, 0.2, 0.3, 0.4, 0.5, 0.6]), 'max_depth': [1, 2, 3, 4]}\n",
      "Fitting 5 folds for each of 480 candidates, totalling 2400 fits\n"
     ]
    },
    {
     "name": "stderr",
     "output_type": "stream",
     "text": [
      "[Parallel(n_jobs=-1)]: Using backend LokyBackend with 4 concurrent workers.\n",
      "[Parallel(n_jobs=-1)]: Done 136 tasks      | elapsed:    1.0s\n",
      "[Parallel(n_jobs=-1)]: Done 904 tasks      | elapsed:   10.0s\n",
      "[Parallel(n_jobs=-1)]: Done 2184 tasks      | elapsed:   25.0s\n",
      "[Parallel(n_jobs=-1)]: Done 2400 out of 2400 | elapsed:   28.5s finished\n",
      "C:\\Users\\chris\\Anaconda2\\lib\\site-packages\\sklearn\\model_selection\\_search.py:841: DeprecationWarning: The default of the `iid` parameter will change from True to False in version 0.22 and will be removed in 0.24. This will change numeric results when test-set sizes are unequal.\n",
      "  DeprecationWarning)\n",
      "[Parallel(n_jobs=-1)]: Using backend LokyBackend with 4 concurrent workers.\n"
     ]
    },
    {
     "name": "stdout",
     "output_type": "stream",
     "text": [
      "Fitting 5 folds for each of 480 candidates, totalling 2400 fits\n"
     ]
    },
    {
     "name": "stderr",
     "output_type": "stream",
     "text": [
      "[Parallel(n_jobs=-1)]: Done 168 tasks      | elapsed:    1.5s\n",
      "[Parallel(n_jobs=-1)]: Done 1512 tasks      | elapsed:   18.8s\n",
      "[Parallel(n_jobs=-1)]: Done 2400 out of 2400 | elapsed:   32.4s finished\n",
      "C:\\Users\\chris\\Anaconda2\\lib\\site-packages\\sklearn\\model_selection\\_search.py:841: DeprecationWarning: The default of the `iid` parameter will change from True to False in version 0.22 and will be removed in 0.24. This will change numeric results when test-set sizes are unequal.\n",
      "  DeprecationWarning)\n"
     ]
    },
    {
     "name": "stdout",
     "output_type": "stream",
     "text": [
      "Games predicted: 245\n",
      "\n",
      "\n",
      "Now Starting Simulation Number: 88\n",
      "\n",
      "\n",
      "{'n_estimators': [10, 12, 14, 16, 18, 20, 22, 24, 26, 28], 'loss': ['ls', 'huber'], 'learning_rate': array([0.1, 0.2, 0.3, 0.4, 0.5, 0.6]), 'max_depth': [1, 2, 3, 4]}\n",
      "Fitting 5 folds for each of 480 candidates, totalling 2400 fits\n"
     ]
    },
    {
     "name": "stderr",
     "output_type": "stream",
     "text": [
      "[Parallel(n_jobs=-1)]: Using backend LokyBackend with 4 concurrent workers.\n",
      "[Parallel(n_jobs=-1)]: Done 136 tasks      | elapsed:    1.3s\n",
      "[Parallel(n_jobs=-1)]: Done 904 tasks      | elapsed:   11.5s\n",
      "[Parallel(n_jobs=-1)]: Done 2184 tasks      | elapsed:   26.5s\n",
      "[Parallel(n_jobs=-1)]: Done 2400 out of 2400 | elapsed:   29.6s finished\n",
      "C:\\Users\\chris\\Anaconda2\\lib\\site-packages\\sklearn\\model_selection\\_search.py:841: DeprecationWarning: The default of the `iid` parameter will change from True to False in version 0.22 and will be removed in 0.24. This will change numeric results when test-set sizes are unequal.\n",
      "  DeprecationWarning)\n",
      "[Parallel(n_jobs=-1)]: Using backend LokyBackend with 4 concurrent workers.\n"
     ]
    },
    {
     "name": "stdout",
     "output_type": "stream",
     "text": [
      "Fitting 5 folds for each of 480 candidates, totalling 2400 fits\n"
     ]
    },
    {
     "name": "stderr",
     "output_type": "stream",
     "text": [
      "[Parallel(n_jobs=-1)]: Done 152 tasks      | elapsed:    1.3s\n",
      "[Parallel(n_jobs=-1)]: Done 1304 tasks      | elapsed:   14.5s\n",
      "[Parallel(n_jobs=-1)]: Done 2400 out of 2400 | elapsed:   28.3s finished\n",
      "C:\\Users\\chris\\Anaconda2\\lib\\site-packages\\sklearn\\model_selection\\_search.py:841: DeprecationWarning: The default of the `iid` parameter will change from True to False in version 0.22 and will be removed in 0.24. This will change numeric results when test-set sizes are unequal.\n",
      "  DeprecationWarning)\n"
     ]
    },
    {
     "name": "stdout",
     "output_type": "stream",
     "text": [
      "Games predicted: 245\n",
      "\n",
      "\n",
      "Now Starting Simulation Number: 89\n",
      "\n",
      "\n",
      "{'n_estimators': [10, 12, 14, 16, 18, 20, 22, 24, 26, 28], 'loss': ['ls', 'huber'], 'learning_rate': array([0.1, 0.2, 0.3, 0.4, 0.5, 0.6]), 'max_depth': [1, 2, 3, 4]}\n",
      "Fitting 5 folds for each of 480 candidates, totalling 2400 fits\n"
     ]
    },
    {
     "name": "stderr",
     "output_type": "stream",
     "text": [
      "[Parallel(n_jobs=-1)]: Using backend LokyBackend with 4 concurrent workers.\n",
      "[Parallel(n_jobs=-1)]: Done 104 tasks      | elapsed:    0.8s\n",
      "[Parallel(n_jobs=-1)]: Done 680 tasks      | elapsed:    8.1s\n",
      "[Parallel(n_jobs=-1)]: Done 1640 tasks      | elapsed:   21.3s\n",
      "[Parallel(n_jobs=-1)]: Done 2400 out of 2400 | elapsed:   32.3s finished\n",
      "C:\\Users\\chris\\Anaconda2\\lib\\site-packages\\sklearn\\model_selection\\_search.py:841: DeprecationWarning: The default of the `iid` parameter will change from True to False in version 0.22 and will be removed in 0.24. This will change numeric results when test-set sizes are unequal.\n",
      "  DeprecationWarning)\n",
      "[Parallel(n_jobs=-1)]: Using backend LokyBackend with 4 concurrent workers.\n"
     ]
    },
    {
     "name": "stdout",
     "output_type": "stream",
     "text": [
      "Fitting 5 folds for each of 480 candidates, totalling 2400 fits\n"
     ]
    },
    {
     "name": "stderr",
     "output_type": "stream",
     "text": [
      "[Parallel(n_jobs=-1)]: Done 168 tasks      | elapsed:    1.6s\n",
      "[Parallel(n_jobs=-1)]: Done 1512 tasks      | elapsed:   18.2s\n",
      "[Parallel(n_jobs=-1)]: Done 2400 out of 2400 | elapsed:   29.2s finished\n",
      "C:\\Users\\chris\\Anaconda2\\lib\\site-packages\\sklearn\\model_selection\\_search.py:841: DeprecationWarning: The default of the `iid` parameter will change from True to False in version 0.22 and will be removed in 0.24. This will change numeric results when test-set sizes are unequal.\n",
      "  DeprecationWarning)\n"
     ]
    },
    {
     "name": "stdout",
     "output_type": "stream",
     "text": [
      "Games predicted: 245\n",
      "\n",
      "\n",
      "Now Starting Simulation Number: 90\n",
      "\n",
      "\n",
      "{'n_estimators': [10, 12, 14, 16, 18, 20, 22, 24, 26, 28], 'loss': ['ls', 'huber'], 'learning_rate': array([0.1, 0.2, 0.3, 0.4, 0.5, 0.6]), 'max_depth': [1, 2, 3, 4]}\n",
      "Fitting 5 folds for each of 480 candidates, totalling 2400 fits\n"
     ]
    },
    {
     "name": "stderr",
     "output_type": "stream",
     "text": [
      "[Parallel(n_jobs=-1)]: Using backend LokyBackend with 4 concurrent workers.\n",
      "[Parallel(n_jobs=-1)]: Done 104 tasks      | elapsed:    0.8s\n",
      "[Parallel(n_jobs=-1)]: Done 680 tasks      | elapsed:    7.3s\n",
      "[Parallel(n_jobs=-1)]: Done 1640 tasks      | elapsed:   19.5s\n",
      "[Parallel(n_jobs=-1)]: Done 2400 out of 2400 | elapsed:   29.5s finished\n",
      "C:\\Users\\chris\\Anaconda2\\lib\\site-packages\\sklearn\\model_selection\\_search.py:841: DeprecationWarning: The default of the `iid` parameter will change from True to False in version 0.22 and will be removed in 0.24. This will change numeric results when test-set sizes are unequal.\n",
      "  DeprecationWarning)\n",
      "[Parallel(n_jobs=-1)]: Using backend LokyBackend with 4 concurrent workers.\n"
     ]
    },
    {
     "name": "stdout",
     "output_type": "stream",
     "text": [
      "Fitting 5 folds for each of 480 candidates, totalling 2400 fits\n"
     ]
    },
    {
     "name": "stderr",
     "output_type": "stream",
     "text": [
      "[Parallel(n_jobs=-1)]: Done 136 tasks      | elapsed:    1.1s\n",
      "[Parallel(n_jobs=-1)]: Done 904 tasks      | elapsed:   10.9s\n",
      "[Parallel(n_jobs=-1)]: Done 2184 tasks      | elapsed:   28.2s\n",
      "[Parallel(n_jobs=-1)]: Done 2400 out of 2400 | elapsed:   32.1s finished\n",
      "C:\\Users\\chris\\Anaconda2\\lib\\site-packages\\sklearn\\model_selection\\_search.py:841: DeprecationWarning: The default of the `iid` parameter will change from True to False in version 0.22 and will be removed in 0.24. This will change numeric results when test-set sizes are unequal.\n",
      "  DeprecationWarning)\n"
     ]
    },
    {
     "name": "stdout",
     "output_type": "stream",
     "text": [
      "Games predicted: 245\n",
      "\n",
      "\n",
      "Now Starting Simulation Number: 91\n",
      "\n",
      "\n",
      "{'n_estimators': [10, 12, 14, 16, 18, 20, 22, 24, 26, 28], 'loss': ['ls', 'huber'], 'learning_rate': array([0.1, 0.2, 0.3, 0.4, 0.5, 0.6]), 'max_depth': [1, 2, 3, 4]}\n",
      "Fitting 5 folds for each of 480 candidates, totalling 2400 fits\n"
     ]
    },
    {
     "name": "stderr",
     "output_type": "stream",
     "text": [
      "[Parallel(n_jobs=-1)]: Using backend LokyBackend with 4 concurrent workers.\n",
      "[Parallel(n_jobs=-1)]: Done 104 tasks      | elapsed:    1.0s\n",
      "[Parallel(n_jobs=-1)]: Done 680 tasks      | elapsed:    8.2s\n",
      "[Parallel(n_jobs=-1)]: Done 1640 tasks      | elapsed:   20.3s\n",
      "[Parallel(n_jobs=-1)]: Done 2400 out of 2400 | elapsed:   29.3s finished\n",
      "C:\\Users\\chris\\Anaconda2\\lib\\site-packages\\sklearn\\model_selection\\_search.py:841: DeprecationWarning: The default of the `iid` parameter will change from True to False in version 0.22 and will be removed in 0.24. This will change numeric results when test-set sizes are unequal.\n",
      "  DeprecationWarning)\n",
      "[Parallel(n_jobs=-1)]: Using backend LokyBackend with 4 concurrent workers.\n"
     ]
    },
    {
     "name": "stdout",
     "output_type": "stream",
     "text": [
      "Fitting 5 folds for each of 480 candidates, totalling 2400 fits\n"
     ]
    },
    {
     "name": "stderr",
     "output_type": "stream",
     "text": [
      "[Parallel(n_jobs=-1)]: Done 168 tasks      | elapsed:    1.3s\n",
      "[Parallel(n_jobs=-1)]: Done 1512 tasks      | elapsed:   16.9s\n",
      "[Parallel(n_jobs=-1)]: Done 2400 out of 2400 | elapsed:   28.3s finished\n",
      "C:\\Users\\chris\\Anaconda2\\lib\\site-packages\\sklearn\\model_selection\\_search.py:841: DeprecationWarning: The default of the `iid` parameter will change from True to False in version 0.22 and will be removed in 0.24. This will change numeric results when test-set sizes are unequal.\n",
      "  DeprecationWarning)\n"
     ]
    },
    {
     "name": "stdout",
     "output_type": "stream",
     "text": [
      "Games predicted: 245\n",
      "\n",
      "\n",
      "Now Starting Simulation Number: 92\n",
      "\n",
      "\n",
      "{'n_estimators': [10, 12, 14, 16, 18, 20, 22, 24, 26, 28], 'loss': ['ls', 'huber'], 'learning_rate': array([0.1, 0.2, 0.3, 0.4, 0.5, 0.6]), 'max_depth': [1, 2, 3, 4]}\n",
      "Fitting 5 folds for each of 480 candidates, totalling 2400 fits\n"
     ]
    },
    {
     "name": "stderr",
     "output_type": "stream",
     "text": [
      "[Parallel(n_jobs=-1)]: Using backend LokyBackend with 4 concurrent workers.\n",
      "[Parallel(n_jobs=-1)]: Done 136 tasks      | elapsed:    1.2s\n",
      "[Parallel(n_jobs=-1)]: Done 904 tasks      | elapsed:   11.5s\n",
      "[Parallel(n_jobs=-1)]: Done 2184 tasks      | elapsed:   29.1s\n",
      "[Parallel(n_jobs=-1)]: Done 2400 out of 2400 | elapsed:   32.6s finished\n",
      "C:\\Users\\chris\\Anaconda2\\lib\\site-packages\\sklearn\\model_selection\\_search.py:841: DeprecationWarning: The default of the `iid` parameter will change from True to False in version 0.22 and will be removed in 0.24. This will change numeric results when test-set sizes are unequal.\n",
      "  DeprecationWarning)\n",
      "[Parallel(n_jobs=-1)]: Using backend LokyBackend with 4 concurrent workers.\n"
     ]
    },
    {
     "name": "stdout",
     "output_type": "stream",
     "text": [
      "Fitting 5 folds for each of 480 candidates, totalling 2400 fits\n"
     ]
    },
    {
     "name": "stderr",
     "output_type": "stream",
     "text": [
      "[Parallel(n_jobs=-1)]: Done 152 tasks      | elapsed:    1.4s\n",
      "[Parallel(n_jobs=-1)]: Done 1304 tasks      | elapsed:   15.4s\n",
      "[Parallel(n_jobs=-1)]: Done 2400 out of 2400 | elapsed:   28.2s finished\n",
      "C:\\Users\\chris\\Anaconda2\\lib\\site-packages\\sklearn\\model_selection\\_search.py:841: DeprecationWarning: The default of the `iid` parameter will change from True to False in version 0.22 and will be removed in 0.24. This will change numeric results when test-set sizes are unequal.\n",
      "  DeprecationWarning)\n"
     ]
    },
    {
     "name": "stdout",
     "output_type": "stream",
     "text": [
      "Games predicted: 245\n",
      "\n",
      "\n",
      "Now Starting Simulation Number: 93\n",
      "\n",
      "\n",
      "{'n_estimators': [10, 12, 14, 16, 18, 20, 22, 24, 26, 28], 'loss': ['ls', 'huber'], 'learning_rate': array([0.1, 0.2, 0.3, 0.4, 0.5, 0.6]), 'max_depth': [1, 2, 3, 4]}\n",
      "Fitting 5 folds for each of 480 candidates, totalling 2400 fits\n"
     ]
    },
    {
     "name": "stderr",
     "output_type": "stream",
     "text": [
      "[Parallel(n_jobs=-1)]: Using backend LokyBackend with 4 concurrent workers.\n",
      "[Parallel(n_jobs=-1)]: Done 184 tasks      | elapsed:    1.6s\n",
      "[Parallel(n_jobs=-1)]: Done 1720 tasks      | elapsed:   19.6s\n",
      "[Parallel(n_jobs=-1)]: Done 2400 out of 2400 | elapsed:   28.3s finished\n",
      "C:\\Users\\chris\\Anaconda2\\lib\\site-packages\\sklearn\\model_selection\\_search.py:841: DeprecationWarning: The default of the `iid` parameter will change from True to False in version 0.22 and will be removed in 0.24. This will change numeric results when test-set sizes are unequal.\n",
      "  DeprecationWarning)\n",
      "[Parallel(n_jobs=-1)]: Using backend LokyBackend with 4 concurrent workers.\n"
     ]
    },
    {
     "name": "stdout",
     "output_type": "stream",
     "text": [
      "Fitting 5 folds for each of 480 candidates, totalling 2400 fits\n"
     ]
    },
    {
     "name": "stderr",
     "output_type": "stream",
     "text": [
      "[Parallel(n_jobs=-1)]: Done 136 tasks      | elapsed:    1.1s\n",
      "[Parallel(n_jobs=-1)]: Done 904 tasks      | elapsed:   11.2s\n",
      "[Parallel(n_jobs=-1)]: Done 2184 tasks      | elapsed:   28.8s\n",
      "[Parallel(n_jobs=-1)]: Done 2400 out of 2400 | elapsed:   32.8s finished\n",
      "C:\\Users\\chris\\Anaconda2\\lib\\site-packages\\sklearn\\model_selection\\_search.py:841: DeprecationWarning: The default of the `iid` parameter will change from True to False in version 0.22 and will be removed in 0.24. This will change numeric results when test-set sizes are unequal.\n",
      "  DeprecationWarning)\n"
     ]
    },
    {
     "name": "stdout",
     "output_type": "stream",
     "text": [
      "Games predicted: 245\n",
      "\n",
      "\n",
      "Now Starting Simulation Number: 94\n",
      "\n",
      "\n",
      "{'n_estimators': [10, 12, 14, 16, 18, 20, 22, 24, 26, 28], 'loss': ['ls', 'huber'], 'learning_rate': array([0.1, 0.2, 0.3, 0.4, 0.5, 0.6]), 'max_depth': [1, 2, 3, 4]}\n",
      "Fitting 5 folds for each of 480 candidates, totalling 2400 fits\n"
     ]
    },
    {
     "name": "stderr",
     "output_type": "stream",
     "text": [
      "[Parallel(n_jobs=-1)]: Using backend LokyBackend with 4 concurrent workers.\n",
      "[Parallel(n_jobs=-1)]: Done  72 tasks      | elapsed:    1.1s\n",
      "[Parallel(n_jobs=-1)]: Done 456 tasks      | elapsed:    6.4s\n",
      "[Parallel(n_jobs=-1)]: Done 1096 tasks      | elapsed:   13.9s\n",
      "[Parallel(n_jobs=-1)]: Done 1992 tasks      | elapsed:   25.4s\n",
      "[Parallel(n_jobs=-1)]: Done 2400 out of 2400 | elapsed:   30.5s finished\n",
      "C:\\Users\\chris\\Anaconda2\\lib\\site-packages\\sklearn\\model_selection\\_search.py:841: DeprecationWarning: The default of the `iid` parameter will change from True to False in version 0.22 and will be removed in 0.24. This will change numeric results when test-set sizes are unequal.\n",
      "  DeprecationWarning)\n"
     ]
    },
    {
     "name": "stdout",
     "output_type": "stream",
     "text": [
      "Fitting 5 folds for each of 480 candidates, totalling 2400 fits\n"
     ]
    },
    {
     "name": "stderr",
     "output_type": "stream",
     "text": [
      "[Parallel(n_jobs=-1)]: Using backend LokyBackend with 4 concurrent workers.\n",
      "[Parallel(n_jobs=-1)]: Done 152 tasks      | elapsed:    1.3s\n",
      "[Parallel(n_jobs=-1)]: Done 1304 tasks      | elapsed:   14.8s\n",
      "[Parallel(n_jobs=-1)]: Done 2400 out of 2400 | elapsed:   28.9s finished\n",
      "C:\\Users\\chris\\Anaconda2\\lib\\site-packages\\sklearn\\model_selection\\_search.py:841: DeprecationWarning: The default of the `iid` parameter will change from True to False in version 0.22 and will be removed in 0.24. This will change numeric results when test-set sizes are unequal.\n",
      "  DeprecationWarning)\n"
     ]
    },
    {
     "name": "stdout",
     "output_type": "stream",
     "text": [
      "Games predicted: 245\n",
      "\n",
      "\n",
      "Now Starting Simulation Number: 95\n",
      "\n",
      "\n",
      "{'n_estimators': [10, 12, 14, 16, 18, 20, 22, 24, 26, 28], 'loss': ['ls', 'huber'], 'learning_rate': array([0.1, 0.2, 0.3, 0.4, 0.5, 0.6]), 'max_depth': [1, 2, 3, 4]}\n",
      "Fitting 5 folds for each of 480 candidates, totalling 2400 fits\n"
     ]
    },
    {
     "name": "stderr",
     "output_type": "stream",
     "text": [
      "[Parallel(n_jobs=-1)]: Using backend LokyBackend with 4 concurrent workers.\n",
      "[Parallel(n_jobs=-1)]: Done 104 tasks      | elapsed:    0.8s\n",
      "[Parallel(n_jobs=-1)]: Done 680 tasks      | elapsed:    7.9s\n",
      "[Parallel(n_jobs=-1)]: Done 1640 tasks      | elapsed:   21.5s\n",
      "[Parallel(n_jobs=-1)]: Done 2400 out of 2400 | elapsed:   32.8s finished\n",
      "C:\\Users\\chris\\Anaconda2\\lib\\site-packages\\sklearn\\model_selection\\_search.py:841: DeprecationWarning: The default of the `iid` parameter will change from True to False in version 0.22 and will be removed in 0.24. This will change numeric results when test-set sizes are unequal.\n",
      "  DeprecationWarning)\n",
      "[Parallel(n_jobs=-1)]: Using backend LokyBackend with 4 concurrent workers.\n"
     ]
    },
    {
     "name": "stdout",
     "output_type": "stream",
     "text": [
      "Fitting 5 folds for each of 480 candidates, totalling 2400 fits\n"
     ]
    },
    {
     "name": "stderr",
     "output_type": "stream",
     "text": [
      "[Parallel(n_jobs=-1)]: Done 152 tasks      | elapsed:    1.6s\n",
      "[Parallel(n_jobs=-1)]: Done 1304 tasks      | elapsed:   16.6s\n",
      "[Parallel(n_jobs=-1)]: Done 2400 out of 2400 | elapsed:   29.7s finished\n",
      "C:\\Users\\chris\\Anaconda2\\lib\\site-packages\\sklearn\\model_selection\\_search.py:841: DeprecationWarning: The default of the `iid` parameter will change from True to False in version 0.22 and will be removed in 0.24. This will change numeric results when test-set sizes are unequal.\n",
      "  DeprecationWarning)\n"
     ]
    },
    {
     "name": "stdout",
     "output_type": "stream",
     "text": [
      "Games predicted: 245\n",
      "\n",
      "\n",
      "Now Starting Simulation Number: 96\n",
      "\n",
      "\n",
      "{'n_estimators': [10, 12, 14, 16, 18, 20, 22, 24, 26, 28], 'loss': ['ls', 'huber'], 'learning_rate': array([0.1, 0.2, 0.3, 0.4, 0.5, 0.6]), 'max_depth': [1, 2, 3, 4]}\n",
      "Fitting 5 folds for each of 480 candidates, totalling 2400 fits\n"
     ]
    },
    {
     "name": "stderr",
     "output_type": "stream",
     "text": [
      "[Parallel(n_jobs=-1)]: Using backend LokyBackend with 4 concurrent workers.\n",
      "[Parallel(n_jobs=-1)]: Done 200 tasks      | elapsed:    1.8s\n",
      "[Parallel(n_jobs=-1)]: Done 1352 tasks      | elapsed:   15.3s\n",
      "[Parallel(n_jobs=-1)]: Done 2400 out of 2400 | elapsed:   28.6s finished\n",
      "C:\\Users\\chris\\Anaconda2\\lib\\site-packages\\sklearn\\model_selection\\_search.py:841: DeprecationWarning: The default of the `iid` parameter will change from True to False in version 0.22 and will be removed in 0.24. This will change numeric results when test-set sizes are unequal.\n",
      "  DeprecationWarning)\n",
      "[Parallel(n_jobs=-1)]: Using backend LokyBackend with 4 concurrent workers.\n"
     ]
    },
    {
     "name": "stdout",
     "output_type": "stream",
     "text": [
      "Fitting 5 folds for each of 480 candidates, totalling 2400 fits\n"
     ]
    },
    {
     "name": "stderr",
     "output_type": "stream",
     "text": [
      "[Parallel(n_jobs=-1)]: Done 152 tasks      | elapsed:    1.3s\n",
      "[Parallel(n_jobs=-1)]: Done 1304 tasks      | elapsed:   15.9s\n",
      "[Parallel(n_jobs=-1)]: Done 2400 out of 2400 | elapsed:   30.7s finished\n",
      "C:\\Users\\chris\\Anaconda2\\lib\\site-packages\\sklearn\\model_selection\\_search.py:841: DeprecationWarning: The default of the `iid` parameter will change from True to False in version 0.22 and will be removed in 0.24. This will change numeric results when test-set sizes are unequal.\n",
      "  DeprecationWarning)\n"
     ]
    },
    {
     "name": "stdout",
     "output_type": "stream",
     "text": [
      "Games predicted: 245\n",
      "\n",
      "\n",
      "Now Starting Simulation Number: 97\n",
      "\n",
      "\n",
      "{'n_estimators': [10, 12, 14, 16, 18, 20, 22, 24, 26, 28], 'loss': ['ls', 'huber'], 'learning_rate': array([0.1, 0.2, 0.3, 0.4, 0.5, 0.6]), 'max_depth': [1, 2, 3, 4]}\n",
      "Fitting 5 folds for each of 480 candidates, totalling 2400 fits\n"
     ]
    },
    {
     "name": "stderr",
     "output_type": "stream",
     "text": [
      "[Parallel(n_jobs=-1)]: Using backend LokyBackend with 4 concurrent workers.\n",
      "[Parallel(n_jobs=-1)]: Done 104 tasks      | elapsed:    0.9s\n",
      "[Parallel(n_jobs=-1)]: Done 680 tasks      | elapsed:    8.9s\n",
      "[Parallel(n_jobs=-1)]: Done 1640 tasks      | elapsed:   22.1s\n",
      "[Parallel(n_jobs=-1)]: Done 2400 out of 2400 | elapsed:   31.5s finished\n",
      "C:\\Users\\chris\\Anaconda2\\lib\\site-packages\\sklearn\\model_selection\\_search.py:841: DeprecationWarning: The default of the `iid` parameter will change from True to False in version 0.22 and will be removed in 0.24. This will change numeric results when test-set sizes are unequal.\n",
      "  DeprecationWarning)\n",
      "[Parallel(n_jobs=-1)]: Using backend LokyBackend with 4 concurrent workers.\n"
     ]
    },
    {
     "name": "stdout",
     "output_type": "stream",
     "text": [
      "Fitting 5 folds for each of 480 candidates, totalling 2400 fits\n"
     ]
    },
    {
     "name": "stderr",
     "output_type": "stream",
     "text": [
      "[Parallel(n_jobs=-1)]: Done 136 tasks      | elapsed:    1.1s\n",
      "[Parallel(n_jobs=-1)]: Done 1288 tasks      | elapsed:   14.3s\n",
      "[Parallel(n_jobs=-1)]: Done 2400 out of 2400 | elapsed:   27.4s finished\n",
      "C:\\Users\\chris\\Anaconda2\\lib\\site-packages\\sklearn\\model_selection\\_search.py:841: DeprecationWarning: The default of the `iid` parameter will change from True to False in version 0.22 and will be removed in 0.24. This will change numeric results when test-set sizes are unequal.\n",
      "  DeprecationWarning)\n"
     ]
    },
    {
     "name": "stdout",
     "output_type": "stream",
     "text": [
      "Games predicted: 245\n",
      "\n",
      "\n",
      "Now Starting Simulation Number: 98\n",
      "\n",
      "\n",
      "{'n_estimators': [10, 12, 14, 16, 18, 20, 22, 24, 26, 28], 'loss': ['ls', 'huber'], 'learning_rate': array([0.1, 0.2, 0.3, 0.4, 0.5, 0.6]), 'max_depth': [1, 2, 3, 4]}\n",
      "Fitting 5 folds for each of 480 candidates, totalling 2400 fits\n"
     ]
    },
    {
     "name": "stderr",
     "output_type": "stream",
     "text": [
      "[Parallel(n_jobs=-1)]: Using backend LokyBackend with 4 concurrent workers.\n",
      "[Parallel(n_jobs=-1)]: Done 232 tasks      | elapsed:    2.1s\n",
      "[Parallel(n_jobs=-1)]: Done 1576 tasks      | elapsed:   19.0s\n",
      "[Parallel(n_jobs=-1)]: Done 2400 out of 2400 | elapsed:   29.7s finished\n",
      "C:\\Users\\chris\\Anaconda2\\lib\\site-packages\\sklearn\\model_selection\\_search.py:841: DeprecationWarning: The default of the `iid` parameter will change from True to False in version 0.22 and will be removed in 0.24. This will change numeric results when test-set sizes are unequal.\n",
      "  DeprecationWarning)\n",
      "[Parallel(n_jobs=-1)]: Using backend LokyBackend with 4 concurrent workers.\n"
     ]
    },
    {
     "name": "stdout",
     "output_type": "stream",
     "text": [
      "Fitting 5 folds for each of 480 candidates, totalling 2400 fits\n"
     ]
    },
    {
     "name": "stderr",
     "output_type": "stream",
     "text": [
      "[Parallel(n_jobs=-1)]: Done 168 tasks      | elapsed:    1.6s\n",
      "[Parallel(n_jobs=-1)]: Done 1512 tasks      | elapsed:   20.0s\n",
      "[Parallel(n_jobs=-1)]: Done 2400 out of 2400 | elapsed:   31.8s finished\n",
      "C:\\Users\\chris\\Anaconda2\\lib\\site-packages\\sklearn\\model_selection\\_search.py:841: DeprecationWarning: The default of the `iid` parameter will change from True to False in version 0.22 and will be removed in 0.24. This will change numeric results when test-set sizes are unequal.\n",
      "  DeprecationWarning)\n"
     ]
    },
    {
     "name": "stdout",
     "output_type": "stream",
     "text": [
      "Games predicted: 245\n",
      "\n",
      "\n",
      "Now Starting Simulation Number: 99\n",
      "\n",
      "\n",
      "{'n_estimators': [10, 12, 14, 16, 18, 20, 22, 24, 26, 28], 'loss': ['ls', 'huber'], 'learning_rate': array([0.1, 0.2, 0.3, 0.4, 0.5, 0.6]), 'max_depth': [1, 2, 3, 4]}\n",
      "Fitting 5 folds for each of 480 candidates, totalling 2400 fits\n"
     ]
    },
    {
     "name": "stderr",
     "output_type": "stream",
     "text": [
      "[Parallel(n_jobs=-1)]: Using backend LokyBackend with 4 concurrent workers.\n",
      "[Parallel(n_jobs=-1)]: Done 136 tasks      | elapsed:    1.1s\n",
      "[Parallel(n_jobs=-1)]: Done 904 tasks      | elapsed:   10.2s\n",
      "[Parallel(n_jobs=-1)]: Done 2184 tasks      | elapsed:   25.4s\n",
      "[Parallel(n_jobs=-1)]: Done 2400 out of 2400 | elapsed:   28.6s finished\n",
      "C:\\Users\\chris\\Anaconda2\\lib\\site-packages\\sklearn\\model_selection\\_search.py:841: DeprecationWarning: The default of the `iid` parameter will change from True to False in version 0.22 and will be removed in 0.24. This will change numeric results when test-set sizes are unequal.\n",
      "  DeprecationWarning)\n",
      "[Parallel(n_jobs=-1)]: Using backend LokyBackend with 4 concurrent workers.\n"
     ]
    },
    {
     "name": "stdout",
     "output_type": "stream",
     "text": [
      "Fitting 5 folds for each of 480 candidates, totalling 2400 fits\n"
     ]
    },
    {
     "name": "stderr",
     "output_type": "stream",
     "text": [
      "[Parallel(n_jobs=-1)]: Done 152 tasks      | elapsed:    1.4s\n",
      "[Parallel(n_jobs=-1)]: Done 1496 tasks      | elapsed:   17.6s\n",
      "[Parallel(n_jobs=-1)]: Done 2400 out of 2400 | elapsed:   29.7s finished\n",
      "C:\\Users\\chris\\Anaconda2\\lib\\site-packages\\sklearn\\model_selection\\_search.py:841: DeprecationWarning: The default of the `iid` parameter will change from True to False in version 0.22 and will be removed in 0.24. This will change numeric results when test-set sizes are unequal.\n",
      "  DeprecationWarning)\n"
     ]
    },
    {
     "name": "stdout",
     "output_type": "stream",
     "text": [
      "Games predicted: 245\n",
      "\n",
      "\n",
      "Now Starting Simulation Number: 100\n",
      "\n",
      "\n",
      "{'n_estimators': [10, 12, 14, 16, 18, 20, 22, 24, 26, 28], 'loss': ['ls', 'huber'], 'learning_rate': array([0.1, 0.2, 0.3, 0.4, 0.5, 0.6]), 'max_depth': [1, 2, 3, 4]}\n",
      "Fitting 5 folds for each of 480 candidates, totalling 2400 fits\n"
     ]
    },
    {
     "name": "stderr",
     "output_type": "stream",
     "text": [
      "[Parallel(n_jobs=-1)]: Using backend LokyBackend with 4 concurrent workers.\n",
      "[Parallel(n_jobs=-1)]: Done 104 tasks      | elapsed:    0.9s\n",
      "[Parallel(n_jobs=-1)]: Done 680 tasks      | elapsed:    8.5s\n",
      "[Parallel(n_jobs=-1)]: Done 1640 tasks      | elapsed:   22.9s\n",
      "[Parallel(n_jobs=-1)]: Done 2400 out of 2400 | elapsed:   33.2s finished\n",
      "C:\\Users\\chris\\Anaconda2\\lib\\site-packages\\sklearn\\model_selection\\_search.py:841: DeprecationWarning: The default of the `iid` parameter will change from True to False in version 0.22 and will be removed in 0.24. This will change numeric results when test-set sizes are unequal.\n",
      "  DeprecationWarning)\n",
      "[Parallel(n_jobs=-1)]: Using backend LokyBackend with 4 concurrent workers.\n"
     ]
    },
    {
     "name": "stdout",
     "output_type": "stream",
     "text": [
      "Fitting 5 folds for each of 480 candidates, totalling 2400 fits\n"
     ]
    },
    {
     "name": "stderr",
     "output_type": "stream",
     "text": [
      "[Parallel(n_jobs=-1)]: Done 136 tasks      | elapsed:    1.1s\n",
      "[Parallel(n_jobs=-1)]: Done 904 tasks      | elapsed:   10.5s\n",
      "[Parallel(n_jobs=-1)]: Done 2184 tasks      | elapsed:   25.0s\n",
      "[Parallel(n_jobs=-1)]: Done 2400 out of 2400 | elapsed:   28.1s finished\n",
      "C:\\Users\\chris\\Anaconda2\\lib\\site-packages\\sklearn\\model_selection\\_search.py:841: DeprecationWarning: The default of the `iid` parameter will change from True to False in version 0.22 and will be removed in 0.24. This will change numeric results when test-set sizes are unequal.\n",
      "  DeprecationWarning)\n"
     ]
    },
    {
     "name": "stdout",
     "output_type": "stream",
     "text": [
      "Games predicted: 245\n",
      "\n",
      "\n",
      "Now Starting Simulation Number: 101\n",
      "\n",
      "\n",
      "{'n_estimators': [10, 12, 14, 16, 18, 20, 22, 24, 26, 28], 'loss': ['ls', 'huber'], 'learning_rate': array([0.1, 0.2, 0.3, 0.4, 0.5, 0.6]), 'max_depth': [1, 2, 3, 4]}\n",
      "Fitting 5 folds for each of 480 candidates, totalling 2400 fits\n"
     ]
    },
    {
     "name": "stderr",
     "output_type": "stream",
     "text": [
      "[Parallel(n_jobs=-1)]: Using backend LokyBackend with 4 concurrent workers.\n",
      "[Parallel(n_jobs=-1)]: Done 136 tasks      | elapsed:    1.0s\n",
      "[Parallel(n_jobs=-1)]: Done 904 tasks      | elapsed:    9.9s\n",
      "[Parallel(n_jobs=-1)]: Done 2184 tasks      | elapsed:   25.2s\n",
      "[Parallel(n_jobs=-1)]: Done 2400 out of 2400 | elapsed:   28.6s finished\n",
      "C:\\Users\\chris\\Anaconda2\\lib\\site-packages\\sklearn\\model_selection\\_search.py:841: DeprecationWarning: The default of the `iid` parameter will change from True to False in version 0.22 and will be removed in 0.24. This will change numeric results when test-set sizes are unequal.\n",
      "  DeprecationWarning)\n",
      "[Parallel(n_jobs=-1)]: Using backend LokyBackend with 4 concurrent workers.\n"
     ]
    },
    {
     "name": "stdout",
     "output_type": "stream",
     "text": [
      "Fitting 5 folds for each of 480 candidates, totalling 2400 fits\n"
     ]
    },
    {
     "name": "stderr",
     "output_type": "stream",
     "text": [
      "[Parallel(n_jobs=-1)]: Done 152 tasks      | elapsed:    1.5s\n",
      "[Parallel(n_jobs=-1)]: Done 1496 tasks      | elapsed:   19.0s\n",
      "[Parallel(n_jobs=-1)]: Done 2400 out of 2400 | elapsed:   31.8s finished\n",
      "C:\\Users\\chris\\Anaconda2\\lib\\site-packages\\sklearn\\model_selection\\_search.py:841: DeprecationWarning: The default of the `iid` parameter will change from True to False in version 0.22 and will be removed in 0.24. This will change numeric results when test-set sizes are unequal.\n",
      "  DeprecationWarning)\n"
     ]
    },
    {
     "name": "stdout",
     "output_type": "stream",
     "text": [
      "Games predicted: 245\n",
      "\n",
      "\n",
      "Now Starting Simulation Number: 102\n",
      "\n",
      "\n",
      "{'n_estimators': [10, 12, 14, 16, 18, 20, 22, 24, 26, 28], 'loss': ['ls', 'huber'], 'learning_rate': array([0.1, 0.2, 0.3, 0.4, 0.5, 0.6]), 'max_depth': [1, 2, 3, 4]}\n",
      "Fitting 5 folds for each of 480 candidates, totalling 2400 fits\n"
     ]
    },
    {
     "name": "stderr",
     "output_type": "stream",
     "text": [
      "[Parallel(n_jobs=-1)]: Using backend LokyBackend with 4 concurrent workers.\n",
      "[Parallel(n_jobs=-1)]: Done 136 tasks      | elapsed:    1.2s\n",
      "[Parallel(n_jobs=-1)]: Done 904 tasks      | elapsed:   10.8s\n",
      "[Parallel(n_jobs=-1)]: Done 2184 tasks      | elapsed:   25.3s\n",
      "[Parallel(n_jobs=-1)]: Done 2400 out of 2400 | elapsed:   28.4s finished\n",
      "C:\\Users\\chris\\Anaconda2\\lib\\site-packages\\sklearn\\model_selection\\_search.py:841: DeprecationWarning: The default of the `iid` parameter will change from True to False in version 0.22 and will be removed in 0.24. This will change numeric results when test-set sizes are unequal.\n",
      "  DeprecationWarning)\n",
      "[Parallel(n_jobs=-1)]: Using backend LokyBackend with 4 concurrent workers.\n"
     ]
    },
    {
     "name": "stdout",
     "output_type": "stream",
     "text": [
      "Fitting 5 folds for each of 480 candidates, totalling 2400 fits\n"
     ]
    },
    {
     "name": "stderr",
     "output_type": "stream",
     "text": [
      "[Parallel(n_jobs=-1)]: Done 168 tasks      | elapsed:    1.3s\n",
      "[Parallel(n_jobs=-1)]: Done 1512 tasks      | elapsed:   16.8s\n",
      "[Parallel(n_jobs=-1)]: Done 2400 out of 2400 | elapsed:   28.7s finished\n",
      "C:\\Users\\chris\\Anaconda2\\lib\\site-packages\\sklearn\\model_selection\\_search.py:841: DeprecationWarning: The default of the `iid` parameter will change from True to False in version 0.22 and will be removed in 0.24. This will change numeric results when test-set sizes are unequal.\n",
      "  DeprecationWarning)\n"
     ]
    },
    {
     "name": "stdout",
     "output_type": "stream",
     "text": [
      "Games predicted: 245\n",
      "\n",
      "\n",
      "Now Starting Simulation Number: 103\n",
      "\n",
      "\n",
      "{'n_estimators': [10, 12, 14, 16, 18, 20, 22, 24, 26, 28], 'loss': ['ls', 'huber'], 'learning_rate': array([0.1, 0.2, 0.3, 0.4, 0.5, 0.6]), 'max_depth': [1, 2, 3, 4]}\n",
      "Fitting 5 folds for each of 480 candidates, totalling 2400 fits\n"
     ]
    },
    {
     "name": "stderr",
     "output_type": "stream",
     "text": [
      "[Parallel(n_jobs=-1)]: Using backend LokyBackend with 4 concurrent workers.\n",
      "[Parallel(n_jobs=-1)]: Done 136 tasks      | elapsed:    1.2s\n",
      "[Parallel(n_jobs=-1)]: Done 904 tasks      | elapsed:   11.2s\n",
      "[Parallel(n_jobs=-1)]: Done 2184 tasks      | elapsed:   28.1s\n",
      "[Parallel(n_jobs=-1)]: Done 2400 out of 2400 | elapsed:   31.5s finished\n",
      "C:\\Users\\chris\\Anaconda2\\lib\\site-packages\\sklearn\\model_selection\\_search.py:841: DeprecationWarning: The default of the `iid` parameter will change from True to False in version 0.22 and will be removed in 0.24. This will change numeric results when test-set sizes are unequal.\n",
      "  DeprecationWarning)\n",
      "[Parallel(n_jobs=-1)]: Using backend LokyBackend with 4 concurrent workers.\n"
     ]
    },
    {
     "name": "stdout",
     "output_type": "stream",
     "text": [
      "Fitting 5 folds for each of 480 candidates, totalling 2400 fits\n"
     ]
    },
    {
     "name": "stderr",
     "output_type": "stream",
     "text": [
      "[Parallel(n_jobs=-1)]: Done 168 tasks      | elapsed:    1.5s\n",
      "[Parallel(n_jobs=-1)]: Done 1512 tasks      | elapsed:   17.6s\n",
      "[Parallel(n_jobs=-1)]: Done 2400 out of 2400 | elapsed:   28.5s finished\n",
      "C:\\Users\\chris\\Anaconda2\\lib\\site-packages\\sklearn\\model_selection\\_search.py:841: DeprecationWarning: The default of the `iid` parameter will change from True to False in version 0.22 and will be removed in 0.24. This will change numeric results when test-set sizes are unequal.\n",
      "  DeprecationWarning)\n"
     ]
    },
    {
     "name": "stdout",
     "output_type": "stream",
     "text": [
      "Games predicted: 245\n",
      "\n",
      "\n",
      "Now Starting Simulation Number: 104\n",
      "\n",
      "\n",
      "{'n_estimators': [10, 12, 14, 16, 18, 20, 22, 24, 26, 28], 'loss': ['ls', 'huber'], 'learning_rate': array([0.1, 0.2, 0.3, 0.4, 0.5, 0.6]), 'max_depth': [1, 2, 3, 4]}\n",
      "Fitting 5 folds for each of 480 candidates, totalling 2400 fits\n"
     ]
    },
    {
     "name": "stderr",
     "output_type": "stream",
     "text": [
      "[Parallel(n_jobs=-1)]: Using backend LokyBackend with 4 concurrent workers.\n",
      "[Parallel(n_jobs=-1)]: Done 104 tasks      | elapsed:    0.7s\n",
      "[Parallel(n_jobs=-1)]: Done 680 tasks      | elapsed:    7.5s\n",
      "[Parallel(n_jobs=-1)]: Done 1640 tasks      | elapsed:   20.2s\n",
      "[Parallel(n_jobs=-1)]: Done 2400 out of 2400 | elapsed:   30.2s finished\n",
      "C:\\Users\\chris\\Anaconda2\\lib\\site-packages\\sklearn\\model_selection\\_search.py:841: DeprecationWarning: The default of the `iid` parameter will change from True to False in version 0.22 and will be removed in 0.24. This will change numeric results when test-set sizes are unequal.\n",
      "  DeprecationWarning)\n",
      "[Parallel(n_jobs=-1)]: Using backend LokyBackend with 4 concurrent workers.\n"
     ]
    },
    {
     "name": "stdout",
     "output_type": "stream",
     "text": [
      "Fitting 5 folds for each of 480 candidates, totalling 2400 fits\n"
     ]
    },
    {
     "name": "stderr",
     "output_type": "stream",
     "text": [
      "[Parallel(n_jobs=-1)]: Done 168 tasks      | elapsed:    1.6s\n",
      "[Parallel(n_jobs=-1)]: Done 1512 tasks      | elapsed:   19.4s\n",
      "[Parallel(n_jobs=-1)]: Done 2400 out of 2400 | elapsed:   32.6s finished\n",
      "C:\\Users\\chris\\Anaconda2\\lib\\site-packages\\sklearn\\model_selection\\_search.py:841: DeprecationWarning: The default of the `iid` parameter will change from True to False in version 0.22 and will be removed in 0.24. This will change numeric results when test-set sizes are unequal.\n",
      "  DeprecationWarning)\n"
     ]
    },
    {
     "name": "stdout",
     "output_type": "stream",
     "text": [
      "Games predicted: 245\n",
      "\n",
      "\n",
      "Now Starting Simulation Number: 105\n",
      "\n",
      "\n",
      "{'n_estimators': [10, 12, 14, 16, 18, 20, 22, 24, 26, 28], 'loss': ['ls', 'huber'], 'learning_rate': array([0.1, 0.2, 0.3, 0.4, 0.5, 0.6]), 'max_depth': [1, 2, 3, 4]}\n",
      "Fitting 5 folds for each of 480 candidates, totalling 2400 fits\n"
     ]
    },
    {
     "name": "stderr",
     "output_type": "stream",
     "text": [
      "[Parallel(n_jobs=-1)]: Using backend LokyBackend with 4 concurrent workers.\n",
      "[Parallel(n_jobs=-1)]: Done 104 tasks      | elapsed:    0.8s\n",
      "[Parallel(n_jobs=-1)]: Done 680 tasks      | elapsed:    7.9s\n",
      "[Parallel(n_jobs=-1)]: Done 1640 tasks      | elapsed:   19.8s\n",
      "[Parallel(n_jobs=-1)]: Done 2400 out of 2400 | elapsed:   28.9s finished\n",
      "C:\\Users\\chris\\Anaconda2\\lib\\site-packages\\sklearn\\model_selection\\_search.py:841: DeprecationWarning: The default of the `iid` parameter will change from True to False in version 0.22 and will be removed in 0.24. This will change numeric results when test-set sizes are unequal.\n",
      "  DeprecationWarning)\n",
      "[Parallel(n_jobs=-1)]: Using backend LokyBackend with 4 concurrent workers.\n"
     ]
    },
    {
     "name": "stdout",
     "output_type": "stream",
     "text": [
      "Fitting 5 folds for each of 480 candidates, totalling 2400 fits\n"
     ]
    },
    {
     "name": "stderr",
     "output_type": "stream",
     "text": [
      "[Parallel(n_jobs=-1)]: Done 152 tasks      | elapsed:    1.4s\n",
      "[Parallel(n_jobs=-1)]: Done 1496 tasks      | elapsed:   17.3s\n",
      "[Parallel(n_jobs=-1)]: Done 2400 out of 2400 | elapsed:   29.2s finished\n",
      "C:\\Users\\chris\\Anaconda2\\lib\\site-packages\\sklearn\\model_selection\\_search.py:841: DeprecationWarning: The default of the `iid` parameter will change from True to False in version 0.22 and will be removed in 0.24. This will change numeric results when test-set sizes are unequal.\n",
      "  DeprecationWarning)\n"
     ]
    },
    {
     "name": "stdout",
     "output_type": "stream",
     "text": [
      "Games predicted: 245\n",
      "\n",
      "\n",
      "Now Starting Simulation Number: 106\n",
      "\n",
      "\n",
      "{'n_estimators': [10, 12, 14, 16, 18, 20, 22, 24, 26, 28], 'loss': ['ls', 'huber'], 'learning_rate': array([0.1, 0.2, 0.3, 0.4, 0.5, 0.6]), 'max_depth': [1, 2, 3, 4]}\n",
      "Fitting 5 folds for each of 480 candidates, totalling 2400 fits\n"
     ]
    },
    {
     "name": "stderr",
     "output_type": "stream",
     "text": [
      "[Parallel(n_jobs=-1)]: Using backend LokyBackend with 4 concurrent workers.\n",
      "[Parallel(n_jobs=-1)]: Done 104 tasks      | elapsed:    0.9s\n",
      "[Parallel(n_jobs=-1)]: Done 680 tasks      | elapsed:    8.3s\n",
      "[Parallel(n_jobs=-1)]: Done 1640 tasks      | elapsed:   22.0s\n",
      "[Parallel(n_jobs=-1)]: Done 2400 out of 2400 | elapsed:   31.9s finished\n",
      "C:\\Users\\chris\\Anaconda2\\lib\\site-packages\\sklearn\\model_selection\\_search.py:841: DeprecationWarning: The default of the `iid` parameter will change from True to False in version 0.22 and will be removed in 0.24. This will change numeric results when test-set sizes are unequal.\n",
      "  DeprecationWarning)\n",
      "[Parallel(n_jobs=-1)]: Using backend LokyBackend with 4 concurrent workers.\n"
     ]
    },
    {
     "name": "stdout",
     "output_type": "stream",
     "text": [
      "Fitting 5 folds for each of 480 candidates, totalling 2400 fits\n"
     ]
    },
    {
     "name": "stderr",
     "output_type": "stream",
     "text": [
      "[Parallel(n_jobs=-1)]: Done 216 tasks      | elapsed:    2.1s\n",
      "[Parallel(n_jobs=-1)]: Done 1346 tasks      | elapsed:   15.0s\n",
      "[Parallel(n_jobs=-1)]: Done 2400 out of 2400 | elapsed:   27.6s finished\n",
      "C:\\Users\\chris\\Anaconda2\\lib\\site-packages\\sklearn\\model_selection\\_search.py:841: DeprecationWarning: The default of the `iid` parameter will change from True to False in version 0.22 and will be removed in 0.24. This will change numeric results when test-set sizes are unequal.\n",
      "  DeprecationWarning)\n"
     ]
    },
    {
     "name": "stdout",
     "output_type": "stream",
     "text": [
      "Games predicted: 245\n",
      "\n",
      "\n",
      "Now Starting Simulation Number: 107\n",
      "\n",
      "\n",
      "{'n_estimators': [10, 12, 14, 16, 18, 20, 22, 24, 26, 28], 'loss': ['ls', 'huber'], 'learning_rate': array([0.1, 0.2, 0.3, 0.4, 0.5, 0.6]), 'max_depth': [1, 2, 3, 4]}\n",
      "Fitting 5 folds for each of 480 candidates, totalling 2400 fits\n"
     ]
    },
    {
     "name": "stderr",
     "output_type": "stream",
     "text": [
      "[Parallel(n_jobs=-1)]: Using backend LokyBackend with 4 concurrent workers.\n",
      "[Parallel(n_jobs=-1)]: Done 104 tasks      | elapsed:    0.8s\n",
      "[Parallel(n_jobs=-1)]: Done 872 tasks      | elapsed:   10.4s\n",
      "[Parallel(n_jobs=-1)]: Done 2152 tasks      | elapsed:   26.1s\n",
      "[Parallel(n_jobs=-1)]: Done 2400 out of 2400 | elapsed:   30.1s finished\n",
      "C:\\Users\\chris\\Anaconda2\\lib\\site-packages\\sklearn\\model_selection\\_search.py:841: DeprecationWarning: The default of the `iid` parameter will change from True to False in version 0.22 and will be removed in 0.24. This will change numeric results when test-set sizes are unequal.\n",
      "  DeprecationWarning)\n",
      "[Parallel(n_jobs=-1)]: Using backend LokyBackend with 4 concurrent workers.\n"
     ]
    },
    {
     "name": "stdout",
     "output_type": "stream",
     "text": [
      "Fitting 5 folds for each of 480 candidates, totalling 2400 fits\n"
     ]
    },
    {
     "name": "stderr",
     "output_type": "stream",
     "text": [
      "[Parallel(n_jobs=-1)]: Done 136 tasks      | elapsed:    1.2s\n",
      "[Parallel(n_jobs=-1)]: Done 904 tasks      | elapsed:   11.7s\n",
      "[Parallel(n_jobs=-1)]: Done 2184 tasks      | elapsed:   28.2s\n",
      "[Parallel(n_jobs=-1)]: Done 2400 out of 2400 | elapsed:   31.4s finished\n",
      "C:\\Users\\chris\\Anaconda2\\lib\\site-packages\\sklearn\\model_selection\\_search.py:841: DeprecationWarning: The default of the `iid` parameter will change from True to False in version 0.22 and will be removed in 0.24. This will change numeric results when test-set sizes are unequal.\n",
      "  DeprecationWarning)\n"
     ]
    },
    {
     "name": "stdout",
     "output_type": "stream",
     "text": [
      "Games predicted: 245\n",
      "\n",
      "\n",
      "Now Starting Simulation Number: 108\n",
      "\n",
      "\n",
      "{'n_estimators': [10, 12, 14, 16, 18, 20, 22, 24, 26, 28], 'loss': ['ls', 'huber'], 'learning_rate': array([0.1, 0.2, 0.3, 0.4, 0.5, 0.6]), 'max_depth': [1, 2, 3, 4]}\n",
      "Fitting 5 folds for each of 480 candidates, totalling 2400 fits\n"
     ]
    },
    {
     "name": "stderr",
     "output_type": "stream",
     "text": [
      "[Parallel(n_jobs=-1)]: Using backend LokyBackend with 4 concurrent workers.\n",
      "[Parallel(n_jobs=-1)]: Done 136 tasks      | elapsed:    1.1s\n",
      "[Parallel(n_jobs=-1)]: Done 904 tasks      | elapsed:   10.3s\n",
      "[Parallel(n_jobs=-1)]: Done 2184 tasks      | elapsed:   24.8s\n",
      "[Parallel(n_jobs=-1)]: Done 2400 out of 2400 | elapsed:   28.0s finished\n",
      "C:\\Users\\chris\\Anaconda2\\lib\\site-packages\\sklearn\\model_selection\\_search.py:841: DeprecationWarning: The default of the `iid` parameter will change from True to False in version 0.22 and will be removed in 0.24. This will change numeric results when test-set sizes are unequal.\n",
      "  DeprecationWarning)\n",
      "[Parallel(n_jobs=-1)]: Using backend LokyBackend with 4 concurrent workers.\n"
     ]
    },
    {
     "name": "stdout",
     "output_type": "stream",
     "text": [
      "Fitting 5 folds for each of 480 candidates, totalling 2400 fits\n"
     ]
    },
    {
     "name": "stderr",
     "output_type": "stream",
     "text": [
      "[Parallel(n_jobs=-1)]: Done 136 tasks      | elapsed:    1.1s\n",
      "[Parallel(n_jobs=-1)]: Done 1288 tasks      | elapsed:   14.8s\n",
      "[Parallel(n_jobs=-1)]: Done 2400 out of 2400 | elapsed:   29.5s finished\n",
      "C:\\Users\\chris\\Anaconda2\\lib\\site-packages\\sklearn\\model_selection\\_search.py:841: DeprecationWarning: The default of the `iid` parameter will change from True to False in version 0.22 and will be removed in 0.24. This will change numeric results when test-set sizes are unequal.\n",
      "  DeprecationWarning)\n"
     ]
    },
    {
     "name": "stdout",
     "output_type": "stream",
     "text": [
      "Games predicted: 245\n",
      "\n",
      "\n",
      "Now Starting Simulation Number: 109\n",
      "\n",
      "\n",
      "{'n_estimators': [10, 12, 14, 16, 18, 20, 22, 24, 26, 28], 'loss': ['ls', 'huber'], 'learning_rate': array([0.1, 0.2, 0.3, 0.4, 0.5, 0.6]), 'max_depth': [1, 2, 3, 4]}\n",
      "Fitting 5 folds for each of 480 candidates, totalling 2400 fits\n"
     ]
    },
    {
     "name": "stderr",
     "output_type": "stream",
     "text": [
      "[Parallel(n_jobs=-1)]: Using backend LokyBackend with 4 concurrent workers.\n",
      "[Parallel(n_jobs=-1)]: Done 136 tasks      | elapsed:    1.2s\n",
      "[Parallel(n_jobs=-1)]: Done 904 tasks      | elapsed:   12.3s\n",
      "[Parallel(n_jobs=-1)]: Done 2184 tasks      | elapsed:   29.1s\n",
      "[Parallel(n_jobs=-1)]: Done 2400 out of 2400 | elapsed:   32.3s finished\n",
      "C:\\Users\\chris\\Anaconda2\\lib\\site-packages\\sklearn\\model_selection\\_search.py:841: DeprecationWarning: The default of the `iid` parameter will change from True to False in version 0.22 and will be removed in 0.24. This will change numeric results when test-set sizes are unequal.\n",
      "  DeprecationWarning)\n",
      "[Parallel(n_jobs=-1)]: Using backend LokyBackend with 4 concurrent workers.\n"
     ]
    },
    {
     "name": "stdout",
     "output_type": "stream",
     "text": [
      "Fitting 5 folds for each of 480 candidates, totalling 2400 fits\n"
     ]
    },
    {
     "name": "stderr",
     "output_type": "stream",
     "text": [
      "[Parallel(n_jobs=-1)]: Done 136 tasks      | elapsed:    1.1s\n",
      "[Parallel(n_jobs=-1)]: Done 904 tasks      | elapsed:   10.0s\n",
      "[Parallel(n_jobs=-1)]: Done 2184 tasks      | elapsed:   24.8s\n",
      "[Parallel(n_jobs=-1)]: Done 2400 out of 2400 | elapsed:   28.2s finished\n",
      "C:\\Users\\chris\\Anaconda2\\lib\\site-packages\\sklearn\\model_selection\\_search.py:841: DeprecationWarning: The default of the `iid` parameter will change from True to False in version 0.22 and will be removed in 0.24. This will change numeric results when test-set sizes are unequal.\n",
      "  DeprecationWarning)\n"
     ]
    },
    {
     "name": "stdout",
     "output_type": "stream",
     "text": [
      "Games predicted: 245\n",
      "\n",
      "\n",
      "Now Starting Simulation Number: 110\n",
      "\n",
      "\n",
      "{'n_estimators': [10, 12, 14, 16, 18, 20, 22, 24, 26, 28], 'loss': ['ls', 'huber'], 'learning_rate': array([0.1, 0.2, 0.3, 0.4, 0.5, 0.6]), 'max_depth': [1, 2, 3, 4]}\n",
      "Fitting 5 folds for each of 480 candidates, totalling 2400 fits\n"
     ]
    },
    {
     "name": "stderr",
     "output_type": "stream",
     "text": [
      "[Parallel(n_jobs=-1)]: Using backend LokyBackend with 4 concurrent workers.\n",
      "[Parallel(n_jobs=-1)]: Done 136 tasks      | elapsed:    1.1s\n",
      "[Parallel(n_jobs=-1)]: Done 904 tasks      | elapsed:   10.6s\n",
      "[Parallel(n_jobs=-1)]: Done 2184 tasks      | elapsed:   26.9s\n",
      "[Parallel(n_jobs=-1)]: Done 2400 out of 2400 | elapsed:   30.5s finished\n",
      "C:\\Users\\chris\\Anaconda2\\lib\\site-packages\\sklearn\\model_selection\\_search.py:841: DeprecationWarning: The default of the `iid` parameter will change from True to False in version 0.22 and will be removed in 0.24. This will change numeric results when test-set sizes are unequal.\n",
      "  DeprecationWarning)\n",
      "[Parallel(n_jobs=-1)]: Using backend LokyBackend with 4 concurrent workers.\n"
     ]
    },
    {
     "name": "stdout",
     "output_type": "stream",
     "text": [
      "Fitting 5 folds for each of 480 candidates, totalling 2400 fits\n"
     ]
    },
    {
     "name": "stderr",
     "output_type": "stream",
     "text": [
      "[Parallel(n_jobs=-1)]: Done 136 tasks      | elapsed:    1.3s\n",
      "[Parallel(n_jobs=-1)]: Done 904 tasks      | elapsed:   12.1s\n",
      "[Parallel(n_jobs=-1)]: Done 2184 tasks      | elapsed:   27.6s\n",
      "[Parallel(n_jobs=-1)]: Done 2400 out of 2400 | elapsed:   30.7s finished\n",
      "C:\\Users\\chris\\Anaconda2\\lib\\site-packages\\sklearn\\model_selection\\_search.py:841: DeprecationWarning: The default of the `iid` parameter will change from True to False in version 0.22 and will be removed in 0.24. This will change numeric results when test-set sizes are unequal.\n",
      "  DeprecationWarning)\n"
     ]
    },
    {
     "name": "stdout",
     "output_type": "stream",
     "text": [
      "Games predicted: 245\n",
      "\n",
      "\n",
      "Now Starting Simulation Number: 111\n",
      "\n",
      "\n",
      "{'n_estimators': [10, 12, 14, 16, 18, 20, 22, 24, 26, 28], 'loss': ['ls', 'huber'], 'learning_rate': array([0.1, 0.2, 0.3, 0.4, 0.5, 0.6]), 'max_depth': [1, 2, 3, 4]}\n",
      "Fitting 5 folds for each of 480 candidates, totalling 2400 fits\n"
     ]
    },
    {
     "name": "stderr",
     "output_type": "stream",
     "text": [
      "[Parallel(n_jobs=-1)]: Using backend LokyBackend with 4 concurrent workers.\n",
      "[Parallel(n_jobs=-1)]: Done 104 tasks      | elapsed:    0.7s\n",
      "[Parallel(n_jobs=-1)]: Done 680 tasks      | elapsed:    7.2s\n",
      "[Parallel(n_jobs=-1)]: Done 1640 tasks      | elapsed:   18.8s\n",
      "[Parallel(n_jobs=-1)]: Done 2400 out of 2400 | elapsed:   28.8s finished\n",
      "C:\\Users\\chris\\Anaconda2\\lib\\site-packages\\sklearn\\model_selection\\_search.py:841: DeprecationWarning: The default of the `iid` parameter will change from True to False in version 0.22 and will be removed in 0.24. This will change numeric results when test-set sizes are unequal.\n",
      "  DeprecationWarning)\n"
     ]
    },
    {
     "name": "stdout",
     "output_type": "stream",
     "text": [
      "Fitting 5 folds for each of 480 candidates, totalling 2400 fits\n"
     ]
    },
    {
     "name": "stderr",
     "output_type": "stream",
     "text": [
      "[Parallel(n_jobs=-1)]: Using backend LokyBackend with 4 concurrent workers.\n",
      "[Parallel(n_jobs=-1)]: Done 104 tasks      | elapsed:    1.0s\n",
      "[Parallel(n_jobs=-1)]: Done 680 tasks      | elapsed:    8.3s\n",
      "[Parallel(n_jobs=-1)]: Done 1640 tasks      | elapsed:   24.9s\n",
      "[Parallel(n_jobs=-1)]: Done 2400 out of 2400 | elapsed:   36.9s finished\n",
      "C:\\Users\\chris\\Anaconda2\\lib\\site-packages\\sklearn\\model_selection\\_search.py:841: DeprecationWarning: The default of the `iid` parameter will change from True to False in version 0.22 and will be removed in 0.24. This will change numeric results when test-set sizes are unequal.\n",
      "  DeprecationWarning)\n"
     ]
    },
    {
     "name": "stdout",
     "output_type": "stream",
     "text": [
      "Games predicted: 245\n",
      "\n",
      "\n",
      "Now Starting Simulation Number: 112\n",
      "\n",
      "\n",
      "{'n_estimators': [10, 12, 14, 16, 18, 20, 22, 24, 26, 28], 'loss': ['ls', 'huber'], 'learning_rate': array([0.1, 0.2, 0.3, 0.4, 0.5, 0.6]), 'max_depth': [1, 2, 3, 4]}\n",
      "Fitting 5 folds for each of 480 candidates, totalling 2400 fits\n"
     ]
    },
    {
     "name": "stderr",
     "output_type": "stream",
     "text": [
      "[Parallel(n_jobs=-1)]: Using backend LokyBackend with 4 concurrent workers.\n",
      "[Parallel(n_jobs=-1)]: Done 200 tasks      | elapsed:    2.3s\n",
      "[Parallel(n_jobs=-1)]: Done 914 tasks      | elapsed:   14.1s\n",
      "[Parallel(n_jobs=-1)]: Done 1874 tasks      | elapsed:   28.1s\n",
      "[Parallel(n_jobs=-1)]: Done 2400 out of 2400 | elapsed:   35.9s finished\n",
      "C:\\Users\\chris\\Anaconda2\\lib\\site-packages\\sklearn\\model_selection\\_search.py:841: DeprecationWarning: The default of the `iid` parameter will change from True to False in version 0.22 and will be removed in 0.24. This will change numeric results when test-set sizes are unequal.\n",
      "  DeprecationWarning)\n",
      "[Parallel(n_jobs=-1)]: Using backend LokyBackend with 4 concurrent workers.\n"
     ]
    },
    {
     "name": "stdout",
     "output_type": "stream",
     "text": [
      "Fitting 5 folds for each of 480 candidates, totalling 2400 fits\n"
     ]
    },
    {
     "name": "stderr",
     "output_type": "stream",
     "text": [
      "[Parallel(n_jobs=-1)]: Done 152 tasks      | elapsed:    1.3s\n",
      "[Parallel(n_jobs=-1)]: Done 1304 tasks      | elapsed:   15.6s\n",
      "[Parallel(n_jobs=-1)]: Done 2400 out of 2400 | elapsed:   31.7s finished\n",
      "C:\\Users\\chris\\Anaconda2\\lib\\site-packages\\sklearn\\model_selection\\_search.py:841: DeprecationWarning: The default of the `iid` parameter will change from True to False in version 0.22 and will be removed in 0.24. This will change numeric results when test-set sizes are unequal.\n",
      "  DeprecationWarning)\n"
     ]
    },
    {
     "name": "stdout",
     "output_type": "stream",
     "text": [
      "Games predicted: 245\n",
      "\n",
      "\n",
      "Now Starting Simulation Number: 113\n",
      "\n",
      "\n",
      "{'n_estimators': [10, 12, 14, 16, 18, 20, 22, 24, 26, 28], 'loss': ['ls', 'huber'], 'learning_rate': array([0.1, 0.2, 0.3, 0.4, 0.5, 0.6]), 'max_depth': [1, 2, 3, 4]}\n",
      "Fitting 5 folds for each of 480 candidates, totalling 2400 fits\n"
     ]
    },
    {
     "name": "stderr",
     "output_type": "stream",
     "text": [
      "[Parallel(n_jobs=-1)]: Using backend LokyBackend with 4 concurrent workers.\n",
      "[Parallel(n_jobs=-1)]: Done 136 tasks      | elapsed:    1.2s\n",
      "[Parallel(n_jobs=-1)]: Done 904 tasks      | elapsed:   11.4s\n",
      "[Parallel(n_jobs=-1)]: Done 2184 tasks      | elapsed:   28.6s\n",
      "[Parallel(n_jobs=-1)]: Done 2400 out of 2400 | elapsed:   31.9s finished\n",
      "C:\\Users\\chris\\Anaconda2\\lib\\site-packages\\sklearn\\model_selection\\_search.py:841: DeprecationWarning: The default of the `iid` parameter will change from True to False in version 0.22 and will be removed in 0.24. This will change numeric results when test-set sizes are unequal.\n",
      "  DeprecationWarning)\n",
      "[Parallel(n_jobs=-1)]: Using backend LokyBackend with 4 concurrent workers.\n"
     ]
    },
    {
     "name": "stdout",
     "output_type": "stream",
     "text": [
      "Fitting 5 folds for each of 480 candidates, totalling 2400 fits\n"
     ]
    },
    {
     "name": "stderr",
     "output_type": "stream",
     "text": [
      "[Parallel(n_jobs=-1)]: Done 136 tasks      | elapsed:    1.2s\n",
      "[Parallel(n_jobs=-1)]: Done 1288 tasks      | elapsed:   14.7s\n",
      "[Parallel(n_jobs=-1)]: Done 2400 out of 2400 | elapsed:   28.2s finished\n",
      "C:\\Users\\chris\\Anaconda2\\lib\\site-packages\\sklearn\\model_selection\\_search.py:841: DeprecationWarning: The default of the `iid` parameter will change from True to False in version 0.22 and will be removed in 0.24. This will change numeric results when test-set sizes are unequal.\n",
      "  DeprecationWarning)\n"
     ]
    },
    {
     "name": "stdout",
     "output_type": "stream",
     "text": [
      "Games predicted: 245\n",
      "\n",
      "\n",
      "Now Starting Simulation Number: 114\n",
      "\n",
      "\n",
      "{'n_estimators': [10, 12, 14, 16, 18, 20, 22, 24, 26, 28], 'loss': ['ls', 'huber'], 'learning_rate': array([0.1, 0.2, 0.3, 0.4, 0.5, 0.6]), 'max_depth': [1, 2, 3, 4]}\n",
      "Fitting 5 folds for each of 480 candidates, totalling 2400 fits\n"
     ]
    },
    {
     "name": "stderr",
     "output_type": "stream",
     "text": [
      "[Parallel(n_jobs=-1)]: Using backend LokyBackend with 4 concurrent workers.\n",
      "[Parallel(n_jobs=-1)]: Done 104 tasks      | elapsed:    0.9s\n",
      "[Parallel(n_jobs=-1)]: Done 680 tasks      | elapsed:    7.5s\n",
      "[Parallel(n_jobs=-1)]: Done 1640 tasks      | elapsed:   20.0s\n",
      "[Parallel(n_jobs=-1)]: Done 2400 out of 2400 | elapsed:   30.1s finished\n",
      "C:\\Users\\chris\\Anaconda2\\lib\\site-packages\\sklearn\\model_selection\\_search.py:841: DeprecationWarning: The default of the `iid` parameter will change from True to False in version 0.22 and will be removed in 0.24. This will change numeric results when test-set sizes are unequal.\n",
      "  DeprecationWarning)\n",
      "[Parallel(n_jobs=-1)]: Using backend LokyBackend with 4 concurrent workers.\n"
     ]
    },
    {
     "name": "stdout",
     "output_type": "stream",
     "text": [
      "Fitting 5 folds for each of 480 candidates, totalling 2400 fits\n"
     ]
    },
    {
     "name": "stderr",
     "output_type": "stream",
     "text": [
      "[Parallel(n_jobs=-1)]: Done 104 tasks      | elapsed:    0.9s\n",
      "[Parallel(n_jobs=-1)]: Done 680 tasks      | elapsed:    8.4s\n",
      "[Parallel(n_jobs=-1)]: Done 1640 tasks      | elapsed:   22.3s\n",
      "[Parallel(n_jobs=-1)]: Done 2400 out of 2400 | elapsed:   32.1s finished\n",
      "C:\\Users\\chris\\Anaconda2\\lib\\site-packages\\sklearn\\model_selection\\_search.py:841: DeprecationWarning: The default of the `iid` parameter will change from True to False in version 0.22 and will be removed in 0.24. This will change numeric results when test-set sizes are unequal.\n",
      "  DeprecationWarning)\n"
     ]
    },
    {
     "name": "stdout",
     "output_type": "stream",
     "text": [
      "Games predicted: 245\n",
      "\n",
      "\n",
      "Now Starting Simulation Number: 115\n",
      "\n",
      "\n",
      "{'n_estimators': [10, 12, 14, 16, 18, 20, 22, 24, 26, 28], 'loss': ['ls', 'huber'], 'learning_rate': array([0.1, 0.2, 0.3, 0.4, 0.5, 0.6]), 'max_depth': [1, 2, 3, 4]}\n",
      "Fitting 5 folds for each of 480 candidates, totalling 2400 fits\n"
     ]
    },
    {
     "name": "stderr",
     "output_type": "stream",
     "text": [
      "[Parallel(n_jobs=-1)]: Using backend LokyBackend with 4 concurrent workers.\n",
      "[Parallel(n_jobs=-1)]: Done 104 tasks      | elapsed:    0.8s\n",
      "[Parallel(n_jobs=-1)]: Done 680 tasks      | elapsed:    7.4s\n",
      "[Parallel(n_jobs=-1)]: Done 1640 tasks      | elapsed:   19.1s\n",
      "[Parallel(n_jobs=-1)]: Done 2400 out of 2400 | elapsed:   28.4s finished\n",
      "C:\\Users\\chris\\Anaconda2\\lib\\site-packages\\sklearn\\model_selection\\_search.py:841: DeprecationWarning: The default of the `iid` parameter will change from True to False in version 0.22 and will be removed in 0.24. This will change numeric results when test-set sizes are unequal.\n",
      "  DeprecationWarning)\n",
      "[Parallel(n_jobs=-1)]: Using backend LokyBackend with 4 concurrent workers.\n"
     ]
    },
    {
     "name": "stdout",
     "output_type": "stream",
     "text": [
      "Fitting 5 folds for each of 480 candidates, totalling 2400 fits\n"
     ]
    },
    {
     "name": "stderr",
     "output_type": "stream",
     "text": [
      "[Parallel(n_jobs=-1)]: Done 184 tasks      | elapsed:    1.6s\n",
      "[Parallel(n_jobs=-1)]: Done 1720 tasks      | elapsed:   19.4s\n",
      "[Parallel(n_jobs=-1)]: Done 2400 out of 2400 | elapsed:   28.4s finished\n",
      "C:\\Users\\chris\\Anaconda2\\lib\\site-packages\\sklearn\\model_selection\\_search.py:841: DeprecationWarning: The default of the `iid` parameter will change from True to False in version 0.22 and will be removed in 0.24. This will change numeric results when test-set sizes are unequal.\n",
      "  DeprecationWarning)\n"
     ]
    },
    {
     "name": "stdout",
     "output_type": "stream",
     "text": [
      "Games predicted: 245\n",
      "\n",
      "\n",
      "Now Starting Simulation Number: 116\n",
      "\n",
      "\n",
      "{'n_estimators': [10, 12, 14, 16, 18, 20, 22, 24, 26, 28], 'loss': ['ls', 'huber'], 'learning_rate': array([0.1, 0.2, 0.3, 0.4, 0.5, 0.6]), 'max_depth': [1, 2, 3, 4]}\n",
      "Fitting 5 folds for each of 480 candidates, totalling 2400 fits\n"
     ]
    },
    {
     "name": "stderr",
     "output_type": "stream",
     "text": [
      "[Parallel(n_jobs=-1)]: Using backend LokyBackend with 4 concurrent workers.\n",
      "[Parallel(n_jobs=-1)]: Done 136 tasks      | elapsed:    1.2s\n",
      "[Parallel(n_jobs=-1)]: Done 904 tasks      | elapsed:   11.3s\n",
      "[Parallel(n_jobs=-1)]: Done 2184 tasks      | elapsed:   28.4s\n",
      "[Parallel(n_jobs=-1)]: Done 2400 out of 2400 | elapsed:   32.0s finished\n",
      "C:\\Users\\chris\\Anaconda2\\lib\\site-packages\\sklearn\\model_selection\\_search.py:841: DeprecationWarning: The default of the `iid` parameter will change from True to False in version 0.22 and will be removed in 0.24. This will change numeric results when test-set sizes are unequal.\n",
      "  DeprecationWarning)\n",
      "[Parallel(n_jobs=-1)]: Using backend LokyBackend with 4 concurrent workers.\n"
     ]
    },
    {
     "name": "stdout",
     "output_type": "stream",
     "text": [
      "Fitting 5 folds for each of 480 candidates, totalling 2400 fits\n"
     ]
    },
    {
     "name": "stderr",
     "output_type": "stream",
     "text": [
      "[Parallel(n_jobs=-1)]: Done 184 tasks      | elapsed:    1.7s\n",
      "[Parallel(n_jobs=-1)]: Done 1144 tasks      | elapsed:   13.4s\n",
      "[Parallel(n_jobs=-1)]: Done 2400 out of 2400 | elapsed:   28.6s finished\n",
      "C:\\Users\\chris\\Anaconda2\\lib\\site-packages\\sklearn\\model_selection\\_search.py:841: DeprecationWarning: The default of the `iid` parameter will change from True to False in version 0.22 and will be removed in 0.24. This will change numeric results when test-set sizes are unequal.\n",
      "  DeprecationWarning)\n"
     ]
    },
    {
     "name": "stdout",
     "output_type": "stream",
     "text": [
      "Games predicted: 245\n",
      "\n",
      "\n",
      "Now Starting Simulation Number: 117\n",
      "\n",
      "\n",
      "{'n_estimators': [10, 12, 14, 16, 18, 20, 22, 24, 26, 28], 'loss': ['ls', 'huber'], 'learning_rate': array([0.1, 0.2, 0.3, 0.4, 0.5, 0.6]), 'max_depth': [1, 2, 3, 4]}\n",
      "Fitting 5 folds for each of 480 candidates, totalling 2400 fits\n"
     ]
    },
    {
     "name": "stderr",
     "output_type": "stream",
     "text": [
      "[Parallel(n_jobs=-1)]: Using backend LokyBackend with 4 concurrent workers.\n",
      "[Parallel(n_jobs=-1)]: Done 104 tasks      | elapsed:    0.7s\n",
      "[Parallel(n_jobs=-1)]: Done 680 tasks      | elapsed:    7.3s\n",
      "[Parallel(n_jobs=-1)]: Done 1640 tasks      | elapsed:   19.5s\n",
      "[Parallel(n_jobs=-1)]: Done 2400 out of 2400 | elapsed:   29.5s finished\n",
      "C:\\Users\\chris\\Anaconda2\\lib\\site-packages\\sklearn\\model_selection\\_search.py:841: DeprecationWarning: The default of the `iid` parameter will change from True to False in version 0.22 and will be removed in 0.24. This will change numeric results when test-set sizes are unequal.\n",
      "  DeprecationWarning)\n",
      "[Parallel(n_jobs=-1)]: Using backend LokyBackend with 4 concurrent workers.\n"
     ]
    },
    {
     "name": "stdout",
     "output_type": "stream",
     "text": [
      "Fitting 5 folds for each of 480 candidates, totalling 2400 fits\n"
     ]
    },
    {
     "name": "stderr",
     "output_type": "stream",
     "text": [
      "[Parallel(n_jobs=-1)]: Done 168 tasks      | elapsed:    1.6s\n",
      "[Parallel(n_jobs=-1)]: Done 1036 tasks      | elapsed:   13.4s\n",
      "[Parallel(n_jobs=-1)]: Done 2156 tasks      | elapsed:   27.2s\n",
      "[Parallel(n_jobs=-1)]: Done 2400 out of 2400 | elapsed:   30.7s finished\n",
      "C:\\Users\\chris\\Anaconda2\\lib\\site-packages\\sklearn\\model_selection\\_search.py:841: DeprecationWarning: The default of the `iid` parameter will change from True to False in version 0.22 and will be removed in 0.24. This will change numeric results when test-set sizes are unequal.\n",
      "  DeprecationWarning)\n"
     ]
    },
    {
     "name": "stdout",
     "output_type": "stream",
     "text": [
      "Games predicted: 245\n",
      "\n",
      "\n",
      "Now Starting Simulation Number: 118\n",
      "\n",
      "\n",
      "{'n_estimators': [10, 12, 14, 16, 18, 20, 22, 24, 26, 28], 'loss': ['ls', 'huber'], 'learning_rate': array([0.1, 0.2, 0.3, 0.4, 0.5, 0.6]), 'max_depth': [1, 2, 3, 4]}\n",
      "Fitting 5 folds for each of 480 candidates, totalling 2400 fits\n"
     ]
    },
    {
     "name": "stderr",
     "output_type": "stream",
     "text": [
      "[Parallel(n_jobs=-1)]: Using backend LokyBackend with 4 concurrent workers.\n",
      "[Parallel(n_jobs=-1)]: Done 136 tasks      | elapsed:    1.2s\n",
      "[Parallel(n_jobs=-1)]: Done 904 tasks      | elapsed:   10.1s\n",
      "[Parallel(n_jobs=-1)]: Done 2184 tasks      | elapsed:   25.4s\n",
      "[Parallel(n_jobs=-1)]: Done 2400 out of 2400 | elapsed:   28.9s finished\n",
      "C:\\Users\\chris\\Anaconda2\\lib\\site-packages\\sklearn\\model_selection\\_search.py:841: DeprecationWarning: The default of the `iid` parameter will change from True to False in version 0.22 and will be removed in 0.24. This will change numeric results when test-set sizes are unequal.\n",
      "  DeprecationWarning)\n",
      "[Parallel(n_jobs=-1)]: Using backend LokyBackend with 4 concurrent workers.\n"
     ]
    },
    {
     "name": "stdout",
     "output_type": "stream",
     "text": [
      "Fitting 5 folds for each of 480 candidates, totalling 2400 fits\n"
     ]
    },
    {
     "name": "stderr",
     "output_type": "stream",
     "text": [
      "[Parallel(n_jobs=-1)]: Done 136 tasks      | elapsed:    1.3s\n",
      "[Parallel(n_jobs=-1)]: Done 1288 tasks      | elapsed:   15.7s\n",
      "[Parallel(n_jobs=-1)]: Done 2400 out of 2400 | elapsed:   30.5s finished\n",
      "C:\\Users\\chris\\Anaconda2\\lib\\site-packages\\sklearn\\model_selection\\_search.py:841: DeprecationWarning: The default of the `iid` parameter will change from True to False in version 0.22 and will be removed in 0.24. This will change numeric results when test-set sizes are unequal.\n",
      "  DeprecationWarning)\n"
     ]
    },
    {
     "name": "stdout",
     "output_type": "stream",
     "text": [
      "Games predicted: 245\n",
      "\n",
      "\n",
      "Now Starting Simulation Number: 119\n",
      "\n",
      "\n",
      "{'n_estimators': [10, 12, 14, 16, 18, 20, 22, 24, 26, 28], 'loss': ['ls', 'huber'], 'learning_rate': array([0.1, 0.2, 0.3, 0.4, 0.5, 0.6]), 'max_depth': [1, 2, 3, 4]}\n",
      "Fitting 5 folds for each of 480 candidates, totalling 2400 fits\n"
     ]
    },
    {
     "name": "stderr",
     "output_type": "stream",
     "text": [
      "[Parallel(n_jobs=-1)]: Using backend LokyBackend with 4 concurrent workers.\n",
      "[Parallel(n_jobs=-1)]: Done 136 tasks      | elapsed:    1.3s\n",
      "[Parallel(n_jobs=-1)]: Done 904 tasks      | elapsed:   11.4s\n",
      "[Parallel(n_jobs=-1)]: Done 2184 tasks      | elapsed:   26.4s\n",
      "[Parallel(n_jobs=-1)]: Done 2400 out of 2400 | elapsed:   29.5s finished\n",
      "C:\\Users\\chris\\Anaconda2\\lib\\site-packages\\sklearn\\model_selection\\_search.py:841: DeprecationWarning: The default of the `iid` parameter will change from True to False in version 0.22 and will be removed in 0.24. This will change numeric results when test-set sizes are unequal.\n",
      "  DeprecationWarning)\n",
      "[Parallel(n_jobs=-1)]: Using backend LokyBackend with 4 concurrent workers.\n"
     ]
    },
    {
     "name": "stdout",
     "output_type": "stream",
     "text": [
      "Fitting 5 folds for each of 480 candidates, totalling 2400 fits\n"
     ]
    },
    {
     "name": "stderr",
     "output_type": "stream",
     "text": [
      "[Parallel(n_jobs=-1)]: Done 136 tasks      | elapsed:    1.1s\n",
      "[Parallel(n_jobs=-1)]: Done 1288 tasks      | elapsed:   14.5s\n",
      "[Parallel(n_jobs=-1)]: Done 2400 out of 2400 | elapsed:   29.0s finished\n",
      "C:\\Users\\chris\\Anaconda2\\lib\\site-packages\\sklearn\\model_selection\\_search.py:841: DeprecationWarning: The default of the `iid` parameter will change from True to False in version 0.22 and will be removed in 0.24. This will change numeric results when test-set sizes are unequal.\n",
      "  DeprecationWarning)\n"
     ]
    },
    {
     "name": "stdout",
     "output_type": "stream",
     "text": [
      "Games predicted: 245\n",
      "\n",
      "\n",
      "Now Starting Simulation Number: 120\n",
      "\n",
      "\n",
      "{'n_estimators': [10, 12, 14, 16, 18, 20, 22, 24, 26, 28], 'loss': ['ls', 'huber'], 'learning_rate': array([0.1, 0.2, 0.3, 0.4, 0.5, 0.6]), 'max_depth': [1, 2, 3, 4]}\n",
      "Fitting 5 folds for each of 480 candidates, totalling 2400 fits\n"
     ]
    },
    {
     "name": "stderr",
     "output_type": "stream",
     "text": [
      "[Parallel(n_jobs=-1)]: Using backend LokyBackend with 4 concurrent workers.\n",
      "[Parallel(n_jobs=-1)]: Done 104 tasks      | elapsed:    0.9s\n",
      "[Parallel(n_jobs=-1)]: Done 680 tasks      | elapsed:    8.2s\n",
      "[Parallel(n_jobs=-1)]: Done 1640 tasks      | elapsed:   21.9s\n",
      "[Parallel(n_jobs=-1)]: Done 2400 out of 2400 | elapsed:   32.6s finished\n",
      "C:\\Users\\chris\\Anaconda2\\lib\\site-packages\\sklearn\\model_selection\\_search.py:841: DeprecationWarning: The default of the `iid` parameter will change from True to False in version 0.22 and will be removed in 0.24. This will change numeric results when test-set sizes are unequal.\n",
      "  DeprecationWarning)\n"
     ]
    },
    {
     "name": "stdout",
     "output_type": "stream",
     "text": [
      "Fitting 5 folds for each of 480 candidates, totalling 2400 fits\n"
     ]
    },
    {
     "name": "stderr",
     "output_type": "stream",
     "text": [
      "[Parallel(n_jobs=-1)]: Using backend LokyBackend with 4 concurrent workers.\n",
      "[Parallel(n_jobs=-1)]: Done 136 tasks      | elapsed:    1.3s\n",
      "[Parallel(n_jobs=-1)]: Done 904 tasks      | elapsed:   10.7s\n",
      "[Parallel(n_jobs=-1)]: Done 2184 tasks      | elapsed:   25.4s\n",
      "[Parallel(n_jobs=-1)]: Done 2400 out of 2400 | elapsed:   29.1s finished\n",
      "C:\\Users\\chris\\Anaconda2\\lib\\site-packages\\sklearn\\model_selection\\_search.py:841: DeprecationWarning: The default of the `iid` parameter will change from True to False in version 0.22 and will be removed in 0.24. This will change numeric results when test-set sizes are unequal.\n",
      "  DeprecationWarning)\n"
     ]
    },
    {
     "name": "stdout",
     "output_type": "stream",
     "text": [
      "Games predicted: 245\n",
      "\n",
      "\n",
      "Now Starting Simulation Number: 121\n",
      "\n",
      "\n",
      "{'n_estimators': [10, 12, 14, 16, 18, 20, 22, 24, 26, 28], 'loss': ['ls', 'huber'], 'learning_rate': array([0.1, 0.2, 0.3, 0.4, 0.5, 0.6]), 'max_depth': [1, 2, 3, 4]}\n",
      "Fitting 5 folds for each of 480 candidates, totalling 2400 fits\n"
     ]
    },
    {
     "name": "stderr",
     "output_type": "stream",
     "text": [
      "[Parallel(n_jobs=-1)]: Using backend LokyBackend with 4 concurrent workers.\n",
      "[Parallel(n_jobs=-1)]: Done  72 tasks      | elapsed:    0.6s\n",
      "[Parallel(n_jobs=-1)]: Done 456 tasks      | elapsed:    5.7s\n",
      "[Parallel(n_jobs=-1)]: Done 1096 tasks      | elapsed:   13.1s\n",
      "[Parallel(n_jobs=-1)]: Done 1992 tasks      | elapsed:   25.0s\n",
      "[Parallel(n_jobs=-1)]: Done 2400 out of 2400 | elapsed:   30.6s finished\n",
      "C:\\Users\\chris\\Anaconda2\\lib\\site-packages\\sklearn\\model_selection\\_search.py:841: DeprecationWarning: The default of the `iid` parameter will change from True to False in version 0.22 and will be removed in 0.24. This will change numeric results when test-set sizes are unequal.\n",
      "  DeprecationWarning)\n"
     ]
    },
    {
     "name": "stdout",
     "output_type": "stream",
     "text": [
      "Fitting 5 folds for each of 480 candidates, totalling 2400 fits\n"
     ]
    },
    {
     "name": "stderr",
     "output_type": "stream",
     "text": [
      "[Parallel(n_jobs=-1)]: Using backend LokyBackend with 4 concurrent workers.\n",
      "[Parallel(n_jobs=-1)]: Done 104 tasks      | elapsed:    0.9s\n",
      "[Parallel(n_jobs=-1)]: Done 680 tasks      | elapsed:    8.4s\n",
      "[Parallel(n_jobs=-1)]: Done 1640 tasks      | elapsed:   22.5s\n",
      "[Parallel(n_jobs=-1)]: Done 2400 out of 2400 | elapsed:   32.4s finished\n",
      "C:\\Users\\chris\\Anaconda2\\lib\\site-packages\\sklearn\\model_selection\\_search.py:841: DeprecationWarning: The default of the `iid` parameter will change from True to False in version 0.22 and will be removed in 0.24. This will change numeric results when test-set sizes are unequal.\n",
      "  DeprecationWarning)\n"
     ]
    },
    {
     "name": "stdout",
     "output_type": "stream",
     "text": [
      "Games predicted: 245\n",
      "\n",
      "\n",
      "Now Starting Simulation Number: 122\n",
      "\n",
      "\n",
      "{'n_estimators': [10, 12, 14, 16, 18, 20, 22, 24, 26, 28], 'loss': ['ls', 'huber'], 'learning_rate': array([0.1, 0.2, 0.3, 0.4, 0.5, 0.6]), 'max_depth': [1, 2, 3, 4]}\n",
      "Fitting 5 folds for each of 480 candidates, totalling 2400 fits\n"
     ]
    },
    {
     "name": "stderr",
     "output_type": "stream",
     "text": [
      "[Parallel(n_jobs=-1)]: Using backend LokyBackend with 4 concurrent workers.\n",
      "[Parallel(n_jobs=-1)]: Done 104 tasks      | elapsed:    0.8s\n",
      "[Parallel(n_jobs=-1)]: Done 680 tasks      | elapsed:    7.4s\n",
      "[Parallel(n_jobs=-1)]: Done 1640 tasks      | elapsed:   19.0s\n",
      "[Parallel(n_jobs=-1)]: Done 2400 out of 2400 | elapsed:   28.1s finished\n",
      "C:\\Users\\chris\\Anaconda2\\lib\\site-packages\\sklearn\\model_selection\\_search.py:841: DeprecationWarning: The default of the `iid` parameter will change from True to False in version 0.22 and will be removed in 0.24. This will change numeric results when test-set sizes are unequal.\n",
      "  DeprecationWarning)\n",
      "[Parallel(n_jobs=-1)]: Using backend LokyBackend with 4 concurrent workers.\n"
     ]
    },
    {
     "name": "stdout",
     "output_type": "stream",
     "text": [
      "Fitting 5 folds for each of 480 candidates, totalling 2400 fits\n"
     ]
    },
    {
     "name": "stderr",
     "output_type": "stream",
     "text": [
      "[Parallel(n_jobs=-1)]: Done 184 tasks      | elapsed:    1.7s\n",
      "[Parallel(n_jobs=-1)]: Done 1720 tasks      | elapsed:   20.0s\n",
      "[Parallel(n_jobs=-1)]: Done 2400 out of 2400 | elapsed:   29.3s finished\n",
      "C:\\Users\\chris\\Anaconda2\\lib\\site-packages\\sklearn\\model_selection\\_search.py:841: DeprecationWarning: The default of the `iid` parameter will change from True to False in version 0.22 and will be removed in 0.24. This will change numeric results when test-set sizes are unequal.\n",
      "  DeprecationWarning)\n"
     ]
    },
    {
     "name": "stdout",
     "output_type": "stream",
     "text": [
      "Games predicted: 245\n",
      "\n",
      "\n",
      "Now Starting Simulation Number: 123\n",
      "\n",
      "\n",
      "{'n_estimators': [10, 12, 14, 16, 18, 20, 22, 24, 26, 28], 'loss': ['ls', 'huber'], 'learning_rate': array([0.1, 0.2, 0.3, 0.4, 0.5, 0.6]), 'max_depth': [1, 2, 3, 4]}\n",
      "Fitting 5 folds for each of 480 candidates, totalling 2400 fits\n"
     ]
    },
    {
     "name": "stderr",
     "output_type": "stream",
     "text": [
      "[Parallel(n_jobs=-1)]: Using backend LokyBackend with 4 concurrent workers.\n",
      "[Parallel(n_jobs=-1)]: Done 104 tasks      | elapsed:    0.8s\n",
      "[Parallel(n_jobs=-1)]: Done 680 tasks      | elapsed:    8.3s\n",
      "[Parallel(n_jobs=-1)]: Done 1640 tasks      | elapsed:   21.9s\n",
      "[Parallel(n_jobs=-1)]: Done 2400 out of 2400 | elapsed:   31.9s finished\n",
      "C:\\Users\\chris\\Anaconda2\\lib\\site-packages\\sklearn\\model_selection\\_search.py:841: DeprecationWarning: The default of the `iid` parameter will change from True to False in version 0.22 and will be removed in 0.24. This will change numeric results when test-set sizes are unequal.\n",
      "  DeprecationWarning)\n"
     ]
    },
    {
     "name": "stdout",
     "output_type": "stream",
     "text": [
      "Fitting 5 folds for each of 480 candidates, totalling 2400 fits\n"
     ]
    },
    {
     "name": "stderr",
     "output_type": "stream",
     "text": [
      "[Parallel(n_jobs=-1)]: Using backend LokyBackend with 4 concurrent workers.\n",
      "[Parallel(n_jobs=-1)]: Done 136 tasks      | elapsed:    1.1s\n",
      "[Parallel(n_jobs=-1)]: Done 904 tasks      | elapsed:   10.2s\n",
      "[Parallel(n_jobs=-1)]: Done 2184 tasks      | elapsed:   24.8s\n",
      "[Parallel(n_jobs=-1)]: Done 2400 out of 2400 | elapsed:   28.2s finished\n",
      "C:\\Users\\chris\\Anaconda2\\lib\\site-packages\\sklearn\\model_selection\\_search.py:841: DeprecationWarning: The default of the `iid` parameter will change from True to False in version 0.22 and will be removed in 0.24. This will change numeric results when test-set sizes are unequal.\n",
      "  DeprecationWarning)\n"
     ]
    },
    {
     "name": "stdout",
     "output_type": "stream",
     "text": [
      "Games predicted: 245\n",
      "\n",
      "\n",
      "Now Starting Simulation Number: 124\n",
      "\n",
      "\n",
      "{'n_estimators': [10, 12, 14, 16, 18, 20, 22, 24, 26, 28], 'loss': ['ls', 'huber'], 'learning_rate': array([0.1, 0.2, 0.3, 0.4, 0.5, 0.6]), 'max_depth': [1, 2, 3, 4]}\n",
      "Fitting 5 folds for each of 480 candidates, totalling 2400 fits\n"
     ]
    },
    {
     "name": "stderr",
     "output_type": "stream",
     "text": [
      "[Parallel(n_jobs=-1)]: Using backend LokyBackend with 4 concurrent workers.\n",
      "[Parallel(n_jobs=-1)]: Done 136 tasks      | elapsed:    1.1s\n",
      "[Parallel(n_jobs=-1)]: Done 904 tasks      | elapsed:   10.6s\n",
      "[Parallel(n_jobs=-1)]: Done 2184 tasks      | elapsed:   26.6s\n",
      "[Parallel(n_jobs=-1)]: Done 2400 out of 2400 | elapsed:   30.4s finished\n",
      "C:\\Users\\chris\\Anaconda2\\lib\\site-packages\\sklearn\\model_selection\\_search.py:841: DeprecationWarning: The default of the `iid` parameter will change from True to False in version 0.22 and will be removed in 0.24. This will change numeric results when test-set sizes are unequal.\n",
      "  DeprecationWarning)\n"
     ]
    },
    {
     "name": "stdout",
     "output_type": "stream",
     "text": [
      "Fitting 5 folds for each of 480 candidates, totalling 2400 fits\n"
     ]
    },
    {
     "name": "stderr",
     "output_type": "stream",
     "text": [
      "[Parallel(n_jobs=-1)]: Using backend LokyBackend with 4 concurrent workers.\n",
      "[Parallel(n_jobs=-1)]: Done 104 tasks      | elapsed:    0.9s\n",
      "[Parallel(n_jobs=-1)]: Done 680 tasks      | elapsed:    8.7s\n",
      "[Parallel(n_jobs=-1)]: Done 1640 tasks      | elapsed:   21.5s\n",
      "[Parallel(n_jobs=-1)]: Done 2400 out of 2400 | elapsed:   30.5s finished\n",
      "C:\\Users\\chris\\Anaconda2\\lib\\site-packages\\sklearn\\model_selection\\_search.py:841: DeprecationWarning: The default of the `iid` parameter will change from True to False in version 0.22 and will be removed in 0.24. This will change numeric results when test-set sizes are unequal.\n",
      "  DeprecationWarning)\n"
     ]
    },
    {
     "name": "stdout",
     "output_type": "stream",
     "text": [
      "Games predicted: 245\n",
      "\n",
      "\n",
      "Now Starting Simulation Number: 125\n",
      "\n",
      "\n",
      "{'n_estimators': [10, 12, 14, 16, 18, 20, 22, 24, 26, 28], 'loss': ['ls', 'huber'], 'learning_rate': array([0.1, 0.2, 0.3, 0.4, 0.5, 0.6]), 'max_depth': [1, 2, 3, 4]}\n",
      "Fitting 5 folds for each of 480 candidates, totalling 2400 fits\n"
     ]
    },
    {
     "name": "stderr",
     "output_type": "stream",
     "text": [
      "[Parallel(n_jobs=-1)]: Using backend LokyBackend with 4 concurrent workers.\n",
      "[Parallel(n_jobs=-1)]: Done 104 tasks      | elapsed:    0.8s\n",
      "[Parallel(n_jobs=-1)]: Done 872 tasks      | elapsed:   10.0s\n",
      "[Parallel(n_jobs=-1)]: Done 2152 tasks      | elapsed:   24.6s\n",
      "[Parallel(n_jobs=-1)]: Done 2400 out of 2400 | elapsed:   28.4s finished\n",
      "C:\\Users\\chris\\Anaconda2\\lib\\site-packages\\sklearn\\model_selection\\_search.py:841: DeprecationWarning: The default of the `iid` parameter will change from True to False in version 0.22 and will be removed in 0.24. This will change numeric results when test-set sizes are unequal.\n",
      "  DeprecationWarning)\n",
      "[Parallel(n_jobs=-1)]: Using backend LokyBackend with 4 concurrent workers.\n"
     ]
    },
    {
     "name": "stdout",
     "output_type": "stream",
     "text": [
      "Fitting 5 folds for each of 480 candidates, totalling 2400 fits\n"
     ]
    },
    {
     "name": "stderr",
     "output_type": "stream",
     "text": [
      "[Parallel(n_jobs=-1)]: Done 184 tasks      | elapsed:    1.7s\n",
      "[Parallel(n_jobs=-1)]: Done 1144 tasks      | elapsed:   13.9s\n",
      "[Parallel(n_jobs=-1)]: Done 2400 out of 2400 | elapsed:   31.0s finished\n",
      "C:\\Users\\chris\\Anaconda2\\lib\\site-packages\\sklearn\\model_selection\\_search.py:841: DeprecationWarning: The default of the `iid` parameter will change from True to False in version 0.22 and will be removed in 0.24. This will change numeric results when test-set sizes are unequal.\n",
      "  DeprecationWarning)\n"
     ]
    },
    {
     "name": "stdout",
     "output_type": "stream",
     "text": [
      "Games predicted: 245\n",
      "\n",
      "\n",
      "Now Starting Simulation Number: 126\n",
      "\n",
      "\n",
      "{'n_estimators': [10, 12, 14, 16, 18, 20, 22, 24, 26, 28], 'loss': ['ls', 'huber'], 'learning_rate': array([0.1, 0.2, 0.3, 0.4, 0.5, 0.6]), 'max_depth': [1, 2, 3, 4]}\n",
      "Fitting 5 folds for each of 480 candidates, totalling 2400 fits\n"
     ]
    },
    {
     "name": "stderr",
     "output_type": "stream",
     "text": [
      "[Parallel(n_jobs=-1)]: Using backend LokyBackend with 4 concurrent workers.\n",
      "[Parallel(n_jobs=-1)]: Done 136 tasks      | elapsed:    1.1s\n",
      "[Parallel(n_jobs=-1)]: Done 904 tasks      | elapsed:   10.8s\n",
      "[Parallel(n_jobs=-1)]: Done 2184 tasks      | elapsed:   25.3s\n",
      "[Parallel(n_jobs=-1)]: Done 2400 out of 2400 | elapsed:   28.4s finished\n",
      "C:\\Users\\chris\\Anaconda2\\lib\\site-packages\\sklearn\\model_selection\\_search.py:841: DeprecationWarning: The default of the `iid` parameter will change from True to False in version 0.22 and will be removed in 0.24. This will change numeric results when test-set sizes are unequal.\n",
      "  DeprecationWarning)\n",
      "[Parallel(n_jobs=-1)]: Using backend LokyBackend with 4 concurrent workers.\n"
     ]
    },
    {
     "name": "stdout",
     "output_type": "stream",
     "text": [
      "Fitting 5 folds for each of 480 candidates, totalling 2400 fits\n"
     ]
    },
    {
     "name": "stderr",
     "output_type": "stream",
     "text": [
      "[Parallel(n_jobs=-1)]: Done 184 tasks      | elapsed:    1.6s\n",
      "[Parallel(n_jobs=-1)]: Done 1720 tasks      | elapsed:   19.8s\n",
      "[Parallel(n_jobs=-1)]: Done 2400 out of 2400 | elapsed:   28.8s finished\n",
      "C:\\Users\\chris\\Anaconda2\\lib\\site-packages\\sklearn\\model_selection\\_search.py:841: DeprecationWarning: The default of the `iid` parameter will change from True to False in version 0.22 and will be removed in 0.24. This will change numeric results when test-set sizes are unequal.\n",
      "  DeprecationWarning)\n"
     ]
    },
    {
     "name": "stdout",
     "output_type": "stream",
     "text": [
      "Games predicted: 245\n",
      "\n",
      "\n",
      "Now Starting Simulation Number: 127\n",
      "\n",
      "\n",
      "{'n_estimators': [10, 12, 14, 16, 18, 20, 22, 24, 26, 28], 'loss': ['ls', 'huber'], 'learning_rate': array([0.1, 0.2, 0.3, 0.4, 0.5, 0.6]), 'max_depth': [1, 2, 3, 4]}\n",
      "Fitting 5 folds for each of 480 candidates, totalling 2400 fits\n"
     ]
    },
    {
     "name": "stderr",
     "output_type": "stream",
     "text": [
      "[Parallel(n_jobs=-1)]: Using backend LokyBackend with 4 concurrent workers.\n",
      "[Parallel(n_jobs=-1)]: Done 136 tasks      | elapsed:    1.2s\n",
      "[Parallel(n_jobs=-1)]: Done 904 tasks      | elapsed:   11.5s\n",
      "[Parallel(n_jobs=-1)]: Done 2184 tasks      | elapsed:   28.0s\n",
      "[Parallel(n_jobs=-1)]: Done 2400 out of 2400 | elapsed:   31.2s finished\n",
      "C:\\Users\\chris\\Anaconda2\\lib\\site-packages\\sklearn\\model_selection\\_search.py:841: DeprecationWarning: The default of the `iid` parameter will change from True to False in version 0.22 and will be removed in 0.24. This will change numeric results when test-set sizes are unequal.\n",
      "  DeprecationWarning)\n",
      "[Parallel(n_jobs=-1)]: Using backend LokyBackend with 4 concurrent workers.\n"
     ]
    },
    {
     "name": "stdout",
     "output_type": "stream",
     "text": [
      "Fitting 5 folds for each of 480 candidates, totalling 2400 fits\n"
     ]
    },
    {
     "name": "stderr",
     "output_type": "stream",
     "text": [
      "[Parallel(n_jobs=-1)]: Done 152 tasks      | elapsed:    1.4s\n",
      "[Parallel(n_jobs=-1)]: Done 1496 tasks      | elapsed:   16.8s\n",
      "[Parallel(n_jobs=-1)]: Done 2400 out of 2400 | elapsed:   27.6s finished\n",
      "C:\\Users\\chris\\Anaconda2\\lib\\site-packages\\sklearn\\model_selection\\_search.py:841: DeprecationWarning: The default of the `iid` parameter will change from True to False in version 0.22 and will be removed in 0.24. This will change numeric results when test-set sizes are unequal.\n",
      "  DeprecationWarning)\n"
     ]
    },
    {
     "name": "stdout",
     "output_type": "stream",
     "text": [
      "Games predicted: 245\n",
      "\n",
      "\n",
      "Now Starting Simulation Number: 128\n",
      "\n",
      "\n",
      "{'n_estimators': [10, 12, 14, 16, 18, 20, 22, 24, 26, 28], 'loss': ['ls', 'huber'], 'learning_rate': array([0.1, 0.2, 0.3, 0.4, 0.5, 0.6]), 'max_depth': [1, 2, 3, 4]}\n",
      "Fitting 5 folds for each of 480 candidates, totalling 2400 fits\n"
     ]
    },
    {
     "name": "stderr",
     "output_type": "stream",
     "text": [
      "[Parallel(n_jobs=-1)]: Using backend LokyBackend with 4 concurrent workers.\n",
      "[Parallel(n_jobs=-1)]: Done 104 tasks      | elapsed:    0.7s\n",
      "[Parallel(n_jobs=-1)]: Done 680 tasks      | elapsed:    7.4s\n",
      "[Parallel(n_jobs=-1)]: Done 1640 tasks      | elapsed:   19.8s\n",
      "[Parallel(n_jobs=-1)]: Done 2400 out of 2400 | elapsed:   30.1s finished\n",
      "C:\\Users\\chris\\Anaconda2\\lib\\site-packages\\sklearn\\model_selection\\_search.py:841: DeprecationWarning: The default of the `iid` parameter will change from True to False in version 0.22 and will be removed in 0.24. This will change numeric results when test-set sizes are unequal.\n",
      "  DeprecationWarning)\n",
      "[Parallel(n_jobs=-1)]: Using backend LokyBackend with 4 concurrent workers.\n"
     ]
    },
    {
     "name": "stdout",
     "output_type": "stream",
     "text": [
      "Fitting 5 folds for each of 480 candidates, totalling 2400 fits\n"
     ]
    },
    {
     "name": "stderr",
     "output_type": "stream",
     "text": [
      "[Parallel(n_jobs=-1)]: Done 168 tasks      | elapsed:    1.6s\n",
      "[Parallel(n_jobs=-1)]: Done 1512 tasks      | elapsed:   20.1s\n",
      "[Parallel(n_jobs=-1)]: Done 2400 out of 2400 | elapsed:   31.6s finished\n",
      "C:\\Users\\chris\\Anaconda2\\lib\\site-packages\\sklearn\\model_selection\\_search.py:841: DeprecationWarning: The default of the `iid` parameter will change from True to False in version 0.22 and will be removed in 0.24. This will change numeric results when test-set sizes are unequal.\n",
      "  DeprecationWarning)\n"
     ]
    },
    {
     "name": "stdout",
     "output_type": "stream",
     "text": [
      "Games predicted: 245\n",
      "\n",
      "\n",
      "Now Starting Simulation Number: 129\n",
      "\n",
      "\n",
      "{'n_estimators': [10, 12, 14, 16, 18, 20, 22, 24, 26, 28], 'loss': ['ls', 'huber'], 'learning_rate': array([0.1, 0.2, 0.3, 0.4, 0.5, 0.6]), 'max_depth': [1, 2, 3, 4]}\n",
      "Fitting 5 folds for each of 480 candidates, totalling 2400 fits\n"
     ]
    },
    {
     "name": "stderr",
     "output_type": "stream",
     "text": [
      "[Parallel(n_jobs=-1)]: Using backend LokyBackend with 4 concurrent workers.\n",
      "[Parallel(n_jobs=-1)]: Done 136 tasks      | elapsed:    1.0s\n",
      "[Parallel(n_jobs=-1)]: Done 904 tasks      | elapsed:   10.0s\n",
      "[Parallel(n_jobs=-1)]: Done 2184 tasks      | elapsed:   24.4s\n",
      "[Parallel(n_jobs=-1)]: Done 2400 out of 2400 | elapsed:   27.6s finished\n",
      "C:\\Users\\chris\\Anaconda2\\lib\\site-packages\\sklearn\\model_selection\\_search.py:841: DeprecationWarning: The default of the `iid` parameter will change from True to False in version 0.22 and will be removed in 0.24. This will change numeric results when test-set sizes are unequal.\n",
      "  DeprecationWarning)\n",
      "[Parallel(n_jobs=-1)]: Using backend LokyBackend with 4 concurrent workers.\n"
     ]
    },
    {
     "name": "stdout",
     "output_type": "stream",
     "text": [
      "Fitting 5 folds for each of 480 candidates, totalling 2400 fits\n"
     ]
    },
    {
     "name": "stderr",
     "output_type": "stream",
     "text": [
      "[Parallel(n_jobs=-1)]: Done 152 tasks      | elapsed:    1.6s\n",
      "[Parallel(n_jobs=-1)]: Done 1304 tasks      | elapsed:   15.6s\n",
      "[Parallel(n_jobs=-1)]: Done 2400 out of 2400 | elapsed:   30.2s finished\n",
      "C:\\Users\\chris\\Anaconda2\\lib\\site-packages\\sklearn\\model_selection\\_search.py:841: DeprecationWarning: The default of the `iid` parameter will change from True to False in version 0.22 and will be removed in 0.24. This will change numeric results when test-set sizes are unequal.\n",
      "  DeprecationWarning)\n"
     ]
    },
    {
     "name": "stdout",
     "output_type": "stream",
     "text": [
      "Games predicted: 245\n",
      "\n",
      "\n",
      "Now Starting Simulation Number: 130\n",
      "\n",
      "\n",
      "{'n_estimators': [10, 12, 14, 16, 18, 20, 22, 24, 26, 28], 'loss': ['ls', 'huber'], 'learning_rate': array([0.1, 0.2, 0.3, 0.4, 0.5, 0.6]), 'max_depth': [1, 2, 3, 4]}\n",
      "Fitting 5 folds for each of 480 candidates, totalling 2400 fits\n"
     ]
    },
    {
     "name": "stderr",
     "output_type": "stream",
     "text": [
      "[Parallel(n_jobs=-1)]: Using backend LokyBackend with 4 concurrent workers.\n",
      "[Parallel(n_jobs=-1)]: Done 136 tasks      | elapsed:    1.3s\n",
      "[Parallel(n_jobs=-1)]: Done 904 tasks      | elapsed:   12.1s\n",
      "[Parallel(n_jobs=-1)]: Done 2184 tasks      | elapsed:   28.0s\n",
      "[Parallel(n_jobs=-1)]: Done 2400 out of 2400 | elapsed:   31.4s finished\n",
      "C:\\Users\\chris\\Anaconda2\\lib\\site-packages\\sklearn\\model_selection\\_search.py:841: DeprecationWarning: The default of the `iid` parameter will change from True to False in version 0.22 and will be removed in 0.24. This will change numeric results when test-set sizes are unequal.\n",
      "  DeprecationWarning)\n"
     ]
    },
    {
     "name": "stdout",
     "output_type": "stream",
     "text": [
      "Fitting 5 folds for each of 480 candidates, totalling 2400 fits\n"
     ]
    },
    {
     "name": "stderr",
     "output_type": "stream",
     "text": [
      "[Parallel(n_jobs=-1)]: Using backend LokyBackend with 4 concurrent workers.\n",
      "[Parallel(n_jobs=-1)]: Done 152 tasks      | elapsed:    1.3s\n",
      "[Parallel(n_jobs=-1)]: Done 1304 tasks      | elapsed:   14.5s\n",
      "[Parallel(n_jobs=-1)]: Done 2400 out of 2400 | elapsed:   27.4s finished\n",
      "C:\\Users\\chris\\Anaconda2\\lib\\site-packages\\sklearn\\model_selection\\_search.py:841: DeprecationWarning: The default of the `iid` parameter will change from True to False in version 0.22 and will be removed in 0.24. This will change numeric results when test-set sizes are unequal.\n",
      "  DeprecationWarning)\n"
     ]
    },
    {
     "name": "stdout",
     "output_type": "stream",
     "text": [
      "Games predicted: 245\n",
      "\n",
      "\n",
      "Now Starting Simulation Number: 131\n",
      "\n",
      "\n",
      "{'n_estimators': [10, 12, 14, 16, 18, 20, 22, 24, 26, 28], 'loss': ['ls', 'huber'], 'learning_rate': array([0.1, 0.2, 0.3, 0.4, 0.5, 0.6]), 'max_depth': [1, 2, 3, 4]}\n",
      "Fitting 5 folds for each of 480 candidates, totalling 2400 fits\n"
     ]
    },
    {
     "name": "stderr",
     "output_type": "stream",
     "text": [
      "[Parallel(n_jobs=-1)]: Using backend LokyBackend with 4 concurrent workers.\n",
      "[Parallel(n_jobs=-1)]: Done 136 tasks      | elapsed:    1.0s\n",
      "[Parallel(n_jobs=-1)]: Done 904 tasks      | elapsed:   10.3s\n",
      "[Parallel(n_jobs=-1)]: Done 2184 tasks      | elapsed:   26.2s\n",
      "[Parallel(n_jobs=-1)]: Done 2400 out of 2400 | elapsed:   29.7s finished\n",
      "C:\\Users\\chris\\Anaconda2\\lib\\site-packages\\sklearn\\model_selection\\_search.py:841: DeprecationWarning: The default of the `iid` parameter will change from True to False in version 0.22 and will be removed in 0.24. This will change numeric results when test-set sizes are unequal.\n",
      "  DeprecationWarning)\n",
      "[Parallel(n_jobs=-1)]: Using backend LokyBackend with 4 concurrent workers.\n"
     ]
    },
    {
     "name": "stdout",
     "output_type": "stream",
     "text": [
      "Fitting 5 folds for each of 480 candidates, totalling 2400 fits\n"
     ]
    },
    {
     "name": "stderr",
     "output_type": "stream",
     "text": [
      "[Parallel(n_jobs=-1)]: Done 184 tasks      | elapsed:    1.8s\n",
      "[Parallel(n_jobs=-1)]: Done 1136 tasks      | elapsed:   14.4s\n",
      "[Parallel(n_jobs=-1)]: Done 2400 out of 2400 | elapsed:   29.7s finished\n",
      "C:\\Users\\chris\\Anaconda2\\lib\\site-packages\\sklearn\\model_selection\\_search.py:841: DeprecationWarning: The default of the `iid` parameter will change from True to False in version 0.22 and will be removed in 0.24. This will change numeric results when test-set sizes are unequal.\n",
      "  DeprecationWarning)\n"
     ]
    },
    {
     "name": "stdout",
     "output_type": "stream",
     "text": [
      "Games predicted: 245\n",
      "\n",
      "\n",
      "Now Starting Simulation Number: 132\n",
      "\n",
      "\n",
      "{'n_estimators': [10, 12, 14, 16, 18, 20, 22, 24, 26, 28], 'loss': ['ls', 'huber'], 'learning_rate': array([0.1, 0.2, 0.3, 0.4, 0.5, 0.6]), 'max_depth': [1, 2, 3, 4]}\n",
      "Fitting 5 folds for each of 480 candidates, totalling 2400 fits\n"
     ]
    },
    {
     "name": "stderr",
     "output_type": "stream",
     "text": [
      "[Parallel(n_jobs=-1)]: Using backend LokyBackend with 4 concurrent workers.\n",
      "[Parallel(n_jobs=-1)]: Done 104 tasks      | elapsed:    0.7s\n",
      "[Parallel(n_jobs=-1)]: Done 680 tasks      | elapsed:    7.2s\n",
      "[Parallel(n_jobs=-1)]: Done 1640 tasks      | elapsed:   18.8s\n",
      "[Parallel(n_jobs=-1)]: Done 2400 out of 2400 | elapsed:   27.9s finished\n",
      "C:\\Users\\chris\\Anaconda2\\lib\\site-packages\\sklearn\\model_selection\\_search.py:841: DeprecationWarning: The default of the `iid` parameter will change from True to False in version 0.22 and will be removed in 0.24. This will change numeric results when test-set sizes are unequal.\n",
      "  DeprecationWarning)\n",
      "[Parallel(n_jobs=-1)]: Using backend LokyBackend with 4 concurrent workers.\n"
     ]
    },
    {
     "name": "stdout",
     "output_type": "stream",
     "text": [
      "Fitting 5 folds for each of 480 candidates, totalling 2400 fits\n"
     ]
    },
    {
     "name": "stderr",
     "output_type": "stream",
     "text": [
      "[Parallel(n_jobs=-1)]: Done 184 tasks      | elapsed:    1.7s\n",
      "[Parallel(n_jobs=-1)]: Done 1544 tasks      | elapsed:   18.7s\n",
      "[Parallel(n_jobs=-1)]: Done 2400 out of 2400 | elapsed:   30.3s finished\n",
      "C:\\Users\\chris\\Anaconda2\\lib\\site-packages\\sklearn\\model_selection\\_search.py:841: DeprecationWarning: The default of the `iid` parameter will change from True to False in version 0.22 and will be removed in 0.24. This will change numeric results when test-set sizes are unequal.\n",
      "  DeprecationWarning)\n"
     ]
    },
    {
     "name": "stdout",
     "output_type": "stream",
     "text": [
      "Games predicted: 245\n",
      "\n",
      "\n",
      "Now Starting Simulation Number: 133\n",
      "\n",
      "\n",
      "{'n_estimators': [10, 12, 14, 16, 18, 20, 22, 24, 26, 28], 'loss': ['ls', 'huber'], 'learning_rate': array([0.1, 0.2, 0.3, 0.4, 0.5, 0.6]), 'max_depth': [1, 2, 3, 4]}\n",
      "Fitting 5 folds for each of 480 candidates, totalling 2400 fits\n"
     ]
    },
    {
     "name": "stderr",
     "output_type": "stream",
     "text": [
      "[Parallel(n_jobs=-1)]: Using backend LokyBackend with 4 concurrent workers.\n",
      "[Parallel(n_jobs=-1)]: Done 136 tasks      | elapsed:    1.3s\n",
      "[Parallel(n_jobs=-1)]: Done 904 tasks      | elapsed:   12.2s\n",
      "[Parallel(n_jobs=-1)]: Done 2184 tasks      | elapsed:   27.6s\n",
      "[Parallel(n_jobs=-1)]: Done 2400 out of 2400 | elapsed:   30.8s finished\n",
      "C:\\Users\\chris\\Anaconda2\\lib\\site-packages\\sklearn\\model_selection\\_search.py:841: DeprecationWarning: The default of the `iid` parameter will change from True to False in version 0.22 and will be removed in 0.24. This will change numeric results when test-set sizes are unequal.\n",
      "  DeprecationWarning)\n",
      "[Parallel(n_jobs=-1)]: Using backend LokyBackend with 4 concurrent workers.\n"
     ]
    },
    {
     "name": "stdout",
     "output_type": "stream",
     "text": [
      "Fitting 5 folds for each of 480 candidates, totalling 2400 fits\n"
     ]
    },
    {
     "name": "stderr",
     "output_type": "stream",
     "text": [
      "[Parallel(n_jobs=-1)]: Done 136 tasks      | elapsed:    1.1s\n",
      "[Parallel(n_jobs=-1)]: Done 904 tasks      | elapsed:   10.2s\n",
      "[Parallel(n_jobs=-1)]: Done 2184 tasks      | elapsed:   25.1s\n",
      "[Parallel(n_jobs=-1)]: Done 2400 out of 2400 | elapsed:   28.5s finished\n",
      "C:\\Users\\chris\\Anaconda2\\lib\\site-packages\\sklearn\\model_selection\\_search.py:841: DeprecationWarning: The default of the `iid` parameter will change from True to False in version 0.22 and will be removed in 0.24. This will change numeric results when test-set sizes are unequal.\n",
      "  DeprecationWarning)\n"
     ]
    },
    {
     "name": "stdout",
     "output_type": "stream",
     "text": [
      "Games predicted: 245\n",
      "\n",
      "\n",
      "Now Starting Simulation Number: 134\n",
      "\n",
      "\n",
      "{'n_estimators': [10, 12, 14, 16, 18, 20, 22, 24, 26, 28], 'loss': ['ls', 'huber'], 'learning_rate': array([0.1, 0.2, 0.3, 0.4, 0.5, 0.6]), 'max_depth': [1, 2, 3, 4]}\n",
      "Fitting 5 folds for each of 480 candidates, totalling 2400 fits\n"
     ]
    },
    {
     "name": "stderr",
     "output_type": "stream",
     "text": [
      "[Parallel(n_jobs=-1)]: Using backend LokyBackend with 4 concurrent workers.\n",
      "[Parallel(n_jobs=-1)]: Done 136 tasks      | elapsed:    1.1s\n",
      "[Parallel(n_jobs=-1)]: Done 904 tasks      | elapsed:   10.5s\n",
      "[Parallel(n_jobs=-1)]: Done 2184 tasks      | elapsed:   26.9s\n",
      "[Parallel(n_jobs=-1)]: Done 2400 out of 2400 | elapsed:   30.5s finished\n",
      "C:\\Users\\chris\\Anaconda2\\lib\\site-packages\\sklearn\\model_selection\\_search.py:841: DeprecationWarning: The default of the `iid` parameter will change from True to False in version 0.22 and will be removed in 0.24. This will change numeric results when test-set sizes are unequal.\n",
      "  DeprecationWarning)\n"
     ]
    },
    {
     "name": "stdout",
     "output_type": "stream",
     "text": [
      "Fitting 5 folds for each of 480 candidates, totalling 2400 fits\n"
     ]
    },
    {
     "name": "stderr",
     "output_type": "stream",
     "text": [
      "[Parallel(n_jobs=-1)]: Using backend LokyBackend with 4 concurrent workers.\n",
      "[Parallel(n_jobs=-1)]: Done 168 tasks      | elapsed:    1.7s\n",
      "[Parallel(n_jobs=-1)]: Done 1128 tasks      | elapsed:   14.2s\n",
      "[Parallel(n_jobs=-1)]: Done 2400 out of 2400 | elapsed:   29.6s finished\n",
      "C:\\Users\\chris\\Anaconda2\\lib\\site-packages\\sklearn\\model_selection\\_search.py:841: DeprecationWarning: The default of the `iid` parameter will change from True to False in version 0.22 and will be removed in 0.24. This will change numeric results when test-set sizes are unequal.\n",
      "  DeprecationWarning)\n"
     ]
    },
    {
     "name": "stdout",
     "output_type": "stream",
     "text": [
      "Games predicted: 245\n",
      "\n",
      "\n",
      "Now Starting Simulation Number: 135\n",
      "\n",
      "\n",
      "{'n_estimators': [10, 12, 14, 16, 18, 20, 22, 24, 26, 28], 'loss': ['ls', 'huber'], 'learning_rate': array([0.1, 0.2, 0.3, 0.4, 0.5, 0.6]), 'max_depth': [1, 2, 3, 4]}\n",
      "Fitting 5 folds for each of 480 candidates, totalling 2400 fits\n"
     ]
    },
    {
     "name": "stderr",
     "output_type": "stream",
     "text": [
      "[Parallel(n_jobs=-1)]: Using backend LokyBackend with 4 concurrent workers.\n",
      "[Parallel(n_jobs=-1)]: Done 136 tasks      | elapsed:    1.0s\n",
      "[Parallel(n_jobs=-1)]: Done 904 tasks      | elapsed:    9.9s\n",
      "[Parallel(n_jobs=-1)]: Done 2184 tasks      | elapsed:   24.5s\n",
      "[Parallel(n_jobs=-1)]: Done 2400 out of 2400 | elapsed:   27.6s finished\n",
      "C:\\Users\\chris\\Anaconda2\\lib\\site-packages\\sklearn\\model_selection\\_search.py:841: DeprecationWarning: The default of the `iid` parameter will change from True to False in version 0.22 and will be removed in 0.24. This will change numeric results when test-set sizes are unequal.\n",
      "  DeprecationWarning)\n",
      "[Parallel(n_jobs=-1)]: Using backend LokyBackend with 4 concurrent workers.\n"
     ]
    },
    {
     "name": "stdout",
     "output_type": "stream",
     "text": [
      "Fitting 5 folds for each of 480 candidates, totalling 2400 fits\n"
     ]
    },
    {
     "name": "stderr",
     "output_type": "stream",
     "text": [
      "[Parallel(n_jobs=-1)]: Done 136 tasks      | elapsed:    1.1s\n",
      "[Parallel(n_jobs=-1)]: Done 904 tasks      | elapsed:   10.4s\n",
      "[Parallel(n_jobs=-1)]: Done 2184 tasks      | elapsed:   26.3s\n",
      "[Parallel(n_jobs=-1)]: Done 2400 out of 2400 | elapsed:   29.9s finished\n",
      "C:\\Users\\chris\\Anaconda2\\lib\\site-packages\\sklearn\\model_selection\\_search.py:841: DeprecationWarning: The default of the `iid` parameter will change from True to False in version 0.22 and will be removed in 0.24. This will change numeric results when test-set sizes are unequal.\n",
      "  DeprecationWarning)\n"
     ]
    },
    {
     "name": "stdout",
     "output_type": "stream",
     "text": [
      "Games predicted: 245\n",
      "\n",
      "\n",
      "Now Starting Simulation Number: 136\n",
      "\n",
      "\n",
      "{'n_estimators': [10, 12, 14, 16, 18, 20, 22, 24, 26, 28], 'loss': ['ls', 'huber'], 'learning_rate': array([0.1, 0.2, 0.3, 0.4, 0.5, 0.6]), 'max_depth': [1, 2, 3, 4]}\n",
      "Fitting 5 folds for each of 480 candidates, totalling 2400 fits\n"
     ]
    },
    {
     "name": "stderr",
     "output_type": "stream",
     "text": [
      "[Parallel(n_jobs=-1)]: Using backend LokyBackend with 4 concurrent workers.\n",
      "[Parallel(n_jobs=-1)]: Done 136 tasks      | elapsed:    1.3s\n",
      "[Parallel(n_jobs=-1)]: Done 904 tasks      | elapsed:   11.8s\n",
      "[Parallel(n_jobs=-1)]: Done 2184 tasks      | elapsed:   27.1s\n",
      "[Parallel(n_jobs=-1)]: Done 2400 out of 2400 | elapsed:   30.2s finished\n",
      "C:\\Users\\chris\\Anaconda2\\lib\\site-packages\\sklearn\\model_selection\\_search.py:841: DeprecationWarning: The default of the `iid` parameter will change from True to False in version 0.22 and will be removed in 0.24. This will change numeric results when test-set sizes are unequal.\n",
      "  DeprecationWarning)\n",
      "[Parallel(n_jobs=-1)]: Using backend LokyBackend with 4 concurrent workers.\n"
     ]
    },
    {
     "name": "stdout",
     "output_type": "stream",
     "text": [
      "Fitting 5 folds for each of 480 candidates, totalling 2400 fits\n"
     ]
    },
    {
     "name": "stderr",
     "output_type": "stream",
     "text": [
      "[Parallel(n_jobs=-1)]: Done 136 tasks      | elapsed:    1.1s\n",
      "[Parallel(n_jobs=-1)]: Done 904 tasks      | elapsed:   10.0s\n",
      "[Parallel(n_jobs=-1)]: Done 2184 tasks      | elapsed:   24.5s\n",
      "[Parallel(n_jobs=-1)]: Done 2400 out of 2400 | elapsed:   27.6s finished\n",
      "C:\\Users\\chris\\Anaconda2\\lib\\site-packages\\sklearn\\model_selection\\_search.py:841: DeprecationWarning: The default of the `iid` parameter will change from True to False in version 0.22 and will be removed in 0.24. This will change numeric results when test-set sizes are unequal.\n",
      "  DeprecationWarning)\n"
     ]
    },
    {
     "name": "stdout",
     "output_type": "stream",
     "text": [
      "Games predicted: 245\n",
      "\n",
      "\n",
      "Now Starting Simulation Number: 137\n",
      "\n",
      "\n",
      "{'n_estimators': [10, 12, 14, 16, 18, 20, 22, 24, 26, 28], 'loss': ['ls', 'huber'], 'learning_rate': array([0.1, 0.2, 0.3, 0.4, 0.5, 0.6]), 'max_depth': [1, 2, 3, 4]}\n",
      "Fitting 5 folds for each of 480 candidates, totalling 2400 fits\n"
     ]
    },
    {
     "name": "stderr",
     "output_type": "stream",
     "text": [
      "[Parallel(n_jobs=-1)]: Using backend LokyBackend with 4 concurrent workers.\n",
      "[Parallel(n_jobs=-1)]: Done 136 tasks      | elapsed:    1.1s\n",
      "[Parallel(n_jobs=-1)]: Done 904 tasks      | elapsed:   10.9s\n",
      "[Parallel(n_jobs=-1)]: Done 2184 tasks      | elapsed:   27.0s\n",
      "[Parallel(n_jobs=-1)]: Done 2400 out of 2400 | elapsed:   30.6s finished\n",
      "C:\\Users\\chris\\Anaconda2\\lib\\site-packages\\sklearn\\model_selection\\_search.py:841: DeprecationWarning: The default of the `iid` parameter will change from True to False in version 0.22 and will be removed in 0.24. This will change numeric results when test-set sizes are unequal.\n",
      "  DeprecationWarning)\n"
     ]
    },
    {
     "name": "stdout",
     "output_type": "stream",
     "text": [
      "Fitting 5 folds for each of 480 candidates, totalling 2400 fits\n"
     ]
    },
    {
     "name": "stderr",
     "output_type": "stream",
     "text": [
      "[Parallel(n_jobs=-1)]: Using backend LokyBackend with 4 concurrent workers.\n",
      "[Parallel(n_jobs=-1)]: Done 200 tasks      | elapsed:    2.1s\n",
      "[Parallel(n_jobs=-1)]: Done 1352 tasks      | elapsed:   16.7s\n",
      "[Parallel(n_jobs=-1)]: Done 2400 out of 2400 | elapsed:   29.2s finished\n",
      "C:\\Users\\chris\\Anaconda2\\lib\\site-packages\\sklearn\\model_selection\\_search.py:841: DeprecationWarning: The default of the `iid` parameter will change from True to False in version 0.22 and will be removed in 0.24. This will change numeric results when test-set sizes are unequal.\n",
      "  DeprecationWarning)\n"
     ]
    },
    {
     "name": "stdout",
     "output_type": "stream",
     "text": [
      "Games predicted: 245\n",
      "\n",
      "\n",
      "Now Starting Simulation Number: 138\n",
      "\n",
      "\n",
      "{'n_estimators': [10, 12, 14, 16, 18, 20, 22, 24, 26, 28], 'loss': ['ls', 'huber'], 'learning_rate': array([0.1, 0.2, 0.3, 0.4, 0.5, 0.6]), 'max_depth': [1, 2, 3, 4]}\n",
      "Fitting 5 folds for each of 480 candidates, totalling 2400 fits\n"
     ]
    },
    {
     "name": "stderr",
     "output_type": "stream",
     "text": [
      "[Parallel(n_jobs=-1)]: Using backend LokyBackend with 4 concurrent workers.\n",
      "[Parallel(n_jobs=-1)]: Done 136 tasks      | elapsed:    1.0s\n",
      "[Parallel(n_jobs=-1)]: Done 904 tasks      | elapsed:   10.3s\n",
      "[Parallel(n_jobs=-1)]: Done 2184 tasks      | elapsed:   25.1s\n",
      "[Parallel(n_jobs=-1)]: Done 2400 out of 2400 | elapsed:   28.6s finished\n",
      "C:\\Users\\chris\\Anaconda2\\lib\\site-packages\\sklearn\\model_selection\\_search.py:841: DeprecationWarning: The default of the `iid` parameter will change from True to False in version 0.22 and will be removed in 0.24. This will change numeric results when test-set sizes are unequal.\n",
      "  DeprecationWarning)\n",
      "[Parallel(n_jobs=-1)]: Using backend LokyBackend with 4 concurrent workers.\n"
     ]
    },
    {
     "name": "stdout",
     "output_type": "stream",
     "text": [
      "Fitting 5 folds for each of 480 candidates, totalling 2400 fits\n"
     ]
    },
    {
     "name": "stderr",
     "output_type": "stream",
     "text": [
      "[Parallel(n_jobs=-1)]: Done 168 tasks      | elapsed:    1.5s\n",
      "[Parallel(n_jobs=-1)]: Done 1512 tasks      | elapsed:   18.6s\n",
      "[Parallel(n_jobs=-1)]: Done 2400 out of 2400 | elapsed:   31.2s finished\n",
      "C:\\Users\\chris\\Anaconda2\\lib\\site-packages\\sklearn\\model_selection\\_search.py:841: DeprecationWarning: The default of the `iid` parameter will change from True to False in version 0.22 and will be removed in 0.24. This will change numeric results when test-set sizes are unequal.\n",
      "  DeprecationWarning)\n"
     ]
    },
    {
     "name": "stdout",
     "output_type": "stream",
     "text": [
      "Games predicted: 245\n",
      "\n",
      "\n",
      "Now Starting Simulation Number: 139\n",
      "\n",
      "\n",
      "{'n_estimators': [10, 12, 14, 16, 18, 20, 22, 24, 26, 28], 'loss': ['ls', 'huber'], 'learning_rate': array([0.1, 0.2, 0.3, 0.4, 0.5, 0.6]), 'max_depth': [1, 2, 3, 4]}\n",
      "Fitting 5 folds for each of 480 candidates, totalling 2400 fits\n"
     ]
    },
    {
     "name": "stderr",
     "output_type": "stream",
     "text": [
      "[Parallel(n_jobs=-1)]: Using backend LokyBackend with 4 concurrent workers.\n",
      "[Parallel(n_jobs=-1)]: Done 104 tasks      | elapsed:    0.9s\n",
      "[Parallel(n_jobs=-1)]: Done 680 tasks      | elapsed:    7.9s\n",
      "[Parallel(n_jobs=-1)]: Done 1640 tasks      | elapsed:   20.0s\n",
      "[Parallel(n_jobs=-1)]: Done 2400 out of 2400 | elapsed:   29.2s finished\n",
      "C:\\Users\\chris\\Anaconda2\\lib\\site-packages\\sklearn\\model_selection\\_search.py:841: DeprecationWarning: The default of the `iid` parameter will change from True to False in version 0.22 and will be removed in 0.24. This will change numeric results when test-set sizes are unequal.\n",
      "  DeprecationWarning)\n"
     ]
    },
    {
     "name": "stdout",
     "output_type": "stream",
     "text": [
      "Fitting 5 folds for each of 480 candidates, totalling 2400 fits\n"
     ]
    },
    {
     "name": "stderr",
     "output_type": "stream",
     "text": [
      "[Parallel(n_jobs=-1)]: Using backend LokyBackend with 4 concurrent workers.\n",
      "[Parallel(n_jobs=-1)]: Done 136 tasks      | elapsed:    1.0s\n",
      "[Parallel(n_jobs=-1)]: Done 904 tasks      | elapsed:    9.9s\n",
      "[Parallel(n_jobs=-1)]: Done 2184 tasks      | elapsed:   24.8s\n",
      "[Parallel(n_jobs=-1)]: Done 2400 out of 2400 | elapsed:   28.0s finished\n",
      "C:\\Users\\chris\\Anaconda2\\lib\\site-packages\\sklearn\\model_selection\\_search.py:841: DeprecationWarning: The default of the `iid` parameter will change from True to False in version 0.22 and will be removed in 0.24. This will change numeric results when test-set sizes are unequal.\n",
      "  DeprecationWarning)\n"
     ]
    },
    {
     "name": "stdout",
     "output_type": "stream",
     "text": [
      "Games predicted: 245\n",
      "\n",
      "\n",
      "Now Starting Simulation Number: 140\n",
      "\n",
      "\n",
      "{'n_estimators': [10, 12, 14, 16, 18, 20, 22, 24, 26, 28], 'loss': ['ls', 'huber'], 'learning_rate': array([0.1, 0.2, 0.3, 0.4, 0.5, 0.6]), 'max_depth': [1, 2, 3, 4]}\n",
      "Fitting 5 folds for each of 480 candidates, totalling 2400 fits\n"
     ]
    },
    {
     "name": "stderr",
     "output_type": "stream",
     "text": [
      "[Parallel(n_jobs=-1)]: Using backend LokyBackend with 4 concurrent workers.\n",
      "[Parallel(n_jobs=-1)]: Done 136 tasks      | elapsed:    1.1s\n",
      "[Parallel(n_jobs=-1)]: Done 904 tasks      | elapsed:   10.9s\n",
      "[Parallel(n_jobs=-1)]: Done 2184 tasks      | elapsed:   27.6s\n",
      "[Parallel(n_jobs=-1)]: Done 2400 out of 2400 | elapsed:   31.0s finished\n",
      "C:\\Users\\chris\\Anaconda2\\lib\\site-packages\\sklearn\\model_selection\\_search.py:841: DeprecationWarning: The default of the `iid` parameter will change from True to False in version 0.22 and will be removed in 0.24. This will change numeric results when test-set sizes are unequal.\n",
      "  DeprecationWarning)\n",
      "[Parallel(n_jobs=-1)]: Using backend LokyBackend with 4 concurrent workers.\n"
     ]
    },
    {
     "name": "stdout",
     "output_type": "stream",
     "text": [
      "Fitting 5 folds for each of 480 candidates, totalling 2400 fits\n"
     ]
    },
    {
     "name": "stderr",
     "output_type": "stream",
     "text": [
      "[Parallel(n_jobs=-1)]: Done 168 tasks      | elapsed:    1.4s\n",
      "[Parallel(n_jobs=-1)]: Done 1512 tasks      | elapsed:   17.1s\n",
      "[Parallel(n_jobs=-1)]: Done 2400 out of 2400 | elapsed:   27.8s finished\n",
      "C:\\Users\\chris\\Anaconda2\\lib\\site-packages\\sklearn\\model_selection\\_search.py:841: DeprecationWarning: The default of the `iid` parameter will change from True to False in version 0.22 and will be removed in 0.24. This will change numeric results when test-set sizes are unequal.\n",
      "  DeprecationWarning)\n"
     ]
    },
    {
     "name": "stdout",
     "output_type": "stream",
     "text": [
      "Games predicted: 245\n",
      "\n",
      "\n",
      "Now Starting Simulation Number: 141\n",
      "\n",
      "\n",
      "{'n_estimators': [10, 12, 14, 16, 18, 20, 22, 24, 26, 28], 'loss': ['ls', 'huber'], 'learning_rate': array([0.1, 0.2, 0.3, 0.4, 0.5, 0.6]), 'max_depth': [1, 2, 3, 4]}\n",
      "Fitting 5 folds for each of 480 candidates, totalling 2400 fits\n"
     ]
    },
    {
     "name": "stderr",
     "output_type": "stream",
     "text": [
      "[Parallel(n_jobs=-1)]: Using backend LokyBackend with 4 concurrent workers.\n",
      "[Parallel(n_jobs=-1)]: Done 168 tasks      | elapsed:    1.4s\n",
      "[Parallel(n_jobs=-1)]: Done 1128 tasks      | elapsed:   12.7s\n",
      "[Parallel(n_jobs=-1)]: Done 2400 out of 2400 | elapsed:   29.1s finished\n",
      "C:\\Users\\chris\\Anaconda2\\lib\\site-packages\\sklearn\\model_selection\\_search.py:841: DeprecationWarning: The default of the `iid` parameter will change from True to False in version 0.22 and will be removed in 0.24. This will change numeric results when test-set sizes are unequal.\n",
      "  DeprecationWarning)\n",
      "[Parallel(n_jobs=-1)]: Using backend LokyBackend with 4 concurrent workers.\n"
     ]
    },
    {
     "name": "stdout",
     "output_type": "stream",
     "text": [
      "Fitting 5 folds for each of 480 candidates, totalling 2400 fits\n"
     ]
    },
    {
     "name": "stderr",
     "output_type": "stream",
     "text": [
      "[Parallel(n_jobs=-1)]: Done 168 tasks      | elapsed:    1.5s\n",
      "[Parallel(n_jobs=-1)]: Done 1512 tasks      | elapsed:   19.2s\n",
      "[Parallel(n_jobs=-1)]: Done 2400 out of 2400 | elapsed:   32.4s finished\n",
      "C:\\Users\\chris\\Anaconda2\\lib\\site-packages\\sklearn\\model_selection\\_search.py:841: DeprecationWarning: The default of the `iid` parameter will change from True to False in version 0.22 and will be removed in 0.24. This will change numeric results when test-set sizes are unequal.\n",
      "  DeprecationWarning)\n"
     ]
    },
    {
     "name": "stdout",
     "output_type": "stream",
     "text": [
      "Games predicted: 245\n",
      "\n",
      "\n",
      "Now Starting Simulation Number: 142\n",
      "\n",
      "\n",
      "{'n_estimators': [10, 12, 14, 16, 18, 20, 22, 24, 26, 28], 'loss': ['ls', 'huber'], 'learning_rate': array([0.1, 0.2, 0.3, 0.4, 0.5, 0.6]), 'max_depth': [1, 2, 3, 4]}\n",
      "Fitting 5 folds for each of 480 candidates, totalling 2400 fits\n"
     ]
    },
    {
     "name": "stderr",
     "output_type": "stream",
     "text": [
      "[Parallel(n_jobs=-1)]: Using backend LokyBackend with 4 concurrent workers.\n",
      "[Parallel(n_jobs=-1)]: Done 104 tasks      | elapsed:    0.7s\n",
      "[Parallel(n_jobs=-1)]: Done 680 tasks      | elapsed:    7.3s\n",
      "[Parallel(n_jobs=-1)]: Done 1640 tasks      | elapsed:   18.9s\n",
      "[Parallel(n_jobs=-1)]: Done 2400 out of 2400 | elapsed:   28.0s finished\n",
      "C:\\Users\\chris\\Anaconda2\\lib\\site-packages\\sklearn\\model_selection\\_search.py:841: DeprecationWarning: The default of the `iid` parameter will change from True to False in version 0.22 and will be removed in 0.24. This will change numeric results when test-set sizes are unequal.\n",
      "  DeprecationWarning)\n"
     ]
    },
    {
     "name": "stdout",
     "output_type": "stream",
     "text": [
      "Fitting 5 folds for each of 480 candidates, totalling 2400 fits\n"
     ]
    },
    {
     "name": "stderr",
     "output_type": "stream",
     "text": [
      "[Parallel(n_jobs=-1)]: Using backend LokyBackend with 4 concurrent workers.\n",
      "[Parallel(n_jobs=-1)]: Done 200 tasks      | elapsed:    1.9s\n",
      "[Parallel(n_jobs=-1)]: Done 1352 tasks      | elapsed:   15.8s\n",
      "[Parallel(n_jobs=-1)]: Done 2400 out of 2400 | elapsed:   29.7s finished\n",
      "C:\\Users\\chris\\Anaconda2\\lib\\site-packages\\sklearn\\model_selection\\_search.py:841: DeprecationWarning: The default of the `iid` parameter will change from True to False in version 0.22 and will be removed in 0.24. This will change numeric results when test-set sizes are unequal.\n",
      "  DeprecationWarning)\n"
     ]
    },
    {
     "name": "stdout",
     "output_type": "stream",
     "text": [
      "Games predicted: 245\n",
      "\n",
      "\n",
      "Now Starting Simulation Number: 143\n",
      "\n",
      "\n",
      "{'n_estimators': [10, 12, 14, 16, 18, 20, 22, 24, 26, 28], 'loss': ['ls', 'huber'], 'learning_rate': array([0.1, 0.2, 0.3, 0.4, 0.5, 0.6]), 'max_depth': [1, 2, 3, 4]}\n",
      "Fitting 5 folds for each of 480 candidates, totalling 2400 fits\n"
     ]
    },
    {
     "name": "stderr",
     "output_type": "stream",
     "text": [
      "[Parallel(n_jobs=-1)]: Using backend LokyBackend with 4 concurrent workers.\n",
      "[Parallel(n_jobs=-1)]: Done 232 tasks      | elapsed:    2.4s\n",
      "[Parallel(n_jobs=-1)]: Done 1576 tasks      | elapsed:   19.9s\n",
      "[Parallel(n_jobs=-1)]: Done 2400 out of 2400 | elapsed:   29.9s finished\n",
      "C:\\Users\\chris\\Anaconda2\\lib\\site-packages\\sklearn\\model_selection\\_search.py:841: DeprecationWarning: The default of the `iid` parameter will change from True to False in version 0.22 and will be removed in 0.24. This will change numeric results when test-set sizes are unequal.\n",
      "  DeprecationWarning)\n",
      "[Parallel(n_jobs=-1)]: Using backend LokyBackend with 4 concurrent workers.\n"
     ]
    },
    {
     "name": "stdout",
     "output_type": "stream",
     "text": [
      "Fitting 5 folds for each of 480 candidates, totalling 2400 fits\n"
     ]
    },
    {
     "name": "stderr",
     "output_type": "stream",
     "text": [
      "[Parallel(n_jobs=-1)]: Done 104 tasks      | elapsed:    1.0s\n",
      "[Parallel(n_jobs=-1)]: Done 680 tasks      | elapsed:    7.9s\n",
      "[Parallel(n_jobs=-1)]: Done 1640 tasks      | elapsed:   19.5s\n",
      "[Parallel(n_jobs=-1)]: Done 2400 out of 2400 | elapsed:   28.7s finished\n",
      "C:\\Users\\chris\\Anaconda2\\lib\\site-packages\\sklearn\\model_selection\\_search.py:841: DeprecationWarning: The default of the `iid` parameter will change from True to False in version 0.22 and will be removed in 0.24. This will change numeric results when test-set sizes are unequal.\n",
      "  DeprecationWarning)\n"
     ]
    },
    {
     "name": "stdout",
     "output_type": "stream",
     "text": [
      "Games predicted: 245\n",
      "\n",
      "\n",
      "Now Starting Simulation Number: 144\n",
      "\n",
      "\n",
      "{'n_estimators': [10, 12, 14, 16, 18, 20, 22, 24, 26, 28], 'loss': ['ls', 'huber'], 'learning_rate': array([0.1, 0.2, 0.3, 0.4, 0.5, 0.6]), 'max_depth': [1, 2, 3, 4]}\n",
      "Fitting 5 folds for each of 480 candidates, totalling 2400 fits\n"
     ]
    },
    {
     "name": "stderr",
     "output_type": "stream",
     "text": [
      "[Parallel(n_jobs=-1)]: Using backend LokyBackend with 4 concurrent workers.\n",
      "[Parallel(n_jobs=-1)]: Done 136 tasks      | elapsed:    1.1s\n",
      "[Parallel(n_jobs=-1)]: Done 904 tasks      | elapsed:   10.8s\n",
      "[Parallel(n_jobs=-1)]: Done 2184 tasks      | elapsed:   27.5s\n",
      "[Parallel(n_jobs=-1)]: Done 2400 out of 2400 | elapsed:   31.5s finished\n",
      "C:\\Users\\chris\\Anaconda2\\lib\\site-packages\\sklearn\\model_selection\\_search.py:841: DeprecationWarning: The default of the `iid` parameter will change from True to False in version 0.22 and will be removed in 0.24. This will change numeric results when test-set sizes are unequal.\n",
      "  DeprecationWarning)\n"
     ]
    },
    {
     "name": "stdout",
     "output_type": "stream",
     "text": [
      "Fitting 5 folds for each of 480 candidates, totalling 2400 fits\n"
     ]
    },
    {
     "name": "stderr",
     "output_type": "stream",
     "text": [
      "[Parallel(n_jobs=-1)]: Using backend LokyBackend with 4 concurrent workers.\n",
      "[Parallel(n_jobs=-1)]: Done 136 tasks      | elapsed:    1.3s\n",
      "[Parallel(n_jobs=-1)]: Done 904 tasks      | elapsed:   11.8s\n",
      "[Parallel(n_jobs=-1)]: Done 2184 tasks      | elapsed:   27.1s\n",
      "[Parallel(n_jobs=-1)]: Done 2400 out of 2400 | elapsed:   30.5s finished\n",
      "C:\\Users\\chris\\Anaconda2\\lib\\site-packages\\sklearn\\model_selection\\_search.py:841: DeprecationWarning: The default of the `iid` parameter will change from True to False in version 0.22 and will be removed in 0.24. This will change numeric results when test-set sizes are unequal.\n",
      "  DeprecationWarning)\n"
     ]
    },
    {
     "name": "stdout",
     "output_type": "stream",
     "text": [
      "Games predicted: 245\n",
      "\n",
      "\n",
      "Now Starting Simulation Number: 145\n",
      "\n",
      "\n",
      "{'n_estimators': [10, 12, 14, 16, 18, 20, 22, 24, 26, 28], 'loss': ['ls', 'huber'], 'learning_rate': array([0.1, 0.2, 0.3, 0.4, 0.5, 0.6]), 'max_depth': [1, 2, 3, 4]}\n",
      "Fitting 5 folds for each of 480 candidates, totalling 2400 fits\n"
     ]
    },
    {
     "name": "stderr",
     "output_type": "stream",
     "text": [
      "[Parallel(n_jobs=-1)]: Using backend LokyBackend with 4 concurrent workers.\n",
      "[Parallel(n_jobs=-1)]: Done 104 tasks      | elapsed:    0.8s\n",
      "[Parallel(n_jobs=-1)]: Done 680 tasks      | elapsed:    7.2s\n",
      "[Parallel(n_jobs=-1)]: Done 1640 tasks      | elapsed:   18.8s\n",
      "[Parallel(n_jobs=-1)]: Done 2400 out of 2400 | elapsed:   27.9s finished\n",
      "C:\\Users\\chris\\Anaconda2\\lib\\site-packages\\sklearn\\model_selection\\_search.py:841: DeprecationWarning: The default of the `iid` parameter will change from True to False in version 0.22 and will be removed in 0.24. This will change numeric results when test-set sizes are unequal.\n",
      "  DeprecationWarning)\n",
      "[Parallel(n_jobs=-1)]: Using backend LokyBackend with 4 concurrent workers.\n"
     ]
    },
    {
     "name": "stdout",
     "output_type": "stream",
     "text": [
      "Fitting 5 folds for each of 480 candidates, totalling 2400 fits\n"
     ]
    },
    {
     "name": "stderr",
     "output_type": "stream",
     "text": [
      "[Parallel(n_jobs=-1)]: Done 184 tasks      | elapsed:    1.7s\n",
      "[Parallel(n_jobs=-1)]: Done 1144 tasks      | elapsed:   14.1s\n",
      "[Parallel(n_jobs=-1)]: Done 2400 out of 2400 | elapsed:   30.8s finished\n",
      "C:\\Users\\chris\\Anaconda2\\lib\\site-packages\\sklearn\\model_selection\\_search.py:841: DeprecationWarning: The default of the `iid` parameter will change from True to False in version 0.22 and will be removed in 0.24. This will change numeric results when test-set sizes are unequal.\n",
      "  DeprecationWarning)\n"
     ]
    },
    {
     "name": "stdout",
     "output_type": "stream",
     "text": [
      "Games predicted: 245\n",
      "\n",
      "\n",
      "Now Starting Simulation Number: 146\n",
      "\n",
      "\n",
      "{'n_estimators': [10, 12, 14, 16, 18, 20, 22, 24, 26, 28], 'loss': ['ls', 'huber'], 'learning_rate': array([0.1, 0.2, 0.3, 0.4, 0.5, 0.6]), 'max_depth': [1, 2, 3, 4]}\n",
      "Fitting 5 folds for each of 480 candidates, totalling 2400 fits\n"
     ]
    },
    {
     "name": "stderr",
     "output_type": "stream",
     "text": [
      "[Parallel(n_jobs=-1)]: Using backend LokyBackend with 4 concurrent workers.\n",
      "[Parallel(n_jobs=-1)]: Done 104 tasks      | elapsed:    0.9s\n",
      "[Parallel(n_jobs=-1)]: Done 680 tasks      | elapsed:    8.3s\n",
      "[Parallel(n_jobs=-1)]: Done 1640 tasks      | elapsed:   20.5s\n",
      "[Parallel(n_jobs=-1)]: Done 2400 out of 2400 | elapsed:   29.7s finished\n",
      "C:\\Users\\chris\\Anaconda2\\lib\\site-packages\\sklearn\\model_selection\\_search.py:841: DeprecationWarning: The default of the `iid` parameter will change from True to False in version 0.22 and will be removed in 0.24. This will change numeric results when test-set sizes are unequal.\n",
      "  DeprecationWarning)\n",
      "[Parallel(n_jobs=-1)]: Using backend LokyBackend with 4 concurrent workers.\n"
     ]
    },
    {
     "name": "stdout",
     "output_type": "stream",
     "text": [
      "Fitting 5 folds for each of 480 candidates, totalling 2400 fits\n"
     ]
    },
    {
     "name": "stderr",
     "output_type": "stream",
     "text": [
      "[Parallel(n_jobs=-1)]: Done 184 tasks      | elapsed:    1.6s\n",
      "[Parallel(n_jobs=-1)]: Done 1720 tasks      | elapsed:   19.4s\n",
      "[Parallel(n_jobs=-1)]: Done 2400 out of 2400 | elapsed:   28.2s finished\n",
      "C:\\Users\\chris\\Anaconda2\\lib\\site-packages\\sklearn\\model_selection\\_search.py:841: DeprecationWarning: The default of the `iid` parameter will change from True to False in version 0.22 and will be removed in 0.24. This will change numeric results when test-set sizes are unequal.\n",
      "  DeprecationWarning)\n"
     ]
    },
    {
     "name": "stdout",
     "output_type": "stream",
     "text": [
      "Games predicted: 245\n",
      "\n",
      "\n",
      "Now Starting Simulation Number: 147\n",
      "\n",
      "\n",
      "{'n_estimators': [10, 12, 14, 16, 18, 20, 22, 24, 26, 28], 'loss': ['ls', 'huber'], 'learning_rate': array([0.1, 0.2, 0.3, 0.4, 0.5, 0.6]), 'max_depth': [1, 2, 3, 4]}\n",
      "Fitting 5 folds for each of 480 candidates, totalling 2400 fits\n"
     ]
    },
    {
     "name": "stderr",
     "output_type": "stream",
     "text": [
      "[Parallel(n_jobs=-1)]: Using backend LokyBackend with 4 concurrent workers.\n",
      "[Parallel(n_jobs=-1)]: Done 120 tasks      | elapsed:    1.1s\n",
      "[Parallel(n_jobs=-1)]: Done 1080 tasks      | elapsed:   13.3s\n",
      "[Parallel(n_jobs=-1)]: Done 2400 out of 2400 | elapsed:   31.5s finished\n",
      "C:\\Users\\chris\\Anaconda2\\lib\\site-packages\\sklearn\\model_selection\\_search.py:841: DeprecationWarning: The default of the `iid` parameter will change from True to False in version 0.22 and will be removed in 0.24. This will change numeric results when test-set sizes are unequal.\n",
      "  DeprecationWarning)\n"
     ]
    },
    {
     "name": "stdout",
     "output_type": "stream",
     "text": [
      "Fitting 5 folds for each of 480 candidates, totalling 2400 fits\n"
     ]
    },
    {
     "name": "stderr",
     "output_type": "stream",
     "text": [
      "[Parallel(n_jobs=-1)]: Using backend LokyBackend with 4 concurrent workers.\n",
      "[Parallel(n_jobs=-1)]: Done 136 tasks      | elapsed:    1.2s\n",
      "[Parallel(n_jobs=-1)]: Done 904 tasks      | elapsed:   10.8s\n",
      "[Parallel(n_jobs=-1)]: Done 2184 tasks      | elapsed:   25.6s\n",
      "[Parallel(n_jobs=-1)]: Done 2400 out of 2400 | elapsed:   28.7s finished\n",
      "C:\\Users\\chris\\Anaconda2\\lib\\site-packages\\sklearn\\model_selection\\_search.py:841: DeprecationWarning: The default of the `iid` parameter will change from True to False in version 0.22 and will be removed in 0.24. This will change numeric results when test-set sizes are unequal.\n",
      "  DeprecationWarning)\n"
     ]
    },
    {
     "name": "stdout",
     "output_type": "stream",
     "text": [
      "Games predicted: 245\n",
      "\n",
      "\n",
      "Now Starting Simulation Number: 148\n",
      "\n",
      "\n",
      "{'n_estimators': [10, 12, 14, 16, 18, 20, 22, 24, 26, 28], 'loss': ['ls', 'huber'], 'learning_rate': array([0.1, 0.2, 0.3, 0.4, 0.5, 0.6]), 'max_depth': [1, 2, 3, 4]}\n",
      "Fitting 5 folds for each of 480 candidates, totalling 2400 fits\n"
     ]
    },
    {
     "name": "stderr",
     "output_type": "stream",
     "text": [
      "[Parallel(n_jobs=-1)]: Using backend LokyBackend with 4 concurrent workers.\n",
      "[Parallel(n_jobs=-1)]: Done 136 tasks      | elapsed:    1.1s\n",
      "[Parallel(n_jobs=-1)]: Done 904 tasks      | elapsed:   10.1s\n",
      "[Parallel(n_jobs=-1)]: Done 2184 tasks      | elapsed:   25.6s\n",
      "[Parallel(n_jobs=-1)]: Done 2400 out of 2400 | elapsed:   29.1s finished\n",
      "C:\\Users\\chris\\Anaconda2\\lib\\site-packages\\sklearn\\model_selection\\_search.py:841: DeprecationWarning: The default of the `iid` parameter will change from True to False in version 0.22 and will be removed in 0.24. This will change numeric results when test-set sizes are unequal.\n",
      "  DeprecationWarning)\n"
     ]
    },
    {
     "name": "stdout",
     "output_type": "stream",
     "text": [
      "Fitting 5 folds for each of 480 candidates, totalling 2400 fits\n"
     ]
    },
    {
     "name": "stderr",
     "output_type": "stream",
     "text": [
      "[Parallel(n_jobs=-1)]: Using backend LokyBackend with 4 concurrent workers.\n",
      "[Parallel(n_jobs=-1)]: Done 232 tasks      | elapsed:    2.2s\n",
      "[Parallel(n_jobs=-1)]: Done 1576 tasks      | elapsed:   20.4s\n",
      "[Parallel(n_jobs=-1)]: Done 2400 out of 2400 | elapsed:   31.0s finished\n",
      "C:\\Users\\chris\\Anaconda2\\lib\\site-packages\\sklearn\\model_selection\\_search.py:841: DeprecationWarning: The default of the `iid` parameter will change from True to False in version 0.22 and will be removed in 0.24. This will change numeric results when test-set sizes are unequal.\n",
      "  DeprecationWarning)\n"
     ]
    },
    {
     "name": "stdout",
     "output_type": "stream",
     "text": [
      "Games predicted: 245\n",
      "\n",
      "\n",
      "Now Starting Simulation Number: 149\n",
      "\n",
      "\n",
      "{'n_estimators': [10, 12, 14, 16, 18, 20, 22, 24, 26, 28], 'loss': ['ls', 'huber'], 'learning_rate': array([0.1, 0.2, 0.3, 0.4, 0.5, 0.6]), 'max_depth': [1, 2, 3, 4]}\n",
      "Fitting 5 folds for each of 480 candidates, totalling 2400 fits\n"
     ]
    },
    {
     "name": "stderr",
     "output_type": "stream",
     "text": [
      "[Parallel(n_jobs=-1)]: Using backend LokyBackend with 4 concurrent workers.\n",
      "[Parallel(n_jobs=-1)]: Done 104 tasks      | elapsed:    0.7s\n",
      "[Parallel(n_jobs=-1)]: Done 680 tasks      | elapsed:    7.3s\n",
      "[Parallel(n_jobs=-1)]: Done 1640 tasks      | elapsed:   18.9s\n",
      "[Parallel(n_jobs=-1)]: Done 2400 out of 2400 | elapsed:   27.9s finished\n",
      "C:\\Users\\chris\\Anaconda2\\lib\\site-packages\\sklearn\\model_selection\\_search.py:841: DeprecationWarning: The default of the `iid` parameter will change from True to False in version 0.22 and will be removed in 0.24. This will change numeric results when test-set sizes are unequal.\n",
      "  DeprecationWarning)\n"
     ]
    },
    {
     "name": "stdout",
     "output_type": "stream",
     "text": [
      "Fitting 5 folds for each of 480 candidates, totalling 2400 fits\n"
     ]
    },
    {
     "name": "stderr",
     "output_type": "stream",
     "text": [
      "[Parallel(n_jobs=-1)]: Using backend LokyBackend with 4 concurrent workers.\n",
      "[Parallel(n_jobs=-1)]: Done 136 tasks      | elapsed:    1.0s\n",
      "[Parallel(n_jobs=-1)]: Done 904 tasks      | elapsed:   10.1s\n",
      "[Parallel(n_jobs=-1)]: Done 2184 tasks      | elapsed:   25.7s\n",
      "[Parallel(n_jobs=-1)]: Done 2400 out of 2400 | elapsed:   29.4s finished\n",
      "C:\\Users\\chris\\Anaconda2\\lib\\site-packages\\sklearn\\model_selection\\_search.py:841: DeprecationWarning: The default of the `iid` parameter will change from True to False in version 0.22 and will be removed in 0.24. This will change numeric results when test-set sizes are unequal.\n",
      "  DeprecationWarning)\n"
     ]
    },
    {
     "name": "stdout",
     "output_type": "stream",
     "text": [
      "Games predicted: 245\n",
      "\n",
      "\n",
      "Now Starting Simulation Number: 150\n",
      "\n",
      "\n",
      "{'n_estimators': [10, 12, 14, 16, 18, 20, 22, 24, 26, 28], 'loss': ['ls', 'huber'], 'learning_rate': array([0.1, 0.2, 0.3, 0.4, 0.5, 0.6]), 'max_depth': [1, 2, 3, 4]}\n",
      "Fitting 5 folds for each of 480 candidates, totalling 2400 fits\n"
     ]
    },
    {
     "name": "stderr",
     "output_type": "stream",
     "text": [
      "[Parallel(n_jobs=-1)]: Using backend LokyBackend with 4 concurrent workers.\n",
      "[Parallel(n_jobs=-1)]: Done 104 tasks      | elapsed:    1.0s\n",
      "[Parallel(n_jobs=-1)]: Done 680 tasks      | elapsed:    8.5s\n",
      "[Parallel(n_jobs=-1)]: Done 1640 tasks      | elapsed:   21.9s\n",
      "[Parallel(n_jobs=-1)]: Done 2400 out of 2400 | elapsed:   31.3s finished\n",
      "C:\\Users\\chris\\Anaconda2\\lib\\site-packages\\sklearn\\model_selection\\_search.py:841: DeprecationWarning: The default of the `iid` parameter will change from True to False in version 0.22 and will be removed in 0.24. This will change numeric results when test-set sizes are unequal.\n",
      "  DeprecationWarning)\n"
     ]
    },
    {
     "name": "stdout",
     "output_type": "stream",
     "text": [
      "Fitting 5 folds for each of 480 candidates, totalling 2400 fits\n"
     ]
    },
    {
     "name": "stderr",
     "output_type": "stream",
     "text": [
      "[Parallel(n_jobs=-1)]: Using backend LokyBackend with 4 concurrent workers.\n",
      "[Parallel(n_jobs=-1)]: Done 168 tasks      | elapsed:    1.4s\n",
      "[Parallel(n_jobs=-1)]: Done 1512 tasks      | elapsed:   16.7s\n",
      "[Parallel(n_jobs=-1)]: Done 2400 out of 2400 | elapsed:   27.4s finished\n",
      "C:\\Users\\chris\\Anaconda2\\lib\\site-packages\\sklearn\\model_selection\\_search.py:841: DeprecationWarning: The default of the `iid` parameter will change from True to False in version 0.22 and will be removed in 0.24. This will change numeric results when test-set sizes are unequal.\n",
      "  DeprecationWarning)\n"
     ]
    },
    {
     "name": "stdout",
     "output_type": "stream",
     "text": [
      "Games predicted: 245\n",
      "\n",
      "\n",
      "Now Starting Simulation Number: 151\n",
      "\n",
      "\n",
      "{'n_estimators': [10, 12, 14, 16, 18, 20, 22, 24, 26, 28], 'loss': ['ls', 'huber'], 'learning_rate': array([0.1, 0.2, 0.3, 0.4, 0.5, 0.6]), 'max_depth': [1, 2, 3, 4]}\n",
      "Fitting 5 folds for each of 480 candidates, totalling 2400 fits\n"
     ]
    },
    {
     "name": "stderr",
     "output_type": "stream",
     "text": [
      "[Parallel(n_jobs=-1)]: Using backend LokyBackend with 4 concurrent workers.\n",
      "[Parallel(n_jobs=-1)]: Done 136 tasks      | elapsed:    1.0s\n",
      "[Parallel(n_jobs=-1)]: Done 904 tasks      | elapsed:   10.5s\n",
      "[Parallel(n_jobs=-1)]: Done 2184 tasks      | elapsed:   26.4s\n",
      "[Parallel(n_jobs=-1)]: Done 2400 out of 2400 | elapsed:   29.8s finished\n",
      "C:\\Users\\chris\\Anaconda2\\lib\\site-packages\\sklearn\\model_selection\\_search.py:841: DeprecationWarning: The default of the `iid` parameter will change from True to False in version 0.22 and will be removed in 0.24. This will change numeric results when test-set sizes are unequal.\n",
      "  DeprecationWarning)\n",
      "[Parallel(n_jobs=-1)]: Using backend LokyBackend with 4 concurrent workers.\n"
     ]
    },
    {
     "name": "stdout",
     "output_type": "stream",
     "text": [
      "Fitting 5 folds for each of 480 candidates, totalling 2400 fits\n"
     ]
    },
    {
     "name": "stderr",
     "output_type": "stream",
     "text": [
      "[Parallel(n_jobs=-1)]: Done 168 tasks      | elapsed:    1.5s\n",
      "[Parallel(n_jobs=-1)]: Done 1512 tasks      | elapsed:   18.2s\n",
      "[Parallel(n_jobs=-1)]: Done 2400 out of 2400 | elapsed:   28.9s finished\n",
      "C:\\Users\\chris\\Anaconda2\\lib\\site-packages\\sklearn\\model_selection\\_search.py:841: DeprecationWarning: The default of the `iid` parameter will change from True to False in version 0.22 and will be removed in 0.24. This will change numeric results when test-set sizes are unequal.\n",
      "  DeprecationWarning)\n"
     ]
    },
    {
     "name": "stdout",
     "output_type": "stream",
     "text": [
      "Games predicted: 245\n",
      "\n",
      "\n",
      "Now Starting Simulation Number: 152\n",
      "\n",
      "\n",
      "{'n_estimators': [10, 12, 14, 16, 18, 20, 22, 24, 26, 28], 'loss': ['ls', 'huber'], 'learning_rate': array([0.1, 0.2, 0.3, 0.4, 0.5, 0.6]), 'max_depth': [1, 2, 3, 4]}\n",
      "Fitting 5 folds for each of 480 candidates, totalling 2400 fits\n"
     ]
    },
    {
     "name": "stderr",
     "output_type": "stream",
     "text": [
      "[Parallel(n_jobs=-1)]: Using backend LokyBackend with 4 concurrent workers.\n",
      "[Parallel(n_jobs=-1)]: Done 136 tasks      | elapsed:    1.0s\n",
      "[Parallel(n_jobs=-1)]: Done 904 tasks      | elapsed:   10.0s\n",
      "[Parallel(n_jobs=-1)]: Done 2184 tasks      | elapsed:   25.5s\n",
      "[Parallel(n_jobs=-1)]: Done 2400 out of 2400 | elapsed:   28.9s finished\n",
      "C:\\Users\\chris\\Anaconda2\\lib\\site-packages\\sklearn\\model_selection\\_search.py:841: DeprecationWarning: The default of the `iid` parameter will change from True to False in version 0.22 and will be removed in 0.24. This will change numeric results when test-set sizes are unequal.\n",
      "  DeprecationWarning)\n"
     ]
    },
    {
     "name": "stdout",
     "output_type": "stream",
     "text": [
      "Fitting 5 folds for each of 480 candidates, totalling 2400 fits\n"
     ]
    },
    {
     "name": "stderr",
     "output_type": "stream",
     "text": [
      "[Parallel(n_jobs=-1)]: Using backend LokyBackend with 4 concurrent workers.\n",
      "[Parallel(n_jobs=-1)]: Done 200 tasks      | elapsed:    1.9s\n",
      "[Parallel(n_jobs=-1)]: Done 1352 tasks      | elapsed:   16.7s\n",
      "[Parallel(n_jobs=-1)]: Done 2400 out of 2400 | elapsed:   30.3s finished\n",
      "C:\\Users\\chris\\Anaconda2\\lib\\site-packages\\sklearn\\model_selection\\_search.py:841: DeprecationWarning: The default of the `iid` parameter will change from True to False in version 0.22 and will be removed in 0.24. This will change numeric results when test-set sizes are unequal.\n",
      "  DeprecationWarning)\n"
     ]
    },
    {
     "name": "stdout",
     "output_type": "stream",
     "text": [
      "Games predicted: 245\n",
      "\n",
      "\n",
      "Now Starting Simulation Number: 153\n",
      "\n",
      "\n",
      "{'n_estimators': [10, 12, 14, 16, 18, 20, 22, 24, 26, 28], 'loss': ['ls', 'huber'], 'learning_rate': array([0.1, 0.2, 0.3, 0.4, 0.5, 0.6]), 'max_depth': [1, 2, 3, 4]}\n",
      "Fitting 5 folds for each of 480 candidates, totalling 2400 fits\n"
     ]
    },
    {
     "name": "stderr",
     "output_type": "stream",
     "text": [
      "[Parallel(n_jobs=-1)]: Using backend LokyBackend with 4 concurrent workers.\n",
      "[Parallel(n_jobs=-1)]: Done 152 tasks      | elapsed:    1.3s\n",
      "[Parallel(n_jobs=-1)]: Done 1304 tasks      | elapsed:   14.6s\n",
      "[Parallel(n_jobs=-1)]: Done 2400 out of 2400 | elapsed:   27.6s finished\n",
      "C:\\Users\\chris\\Anaconda2\\lib\\site-packages\\sklearn\\model_selection\\_search.py:841: DeprecationWarning: The default of the `iid` parameter will change from True to False in version 0.22 and will be removed in 0.24. This will change numeric results when test-set sizes are unequal.\n",
      "  DeprecationWarning)\n",
      "[Parallel(n_jobs=-1)]: Using backend LokyBackend with 4 concurrent workers.\n"
     ]
    },
    {
     "name": "stdout",
     "output_type": "stream",
     "text": [
      "Fitting 5 folds for each of 480 candidates, totalling 2400 fits\n"
     ]
    },
    {
     "name": "stderr",
     "output_type": "stream",
     "text": [
      "[Parallel(n_jobs=-1)]: Done 168 tasks      | elapsed:    1.3s\n",
      "[Parallel(n_jobs=-1)]: Done 1512 tasks      | elapsed:   17.1s\n",
      "[Parallel(n_jobs=-1)]: Done 2400 out of 2400 | elapsed:   28.9s finished\n",
      "C:\\Users\\chris\\Anaconda2\\lib\\site-packages\\sklearn\\model_selection\\_search.py:841: DeprecationWarning: The default of the `iid` parameter will change from True to False in version 0.22 and will be removed in 0.24. This will change numeric results when test-set sizes are unequal.\n",
      "  DeprecationWarning)\n"
     ]
    },
    {
     "name": "stdout",
     "output_type": "stream",
     "text": [
      "Games predicted: 245\n",
      "\n",
      "\n",
      "Now Starting Simulation Number: 154\n",
      "\n",
      "\n",
      "{'n_estimators': [10, 12, 14, 16, 18, 20, 22, 24, 26, 28], 'loss': ['ls', 'huber'], 'learning_rate': array([0.1, 0.2, 0.3, 0.4, 0.5, 0.6]), 'max_depth': [1, 2, 3, 4]}\n",
      "Fitting 5 folds for each of 480 candidates, totalling 2400 fits\n"
     ]
    },
    {
     "name": "stderr",
     "output_type": "stream",
     "text": [
      "[Parallel(n_jobs=-1)]: Using backend LokyBackend with 4 concurrent workers.\n",
      "[Parallel(n_jobs=-1)]: Done 104 tasks      | elapsed:    0.8s\n",
      "[Parallel(n_jobs=-1)]: Done 680 tasks      | elapsed:    8.3s\n",
      "[Parallel(n_jobs=-1)]: Done 1640 tasks      | elapsed:   21.3s\n",
      "[Parallel(n_jobs=-1)]: Done 2400 out of 2400 | elapsed:   30.9s finished\n",
      "C:\\Users\\chris\\Anaconda2\\lib\\site-packages\\sklearn\\model_selection\\_search.py:841: DeprecationWarning: The default of the `iid` parameter will change from True to False in version 0.22 and will be removed in 0.24. This will change numeric results when test-set sizes are unequal.\n",
      "  DeprecationWarning)\n"
     ]
    },
    {
     "name": "stdout",
     "output_type": "stream",
     "text": [
      "Fitting 5 folds for each of 480 candidates, totalling 2400 fits\n"
     ]
    },
    {
     "name": "stderr",
     "output_type": "stream",
     "text": [
      "[Parallel(n_jobs=-1)]: Using backend LokyBackend with 4 concurrent workers.\n",
      "[Parallel(n_jobs=-1)]: Done 200 tasks      | elapsed:    1.8s\n",
      "[Parallel(n_jobs=-1)]: Done 1352 tasks      | elapsed:   14.8s\n",
      "[Parallel(n_jobs=-1)]: Done 2400 out of 2400 | elapsed:   27.2s finished\n",
      "C:\\Users\\chris\\Anaconda2\\lib\\site-packages\\sklearn\\model_selection\\_search.py:841: DeprecationWarning: The default of the `iid` parameter will change from True to False in version 0.22 and will be removed in 0.24. This will change numeric results when test-set sizes are unequal.\n",
      "  DeprecationWarning)\n"
     ]
    },
    {
     "name": "stdout",
     "output_type": "stream",
     "text": [
      "Games predicted: 245\n",
      "\n",
      "\n",
      "Now Starting Simulation Number: 155\n",
      "\n",
      "\n",
      "{'n_estimators': [10, 12, 14, 16, 18, 20, 22, 24, 26, 28], 'loss': ['ls', 'huber'], 'learning_rate': array([0.1, 0.2, 0.3, 0.4, 0.5, 0.6]), 'max_depth': [1, 2, 3, 4]}\n",
      "Fitting 5 folds for each of 480 candidates, totalling 2400 fits\n"
     ]
    },
    {
     "name": "stderr",
     "output_type": "stream",
     "text": [
      "[Parallel(n_jobs=-1)]: Using backend LokyBackend with 4 concurrent workers.\n",
      "[Parallel(n_jobs=-1)]: Done 104 tasks      | elapsed:    0.7s\n",
      "[Parallel(n_jobs=-1)]: Done 680 tasks      | elapsed:    7.3s\n",
      "[Parallel(n_jobs=-1)]: Done 1640 tasks      | elapsed:   19.8s\n",
      "[Parallel(n_jobs=-1)]: Done 2400 out of 2400 | elapsed:   29.9s finished\n",
      "C:\\Users\\chris\\Anaconda2\\lib\\site-packages\\sklearn\\model_selection\\_search.py:841: DeprecationWarning: The default of the `iid` parameter will change from True to False in version 0.22 and will be removed in 0.24. This will change numeric results when test-set sizes are unequal.\n",
      "  DeprecationWarning)\n",
      "[Parallel(n_jobs=-1)]: Using backend LokyBackend with 4 concurrent workers.\n"
     ]
    },
    {
     "name": "stdout",
     "output_type": "stream",
     "text": [
      "Fitting 5 folds for each of 480 candidates, totalling 2400 fits\n"
     ]
    },
    {
     "name": "stderr",
     "output_type": "stream",
     "text": [
      "[Parallel(n_jobs=-1)]: Done 152 tasks      | elapsed:    1.5s\n",
      "[Parallel(n_jobs=-1)]: Done 1304 tasks      | elapsed:   16.4s\n",
      "[Parallel(n_jobs=-1)]: Done 2400 out of 2400 | elapsed:   30.3s finished\n",
      "C:\\Users\\chris\\Anaconda2\\lib\\site-packages\\sklearn\\model_selection\\_search.py:841: DeprecationWarning: The default of the `iid` parameter will change from True to False in version 0.22 and will be removed in 0.24. This will change numeric results when test-set sizes are unequal.\n",
      "  DeprecationWarning)\n"
     ]
    },
    {
     "name": "stdout",
     "output_type": "stream",
     "text": [
      "Games predicted: 245\n",
      "\n",
      "\n",
      "Now Starting Simulation Number: 156\n",
      "\n",
      "\n",
      "{'n_estimators': [10, 12, 14, 16, 18, 20, 22, 24, 26, 28], 'loss': ['ls', 'huber'], 'learning_rate': array([0.1, 0.2, 0.3, 0.4, 0.5, 0.6]), 'max_depth': [1, 2, 3, 4]}\n",
      "Fitting 5 folds for each of 480 candidates, totalling 2400 fits\n"
     ]
    },
    {
     "name": "stderr",
     "output_type": "stream",
     "text": [
      "[Parallel(n_jobs=-1)]: Using backend LokyBackend with 4 concurrent workers.\n",
      "[Parallel(n_jobs=-1)]: Done 104 tasks      | elapsed:    0.9s\n",
      "[Parallel(n_jobs=-1)]: Done 680 tasks      | elapsed:    7.5s\n",
      "[Parallel(n_jobs=-1)]: Done 1640 tasks      | elapsed:   19.2s\n",
      "[Parallel(n_jobs=-1)]: Done 2400 out of 2400 | elapsed:   28.5s finished\n",
      "C:\\Users\\chris\\Anaconda2\\lib\\site-packages\\sklearn\\model_selection\\_search.py:841: DeprecationWarning: The default of the `iid` parameter will change from True to False in version 0.22 and will be removed in 0.24. This will change numeric results when test-set sizes are unequal.\n",
      "  DeprecationWarning)\n"
     ]
    },
    {
     "name": "stdout",
     "output_type": "stream",
     "text": [
      "Fitting 5 folds for each of 480 candidates, totalling 2400 fits\n"
     ]
    },
    {
     "name": "stderr",
     "output_type": "stream",
     "text": [
      "[Parallel(n_jobs=-1)]: Using backend LokyBackend with 4 concurrent workers.\n",
      "[Parallel(n_jobs=-1)]: Done 168 tasks      | elapsed:    1.4s\n",
      "[Parallel(n_jobs=-1)]: Done 1128 tasks      | elapsed:   13.7s\n",
      "[Parallel(n_jobs=-1)]: Done 2400 out of 2400 | elapsed:   30.5s finished\n",
      "C:\\Users\\chris\\Anaconda2\\lib\\site-packages\\sklearn\\model_selection\\_search.py:841: DeprecationWarning: The default of the `iid` parameter will change from True to False in version 0.22 and will be removed in 0.24. This will change numeric results when test-set sizes are unequal.\n",
      "  DeprecationWarning)\n"
     ]
    },
    {
     "name": "stdout",
     "output_type": "stream",
     "text": [
      "Games predicted: 245\n",
      "\n",
      "\n",
      "Now Starting Simulation Number: 157\n",
      "\n",
      "\n",
      "{'n_estimators': [10, 12, 14, 16, 18, 20, 22, 24, 26, 28], 'loss': ['ls', 'huber'], 'learning_rate': array([0.1, 0.2, 0.3, 0.4, 0.5, 0.6]), 'max_depth': [1, 2, 3, 4]}\n",
      "Fitting 5 folds for each of 480 candidates, totalling 2400 fits\n"
     ]
    },
    {
     "name": "stderr",
     "output_type": "stream",
     "text": [
      "[Parallel(n_jobs=-1)]: Using backend LokyBackend with 4 concurrent workers.\n",
      "[Parallel(n_jobs=-1)]: Done 136 tasks      | elapsed:    1.2s\n",
      "[Parallel(n_jobs=-1)]: Done 904 tasks      | elapsed:   10.7s\n",
      "[Parallel(n_jobs=-1)]: Done 2184 tasks      | elapsed:   25.3s\n",
      "[Parallel(n_jobs=-1)]: Done 2400 out of 2400 | elapsed:   28.4s finished\n",
      "C:\\Users\\chris\\Anaconda2\\lib\\site-packages\\sklearn\\model_selection\\_search.py:841: DeprecationWarning: The default of the `iid` parameter will change from True to False in version 0.22 and will be removed in 0.24. This will change numeric results when test-set sizes are unequal.\n",
      "  DeprecationWarning)\n"
     ]
    },
    {
     "name": "stdout",
     "output_type": "stream",
     "text": [
      "Fitting 5 folds for each of 480 candidates, totalling 2400 fits\n"
     ]
    },
    {
     "name": "stderr",
     "output_type": "stream",
     "text": [
      "[Parallel(n_jobs=-1)]: Using backend LokyBackend with 4 concurrent workers.\n",
      "[Parallel(n_jobs=-1)]: Done 168 tasks      | elapsed:    1.3s\n",
      "[Parallel(n_jobs=-1)]: Done 1128 tasks      | elapsed:   12.4s\n",
      "[Parallel(n_jobs=-1)]: Done 2400 out of 2400 | elapsed:   28.1s finished\n",
      "C:\\Users\\chris\\Anaconda2\\lib\\site-packages\\sklearn\\model_selection\\_search.py:841: DeprecationWarning: The default of the `iid` parameter will change from True to False in version 0.22 and will be removed in 0.24. This will change numeric results when test-set sizes are unequal.\n",
      "  DeprecationWarning)\n"
     ]
    },
    {
     "name": "stdout",
     "output_type": "stream",
     "text": [
      "Games predicted: 245\n",
      "\n",
      "\n",
      "Now Starting Simulation Number: 158\n",
      "\n",
      "\n",
      "{'n_estimators': [10, 12, 14, 16, 18, 20, 22, 24, 26, 28], 'loss': ['ls', 'huber'], 'learning_rate': array([0.1, 0.2, 0.3, 0.4, 0.5, 0.6]), 'max_depth': [1, 2, 3, 4]}\n",
      "Fitting 5 folds for each of 480 candidates, totalling 2400 fits\n"
     ]
    },
    {
     "name": "stderr",
     "output_type": "stream",
     "text": [
      "[Parallel(n_jobs=-1)]: Using backend LokyBackend with 4 concurrent workers.\n",
      "[Parallel(n_jobs=-1)]: Done 104 tasks      | elapsed:    0.8s\n",
      "[Parallel(n_jobs=-1)]: Done 680 tasks      | elapsed:    7.9s\n",
      "[Parallel(n_jobs=-1)]: Done 1640 tasks      | elapsed:   21.1s\n",
      "[Parallel(n_jobs=-1)]: Done 2400 out of 2400 | elapsed:   31.6s finished\n",
      "C:\\Users\\chris\\Anaconda2\\lib\\site-packages\\sklearn\\model_selection\\_search.py:841: DeprecationWarning: The default of the `iid` parameter will change from True to False in version 0.22 and will be removed in 0.24. This will change numeric results when test-set sizes are unequal.\n",
      "  DeprecationWarning)\n"
     ]
    },
    {
     "name": "stdout",
     "output_type": "stream",
     "text": [
      "Fitting 5 folds for each of 480 candidates, totalling 2400 fits\n"
     ]
    },
    {
     "name": "stderr",
     "output_type": "stream",
     "text": [
      "[Parallel(n_jobs=-1)]: Using backend LokyBackend with 4 concurrent workers.\n",
      "[Parallel(n_jobs=-1)]: Done 136 tasks      | elapsed:    1.1s\n",
      "[Parallel(n_jobs=-1)]: Done 904 tasks      | elapsed:   10.4s\n",
      "[Parallel(n_jobs=-1)]: Done 2184 tasks      | elapsed:   25.4s\n",
      "[Parallel(n_jobs=-1)]: Done 2400 out of 2400 | elapsed:   28.5s finished\n",
      "C:\\Users\\chris\\Anaconda2\\lib\\site-packages\\sklearn\\model_selection\\_search.py:841: DeprecationWarning: The default of the `iid` parameter will change from True to False in version 0.22 and will be removed in 0.24. This will change numeric results when test-set sizes are unequal.\n",
      "  DeprecationWarning)\n"
     ]
    },
    {
     "name": "stdout",
     "output_type": "stream",
     "text": [
      "Games predicted: 245\n",
      "\n",
      "\n",
      "Now Starting Simulation Number: 159\n",
      "\n",
      "\n",
      "{'n_estimators': [10, 12, 14, 16, 18, 20, 22, 24, 26, 28], 'loss': ['ls', 'huber'], 'learning_rate': array([0.1, 0.2, 0.3, 0.4, 0.5, 0.6]), 'max_depth': [1, 2, 3, 4]}\n",
      "Fitting 5 folds for each of 480 candidates, totalling 2400 fits\n"
     ]
    },
    {
     "name": "stderr",
     "output_type": "stream",
     "text": [
      "[Parallel(n_jobs=-1)]: Using backend LokyBackend with 4 concurrent workers.\n",
      "[Parallel(n_jobs=-1)]: Done 136 tasks      | elapsed:    1.0s\n",
      "[Parallel(n_jobs=-1)]: Done 904 tasks      | elapsed:   10.0s\n",
      "[Parallel(n_jobs=-1)]: Done 2184 tasks      | elapsed:   25.5s\n",
      "[Parallel(n_jobs=-1)]: Done 2400 out of 2400 | elapsed:   29.2s finished\n",
      "C:\\Users\\chris\\Anaconda2\\lib\\site-packages\\sklearn\\model_selection\\_search.py:841: DeprecationWarning: The default of the `iid` parameter will change from True to False in version 0.22 and will be removed in 0.24. This will change numeric results when test-set sizes are unequal.\n",
      "  DeprecationWarning)\n"
     ]
    },
    {
     "name": "stdout",
     "output_type": "stream",
     "text": [
      "Fitting 5 folds for each of 480 candidates, totalling 2400 fits\n"
     ]
    },
    {
     "name": "stderr",
     "output_type": "stream",
     "text": [
      "[Parallel(n_jobs=-1)]: Using backend LokyBackend with 4 concurrent workers.\n",
      "[Parallel(n_jobs=-1)]: Done 232 tasks      | elapsed:    2.2s\n",
      "[Parallel(n_jobs=-1)]: Done 1576 tasks      | elapsed:   20.3s\n",
      "[Parallel(n_jobs=-1)]: Done 2400 out of 2400 | elapsed:   30.3s finished\n",
      "C:\\Users\\chris\\Anaconda2\\lib\\site-packages\\sklearn\\model_selection\\_search.py:841: DeprecationWarning: The default of the `iid` parameter will change from True to False in version 0.22 and will be removed in 0.24. This will change numeric results when test-set sizes are unequal.\n",
      "  DeprecationWarning)\n"
     ]
    },
    {
     "name": "stdout",
     "output_type": "stream",
     "text": [
      "Games predicted: 245\n",
      "\n",
      "\n",
      "Now Starting Simulation Number: 160\n",
      "\n",
      "\n",
      "{'n_estimators': [10, 12, 14, 16, 18, 20, 22, 24, 26, 28], 'loss': ['ls', 'huber'], 'learning_rate': array([0.1, 0.2, 0.3, 0.4, 0.5, 0.6]), 'max_depth': [1, 2, 3, 4]}\n",
      "Fitting 5 folds for each of 480 candidates, totalling 2400 fits\n"
     ]
    },
    {
     "name": "stderr",
     "output_type": "stream",
     "text": [
      "[Parallel(n_jobs=-1)]: Using backend LokyBackend with 4 concurrent workers.\n",
      "[Parallel(n_jobs=-1)]: Done 136 tasks      | elapsed:    1.1s\n",
      "[Parallel(n_jobs=-1)]: Done 904 tasks      | elapsed:   10.1s\n",
      "[Parallel(n_jobs=-1)]: Done 2184 tasks      | elapsed:   24.7s\n",
      "[Parallel(n_jobs=-1)]: Done 2400 out of 2400 | elapsed:   28.0s finished\n",
      "C:\\Users\\chris\\Anaconda2\\lib\\site-packages\\sklearn\\model_selection\\_search.py:841: DeprecationWarning: The default of the `iid` parameter will change from True to False in version 0.22 and will be removed in 0.24. This will change numeric results when test-set sizes are unequal.\n",
      "  DeprecationWarning)\n"
     ]
    },
    {
     "name": "stdout",
     "output_type": "stream",
     "text": [
      "Fitting 5 folds for each of 480 candidates, totalling 2400 fits\n"
     ]
    },
    {
     "name": "stderr",
     "output_type": "stream",
     "text": [
      "[Parallel(n_jobs=-1)]: Using backend LokyBackend with 4 concurrent workers.\n",
      "[Parallel(n_jobs=-1)]: Done 200 tasks      | elapsed:    1.8s\n",
      "[Parallel(n_jobs=-1)]: Done 1352 tasks      | elapsed:   15.6s\n",
      "[Parallel(n_jobs=-1)]: Done 2400 out of 2400 | elapsed:   29.8s finished\n",
      "C:\\Users\\chris\\Anaconda2\\lib\\site-packages\\sklearn\\model_selection\\_search.py:841: DeprecationWarning: The default of the `iid` parameter will change from True to False in version 0.22 and will be removed in 0.24. This will change numeric results when test-set sizes are unequal.\n",
      "  DeprecationWarning)\n"
     ]
    },
    {
     "name": "stdout",
     "output_type": "stream",
     "text": [
      "Games predicted: 245\n",
      "\n",
      "\n",
      "Now Starting Simulation Number: 161\n",
      "\n",
      "\n",
      "{'n_estimators': [10, 12, 14, 16, 18, 20, 22, 24, 26, 28], 'loss': ['ls', 'huber'], 'learning_rate': array([0.1, 0.2, 0.3, 0.4, 0.5, 0.6]), 'max_depth': [1, 2, 3, 4]}\n",
      "Fitting 5 folds for each of 480 candidates, totalling 2400 fits\n"
     ]
    },
    {
     "name": "stderr",
     "output_type": "stream",
     "text": [
      "[Parallel(n_jobs=-1)]: Using backend LokyBackend with 4 concurrent workers.\n",
      "[Parallel(n_jobs=-1)]: Done 136 tasks      | elapsed:    1.3s\n",
      "[Parallel(n_jobs=-1)]: Done 904 tasks      | elapsed:   11.6s\n",
      "[Parallel(n_jobs=-1)]: Done 2184 tasks      | elapsed:   26.7s\n",
      "[Parallel(n_jobs=-1)]: Done 2400 out of 2400 | elapsed:   29.9s finished\n",
      "C:\\Users\\chris\\Anaconda2\\lib\\site-packages\\sklearn\\model_selection\\_search.py:841: DeprecationWarning: The default of the `iid` parameter will change from True to False in version 0.22 and will be removed in 0.24. This will change numeric results when test-set sizes are unequal.\n",
      "  DeprecationWarning)\n",
      "[Parallel(n_jobs=-1)]: Using backend LokyBackend with 4 concurrent workers.\n"
     ]
    },
    {
     "name": "stdout",
     "output_type": "stream",
     "text": [
      "Fitting 5 folds for each of 480 candidates, totalling 2400 fits\n"
     ]
    },
    {
     "name": "stderr",
     "output_type": "stream",
     "text": [
      "[Parallel(n_jobs=-1)]: Done 136 tasks      | elapsed:    1.0s\n",
      "[Parallel(n_jobs=-1)]: Done 904 tasks      | elapsed:    9.8s\n",
      "[Parallel(n_jobs=-1)]: Done 2184 tasks      | elapsed:   24.2s\n",
      "[Parallel(n_jobs=-1)]: Done 2400 out of 2400 | elapsed:   27.4s finished\n",
      "C:\\Users\\chris\\Anaconda2\\lib\\site-packages\\sklearn\\model_selection\\_search.py:841: DeprecationWarning: The default of the `iid` parameter will change from True to False in version 0.22 and will be removed in 0.24. This will change numeric results when test-set sizes are unequal.\n",
      "  DeprecationWarning)\n"
     ]
    },
    {
     "name": "stdout",
     "output_type": "stream",
     "text": [
      "Games predicted: 245\n",
      "\n",
      "\n",
      "Now Starting Simulation Number: 162\n",
      "\n",
      "\n",
      "{'n_estimators': [10, 12, 14, 16, 18, 20, 22, 24, 26, 28], 'loss': ['ls', 'huber'], 'learning_rate': array([0.1, 0.2, 0.3, 0.4, 0.5, 0.6]), 'max_depth': [1, 2, 3, 4]}\n",
      "Fitting 5 folds for each of 480 candidates, totalling 2400 fits\n"
     ]
    },
    {
     "name": "stderr",
     "output_type": "stream",
     "text": [
      "[Parallel(n_jobs=-1)]: Using backend LokyBackend with 4 concurrent workers.\n",
      "[Parallel(n_jobs=-1)]: Done 104 tasks      | elapsed:    0.8s\n",
      "[Parallel(n_jobs=-1)]: Done 680 tasks      | elapsed:    7.5s\n",
      "[Parallel(n_jobs=-1)]: Done 1640 tasks      | elapsed:   20.4s\n",
      "[Parallel(n_jobs=-1)]: Done 2400 out of 2400 | elapsed:   30.8s finished\n",
      "C:\\Users\\chris\\Anaconda2\\lib\\site-packages\\sklearn\\model_selection\\_search.py:841: DeprecationWarning: The default of the `iid` parameter will change from True to False in version 0.22 and will be removed in 0.24. This will change numeric results when test-set sizes are unequal.\n",
      "  DeprecationWarning)\n"
     ]
    },
    {
     "name": "stdout",
     "output_type": "stream",
     "text": [
      "Fitting 5 folds for each of 480 candidates, totalling 2400 fits\n"
     ]
    },
    {
     "name": "stderr",
     "output_type": "stream",
     "text": [
      "[Parallel(n_jobs=-1)]: Using backend LokyBackend with 4 concurrent workers.\n",
      "[Parallel(n_jobs=-1)]: Done 168 tasks      | elapsed:    1.6s\n",
      "[Parallel(n_jobs=-1)]: Done 1128 tasks      | elapsed:   13.5s\n",
      "[Parallel(n_jobs=-1)]: Done 2400 out of 2400 | elapsed:   28.6s finished\n",
      "C:\\Users\\chris\\Anaconda2\\lib\\site-packages\\sklearn\\model_selection\\_search.py:841: DeprecationWarning: The default of the `iid` parameter will change from True to False in version 0.22 and will be removed in 0.24. This will change numeric results when test-set sizes are unequal.\n",
      "  DeprecationWarning)\n"
     ]
    },
    {
     "name": "stdout",
     "output_type": "stream",
     "text": [
      "Games predicted: 245\n",
      "\n",
      "\n",
      "Now Starting Simulation Number: 163\n",
      "\n",
      "\n",
      "{'n_estimators': [10, 12, 14, 16, 18, 20, 22, 24, 26, 28], 'loss': ['ls', 'huber'], 'learning_rate': array([0.1, 0.2, 0.3, 0.4, 0.5, 0.6]), 'max_depth': [1, 2, 3, 4]}\n",
      "Fitting 5 folds for each of 480 candidates, totalling 2400 fits\n"
     ]
    },
    {
     "name": "stderr",
     "output_type": "stream",
     "text": [
      "[Parallel(n_jobs=-1)]: Using backend LokyBackend with 4 concurrent workers.\n",
      "[Parallel(n_jobs=-1)]: Done 136 tasks      | elapsed:    1.1s\n",
      "[Parallel(n_jobs=-1)]: Done 904 tasks      | elapsed:   10.4s\n",
      "[Parallel(n_jobs=-1)]: Done 2184 tasks      | elapsed:   25.4s\n",
      "[Parallel(n_jobs=-1)]: Done 2400 out of 2400 | elapsed:   28.7s finished\n",
      "C:\\Users\\chris\\Anaconda2\\lib\\site-packages\\sklearn\\model_selection\\_search.py:841: DeprecationWarning: The default of the `iid` parameter will change from True to False in version 0.22 and will be removed in 0.24. This will change numeric results when test-set sizes are unequal.\n",
      "  DeprecationWarning)\n"
     ]
    },
    {
     "name": "stdout",
     "output_type": "stream",
     "text": [
      "Fitting 5 folds for each of 480 candidates, totalling 2400 fits\n"
     ]
    },
    {
     "name": "stderr",
     "output_type": "stream",
     "text": [
      "[Parallel(n_jobs=-1)]: Using backend LokyBackend with 4 concurrent workers.\n",
      "[Parallel(n_jobs=-1)]: Done 168 tasks      | elapsed:    1.4s\n",
      "[Parallel(n_jobs=-1)]: Done 1128 tasks      | elapsed:   14.2s\n",
      "[Parallel(n_jobs=-1)]: Done 2400 out of 2400 | elapsed:   31.7s finished\n",
      "C:\\Users\\chris\\Anaconda2\\lib\\site-packages\\sklearn\\model_selection\\_search.py:841: DeprecationWarning: The default of the `iid` parameter will change from True to False in version 0.22 and will be removed in 0.24. This will change numeric results when test-set sizes are unequal.\n",
      "  DeprecationWarning)\n"
     ]
    },
    {
     "name": "stdout",
     "output_type": "stream",
     "text": [
      "Games predicted: 245\n",
      "\n",
      "\n",
      "Now Starting Simulation Number: 164\n",
      "\n",
      "\n",
      "{'n_estimators': [10, 12, 14, 16, 18, 20, 22, 24, 26, 28], 'loss': ['ls', 'huber'], 'learning_rate': array([0.1, 0.2, 0.3, 0.4, 0.5, 0.6]), 'max_depth': [1, 2, 3, 4]}\n",
      "Fitting 5 folds for each of 480 candidates, totalling 2400 fits\n"
     ]
    },
    {
     "name": "stderr",
     "output_type": "stream",
     "text": [
      "[Parallel(n_jobs=-1)]: Using backend LokyBackend with 4 concurrent workers.\n",
      "[Parallel(n_jobs=-1)]: Done 152 tasks      | elapsed:    1.3s\n",
      "[Parallel(n_jobs=-1)]: Done 1304 tasks      | elapsed:   14.8s\n",
      "[Parallel(n_jobs=-1)]: Done 2400 out of 2400 | elapsed:   27.8s finished\n",
      "C:\\Users\\chris\\Anaconda2\\lib\\site-packages\\sklearn\\model_selection\\_search.py:841: DeprecationWarning: The default of the `iid` parameter will change from True to False in version 0.22 and will be removed in 0.24. This will change numeric results when test-set sizes are unequal.\n",
      "  DeprecationWarning)\n",
      "[Parallel(n_jobs=-1)]: Using backend LokyBackend with 4 concurrent workers.\n"
     ]
    },
    {
     "name": "stdout",
     "output_type": "stream",
     "text": [
      "Fitting 5 folds for each of 480 candidates, totalling 2400 fits\n"
     ]
    },
    {
     "name": "stderr",
     "output_type": "stream",
     "text": [
      "[Parallel(n_jobs=-1)]: Done 168 tasks      | elapsed:    1.4s\n",
      "[Parallel(n_jobs=-1)]: Done 1512 tasks      | elapsed:   17.1s\n",
      "[Parallel(n_jobs=-1)]: Done 2400 out of 2400 | elapsed:   28.6s finished\n",
      "C:\\Users\\chris\\Anaconda2\\lib\\site-packages\\sklearn\\model_selection\\_search.py:841: DeprecationWarning: The default of the `iid` parameter will change from True to False in version 0.22 and will be removed in 0.24. This will change numeric results when test-set sizes are unequal.\n",
      "  DeprecationWarning)\n"
     ]
    },
    {
     "name": "stdout",
     "output_type": "stream",
     "text": [
      "Games predicted: 245\n",
      "\n",
      "\n",
      "Now Starting Simulation Number: 165\n",
      "\n",
      "\n",
      "{'n_estimators': [10, 12, 14, 16, 18, 20, 22, 24, 26, 28], 'loss': ['ls', 'huber'], 'learning_rate': array([0.1, 0.2, 0.3, 0.4, 0.5, 0.6]), 'max_depth': [1, 2, 3, 4]}\n",
      "Fitting 5 folds for each of 480 candidates, totalling 2400 fits\n"
     ]
    },
    {
     "name": "stderr",
     "output_type": "stream",
     "text": [
      "[Parallel(n_jobs=-1)]: Using backend LokyBackend with 4 concurrent workers.\n",
      "[Parallel(n_jobs=-1)]: Done 136 tasks      | elapsed:    1.2s\n",
      "[Parallel(n_jobs=-1)]: Done 904 tasks      | elapsed:   11.2s\n",
      "[Parallel(n_jobs=-1)]: Done 2184 tasks      | elapsed:   28.1s\n",
      "[Parallel(n_jobs=-1)]: Done 2400 out of 2400 | elapsed:   31.4s finished\n",
      "C:\\Users\\chris\\Anaconda2\\lib\\site-packages\\sklearn\\model_selection\\_search.py:841: DeprecationWarning: The default of the `iid` parameter will change from True to False in version 0.22 and will be removed in 0.24. This will change numeric results when test-set sizes are unequal.\n",
      "  DeprecationWarning)\n"
     ]
    },
    {
     "name": "stdout",
     "output_type": "stream",
     "text": [
      "Fitting 5 folds for each of 480 candidates, totalling 2400 fits\n"
     ]
    },
    {
     "name": "stderr",
     "output_type": "stream",
     "text": [
      "[Parallel(n_jobs=-1)]: Using backend LokyBackend with 4 concurrent workers.\n",
      "[Parallel(n_jobs=-1)]: Done 168 tasks      | elapsed:    1.4s\n",
      "[Parallel(n_jobs=-1)]: Done 1128 tasks      | elapsed:   12.3s\n",
      "[Parallel(n_jobs=-1)]: Done 2400 out of 2400 | elapsed:   27.3s finished\n",
      "C:\\Users\\chris\\Anaconda2\\lib\\site-packages\\sklearn\\model_selection\\_search.py:841: DeprecationWarning: The default of the `iid` parameter will change from True to False in version 0.22 and will be removed in 0.24. This will change numeric results when test-set sizes are unequal.\n",
      "  DeprecationWarning)\n"
     ]
    },
    {
     "name": "stdout",
     "output_type": "stream",
     "text": [
      "Games predicted: 245\n",
      "\n",
      "\n",
      "Now Starting Simulation Number: 166\n",
      "\n",
      "\n",
      "{'n_estimators': [10, 12, 14, 16, 18, 20, 22, 24, 26, 28], 'loss': ['ls', 'huber'], 'learning_rate': array([0.1, 0.2, 0.3, 0.4, 0.5, 0.6]), 'max_depth': [1, 2, 3, 4]}\n",
      "Fitting 5 folds for each of 480 candidates, totalling 2400 fits\n"
     ]
    },
    {
     "name": "stderr",
     "output_type": "stream",
     "text": [
      "[Parallel(n_jobs=-1)]: Using backend LokyBackend with 4 concurrent workers.\n",
      "[Parallel(n_jobs=-1)]: Done 104 tasks      | elapsed:    0.7s\n",
      "[Parallel(n_jobs=-1)]: Done 680 tasks      | elapsed:    7.2s\n",
      "[Parallel(n_jobs=-1)]: Done 1640 tasks      | elapsed:   19.4s\n",
      "[Parallel(n_jobs=-1)]: Done 2400 out of 2400 | elapsed:   29.3s finished\n",
      "C:\\Users\\chris\\Anaconda2\\lib\\site-packages\\sklearn\\model_selection\\_search.py:841: DeprecationWarning: The default of the `iid` parameter will change from True to False in version 0.22 and will be removed in 0.24. This will change numeric results when test-set sizes are unequal.\n",
      "  DeprecationWarning)\n"
     ]
    },
    {
     "name": "stdout",
     "output_type": "stream",
     "text": [
      "Fitting 5 folds for each of 480 candidates, totalling 2400 fits\n"
     ]
    },
    {
     "name": "stderr",
     "output_type": "stream",
     "text": [
      "[Parallel(n_jobs=-1)]: Using backend LokyBackend with 4 concurrent workers.\n",
      "[Parallel(n_jobs=-1)]: Done 136 tasks      | elapsed:    1.2s\n",
      "[Parallel(n_jobs=-1)]: Done 904 tasks      | elapsed:   11.2s\n",
      "[Parallel(n_jobs=-1)]: Done 2184 tasks      | elapsed:   27.9s\n",
      "[Parallel(n_jobs=-1)]: Done 2400 out of 2400 | elapsed:   31.3s finished\n",
      "C:\\Users\\chris\\Anaconda2\\lib\\site-packages\\sklearn\\model_selection\\_search.py:841: DeprecationWarning: The default of the `iid` parameter will change from True to False in version 0.22 and will be removed in 0.24. This will change numeric results when test-set sizes are unequal.\n",
      "  DeprecationWarning)\n"
     ]
    },
    {
     "name": "stdout",
     "output_type": "stream",
     "text": [
      "Games predicted: 245\n",
      "\n",
      "\n",
      "Now Starting Simulation Number: 167\n",
      "\n",
      "\n",
      "{'n_estimators': [10, 12, 14, 16, 18, 20, 22, 24, 26, 28], 'loss': ['ls', 'huber'], 'learning_rate': array([0.1, 0.2, 0.3, 0.4, 0.5, 0.6]), 'max_depth': [1, 2, 3, 4]}\n",
      "Fitting 5 folds for each of 480 candidates, totalling 2400 fits\n"
     ]
    },
    {
     "name": "stderr",
     "output_type": "stream",
     "text": [
      "[Parallel(n_jobs=-1)]: Using backend LokyBackend with 4 concurrent workers.\n",
      "[Parallel(n_jobs=-1)]: Done 104 tasks      | elapsed:    0.7s\n",
      "[Parallel(n_jobs=-1)]: Done 680 tasks      | elapsed:    7.2s\n",
      "[Parallel(n_jobs=-1)]: Done 1640 tasks      | elapsed:   18.7s\n",
      "[Parallel(n_jobs=-1)]: Done 2400 out of 2400 | elapsed:   28.1s finished\n",
      "C:\\Users\\chris\\Anaconda2\\lib\\site-packages\\sklearn\\model_selection\\_search.py:841: DeprecationWarning: The default of the `iid` parameter will change from True to False in version 0.22 and will be removed in 0.24. This will change numeric results when test-set sizes are unequal.\n",
      "  DeprecationWarning)\n"
     ]
    },
    {
     "name": "stdout",
     "output_type": "stream",
     "text": [
      "Fitting 5 folds for each of 480 candidates, totalling 2400 fits\n"
     ]
    },
    {
     "name": "stderr",
     "output_type": "stream",
     "text": [
      "[Parallel(n_jobs=-1)]: Using backend LokyBackend with 4 concurrent workers.\n",
      "[Parallel(n_jobs=-1)]: Done 136 tasks      | elapsed:    1.1s\n",
      "[Parallel(n_jobs=-1)]: Done 904 tasks      | elapsed:   10.0s\n",
      "[Parallel(n_jobs=-1)]: Done 2184 tasks      | elapsed:   25.3s\n",
      "[Parallel(n_jobs=-1)]: Done 2400 out of 2400 | elapsed:   29.1s finished\n",
      "C:\\Users\\chris\\Anaconda2\\lib\\site-packages\\sklearn\\model_selection\\_search.py:841: DeprecationWarning: The default of the `iid` parameter will change from True to False in version 0.22 and will be removed in 0.24. This will change numeric results when test-set sizes are unequal.\n",
      "  DeprecationWarning)\n"
     ]
    },
    {
     "name": "stdout",
     "output_type": "stream",
     "text": [
      "Games predicted: 245\n",
      "\n",
      "\n",
      "Now Starting Simulation Number: 168\n",
      "\n",
      "\n",
      "{'n_estimators': [10, 12, 14, 16, 18, 20, 22, 24, 26, 28], 'loss': ['ls', 'huber'], 'learning_rate': array([0.1, 0.2, 0.3, 0.4, 0.5, 0.6]), 'max_depth': [1, 2, 3, 4]}\n",
      "Fitting 5 folds for each of 480 candidates, totalling 2400 fits\n"
     ]
    },
    {
     "name": "stderr",
     "output_type": "stream",
     "text": [
      "[Parallel(n_jobs=-1)]: Using backend LokyBackend with 4 concurrent workers.\n",
      "[Parallel(n_jobs=-1)]: Done 104 tasks      | elapsed:    1.1s\n",
      "[Parallel(n_jobs=-1)]: Done 680 tasks      | elapsed:    9.2s\n",
      "[Parallel(n_jobs=-1)]: Done 1640 tasks      | elapsed:   22.3s\n",
      "[Parallel(n_jobs=-1)]: Done 2400 out of 2400 | elapsed:   31.6s finished\n",
      "C:\\Users\\chris\\Anaconda2\\lib\\site-packages\\sklearn\\model_selection\\_search.py:841: DeprecationWarning: The default of the `iid` parameter will change from True to False in version 0.22 and will be removed in 0.24. This will change numeric results when test-set sizes are unequal.\n",
      "  DeprecationWarning)\n",
      "[Parallel(n_jobs=-1)]: Using backend LokyBackend with 4 concurrent workers.\n"
     ]
    },
    {
     "name": "stdout",
     "output_type": "stream",
     "text": [
      "Fitting 5 folds for each of 480 candidates, totalling 2400 fits\n"
     ]
    },
    {
     "name": "stderr",
     "output_type": "stream",
     "text": [
      "[Parallel(n_jobs=-1)]: Done 184 tasks      | elapsed:    1.6s\n",
      "[Parallel(n_jobs=-1)]: Done 1720 tasks      | elapsed:   19.3s\n",
      "[Parallel(n_jobs=-1)]: Done 2400 out of 2400 | elapsed:   27.5s finished\n",
      "C:\\Users\\chris\\Anaconda2\\lib\\site-packages\\sklearn\\model_selection\\_search.py:841: DeprecationWarning: The default of the `iid` parameter will change from True to False in version 0.22 and will be removed in 0.24. This will change numeric results when test-set sizes are unequal.\n",
      "  DeprecationWarning)\n"
     ]
    },
    {
     "name": "stdout",
     "output_type": "stream",
     "text": [
      "Games predicted: 245\n",
      "\n",
      "\n",
      "Now Starting Simulation Number: 169\n",
      "\n",
      "\n",
      "{'n_estimators': [10, 12, 14, 16, 18, 20, 22, 24, 26, 28], 'loss': ['ls', 'huber'], 'learning_rate': array([0.1, 0.2, 0.3, 0.4, 0.5, 0.6]), 'max_depth': [1, 2, 3, 4]}\n",
      "Fitting 5 folds for each of 480 candidates, totalling 2400 fits\n"
     ]
    },
    {
     "name": "stderr",
     "output_type": "stream",
     "text": [
      "[Parallel(n_jobs=-1)]: Using backend LokyBackend with 4 concurrent workers.\n",
      "[Parallel(n_jobs=-1)]: Done 136 tasks      | elapsed:    1.0s\n",
      "[Parallel(n_jobs=-1)]: Done 904 tasks      | elapsed:   10.1s\n",
      "[Parallel(n_jobs=-1)]: Done 2184 tasks      | elapsed:   25.5s\n",
      "[Parallel(n_jobs=-1)]: Done 2400 out of 2400 | elapsed:   28.9s finished\n",
      "C:\\Users\\chris\\Anaconda2\\lib\\site-packages\\sklearn\\model_selection\\_search.py:841: DeprecationWarning: The default of the `iid` parameter will change from True to False in version 0.22 and will be removed in 0.24. This will change numeric results when test-set sizes are unequal.\n",
      "  DeprecationWarning)\n"
     ]
    },
    {
     "name": "stdout",
     "output_type": "stream",
     "text": [
      "Fitting 5 folds for each of 480 candidates, totalling 2400 fits\n"
     ]
    },
    {
     "name": "stderr",
     "output_type": "stream",
     "text": [
      "[Parallel(n_jobs=-1)]: Using backend LokyBackend with 4 concurrent workers.\n",
      "[Parallel(n_jobs=-1)]: Done 136 tasks      | elapsed:    1.2s\n",
      "[Parallel(n_jobs=-1)]: Done 904 tasks      | elapsed:   12.1s\n",
      "[Parallel(n_jobs=-1)]: Done 2184 tasks      | elapsed:   27.6s\n",
      "[Parallel(n_jobs=-1)]: Done 2400 out of 2400 | elapsed:   30.7s finished\n",
      "C:\\Users\\chris\\Anaconda2\\lib\\site-packages\\sklearn\\model_selection\\_search.py:841: DeprecationWarning: The default of the `iid` parameter will change from True to False in version 0.22 and will be removed in 0.24. This will change numeric results when test-set sizes are unequal.\n",
      "  DeprecationWarning)\n"
     ]
    },
    {
     "name": "stdout",
     "output_type": "stream",
     "text": [
      "Games predicted: 245\n",
      "\n",
      "\n",
      "Now Starting Simulation Number: 170\n",
      "\n",
      "\n",
      "{'n_estimators': [10, 12, 14, 16, 18, 20, 22, 24, 26, 28], 'loss': ['ls', 'huber'], 'learning_rate': array([0.1, 0.2, 0.3, 0.4, 0.5, 0.6]), 'max_depth': [1, 2, 3, 4]}\n",
      "Fitting 5 folds for each of 480 candidates, totalling 2400 fits\n"
     ]
    },
    {
     "name": "stderr",
     "output_type": "stream",
     "text": [
      "[Parallel(n_jobs=-1)]: Using backend LokyBackend with 4 concurrent workers.\n",
      "[Parallel(n_jobs=-1)]: Done 200 tasks      | elapsed:    1.8s\n",
      "[Parallel(n_jobs=-1)]: Done 1352 tasks      | elapsed:   15.1s\n",
      "[Parallel(n_jobs=-1)]: Done 2400 out of 2400 | elapsed:   27.7s finished\n",
      "C:\\Users\\chris\\Anaconda2\\lib\\site-packages\\sklearn\\model_selection\\_search.py:841: DeprecationWarning: The default of the `iid` parameter will change from True to False in version 0.22 and will be removed in 0.24. This will change numeric results when test-set sizes are unequal.\n",
      "  DeprecationWarning)\n"
     ]
    },
    {
     "name": "stdout",
     "output_type": "stream",
     "text": [
      "Fitting 5 folds for each of 480 candidates, totalling 2400 fits\n"
     ]
    },
    {
     "name": "stderr",
     "output_type": "stream",
     "text": [
      "[Parallel(n_jobs=-1)]: Using backend LokyBackend with 4 concurrent workers.\n",
      "[Parallel(n_jobs=-1)]: Done 136 tasks      | elapsed:    1.1s\n",
      "[Parallel(n_jobs=-1)]: Done 904 tasks      | elapsed:   10.4s\n",
      "[Parallel(n_jobs=-1)]: Done 2184 tasks      | elapsed:   26.3s\n",
      "[Parallel(n_jobs=-1)]: Done 2400 out of 2400 | elapsed:   29.8s finished\n",
      "C:\\Users\\chris\\Anaconda2\\lib\\site-packages\\sklearn\\model_selection\\_search.py:841: DeprecationWarning: The default of the `iid` parameter will change from True to False in version 0.22 and will be removed in 0.24. This will change numeric results when test-set sizes are unequal.\n",
      "  DeprecationWarning)\n"
     ]
    },
    {
     "name": "stdout",
     "output_type": "stream",
     "text": [
      "Games predicted: 245\n",
      "\n",
      "\n",
      "Now Starting Simulation Number: 171\n",
      "\n",
      "\n",
      "{'n_estimators': [10, 12, 14, 16, 18, 20, 22, 24, 26, 28], 'loss': ['ls', 'huber'], 'learning_rate': array([0.1, 0.2, 0.3, 0.4, 0.5, 0.6]), 'max_depth': [1, 2, 3, 4]}\n",
      "Fitting 5 folds for each of 480 candidates, totalling 2400 fits\n"
     ]
    },
    {
     "name": "stderr",
     "output_type": "stream",
     "text": [
      "[Parallel(n_jobs=-1)]: Using backend LokyBackend with 4 concurrent workers.\n",
      "[Parallel(n_jobs=-1)]: Done 136 tasks      | elapsed:    1.2s\n",
      "[Parallel(n_jobs=-1)]: Done 904 tasks      | elapsed:   11.1s\n",
      "[Parallel(n_jobs=-1)]: Done 2184 tasks      | elapsed:   26.1s\n",
      "[Parallel(n_jobs=-1)]: Done 2400 out of 2400 | elapsed:   29.2s finished\n",
      "C:\\Users\\chris\\Anaconda2\\lib\\site-packages\\sklearn\\model_selection\\_search.py:841: DeprecationWarning: The default of the `iid` parameter will change from True to False in version 0.22 and will be removed in 0.24. This will change numeric results when test-set sizes are unequal.\n",
      "  DeprecationWarning)\n"
     ]
    },
    {
     "name": "stdout",
     "output_type": "stream",
     "text": [
      "Fitting 5 folds for each of 480 candidates, totalling 2400 fits\n"
     ]
    },
    {
     "name": "stderr",
     "output_type": "stream",
     "text": [
      "[Parallel(n_jobs=-1)]: Using backend LokyBackend with 4 concurrent workers.\n",
      "[Parallel(n_jobs=-1)]: Done 200 tasks      | elapsed:    1.7s\n",
      "[Parallel(n_jobs=-1)]: Done 1352 tasks      | elapsed:   14.7s\n",
      "[Parallel(n_jobs=-1)]: Done 2400 out of 2400 | elapsed:   27.9s finished\n",
      "C:\\Users\\chris\\Anaconda2\\lib\\site-packages\\sklearn\\model_selection\\_search.py:841: DeprecationWarning: The default of the `iid` parameter will change from True to False in version 0.22 and will be removed in 0.24. This will change numeric results when test-set sizes are unequal.\n",
      "  DeprecationWarning)\n"
     ]
    },
    {
     "name": "stdout",
     "output_type": "stream",
     "text": [
      "Games predicted: 245\n",
      "\n",
      "\n",
      "Now Starting Simulation Number: 172\n",
      "\n",
      "\n",
      "{'n_estimators': [10, 12, 14, 16, 18, 20, 22, 24, 26, 28], 'loss': ['ls', 'huber'], 'learning_rate': array([0.1, 0.2, 0.3, 0.4, 0.5, 0.6]), 'max_depth': [1, 2, 3, 4]}\n",
      "Fitting 5 folds for each of 480 candidates, totalling 2400 fits\n"
     ]
    },
    {
     "name": "stderr",
     "output_type": "stream",
     "text": [
      "[Parallel(n_jobs=-1)]: Using backend LokyBackend with 4 concurrent workers.\n",
      "[Parallel(n_jobs=-1)]: Done 136 tasks      | elapsed:    1.1s\n",
      "[Parallel(n_jobs=-1)]: Done 904 tasks      | elapsed:   10.8s\n",
      "[Parallel(n_jobs=-1)]: Done 2184 tasks      | elapsed:   27.3s\n",
      "[Parallel(n_jobs=-1)]: Done 2400 out of 2400 | elapsed:   30.7s finished\n",
      "C:\\Users\\chris\\Anaconda2\\lib\\site-packages\\sklearn\\model_selection\\_search.py:841: DeprecationWarning: The default of the `iid` parameter will change from True to False in version 0.22 and will be removed in 0.24. This will change numeric results when test-set sizes are unequal.\n",
      "  DeprecationWarning)\n"
     ]
    },
    {
     "name": "stdout",
     "output_type": "stream",
     "text": [
      "Fitting 5 folds for each of 480 candidates, totalling 2400 fits\n"
     ]
    },
    {
     "name": "stderr",
     "output_type": "stream",
     "text": [
      "[Parallel(n_jobs=-1)]: Using backend LokyBackend with 4 concurrent workers.\n",
      "[Parallel(n_jobs=-1)]: Done 136 tasks      | elapsed:    1.1s\n",
      "[Parallel(n_jobs=-1)]: Done 904 tasks      | elapsed:   10.5s\n",
      "[Parallel(n_jobs=-1)]: Done 2184 tasks      | elapsed:   25.0s\n",
      "[Parallel(n_jobs=-1)]: Done 2400 out of 2400 | elapsed:   28.1s finished\n",
      "C:\\Users\\chris\\Anaconda2\\lib\\site-packages\\sklearn\\model_selection\\_search.py:841: DeprecationWarning: The default of the `iid` parameter will change from True to False in version 0.22 and will be removed in 0.24. This will change numeric results when test-set sizes are unequal.\n",
      "  DeprecationWarning)\n"
     ]
    },
    {
     "name": "stdout",
     "output_type": "stream",
     "text": [
      "Games predicted: 245\n",
      "\n",
      "\n",
      "Now Starting Simulation Number: 173\n",
      "\n",
      "\n",
      "{'n_estimators': [10, 12, 14, 16, 18, 20, 22, 24, 26, 28], 'loss': ['ls', 'huber'], 'learning_rate': array([0.1, 0.2, 0.3, 0.4, 0.5, 0.6]), 'max_depth': [1, 2, 3, 4]}\n",
      "Fitting 5 folds for each of 480 candidates, totalling 2400 fits\n"
     ]
    },
    {
     "name": "stderr",
     "output_type": "stream",
     "text": [
      "[Parallel(n_jobs=-1)]: Using backend LokyBackend with 4 concurrent workers.\n",
      "[Parallel(n_jobs=-1)]: Done 104 tasks      | elapsed:    0.8s\n",
      "[Parallel(n_jobs=-1)]: Done 680 tasks      | elapsed:    7.2s\n",
      "[Parallel(n_jobs=-1)]: Done 1640 tasks      | elapsed:   18.8s\n",
      "[Parallel(n_jobs=-1)]: Done 2400 out of 2400 | elapsed:   28.2s finished\n",
      "C:\\Users\\chris\\Anaconda2\\lib\\site-packages\\sklearn\\model_selection\\_search.py:841: DeprecationWarning: The default of the `iid` parameter will change from True to False in version 0.22 and will be removed in 0.24. This will change numeric results when test-set sizes are unequal.\n",
      "  DeprecationWarning)\n"
     ]
    },
    {
     "name": "stdout",
     "output_type": "stream",
     "text": [
      "Fitting 5 folds for each of 480 candidates, totalling 2400 fits\n"
     ]
    },
    {
     "name": "stderr",
     "output_type": "stream",
     "text": [
      "[Parallel(n_jobs=-1)]: Using backend LokyBackend with 4 concurrent workers.\n",
      "[Parallel(n_jobs=-1)]: Done 168 tasks      | elapsed:    1.5s\n",
      "[Parallel(n_jobs=-1)]: Done 1128 tasks      | elapsed:   14.0s\n",
      "[Parallel(n_jobs=-1)]: Done 2400 out of 2400 | elapsed:   31.3s finished\n",
      "C:\\Users\\chris\\Anaconda2\\lib\\site-packages\\sklearn\\model_selection\\_search.py:841: DeprecationWarning: The default of the `iid` parameter will change from True to False in version 0.22 and will be removed in 0.24. This will change numeric results when test-set sizes are unequal.\n",
      "  DeprecationWarning)\n"
     ]
    },
    {
     "name": "stdout",
     "output_type": "stream",
     "text": [
      "Games predicted: 245\n",
      "\n",
      "\n",
      "Now Starting Simulation Number: 174\n",
      "\n",
      "\n",
      "{'n_estimators': [10, 12, 14, 16, 18, 20, 22, 24, 26, 28], 'loss': ['ls', 'huber'], 'learning_rate': array([0.1, 0.2, 0.3, 0.4, 0.5, 0.6]), 'max_depth': [1, 2, 3, 4]}\n",
      "Fitting 5 folds for each of 480 candidates, totalling 2400 fits\n"
     ]
    },
    {
     "name": "stderr",
     "output_type": "stream",
     "text": [
      "[Parallel(n_jobs=-1)]: Using backend LokyBackend with 4 concurrent workers.\n",
      "[Parallel(n_jobs=-1)]: Done 104 tasks      | elapsed:    0.8s\n",
      "[Parallel(n_jobs=-1)]: Done 680 tasks      | elapsed:    7.3s\n",
      "[Parallel(n_jobs=-1)]: Done 1640 tasks      | elapsed:   18.9s\n",
      "[Parallel(n_jobs=-1)]: Done 2400 out of 2400 | elapsed:   27.8s finished\n",
      "C:\\Users\\chris\\Anaconda2\\lib\\site-packages\\sklearn\\model_selection\\_search.py:841: DeprecationWarning: The default of the `iid` parameter will change from True to False in version 0.22 and will be removed in 0.24. This will change numeric results when test-set sizes are unequal.\n",
      "  DeprecationWarning)\n"
     ]
    },
    {
     "name": "stdout",
     "output_type": "stream",
     "text": [
      "Fitting 5 folds for each of 480 candidates, totalling 2400 fits\n"
     ]
    },
    {
     "name": "stderr",
     "output_type": "stream",
     "text": [
      "[Parallel(n_jobs=-1)]: Using backend LokyBackend with 4 concurrent workers.\n",
      "[Parallel(n_jobs=-1)]: Done 168 tasks      | elapsed:    1.4s\n",
      "[Parallel(n_jobs=-1)]: Done 1128 tasks      | elapsed:   12.7s\n",
      "[Parallel(n_jobs=-1)]: Done 2400 out of 2400 | elapsed:   29.0s finished\n",
      "C:\\Users\\chris\\Anaconda2\\lib\\site-packages\\sklearn\\model_selection\\_search.py:841: DeprecationWarning: The default of the `iid` parameter will change from True to False in version 0.22 and will be removed in 0.24. This will change numeric results when test-set sizes are unequal.\n",
      "  DeprecationWarning)\n"
     ]
    },
    {
     "name": "stdout",
     "output_type": "stream",
     "text": [
      "Games predicted: 245\n",
      "\n",
      "\n",
      "Now Starting Simulation Number: 175\n",
      "\n",
      "\n",
      "{'n_estimators': [10, 12, 14, 16, 18, 20, 22, 24, 26, 28], 'loss': ['ls', 'huber'], 'learning_rate': array([0.1, 0.2, 0.3, 0.4, 0.5, 0.6]), 'max_depth': [1, 2, 3, 4]}\n",
      "Fitting 5 folds for each of 480 candidates, totalling 2400 fits\n"
     ]
    },
    {
     "name": "stderr",
     "output_type": "stream",
     "text": [
      "[Parallel(n_jobs=-1)]: Using backend LokyBackend with 4 concurrent workers.\n",
      "[Parallel(n_jobs=-1)]: Done 104 tasks      | elapsed:    0.8s\n",
      "[Parallel(n_jobs=-1)]: Done 680 tasks      | elapsed:    8.0s\n",
      "[Parallel(n_jobs=-1)]: Done 1640 tasks      | elapsed:   20.6s\n",
      "[Parallel(n_jobs=-1)]: Done 2400 out of 2400 | elapsed:   29.7s finished\n",
      "C:\\Users\\chris\\Anaconda2\\lib\\site-packages\\sklearn\\model_selection\\_search.py:841: DeprecationWarning: The default of the `iid` parameter will change from True to False in version 0.22 and will be removed in 0.24. This will change numeric results when test-set sizes are unequal.\n",
      "  DeprecationWarning)\n"
     ]
    },
    {
     "name": "stdout",
     "output_type": "stream",
     "text": [
      "Fitting 5 folds for each of 480 candidates, totalling 2400 fits\n"
     ]
    },
    {
     "name": "stderr",
     "output_type": "stream",
     "text": [
      "[Parallel(n_jobs=-1)]: Using backend LokyBackend with 4 concurrent workers.\n",
      "[Parallel(n_jobs=-1)]: Done 168 tasks      | elapsed:    1.4s\n",
      "[Parallel(n_jobs=-1)]: Done 1128 tasks      | elapsed:   12.5s\n",
      "[Parallel(n_jobs=-1)]: Done 2400 out of 2400 | elapsed:   27.9s finished\n",
      "C:\\Users\\chris\\Anaconda2\\lib\\site-packages\\sklearn\\model_selection\\_search.py:841: DeprecationWarning: The default of the `iid` parameter will change from True to False in version 0.22 and will be removed in 0.24. This will change numeric results when test-set sizes are unequal.\n",
      "  DeprecationWarning)\n"
     ]
    },
    {
     "name": "stdout",
     "output_type": "stream",
     "text": [
      "Games predicted: 245\n",
      "\n",
      "\n",
      "Now Starting Simulation Number: 176\n",
      "\n",
      "\n",
      "{'n_estimators': [10, 12, 14, 16, 18, 20, 22, 24, 26, 28], 'loss': ['ls', 'huber'], 'learning_rate': array([0.1, 0.2, 0.3, 0.4, 0.5, 0.6]), 'max_depth': [1, 2, 3, 4]}\n",
      "Fitting 5 folds for each of 480 candidates, totalling 2400 fits\n"
     ]
    },
    {
     "name": "stderr",
     "output_type": "stream",
     "text": [
      "[Parallel(n_jobs=-1)]: Using backend LokyBackend with 4 concurrent workers.\n",
      "[Parallel(n_jobs=-1)]: Done 136 tasks      | elapsed:    1.0s\n",
      "[Parallel(n_jobs=-1)]: Done 904 tasks      | elapsed:   10.4s\n",
      "[Parallel(n_jobs=-1)]: Done 2184 tasks      | elapsed:   26.6s\n",
      "[Parallel(n_jobs=-1)]: Done 2400 out of 2400 | elapsed:   30.1s finished\n",
      "C:\\Users\\chris\\Anaconda2\\lib\\site-packages\\sklearn\\model_selection\\_search.py:841: DeprecationWarning: The default of the `iid` parameter will change from True to False in version 0.22 and will be removed in 0.24. This will change numeric results when test-set sizes are unequal.\n",
      "  DeprecationWarning)\n"
     ]
    },
    {
     "name": "stdout",
     "output_type": "stream",
     "text": [
      "Fitting 5 folds for each of 480 candidates, totalling 2400 fits\n"
     ]
    },
    {
     "name": "stderr",
     "output_type": "stream",
     "text": [
      "[Parallel(n_jobs=-1)]: Using backend LokyBackend with 4 concurrent workers.\n",
      "[Parallel(n_jobs=-1)]: Done 200 tasks      | elapsed:    2.1s\n",
      "[Parallel(n_jobs=-1)]: Done 1352 tasks      | elapsed:   16.5s\n",
      "[Parallel(n_jobs=-1)]: Done 2400 out of 2400 | elapsed:   29.2s finished\n",
      "C:\\Users\\chris\\Anaconda2\\lib\\site-packages\\sklearn\\model_selection\\_search.py:841: DeprecationWarning: The default of the `iid` parameter will change from True to False in version 0.22 and will be removed in 0.24. This will change numeric results when test-set sizes are unequal.\n",
      "  DeprecationWarning)\n"
     ]
    },
    {
     "name": "stdout",
     "output_type": "stream",
     "text": [
      "Games predicted: 245\n",
      "\n",
      "\n",
      "Now Starting Simulation Number: 177\n",
      "\n",
      "\n",
      "{'n_estimators': [10, 12, 14, 16, 18, 20, 22, 24, 26, 28], 'loss': ['ls', 'huber'], 'learning_rate': array([0.1, 0.2, 0.3, 0.4, 0.5, 0.6]), 'max_depth': [1, 2, 3, 4]}\n",
      "Fitting 5 folds for each of 480 candidates, totalling 2400 fits\n"
     ]
    },
    {
     "name": "stderr",
     "output_type": "stream",
     "text": [
      "[Parallel(n_jobs=-1)]: Using backend LokyBackend with 4 concurrent workers.\n",
      "[Parallel(n_jobs=-1)]: Done 104 tasks      | elapsed:    0.7s\n",
      "[Parallel(n_jobs=-1)]: Done 680 tasks      | elapsed:    7.1s\n",
      "[Parallel(n_jobs=-1)]: Done 1640 tasks      | elapsed:   18.8s\n",
      "[Parallel(n_jobs=-1)]: Done 2400 out of 2400 | elapsed:   27.8s finished\n",
      "C:\\Users\\chris\\Anaconda2\\lib\\site-packages\\sklearn\\model_selection\\_search.py:841: DeprecationWarning: The default of the `iid` parameter will change from True to False in version 0.22 and will be removed in 0.24. This will change numeric results when test-set sizes are unequal.\n",
      "  DeprecationWarning)\n"
     ]
    },
    {
     "name": "stdout",
     "output_type": "stream",
     "text": [
      "Fitting 5 folds for each of 480 candidates, totalling 2400 fits\n"
     ]
    },
    {
     "name": "stderr",
     "output_type": "stream",
     "text": [
      "[Parallel(n_jobs=-1)]: Using backend LokyBackend with 4 concurrent workers.\n",
      "[Parallel(n_jobs=-1)]: Done 136 tasks      | elapsed:    1.1s\n",
      "[Parallel(n_jobs=-1)]: Done 904 tasks      | elapsed:   10.3s\n",
      "[Parallel(n_jobs=-1)]: Done 2184 tasks      | elapsed:   26.5s\n",
      "[Parallel(n_jobs=-1)]: Done 2400 out of 2400 | elapsed:   30.1s finished\n",
      "C:\\Users\\chris\\Anaconda2\\lib\\site-packages\\sklearn\\model_selection\\_search.py:841: DeprecationWarning: The default of the `iid` parameter will change from True to False in version 0.22 and will be removed in 0.24. This will change numeric results when test-set sizes are unequal.\n",
      "  DeprecationWarning)\n"
     ]
    },
    {
     "name": "stdout",
     "output_type": "stream",
     "text": [
      "Games predicted: 245\n",
      "\n",
      "\n",
      "Now Starting Simulation Number: 178\n",
      "\n",
      "\n",
      "{'n_estimators': [10, 12, 14, 16, 18, 20, 22, 24, 26, 28], 'loss': ['ls', 'huber'], 'learning_rate': array([0.1, 0.2, 0.3, 0.4, 0.5, 0.6]), 'max_depth': [1, 2, 3, 4]}\n",
      "Fitting 5 folds for each of 480 candidates, totalling 2400 fits\n"
     ]
    },
    {
     "name": "stderr",
     "output_type": "stream",
     "text": [
      "[Parallel(n_jobs=-1)]: Using backend LokyBackend with 4 concurrent workers.\n",
      "[Parallel(n_jobs=-1)]: Done 104 tasks      | elapsed:    0.8s\n",
      "[Parallel(n_jobs=-1)]: Done 680 tasks      | elapsed:    7.8s\n",
      "[Parallel(n_jobs=-1)]: Done 1640 tasks      | elapsed:   19.4s\n",
      "[Parallel(n_jobs=-1)]: Done 2400 out of 2400 | elapsed:   29.3s finished\n",
      "C:\\Users\\chris\\Anaconda2\\lib\\site-packages\\sklearn\\model_selection\\_search.py:841: DeprecationWarning: The default of the `iid` parameter will change from True to False in version 0.22 and will be removed in 0.24. This will change numeric results when test-set sizes are unequal.\n",
      "  DeprecationWarning)\n"
     ]
    },
    {
     "name": "stdout",
     "output_type": "stream",
     "text": [
      "Fitting 5 folds for each of 480 candidates, totalling 2400 fits\n"
     ]
    },
    {
     "name": "stderr",
     "output_type": "stream",
     "text": [
      "[Parallel(n_jobs=-1)]: Using backend LokyBackend with 4 concurrent workers.\n",
      "[Parallel(n_jobs=-1)]: Done 136 tasks      | elapsed:    1.1s\n",
      "[Parallel(n_jobs=-1)]: Done 904 tasks      | elapsed:   10.2s\n",
      "[Parallel(n_jobs=-1)]: Done 2184 tasks      | elapsed:   25.4s\n",
      "[Parallel(n_jobs=-1)]: Done 2400 out of 2400 | elapsed:   28.9s finished\n",
      "C:\\Users\\chris\\Anaconda2\\lib\\site-packages\\sklearn\\model_selection\\_search.py:841: DeprecationWarning: The default of the `iid` parameter will change from True to False in version 0.22 and will be removed in 0.24. This will change numeric results when test-set sizes are unequal.\n",
      "  DeprecationWarning)\n"
     ]
    },
    {
     "name": "stdout",
     "output_type": "stream",
     "text": [
      "Games predicted: 245\n",
      "\n",
      "\n",
      "Now Starting Simulation Number: 179\n",
      "\n",
      "\n",
      "{'n_estimators': [10, 12, 14, 16, 18, 20, 22, 24, 26, 28], 'loss': ['ls', 'huber'], 'learning_rate': array([0.1, 0.2, 0.3, 0.4, 0.5, 0.6]), 'max_depth': [1, 2, 3, 4]}\n",
      "Fitting 5 folds for each of 480 candidates, totalling 2400 fits\n"
     ]
    },
    {
     "name": "stderr",
     "output_type": "stream",
     "text": [
      "[Parallel(n_jobs=-1)]: Using backend LokyBackend with 4 concurrent workers.\n",
      "[Parallel(n_jobs=-1)]: Done 136 tasks      | elapsed:    1.1s\n",
      "[Parallel(n_jobs=-1)]: Done 904 tasks      | elapsed:   11.0s\n",
      "[Parallel(n_jobs=-1)]: Done 2184 tasks      | elapsed:   26.7s\n",
      "[Parallel(n_jobs=-1)]: Done 2400 out of 2400 | elapsed:   29.9s finished\n",
      "C:\\Users\\chris\\Anaconda2\\lib\\site-packages\\sklearn\\model_selection\\_search.py:841: DeprecationWarning: The default of the `iid` parameter will change from True to False in version 0.22 and will be removed in 0.24. This will change numeric results when test-set sizes are unequal.\n",
      "  DeprecationWarning)\n"
     ]
    },
    {
     "name": "stdout",
     "output_type": "stream",
     "text": [
      "Fitting 5 folds for each of 480 candidates, totalling 2400 fits\n"
     ]
    },
    {
     "name": "stderr",
     "output_type": "stream",
     "text": [
      "[Parallel(n_jobs=-1)]: Using backend LokyBackend with 4 concurrent workers.\n",
      "[Parallel(n_jobs=-1)]: Done 152 tasks      | elapsed:    1.3s\n",
      "[Parallel(n_jobs=-1)]: Done 1304 tasks      | elapsed:   14.4s\n",
      "[Parallel(n_jobs=-1)]: Done 2400 out of 2400 | elapsed:   27.6s finished\n",
      "C:\\Users\\chris\\Anaconda2\\lib\\site-packages\\sklearn\\model_selection\\_search.py:841: DeprecationWarning: The default of the `iid` parameter will change from True to False in version 0.22 and will be removed in 0.24. This will change numeric results when test-set sizes are unequal.\n",
      "  DeprecationWarning)\n"
     ]
    },
    {
     "name": "stdout",
     "output_type": "stream",
     "text": [
      "Games predicted: 245\n",
      "\n",
      "\n",
      "Now Starting Simulation Number: 180\n",
      "\n",
      "\n",
      "{'n_estimators': [10, 12, 14, 16, 18, 20, 22, 24, 26, 28], 'loss': ['ls', 'huber'], 'learning_rate': array([0.1, 0.2, 0.3, 0.4, 0.5, 0.6]), 'max_depth': [1, 2, 3, 4]}\n",
      "Fitting 5 folds for each of 480 candidates, totalling 2400 fits\n"
     ]
    },
    {
     "name": "stderr",
     "output_type": "stream",
     "text": [
      "[Parallel(n_jobs=-1)]: Using backend LokyBackend with 4 concurrent workers.\n",
      "[Parallel(n_jobs=-1)]: Done 104 tasks      | elapsed:    0.7s\n",
      "[Parallel(n_jobs=-1)]: Done 680 tasks      | elapsed:    7.6s\n",
      "[Parallel(n_jobs=-1)]: Done 1640 tasks      | elapsed:   20.0s\n",
      "[Parallel(n_jobs=-1)]: Done 2400 out of 2400 | elapsed:   30.2s finished\n",
      "C:\\Users\\chris\\Anaconda2\\lib\\site-packages\\sklearn\\model_selection\\_search.py:841: DeprecationWarning: The default of the `iid` parameter will change from True to False in version 0.22 and will be removed in 0.24. This will change numeric results when test-set sizes are unequal.\n",
      "  DeprecationWarning)\n"
     ]
    },
    {
     "name": "stdout",
     "output_type": "stream",
     "text": [
      "Fitting 5 folds for each of 480 candidates, totalling 2400 fits\n"
     ]
    },
    {
     "name": "stderr",
     "output_type": "stream",
     "text": [
      "[Parallel(n_jobs=-1)]: Using backend LokyBackend with 4 concurrent workers.\n",
      "[Parallel(n_jobs=-1)]: Done 104 tasks      | elapsed:    0.8s\n",
      "[Parallel(n_jobs=-1)]: Done 680 tasks      | elapsed:    8.0s\n",
      "[Parallel(n_jobs=-1)]: Done 1640 tasks      | elapsed:   19.5s\n",
      "[Parallel(n_jobs=-1)]: Done 2400 out of 2400 | elapsed:   28.7s finished\n",
      "C:\\Users\\chris\\Anaconda2\\lib\\site-packages\\sklearn\\model_selection\\_search.py:841: DeprecationWarning: The default of the `iid` parameter will change from True to False in version 0.22 and will be removed in 0.24. This will change numeric results when test-set sizes are unequal.\n",
      "  DeprecationWarning)\n"
     ]
    },
    {
     "name": "stdout",
     "output_type": "stream",
     "text": [
      "Games predicted: 245\n",
      "\n",
      "\n",
      "Now Starting Simulation Number: 181\n",
      "\n",
      "\n",
      "{'n_estimators': [10, 12, 14, 16, 18, 20, 22, 24, 26, 28], 'loss': ['ls', 'huber'], 'learning_rate': array([0.1, 0.2, 0.3, 0.4, 0.5, 0.6]), 'max_depth': [1, 2, 3, 4]}\n",
      "Fitting 5 folds for each of 480 candidates, totalling 2400 fits\n"
     ]
    },
    {
     "name": "stderr",
     "output_type": "stream",
     "text": [
      "[Parallel(n_jobs=-1)]: Using backend LokyBackend with 4 concurrent workers.\n",
      "[Parallel(n_jobs=-1)]: Done 136 tasks      | elapsed:    1.1s\n",
      "[Parallel(n_jobs=-1)]: Done 904 tasks      | elapsed:   10.1s\n",
      "[Parallel(n_jobs=-1)]: Done 2184 tasks      | elapsed:   25.5s\n",
      "[Parallel(n_jobs=-1)]: Done 2400 out of 2400 | elapsed:   29.0s finished\n",
      "C:\\Users\\chris\\Anaconda2\\lib\\site-packages\\sklearn\\model_selection\\_search.py:841: DeprecationWarning: The default of the `iid` parameter will change from True to False in version 0.22 and will be removed in 0.24. This will change numeric results when test-set sizes are unequal.\n",
      "  DeprecationWarning)\n"
     ]
    },
    {
     "name": "stdout",
     "output_type": "stream",
     "text": [
      "Fitting 5 folds for each of 480 candidates, totalling 2400 fits\n"
     ]
    },
    {
     "name": "stderr",
     "output_type": "stream",
     "text": [
      "[Parallel(n_jobs=-1)]: Using backend LokyBackend with 4 concurrent workers.\n",
      "[Parallel(n_jobs=-1)]: Done 136 tasks      | elapsed:    1.2s\n",
      "[Parallel(n_jobs=-1)]: Done 904 tasks      | elapsed:   11.2s\n",
      "[Parallel(n_jobs=-1)]: Done 2184 tasks      | elapsed:   26.2s\n",
      "[Parallel(n_jobs=-1)]: Done 2400 out of 2400 | elapsed:   29.8s finished\n",
      "C:\\Users\\chris\\Anaconda2\\lib\\site-packages\\sklearn\\model_selection\\_search.py:841: DeprecationWarning: The default of the `iid` parameter will change from True to False in version 0.22 and will be removed in 0.24. This will change numeric results when test-set sizes are unequal.\n",
      "  DeprecationWarning)\n"
     ]
    },
    {
     "name": "stdout",
     "output_type": "stream",
     "text": [
      "Games predicted: 245\n",
      "\n",
      "\n",
      "Now Starting Simulation Number: 182\n",
      "\n",
      "\n",
      "{'n_estimators': [10, 12, 14, 16, 18, 20, 22, 24, 26, 28], 'loss': ['ls', 'huber'], 'learning_rate': array([0.1, 0.2, 0.3, 0.4, 0.5, 0.6]), 'max_depth': [1, 2, 3, 4]}\n",
      "Fitting 5 folds for each of 480 candidates, totalling 2400 fits\n"
     ]
    },
    {
     "name": "stderr",
     "output_type": "stream",
     "text": [
      "[Parallel(n_jobs=-1)]: Using backend LokyBackend with 4 concurrent workers.\n",
      "[Parallel(n_jobs=-1)]: Done 152 tasks      | elapsed:    1.3s\n",
      "[Parallel(n_jobs=-1)]: Done 1304 tasks      | elapsed:   14.6s\n",
      "[Parallel(n_jobs=-1)]: Done 2400 out of 2400 | elapsed:   28.2s finished\n",
      "C:\\Users\\chris\\Anaconda2\\lib\\site-packages\\sklearn\\model_selection\\_search.py:841: DeprecationWarning: The default of the `iid` parameter will change from True to False in version 0.22 and will be removed in 0.24. This will change numeric results when test-set sizes are unequal.\n",
      "  DeprecationWarning)\n"
     ]
    },
    {
     "name": "stdout",
     "output_type": "stream",
     "text": [
      "Fitting 5 folds for each of 480 candidates, totalling 2400 fits\n"
     ]
    },
    {
     "name": "stderr",
     "output_type": "stream",
     "text": [
      "[Parallel(n_jobs=-1)]: Using backend LokyBackend with 4 concurrent workers.\n",
      "[Parallel(n_jobs=-1)]: Done 168 tasks      | elapsed:    1.4s\n",
      "[Parallel(n_jobs=-1)]: Done 1128 tasks      | elapsed:   13.2s\n",
      "[Parallel(n_jobs=-1)]: Done 2400 out of 2400 | elapsed:   30.0s finished\n",
      "C:\\Users\\chris\\Anaconda2\\lib\\site-packages\\sklearn\\model_selection\\_search.py:841: DeprecationWarning: The default of the `iid` parameter will change from True to False in version 0.22 and will be removed in 0.24. This will change numeric results when test-set sizes are unequal.\n",
      "  DeprecationWarning)\n"
     ]
    },
    {
     "name": "stdout",
     "output_type": "stream",
     "text": [
      "Games predicted: 245\n",
      "\n",
      "\n",
      "Now Starting Simulation Number: 183\n",
      "\n",
      "\n",
      "{'n_estimators': [10, 12, 14, 16, 18, 20, 22, 24, 26, 28], 'loss': ['ls', 'huber'], 'learning_rate': array([0.1, 0.2, 0.3, 0.4, 0.5, 0.6]), 'max_depth': [1, 2, 3, 4]}\n",
      "Fitting 5 folds for each of 480 candidates, totalling 2400 fits\n"
     ]
    },
    {
     "name": "stderr",
     "output_type": "stream",
     "text": [
      "[Parallel(n_jobs=-1)]: Using backend LokyBackend with 4 concurrent workers.\n",
      "[Parallel(n_jobs=-1)]: Done 104 tasks      | elapsed:    0.8s\n",
      "[Parallel(n_jobs=-1)]: Done 680 tasks      | elapsed:    7.4s\n",
      "[Parallel(n_jobs=-1)]: Done 1640 tasks      | elapsed:   18.9s\n",
      "[Parallel(n_jobs=-1)]: Done 2400 out of 2400 | elapsed:   27.8s finished\n",
      "C:\\Users\\chris\\Anaconda2\\lib\\site-packages\\sklearn\\model_selection\\_search.py:841: DeprecationWarning: The default of the `iid` parameter will change from True to False in version 0.22 and will be removed in 0.24. This will change numeric results when test-set sizes are unequal.\n",
      "  DeprecationWarning)\n"
     ]
    },
    {
     "name": "stdout",
     "output_type": "stream",
     "text": [
      "Fitting 5 folds for each of 480 candidates, totalling 2400 fits\n"
     ]
    },
    {
     "name": "stderr",
     "output_type": "stream",
     "text": [
      "[Parallel(n_jobs=-1)]: Using backend LokyBackend with 4 concurrent workers.\n",
      "[Parallel(n_jobs=-1)]: Done 136 tasks      | elapsed:    1.0s\n",
      "[Parallel(n_jobs=-1)]: Done 904 tasks      | elapsed:    9.9s\n",
      "[Parallel(n_jobs=-1)]: Done 2184 tasks      | elapsed:   25.3s\n",
      "[Parallel(n_jobs=-1)]: Done 2400 out of 2400 | elapsed:   28.9s finished\n",
      "C:\\Users\\chris\\Anaconda2\\lib\\site-packages\\sklearn\\model_selection\\_search.py:841: DeprecationWarning: The default of the `iid` parameter will change from True to False in version 0.22 and will be removed in 0.24. This will change numeric results when test-set sizes are unequal.\n",
      "  DeprecationWarning)\n"
     ]
    },
    {
     "name": "stdout",
     "output_type": "stream",
     "text": [
      "Games predicted: 245\n",
      "\n",
      "\n",
      "Now Starting Simulation Number: 184\n",
      "\n",
      "\n",
      "{'n_estimators': [10, 12, 14, 16, 18, 20, 22, 24, 26, 28], 'loss': ['ls', 'huber'], 'learning_rate': array([0.1, 0.2, 0.3, 0.4, 0.5, 0.6]), 'max_depth': [1, 2, 3, 4]}\n",
      "Fitting 5 folds for each of 480 candidates, totalling 2400 fits\n"
     ]
    },
    {
     "name": "stderr",
     "output_type": "stream",
     "text": [
      "[Parallel(n_jobs=-1)]: Using backend LokyBackend with 4 concurrent workers.\n",
      "[Parallel(n_jobs=-1)]: Done 136 tasks      | elapsed:    1.2s\n",
      "[Parallel(n_jobs=-1)]: Done 904 tasks      | elapsed:   11.2s\n",
      "[Parallel(n_jobs=-1)]: Done 2184 tasks      | elapsed:   26.9s\n",
      "[Parallel(n_jobs=-1)]: Done 2400 out of 2400 | elapsed:   30.1s finished\n",
      "C:\\Users\\chris\\Anaconda2\\lib\\site-packages\\sklearn\\model_selection\\_search.py:841: DeprecationWarning: The default of the `iid` parameter will change from True to False in version 0.22 and will be removed in 0.24. This will change numeric results when test-set sizes are unequal.\n",
      "  DeprecationWarning)\n"
     ]
    },
    {
     "name": "stdout",
     "output_type": "stream",
     "text": [
      "Fitting 5 folds for each of 480 candidates, totalling 2400 fits\n"
     ]
    },
    {
     "name": "stderr",
     "output_type": "stream",
     "text": [
      "[Parallel(n_jobs=-1)]: Using backend LokyBackend with 4 concurrent workers.\n",
      "[Parallel(n_jobs=-1)]: Done 152 tasks      | elapsed:    1.2s\n",
      "[Parallel(n_jobs=-1)]: Done 1304 tasks      | elapsed:   14.5s\n",
      "[Parallel(n_jobs=-1)]: Done 2400 out of 2400 | elapsed:   27.6s finished\n",
      "C:\\Users\\chris\\Anaconda2\\lib\\site-packages\\sklearn\\model_selection\\_search.py:841: DeprecationWarning: The default of the `iid` parameter will change from True to False in version 0.22 and will be removed in 0.24. This will change numeric results when test-set sizes are unequal.\n",
      "  DeprecationWarning)\n"
     ]
    },
    {
     "name": "stdout",
     "output_type": "stream",
     "text": [
      "Games predicted: 245\n",
      "\n",
      "\n",
      "Now Starting Simulation Number: 185\n",
      "\n",
      "\n",
      "{'n_estimators': [10, 12, 14, 16, 18, 20, 22, 24, 26, 28], 'loss': ['ls', 'huber'], 'learning_rate': array([0.1, 0.2, 0.3, 0.4, 0.5, 0.6]), 'max_depth': [1, 2, 3, 4]}\n",
      "Fitting 5 folds for each of 480 candidates, totalling 2400 fits\n"
     ]
    },
    {
     "name": "stderr",
     "output_type": "stream",
     "text": [
      "[Parallel(n_jobs=-1)]: Using backend LokyBackend with 4 concurrent workers.\n",
      "[Parallel(n_jobs=-1)]: Done 104 tasks      | elapsed:    0.8s\n",
      "[Parallel(n_jobs=-1)]: Done 680 tasks      | elapsed:    7.2s\n",
      "[Parallel(n_jobs=-1)]: Done 1640 tasks      | elapsed:   19.1s\n",
      "[Parallel(n_jobs=-1)]: Done 2400 out of 2400 | elapsed:   28.8s finished\n",
      "C:\\Users\\chris\\Anaconda2\\lib\\site-packages\\sklearn\\model_selection\\_search.py:841: DeprecationWarning: The default of the `iid` parameter will change from True to False in version 0.22 and will be removed in 0.24. This will change numeric results when test-set sizes are unequal.\n",
      "  DeprecationWarning)\n"
     ]
    },
    {
     "name": "stdout",
     "output_type": "stream",
     "text": [
      "Fitting 5 folds for each of 480 candidates, totalling 2400 fits\n"
     ]
    },
    {
     "name": "stderr",
     "output_type": "stream",
     "text": [
      "[Parallel(n_jobs=-1)]: Using backend LokyBackend with 4 concurrent workers.\n",
      "[Parallel(n_jobs=-1)]: Done 136 tasks      | elapsed:    1.1s\n",
      "[Parallel(n_jobs=-1)]: Done 904 tasks      | elapsed:   11.0s\n",
      "[Parallel(n_jobs=-1)]: Done 2184 tasks      | elapsed:   25.9s\n",
      "[Parallel(n_jobs=-1)]: Done 2400 out of 2400 | elapsed:   29.1s finished\n",
      "C:\\Users\\chris\\Anaconda2\\lib\\site-packages\\sklearn\\model_selection\\_search.py:841: DeprecationWarning: The default of the `iid` parameter will change from True to False in version 0.22 and will be removed in 0.24. This will change numeric results when test-set sizes are unequal.\n",
      "  DeprecationWarning)\n"
     ]
    },
    {
     "name": "stdout",
     "output_type": "stream",
     "text": [
      "Games predicted: 245\n",
      "\n",
      "\n",
      "Now Starting Simulation Number: 186\n",
      "\n",
      "\n",
      "{'n_estimators': [10, 12, 14, 16, 18, 20, 22, 24, 26, 28], 'loss': ['ls', 'huber'], 'learning_rate': array([0.1, 0.2, 0.3, 0.4, 0.5, 0.6]), 'max_depth': [1, 2, 3, 4]}\n",
      "Fitting 5 folds for each of 480 candidates, totalling 2400 fits\n"
     ]
    },
    {
     "name": "stderr",
     "output_type": "stream",
     "text": [
      "[Parallel(n_jobs=-1)]: Using backend LokyBackend with 4 concurrent workers.\n",
      "[Parallel(n_jobs=-1)]: Done 104 tasks      | elapsed:    0.7s\n",
      "[Parallel(n_jobs=-1)]: Done 680 tasks      | elapsed:    7.2s\n",
      "[Parallel(n_jobs=-1)]: Done 1640 tasks      | elapsed:   18.8s\n",
      "[Parallel(n_jobs=-1)]: Done 2400 out of 2400 | elapsed:   27.8s finished\n",
      "C:\\Users\\chris\\Anaconda2\\lib\\site-packages\\sklearn\\model_selection\\_search.py:841: DeprecationWarning: The default of the `iid` parameter will change from True to False in version 0.22 and will be removed in 0.24. This will change numeric results when test-set sizes are unequal.\n",
      "  DeprecationWarning)\n"
     ]
    },
    {
     "name": "stdout",
     "output_type": "stream",
     "text": [
      "Fitting 5 folds for each of 480 candidates, totalling 2400 fits\n"
     ]
    },
    {
     "name": "stderr",
     "output_type": "stream",
     "text": [
      "[Parallel(n_jobs=-1)]: Using backend LokyBackend with 4 concurrent workers.\n",
      "[Parallel(n_jobs=-1)]: Done 136 tasks      | elapsed:    1.1s\n",
      "[Parallel(n_jobs=-1)]: Done 904 tasks      | elapsed:   10.3s\n",
      "[Parallel(n_jobs=-1)]: Done 2184 tasks      | elapsed:   26.1s\n",
      "[Parallel(n_jobs=-1)]: Done 2400 out of 2400 | elapsed:   29.6s finished\n",
      "C:\\Users\\chris\\Anaconda2\\lib\\site-packages\\sklearn\\model_selection\\_search.py:841: DeprecationWarning: The default of the `iid` parameter will change from True to False in version 0.22 and will be removed in 0.24. This will change numeric results when test-set sizes are unequal.\n",
      "  DeprecationWarning)\n"
     ]
    },
    {
     "name": "stdout",
     "output_type": "stream",
     "text": [
      "Games predicted: 245\n",
      "\n",
      "\n",
      "Now Starting Simulation Number: 187\n",
      "\n",
      "\n",
      "{'n_estimators': [10, 12, 14, 16, 18, 20, 22, 24, 26, 28], 'loss': ['ls', 'huber'], 'learning_rate': array([0.1, 0.2, 0.3, 0.4, 0.5, 0.6]), 'max_depth': [1, 2, 3, 4]}\n",
      "Fitting 5 folds for each of 480 candidates, totalling 2400 fits\n"
     ]
    },
    {
     "name": "stderr",
     "output_type": "stream",
     "text": [
      "[Parallel(n_jobs=-1)]: Using backend LokyBackend with 4 concurrent workers.\n",
      "[Parallel(n_jobs=-1)]: Done 104 tasks      | elapsed:    0.9s\n",
      "[Parallel(n_jobs=-1)]: Done 680 tasks      | elapsed:    8.0s\n",
      "[Parallel(n_jobs=-1)]: Done 1640 tasks      | elapsed:   20.4s\n",
      "[Parallel(n_jobs=-1)]: Done 2400 out of 2400 | elapsed:   29.5s finished\n",
      "C:\\Users\\chris\\Anaconda2\\lib\\site-packages\\sklearn\\model_selection\\_search.py:841: DeprecationWarning: The default of the `iid` parameter will change from True to False in version 0.22 and will be removed in 0.24. This will change numeric results when test-set sizes are unequal.\n",
      "  DeprecationWarning)\n"
     ]
    },
    {
     "name": "stdout",
     "output_type": "stream",
     "text": [
      "Fitting 5 folds for each of 480 candidates, totalling 2400 fits\n"
     ]
    },
    {
     "name": "stderr",
     "output_type": "stream",
     "text": [
      "[Parallel(n_jobs=-1)]: Using backend LokyBackend with 4 concurrent workers.\n",
      "[Parallel(n_jobs=-1)]: Done 136 tasks      | elapsed:    1.1s\n",
      "[Parallel(n_jobs=-1)]: Done 904 tasks      | elapsed:   10.0s\n",
      "[Parallel(n_jobs=-1)]: Done 2184 tasks      | elapsed:   24.5s\n",
      "[Parallel(n_jobs=-1)]: Done 2400 out of 2400 | elapsed:   27.7s finished\n",
      "C:\\Users\\chris\\Anaconda2\\lib\\site-packages\\sklearn\\model_selection\\_search.py:841: DeprecationWarning: The default of the `iid` parameter will change from True to False in version 0.22 and will be removed in 0.24. This will change numeric results when test-set sizes are unequal.\n",
      "  DeprecationWarning)\n"
     ]
    },
    {
     "name": "stdout",
     "output_type": "stream",
     "text": [
      "Games predicted: 245\n",
      "\n",
      "\n",
      "Now Starting Simulation Number: 188\n",
      "\n",
      "\n",
      "{'n_estimators': [10, 12, 14, 16, 18, 20, 22, 24, 26, 28], 'loss': ['ls', 'huber'], 'learning_rate': array([0.1, 0.2, 0.3, 0.4, 0.5, 0.6]), 'max_depth': [1, 2, 3, 4]}\n",
      "Fitting 5 folds for each of 480 candidates, totalling 2400 fits\n"
     ]
    },
    {
     "name": "stderr",
     "output_type": "stream",
     "text": [
      "[Parallel(n_jobs=-1)]: Using backend LokyBackend with 4 concurrent workers.\n",
      "[Parallel(n_jobs=-1)]: Done 104 tasks      | elapsed:    0.8s\n",
      "[Parallel(n_jobs=-1)]: Done 680 tasks      | elapsed:    7.3s\n",
      "[Parallel(n_jobs=-1)]: Done 1640 tasks      | elapsed:   19.6s\n",
      "[Parallel(n_jobs=-1)]: Done 2400 out of 2400 | elapsed:   29.5s finished\n",
      "C:\\Users\\chris\\Anaconda2\\lib\\site-packages\\sklearn\\model_selection\\_search.py:841: DeprecationWarning: The default of the `iid` parameter will change from True to False in version 0.22 and will be removed in 0.24. This will change numeric results when test-set sizes are unequal.\n",
      "  DeprecationWarning)\n"
     ]
    },
    {
     "name": "stdout",
     "output_type": "stream",
     "text": [
      "Fitting 5 folds for each of 480 candidates, totalling 2400 fits\n"
     ]
    },
    {
     "name": "stderr",
     "output_type": "stream",
     "text": [
      "[Parallel(n_jobs=-1)]: Using backend LokyBackend with 4 concurrent workers.\n",
      "[Parallel(n_jobs=-1)]: Done 168 tasks      | elapsed:    1.6s\n",
      "[Parallel(n_jobs=-1)]: Done 1128 tasks      | elapsed:   14.0s\n",
      "[Parallel(n_jobs=-1)]: Done 2400 out of 2400 | elapsed:   29.4s finished\n",
      "C:\\Users\\chris\\Anaconda2\\lib\\site-packages\\sklearn\\model_selection\\_search.py:841: DeprecationWarning: The default of the `iid` parameter will change from True to False in version 0.22 and will be removed in 0.24. This will change numeric results when test-set sizes are unequal.\n",
      "  DeprecationWarning)\n"
     ]
    },
    {
     "name": "stdout",
     "output_type": "stream",
     "text": [
      "Games predicted: 245\n",
      "\n",
      "\n",
      "Now Starting Simulation Number: 189\n",
      "\n",
      "\n",
      "{'n_estimators': [10, 12, 14, 16, 18, 20, 22, 24, 26, 28], 'loss': ['ls', 'huber'], 'learning_rate': array([0.1, 0.2, 0.3, 0.4, 0.5, 0.6]), 'max_depth': [1, 2, 3, 4]}\n",
      "Fitting 5 folds for each of 480 candidates, totalling 2400 fits\n"
     ]
    },
    {
     "name": "stderr",
     "output_type": "stream",
     "text": [
      "[Parallel(n_jobs=-1)]: Using backend LokyBackend with 4 concurrent workers.\n",
      "[Parallel(n_jobs=-1)]: Done 136 tasks      | elapsed:    1.1s\n",
      "[Parallel(n_jobs=-1)]: Done 904 tasks      | elapsed:   10.3s\n",
      "[Parallel(n_jobs=-1)]: Done 2184 tasks      | elapsed:   25.4s\n",
      "[Parallel(n_jobs=-1)]: Done 2400 out of 2400 | elapsed:   28.7s finished\n",
      "C:\\Users\\chris\\Anaconda2\\lib\\site-packages\\sklearn\\model_selection\\_search.py:841: DeprecationWarning: The default of the `iid` parameter will change from True to False in version 0.22 and will be removed in 0.24. This will change numeric results when test-set sizes are unequal.\n",
      "  DeprecationWarning)\n"
     ]
    },
    {
     "name": "stdout",
     "output_type": "stream",
     "text": [
      "Fitting 5 folds for each of 480 candidates, totalling 2400 fits\n"
     ]
    },
    {
     "name": "stderr",
     "output_type": "stream",
     "text": [
      "[Parallel(n_jobs=-1)]: Using backend LokyBackend with 4 concurrent workers.\n",
      "[Parallel(n_jobs=-1)]: Done 168 tasks      | elapsed:    1.4s\n",
      "[Parallel(n_jobs=-1)]: Done 1128 tasks      | elapsed:   13.1s\n",
      "[Parallel(n_jobs=-1)]: Done 2400 out of 2400 | elapsed:   30.1s finished\n",
      "C:\\Users\\chris\\Anaconda2\\lib\\site-packages\\sklearn\\model_selection\\_search.py:841: DeprecationWarning: The default of the `iid` parameter will change from True to False in version 0.22 and will be removed in 0.24. This will change numeric results when test-set sizes are unequal.\n",
      "  DeprecationWarning)\n"
     ]
    },
    {
     "name": "stdout",
     "output_type": "stream",
     "text": [
      "Games predicted: 245\n",
      "\n",
      "\n",
      "Now Starting Simulation Number: 190\n",
      "\n",
      "\n",
      "{'n_estimators': [10, 12, 14, 16, 18, 20, 22, 24, 26, 28], 'loss': ['ls', 'huber'], 'learning_rate': array([0.1, 0.2, 0.3, 0.4, 0.5, 0.6]), 'max_depth': [1, 2, 3, 4]}\n",
      "Fitting 5 folds for each of 480 candidates, totalling 2400 fits\n"
     ]
    },
    {
     "name": "stderr",
     "output_type": "stream",
     "text": [
      "[Parallel(n_jobs=-1)]: Using backend LokyBackend with 4 concurrent workers.\n",
      "[Parallel(n_jobs=-1)]: Done 136 tasks      | elapsed:    1.2s\n",
      "[Parallel(n_jobs=-1)]: Done 904 tasks      | elapsed:   10.8s\n",
      "[Parallel(n_jobs=-1)]: Done 2184 tasks      | elapsed:   25.6s\n",
      "[Parallel(n_jobs=-1)]: Done 2400 out of 2400 | elapsed:   28.8s finished\n",
      "C:\\Users\\chris\\Anaconda2\\lib\\site-packages\\sklearn\\model_selection\\_search.py:841: DeprecationWarning: The default of the `iid` parameter will change from True to False in version 0.22 and will be removed in 0.24. This will change numeric results when test-set sizes are unequal.\n",
      "  DeprecationWarning)\n"
     ]
    },
    {
     "name": "stdout",
     "output_type": "stream",
     "text": [
      "Fitting 5 folds for each of 480 candidates, totalling 2400 fits\n"
     ]
    },
    {
     "name": "stderr",
     "output_type": "stream",
     "text": [
      "[Parallel(n_jobs=-1)]: Using backend LokyBackend with 4 concurrent workers.\n",
      "[Parallel(n_jobs=-1)]: Done 184 tasks      | elapsed:    1.5s\n",
      "[Parallel(n_jobs=-1)]: Done 1720 tasks      | elapsed:   19.2s\n",
      "[Parallel(n_jobs=-1)]: Done 2400 out of 2400 | elapsed:   27.7s finished\n",
      "C:\\Users\\chris\\Anaconda2\\lib\\site-packages\\sklearn\\model_selection\\_search.py:841: DeprecationWarning: The default of the `iid` parameter will change from True to False in version 0.22 and will be removed in 0.24. This will change numeric results when test-set sizes are unequal.\n",
      "  DeprecationWarning)\n"
     ]
    },
    {
     "name": "stdout",
     "output_type": "stream",
     "text": [
      "Games predicted: 245\n",
      "\n",
      "\n",
      "Now Starting Simulation Number: 191\n",
      "\n",
      "\n",
      "{'n_estimators': [10, 12, 14, 16, 18, 20, 22, 24, 26, 28], 'loss': ['ls', 'huber'], 'learning_rate': array([0.1, 0.2, 0.3, 0.4, 0.5, 0.6]), 'max_depth': [1, 2, 3, 4]}\n",
      "Fitting 5 folds for each of 480 candidates, totalling 2400 fits\n"
     ]
    },
    {
     "name": "stderr",
     "output_type": "stream",
     "text": [
      "[Parallel(n_jobs=-1)]: Using backend LokyBackend with 4 concurrent workers.\n",
      "[Parallel(n_jobs=-1)]: Done 136 tasks      | elapsed:    1.1s\n",
      "[Parallel(n_jobs=-1)]: Done 904 tasks      | elapsed:   11.0s\n",
      "[Parallel(n_jobs=-1)]: Done 2184 tasks      | elapsed:   27.0s\n",
      "[Parallel(n_jobs=-1)]: Done 2400 out of 2400 | elapsed:   30.2s finished\n",
      "C:\\Users\\chris\\Anaconda2\\lib\\site-packages\\sklearn\\model_selection\\_search.py:841: DeprecationWarning: The default of the `iid` parameter will change from True to False in version 0.22 and will be removed in 0.24. This will change numeric results when test-set sizes are unequal.\n",
      "  DeprecationWarning)\n"
     ]
    },
    {
     "name": "stdout",
     "output_type": "stream",
     "text": [
      "Fitting 5 folds for each of 480 candidates, totalling 2400 fits\n"
     ]
    },
    {
     "name": "stderr",
     "output_type": "stream",
     "text": [
      "[Parallel(n_jobs=-1)]: Using backend LokyBackend with 4 concurrent workers.\n",
      "[Parallel(n_jobs=-1)]: Done 168 tasks      | elapsed:    1.3s\n",
      "[Parallel(n_jobs=-1)]: Done 1128 tasks      | elapsed:   12.9s\n",
      "[Parallel(n_jobs=-1)]: Done 2400 out of 2400 | elapsed:   27.9s finished\n",
      "C:\\Users\\chris\\Anaconda2\\lib\\site-packages\\sklearn\\model_selection\\_search.py:841: DeprecationWarning: The default of the `iid` parameter will change from True to False in version 0.22 and will be removed in 0.24. This will change numeric results when test-set sizes are unequal.\n",
      "  DeprecationWarning)\n"
     ]
    },
    {
     "name": "stdout",
     "output_type": "stream",
     "text": [
      "Games predicted: 245\n",
      "\n",
      "\n",
      "Now Starting Simulation Number: 192\n",
      "\n",
      "\n",
      "{'n_estimators': [10, 12, 14, 16, 18, 20, 22, 24, 26, 28], 'loss': ['ls', 'huber'], 'learning_rate': array([0.1, 0.2, 0.3, 0.4, 0.5, 0.6]), 'max_depth': [1, 2, 3, 4]}\n",
      "Fitting 5 folds for each of 480 candidates, totalling 2400 fits\n"
     ]
    },
    {
     "name": "stderr",
     "output_type": "stream",
     "text": [
      "[Parallel(n_jobs=-1)]: Using backend LokyBackend with 4 concurrent workers.\n",
      "[Parallel(n_jobs=-1)]: Done 136 tasks      | elapsed:    1.1s\n",
      "[Parallel(n_jobs=-1)]: Done 904 tasks      | elapsed:   10.0s\n",
      "[Parallel(n_jobs=-1)]: Done 2184 tasks      | elapsed:   25.1s\n",
      "[Parallel(n_jobs=-1)]: Done 2400 out of 2400 | elapsed:   28.4s finished\n",
      "C:\\Users\\chris\\Anaconda2\\lib\\site-packages\\sklearn\\model_selection\\_search.py:841: DeprecationWarning: The default of the `iid` parameter will change from True to False in version 0.22 and will be removed in 0.24. This will change numeric results when test-set sizes are unequal.\n",
      "  DeprecationWarning)\n"
     ]
    },
    {
     "name": "stdout",
     "output_type": "stream",
     "text": [
      "Fitting 5 folds for each of 480 candidates, totalling 2400 fits\n"
     ]
    },
    {
     "name": "stderr",
     "output_type": "stream",
     "text": [
      "[Parallel(n_jobs=-1)]: Using backend LokyBackend with 4 concurrent workers.\n",
      "[Parallel(n_jobs=-1)]: Done 104 tasks      | elapsed:    0.8s\n",
      "[Parallel(n_jobs=-1)]: Done 680 tasks      | elapsed:    8.0s\n",
      "[Parallel(n_jobs=-1)]: Done 1640 tasks      | elapsed:   20.5s\n",
      "[Parallel(n_jobs=-1)]: Done 2400 out of 2400 | elapsed:   29.5s finished\n",
      "C:\\Users\\chris\\Anaconda2\\lib\\site-packages\\sklearn\\model_selection\\_search.py:841: DeprecationWarning: The default of the `iid` parameter will change from True to False in version 0.22 and will be removed in 0.24. This will change numeric results when test-set sizes are unequal.\n",
      "  DeprecationWarning)\n"
     ]
    },
    {
     "name": "stdout",
     "output_type": "stream",
     "text": [
      "Games predicted: 245\n",
      "\n",
      "\n",
      "Now Starting Simulation Number: 193\n",
      "\n",
      "\n",
      "{'n_estimators': [10, 12, 14, 16, 18, 20, 22, 24, 26, 28], 'loss': ['ls', 'huber'], 'learning_rate': array([0.1, 0.2, 0.3, 0.4, 0.5, 0.6]), 'max_depth': [1, 2, 3, 4]}\n",
      "Fitting 5 folds for each of 480 candidates, totalling 2400 fits\n"
     ]
    },
    {
     "name": "stderr",
     "output_type": "stream",
     "text": [
      "[Parallel(n_jobs=-1)]: Using backend LokyBackend with 4 concurrent workers.\n",
      "[Parallel(n_jobs=-1)]: Done 136 tasks      | elapsed:    1.0s\n",
      "[Parallel(n_jobs=-1)]: Done 904 tasks      | elapsed:   10.1s\n",
      "[Parallel(n_jobs=-1)]: Done 2184 tasks      | elapsed:   24.7s\n",
      "[Parallel(n_jobs=-1)]: Done 2400 out of 2400 | elapsed:   27.8s finished\n",
      "C:\\Users\\chris\\Anaconda2\\lib\\site-packages\\sklearn\\model_selection\\_search.py:841: DeprecationWarning: The default of the `iid` parameter will change from True to False in version 0.22 and will be removed in 0.24. This will change numeric results when test-set sizes are unequal.\n",
      "  DeprecationWarning)\n"
     ]
    },
    {
     "name": "stdout",
     "output_type": "stream",
     "text": [
      "Fitting 5 folds for each of 480 candidates, totalling 2400 fits\n"
     ]
    },
    {
     "name": "stderr",
     "output_type": "stream",
     "text": [
      "[Parallel(n_jobs=-1)]: Using backend LokyBackend with 4 concurrent workers.\n",
      "[Parallel(n_jobs=-1)]: Done 200 tasks      | elapsed:    1.8s\n",
      "[Parallel(n_jobs=-1)]: Done 1352 tasks      | elapsed:   16.1s\n",
      "[Parallel(n_jobs=-1)]: Done 2400 out of 2400 | elapsed:   30.7s finished\n",
      "C:\\Users\\chris\\Anaconda2\\lib\\site-packages\\sklearn\\model_selection\\_search.py:841: DeprecationWarning: The default of the `iid` parameter will change from True to False in version 0.22 and will be removed in 0.24. This will change numeric results when test-set sizes are unequal.\n",
      "  DeprecationWarning)\n"
     ]
    },
    {
     "name": "stdout",
     "output_type": "stream",
     "text": [
      "Games predicted: 245\n",
      "\n",
      "\n",
      "Now Starting Simulation Number: 194\n",
      "\n",
      "\n",
      "{'n_estimators': [10, 12, 14, 16, 18, 20, 22, 24, 26, 28], 'loss': ['ls', 'huber'], 'learning_rate': array([0.1, 0.2, 0.3, 0.4, 0.5, 0.6]), 'max_depth': [1, 2, 3, 4]}\n",
      "Fitting 5 folds for each of 480 candidates, totalling 2400 fits\n"
     ]
    },
    {
     "name": "stderr",
     "output_type": "stream",
     "text": [
      "[Parallel(n_jobs=-1)]: Using backend LokyBackend with 4 concurrent workers.\n",
      "[Parallel(n_jobs=-1)]: Done 136 tasks      | elapsed:    1.2s\n",
      "[Parallel(n_jobs=-1)]: Done 904 tasks      | elapsed:   11.1s\n",
      "[Parallel(n_jobs=-1)]: Done 2184 tasks      | elapsed:   25.8s\n",
      "[Parallel(n_jobs=-1)]: Done 2400 out of 2400 | elapsed:   29.0s finished\n",
      "C:\\Users\\chris\\Anaconda2\\lib\\site-packages\\sklearn\\model_selection\\_search.py:841: DeprecationWarning: The default of the `iid` parameter will change from True to False in version 0.22 and will be removed in 0.24. This will change numeric results when test-set sizes are unequal.\n",
      "  DeprecationWarning)\n"
     ]
    },
    {
     "name": "stdout",
     "output_type": "stream",
     "text": [
      "Fitting 5 folds for each of 480 candidates, totalling 2400 fits\n"
     ]
    },
    {
     "name": "stderr",
     "output_type": "stream",
     "text": [
      "[Parallel(n_jobs=-1)]: Using backend LokyBackend with 4 concurrent workers.\n",
      "[Parallel(n_jobs=-1)]: Done 136 tasks      | elapsed:    1.1s\n",
      "[Parallel(n_jobs=-1)]: Done 904 tasks      | elapsed:   10.1s\n",
      "[Parallel(n_jobs=-1)]: Done 2184 tasks      | elapsed:   25.0s\n",
      "[Parallel(n_jobs=-1)]: Done 2400 out of 2400 | elapsed:   28.5s finished\n",
      "C:\\Users\\chris\\Anaconda2\\lib\\site-packages\\sklearn\\model_selection\\_search.py:841: DeprecationWarning: The default of the `iid` parameter will change from True to False in version 0.22 and will be removed in 0.24. This will change numeric results when test-set sizes are unequal.\n",
      "  DeprecationWarning)\n"
     ]
    },
    {
     "name": "stdout",
     "output_type": "stream",
     "text": [
      "Games predicted: 245\n",
      "\n",
      "\n",
      "Now Starting Simulation Number: 195\n",
      "\n",
      "\n",
      "{'n_estimators': [10, 12, 14, 16, 18, 20, 22, 24, 26, 28], 'loss': ['ls', 'huber'], 'learning_rate': array([0.1, 0.2, 0.3, 0.4, 0.5, 0.6]), 'max_depth': [1, 2, 3, 4]}\n",
      "Fitting 5 folds for each of 480 candidates, totalling 2400 fits\n"
     ]
    },
    {
     "name": "stderr",
     "output_type": "stream",
     "text": [
      "[Parallel(n_jobs=-1)]: Using backend LokyBackend with 4 concurrent workers.\n",
      "[Parallel(n_jobs=-1)]: Done 104 tasks      | elapsed:    1.0s\n",
      "[Parallel(n_jobs=-1)]: Done 680 tasks      | elapsed:    8.6s\n",
      "[Parallel(n_jobs=-1)]: Done 1640 tasks      | elapsed:   21.5s\n",
      "[Parallel(n_jobs=-1)]: Done 2400 out of 2400 | elapsed:   30.6s finished\n",
      "C:\\Users\\chris\\Anaconda2\\lib\\site-packages\\sklearn\\model_selection\\_search.py:841: DeprecationWarning: The default of the `iid` parameter will change from True to False in version 0.22 and will be removed in 0.24. This will change numeric results when test-set sizes are unequal.\n",
      "  DeprecationWarning)\n"
     ]
    },
    {
     "name": "stdout",
     "output_type": "stream",
     "text": [
      "Fitting 5 folds for each of 480 candidates, totalling 2400 fits\n"
     ]
    },
    {
     "name": "stderr",
     "output_type": "stream",
     "text": [
      "[Parallel(n_jobs=-1)]: Using backend LokyBackend with 4 concurrent workers.\n",
      "[Parallel(n_jobs=-1)]: Done 168 tasks      | elapsed:    1.3s\n",
      "[Parallel(n_jobs=-1)]: Done 1128 tasks      | elapsed:   12.8s\n",
      "[Parallel(n_jobs=-1)]: Done 2400 out of 2400 | elapsed:   28.1s finished\n",
      "C:\\Users\\chris\\Anaconda2\\lib\\site-packages\\sklearn\\model_selection\\_search.py:841: DeprecationWarning: The default of the `iid` parameter will change from True to False in version 0.22 and will be removed in 0.24. This will change numeric results when test-set sizes are unequal.\n",
      "  DeprecationWarning)\n"
     ]
    },
    {
     "name": "stdout",
     "output_type": "stream",
     "text": [
      "Games predicted: 245\n",
      "\n",
      "\n",
      "Now Starting Simulation Number: 196\n",
      "\n",
      "\n",
      "{'n_estimators': [10, 12, 14, 16, 18, 20, 22, 24, 26, 28], 'loss': ['ls', 'huber'], 'learning_rate': array([0.1, 0.2, 0.3, 0.4, 0.5, 0.6]), 'max_depth': [1, 2, 3, 4]}\n",
      "Fitting 5 folds for each of 480 candidates, totalling 2400 fits\n"
     ]
    },
    {
     "name": "stderr",
     "output_type": "stream",
     "text": [
      "[Parallel(n_jobs=-1)]: Using backend LokyBackend with 4 concurrent workers.\n",
      "[Parallel(n_jobs=-1)]: Done 232 tasks      | elapsed:    2.0s\n",
      "[Parallel(n_jobs=-1)]: Done 1576 tasks      | elapsed:   18.4s\n",
      "[Parallel(n_jobs=-1)]: Done 2400 out of 2400 | elapsed:   28.8s finished\n",
      "C:\\Users\\chris\\Anaconda2\\lib\\site-packages\\sklearn\\model_selection\\_search.py:841: DeprecationWarning: The default of the `iid` parameter will change from True to False in version 0.22 and will be removed in 0.24. This will change numeric results when test-set sizes are unequal.\n",
      "  DeprecationWarning)\n"
     ]
    },
    {
     "name": "stdout",
     "output_type": "stream",
     "text": [
      "Fitting 5 folds for each of 480 candidates, totalling 2400 fits\n"
     ]
    },
    {
     "name": "stderr",
     "output_type": "stream",
     "text": [
      "[Parallel(n_jobs=-1)]: Using backend LokyBackend with 4 concurrent workers.\n",
      "[Parallel(n_jobs=-1)]: Done 168 tasks      | elapsed:    1.6s\n",
      "[Parallel(n_jobs=-1)]: Done 1128 tasks      | elapsed:   13.9s\n",
      "[Parallel(n_jobs=-1)]: Done 2400 out of 2400 | elapsed:   28.8s finished\n",
      "C:\\Users\\chris\\Anaconda2\\lib\\site-packages\\sklearn\\model_selection\\_search.py:841: DeprecationWarning: The default of the `iid` parameter will change from True to False in version 0.22 and will be removed in 0.24. This will change numeric results when test-set sizes are unequal.\n",
      "  DeprecationWarning)\n"
     ]
    },
    {
     "name": "stdout",
     "output_type": "stream",
     "text": [
      "Games predicted: 245\n",
      "\n",
      "\n",
      "Now Starting Simulation Number: 197\n",
      "\n",
      "\n",
      "{'n_estimators': [10, 12, 14, 16, 18, 20, 22, 24, 26, 28], 'loss': ['ls', 'huber'], 'learning_rate': array([0.1, 0.2, 0.3, 0.4, 0.5, 0.6]), 'max_depth': [1, 2, 3, 4]}\n",
      "Fitting 5 folds for each of 480 candidates, totalling 2400 fits\n"
     ]
    },
    {
     "name": "stderr",
     "output_type": "stream",
     "text": [
      "[Parallel(n_jobs=-1)]: Using backend LokyBackend with 4 concurrent workers.\n",
      "[Parallel(n_jobs=-1)]: Done 136 tasks      | elapsed:    1.0s\n",
      "[Parallel(n_jobs=-1)]: Done 904 tasks      | elapsed:    9.9s\n",
      "[Parallel(n_jobs=-1)]: Done 2184 tasks      | elapsed:   24.5s\n",
      "[Parallel(n_jobs=-1)]: Done 2400 out of 2400 | elapsed:   27.6s finished\n",
      "C:\\Users\\chris\\Anaconda2\\lib\\site-packages\\sklearn\\model_selection\\_search.py:841: DeprecationWarning: The default of the `iid` parameter will change from True to False in version 0.22 and will be removed in 0.24. This will change numeric results when test-set sizes are unequal.\n",
      "  DeprecationWarning)\n"
     ]
    },
    {
     "name": "stdout",
     "output_type": "stream",
     "text": [
      "Fitting 5 folds for each of 480 candidates, totalling 2400 fits\n"
     ]
    },
    {
     "name": "stderr",
     "output_type": "stream",
     "text": [
      "[Parallel(n_jobs=-1)]: Using backend LokyBackend with 4 concurrent workers.\n",
      "[Parallel(n_jobs=-1)]: Done 136 tasks      | elapsed:    1.0s\n",
      "[Parallel(n_jobs=-1)]: Done 904 tasks      | elapsed:   10.0s\n",
      "[Parallel(n_jobs=-1)]: Done 2184 tasks      | elapsed:   25.4s\n",
      "[Parallel(n_jobs=-1)]: Done 2400 out of 2400 | elapsed:   28.9s finished\n",
      "C:\\Users\\chris\\Anaconda2\\lib\\site-packages\\sklearn\\model_selection\\_search.py:841: DeprecationWarning: The default of the `iid` parameter will change from True to False in version 0.22 and will be removed in 0.24. This will change numeric results when test-set sizes are unequal.\n",
      "  DeprecationWarning)\n"
     ]
    },
    {
     "name": "stdout",
     "output_type": "stream",
     "text": [
      "Games predicted: 245\n",
      "\n",
      "\n",
      "Now Starting Simulation Number: 198\n",
      "\n",
      "\n",
      "{'n_estimators': [10, 12, 14, 16, 18, 20, 22, 24, 26, 28], 'loss': ['ls', 'huber'], 'learning_rate': array([0.1, 0.2, 0.3, 0.4, 0.5, 0.6]), 'max_depth': [1, 2, 3, 4]}\n",
      "Fitting 5 folds for each of 480 candidates, totalling 2400 fits\n"
     ]
    },
    {
     "name": "stderr",
     "output_type": "stream",
     "text": [
      "[Parallel(n_jobs=-1)]: Using backend LokyBackend with 4 concurrent workers.\n",
      "[Parallel(n_jobs=-1)]: Done 136 tasks      | elapsed:    1.2s\n",
      "[Parallel(n_jobs=-1)]: Done 904 tasks      | elapsed:   11.2s\n",
      "[Parallel(n_jobs=-1)]: Done 2184 tasks      | elapsed:   26.7s\n",
      "[Parallel(n_jobs=-1)]: Done 2400 out of 2400 | elapsed:   29.8s finished\n",
      "C:\\Users\\chris\\Anaconda2\\lib\\site-packages\\sklearn\\model_selection\\_search.py:841: DeprecationWarning: The default of the `iid` parameter will change from True to False in version 0.22 and will be removed in 0.24. This will change numeric results when test-set sizes are unequal.\n",
      "  DeprecationWarning)\n"
     ]
    },
    {
     "name": "stdout",
     "output_type": "stream",
     "text": [
      "Fitting 5 folds for each of 480 candidates, totalling 2400 fits\n"
     ]
    },
    {
     "name": "stderr",
     "output_type": "stream",
     "text": [
      "[Parallel(n_jobs=-1)]: Using backend LokyBackend with 4 concurrent workers.\n",
      "[Parallel(n_jobs=-1)]: Done 136 tasks      | elapsed:    1.1s\n",
      "[Parallel(n_jobs=-1)]: Done 904 tasks      | elapsed:   10.0s\n",
      "[Parallel(n_jobs=-1)]: Done 2184 tasks      | elapsed:   25.1s\n",
      "[Parallel(n_jobs=-1)]: Done 2400 out of 2400 | elapsed:   28.5s finished\n",
      "C:\\Users\\chris\\Anaconda2\\lib\\site-packages\\sklearn\\model_selection\\_search.py:841: DeprecationWarning: The default of the `iid` parameter will change from True to False in version 0.22 and will be removed in 0.24. This will change numeric results when test-set sizes are unequal.\n",
      "  DeprecationWarning)\n"
     ]
    },
    {
     "name": "stdout",
     "output_type": "stream",
     "text": [
      "Games predicted: 245\n",
      "\n",
      "\n",
      "Now Starting Simulation Number: 199\n",
      "\n",
      "\n",
      "{'n_estimators': [10, 12, 14, 16, 18, 20, 22, 24, 26, 28], 'loss': ['ls', 'huber'], 'learning_rate': array([0.1, 0.2, 0.3, 0.4, 0.5, 0.6]), 'max_depth': [1, 2, 3, 4]}\n",
      "Fitting 5 folds for each of 480 candidates, totalling 2400 fits\n"
     ]
    },
    {
     "name": "stderr",
     "output_type": "stream",
     "text": [
      "[Parallel(n_jobs=-1)]: Using backend LokyBackend with 4 concurrent workers.\n",
      "[Parallel(n_jobs=-1)]: Done 104 tasks      | elapsed:    0.7s\n",
      "[Parallel(n_jobs=-1)]: Done 680 tasks      | elapsed:    7.3s\n",
      "[Parallel(n_jobs=-1)]: Done 1640 tasks      | elapsed:   19.7s\n",
      "[Parallel(n_jobs=-1)]: Done 2400 out of 2400 | elapsed:   29.4s finished\n",
      "C:\\Users\\chris\\Anaconda2\\lib\\site-packages\\sklearn\\model_selection\\_search.py:841: DeprecationWarning: The default of the `iid` parameter will change from True to False in version 0.22 and will be removed in 0.24. This will change numeric results when test-set sizes are unequal.\n",
      "  DeprecationWarning)\n"
     ]
    },
    {
     "name": "stdout",
     "output_type": "stream",
     "text": [
      "Fitting 5 folds for each of 480 candidates, totalling 2400 fits\n"
     ]
    },
    {
     "name": "stderr",
     "output_type": "stream",
     "text": [
      "[Parallel(n_jobs=-1)]: Using backend LokyBackend with 4 concurrent workers.\n",
      "[Parallel(n_jobs=-1)]: Done 136 tasks      | elapsed:    1.2s\n",
      "[Parallel(n_jobs=-1)]: Done 904 tasks      | elapsed:   10.8s\n",
      "[Parallel(n_jobs=-1)]: Done 2184 tasks      | elapsed:   25.4s\n",
      "[Parallel(n_jobs=-1)]: Done 2400 out of 2400 | elapsed:   28.5s finished\n",
      "C:\\Users\\chris\\Anaconda2\\lib\\site-packages\\sklearn\\model_selection\\_search.py:841: DeprecationWarning: The default of the `iid` parameter will change from True to False in version 0.22 and will be removed in 0.24. This will change numeric results when test-set sizes are unequal.\n",
      "  DeprecationWarning)\n"
     ]
    },
    {
     "name": "stdout",
     "output_type": "stream",
     "text": [
      "Games predicted: 245\n",
      "\n",
      "\n",
      "Now Starting Simulation Number: 200\n",
      "\n",
      "\n",
      "{'n_estimators': [10, 12, 14, 16, 18, 20, 22, 24, 26, 28], 'loss': ['ls', 'huber'], 'learning_rate': array([0.1, 0.2, 0.3, 0.4, 0.5, 0.6]), 'max_depth': [1, 2, 3, 4]}\n",
      "Fitting 5 folds for each of 480 candidates, totalling 2400 fits\n"
     ]
    },
    {
     "name": "stderr",
     "output_type": "stream",
     "text": [
      "[Parallel(n_jobs=-1)]: Using backend LokyBackend with 4 concurrent workers.\n",
      "[Parallel(n_jobs=-1)]: Done 104 tasks      | elapsed:    0.7s\n",
      "[Parallel(n_jobs=-1)]: Done 680 tasks      | elapsed:    7.1s\n",
      "[Parallel(n_jobs=-1)]: Done 1640 tasks      | elapsed:   18.5s\n",
      "[Parallel(n_jobs=-1)]: Done 2400 out of 2400 | elapsed:   28.2s finished\n",
      "C:\\Users\\chris\\Anaconda2\\lib\\site-packages\\sklearn\\model_selection\\_search.py:841: DeprecationWarning: The default of the `iid` parameter will change from True to False in version 0.22 and will be removed in 0.24. This will change numeric results when test-set sizes are unequal.\n",
      "  DeprecationWarning)\n"
     ]
    },
    {
     "name": "stdout",
     "output_type": "stream",
     "text": [
      "Fitting 5 folds for each of 480 candidates, totalling 2400 fits\n"
     ]
    },
    {
     "name": "stderr",
     "output_type": "stream",
     "text": [
      "[Parallel(n_jobs=-1)]: Using backend LokyBackend with 4 concurrent workers.\n",
      "[Parallel(n_jobs=-1)]: Done 168 tasks      | elapsed:    1.4s\n",
      "[Parallel(n_jobs=-1)]: Done 1128 tasks      | elapsed:   13.3s\n",
      "[Parallel(n_jobs=-1)]: Done 2400 out of 2400 | elapsed:   29.5s finished\n",
      "C:\\Users\\chris\\Anaconda2\\lib\\site-packages\\sklearn\\model_selection\\_search.py:841: DeprecationWarning: The default of the `iid` parameter will change from True to False in version 0.22 and will be removed in 0.24. This will change numeric results when test-set sizes are unequal.\n",
      "  DeprecationWarning)\n"
     ]
    },
    {
     "name": "stdout",
     "output_type": "stream",
     "text": [
      "Games predicted: 245\n",
      "\n",
      "\n",
      "Now Starting Simulation Number: 201\n",
      "\n",
      "\n",
      "{'n_estimators': [10, 12, 14, 16, 18, 20, 22, 24, 26, 28], 'loss': ['ls', 'huber'], 'learning_rate': array([0.1, 0.2, 0.3, 0.4, 0.5, 0.6]), 'max_depth': [1, 2, 3, 4]}\n",
      "Fitting 5 folds for each of 480 candidates, totalling 2400 fits\n"
     ]
    },
    {
     "name": "stderr",
     "output_type": "stream",
     "text": [
      "[Parallel(n_jobs=-1)]: Using backend LokyBackend with 4 concurrent workers.\n",
      "[Parallel(n_jobs=-1)]: Done 104 tasks      | elapsed:    0.7s\n",
      "[Parallel(n_jobs=-1)]: Done 680 tasks      | elapsed:    7.2s\n",
      "[Parallel(n_jobs=-1)]: Done 1640 tasks      | elapsed:   18.8s\n",
      "[Parallel(n_jobs=-1)]: Done 2400 out of 2400 | elapsed:   27.8s finished\n",
      "C:\\Users\\chris\\Anaconda2\\lib\\site-packages\\sklearn\\model_selection\\_search.py:841: DeprecationWarning: The default of the `iid` parameter will change from True to False in version 0.22 and will be removed in 0.24. This will change numeric results when test-set sizes are unequal.\n",
      "  DeprecationWarning)\n"
     ]
    },
    {
     "name": "stdout",
     "output_type": "stream",
     "text": [
      "Fitting 5 folds for each of 480 candidates, totalling 2400 fits\n"
     ]
    },
    {
     "name": "stderr",
     "output_type": "stream",
     "text": [
      "[Parallel(n_jobs=-1)]: Using backend LokyBackend with 4 concurrent workers.\n",
      "[Parallel(n_jobs=-1)]: Done 200 tasks      | elapsed:    1.8s\n",
      "[Parallel(n_jobs=-1)]: Done 1352 tasks      | elapsed:   15.0s\n",
      "[Parallel(n_jobs=-1)]: Done 2400 out of 2400 | elapsed:   28.2s finished\n",
      "C:\\Users\\chris\\Anaconda2\\lib\\site-packages\\sklearn\\model_selection\\_search.py:841: DeprecationWarning: The default of the `iid` parameter will change from True to False in version 0.22 and will be removed in 0.24. This will change numeric results when test-set sizes are unequal.\n",
      "  DeprecationWarning)\n"
     ]
    },
    {
     "name": "stdout",
     "output_type": "stream",
     "text": [
      "Games predicted: 245\n",
      "\n",
      "\n",
      "Now Starting Simulation Number: 202\n",
      "\n",
      "\n",
      "{'n_estimators': [10, 12, 14, 16, 18, 20, 22, 24, 26, 28], 'loss': ['ls', 'huber'], 'learning_rate': array([0.1, 0.2, 0.3, 0.4, 0.5, 0.6]), 'max_depth': [1, 2, 3, 4]}\n",
      "Fitting 5 folds for each of 480 candidates, totalling 2400 fits\n"
     ]
    },
    {
     "name": "stderr",
     "output_type": "stream",
     "text": [
      "[Parallel(n_jobs=-1)]: Using backend LokyBackend with 4 concurrent workers.\n",
      "[Parallel(n_jobs=-1)]: Done 136 tasks      | elapsed:    1.1s\n",
      "[Parallel(n_jobs=-1)]: Done 904 tasks      | elapsed:   11.1s\n",
      "[Parallel(n_jobs=-1)]: Done 2184 tasks      | elapsed:   28.4s\n",
      "[Parallel(n_jobs=-1)]: Done 2400 out of 2400 | elapsed:   32.5s finished\n",
      "C:\\Users\\chris\\Anaconda2\\lib\\site-packages\\sklearn\\model_selection\\_search.py:841: DeprecationWarning: The default of the `iid` parameter will change from True to False in version 0.22 and will be removed in 0.24. This will change numeric results when test-set sizes are unequal.\n",
      "  DeprecationWarning)\n"
     ]
    },
    {
     "name": "stdout",
     "output_type": "stream",
     "text": [
      "Fitting 5 folds for each of 480 candidates, totalling 2400 fits\n"
     ]
    },
    {
     "name": "stderr",
     "output_type": "stream",
     "text": [
      "[Parallel(n_jobs=-1)]: Using backend LokyBackend with 4 concurrent workers.\n",
      "[Parallel(n_jobs=-1)]: Done 232 tasks      | elapsed:    2.0s\n",
      "[Parallel(n_jobs=-1)]: Done 1576 tasks      | elapsed:   18.2s\n",
      "[Parallel(n_jobs=-1)]: Done 2400 out of 2400 | elapsed:   27.8s finished\n",
      "C:\\Users\\chris\\Anaconda2\\lib\\site-packages\\sklearn\\model_selection\\_search.py:841: DeprecationWarning: The default of the `iid` parameter will change from True to False in version 0.22 and will be removed in 0.24. This will change numeric results when test-set sizes are unequal.\n",
      "  DeprecationWarning)\n"
     ]
    },
    {
     "name": "stdout",
     "output_type": "stream",
     "text": [
      "Games predicted: 245\n",
      "\n",
      "\n",
      "Now Starting Simulation Number: 203\n",
      "\n",
      "\n",
      "{'n_estimators': [10, 12, 14, 16, 18, 20, 22, 24, 26, 28], 'loss': ['ls', 'huber'], 'learning_rate': array([0.1, 0.2, 0.3, 0.4, 0.5, 0.6]), 'max_depth': [1, 2, 3, 4]}\n",
      "Fitting 5 folds for each of 480 candidates, totalling 2400 fits\n"
     ]
    },
    {
     "name": "stderr",
     "output_type": "stream",
     "text": [
      "[Parallel(n_jobs=-1)]: Using backend LokyBackend with 4 concurrent workers.\n",
      "[Parallel(n_jobs=-1)]: Done 136 tasks      | elapsed:    1.0s\n",
      "[Parallel(n_jobs=-1)]: Done 904 tasks      | elapsed:   10.3s\n",
      "[Parallel(n_jobs=-1)]: Done 2184 tasks      | elapsed:   26.3s\n",
      "[Parallel(n_jobs=-1)]: Done 2400 out of 2400 | elapsed:   29.6s finished\n",
      "C:\\Users\\chris\\Anaconda2\\lib\\site-packages\\sklearn\\model_selection\\_search.py:841: DeprecationWarning: The default of the `iid` parameter will change from True to False in version 0.22 and will be removed in 0.24. This will change numeric results when test-set sizes are unequal.\n",
      "  DeprecationWarning)\n"
     ]
    },
    {
     "name": "stdout",
     "output_type": "stream",
     "text": [
      "Fitting 5 folds for each of 480 candidates, totalling 2400 fits\n"
     ]
    },
    {
     "name": "stderr",
     "output_type": "stream",
     "text": [
      "[Parallel(n_jobs=-1)]: Using backend LokyBackend with 4 concurrent workers.\n",
      "[Parallel(n_jobs=-1)]: Done 136 tasks      | elapsed:    1.1s\n",
      "[Parallel(n_jobs=-1)]: Done 904 tasks      | elapsed:   10.0s\n",
      "[Parallel(n_jobs=-1)]: Done 2184 tasks      | elapsed:   24.6s\n",
      "[Parallel(n_jobs=-1)]: Done 2400 out of 2400 | elapsed:   27.8s finished\n",
      "C:\\Users\\chris\\Anaconda2\\lib\\site-packages\\sklearn\\model_selection\\_search.py:841: DeprecationWarning: The default of the `iid` parameter will change from True to False in version 0.22 and will be removed in 0.24. This will change numeric results when test-set sizes are unequal.\n",
      "  DeprecationWarning)\n"
     ]
    },
    {
     "name": "stdout",
     "output_type": "stream",
     "text": [
      "Games predicted: 245\n",
      "\n",
      "\n",
      "Now Starting Simulation Number: 204\n",
      "\n",
      "\n",
      "{'n_estimators': [10, 12, 14, 16, 18, 20, 22, 24, 26, 28], 'loss': ['ls', 'huber'], 'learning_rate': array([0.1, 0.2, 0.3, 0.4, 0.5, 0.6]), 'max_depth': [1, 2, 3, 4]}\n",
      "Fitting 5 folds for each of 480 candidates, totalling 2400 fits\n"
     ]
    },
    {
     "name": "stderr",
     "output_type": "stream",
     "text": [
      "[Parallel(n_jobs=-1)]: Using backend LokyBackend with 4 concurrent workers.\n",
      "[Parallel(n_jobs=-1)]: Done 104 tasks      | elapsed:    0.7s\n",
      "[Parallel(n_jobs=-1)]: Done 680 tasks      | elapsed:    7.4s\n",
      "[Parallel(n_jobs=-1)]: Done 1640 tasks      | elapsed:   19.7s\n",
      "[Parallel(n_jobs=-1)]: Done 2400 out of 2400 | elapsed:   29.6s finished\n",
      "C:\\Users\\chris\\Anaconda2\\lib\\site-packages\\sklearn\\model_selection\\_search.py:841: DeprecationWarning: The default of the `iid` parameter will change from True to False in version 0.22 and will be removed in 0.24. This will change numeric results when test-set sizes are unequal.\n",
      "  DeprecationWarning)\n"
     ]
    },
    {
     "name": "stdout",
     "output_type": "stream",
     "text": [
      "Fitting 5 folds for each of 480 candidates, totalling 2400 fits\n"
     ]
    },
    {
     "name": "stderr",
     "output_type": "stream",
     "text": [
      "[Parallel(n_jobs=-1)]: Using backend LokyBackend with 4 concurrent workers.\n",
      "[Parallel(n_jobs=-1)]: Done 200 tasks      | elapsed:    2.1s\n",
      "[Parallel(n_jobs=-1)]: Done 1352 tasks      | elapsed:   16.3s\n",
      "[Parallel(n_jobs=-1)]: Done 2400 out of 2400 | elapsed:   29.4s finished\n",
      "C:\\Users\\chris\\Anaconda2\\lib\\site-packages\\sklearn\\model_selection\\_search.py:841: DeprecationWarning: The default of the `iid` parameter will change from True to False in version 0.22 and will be removed in 0.24. This will change numeric results when test-set sizes are unequal.\n",
      "  DeprecationWarning)\n"
     ]
    },
    {
     "name": "stdout",
     "output_type": "stream",
     "text": [
      "Games predicted: 245\n",
      "\n",
      "\n",
      "Now Starting Simulation Number: 205\n",
      "\n",
      "\n",
      "{'n_estimators': [10, 12, 14, 16, 18, 20, 22, 24, 26, 28], 'loss': ['ls', 'huber'], 'learning_rate': array([0.1, 0.2, 0.3, 0.4, 0.5, 0.6]), 'max_depth': [1, 2, 3, 4]}\n",
      "Fitting 5 folds for each of 480 candidates, totalling 2400 fits\n"
     ]
    },
    {
     "name": "stderr",
     "output_type": "stream",
     "text": [
      "[Parallel(n_jobs=-1)]: Using backend LokyBackend with 4 concurrent workers.\n",
      "[Parallel(n_jobs=-1)]: Done 136 tasks      | elapsed:    1.1s\n",
      "[Parallel(n_jobs=-1)]: Done 904 tasks      | elapsed:   10.1s\n",
      "[Parallel(n_jobs=-1)]: Done 2184 tasks      | elapsed:   25.1s\n",
      "[Parallel(n_jobs=-1)]: Done 2400 out of 2400 | elapsed:   28.5s finished\n",
      "C:\\Users\\chris\\Anaconda2\\lib\\site-packages\\sklearn\\model_selection\\_search.py:841: DeprecationWarning: The default of the `iid` parameter will change from True to False in version 0.22 and will be removed in 0.24. This will change numeric results when test-set sizes are unequal.\n",
      "  DeprecationWarning)\n"
     ]
    },
    {
     "name": "stdout",
     "output_type": "stream",
     "text": [
      "Fitting 5 folds for each of 480 candidates, totalling 2400 fits\n"
     ]
    },
    {
     "name": "stderr",
     "output_type": "stream",
     "text": [
      "[Parallel(n_jobs=-1)]: Using backend LokyBackend with 4 concurrent workers.\n",
      "[Parallel(n_jobs=-1)]: Done 168 tasks      | elapsed:    1.6s\n",
      "[Parallel(n_jobs=-1)]: Done 1128 tasks      | elapsed:   13.6s\n",
      "[Parallel(n_jobs=-1)]: Done 2400 out of 2400 | elapsed:   29.6s finished\n",
      "C:\\Users\\chris\\Anaconda2\\lib\\site-packages\\sklearn\\model_selection\\_search.py:841: DeprecationWarning: The default of the `iid` parameter will change from True to False in version 0.22 and will be removed in 0.24. This will change numeric results when test-set sizes are unequal.\n",
      "  DeprecationWarning)\n"
     ]
    },
    {
     "name": "stdout",
     "output_type": "stream",
     "text": [
      "Games predicted: 245\n",
      "\n",
      "\n",
      "Now Starting Simulation Number: 206\n",
      "\n",
      "\n",
      "{'n_estimators': [10, 12, 14, 16, 18, 20, 22, 24, 26, 28], 'loss': ['ls', 'huber'], 'learning_rate': array([0.1, 0.2, 0.3, 0.4, 0.5, 0.6]), 'max_depth': [1, 2, 3, 4]}\n",
      "Fitting 5 folds for each of 480 candidates, totalling 2400 fits\n"
     ]
    },
    {
     "name": "stderr",
     "output_type": "stream",
     "text": [
      "[Parallel(n_jobs=-1)]: Using backend LokyBackend with 4 concurrent workers.\n",
      "[Parallel(n_jobs=-1)]: Done 136 tasks      | elapsed:    1.0s\n",
      "[Parallel(n_jobs=-1)]: Done 904 tasks      | elapsed:    9.9s\n",
      "[Parallel(n_jobs=-1)]: Done 2184 tasks      | elapsed:   24.5s\n",
      "[Parallel(n_jobs=-1)]: Done 2400 out of 2400 | elapsed:   27.6s finished\n",
      "C:\\Users\\chris\\Anaconda2\\lib\\site-packages\\sklearn\\model_selection\\_search.py:841: DeprecationWarning: The default of the `iid` parameter will change from True to False in version 0.22 and will be removed in 0.24. This will change numeric results when test-set sizes are unequal.\n",
      "  DeprecationWarning)\n"
     ]
    },
    {
     "name": "stdout",
     "output_type": "stream",
     "text": [
      "Fitting 5 folds for each of 480 candidates, totalling 2400 fits\n"
     ]
    },
    {
     "name": "stderr",
     "output_type": "stream",
     "text": [
      "[Parallel(n_jobs=-1)]: Using backend LokyBackend with 4 concurrent workers.\n",
      "[Parallel(n_jobs=-1)]: Done 168 tasks      | elapsed:    1.3s\n",
      "[Parallel(n_jobs=-1)]: Done 1128 tasks      | elapsed:   12.6s\n",
      "[Parallel(n_jobs=-1)]: Done 2400 out of 2400 | elapsed:   28.8s finished\n",
      "C:\\Users\\chris\\Anaconda2\\lib\\site-packages\\sklearn\\model_selection\\_search.py:841: DeprecationWarning: The default of the `iid` parameter will change from True to False in version 0.22 and will be removed in 0.24. This will change numeric results when test-set sizes are unequal.\n",
      "  DeprecationWarning)\n"
     ]
    },
    {
     "name": "stdout",
     "output_type": "stream",
     "text": [
      "Games predicted: 245\n",
      "\n",
      "\n",
      "Now Starting Simulation Number: 207\n",
      "\n",
      "\n",
      "{'n_estimators': [10, 12, 14, 16, 18, 20, 22, 24, 26, 28], 'loss': ['ls', 'huber'], 'learning_rate': array([0.1, 0.2, 0.3, 0.4, 0.5, 0.6]), 'max_depth': [1, 2, 3, 4]}\n",
      "Fitting 5 folds for each of 480 candidates, totalling 2400 fits\n"
     ]
    },
    {
     "name": "stderr",
     "output_type": "stream",
     "text": [
      "[Parallel(n_jobs=-1)]: Using backend LokyBackend with 4 concurrent workers.\n",
      "[Parallel(n_jobs=-1)]: Done 104 tasks      | elapsed:    0.8s\n",
      "[Parallel(n_jobs=-1)]: Done 680 tasks      | elapsed:    8.1s\n",
      "[Parallel(n_jobs=-1)]: Done 1640 tasks      | elapsed:   20.3s\n",
      "[Parallel(n_jobs=-1)]: Done 2400 out of 2400 | elapsed:   29.2s finished\n",
      "C:\\Users\\chris\\Anaconda2\\lib\\site-packages\\sklearn\\model_selection\\_search.py:841: DeprecationWarning: The default of the `iid` parameter will change from True to False in version 0.22 and will be removed in 0.24. This will change numeric results when test-set sizes are unequal.\n",
      "  DeprecationWarning)\n"
     ]
    },
    {
     "name": "stdout",
     "output_type": "stream",
     "text": [
      "Fitting 5 folds for each of 480 candidates, totalling 2400 fits\n"
     ]
    },
    {
     "name": "stderr",
     "output_type": "stream",
     "text": [
      "[Parallel(n_jobs=-1)]: Using backend LokyBackend with 4 concurrent workers.\n",
      "[Parallel(n_jobs=-1)]: Done 168 tasks      | elapsed:    1.4s\n",
      "[Parallel(n_jobs=-1)]: Done 1512 tasks      | elapsed:   16.4s\n",
      "[Parallel(n_jobs=-1)]: Done 2400 out of 2400 | elapsed:   27.4s finished\n",
      "C:\\Users\\chris\\Anaconda2\\lib\\site-packages\\sklearn\\model_selection\\_search.py:841: DeprecationWarning: The default of the `iid` parameter will change from True to False in version 0.22 and will be removed in 0.24. This will change numeric results when test-set sizes are unequal.\n",
      "  DeprecationWarning)\n"
     ]
    },
    {
     "name": "stdout",
     "output_type": "stream",
     "text": [
      "Games predicted: 245\n",
      "\n",
      "\n",
      "Now Starting Simulation Number: 208\n",
      "\n",
      "\n",
      "{'n_estimators': [10, 12, 14, 16, 18, 20, 22, 24, 26, 28], 'loss': ['ls', 'huber'], 'learning_rate': array([0.1, 0.2, 0.3, 0.4, 0.5, 0.6]), 'max_depth': [1, 2, 3, 4]}\n",
      "Fitting 5 folds for each of 480 candidates, totalling 2400 fits\n"
     ]
    },
    {
     "name": "stderr",
     "output_type": "stream",
     "text": [
      "[Parallel(n_jobs=-1)]: Using backend LokyBackend with 4 concurrent workers.\n",
      "[Parallel(n_jobs=-1)]: Done 104 tasks      | elapsed:    0.7s\n",
      "[Parallel(n_jobs=-1)]: Done 680 tasks      | elapsed:    7.4s\n",
      "[Parallel(n_jobs=-1)]: Done 1640 tasks      | elapsed:   20.0s\n",
      "[Parallel(n_jobs=-1)]: Done 2400 out of 2400 | elapsed:   29.5s finished\n",
      "C:\\Users\\chris\\Anaconda2\\lib\\site-packages\\sklearn\\model_selection\\_search.py:841: DeprecationWarning: The default of the `iid` parameter will change from True to False in version 0.22 and will be removed in 0.24. This will change numeric results when test-set sizes are unequal.\n",
      "  DeprecationWarning)\n"
     ]
    },
    {
     "name": "stdout",
     "output_type": "stream",
     "text": [
      "Fitting 5 folds for each of 480 candidates, totalling 2400 fits\n"
     ]
    },
    {
     "name": "stderr",
     "output_type": "stream",
     "text": [
      "[Parallel(n_jobs=-1)]: Using backend LokyBackend with 4 concurrent workers.\n",
      "[Parallel(n_jobs=-1)]: Done 168 tasks      | elapsed:    1.4s\n",
      "[Parallel(n_jobs=-1)]: Done 1128 tasks      | elapsed:   12.4s\n",
      "[Parallel(n_jobs=-1)]: Done 2400 out of 2400 | elapsed:   27.7s finished\n",
      "C:\\Users\\chris\\Anaconda2\\lib\\site-packages\\sklearn\\model_selection\\_search.py:841: DeprecationWarning: The default of the `iid` parameter will change from True to False in version 0.22 and will be removed in 0.24. This will change numeric results when test-set sizes are unequal.\n",
      "  DeprecationWarning)\n"
     ]
    },
    {
     "name": "stdout",
     "output_type": "stream",
     "text": [
      "Games predicted: 245\n",
      "\n",
      "\n",
      "Now Starting Simulation Number: 209\n",
      "\n",
      "\n",
      "{'n_estimators': [10, 12, 14, 16, 18, 20, 22, 24, 26, 28], 'loss': ['ls', 'huber'], 'learning_rate': array([0.1, 0.2, 0.3, 0.4, 0.5, 0.6]), 'max_depth': [1, 2, 3, 4]}\n",
      "Fitting 5 folds for each of 480 candidates, totalling 2400 fits\n"
     ]
    },
    {
     "name": "stderr",
     "output_type": "stream",
     "text": [
      "[Parallel(n_jobs=-1)]: Using backend LokyBackend with 4 concurrent workers.\n",
      "[Parallel(n_jobs=-1)]: Done 168 tasks      | elapsed:    1.3s\n",
      "[Parallel(n_jobs=-1)]: Done 1128 tasks      | elapsed:   13.4s\n",
      "[Parallel(n_jobs=-1)]: Done 2400 out of 2400 | elapsed:   30.2s finished\n",
      "C:\\Users\\chris\\Anaconda2\\lib\\site-packages\\sklearn\\model_selection\\_search.py:841: DeprecationWarning: The default of the `iid` parameter will change from True to False in version 0.22 and will be removed in 0.24. This will change numeric results when test-set sizes are unequal.\n",
      "  DeprecationWarning)\n"
     ]
    },
    {
     "name": "stdout",
     "output_type": "stream",
     "text": [
      "Fitting 5 folds for each of 480 candidates, totalling 2400 fits\n"
     ]
    },
    {
     "name": "stderr",
     "output_type": "stream",
     "text": [
      "[Parallel(n_jobs=-1)]: Using backend LokyBackend with 4 concurrent workers.\n",
      "[Parallel(n_jobs=-1)]: Done 168 tasks      | elapsed:    1.6s\n",
      "[Parallel(n_jobs=-1)]: Done 1128 tasks      | elapsed:   13.4s\n",
      "[Parallel(n_jobs=-1)]: Done 2400 out of 2400 | elapsed:   28.4s finished\n",
      "C:\\Users\\chris\\Anaconda2\\lib\\site-packages\\sklearn\\model_selection\\_search.py:841: DeprecationWarning: The default of the `iid` parameter will change from True to False in version 0.22 and will be removed in 0.24. This will change numeric results when test-set sizes are unequal.\n",
      "  DeprecationWarning)\n"
     ]
    },
    {
     "name": "stdout",
     "output_type": "stream",
     "text": [
      "Games predicted: 245\n",
      "\n",
      "\n",
      "Now Starting Simulation Number: 210\n",
      "\n",
      "\n",
      "{'n_estimators': [10, 12, 14, 16, 18, 20, 22, 24, 26, 28], 'loss': ['ls', 'huber'], 'learning_rate': array([0.1, 0.2, 0.3, 0.4, 0.5, 0.6]), 'max_depth': [1, 2, 3, 4]}\n",
      "Fitting 5 folds for each of 480 candidates, totalling 2400 fits\n"
     ]
    },
    {
     "name": "stderr",
     "output_type": "stream",
     "text": [
      "[Parallel(n_jobs=-1)]: Using backend LokyBackend with 4 concurrent workers.\n",
      "[Parallel(n_jobs=-1)]: Done 136 tasks      | elapsed:    1.0s\n",
      "[Parallel(n_jobs=-1)]: Done 904 tasks      | elapsed:    9.9s\n",
      "[Parallel(n_jobs=-1)]: Done 2184 tasks      | elapsed:   24.8s\n",
      "[Parallel(n_jobs=-1)]: Done 2400 out of 2400 | elapsed:   28.2s finished\n",
      "C:\\Users\\chris\\Anaconda2\\lib\\site-packages\\sklearn\\model_selection\\_search.py:841: DeprecationWarning: The default of the `iid` parameter will change from True to False in version 0.22 and will be removed in 0.24. This will change numeric results when test-set sizes are unequal.\n",
      "  DeprecationWarning)\n"
     ]
    },
    {
     "name": "stdout",
     "output_type": "stream",
     "text": [
      "Fitting 5 folds for each of 480 candidates, totalling 2400 fits\n"
     ]
    },
    {
     "name": "stderr",
     "output_type": "stream",
     "text": [
      "[Parallel(n_jobs=-1)]: Using backend LokyBackend with 4 concurrent workers.\n",
      "[Parallel(n_jobs=-1)]: Done 136 tasks      | elapsed:    1.1s\n",
      "[Parallel(n_jobs=-1)]: Done 904 tasks      | elapsed:   10.5s\n",
      "[Parallel(n_jobs=-1)]: Done 2184 tasks      | elapsed:   26.5s\n",
      "[Parallel(n_jobs=-1)]: Done 2400 out of 2400 | elapsed:   30.2s finished\n",
      "C:\\Users\\chris\\Anaconda2\\lib\\site-packages\\sklearn\\model_selection\\_search.py:841: DeprecationWarning: The default of the `iid` parameter will change from True to False in version 0.22 and will be removed in 0.24. This will change numeric results when test-set sizes are unequal.\n",
      "  DeprecationWarning)\n"
     ]
    },
    {
     "name": "stdout",
     "output_type": "stream",
     "text": [
      "Games predicted: 245\n",
      "\n",
      "\n",
      "Now Starting Simulation Number: 211\n",
      "\n",
      "\n",
      "{'n_estimators': [10, 12, 14, 16, 18, 20, 22, 24, 26, 28], 'loss': ['ls', 'huber'], 'learning_rate': array([0.1, 0.2, 0.3, 0.4, 0.5, 0.6]), 'max_depth': [1, 2, 3, 4]}\n",
      "Fitting 5 folds for each of 480 candidates, totalling 2400 fits\n"
     ]
    },
    {
     "name": "stderr",
     "output_type": "stream",
     "text": [
      "[Parallel(n_jobs=-1)]: Using backend LokyBackend with 4 concurrent workers.\n",
      "[Parallel(n_jobs=-1)]: Done 136 tasks      | elapsed:    1.1s\n",
      "[Parallel(n_jobs=-1)]: Done 904 tasks      | elapsed:   10.3s\n",
      "[Parallel(n_jobs=-1)]: Done 2184 tasks      | elapsed:   25.3s\n",
      "[Parallel(n_jobs=-1)]: Done 2400 out of 2400 | elapsed:   28.5s finished\n",
      "C:\\Users\\chris\\Anaconda2\\lib\\site-packages\\sklearn\\model_selection\\_search.py:841: DeprecationWarning: The default of the `iid` parameter will change from True to False in version 0.22 and will be removed in 0.24. This will change numeric results when test-set sizes are unequal.\n",
      "  DeprecationWarning)\n"
     ]
    },
    {
     "name": "stdout",
     "output_type": "stream",
     "text": [
      "Fitting 5 folds for each of 480 candidates, totalling 2400 fits\n"
     ]
    },
    {
     "name": "stderr",
     "output_type": "stream",
     "text": [
      "[Parallel(n_jobs=-1)]: Using backend LokyBackend with 4 concurrent workers.\n",
      "[Parallel(n_jobs=-1)]: Done 168 tasks      | elapsed:    1.4s\n",
      "[Parallel(n_jobs=-1)]: Done 1512 tasks      | elapsed:   16.9s\n",
      "[Parallel(n_jobs=-1)]: Done 2400 out of 2400 | elapsed:   28.2s finished\n",
      "C:\\Users\\chris\\Anaconda2\\lib\\site-packages\\sklearn\\model_selection\\_search.py:841: DeprecationWarning: The default of the `iid` parameter will change from True to False in version 0.22 and will be removed in 0.24. This will change numeric results when test-set sizes are unequal.\n",
      "  DeprecationWarning)\n"
     ]
    },
    {
     "name": "stdout",
     "output_type": "stream",
     "text": [
      "Games predicted: 245\n",
      "\n",
      "\n",
      "Now Starting Simulation Number: 212\n",
      "\n",
      "\n",
      "{'n_estimators': [10, 12, 14, 16, 18, 20, 22, 24, 26, 28], 'loss': ['ls', 'huber'], 'learning_rate': array([0.1, 0.2, 0.3, 0.4, 0.5, 0.6]), 'max_depth': [1, 2, 3, 4]}\n",
      "Fitting 5 folds for each of 480 candidates, totalling 2400 fits\n"
     ]
    },
    {
     "name": "stderr",
     "output_type": "stream",
     "text": [
      "[Parallel(n_jobs=-1)]: Using backend LokyBackend with 4 concurrent workers.\n",
      "[Parallel(n_jobs=-1)]: Done 104 tasks      | elapsed:    0.8s\n",
      "[Parallel(n_jobs=-1)]: Done 680 tasks      | elapsed:    7.9s\n",
      "[Parallel(n_jobs=-1)]: Done 1640 tasks      | elapsed:   20.4s\n",
      "[Parallel(n_jobs=-1)]: Done 2400 out of 2400 | elapsed:   29.5s finished\n",
      "C:\\Users\\chris\\Anaconda2\\lib\\site-packages\\sklearn\\model_selection\\_search.py:841: DeprecationWarning: The default of the `iid` parameter will change from True to False in version 0.22 and will be removed in 0.24. This will change numeric results when test-set sizes are unequal.\n",
      "  DeprecationWarning)\n"
     ]
    },
    {
     "name": "stdout",
     "output_type": "stream",
     "text": [
      "Fitting 5 folds for each of 480 candidates, totalling 2400 fits\n"
     ]
    },
    {
     "name": "stderr",
     "output_type": "stream",
     "text": [
      "[Parallel(n_jobs=-1)]: Using backend LokyBackend with 4 concurrent workers.\n",
      "[Parallel(n_jobs=-1)]: Done 168 tasks      | elapsed:    1.4s\n",
      "[Parallel(n_jobs=-1)]: Done 1128 tasks      | elapsed:   12.5s\n",
      "[Parallel(n_jobs=-1)]: Done 2400 out of 2400 | elapsed:   27.4s finished\n",
      "C:\\Users\\chris\\Anaconda2\\lib\\site-packages\\sklearn\\model_selection\\_search.py:841: DeprecationWarning: The default of the `iid` parameter will change from True to False in version 0.22 and will be removed in 0.24. This will change numeric results when test-set sizes are unequal.\n",
      "  DeprecationWarning)\n"
     ]
    },
    {
     "name": "stdout",
     "output_type": "stream",
     "text": [
      "Games predicted: 245\n",
      "\n",
      "\n",
      "Now Starting Simulation Number: 213\n",
      "\n",
      "\n",
      "{'n_estimators': [10, 12, 14, 16, 18, 20, 22, 24, 26, 28], 'loss': ['ls', 'huber'], 'learning_rate': array([0.1, 0.2, 0.3, 0.4, 0.5, 0.6]), 'max_depth': [1, 2, 3, 4]}\n",
      "Fitting 5 folds for each of 480 candidates, totalling 2400 fits\n"
     ]
    },
    {
     "name": "stderr",
     "output_type": "stream",
     "text": [
      "[Parallel(n_jobs=-1)]: Using backend LokyBackend with 4 concurrent workers.\n",
      "[Parallel(n_jobs=-1)]: Done 104 tasks      | elapsed:    0.7s\n",
      "[Parallel(n_jobs=-1)]: Done 680 tasks      | elapsed:    7.3s\n",
      "[Parallel(n_jobs=-1)]: Done 1640 tasks      | elapsed:   19.5s\n",
      "[Parallel(n_jobs=-1)]: Done 2400 out of 2400 | elapsed:   29.1s finished\n",
      "C:\\Users\\chris\\Anaconda2\\lib\\site-packages\\sklearn\\model_selection\\_search.py:841: DeprecationWarning: The default of the `iid` parameter will change from True to False in version 0.22 and will be removed in 0.24. This will change numeric results when test-set sizes are unequal.\n",
      "  DeprecationWarning)\n"
     ]
    },
    {
     "name": "stdout",
     "output_type": "stream",
     "text": [
      "Fitting 5 folds for each of 480 candidates, totalling 2400 fits\n"
     ]
    },
    {
     "name": "stderr",
     "output_type": "stream",
     "text": [
      "[Parallel(n_jobs=-1)]: Using backend LokyBackend with 4 concurrent workers.\n",
      "[Parallel(n_jobs=-1)]: Done 136 tasks      | elapsed:    1.1s\n",
      "[Parallel(n_jobs=-1)]: Done 904 tasks      | elapsed:   10.5s\n",
      "[Parallel(n_jobs=-1)]: Done 2184 tasks      | elapsed:   25.2s\n",
      "[Parallel(n_jobs=-1)]: Done 2400 out of 2400 | elapsed:   28.4s finished\n",
      "C:\\Users\\chris\\Anaconda2\\lib\\site-packages\\sklearn\\model_selection\\_search.py:841: DeprecationWarning: The default of the `iid` parameter will change from True to False in version 0.22 and will be removed in 0.24. This will change numeric results when test-set sizes are unequal.\n",
      "  DeprecationWarning)\n"
     ]
    },
    {
     "name": "stdout",
     "output_type": "stream",
     "text": [
      "Games predicted: 245\n",
      "\n",
      "\n",
      "Now Starting Simulation Number: 214\n",
      "\n",
      "\n",
      "{'n_estimators': [10, 12, 14, 16, 18, 20, 22, 24, 26, 28], 'loss': ['ls', 'huber'], 'learning_rate': array([0.1, 0.2, 0.3, 0.4, 0.5, 0.6]), 'max_depth': [1, 2, 3, 4]}\n",
      "Fitting 5 folds for each of 480 candidates, totalling 2400 fits\n"
     ]
    },
    {
     "name": "stderr",
     "output_type": "stream",
     "text": [
      "[Parallel(n_jobs=-1)]: Using backend LokyBackend with 4 concurrent workers.\n",
      "[Parallel(n_jobs=-1)]: Done 104 tasks      | elapsed:    0.7s\n",
      "[Parallel(n_jobs=-1)]: Done 680 tasks      | elapsed:    7.5s\n",
      "[Parallel(n_jobs=-1)]: Done 1640 tasks      | elapsed:   20.2s\n",
      "[Parallel(n_jobs=-1)]: Done 2400 out of 2400 | elapsed:   29.9s finished\n",
      "C:\\Users\\chris\\Anaconda2\\lib\\site-packages\\sklearn\\model_selection\\_search.py:841: DeprecationWarning: The default of the `iid` parameter will change from True to False in version 0.22 and will be removed in 0.24. This will change numeric results when test-set sizes are unequal.\n",
      "  DeprecationWarning)\n"
     ]
    },
    {
     "name": "stdout",
     "output_type": "stream",
     "text": [
      "Fitting 5 folds for each of 480 candidates, totalling 2400 fits\n"
     ]
    },
    {
     "name": "stderr",
     "output_type": "stream",
     "text": [
      "[Parallel(n_jobs=-1)]: Using backend LokyBackend with 4 concurrent workers.\n",
      "[Parallel(n_jobs=-1)]: Done 136 tasks      | elapsed:    1.0s\n",
      "[Parallel(n_jobs=-1)]: Done 904 tasks      | elapsed:   10.0s\n",
      "[Parallel(n_jobs=-1)]: Done 2184 tasks      | elapsed:   24.7s\n",
      "[Parallel(n_jobs=-1)]: Done 2400 out of 2400 | elapsed:   27.9s finished\n",
      "C:\\Users\\chris\\Anaconda2\\lib\\site-packages\\sklearn\\model_selection\\_search.py:841: DeprecationWarning: The default of the `iid` parameter will change from True to False in version 0.22 and will be removed in 0.24. This will change numeric results when test-set sizes are unequal.\n",
      "  DeprecationWarning)\n"
     ]
    },
    {
     "name": "stdout",
     "output_type": "stream",
     "text": [
      "Games predicted: 245\n",
      "\n",
      "\n",
      "Now Starting Simulation Number: 215\n",
      "\n",
      "\n",
      "{'n_estimators': [10, 12, 14, 16, 18, 20, 22, 24, 26, 28], 'loss': ['ls', 'huber'], 'learning_rate': array([0.1, 0.2, 0.3, 0.4, 0.5, 0.6]), 'max_depth': [1, 2, 3, 4]}\n",
      "Fitting 5 folds for each of 480 candidates, totalling 2400 fits\n"
     ]
    },
    {
     "name": "stderr",
     "output_type": "stream",
     "text": [
      "[Parallel(n_jobs=-1)]: Using backend LokyBackend with 4 concurrent workers.\n",
      "[Parallel(n_jobs=-1)]: Done 104 tasks      | elapsed:    0.7s\n",
      "[Parallel(n_jobs=-1)]: Done 680 tasks      | elapsed:    7.3s\n",
      "[Parallel(n_jobs=-1)]: Done 1640 tasks      | elapsed:   19.6s\n",
      "[Parallel(n_jobs=-1)]: Done 2400 out of 2400 | elapsed:   29.6s finished\n",
      "C:\\Users\\chris\\Anaconda2\\lib\\site-packages\\sklearn\\model_selection\\_search.py:841: DeprecationWarning: The default of the `iid` parameter will change from True to False in version 0.22 and will be removed in 0.24. This will change numeric results when test-set sizes are unequal.\n",
      "  DeprecationWarning)\n"
     ]
    },
    {
     "name": "stdout",
     "output_type": "stream",
     "text": [
      "Fitting 5 folds for each of 480 candidates, totalling 2400 fits\n"
     ]
    },
    {
     "name": "stderr",
     "output_type": "stream",
     "text": [
      "[Parallel(n_jobs=-1)]: Using backend LokyBackend with 4 concurrent workers.\n",
      "[Parallel(n_jobs=-1)]: Done 136 tasks      | elapsed:    1.4s\n",
      "[Parallel(n_jobs=-1)]: Done 904 tasks      | elapsed:   10.5s\n",
      "[Parallel(n_jobs=-1)]: Done 2184 tasks      | elapsed:   25.7s\n",
      "[Parallel(n_jobs=-1)]: Done 2400 out of 2400 | elapsed:   29.2s finished\n",
      "C:\\Users\\chris\\Anaconda2\\lib\\site-packages\\sklearn\\model_selection\\_search.py:841: DeprecationWarning: The default of the `iid` parameter will change from True to False in version 0.22 and will be removed in 0.24. This will change numeric results when test-set sizes are unequal.\n",
      "  DeprecationWarning)\n"
     ]
    },
    {
     "name": "stdout",
     "output_type": "stream",
     "text": [
      "Games predicted: 245\n",
      "\n",
      "\n",
      "Now Starting Simulation Number: 216\n",
      "\n",
      "\n",
      "{'n_estimators': [10, 12, 14, 16, 18, 20, 22, 24, 26, 28], 'loss': ['ls', 'huber'], 'learning_rate': array([0.1, 0.2, 0.3, 0.4, 0.5, 0.6]), 'max_depth': [1, 2, 3, 4]}\n",
      "Fitting 5 folds for each of 480 candidates, totalling 2400 fits\n"
     ]
    },
    {
     "name": "stderr",
     "output_type": "stream",
     "text": [
      "[Parallel(n_jobs=-1)]: Using backend LokyBackend with 4 concurrent workers.\n",
      "[Parallel(n_jobs=-1)]: Done 136 tasks      | elapsed:    1.1s\n",
      "[Parallel(n_jobs=-1)]: Done 904 tasks      | elapsed:   10.5s\n",
      "[Parallel(n_jobs=-1)]: Done 2184 tasks      | elapsed:   26.1s\n",
      "[Parallel(n_jobs=-1)]: Done 2400 out of 2400 | elapsed:   29.8s finished\n",
      "C:\\Users\\chris\\Anaconda2\\lib\\site-packages\\sklearn\\model_selection\\_search.py:841: DeprecationWarning: The default of the `iid` parameter will change from True to False in version 0.22 and will be removed in 0.24. This will change numeric results when test-set sizes are unequal.\n",
      "  DeprecationWarning)\n"
     ]
    },
    {
     "name": "stdout",
     "output_type": "stream",
     "text": [
      "Fitting 5 folds for each of 480 candidates, totalling 2400 fits\n"
     ]
    },
    {
     "name": "stderr",
     "output_type": "stream",
     "text": [
      "[Parallel(n_jobs=-1)]: Using backend LokyBackend with 4 concurrent workers.\n",
      "[Parallel(n_jobs=-1)]: Done 104 tasks      | elapsed:    0.9s\n",
      "[Parallel(n_jobs=-1)]: Done 680 tasks      | elapsed:    7.9s\n",
      "[Parallel(n_jobs=-1)]: Done 1640 tasks      | elapsed:   19.6s\n",
      "[Parallel(n_jobs=-1)]: Done 2400 out of 2400 | elapsed:   28.6s finished\n",
      "C:\\Users\\chris\\Anaconda2\\lib\\site-packages\\sklearn\\model_selection\\_search.py:841: DeprecationWarning: The default of the `iid` parameter will change from True to False in version 0.22 and will be removed in 0.24. This will change numeric results when test-set sizes are unequal.\n",
      "  DeprecationWarning)\n"
     ]
    },
    {
     "name": "stdout",
     "output_type": "stream",
     "text": [
      "Games predicted: 245\n",
      "\n",
      "\n",
      "Now Starting Simulation Number: 217\n",
      "\n",
      "\n",
      "{'n_estimators': [10, 12, 14, 16, 18, 20, 22, 24, 26, 28], 'loss': ['ls', 'huber'], 'learning_rate': array([0.1, 0.2, 0.3, 0.4, 0.5, 0.6]), 'max_depth': [1, 2, 3, 4]}\n",
      "Fitting 5 folds for each of 480 candidates, totalling 2400 fits\n"
     ]
    },
    {
     "name": "stderr",
     "output_type": "stream",
     "text": [
      "[Parallel(n_jobs=-1)]: Using backend LokyBackend with 4 concurrent workers.\n",
      "[Parallel(n_jobs=-1)]: Done 136 tasks      | elapsed:    1.0s\n",
      "[Parallel(n_jobs=-1)]: Done 904 tasks      | elapsed:    9.9s\n",
      "[Parallel(n_jobs=-1)]: Done 2184 tasks      | elapsed:   25.1s\n",
      "[Parallel(n_jobs=-1)]: Done 2400 out of 2400 | elapsed:   28.4s finished\n",
      "C:\\Users\\chris\\Anaconda2\\lib\\site-packages\\sklearn\\model_selection\\_search.py:841: DeprecationWarning: The default of the `iid` parameter will change from True to False in version 0.22 and will be removed in 0.24. This will change numeric results when test-set sizes are unequal.\n",
      "  DeprecationWarning)\n"
     ]
    },
    {
     "name": "stdout",
     "output_type": "stream",
     "text": [
      "Fitting 5 folds for each of 480 candidates, totalling 2400 fits\n"
     ]
    },
    {
     "name": "stderr",
     "output_type": "stream",
     "text": [
      "[Parallel(n_jobs=-1)]: Using backend LokyBackend with 4 concurrent workers.\n",
      "[Parallel(n_jobs=-1)]: Done 232 tasks      | elapsed:    2.1s\n",
      "[Parallel(n_jobs=-1)]: Done 1576 tasks      | elapsed:   19.2s\n",
      "[Parallel(n_jobs=-1)]: Done 2400 out of 2400 | elapsed:   30.3s finished\n",
      "C:\\Users\\chris\\Anaconda2\\lib\\site-packages\\sklearn\\model_selection\\_search.py:841: DeprecationWarning: The default of the `iid` parameter will change from True to False in version 0.22 and will be removed in 0.24. This will change numeric results when test-set sizes are unequal.\n",
      "  DeprecationWarning)\n"
     ]
    },
    {
     "name": "stdout",
     "output_type": "stream",
     "text": [
      "Games predicted: 245\n",
      "\n",
      "\n",
      "Now Starting Simulation Number: 218\n",
      "\n",
      "\n",
      "{'n_estimators': [10, 12, 14, 16, 18, 20, 22, 24, 26, 28], 'loss': ['ls', 'huber'], 'learning_rate': array([0.1, 0.2, 0.3, 0.4, 0.5, 0.6]), 'max_depth': [1, 2, 3, 4]}\n",
      "Fitting 5 folds for each of 480 candidates, totalling 2400 fits\n"
     ]
    },
    {
     "name": "stderr",
     "output_type": "stream",
     "text": [
      "[Parallel(n_jobs=-1)]: Using backend LokyBackend with 4 concurrent workers.\n",
      "[Parallel(n_jobs=-1)]: Done 136 tasks      | elapsed:    1.2s\n",
      "[Parallel(n_jobs=-1)]: Done 904 tasks      | elapsed:   10.1s\n",
      "[Parallel(n_jobs=-1)]: Done 2184 tasks      | elapsed:   24.6s\n",
      "[Parallel(n_jobs=-1)]: Done 2400 out of 2400 | elapsed:   27.8s finished\n",
      "C:\\Users\\chris\\Anaconda2\\lib\\site-packages\\sklearn\\model_selection\\_search.py:841: DeprecationWarning: The default of the `iid` parameter will change from True to False in version 0.22 and will be removed in 0.24. This will change numeric results when test-set sizes are unequal.\n",
      "  DeprecationWarning)\n"
     ]
    },
    {
     "name": "stdout",
     "output_type": "stream",
     "text": [
      "Fitting 5 folds for each of 480 candidates, totalling 2400 fits\n"
     ]
    },
    {
     "name": "stderr",
     "output_type": "stream",
     "text": [
      "[Parallel(n_jobs=-1)]: Using backend LokyBackend with 4 concurrent workers.\n",
      "[Parallel(n_jobs=-1)]: Done 136 tasks      | elapsed:    1.0s\n",
      "[Parallel(n_jobs=-1)]: Done 904 tasks      | elapsed:    9.9s\n",
      "[Parallel(n_jobs=-1)]: Done 2184 tasks      | elapsed:   24.6s\n",
      "[Parallel(n_jobs=-1)]: Done 2400 out of 2400 | elapsed:   27.9s finished\n",
      "C:\\Users\\chris\\Anaconda2\\lib\\site-packages\\sklearn\\model_selection\\_search.py:841: DeprecationWarning: The default of the `iid` parameter will change from True to False in version 0.22 and will be removed in 0.24. This will change numeric results when test-set sizes are unequal.\n",
      "  DeprecationWarning)\n"
     ]
    },
    {
     "name": "stdout",
     "output_type": "stream",
     "text": [
      "Games predicted: 245\n",
      "\n",
      "\n",
      "Now Starting Simulation Number: 219\n",
      "\n",
      "\n",
      "{'n_estimators': [10, 12, 14, 16, 18, 20, 22, 24, 26, 28], 'loss': ['ls', 'huber'], 'learning_rate': array([0.1, 0.2, 0.3, 0.4, 0.5, 0.6]), 'max_depth': [1, 2, 3, 4]}\n",
      "Fitting 5 folds for each of 480 candidates, totalling 2400 fits\n"
     ]
    },
    {
     "name": "stderr",
     "output_type": "stream",
     "text": [
      "[Parallel(n_jobs=-1)]: Using backend LokyBackend with 4 concurrent workers.\n",
      "[Parallel(n_jobs=-1)]: Done 136 tasks      | elapsed:    1.1s\n",
      "[Parallel(n_jobs=-1)]: Done 904 tasks      | elapsed:   11.2s\n",
      "[Parallel(n_jobs=-1)]: Done 2184 tasks      | elapsed:   26.5s\n",
      "[Parallel(n_jobs=-1)]: Done 2400 out of 2400 | elapsed:   29.7s finished\n",
      "C:\\Users\\chris\\Anaconda2\\lib\\site-packages\\sklearn\\model_selection\\_search.py:841: DeprecationWarning: The default of the `iid` parameter will change from True to False in version 0.22 and will be removed in 0.24. This will change numeric results when test-set sizes are unequal.\n",
      "  DeprecationWarning)\n"
     ]
    },
    {
     "name": "stdout",
     "output_type": "stream",
     "text": [
      "Fitting 5 folds for each of 480 candidates, totalling 2400 fits\n"
     ]
    },
    {
     "name": "stderr",
     "output_type": "stream",
     "text": [
      "[Parallel(n_jobs=-1)]: Using backend LokyBackend with 4 concurrent workers.\n",
      "[Parallel(n_jobs=-1)]: Done 200 tasks      | elapsed:    1.9s\n",
      "[Parallel(n_jobs=-1)]: Done 1352 tasks      | elapsed:   14.9s\n",
      "[Parallel(n_jobs=-1)]: Done 2400 out of 2400 | elapsed:   27.9s finished\n",
      "C:\\Users\\chris\\Anaconda2\\lib\\site-packages\\sklearn\\model_selection\\_search.py:841: DeprecationWarning: The default of the `iid` parameter will change from True to False in version 0.22 and will be removed in 0.24. This will change numeric results when test-set sizes are unequal.\n",
      "  DeprecationWarning)\n"
     ]
    },
    {
     "name": "stdout",
     "output_type": "stream",
     "text": [
      "Games predicted: 245\n",
      "\n",
      "\n",
      "Now Starting Simulation Number: 220\n",
      "\n",
      "\n",
      "{'n_estimators': [10, 12, 14, 16, 18, 20, 22, 24, 26, 28], 'loss': ['ls', 'huber'], 'learning_rate': array([0.1, 0.2, 0.3, 0.4, 0.5, 0.6]), 'max_depth': [1, 2, 3, 4]}\n",
      "Fitting 5 folds for each of 480 candidates, totalling 2400 fits\n"
     ]
    },
    {
     "name": "stderr",
     "output_type": "stream",
     "text": [
      "[Parallel(n_jobs=-1)]: Using backend LokyBackend with 4 concurrent workers.\n",
      "[Parallel(n_jobs=-1)]: Done 104 tasks      | elapsed:    0.9s\n",
      "[Parallel(n_jobs=-1)]: Done 872 tasks      | elapsed:   11.0s\n",
      "[Parallel(n_jobs=-1)]: Done 2152 tasks      | elapsed:   27.4s\n",
      "[Parallel(n_jobs=-1)]: Done 2400 out of 2400 | elapsed:   31.4s finished\n",
      "C:\\Users\\chris\\Anaconda2\\lib\\site-packages\\sklearn\\model_selection\\_search.py:841: DeprecationWarning: The default of the `iid` parameter will change from True to False in version 0.22 and will be removed in 0.24. This will change numeric results when test-set sizes are unequal.\n",
      "  DeprecationWarning)\n"
     ]
    },
    {
     "name": "stdout",
     "output_type": "stream",
     "text": [
      "Fitting 5 folds for each of 480 candidates, totalling 2400 fits\n"
     ]
    },
    {
     "name": "stderr",
     "output_type": "stream",
     "text": [
      "[Parallel(n_jobs=-1)]: Using backend LokyBackend with 4 concurrent workers.\n",
      "[Parallel(n_jobs=-1)]: Done 104 tasks      | elapsed:    0.8s\n",
      "[Parallel(n_jobs=-1)]: Done 680 tasks      | elapsed:    7.4s\n",
      "[Parallel(n_jobs=-1)]: Done 1640 tasks      | elapsed:   18.9s\n",
      "[Parallel(n_jobs=-1)]: Done 2400 out of 2400 | elapsed:   28.1s finished\n",
      "C:\\Users\\chris\\Anaconda2\\lib\\site-packages\\sklearn\\model_selection\\_search.py:841: DeprecationWarning: The default of the `iid` parameter will change from True to False in version 0.22 and will be removed in 0.24. This will change numeric results when test-set sizes are unequal.\n",
      "  DeprecationWarning)\n"
     ]
    },
    {
     "name": "stdout",
     "output_type": "stream",
     "text": [
      "Games predicted: 245\n",
      "\n",
      "\n",
      "Now Starting Simulation Number: 221\n",
      "\n",
      "\n",
      "{'n_estimators': [10, 12, 14, 16, 18, 20, 22, 24, 26, 28], 'loss': ['ls', 'huber'], 'learning_rate': array([0.1, 0.2, 0.3, 0.4, 0.5, 0.6]), 'max_depth': [1, 2, 3, 4]}\n",
      "Fitting 5 folds for each of 480 candidates, totalling 2400 fits\n"
     ]
    },
    {
     "name": "stderr",
     "output_type": "stream",
     "text": [
      "[Parallel(n_jobs=-1)]: Using backend LokyBackend with 4 concurrent workers.\n",
      "[Parallel(n_jobs=-1)]: Done 104 tasks      | elapsed:    0.7s\n",
      "[Parallel(n_jobs=-1)]: Done 680 tasks      | elapsed:    7.3s\n",
      "[Parallel(n_jobs=-1)]: Done 1640 tasks      | elapsed:   19.3s\n",
      "[Parallel(n_jobs=-1)]: Done 2400 out of 2400 | elapsed:   29.3s finished\n",
      "C:\\Users\\chris\\Anaconda2\\lib\\site-packages\\sklearn\\model_selection\\_search.py:841: DeprecationWarning: The default of the `iid` parameter will change from True to False in version 0.22 and will be removed in 0.24. This will change numeric results when test-set sizes are unequal.\n",
      "  DeprecationWarning)\n"
     ]
    },
    {
     "name": "stdout",
     "output_type": "stream",
     "text": [
      "Fitting 5 folds for each of 480 candidates, totalling 2400 fits\n"
     ]
    },
    {
     "name": "stderr",
     "output_type": "stream",
     "text": [
      "[Parallel(n_jobs=-1)]: Using backend LokyBackend with 4 concurrent workers.\n",
      "[Parallel(n_jobs=-1)]: Done 100 tasks      | elapsed:    0.9s\n",
      "[Parallel(n_jobs=-1)]: Done 868 tasks      | elapsed:   10.5s\n",
      "[Parallel(n_jobs=-1)]: Done 2148 tasks      | elapsed:   25.7s\n",
      "[Parallel(n_jobs=-1)]: Done 2400 out of 2400 | elapsed:   29.4s finished\n",
      "C:\\Users\\chris\\Anaconda2\\lib\\site-packages\\sklearn\\model_selection\\_search.py:841: DeprecationWarning: The default of the `iid` parameter will change from True to False in version 0.22 and will be removed in 0.24. This will change numeric results when test-set sizes are unequal.\n",
      "  DeprecationWarning)\n"
     ]
    },
    {
     "name": "stdout",
     "output_type": "stream",
     "text": [
      "Games predicted: 245\n",
      "\n",
      "\n",
      "Now Starting Simulation Number: 222\n",
      "\n",
      "\n",
      "{'n_estimators': [10, 12, 14, 16, 18, 20, 22, 24, 26, 28], 'loss': ['ls', 'huber'], 'learning_rate': array([0.1, 0.2, 0.3, 0.4, 0.5, 0.6]), 'max_depth': [1, 2, 3, 4]}\n",
      "Fitting 5 folds for each of 480 candidates, totalling 2400 fits\n"
     ]
    },
    {
     "name": "stderr",
     "output_type": "stream",
     "text": [
      "[Parallel(n_jobs=-1)]: Using backend LokyBackend with 4 concurrent workers.\n",
      "[Parallel(n_jobs=-1)]: Done  72 tasks      | elapsed:    0.7s\n",
      "[Parallel(n_jobs=-1)]: Done 456 tasks      | elapsed:    6.2s\n",
      "[Parallel(n_jobs=-1)]: Done 1096 tasks      | elapsed:   13.6s\n",
      "[Parallel(n_jobs=-1)]: Done 1992 tasks      | elapsed:   26.4s\n",
      "[Parallel(n_jobs=-1)]: Done 2400 out of 2400 | elapsed:   32.1s finished\n",
      "C:\\Users\\chris\\Anaconda2\\lib\\site-packages\\sklearn\\model_selection\\_search.py:841: DeprecationWarning: The default of the `iid` parameter will change from True to False in version 0.22 and will be removed in 0.24. This will change numeric results when test-set sizes are unequal.\n",
      "  DeprecationWarning)\n"
     ]
    },
    {
     "name": "stdout",
     "output_type": "stream",
     "text": [
      "Fitting 5 folds for each of 480 candidates, totalling 2400 fits\n"
     ]
    },
    {
     "name": "stderr",
     "output_type": "stream",
     "text": [
      "[Parallel(n_jobs=-1)]: Using backend LokyBackend with 4 concurrent workers.\n",
      "[Parallel(n_jobs=-1)]: Done 104 tasks      | elapsed:    0.9s\n",
      "[Parallel(n_jobs=-1)]: Done 680 tasks      | elapsed:    7.6s\n",
      "[Parallel(n_jobs=-1)]: Done 1640 tasks      | elapsed:   19.7s\n",
      "[Parallel(n_jobs=-1)]: Done 2400 out of 2400 | elapsed:   29.2s finished\n",
      "C:\\Users\\chris\\Anaconda2\\lib\\site-packages\\sklearn\\model_selection\\_search.py:841: DeprecationWarning: The default of the `iid` parameter will change from True to False in version 0.22 and will be removed in 0.24. This will change numeric results when test-set sizes are unequal.\n",
      "  DeprecationWarning)\n"
     ]
    },
    {
     "name": "stdout",
     "output_type": "stream",
     "text": [
      "Games predicted: 245\n",
      "\n",
      "\n",
      "Now Starting Simulation Number: 223\n",
      "\n",
      "\n",
      "{'n_estimators': [10, 12, 14, 16, 18, 20, 22, 24, 26, 28], 'loss': ['ls', 'huber'], 'learning_rate': array([0.1, 0.2, 0.3, 0.4, 0.5, 0.6]), 'max_depth': [1, 2, 3, 4]}\n",
      "Fitting 5 folds for each of 480 candidates, totalling 2400 fits\n"
     ]
    },
    {
     "name": "stderr",
     "output_type": "stream",
     "text": [
      "[Parallel(n_jobs=-1)]: Using backend LokyBackend with 4 concurrent workers.\n",
      "[Parallel(n_jobs=-1)]: Done 136 tasks      | elapsed:    1.0s\n",
      "[Parallel(n_jobs=-1)]: Done 904 tasks      | elapsed:   10.1s\n",
      "[Parallel(n_jobs=-1)]: Done 2184 tasks      | elapsed:   25.6s\n",
      "[Parallel(n_jobs=-1)]: Done 2400 out of 2400 | elapsed:   29.0s finished\n",
      "C:\\Users\\chris\\Anaconda2\\lib\\site-packages\\sklearn\\model_selection\\_search.py:841: DeprecationWarning: The default of the `iid` parameter will change from True to False in version 0.22 and will be removed in 0.24. This will change numeric results when test-set sizes are unequal.\n",
      "  DeprecationWarning)\n"
     ]
    },
    {
     "name": "stdout",
     "output_type": "stream",
     "text": [
      "Fitting 5 folds for each of 480 candidates, totalling 2400 fits\n"
     ]
    },
    {
     "name": "stderr",
     "output_type": "stream",
     "text": [
      "[Parallel(n_jobs=-1)]: Using backend LokyBackend with 4 concurrent workers.\n",
      "[Parallel(n_jobs=-1)]: Done 200 tasks      | elapsed:    1.9s\n",
      "[Parallel(n_jobs=-1)]: Done 1352 tasks      | elapsed:   16.1s\n",
      "[Parallel(n_jobs=-1)]: Done 2400 out of 2400 | elapsed:   29.0s finished\n",
      "C:\\Users\\chris\\Anaconda2\\lib\\site-packages\\sklearn\\model_selection\\_search.py:841: DeprecationWarning: The default of the `iid` parameter will change from True to False in version 0.22 and will be removed in 0.24. This will change numeric results when test-set sizes are unequal.\n",
      "  DeprecationWarning)\n"
     ]
    },
    {
     "name": "stdout",
     "output_type": "stream",
     "text": [
      "Games predicted: 245\n",
      "\n",
      "\n",
      "Now Starting Simulation Number: 224\n",
      "\n",
      "\n",
      "{'n_estimators': [10, 12, 14, 16, 18, 20, 22, 24, 26, 28], 'loss': ['ls', 'huber'], 'learning_rate': array([0.1, 0.2, 0.3, 0.4, 0.5, 0.6]), 'max_depth': [1, 2, 3, 4]}\n",
      "Fitting 5 folds for each of 480 candidates, totalling 2400 fits\n"
     ]
    },
    {
     "name": "stderr",
     "output_type": "stream",
     "text": [
      "[Parallel(n_jobs=-1)]: Using backend LokyBackend with 4 concurrent workers.\n",
      "[Parallel(n_jobs=-1)]: Done 136 tasks      | elapsed:    1.1s\n",
      "[Parallel(n_jobs=-1)]: Done 904 tasks      | elapsed:   10.0s\n",
      "[Parallel(n_jobs=-1)]: Done 2184 tasks      | elapsed:   24.5s\n",
      "[Parallel(n_jobs=-1)]: Done 2400 out of 2400 | elapsed:   28.2s finished\n",
      "C:\\Users\\chris\\Anaconda2\\lib\\site-packages\\sklearn\\model_selection\\_search.py:841: DeprecationWarning: The default of the `iid` parameter will change from True to False in version 0.22 and will be removed in 0.24. This will change numeric results when test-set sizes are unequal.\n",
      "  DeprecationWarning)\n"
     ]
    },
    {
     "name": "stdout",
     "output_type": "stream",
     "text": [
      "Fitting 5 folds for each of 480 candidates, totalling 2400 fits\n"
     ]
    },
    {
     "name": "stderr",
     "output_type": "stream",
     "text": [
      "[Parallel(n_jobs=-1)]: Using backend LokyBackend with 4 concurrent workers.\n",
      "[Parallel(n_jobs=-1)]: Done 200 tasks      | elapsed:    1.9s\n",
      "[Parallel(n_jobs=-1)]: Done 1352 tasks      | elapsed:   15.8s\n",
      "[Parallel(n_jobs=-1)]: Done 2400 out of 2400 | elapsed:   30.0s finished\n",
      "C:\\Users\\chris\\Anaconda2\\lib\\site-packages\\sklearn\\model_selection\\_search.py:841: DeprecationWarning: The default of the `iid` parameter will change from True to False in version 0.22 and will be removed in 0.24. This will change numeric results when test-set sizes are unequal.\n",
      "  DeprecationWarning)\n"
     ]
    },
    {
     "name": "stdout",
     "output_type": "stream",
     "text": [
      "Games predicted: 245\n",
      "\n",
      "\n",
      "Now Starting Simulation Number: 225\n",
      "\n",
      "\n",
      "{'n_estimators': [10, 12, 14, 16, 18, 20, 22, 24, 26, 28], 'loss': ['ls', 'huber'], 'learning_rate': array([0.1, 0.2, 0.3, 0.4, 0.5, 0.6]), 'max_depth': [1, 2, 3, 4]}\n",
      "Fitting 5 folds for each of 480 candidates, totalling 2400 fits\n"
     ]
    },
    {
     "name": "stderr",
     "output_type": "stream",
     "text": [
      "[Parallel(n_jobs=-1)]: Using backend LokyBackend with 4 concurrent workers.\n",
      "[Parallel(n_jobs=-1)]: Done 136 tasks      | elapsed:    1.1s\n",
      "[Parallel(n_jobs=-1)]: Done 904 tasks      | elapsed:   10.3s\n",
      "[Parallel(n_jobs=-1)]: Done 2184 tasks      | elapsed:   24.7s\n",
      "[Parallel(n_jobs=-1)]: Done 2400 out of 2400 | elapsed:   27.8s finished\n",
      "C:\\Users\\chris\\Anaconda2\\lib\\site-packages\\sklearn\\model_selection\\_search.py:841: DeprecationWarning: The default of the `iid` parameter will change from True to False in version 0.22 and will be removed in 0.24. This will change numeric results when test-set sizes are unequal.\n",
      "  DeprecationWarning)\n"
     ]
    },
    {
     "name": "stdout",
     "output_type": "stream",
     "text": [
      "Fitting 5 folds for each of 480 candidates, totalling 2400 fits\n"
     ]
    },
    {
     "name": "stderr",
     "output_type": "stream",
     "text": [
      "[Parallel(n_jobs=-1)]: Using backend LokyBackend with 4 concurrent workers.\n",
      "[Parallel(n_jobs=-1)]: Done 168 tasks      | elapsed:    1.3s\n",
      "[Parallel(n_jobs=-1)]: Done 1128 tasks      | elapsed:   12.3s\n",
      "[Parallel(n_jobs=-1)]: Done 2400 out of 2400 | elapsed:   27.9s finished\n",
      "C:\\Users\\chris\\Anaconda2\\lib\\site-packages\\sklearn\\model_selection\\_search.py:841: DeprecationWarning: The default of the `iid` parameter will change from True to False in version 0.22 and will be removed in 0.24. This will change numeric results when test-set sizes are unequal.\n",
      "  DeprecationWarning)\n"
     ]
    },
    {
     "name": "stdout",
     "output_type": "stream",
     "text": [
      "Games predicted: 245\n",
      "\n",
      "\n",
      "Now Starting Simulation Number: 226\n",
      "\n",
      "\n",
      "{'n_estimators': [10, 12, 14, 16, 18, 20, 22, 24, 26, 28], 'loss': ['ls', 'huber'], 'learning_rate': array([0.1, 0.2, 0.3, 0.4, 0.5, 0.6]), 'max_depth': [1, 2, 3, 4]}\n",
      "Fitting 5 folds for each of 480 candidates, totalling 2400 fits\n"
     ]
    },
    {
     "name": "stderr",
     "output_type": "stream",
     "text": [
      "[Parallel(n_jobs=-1)]: Using backend LokyBackend with 4 concurrent workers.\n",
      "[Parallel(n_jobs=-1)]: Done 104 tasks      | elapsed:    0.8s\n",
      "[Parallel(n_jobs=-1)]: Done 680 tasks      | elapsed:    7.8s\n",
      "[Parallel(n_jobs=-1)]: Done 1640 tasks      | elapsed:   20.1s\n",
      "[Parallel(n_jobs=-1)]: Done 2400 out of 2400 | elapsed:   29.1s finished\n",
      "C:\\Users\\chris\\Anaconda2\\lib\\site-packages\\sklearn\\model_selection\\_search.py:841: DeprecationWarning: The default of the `iid` parameter will change from True to False in version 0.22 and will be removed in 0.24. This will change numeric results when test-set sizes are unequal.\n",
      "  DeprecationWarning)\n"
     ]
    },
    {
     "name": "stdout",
     "output_type": "stream",
     "text": [
      "Fitting 5 folds for each of 480 candidates, totalling 2400 fits\n"
     ]
    },
    {
     "name": "stderr",
     "output_type": "stream",
     "text": [
      "[Parallel(n_jobs=-1)]: Using backend LokyBackend with 4 concurrent workers.\n",
      "[Parallel(n_jobs=-1)]: Done 136 tasks      | elapsed:    1.1s\n",
      "[Parallel(n_jobs=-1)]: Done 904 tasks      | elapsed:   10.4s\n",
      "[Parallel(n_jobs=-1)]: Done 2184 tasks      | elapsed:   25.0s\n",
      "[Parallel(n_jobs=-1)]: Done 2400 out of 2400 | elapsed:   28.2s finished\n",
      "C:\\Users\\chris\\Anaconda2\\lib\\site-packages\\sklearn\\model_selection\\_search.py:841: DeprecationWarning: The default of the `iid` parameter will change from True to False in version 0.22 and will be removed in 0.24. This will change numeric results when test-set sizes are unequal.\n",
      "  DeprecationWarning)\n"
     ]
    },
    {
     "name": "stdout",
     "output_type": "stream",
     "text": [
      "Games predicted: 245\n",
      "\n",
      "\n",
      "Now Starting Simulation Number: 227\n",
      "\n",
      "\n",
      "{'n_estimators': [10, 12, 14, 16, 18, 20, 22, 24, 26, 28], 'loss': ['ls', 'huber'], 'learning_rate': array([0.1, 0.2, 0.3, 0.4, 0.5, 0.6]), 'max_depth': [1, 2, 3, 4]}\n",
      "Fitting 5 folds for each of 480 candidates, totalling 2400 fits\n"
     ]
    },
    {
     "name": "stderr",
     "output_type": "stream",
     "text": [
      "[Parallel(n_jobs=-1)]: Using backend LokyBackend with 4 concurrent workers.\n",
      "[Parallel(n_jobs=-1)]: Done 136 tasks      | elapsed:    1.1s\n",
      "[Parallel(n_jobs=-1)]: Done 904 tasks      | elapsed:   10.7s\n",
      "[Parallel(n_jobs=-1)]: Done 2184 tasks      | elapsed:   25.8s\n",
      "[Parallel(n_jobs=-1)]: Done 2400 out of 2400 | elapsed:   28.9s finished\n",
      "C:\\Users\\chris\\Anaconda2\\lib\\site-packages\\sklearn\\model_selection\\_search.py:841: DeprecationWarning: The default of the `iid` parameter will change from True to False in version 0.22 and will be removed in 0.24. This will change numeric results when test-set sizes are unequal.\n",
      "  DeprecationWarning)\n"
     ]
    },
    {
     "name": "stdout",
     "output_type": "stream",
     "text": [
      "Fitting 5 folds for each of 480 candidates, totalling 2400 fits\n"
     ]
    },
    {
     "name": "stderr",
     "output_type": "stream",
     "text": [
      "[Parallel(n_jobs=-1)]: Using backend LokyBackend with 4 concurrent workers.\n",
      "[Parallel(n_jobs=-1)]: Done 152 tasks      | elapsed:    1.3s\n",
      "[Parallel(n_jobs=-1)]: Done 1304 tasks      | elapsed:   14.5s\n",
      "[Parallel(n_jobs=-1)]: Done 2400 out of 2400 | elapsed:   27.4s finished\n",
      "C:\\Users\\chris\\Anaconda2\\lib\\site-packages\\sklearn\\model_selection\\_search.py:841: DeprecationWarning: The default of the `iid` parameter will change from True to False in version 0.22 and will be removed in 0.24. This will change numeric results when test-set sizes are unequal.\n",
      "  DeprecationWarning)\n"
     ]
    },
    {
     "name": "stdout",
     "output_type": "stream",
     "text": [
      "Games predicted: 245\n",
      "\n",
      "\n",
      "Now Starting Simulation Number: 228\n",
      "\n",
      "\n",
      "{'n_estimators': [10, 12, 14, 16, 18, 20, 22, 24, 26, 28], 'loss': ['ls', 'huber'], 'learning_rate': array([0.1, 0.2, 0.3, 0.4, 0.5, 0.6]), 'max_depth': [1, 2, 3, 4]}\n",
      "Fitting 5 folds for each of 480 candidates, totalling 2400 fits\n"
     ]
    },
    {
     "name": "stderr",
     "output_type": "stream",
     "text": [
      "[Parallel(n_jobs=-1)]: Using backend LokyBackend with 4 concurrent workers.\n",
      "[Parallel(n_jobs=-1)]: Done 152 tasks      | elapsed:    1.3s\n",
      "[Parallel(n_jobs=-1)]: Done 1304 tasks      | elapsed:   15.5s\n",
      "[Parallel(n_jobs=-1)]: Done 2400 out of 2400 | elapsed:   29.2s finished\n",
      "C:\\Users\\chris\\Anaconda2\\lib\\site-packages\\sklearn\\model_selection\\_search.py:841: DeprecationWarning: The default of the `iid` parameter will change from True to False in version 0.22 and will be removed in 0.24. This will change numeric results when test-set sizes are unequal.\n",
      "  DeprecationWarning)\n"
     ]
    },
    {
     "name": "stdout",
     "output_type": "stream",
     "text": [
      "Fitting 5 folds for each of 480 candidates, totalling 2400 fits\n"
     ]
    },
    {
     "name": "stderr",
     "output_type": "stream",
     "text": [
      "[Parallel(n_jobs=-1)]: Using backend LokyBackend with 4 concurrent workers.\n",
      "[Parallel(n_jobs=-1)]: Done 168 tasks      | elapsed:    1.4s\n",
      "[Parallel(n_jobs=-1)]: Done 1128 tasks      | elapsed:   12.4s\n",
      "[Parallel(n_jobs=-1)]: Done 2400 out of 2400 | elapsed:   27.9s finished\n",
      "C:\\Users\\chris\\Anaconda2\\lib\\site-packages\\sklearn\\model_selection\\_search.py:841: DeprecationWarning: The default of the `iid` parameter will change from True to False in version 0.22 and will be removed in 0.24. This will change numeric results when test-set sizes are unequal.\n",
      "  DeprecationWarning)\n"
     ]
    },
    {
     "name": "stdout",
     "output_type": "stream",
     "text": [
      "Games predicted: 245\n",
      "\n",
      "\n",
      "Now Starting Simulation Number: 229\n",
      "\n",
      "\n",
      "{'n_estimators': [10, 12, 14, 16, 18, 20, 22, 24, 26, 28], 'loss': ['ls', 'huber'], 'learning_rate': array([0.1, 0.2, 0.3, 0.4, 0.5, 0.6]), 'max_depth': [1, 2, 3, 4]}\n",
      "Fitting 5 folds for each of 480 candidates, totalling 2400 fits\n"
     ]
    },
    {
     "name": "stderr",
     "output_type": "stream",
     "text": [
      "[Parallel(n_jobs=-1)]: Using backend LokyBackend with 4 concurrent workers.\n",
      "[Parallel(n_jobs=-1)]: Done 168 tasks      | elapsed:    1.4s\n",
      "[Parallel(n_jobs=-1)]: Done 1128 tasks      | elapsed:   12.8s\n",
      "[Parallel(n_jobs=-1)]: Done 2400 out of 2400 | elapsed:   29.5s finished\n",
      "C:\\Users\\chris\\Anaconda2\\lib\\site-packages\\sklearn\\model_selection\\_search.py:841: DeprecationWarning: The default of the `iid` parameter will change from True to False in version 0.22 and will be removed in 0.24. This will change numeric results when test-set sizes are unequal.\n",
      "  DeprecationWarning)\n"
     ]
    },
    {
     "name": "stdout",
     "output_type": "stream",
     "text": [
      "Fitting 5 folds for each of 480 candidates, totalling 2400 fits\n"
     ]
    },
    {
     "name": "stderr",
     "output_type": "stream",
     "text": [
      "[Parallel(n_jobs=-1)]: Using backend LokyBackend with 4 concurrent workers.\n",
      "[Parallel(n_jobs=-1)]: Done 168 tasks      | elapsed:    1.5s\n",
      "[Parallel(n_jobs=-1)]: Done 1512 tasks      | elapsed:   18.1s\n",
      "[Parallel(n_jobs=-1)]: Done 2400 out of 2400 | elapsed:   28.9s finished\n",
      "C:\\Users\\chris\\Anaconda2\\lib\\site-packages\\sklearn\\model_selection\\_search.py:841: DeprecationWarning: The default of the `iid` parameter will change from True to False in version 0.22 and will be removed in 0.24. This will change numeric results when test-set sizes are unequal.\n",
      "  DeprecationWarning)\n"
     ]
    },
    {
     "name": "stdout",
     "output_type": "stream",
     "text": [
      "Games predicted: 245\n",
      "\n",
      "\n",
      "Now Starting Simulation Number: 230\n",
      "\n",
      "\n",
      "{'n_estimators': [10, 12, 14, 16, 18, 20, 22, 24, 26, 28], 'loss': ['ls', 'huber'], 'learning_rate': array([0.1, 0.2, 0.3, 0.4, 0.5, 0.6]), 'max_depth': [1, 2, 3, 4]}\n",
      "Fitting 5 folds for each of 480 candidates, totalling 2400 fits\n"
     ]
    },
    {
     "name": "stderr",
     "output_type": "stream",
     "text": [
      "[Parallel(n_jobs=-1)]: Using backend LokyBackend with 4 concurrent workers.\n",
      "[Parallel(n_jobs=-1)]: Done 136 tasks      | elapsed:    1.0s\n",
      "[Parallel(n_jobs=-1)]: Done 904 tasks      | elapsed:    9.8s\n",
      "[Parallel(n_jobs=-1)]: Done 2184 tasks      | elapsed:   24.3s\n",
      "[Parallel(n_jobs=-1)]: Done 2400 out of 2400 | elapsed:   27.5s finished\n",
      "C:\\Users\\chris\\Anaconda2\\lib\\site-packages\\sklearn\\model_selection\\_search.py:841: DeprecationWarning: The default of the `iid` parameter will change from True to False in version 0.22 and will be removed in 0.24. This will change numeric results when test-set sizes are unequal.\n",
      "  DeprecationWarning)\n"
     ]
    },
    {
     "name": "stdout",
     "output_type": "stream",
     "text": [
      "Fitting 5 folds for each of 480 candidates, totalling 2400 fits\n"
     ]
    },
    {
     "name": "stderr",
     "output_type": "stream",
     "text": [
      "[Parallel(n_jobs=-1)]: Using backend LokyBackend with 4 concurrent workers.\n",
      "[Parallel(n_jobs=-1)]: Done 136 tasks      | elapsed:    1.1s\n",
      "[Parallel(n_jobs=-1)]: Done 904 tasks      | elapsed:   10.7s\n",
      "[Parallel(n_jobs=-1)]: Done 2184 tasks      | elapsed:   26.9s\n",
      "[Parallel(n_jobs=-1)]: Done 2400 out of 2400 | elapsed:   30.4s finished\n",
      "C:\\Users\\chris\\Anaconda2\\lib\\site-packages\\sklearn\\model_selection\\_search.py:841: DeprecationWarning: The default of the `iid` parameter will change from True to False in version 0.22 and will be removed in 0.24. This will change numeric results when test-set sizes are unequal.\n",
      "  DeprecationWarning)\n"
     ]
    },
    {
     "name": "stdout",
     "output_type": "stream",
     "text": [
      "Games predicted: 245\n",
      "\n",
      "\n",
      "Now Starting Simulation Number: 231\n",
      "\n",
      "\n",
      "{'n_estimators': [10, 12, 14, 16, 18, 20, 22, 24, 26, 28], 'loss': ['ls', 'huber'], 'learning_rate': array([0.1, 0.2, 0.3, 0.4, 0.5, 0.6]), 'max_depth': [1, 2, 3, 4]}\n",
      "Fitting 5 folds for each of 480 candidates, totalling 2400 fits\n"
     ]
    },
    {
     "name": "stderr",
     "output_type": "stream",
     "text": [
      "[Parallel(n_jobs=-1)]: Using backend LokyBackend with 4 concurrent workers.\n",
      "[Parallel(n_jobs=-1)]: Done 120 tasks      | elapsed:    0.9s\n",
      "[Parallel(n_jobs=-1)]: Done 1080 tasks      | elapsed:   12.5s\n",
      "[Parallel(n_jobs=-1)]: Done 2400 out of 2400 | elapsed:   28.2s finished\n",
      "C:\\Users\\chris\\Anaconda2\\lib\\site-packages\\sklearn\\model_selection\\_search.py:841: DeprecationWarning: The default of the `iid` parameter will change from True to False in version 0.22 and will be removed in 0.24. This will change numeric results when test-set sizes are unequal.\n",
      "  DeprecationWarning)\n"
     ]
    },
    {
     "name": "stdout",
     "output_type": "stream",
     "text": [
      "Fitting 5 folds for each of 480 candidates, totalling 2400 fits\n"
     ]
    },
    {
     "name": "stderr",
     "output_type": "stream",
     "text": [
      "[Parallel(n_jobs=-1)]: Using backend LokyBackend with 4 concurrent workers.\n",
      "[Parallel(n_jobs=-1)]: Done 136 tasks      | elapsed:    1.0s\n",
      "[Parallel(n_jobs=-1)]: Done 904 tasks      | elapsed:   10.0s\n",
      "[Parallel(n_jobs=-1)]: Done 2184 tasks      | elapsed:   24.8s\n",
      "[Parallel(n_jobs=-1)]: Done 2400 out of 2400 | elapsed:   28.2s finished\n",
      "C:\\Users\\chris\\Anaconda2\\lib\\site-packages\\sklearn\\model_selection\\_search.py:841: DeprecationWarning: The default of the `iid` parameter will change from True to False in version 0.22 and will be removed in 0.24. This will change numeric results when test-set sizes are unequal.\n",
      "  DeprecationWarning)\n"
     ]
    },
    {
     "name": "stdout",
     "output_type": "stream",
     "text": [
      "Games predicted: 245\n",
      "\n",
      "\n",
      "Now Starting Simulation Number: 232\n",
      "\n",
      "\n",
      "{'n_estimators': [10, 12, 14, 16, 18, 20, 22, 24, 26, 28], 'loss': ['ls', 'huber'], 'learning_rate': array([0.1, 0.2, 0.3, 0.4, 0.5, 0.6]), 'max_depth': [1, 2, 3, 4]}\n",
      "Fitting 5 folds for each of 480 candidates, totalling 2400 fits\n"
     ]
    },
    {
     "name": "stderr",
     "output_type": "stream",
     "text": [
      "[Parallel(n_jobs=-1)]: Using backend LokyBackend with 4 concurrent workers.\n",
      "[Parallel(n_jobs=-1)]: Done 136 tasks      | elapsed:    1.1s\n",
      "[Parallel(n_jobs=-1)]: Done 904 tasks      | elapsed:   10.8s\n",
      "[Parallel(n_jobs=-1)]: Done 2184 tasks      | elapsed:   25.8s\n",
      "[Parallel(n_jobs=-1)]: Done 2400 out of 2400 | elapsed:   28.9s finished\n",
      "C:\\Users\\chris\\Anaconda2\\lib\\site-packages\\sklearn\\model_selection\\_search.py:841: DeprecationWarning: The default of the `iid` parameter will change from True to False in version 0.22 and will be removed in 0.24. This will change numeric results when test-set sizes are unequal.\n",
      "  DeprecationWarning)\n"
     ]
    },
    {
     "name": "stdout",
     "output_type": "stream",
     "text": [
      "Fitting 5 folds for each of 480 candidates, totalling 2400 fits\n"
     ]
    },
    {
     "name": "stderr",
     "output_type": "stream",
     "text": [
      "[Parallel(n_jobs=-1)]: Using backend LokyBackend with 4 concurrent workers.\n",
      "[Parallel(n_jobs=-1)]: Done 168 tasks      | elapsed:    1.3s\n",
      "[Parallel(n_jobs=-1)]: Done 1128 tasks      | elapsed:   12.4s\n",
      "[Parallel(n_jobs=-1)]: Done 2400 out of 2400 | elapsed:   27.2s finished\n",
      "C:\\Users\\chris\\Anaconda2\\lib\\site-packages\\sklearn\\model_selection\\_search.py:841: DeprecationWarning: The default of the `iid` parameter will change from True to False in version 0.22 and will be removed in 0.24. This will change numeric results when test-set sizes are unequal.\n",
      "  DeprecationWarning)\n"
     ]
    },
    {
     "name": "stdout",
     "output_type": "stream",
     "text": [
      "Games predicted: 245\n",
      "\n",
      "\n",
      "Now Starting Simulation Number: 233\n",
      "\n",
      "\n",
      "{'n_estimators': [10, 12, 14, 16, 18, 20, 22, 24, 26, 28], 'loss': ['ls', 'huber'], 'learning_rate': array([0.1, 0.2, 0.3, 0.4, 0.5, 0.6]), 'max_depth': [1, 2, 3, 4]}\n",
      "Fitting 5 folds for each of 480 candidates, totalling 2400 fits\n"
     ]
    },
    {
     "name": "stderr",
     "output_type": "stream",
     "text": [
      "[Parallel(n_jobs=-1)]: Using backend LokyBackend with 4 concurrent workers.\n",
      "[Parallel(n_jobs=-1)]: Done 136 tasks      | elapsed:    1.1s\n",
      "[Parallel(n_jobs=-1)]: Done 904 tasks      | elapsed:   10.5s\n",
      "[Parallel(n_jobs=-1)]: Done 2184 tasks      | elapsed:   27.1s\n",
      "[Parallel(n_jobs=-1)]: Done 2400 out of 2400 | elapsed:   30.3s finished\n",
      "C:\\Users\\chris\\Anaconda2\\lib\\site-packages\\sklearn\\model_selection\\_search.py:841: DeprecationWarning: The default of the `iid` parameter will change from True to False in version 0.22 and will be removed in 0.24. This will change numeric results when test-set sizes are unequal.\n",
      "  DeprecationWarning)\n"
     ]
    },
    {
     "name": "stdout",
     "output_type": "stream",
     "text": [
      "Fitting 5 folds for each of 480 candidates, totalling 2400 fits\n"
     ]
    },
    {
     "name": "stderr",
     "output_type": "stream",
     "text": [
      "[Parallel(n_jobs=-1)]: Using backend LokyBackend with 4 concurrent workers.\n",
      "[Parallel(n_jobs=-1)]: Done 136 tasks      | elapsed:    1.0s\n",
      "[Parallel(n_jobs=-1)]: Done 904 tasks      | elapsed:   10.1s\n",
      "[Parallel(n_jobs=-1)]: Done 2184 tasks      | elapsed:   24.6s\n",
      "[Parallel(n_jobs=-1)]: Done 2400 out of 2400 | elapsed:   27.6s finished\n",
      "C:\\Users\\chris\\Anaconda2\\lib\\site-packages\\sklearn\\model_selection\\_search.py:841: DeprecationWarning: The default of the `iid` parameter will change from True to False in version 0.22 and will be removed in 0.24. This will change numeric results when test-set sizes are unequal.\n",
      "  DeprecationWarning)\n"
     ]
    },
    {
     "name": "stdout",
     "output_type": "stream",
     "text": [
      "Games predicted: 245\n",
      "\n",
      "\n",
      "Now Starting Simulation Number: 234\n",
      "\n",
      "\n",
      "{'n_estimators': [10, 12, 14, 16, 18, 20, 22, 24, 26, 28], 'loss': ['ls', 'huber'], 'learning_rate': array([0.1, 0.2, 0.3, 0.4, 0.5, 0.6]), 'max_depth': [1, 2, 3, 4]}\n",
      "Fitting 5 folds for each of 480 candidates, totalling 2400 fits\n"
     ]
    },
    {
     "name": "stderr",
     "output_type": "stream",
     "text": [
      "[Parallel(n_jobs=-1)]: Using backend LokyBackend with 4 concurrent workers.\n",
      "[Parallel(n_jobs=-1)]: Done 104 tasks      | elapsed:    0.7s\n",
      "[Parallel(n_jobs=-1)]: Done 680 tasks      | elapsed:    7.1s\n",
      "[Parallel(n_jobs=-1)]: Done 1640 tasks      | elapsed:   18.7s\n",
      "[Parallel(n_jobs=-1)]: Done 2400 out of 2400 | elapsed:   28.2s finished\n",
      "C:\\Users\\chris\\Anaconda2\\lib\\site-packages\\sklearn\\model_selection\\_search.py:841: DeprecationWarning: The default of the `iid` parameter will change from True to False in version 0.22 and will be removed in 0.24. This will change numeric results when test-set sizes are unequal.\n",
      "  DeprecationWarning)\n"
     ]
    },
    {
     "name": "stdout",
     "output_type": "stream",
     "text": [
      "Fitting 5 folds for each of 480 candidates, totalling 2400 fits\n"
     ]
    },
    {
     "name": "stderr",
     "output_type": "stream",
     "text": [
      "[Parallel(n_jobs=-1)]: Using backend LokyBackend with 4 concurrent workers.\n",
      "[Parallel(n_jobs=-1)]: Done 200 tasks      | elapsed:    2.0s\n",
      "[Parallel(n_jobs=-1)]: Done 1352 tasks      | elapsed:   16.3s\n",
      "[Parallel(n_jobs=-1)]: Done 2400 out of 2400 | elapsed:   30.0s finished\n",
      "C:\\Users\\chris\\Anaconda2\\lib\\site-packages\\sklearn\\model_selection\\_search.py:841: DeprecationWarning: The default of the `iid` parameter will change from True to False in version 0.22 and will be removed in 0.24. This will change numeric results when test-set sizes are unequal.\n",
      "  DeprecationWarning)\n"
     ]
    },
    {
     "name": "stdout",
     "output_type": "stream",
     "text": [
      "Games predicted: 245\n",
      "\n",
      "\n",
      "Now Starting Simulation Number: 235\n",
      "\n",
      "\n",
      "{'n_estimators': [10, 12, 14, 16, 18, 20, 22, 24, 26, 28], 'loss': ['ls', 'huber'], 'learning_rate': array([0.1, 0.2, 0.3, 0.4, 0.5, 0.6]), 'max_depth': [1, 2, 3, 4]}\n",
      "Fitting 5 folds for each of 480 candidates, totalling 2400 fits\n"
     ]
    },
    {
     "name": "stderr",
     "output_type": "stream",
     "text": [
      "[Parallel(n_jobs=-1)]: Using backend LokyBackend with 4 concurrent workers.\n",
      "[Parallel(n_jobs=-1)]: Done 136 tasks      | elapsed:    1.0s\n",
      "[Parallel(n_jobs=-1)]: Done 904 tasks      | elapsed:    9.9s\n",
      "[Parallel(n_jobs=-1)]: Done 2184 tasks      | elapsed:   24.5s\n",
      "[Parallel(n_jobs=-1)]: Done 2400 out of 2400 | elapsed:   27.8s finished\n",
      "C:\\Users\\chris\\Anaconda2\\lib\\site-packages\\sklearn\\model_selection\\_search.py:841: DeprecationWarning: The default of the `iid` parameter will change from True to False in version 0.22 and will be removed in 0.24. This will change numeric results when test-set sizes are unequal.\n",
      "  DeprecationWarning)\n"
     ]
    },
    {
     "name": "stdout",
     "output_type": "stream",
     "text": [
      "Fitting 5 folds for each of 480 candidates, totalling 2400 fits\n"
     ]
    },
    {
     "name": "stderr",
     "output_type": "stream",
     "text": [
      "[Parallel(n_jobs=-1)]: Using backend LokyBackend with 4 concurrent workers.\n",
      "[Parallel(n_jobs=-1)]: Done 152 tasks      | elapsed:    1.4s\n",
      "[Parallel(n_jobs=-1)]: Done 1304 tasks      | elapsed:   15.0s\n",
      "[Parallel(n_jobs=-1)]: Done 2400 out of 2400 | elapsed:   28.7s finished\n",
      "C:\\Users\\chris\\Anaconda2\\lib\\site-packages\\sklearn\\model_selection\\_search.py:841: DeprecationWarning: The default of the `iid` parameter will change from True to False in version 0.22 and will be removed in 0.24. This will change numeric results when test-set sizes are unequal.\n",
      "  DeprecationWarning)\n"
     ]
    },
    {
     "name": "stdout",
     "output_type": "stream",
     "text": [
      "Games predicted: 245\n",
      "\n",
      "\n",
      "Now Starting Simulation Number: 236\n",
      "\n",
      "\n",
      "{'n_estimators': [10, 12, 14, 16, 18, 20, 22, 24, 26, 28], 'loss': ['ls', 'huber'], 'learning_rate': array([0.1, 0.2, 0.3, 0.4, 0.5, 0.6]), 'max_depth': [1, 2, 3, 4]}\n",
      "Fitting 5 folds for each of 480 candidates, totalling 2400 fits\n"
     ]
    },
    {
     "name": "stderr",
     "output_type": "stream",
     "text": [
      "[Parallel(n_jobs=-1)]: Using backend LokyBackend with 4 concurrent workers.\n",
      "[Parallel(n_jobs=-1)]: Done 136 tasks      | elapsed:    1.1s\n",
      "[Parallel(n_jobs=-1)]: Done 904 tasks      | elapsed:   11.1s\n",
      "[Parallel(n_jobs=-1)]: Done 2184 tasks      | elapsed:   26.2s\n",
      "[Parallel(n_jobs=-1)]: Done 2400 out of 2400 | elapsed:   29.3s finished\n",
      "C:\\Users\\chris\\Anaconda2\\lib\\site-packages\\sklearn\\model_selection\\_search.py:841: DeprecationWarning: The default of the `iid` parameter will change from True to False in version 0.22 and will be removed in 0.24. This will change numeric results when test-set sizes are unequal.\n",
      "  DeprecationWarning)\n"
     ]
    },
    {
     "name": "stdout",
     "output_type": "stream",
     "text": [
      "Fitting 5 folds for each of 480 candidates, totalling 2400 fits\n"
     ]
    },
    {
     "name": "stderr",
     "output_type": "stream",
     "text": [
      "[Parallel(n_jobs=-1)]: Using backend LokyBackend with 4 concurrent workers.\n",
      "[Parallel(n_jobs=-1)]: Done 136 tasks      | elapsed:    1.0s\n",
      "[Parallel(n_jobs=-1)]: Done 904 tasks      | elapsed:    9.9s\n",
      "[Parallel(n_jobs=-1)]: Done 2184 tasks      | elapsed:   24.6s\n",
      "[Parallel(n_jobs=-1)]: Done 2400 out of 2400 | elapsed:   27.8s finished\n",
      "C:\\Users\\chris\\Anaconda2\\lib\\site-packages\\sklearn\\model_selection\\_search.py:841: DeprecationWarning: The default of the `iid` parameter will change from True to False in version 0.22 and will be removed in 0.24. This will change numeric results when test-set sizes are unequal.\n",
      "  DeprecationWarning)\n"
     ]
    },
    {
     "name": "stdout",
     "output_type": "stream",
     "text": [
      "Games predicted: 245\n",
      "\n",
      "\n",
      "Now Starting Simulation Number: 237\n",
      "\n",
      "\n",
      "{'n_estimators': [10, 12, 14, 16, 18, 20, 22, 24, 26, 28], 'loss': ['ls', 'huber'], 'learning_rate': array([0.1, 0.2, 0.3, 0.4, 0.5, 0.6]), 'max_depth': [1, 2, 3, 4]}\n",
      "Fitting 5 folds for each of 480 candidates, totalling 2400 fits\n"
     ]
    },
    {
     "name": "stderr",
     "output_type": "stream",
     "text": [
      "[Parallel(n_jobs=-1)]: Using backend LokyBackend with 4 concurrent workers.\n",
      "[Parallel(n_jobs=-1)]: Done 104 tasks      | elapsed:    0.8s\n",
      "[Parallel(n_jobs=-1)]: Done 680 tasks      | elapsed:    7.3s\n",
      "[Parallel(n_jobs=-1)]: Done 1640 tasks      | elapsed:   19.5s\n",
      "[Parallel(n_jobs=-1)]: Done 2400 out of 2400 | elapsed:   29.5s finished\n",
      "C:\\Users\\chris\\Anaconda2\\lib\\site-packages\\sklearn\\model_selection\\_search.py:841: DeprecationWarning: The default of the `iid` parameter will change from True to False in version 0.22 and will be removed in 0.24. This will change numeric results when test-set sizes are unequal.\n",
      "  DeprecationWarning)\n"
     ]
    },
    {
     "name": "stdout",
     "output_type": "stream",
     "text": [
      "Fitting 5 folds for each of 480 candidates, totalling 2400 fits\n"
     ]
    },
    {
     "name": "stderr",
     "output_type": "stream",
     "text": [
      "[Parallel(n_jobs=-1)]: Using backend LokyBackend with 4 concurrent workers.\n",
      "[Parallel(n_jobs=-1)]: Done 168 tasks      | elapsed:    1.5s\n",
      "[Parallel(n_jobs=-1)]: Done 1128 tasks      | elapsed:   13.8s\n",
      "[Parallel(n_jobs=-1)]: Done 2400 out of 2400 | elapsed:   28.6s finished\n",
      "C:\\Users\\chris\\Anaconda2\\lib\\site-packages\\sklearn\\model_selection\\_search.py:841: DeprecationWarning: The default of the `iid` parameter will change from True to False in version 0.22 and will be removed in 0.24. This will change numeric results when test-set sizes are unequal.\n",
      "  DeprecationWarning)\n"
     ]
    },
    {
     "name": "stdout",
     "output_type": "stream",
     "text": [
      "Games predicted: 245\n",
      "\n",
      "\n",
      "Now Starting Simulation Number: 238\n",
      "\n",
      "\n",
      "{'n_estimators': [10, 12, 14, 16, 18, 20, 22, 24, 26, 28], 'loss': ['ls', 'huber'], 'learning_rate': array([0.1, 0.2, 0.3, 0.4, 0.5, 0.6]), 'max_depth': [1, 2, 3, 4]}\n",
      "Fitting 5 folds for each of 480 candidates, totalling 2400 fits\n"
     ]
    },
    {
     "name": "stderr",
     "output_type": "stream",
     "text": [
      "[Parallel(n_jobs=-1)]: Using backend LokyBackend with 4 concurrent workers.\n",
      "[Parallel(n_jobs=-1)]: Done 136 tasks      | elapsed:    1.0s\n",
      "[Parallel(n_jobs=-1)]: Done 904 tasks      | elapsed:    9.9s\n",
      "[Parallel(n_jobs=-1)]: Done 2184 tasks      | elapsed:   24.7s\n",
      "[Parallel(n_jobs=-1)]: Done 2400 out of 2400 | elapsed:   27.9s finished\n",
      "C:\\Users\\chris\\Anaconda2\\lib\\site-packages\\sklearn\\model_selection\\_search.py:841: DeprecationWarning: The default of the `iid` parameter will change from True to False in version 0.22 and will be removed in 0.24. This will change numeric results when test-set sizes are unequal.\n",
      "  DeprecationWarning)\n"
     ]
    },
    {
     "name": "stdout",
     "output_type": "stream",
     "text": [
      "Fitting 5 folds for each of 480 candidates, totalling 2400 fits\n"
     ]
    },
    {
     "name": "stderr",
     "output_type": "stream",
     "text": [
      "[Parallel(n_jobs=-1)]: Using backend LokyBackend with 4 concurrent workers.\n",
      "[Parallel(n_jobs=-1)]: Done 168 tasks      | elapsed:    1.4s\n",
      "[Parallel(n_jobs=-1)]: Done 1128 tasks      | elapsed:   13.1s\n",
      "[Parallel(n_jobs=-1)]: Done 2400 out of 2400 | elapsed:   29.5s finished\n",
      "C:\\Users\\chris\\Anaconda2\\lib\\site-packages\\sklearn\\model_selection\\_search.py:841: DeprecationWarning: The default of the `iid` parameter will change from True to False in version 0.22 and will be removed in 0.24. This will change numeric results when test-set sizes are unequal.\n",
      "  DeprecationWarning)\n"
     ]
    },
    {
     "name": "stdout",
     "output_type": "stream",
     "text": [
      "Games predicted: 245\n",
      "\n",
      "\n",
      "Now Starting Simulation Number: 239\n",
      "\n",
      "\n",
      "{'n_estimators': [10, 12, 14, 16, 18, 20, 22, 24, 26, 28], 'loss': ['ls', 'huber'], 'learning_rate': array([0.1, 0.2, 0.3, 0.4, 0.5, 0.6]), 'max_depth': [1, 2, 3, 4]}\n",
      "Fitting 5 folds for each of 480 candidates, totalling 2400 fits\n"
     ]
    },
    {
     "name": "stderr",
     "output_type": "stream",
     "text": [
      "[Parallel(n_jobs=-1)]: Using backend LokyBackend with 4 concurrent workers.\n",
      "[Parallel(n_jobs=-1)]: Done 136 tasks      | elapsed:    1.1s\n",
      "[Parallel(n_jobs=-1)]: Done 904 tasks      | elapsed:   10.2s\n",
      "[Parallel(n_jobs=-1)]: Done 2184 tasks      | elapsed:   24.7s\n",
      "[Parallel(n_jobs=-1)]: Done 2400 out of 2400 | elapsed:   28.1s finished\n",
      "C:\\Users\\chris\\Anaconda2\\lib\\site-packages\\sklearn\\model_selection\\_search.py:841: DeprecationWarning: The default of the `iid` parameter will change from True to False in version 0.22 and will be removed in 0.24. This will change numeric results when test-set sizes are unequal.\n",
      "  DeprecationWarning)\n"
     ]
    },
    {
     "name": "stdout",
     "output_type": "stream",
     "text": [
      "Fitting 5 folds for each of 480 candidates, totalling 2400 fits\n"
     ]
    },
    {
     "name": "stderr",
     "output_type": "stream",
     "text": [
      "[Parallel(n_jobs=-1)]: Using backend LokyBackend with 4 concurrent workers.\n",
      "[Parallel(n_jobs=-1)]: Done 168 tasks      | elapsed:    1.4s\n",
      "[Parallel(n_jobs=-1)]: Done 1128 tasks      | elapsed:   12.6s\n",
      "[Parallel(n_jobs=-1)]: Done 2400 out of 2400 | elapsed:   29.2s finished\n",
      "C:\\Users\\chris\\Anaconda2\\lib\\site-packages\\sklearn\\model_selection\\_search.py:841: DeprecationWarning: The default of the `iid` parameter will change from True to False in version 0.22 and will be removed in 0.24. This will change numeric results when test-set sizes are unequal.\n",
      "  DeprecationWarning)\n"
     ]
    },
    {
     "name": "stdout",
     "output_type": "stream",
     "text": [
      "Games predicted: 245\n",
      "\n",
      "\n",
      "Now Starting Simulation Number: 240\n",
      "\n",
      "\n",
      "{'n_estimators': [10, 12, 14, 16, 18, 20, 22, 24, 26, 28], 'loss': ['ls', 'huber'], 'learning_rate': array([0.1, 0.2, 0.3, 0.4, 0.5, 0.6]), 'max_depth': [1, 2, 3, 4]}\n",
      "Fitting 5 folds for each of 480 candidates, totalling 2400 fits\n"
     ]
    },
    {
     "name": "stderr",
     "output_type": "stream",
     "text": [
      "[Parallel(n_jobs=-1)]: Using backend LokyBackend with 4 concurrent workers.\n",
      "[Parallel(n_jobs=-1)]: Done 104 tasks      | elapsed:    0.8s\n",
      "[Parallel(n_jobs=-1)]: Done 680 tasks      | elapsed:    7.9s\n",
      "[Parallel(n_jobs=-1)]: Done 1640 tasks      | elapsed:   20.0s\n",
      "[Parallel(n_jobs=-1)]: Done 2400 out of 2400 | elapsed:   29.0s finished\n",
      "C:\\Users\\chris\\Anaconda2\\lib\\site-packages\\sklearn\\model_selection\\_search.py:841: DeprecationWarning: The default of the `iid` parameter will change from True to False in version 0.22 and will be removed in 0.24. This will change numeric results when test-set sizes are unequal.\n",
      "  DeprecationWarning)\n"
     ]
    },
    {
     "name": "stdout",
     "output_type": "stream",
     "text": [
      "Fitting 5 folds for each of 480 candidates, totalling 2400 fits\n"
     ]
    },
    {
     "name": "stderr",
     "output_type": "stream",
     "text": [
      "[Parallel(n_jobs=-1)]: Using backend LokyBackend with 4 concurrent workers.\n",
      "[Parallel(n_jobs=-1)]: Done 168 tasks      | elapsed:    1.4s\n",
      "[Parallel(n_jobs=-1)]: Done 1128 tasks      | elapsed:   12.4s\n",
      "[Parallel(n_jobs=-1)]: Done 2400 out of 2400 | elapsed:   27.5s finished\n",
      "C:\\Users\\chris\\Anaconda2\\lib\\site-packages\\sklearn\\model_selection\\_search.py:841: DeprecationWarning: The default of the `iid` parameter will change from True to False in version 0.22 and will be removed in 0.24. This will change numeric results when test-set sizes are unequal.\n",
      "  DeprecationWarning)\n"
     ]
    },
    {
     "name": "stdout",
     "output_type": "stream",
     "text": [
      "Games predicted: 245\n",
      "\n",
      "\n",
      "Now Starting Simulation Number: 241\n",
      "\n",
      "\n",
      "{'n_estimators': [10, 12, 14, 16, 18, 20, 22, 24, 26, 28], 'loss': ['ls', 'huber'], 'learning_rate': array([0.1, 0.2, 0.3, 0.4, 0.5, 0.6]), 'max_depth': [1, 2, 3, 4]}\n",
      "Fitting 5 folds for each of 480 candidates, totalling 2400 fits\n"
     ]
    },
    {
     "name": "stderr",
     "output_type": "stream",
     "text": [
      "[Parallel(n_jobs=-1)]: Using backend LokyBackend with 4 concurrent workers.\n",
      "[Parallel(n_jobs=-1)]: Done 104 tasks      | elapsed:    0.7s\n",
      "[Parallel(n_jobs=-1)]: Done 680 tasks      | elapsed:    7.5s\n",
      "[Parallel(n_jobs=-1)]: Done 1640 tasks      | elapsed:   20.5s\n",
      "[Parallel(n_jobs=-1)]: Done 2400 out of 2400 | elapsed:   30.8s finished\n",
      "C:\\Users\\chris\\Anaconda2\\lib\\site-packages\\sklearn\\model_selection\\_search.py:841: DeprecationWarning: The default of the `iid` parameter will change from True to False in version 0.22 and will be removed in 0.24. This will change numeric results when test-set sizes are unequal.\n",
      "  DeprecationWarning)\n"
     ]
    },
    {
     "name": "stdout",
     "output_type": "stream",
     "text": [
      "Fitting 5 folds for each of 480 candidates, totalling 2400 fits\n"
     ]
    },
    {
     "name": "stderr",
     "output_type": "stream",
     "text": [
      "[Parallel(n_jobs=-1)]: Using backend LokyBackend with 4 concurrent workers.\n",
      "[Parallel(n_jobs=-1)]: Done 136 tasks      | elapsed:    1.2s\n",
      "[Parallel(n_jobs=-1)]: Done 904 tasks      | elapsed:   10.3s\n",
      "[Parallel(n_jobs=-1)]: Done 2184 tasks      | elapsed:   25.0s\n",
      "[Parallel(n_jobs=-1)]: Done 2400 out of 2400 | elapsed:   28.3s finished\n",
      "C:\\Users\\chris\\Anaconda2\\lib\\site-packages\\sklearn\\model_selection\\_search.py:841: DeprecationWarning: The default of the `iid` parameter will change from True to False in version 0.22 and will be removed in 0.24. This will change numeric results when test-set sizes are unequal.\n",
      "  DeprecationWarning)\n"
     ]
    },
    {
     "name": "stdout",
     "output_type": "stream",
     "text": [
      "Games predicted: 245\n",
      "\n",
      "\n",
      "Now Starting Simulation Number: 242\n",
      "\n",
      "\n",
      "{'n_estimators': [10, 12, 14, 16, 18, 20, 22, 24, 26, 28], 'loss': ['ls', 'huber'], 'learning_rate': array([0.1, 0.2, 0.3, 0.4, 0.5, 0.6]), 'max_depth': [1, 2, 3, 4]}\n",
      "Fitting 5 folds for each of 480 candidates, totalling 2400 fits\n"
     ]
    },
    {
     "name": "stderr",
     "output_type": "stream",
     "text": [
      "[Parallel(n_jobs=-1)]: Using backend LokyBackend with 4 concurrent workers.\n",
      "[Parallel(n_jobs=-1)]: Done 104 tasks      | elapsed:    0.7s\n",
      "[Parallel(n_jobs=-1)]: Done 680 tasks      | elapsed:    8.0s\n",
      "[Parallel(n_jobs=-1)]: Done 1640 tasks      | elapsed:   20.5s\n",
      "[Parallel(n_jobs=-1)]: Done 2400 out of 2400 | elapsed:   30.4s finished\n",
      "C:\\Users\\chris\\Anaconda2\\lib\\site-packages\\sklearn\\model_selection\\_search.py:841: DeprecationWarning: The default of the `iid` parameter will change from True to False in version 0.22 and will be removed in 0.24. This will change numeric results when test-set sizes are unequal.\n",
      "  DeprecationWarning)\n"
     ]
    },
    {
     "name": "stdout",
     "output_type": "stream",
     "text": [
      "Fitting 5 folds for each of 480 candidates, totalling 2400 fits\n"
     ]
    },
    {
     "name": "stderr",
     "output_type": "stream",
     "text": [
      "[Parallel(n_jobs=-1)]: Using backend LokyBackend with 4 concurrent workers.\n",
      "[Parallel(n_jobs=-1)]: Done 168 tasks      | elapsed:    1.5s\n",
      "[Parallel(n_jobs=-1)]: Done 1128 tasks      | elapsed:   14.0s\n",
      "[Parallel(n_jobs=-1)]: Done 2400 out of 2400 | elapsed:   29.5s finished\n",
      "C:\\Users\\chris\\Anaconda2\\lib\\site-packages\\sklearn\\model_selection\\_search.py:841: DeprecationWarning: The default of the `iid` parameter will change from True to False in version 0.22 and will be removed in 0.24. This will change numeric results when test-set sizes are unequal.\n",
      "  DeprecationWarning)\n"
     ]
    },
    {
     "name": "stdout",
     "output_type": "stream",
     "text": [
      "Games predicted: 245\n",
      "\n",
      "\n",
      "Now Starting Simulation Number: 243\n",
      "\n",
      "\n",
      "{'n_estimators': [10, 12, 14, 16, 18, 20, 22, 24, 26, 28], 'loss': ['ls', 'huber'], 'learning_rate': array([0.1, 0.2, 0.3, 0.4, 0.5, 0.6]), 'max_depth': [1, 2, 3, 4]}\n",
      "Fitting 5 folds for each of 480 candidates, totalling 2400 fits\n"
     ]
    },
    {
     "name": "stderr",
     "output_type": "stream",
     "text": [
      "[Parallel(n_jobs=-1)]: Using backend LokyBackend with 4 concurrent workers.\n",
      "[Parallel(n_jobs=-1)]: Done 136 tasks      | elapsed:    1.0s\n",
      "[Parallel(n_jobs=-1)]: Done 904 tasks      | elapsed:    9.8s\n",
      "[Parallel(n_jobs=-1)]: Done 2184 tasks      | elapsed:   24.7s\n",
      "[Parallel(n_jobs=-1)]: Done 2400 out of 2400 | elapsed:   27.8s finished\n",
      "C:\\Users\\chris\\Anaconda2\\lib\\site-packages\\sklearn\\model_selection\\_search.py:841: DeprecationWarning: The default of the `iid` parameter will change from True to False in version 0.22 and will be removed in 0.24. This will change numeric results when test-set sizes are unequal.\n",
      "  DeprecationWarning)\n"
     ]
    },
    {
     "name": "stdout",
     "output_type": "stream",
     "text": [
      "Fitting 5 folds for each of 480 candidates, totalling 2400 fits\n"
     ]
    },
    {
     "name": "stderr",
     "output_type": "stream",
     "text": [
      "[Parallel(n_jobs=-1)]: Using backend LokyBackend with 4 concurrent workers.\n",
      "[Parallel(n_jobs=-1)]: Done 168 tasks      | elapsed:    1.4s\n",
      "[Parallel(n_jobs=-1)]: Done 1128 tasks      | elapsed:   13.0s\n",
      "[Parallel(n_jobs=-1)]: Done 2400 out of 2400 | elapsed:   29.5s finished\n",
      "C:\\Users\\chris\\Anaconda2\\lib\\site-packages\\sklearn\\model_selection\\_search.py:841: DeprecationWarning: The default of the `iid` parameter will change from True to False in version 0.22 and will be removed in 0.24. This will change numeric results when test-set sizes are unequal.\n",
      "  DeprecationWarning)\n"
     ]
    },
    {
     "name": "stdout",
     "output_type": "stream",
     "text": [
      "Games predicted: 245\n",
      "\n",
      "\n",
      "Now Starting Simulation Number: 244\n",
      "\n",
      "\n",
      "{'n_estimators': [10, 12, 14, 16, 18, 20, 22, 24, 26, 28], 'loss': ['ls', 'huber'], 'learning_rate': array([0.1, 0.2, 0.3, 0.4, 0.5, 0.6]), 'max_depth': [1, 2, 3, 4]}\n",
      "Fitting 5 folds for each of 480 candidates, totalling 2400 fits\n"
     ]
    },
    {
     "name": "stderr",
     "output_type": "stream",
     "text": [
      "[Parallel(n_jobs=-1)]: Using backend LokyBackend with 4 concurrent workers.\n",
      "[Parallel(n_jobs=-1)]: Done 136 tasks      | elapsed:    1.4s\n",
      "[Parallel(n_jobs=-1)]: Done 904 tasks      | elapsed:   10.3s\n",
      "[Parallel(n_jobs=-1)]: Done 2184 tasks      | elapsed:   25.4s\n",
      "[Parallel(n_jobs=-1)]: Done 2400 out of 2400 | elapsed:   28.6s finished\n",
      "C:\\Users\\chris\\Anaconda2\\lib\\site-packages\\sklearn\\model_selection\\_search.py:841: DeprecationWarning: The default of the `iid` parameter will change from True to False in version 0.22 and will be removed in 0.24. This will change numeric results when test-set sizes are unequal.\n",
      "  DeprecationWarning)\n"
     ]
    },
    {
     "name": "stdout",
     "output_type": "stream",
     "text": [
      "Fitting 5 folds for each of 480 candidates, totalling 2400 fits\n"
     ]
    },
    {
     "name": "stderr",
     "output_type": "stream",
     "text": [
      "[Parallel(n_jobs=-1)]: Using backend LokyBackend with 4 concurrent workers.\n",
      "[Parallel(n_jobs=-1)]: Done 168 tasks      | elapsed:    1.3s\n",
      "[Parallel(n_jobs=-1)]: Done 1512 tasks      | elapsed:   17.2s\n",
      "[Parallel(n_jobs=-1)]: Done 2400 out of 2400 | elapsed:   29.1s finished\n",
      "C:\\Users\\chris\\Anaconda2\\lib\\site-packages\\sklearn\\model_selection\\_search.py:841: DeprecationWarning: The default of the `iid` parameter will change from True to False in version 0.22 and will be removed in 0.24. This will change numeric results when test-set sizes are unequal.\n",
      "  DeprecationWarning)\n"
     ]
    },
    {
     "name": "stdout",
     "output_type": "stream",
     "text": [
      "Games predicted: 245\n",
      "\n",
      "\n",
      "Now Starting Simulation Number: 245\n",
      "\n",
      "\n",
      "{'n_estimators': [10, 12, 14, 16, 18, 20, 22, 24, 26, 28], 'loss': ['ls', 'huber'], 'learning_rate': array([0.1, 0.2, 0.3, 0.4, 0.5, 0.6]), 'max_depth': [1, 2, 3, 4]}\n",
      "Fitting 5 folds for each of 480 candidates, totalling 2400 fits\n"
     ]
    },
    {
     "name": "stderr",
     "output_type": "stream",
     "text": [
      "[Parallel(n_jobs=-1)]: Using backend LokyBackend with 4 concurrent workers.\n",
      "[Parallel(n_jobs=-1)]: Done 104 tasks      | elapsed:    0.8s\n",
      "[Parallel(n_jobs=-1)]: Done 680 tasks      | elapsed:    7.7s\n",
      "[Parallel(n_jobs=-1)]: Done 1640 tasks      | elapsed:   19.5s\n",
      "[Parallel(n_jobs=-1)]: Done 2400 out of 2400 | elapsed:   28.4s finished\n",
      "C:\\Users\\chris\\Anaconda2\\lib\\site-packages\\sklearn\\model_selection\\_search.py:841: DeprecationWarning: The default of the `iid` parameter will change from True to False in version 0.22 and will be removed in 0.24. This will change numeric results when test-set sizes are unequal.\n",
      "  DeprecationWarning)\n"
     ]
    },
    {
     "name": "stdout",
     "output_type": "stream",
     "text": [
      "Fitting 5 folds for each of 480 candidates, totalling 2400 fits\n"
     ]
    },
    {
     "name": "stderr",
     "output_type": "stream",
     "text": [
      "[Parallel(n_jobs=-1)]: Using backend LokyBackend with 4 concurrent workers.\n",
      "[Parallel(n_jobs=-1)]: Done 168 tasks      | elapsed:    1.3s\n",
      "[Parallel(n_jobs=-1)]: Done 1128 tasks      | elapsed:   12.4s\n",
      "[Parallel(n_jobs=-1)]: Done 2400 out of 2400 | elapsed:   27.9s finished\n",
      "C:\\Users\\chris\\Anaconda2\\lib\\site-packages\\sklearn\\model_selection\\_search.py:841: DeprecationWarning: The default of the `iid` parameter will change from True to False in version 0.22 and will be removed in 0.24. This will change numeric results when test-set sizes are unequal.\n",
      "  DeprecationWarning)\n"
     ]
    },
    {
     "name": "stdout",
     "output_type": "stream",
     "text": [
      "Games predicted: 245\n",
      "\n",
      "\n",
      "Now Starting Simulation Number: 246\n",
      "\n",
      "\n",
      "{'n_estimators': [10, 12, 14, 16, 18, 20, 22, 24, 26, 28], 'loss': ['ls', 'huber'], 'learning_rate': array([0.1, 0.2, 0.3, 0.4, 0.5, 0.6]), 'max_depth': [1, 2, 3, 4]}\n",
      "Fitting 5 folds for each of 480 candidates, totalling 2400 fits\n"
     ]
    },
    {
     "name": "stderr",
     "output_type": "stream",
     "text": [
      "[Parallel(n_jobs=-1)]: Using backend LokyBackend with 4 concurrent workers.\n",
      "[Parallel(n_jobs=-1)]: Done 104 tasks      | elapsed:    0.7s\n",
      "[Parallel(n_jobs=-1)]: Done 680 tasks      | elapsed:    7.7s\n",
      "[Parallel(n_jobs=-1)]: Done 1640 tasks      | elapsed:   20.4s\n",
      "[Parallel(n_jobs=-1)]: Done 2400 out of 2400 | elapsed:   30.1s finished\n",
      "C:\\Users\\chris\\Anaconda2\\lib\\site-packages\\sklearn\\model_selection\\_search.py:841: DeprecationWarning: The default of the `iid` parameter will change from True to False in version 0.22 and will be removed in 0.24. This will change numeric results when test-set sizes are unequal.\n",
      "  DeprecationWarning)\n"
     ]
    },
    {
     "name": "stdout",
     "output_type": "stream",
     "text": [
      "Fitting 5 folds for each of 480 candidates, totalling 2400 fits\n"
     ]
    },
    {
     "name": "stderr",
     "output_type": "stream",
     "text": [
      "[Parallel(n_jobs=-1)]: Using backend LokyBackend with 4 concurrent workers.\n",
      "[Parallel(n_jobs=-1)]: Done 200 tasks      | elapsed:    1.9s\n",
      "[Parallel(n_jobs=-1)]: Done 1928 tasks      | elapsed:   21.4s\n",
      "[Parallel(n_jobs=-1)]: Done 2400 out of 2400 | elapsed:   27.3s finished\n",
      "C:\\Users\\chris\\Anaconda2\\lib\\site-packages\\sklearn\\model_selection\\_search.py:841: DeprecationWarning: The default of the `iid` parameter will change from True to False in version 0.22 and will be removed in 0.24. This will change numeric results when test-set sizes are unequal.\n",
      "  DeprecationWarning)\n"
     ]
    },
    {
     "name": "stdout",
     "output_type": "stream",
     "text": [
      "Games predicted: 245\n",
      "\n",
      "\n",
      "Now Starting Simulation Number: 247\n",
      "\n",
      "\n",
      "{'n_estimators': [10, 12, 14, 16, 18, 20, 22, 24, 26, 28], 'loss': ['ls', 'huber'], 'learning_rate': array([0.1, 0.2, 0.3, 0.4, 0.5, 0.6]), 'max_depth': [1, 2, 3, 4]}\n",
      "Fitting 5 folds for each of 480 candidates, totalling 2400 fits\n"
     ]
    },
    {
     "name": "stderr",
     "output_type": "stream",
     "text": [
      "[Parallel(n_jobs=-1)]: Using backend LokyBackend with 4 concurrent workers.\n",
      "[Parallel(n_jobs=-1)]: Done 136 tasks      | elapsed:    1.0s\n",
      "[Parallel(n_jobs=-1)]: Done 904 tasks      | elapsed:   10.1s\n",
      "[Parallel(n_jobs=-1)]: Done 2184 tasks      | elapsed:   26.0s\n",
      "[Parallel(n_jobs=-1)]: Done 2400 out of 2400 | elapsed:   29.5s finished\n",
      "C:\\Users\\chris\\Anaconda2\\lib\\site-packages\\sklearn\\model_selection\\_search.py:841: DeprecationWarning: The default of the `iid` parameter will change from True to False in version 0.22 and will be removed in 0.24. This will change numeric results when test-set sizes are unequal.\n",
      "  DeprecationWarning)\n"
     ]
    },
    {
     "name": "stdout",
     "output_type": "stream",
     "text": [
      "Fitting 5 folds for each of 480 candidates, totalling 2400 fits\n"
     ]
    },
    {
     "name": "stderr",
     "output_type": "stream",
     "text": [
      "[Parallel(n_jobs=-1)]: Using backend LokyBackend with 4 concurrent workers.\n",
      "[Parallel(n_jobs=-1)]: Done 168 tasks      | elapsed:    1.5s\n",
      "[Parallel(n_jobs=-1)]: Done 1128 tasks      | elapsed:   13.1s\n",
      "[Parallel(n_jobs=-1)]: Done 2400 out of 2400 | elapsed:   28.0s finished\n",
      "C:\\Users\\chris\\Anaconda2\\lib\\site-packages\\sklearn\\model_selection\\_search.py:841: DeprecationWarning: The default of the `iid` parameter will change from True to False in version 0.22 and will be removed in 0.24. This will change numeric results when test-set sizes are unequal.\n",
      "  DeprecationWarning)\n"
     ]
    },
    {
     "name": "stdout",
     "output_type": "stream",
     "text": [
      "Games predicted: 245\n",
      "\n",
      "\n",
      "Now Starting Simulation Number: 248\n",
      "\n",
      "\n",
      "{'n_estimators': [10, 12, 14, 16, 18, 20, 22, 24, 26, 28], 'loss': ['ls', 'huber'], 'learning_rate': array([0.1, 0.2, 0.3, 0.4, 0.5, 0.6]), 'max_depth': [1, 2, 3, 4]}\n",
      "Fitting 5 folds for each of 480 candidates, totalling 2400 fits\n"
     ]
    },
    {
     "name": "stderr",
     "output_type": "stream",
     "text": [
      "[Parallel(n_jobs=-1)]: Using backend LokyBackend with 4 concurrent workers.\n",
      "[Parallel(n_jobs=-1)]: Done 136 tasks      | elapsed:    1.0s\n",
      "[Parallel(n_jobs=-1)]: Done 904 tasks      | elapsed:    9.9s\n",
      "[Parallel(n_jobs=-1)]: Done 2184 tasks      | elapsed:   24.6s\n",
      "[Parallel(n_jobs=-1)]: Done 2400 out of 2400 | elapsed:   27.9s finished\n",
      "C:\\Users\\chris\\Anaconda2\\lib\\site-packages\\sklearn\\model_selection\\_search.py:841: DeprecationWarning: The default of the `iid` parameter will change from True to False in version 0.22 and will be removed in 0.24. This will change numeric results when test-set sizes are unequal.\n",
      "  DeprecationWarning)\n"
     ]
    },
    {
     "name": "stdout",
     "output_type": "stream",
     "text": [
      "Fitting 5 folds for each of 480 candidates, totalling 2400 fits\n"
     ]
    },
    {
     "name": "stderr",
     "output_type": "stream",
     "text": [
      "[Parallel(n_jobs=-1)]: Using backend LokyBackend with 4 concurrent workers.\n",
      "[Parallel(n_jobs=-1)]: Done 136 tasks      | elapsed:    1.1s\n",
      "[Parallel(n_jobs=-1)]: Done 904 tasks      | elapsed:   11.5s\n",
      "[Parallel(n_jobs=-1)]: Done 2184 tasks      | elapsed:   28.0s\n",
      "[Parallel(n_jobs=-1)]: Done 2400 out of 2400 | elapsed:   31.3s finished\n",
      "C:\\Users\\chris\\Anaconda2\\lib\\site-packages\\sklearn\\model_selection\\_search.py:841: DeprecationWarning: The default of the `iid` parameter will change from True to False in version 0.22 and will be removed in 0.24. This will change numeric results when test-set sizes are unequal.\n",
      "  DeprecationWarning)\n"
     ]
    },
    {
     "name": "stdout",
     "output_type": "stream",
     "text": [
      "Games predicted: 245\n",
      "\n",
      "\n",
      "Now Starting Simulation Number: 249\n",
      "\n",
      "\n",
      "{'n_estimators': [10, 12, 14, 16, 18, 20, 22, 24, 26, 28], 'loss': ['ls', 'huber'], 'learning_rate': array([0.1, 0.2, 0.3, 0.4, 0.5, 0.6]), 'max_depth': [1, 2, 3, 4]}\n",
      "Fitting 5 folds for each of 480 candidates, totalling 2400 fits\n"
     ]
    },
    {
     "name": "stderr",
     "output_type": "stream",
     "text": [
      "[Parallel(n_jobs=-1)]: Using backend LokyBackend with 4 concurrent workers.\n",
      "[Parallel(n_jobs=-1)]: Done 200 tasks      | elapsed:    1.8s\n",
      "[Parallel(n_jobs=-1)]: Done 1352 tasks      | elapsed:   15.2s\n",
      "[Parallel(n_jobs=-1)]: Done 2400 out of 2400 | elapsed:   27.9s finished\n",
      "C:\\Users\\chris\\Anaconda2\\lib\\site-packages\\sklearn\\model_selection\\_search.py:841: DeprecationWarning: The default of the `iid` parameter will change from True to False in version 0.22 and will be removed in 0.24. This will change numeric results when test-set sizes are unequal.\n",
      "  DeprecationWarning)\n"
     ]
    },
    {
     "name": "stdout",
     "output_type": "stream",
     "text": [
      "Fitting 5 folds for each of 480 candidates, totalling 2400 fits\n"
     ]
    },
    {
     "name": "stderr",
     "output_type": "stream",
     "text": [
      "[Parallel(n_jobs=-1)]: Using backend LokyBackend with 4 concurrent workers.\n",
      "[Parallel(n_jobs=-1)]: Done 168 tasks      | elapsed:    1.3s\n",
      "[Parallel(n_jobs=-1)]: Done 1128 tasks      | elapsed:   12.5s\n",
      "[Parallel(n_jobs=-1)]: Done 2400 out of 2400 | elapsed:   28.2s finished\n",
      "C:\\Users\\chris\\Anaconda2\\lib\\site-packages\\sklearn\\model_selection\\_search.py:841: DeprecationWarning: The default of the `iid` parameter will change from True to False in version 0.22 and will be removed in 0.24. This will change numeric results when test-set sizes are unequal.\n",
      "  DeprecationWarning)\n"
     ]
    },
    {
     "name": "stdout",
     "output_type": "stream",
     "text": [
      "Games predicted: 245\n",
      "\n",
      "\n",
      "Now Starting Simulation Number: 250\n",
      "\n",
      "\n",
      "{'n_estimators': [10, 12, 14, 16, 18, 20, 22, 24, 26, 28], 'loss': ['ls', 'huber'], 'learning_rate': array([0.1, 0.2, 0.3, 0.4, 0.5, 0.6]), 'max_depth': [1, 2, 3, 4]}\n",
      "Fitting 5 folds for each of 480 candidates, totalling 2400 fits\n"
     ]
    },
    {
     "name": "stderr",
     "output_type": "stream",
     "text": [
      "[Parallel(n_jobs=-1)]: Using backend LokyBackend with 4 concurrent workers.\n",
      "[Parallel(n_jobs=-1)]: Done 136 tasks      | elapsed:    1.2s\n",
      "[Parallel(n_jobs=-1)]: Done 904 tasks      | elapsed:   11.3s\n",
      "[Parallel(n_jobs=-1)]: Done 2184 tasks      | elapsed:   26.5s\n",
      "[Parallel(n_jobs=-1)]: Done 2400 out of 2400 | elapsed:   29.6s finished\n",
      "C:\\Users\\chris\\Anaconda2\\lib\\site-packages\\sklearn\\model_selection\\_search.py:841: DeprecationWarning: The default of the `iid` parameter will change from True to False in version 0.22 and will be removed in 0.24. This will change numeric results when test-set sizes are unequal.\n",
      "  DeprecationWarning)\n"
     ]
    },
    {
     "name": "stdout",
     "output_type": "stream",
     "text": [
      "Fitting 5 folds for each of 480 candidates, totalling 2400 fits\n"
     ]
    },
    {
     "name": "stderr",
     "output_type": "stream",
     "text": [
      "[Parallel(n_jobs=-1)]: Using backend LokyBackend with 4 concurrent workers.\n",
      "[Parallel(n_jobs=-1)]: Done 168 tasks      | elapsed:    1.3s\n",
      "[Parallel(n_jobs=-1)]: Done 1128 tasks      | elapsed:   12.4s\n",
      "[Parallel(n_jobs=-1)]: Done 2400 out of 2400 | elapsed:   28.1s finished\n",
      "C:\\Users\\chris\\Anaconda2\\lib\\site-packages\\sklearn\\model_selection\\_search.py:841: DeprecationWarning: The default of the `iid` parameter will change from True to False in version 0.22 and will be removed in 0.24. This will change numeric results when test-set sizes are unequal.\n",
      "  DeprecationWarning)\n"
     ]
    },
    {
     "name": "stdout",
     "output_type": "stream",
     "text": [
      "Games predicted: 245\n",
      "\n",
      "\n",
      "Now Starting Simulation Number: 251\n",
      "\n",
      "\n",
      "{'n_estimators': [10, 12, 14, 16, 18, 20, 22, 24, 26, 28], 'loss': ['ls', 'huber'], 'learning_rate': array([0.1, 0.2, 0.3, 0.4, 0.5, 0.6]), 'max_depth': [1, 2, 3, 4]}\n",
      "Fitting 5 folds for each of 480 candidates, totalling 2400 fits\n"
     ]
    },
    {
     "name": "stderr",
     "output_type": "stream",
     "text": [
      "[Parallel(n_jobs=-1)]: Using backend LokyBackend with 4 concurrent workers.\n",
      "[Parallel(n_jobs=-1)]: Done 136 tasks      | elapsed:    1.0s\n",
      "[Parallel(n_jobs=-1)]: Done 904 tasks      | elapsed:   10.3s\n",
      "[Parallel(n_jobs=-1)]: Done 2184 tasks      | elapsed:   26.3s\n",
      "[Parallel(n_jobs=-1)]: Done 2400 out of 2400 | elapsed:   29.7s finished\n",
      "C:\\Users\\chris\\Anaconda2\\lib\\site-packages\\sklearn\\model_selection\\_search.py:841: DeprecationWarning: The default of the `iid` parameter will change from True to False in version 0.22 and will be removed in 0.24. This will change numeric results when test-set sizes are unequal.\n",
      "  DeprecationWarning)\n"
     ]
    },
    {
     "name": "stdout",
     "output_type": "stream",
     "text": [
      "Fitting 5 folds for each of 480 candidates, totalling 2400 fits\n"
     ]
    },
    {
     "name": "stderr",
     "output_type": "stream",
     "text": [
      "[Parallel(n_jobs=-1)]: Using backend LokyBackend with 4 concurrent workers.\n",
      "[Parallel(n_jobs=-1)]: Done 184 tasks      | elapsed:    1.7s\n",
      "[Parallel(n_jobs=-1)]: Done 1720 tasks      | elapsed:   19.4s\n",
      "[Parallel(n_jobs=-1)]: Done 2400 out of 2400 | elapsed:   27.6s finished\n",
      "C:\\Users\\chris\\Anaconda2\\lib\\site-packages\\sklearn\\model_selection\\_search.py:841: DeprecationWarning: The default of the `iid` parameter will change from True to False in version 0.22 and will be removed in 0.24. This will change numeric results when test-set sizes are unequal.\n",
      "  DeprecationWarning)\n"
     ]
    },
    {
     "name": "stdout",
     "output_type": "stream",
     "text": [
      "Games predicted: 245\n",
      "\n",
      "\n",
      "Now Starting Simulation Number: 252\n",
      "\n",
      "\n",
      "{'n_estimators': [10, 12, 14, 16, 18, 20, 22, 24, 26, 28], 'loss': ['ls', 'huber'], 'learning_rate': array([0.1, 0.2, 0.3, 0.4, 0.5, 0.6]), 'max_depth': [1, 2, 3, 4]}\n",
      "Fitting 5 folds for each of 480 candidates, totalling 2400 fits\n"
     ]
    },
    {
     "name": "stderr",
     "output_type": "stream",
     "text": [
      "[Parallel(n_jobs=-1)]: Using backend LokyBackend with 4 concurrent workers.\n",
      "[Parallel(n_jobs=-1)]: Done 136 tasks      | elapsed:    1.0s\n",
      "[Parallel(n_jobs=-1)]: Done 904 tasks      | elapsed:    9.9s\n",
      "[Parallel(n_jobs=-1)]: Done 2184 tasks      | elapsed:   24.7s\n",
      "[Parallel(n_jobs=-1)]: Done 2400 out of 2400 | elapsed:   28.2s finished\n",
      "C:\\Users\\chris\\Anaconda2\\lib\\site-packages\\sklearn\\model_selection\\_search.py:841: DeprecationWarning: The default of the `iid` parameter will change from True to False in version 0.22 and will be removed in 0.24. This will change numeric results when test-set sizes are unequal.\n",
      "  DeprecationWarning)\n"
     ]
    },
    {
     "name": "stdout",
     "output_type": "stream",
     "text": [
      "Fitting 5 folds for each of 480 candidates, totalling 2400 fits\n"
     ]
    },
    {
     "name": "stderr",
     "output_type": "stream",
     "text": [
      "[Parallel(n_jobs=-1)]: Using backend LokyBackend with 4 concurrent workers.\n",
      "[Parallel(n_jobs=-1)]: Done 104 tasks      | elapsed:    0.7s\n",
      "[Parallel(n_jobs=-1)]: Done 680 tasks      | elapsed:    7.6s\n",
      "[Parallel(n_jobs=-1)]: Done 1640 tasks      | elapsed:   20.3s\n",
      "[Parallel(n_jobs=-1)]: Done 2400 out of 2400 | elapsed:   29.9s finished\n",
      "C:\\Users\\chris\\Anaconda2\\lib\\site-packages\\sklearn\\model_selection\\_search.py:841: DeprecationWarning: The default of the `iid` parameter will change from True to False in version 0.22 and will be removed in 0.24. This will change numeric results when test-set sizes are unequal.\n",
      "  DeprecationWarning)\n"
     ]
    },
    {
     "name": "stdout",
     "output_type": "stream",
     "text": [
      "Games predicted: 245\n",
      "\n",
      "\n",
      "Now Starting Simulation Number: 253\n",
      "\n",
      "\n",
      "{'n_estimators': [10, 12, 14, 16, 18, 20, 22, 24, 26, 28], 'loss': ['ls', 'huber'], 'learning_rate': array([0.1, 0.2, 0.3, 0.4, 0.5, 0.6]), 'max_depth': [1, 2, 3, 4]}\n",
      "Fitting 5 folds for each of 480 candidates, totalling 2400 fits\n"
     ]
    },
    {
     "name": "stderr",
     "output_type": "stream",
     "text": [
      "[Parallel(n_jobs=-1)]: Using backend LokyBackend with 4 concurrent workers.\n",
      "[Parallel(n_jobs=-1)]: Done 104 tasks      | elapsed:    0.9s\n",
      "[Parallel(n_jobs=-1)]: Done 680 tasks      | elapsed:    7.7s\n",
      "[Parallel(n_jobs=-1)]: Done 1640 tasks      | elapsed:   19.3s\n",
      "[Parallel(n_jobs=-1)]: Done 2400 out of 2400 | elapsed:   28.3s finished\n",
      "C:\\Users\\chris\\Anaconda2\\lib\\site-packages\\sklearn\\model_selection\\_search.py:841: DeprecationWarning: The default of the `iid` parameter will change from True to False in version 0.22 and will be removed in 0.24. This will change numeric results when test-set sizes are unequal.\n",
      "  DeprecationWarning)\n"
     ]
    },
    {
     "name": "stdout",
     "output_type": "stream",
     "text": [
      "Fitting 5 folds for each of 480 candidates, totalling 2400 fits\n"
     ]
    },
    {
     "name": "stderr",
     "output_type": "stream",
     "text": [
      "[Parallel(n_jobs=-1)]: Using backend LokyBackend with 4 concurrent workers.\n",
      "[Parallel(n_jobs=-1)]: Done 136 tasks      | elapsed:    1.0s\n",
      "[Parallel(n_jobs=-1)]: Done 904 tasks      | elapsed:   10.0s\n",
      "[Parallel(n_jobs=-1)]: Done 2184 tasks      | elapsed:   25.2s\n",
      "[Parallel(n_jobs=-1)]: Done 2400 out of 2400 | elapsed:   28.6s finished\n",
      "C:\\Users\\chris\\Anaconda2\\lib\\site-packages\\sklearn\\model_selection\\_search.py:841: DeprecationWarning: The default of the `iid` parameter will change from True to False in version 0.22 and will be removed in 0.24. This will change numeric results when test-set sizes are unequal.\n",
      "  DeprecationWarning)\n"
     ]
    },
    {
     "name": "stdout",
     "output_type": "stream",
     "text": [
      "Games predicted: 245\n",
      "\n",
      "\n",
      "Now Starting Simulation Number: 254\n",
      "\n",
      "\n",
      "{'n_estimators': [10, 12, 14, 16, 18, 20, 22, 24, 26, 28], 'loss': ['ls', 'huber'], 'learning_rate': array([0.1, 0.2, 0.3, 0.4, 0.5, 0.6]), 'max_depth': [1, 2, 3, 4]}\n",
      "Fitting 5 folds for each of 480 candidates, totalling 2400 fits\n"
     ]
    },
    {
     "name": "stderr",
     "output_type": "stream",
     "text": [
      "[Parallel(n_jobs=-1)]: Using backend LokyBackend with 4 concurrent workers.\n",
      "[Parallel(n_jobs=-1)]: Done 136 tasks      | elapsed:    1.1s\n",
      "[Parallel(n_jobs=-1)]: Done 904 tasks      | elapsed:   10.7s\n",
      "[Parallel(n_jobs=-1)]: Done 2184 tasks      | elapsed:   25.8s\n",
      "[Parallel(n_jobs=-1)]: Done 2400 out of 2400 | elapsed:   28.9s finished\n",
      "C:\\Users\\chris\\Anaconda2\\lib\\site-packages\\sklearn\\model_selection\\_search.py:841: DeprecationWarning: The default of the `iid` parameter will change from True to False in version 0.22 and will be removed in 0.24. This will change numeric results when test-set sizes are unequal.\n",
      "  DeprecationWarning)\n"
     ]
    },
    {
     "name": "stdout",
     "output_type": "stream",
     "text": [
      "Fitting 5 folds for each of 480 candidates, totalling 2400 fits\n"
     ]
    },
    {
     "name": "stderr",
     "output_type": "stream",
     "text": [
      "[Parallel(n_jobs=-1)]: Using backend LokyBackend with 4 concurrent workers.\n",
      "[Parallel(n_jobs=-1)]: Done 200 tasks      | elapsed:    1.8s\n",
      "[Parallel(n_jobs=-1)]: Done 1352 tasks      | elapsed:   14.8s\n",
      "[Parallel(n_jobs=-1)]: Done 2400 out of 2400 | elapsed:   28.2s finished\n",
      "C:\\Users\\chris\\Anaconda2\\lib\\site-packages\\sklearn\\model_selection\\_search.py:841: DeprecationWarning: The default of the `iid` parameter will change from True to False in version 0.22 and will be removed in 0.24. This will change numeric results when test-set sizes are unequal.\n",
      "  DeprecationWarning)\n"
     ]
    },
    {
     "name": "stdout",
     "output_type": "stream",
     "text": [
      "Games predicted: 245\n",
      "\n",
      "\n",
      "Now Starting Simulation Number: 255\n",
      "\n",
      "\n",
      "{'n_estimators': [10, 12, 14, 16, 18, 20, 22, 24, 26, 28], 'loss': ['ls', 'huber'], 'learning_rate': array([0.1, 0.2, 0.3, 0.4, 0.5, 0.6]), 'max_depth': [1, 2, 3, 4]}\n",
      "Fitting 5 folds for each of 480 candidates, totalling 2400 fits\n"
     ]
    },
    {
     "name": "stderr",
     "output_type": "stream",
     "text": [
      "[Parallel(n_jobs=-1)]: Using backend LokyBackend with 4 concurrent workers.\n",
      "[Parallel(n_jobs=-1)]: Done 104 tasks      | elapsed:    0.8s\n",
      "[Parallel(n_jobs=-1)]: Done 680 tasks      | elapsed:    7.8s\n",
      "[Parallel(n_jobs=-1)]: Done 1640 tasks      | elapsed:   20.9s\n",
      "[Parallel(n_jobs=-1)]: Done 2400 out of 2400 | elapsed:   29.9s finished\n",
      "C:\\Users\\chris\\Anaconda2\\lib\\site-packages\\sklearn\\model_selection\\_search.py:841: DeprecationWarning: The default of the `iid` parameter will change from True to False in version 0.22 and will be removed in 0.24. This will change numeric results when test-set sizes are unequal.\n",
      "  DeprecationWarning)\n"
     ]
    },
    {
     "name": "stdout",
     "output_type": "stream",
     "text": [
      "Fitting 5 folds for each of 480 candidates, totalling 2400 fits\n"
     ]
    },
    {
     "name": "stderr",
     "output_type": "stream",
     "text": [
      "[Parallel(n_jobs=-1)]: Using backend LokyBackend with 4 concurrent workers.\n",
      "[Parallel(n_jobs=-1)]: Done 168 tasks      | elapsed:    1.3s\n",
      "[Parallel(n_jobs=-1)]: Done 1128 tasks      | elapsed:   12.4s\n",
      "[Parallel(n_jobs=-1)]: Done 2400 out of 2400 | elapsed:   27.5s finished\n",
      "C:\\Users\\chris\\Anaconda2\\lib\\site-packages\\sklearn\\model_selection\\_search.py:841: DeprecationWarning: The default of the `iid` parameter will change from True to False in version 0.22 and will be removed in 0.24. This will change numeric results when test-set sizes are unequal.\n",
      "  DeprecationWarning)\n"
     ]
    },
    {
     "name": "stdout",
     "output_type": "stream",
     "text": [
      "Games predicted: 245\n",
      "\n",
      "\n",
      "Now Starting Simulation Number: 256\n",
      "\n",
      "\n",
      "{'n_estimators': [10, 12, 14, 16, 18, 20, 22, 24, 26, 28], 'loss': ['ls', 'huber'], 'learning_rate': array([0.1, 0.2, 0.3, 0.4, 0.5, 0.6]), 'max_depth': [1, 2, 3, 4]}\n",
      "Fitting 5 folds for each of 480 candidates, totalling 2400 fits\n"
     ]
    },
    {
     "name": "stderr",
     "output_type": "stream",
     "text": [
      "[Parallel(n_jobs=-1)]: Using backend LokyBackend with 4 concurrent workers.\n",
      "[Parallel(n_jobs=-1)]: Done 152 tasks      | elapsed:    1.3s\n",
      "[Parallel(n_jobs=-1)]: Done 1304 tasks      | elapsed:   15.6s\n",
      "[Parallel(n_jobs=-1)]: Done 2400 out of 2400 | elapsed:   29.7s finished\n",
      "C:\\Users\\chris\\Anaconda2\\lib\\site-packages\\sklearn\\model_selection\\_search.py:841: DeprecationWarning: The default of the `iid` parameter will change from True to False in version 0.22 and will be removed in 0.24. This will change numeric results when test-set sizes are unequal.\n",
      "  DeprecationWarning)\n"
     ]
    },
    {
     "name": "stdout",
     "output_type": "stream",
     "text": [
      "Fitting 5 folds for each of 480 candidates, totalling 2400 fits\n"
     ]
    },
    {
     "name": "stderr",
     "output_type": "stream",
     "text": [
      "[Parallel(n_jobs=-1)]: Using backend LokyBackend with 4 concurrent workers.\n",
      "[Parallel(n_jobs=-1)]: Done 168 tasks      | elapsed:    1.4s\n",
      "[Parallel(n_jobs=-1)]: Done 1128 tasks      | elapsed:   12.6s\n",
      "[Parallel(n_jobs=-1)]: Done 2400 out of 2400 | elapsed:   27.5s finished\n",
      "C:\\Users\\chris\\Anaconda2\\lib\\site-packages\\sklearn\\model_selection\\_search.py:841: DeprecationWarning: The default of the `iid` parameter will change from True to False in version 0.22 and will be removed in 0.24. This will change numeric results when test-set sizes are unequal.\n",
      "  DeprecationWarning)\n"
     ]
    },
    {
     "name": "stdout",
     "output_type": "stream",
     "text": [
      "Games predicted: 245\n",
      "\n",
      "\n",
      "Now Starting Simulation Number: 257\n",
      "\n",
      "\n",
      "{'n_estimators': [10, 12, 14, 16, 18, 20, 22, 24, 26, 28], 'loss': ['ls', 'huber'], 'learning_rate': array([0.1, 0.2, 0.3, 0.4, 0.5, 0.6]), 'max_depth': [1, 2, 3, 4]}\n",
      "Fitting 5 folds for each of 480 candidates, totalling 2400 fits\n"
     ]
    },
    {
     "name": "stderr",
     "output_type": "stream",
     "text": [
      "[Parallel(n_jobs=-1)]: Using backend LokyBackend with 4 concurrent workers.\n",
      "[Parallel(n_jobs=-1)]: Done 136 tasks      | elapsed:    1.0s\n",
      "[Parallel(n_jobs=-1)]: Done 904 tasks      | elapsed:   10.1s\n",
      "[Parallel(n_jobs=-1)]: Done 2184 tasks      | elapsed:   25.6s\n",
      "[Parallel(n_jobs=-1)]: Done 2400 out of 2400 | elapsed:   29.2s finished\n",
      "C:\\Users\\chris\\Anaconda2\\lib\\site-packages\\sklearn\\model_selection\\_search.py:841: DeprecationWarning: The default of the `iid` parameter will change from True to False in version 0.22 and will be removed in 0.24. This will change numeric results when test-set sizes are unequal.\n",
      "  DeprecationWarning)\n"
     ]
    },
    {
     "name": "stdout",
     "output_type": "stream",
     "text": [
      "Fitting 5 folds for each of 480 candidates, totalling 2400 fits\n"
     ]
    },
    {
     "name": "stderr",
     "output_type": "stream",
     "text": [
      "[Parallel(n_jobs=-1)]: Using backend LokyBackend with 4 concurrent workers.\n",
      "[Parallel(n_jobs=-1)]: Done 200 tasks      | elapsed:    1.9s\n",
      "[Parallel(n_jobs=-1)]: Done 1352 tasks      | elapsed:   16.5s\n",
      "[Parallel(n_jobs=-1)]: Done 2400 out of 2400 | elapsed:   29.4s finished\n",
      "C:\\Users\\chris\\Anaconda2\\lib\\site-packages\\sklearn\\model_selection\\_search.py:841: DeprecationWarning: The default of the `iid` parameter will change from True to False in version 0.22 and will be removed in 0.24. This will change numeric results when test-set sizes are unequal.\n",
      "  DeprecationWarning)\n"
     ]
    },
    {
     "name": "stdout",
     "output_type": "stream",
     "text": [
      "Games predicted: 245\n",
      "\n",
      "\n",
      "Now Starting Simulation Number: 258\n",
      "\n",
      "\n",
      "{'n_estimators': [10, 12, 14, 16, 18, 20, 22, 24, 26, 28], 'loss': ['ls', 'huber'], 'learning_rate': array([0.1, 0.2, 0.3, 0.4, 0.5, 0.6]), 'max_depth': [1, 2, 3, 4]}\n",
      "Fitting 5 folds for each of 480 candidates, totalling 2400 fits\n"
     ]
    },
    {
     "name": "stderr",
     "output_type": "stream",
     "text": [
      "[Parallel(n_jobs=-1)]: Using backend LokyBackend with 4 concurrent workers.\n",
      "[Parallel(n_jobs=-1)]: Done 136 tasks      | elapsed:    1.0s\n",
      "[Parallel(n_jobs=-1)]: Done 904 tasks      | elapsed:   10.0s\n",
      "[Parallel(n_jobs=-1)]: Done 2184 tasks      | elapsed:   24.6s\n",
      "[Parallel(n_jobs=-1)]: Done 2400 out of 2400 | elapsed:   27.8s finished\n",
      "C:\\Users\\chris\\Anaconda2\\lib\\site-packages\\sklearn\\model_selection\\_search.py:841: DeprecationWarning: The default of the `iid` parameter will change from True to False in version 0.22 and will be removed in 0.24. This will change numeric results when test-set sizes are unequal.\n",
      "  DeprecationWarning)\n"
     ]
    },
    {
     "name": "stdout",
     "output_type": "stream",
     "text": [
      "Fitting 5 folds for each of 480 candidates, totalling 2400 fits\n"
     ]
    },
    {
     "name": "stderr",
     "output_type": "stream",
     "text": [
      "[Parallel(n_jobs=-1)]: Using backend LokyBackend with 4 concurrent workers.\n",
      "[Parallel(n_jobs=-1)]: Done 184 tasks      | elapsed:    1.5s\n",
      "[Parallel(n_jobs=-1)]: Done 1720 tasks      | elapsed:   19.7s\n",
      "[Parallel(n_jobs=-1)]: Done 2400 out of 2400 | elapsed:   28.7s finished\n",
      "C:\\Users\\chris\\Anaconda2\\lib\\site-packages\\sklearn\\model_selection\\_search.py:841: DeprecationWarning: The default of the `iid` parameter will change from True to False in version 0.22 and will be removed in 0.24. This will change numeric results when test-set sizes are unequal.\n",
      "  DeprecationWarning)\n"
     ]
    },
    {
     "name": "stdout",
     "output_type": "stream",
     "text": [
      "Games predicted: 245\n",
      "\n",
      "\n",
      "Now Starting Simulation Number: 259\n",
      "\n",
      "\n",
      "{'n_estimators': [10, 12, 14, 16, 18, 20, 22, 24, 26, 28], 'loss': ['ls', 'huber'], 'learning_rate': array([0.1, 0.2, 0.3, 0.4, 0.5, 0.6]), 'max_depth': [1, 2, 3, 4]}\n",
      "Fitting 5 folds for each of 480 candidates, totalling 2400 fits\n"
     ]
    },
    {
     "name": "stderr",
     "output_type": "stream",
     "text": [
      "[Parallel(n_jobs=-1)]: Using backend LokyBackend with 4 concurrent workers.\n",
      "[Parallel(n_jobs=-1)]: Done 136 tasks      | elapsed:    1.1s\n",
      "[Parallel(n_jobs=-1)]: Done 904 tasks      | elapsed:   10.1s\n",
      "[Parallel(n_jobs=-1)]: Done 2184 tasks      | elapsed:   24.6s\n",
      "[Parallel(n_jobs=-1)]: Done 2400 out of 2400 | elapsed:   27.7s finished\n",
      "C:\\Users\\chris\\Anaconda2\\lib\\site-packages\\sklearn\\model_selection\\_search.py:841: DeprecationWarning: The default of the `iid` parameter will change from True to False in version 0.22 and will be removed in 0.24. This will change numeric results when test-set sizes are unequal.\n",
      "  DeprecationWarning)\n"
     ]
    },
    {
     "name": "stdout",
     "output_type": "stream",
     "text": [
      "Fitting 5 folds for each of 480 candidates, totalling 2400 fits\n"
     ]
    },
    {
     "name": "stderr",
     "output_type": "stream",
     "text": [
      "[Parallel(n_jobs=-1)]: Using backend LokyBackend with 4 concurrent workers.\n",
      "[Parallel(n_jobs=-1)]: Done 168 tasks      | elapsed:    1.4s\n",
      "[Parallel(n_jobs=-1)]: Done 1128 tasks      | elapsed:   13.3s\n",
      "[Parallel(n_jobs=-1)]: Done 2400 out of 2400 | elapsed:   29.4s finished\n",
      "C:\\Users\\chris\\Anaconda2\\lib\\site-packages\\sklearn\\model_selection\\_search.py:841: DeprecationWarning: The default of the `iid` parameter will change from True to False in version 0.22 and will be removed in 0.24. This will change numeric results when test-set sizes are unequal.\n",
      "  DeprecationWarning)\n"
     ]
    },
    {
     "name": "stdout",
     "output_type": "stream",
     "text": [
      "Games predicted: 245\n",
      "\n",
      "\n",
      "Now Starting Simulation Number: 260\n",
      "\n",
      "\n",
      "{'n_estimators': [10, 12, 14, 16, 18, 20, 22, 24, 26, 28], 'loss': ['ls', 'huber'], 'learning_rate': array([0.1, 0.2, 0.3, 0.4, 0.5, 0.6]), 'max_depth': [1, 2, 3, 4]}\n",
      "Fitting 5 folds for each of 480 candidates, totalling 2400 fits\n"
     ]
    },
    {
     "name": "stderr",
     "output_type": "stream",
     "text": [
      "[Parallel(n_jobs=-1)]: Using backend LokyBackend with 4 concurrent workers.\n",
      "[Parallel(n_jobs=-1)]: Done 104 tasks      | elapsed:    0.8s\n",
      "[Parallel(n_jobs=-1)]: Done 680 tasks      | elapsed:    8.1s\n",
      "[Parallel(n_jobs=-1)]: Done 1640 tasks      | elapsed:   20.0s\n",
      "[Parallel(n_jobs=-1)]: Done 2400 out of 2400 | elapsed:   29.0s finished\n",
      "C:\\Users\\chris\\Anaconda2\\lib\\site-packages\\sklearn\\model_selection\\_search.py:841: DeprecationWarning: The default of the `iid` parameter will change from True to False in version 0.22 and will be removed in 0.24. This will change numeric results when test-set sizes are unequal.\n",
      "  DeprecationWarning)\n"
     ]
    },
    {
     "name": "stdout",
     "output_type": "stream",
     "text": [
      "Fitting 5 folds for each of 480 candidates, totalling 2400 fits\n"
     ]
    },
    {
     "name": "stderr",
     "output_type": "stream",
     "text": [
      "[Parallel(n_jobs=-1)]: Using backend LokyBackend with 4 concurrent workers.\n",
      "[Parallel(n_jobs=-1)]: Done 168 tasks      | elapsed:    1.4s\n",
      "[Parallel(n_jobs=-1)]: Done 1128 tasks      | elapsed:   12.4s\n",
      "[Parallel(n_jobs=-1)]: Done 2400 out of 2400 | elapsed:   27.9s finished\n",
      "C:\\Users\\chris\\Anaconda2\\lib\\site-packages\\sklearn\\model_selection\\_search.py:841: DeprecationWarning: The default of the `iid` parameter will change from True to False in version 0.22 and will be removed in 0.24. This will change numeric results when test-set sizes are unequal.\n",
      "  DeprecationWarning)\n"
     ]
    },
    {
     "name": "stdout",
     "output_type": "stream",
     "text": [
      "Games predicted: 245\n",
      "\n",
      "\n",
      "Now Starting Simulation Number: 261\n",
      "\n",
      "\n",
      "{'n_estimators': [10, 12, 14, 16, 18, 20, 22, 24, 26, 28], 'loss': ['ls', 'huber'], 'learning_rate': array([0.1, 0.2, 0.3, 0.4, 0.5, 0.6]), 'max_depth': [1, 2, 3, 4]}\n",
      "Fitting 5 folds for each of 480 candidates, totalling 2400 fits\n"
     ]
    },
    {
     "name": "stderr",
     "output_type": "stream",
     "text": [
      "[Parallel(n_jobs=-1)]: Using backend LokyBackend with 4 concurrent workers.\n",
      "[Parallel(n_jobs=-1)]: Done 104 tasks      | elapsed:    0.8s\n",
      "[Parallel(n_jobs=-1)]: Done 680 tasks      | elapsed:    7.7s\n",
      "[Parallel(n_jobs=-1)]: Done 1640 tasks      | elapsed:   20.7s\n",
      "[Parallel(n_jobs=-1)]: Done 2400 out of 2400 | elapsed:   30.2s finished\n",
      "C:\\Users\\chris\\Anaconda2\\lib\\site-packages\\sklearn\\model_selection\\_search.py:841: DeprecationWarning: The default of the `iid` parameter will change from True to False in version 0.22 and will be removed in 0.24. This will change numeric results when test-set sizes are unequal.\n",
      "  DeprecationWarning)\n"
     ]
    },
    {
     "name": "stdout",
     "output_type": "stream",
     "text": [
      "Fitting 5 folds for each of 480 candidates, totalling 2400 fits\n"
     ]
    },
    {
     "name": "stderr",
     "output_type": "stream",
     "text": [
      "[Parallel(n_jobs=-1)]: Using backend LokyBackend with 4 concurrent workers.\n",
      "[Parallel(n_jobs=-1)]: Done 168 tasks      | elapsed:    1.4s\n",
      "[Parallel(n_jobs=-1)]: Done 1128 tasks      | elapsed:   12.4s\n",
      "[Parallel(n_jobs=-1)]: Done 2400 out of 2400 | elapsed:   28.3s finished\n",
      "C:\\Users\\chris\\Anaconda2\\lib\\site-packages\\sklearn\\model_selection\\_search.py:841: DeprecationWarning: The default of the `iid` parameter will change from True to False in version 0.22 and will be removed in 0.24. This will change numeric results when test-set sizes are unequal.\n",
      "  DeprecationWarning)\n"
     ]
    },
    {
     "name": "stdout",
     "output_type": "stream",
     "text": [
      "Games predicted: 245\n",
      "\n",
      "\n",
      "Now Starting Simulation Number: 262\n",
      "\n",
      "\n",
      "{'n_estimators': [10, 12, 14, 16, 18, 20, 22, 24, 26, 28], 'loss': ['ls', 'huber'], 'learning_rate': array([0.1, 0.2, 0.3, 0.4, 0.5, 0.6]), 'max_depth': [1, 2, 3, 4]}\n",
      "Fitting 5 folds for each of 480 candidates, totalling 2400 fits\n"
     ]
    },
    {
     "name": "stderr",
     "output_type": "stream",
     "text": [
      "[Parallel(n_jobs=-1)]: Using backend LokyBackend with 4 concurrent workers.\n",
      "[Parallel(n_jobs=-1)]: Done 104 tasks      | elapsed:    0.7s\n",
      "[Parallel(n_jobs=-1)]: Done 680 tasks      | elapsed:    7.2s\n",
      "[Parallel(n_jobs=-1)]: Done 1640 tasks      | elapsed:   19.2s\n",
      "[Parallel(n_jobs=-1)]: Done 2400 out of 2400 | elapsed:   28.9s finished\n",
      "C:\\Users\\chris\\Anaconda2\\lib\\site-packages\\sklearn\\model_selection\\_search.py:841: DeprecationWarning: The default of the `iid` parameter will change from True to False in version 0.22 and will be removed in 0.24. This will change numeric results when test-set sizes are unequal.\n",
      "  DeprecationWarning)\n"
     ]
    },
    {
     "name": "stdout",
     "output_type": "stream",
     "text": [
      "Fitting 5 folds for each of 480 candidates, totalling 2400 fits\n"
     ]
    },
    {
     "name": "stderr",
     "output_type": "stream",
     "text": [
      "[Parallel(n_jobs=-1)]: Using backend LokyBackend with 4 concurrent workers.\n",
      "[Parallel(n_jobs=-1)]: Done 184 tasks      | elapsed:    1.8s\n",
      "[Parallel(n_jobs=-1)]: Done 1144 tasks      | elapsed:   14.1s\n",
      "[Parallel(n_jobs=-1)]: Done 2400 out of 2400 | elapsed:   29.3s finished\n",
      "C:\\Users\\chris\\Anaconda2\\lib\\site-packages\\sklearn\\model_selection\\_search.py:841: DeprecationWarning: The default of the `iid` parameter will change from True to False in version 0.22 and will be removed in 0.24. This will change numeric results when test-set sizes are unequal.\n",
      "  DeprecationWarning)\n"
     ]
    },
    {
     "name": "stdout",
     "output_type": "stream",
     "text": [
      "Games predicted: 245\n",
      "\n",
      "\n",
      "Now Starting Simulation Number: 263\n",
      "\n",
      "\n",
      "{'n_estimators': [10, 12, 14, 16, 18, 20, 22, 24, 26, 28], 'loss': ['ls', 'huber'], 'learning_rate': array([0.1, 0.2, 0.3, 0.4, 0.5, 0.6]), 'max_depth': [1, 2, 3, 4]}\n",
      "Fitting 5 folds for each of 480 candidates, totalling 2400 fits\n"
     ]
    },
    {
     "name": "stderr",
     "output_type": "stream",
     "text": [
      "[Parallel(n_jobs=-1)]: Using backend LokyBackend with 4 concurrent workers.\n",
      "[Parallel(n_jobs=-1)]: Done 200 tasks      | elapsed:    1.8s\n",
      "[Parallel(n_jobs=-1)]: Done 1352 tasks      | elapsed:   16.7s\n",
      "[Parallel(n_jobs=-1)]: Done 2400 out of 2400 | elapsed:   29.5s finished\n",
      "C:\\Users\\chris\\Anaconda2\\lib\\site-packages\\sklearn\\model_selection\\_search.py:841: DeprecationWarning: The default of the `iid` parameter will change from True to False in version 0.22 and will be removed in 0.24. This will change numeric results when test-set sizes are unequal.\n",
      "  DeprecationWarning)\n"
     ]
    },
    {
     "name": "stdout",
     "output_type": "stream",
     "text": [
      "Fitting 5 folds for each of 480 candidates, totalling 2400 fits\n"
     ]
    },
    {
     "name": "stderr",
     "output_type": "stream",
     "text": [
      "[Parallel(n_jobs=-1)]: Using backend LokyBackend with 4 concurrent workers.\n",
      "[Parallel(n_jobs=-1)]: Done 136 tasks      | elapsed:    1.0s\n",
      "[Parallel(n_jobs=-1)]: Done 904 tasks      | elapsed:   10.2s\n",
      "[Parallel(n_jobs=-1)]: Done 2184 tasks      | elapsed:   25.9s\n",
      "[Parallel(n_jobs=-1)]: Done 2400 out of 2400 | elapsed:   30.1s finished\n",
      "C:\\Users\\chris\\Anaconda2\\lib\\site-packages\\sklearn\\model_selection\\_search.py:841: DeprecationWarning: The default of the `iid` parameter will change from True to False in version 0.22 and will be removed in 0.24. This will change numeric results when test-set sizes are unequal.\n",
      "  DeprecationWarning)\n"
     ]
    },
    {
     "name": "stdout",
     "output_type": "stream",
     "text": [
      "Games predicted: 245\n",
      "\n",
      "\n",
      "Now Starting Simulation Number: 264\n",
      "\n",
      "\n",
      "{'n_estimators': [10, 12, 14, 16, 18, 20, 22, 24, 26, 28], 'loss': ['ls', 'huber'], 'learning_rate': array([0.1, 0.2, 0.3, 0.4, 0.5, 0.6]), 'max_depth': [1, 2, 3, 4]}\n",
      "Fitting 5 folds for each of 480 candidates, totalling 2400 fits\n"
     ]
    },
    {
     "name": "stderr",
     "output_type": "stream",
     "text": [
      "[Parallel(n_jobs=-1)]: Using backend LokyBackend with 4 concurrent workers.\n",
      "[Parallel(n_jobs=-1)]: Done 136 tasks      | elapsed:    1.2s\n",
      "[Parallel(n_jobs=-1)]: Done 904 tasks      | elapsed:   10.5s\n",
      "[Parallel(n_jobs=-1)]: Done 2184 tasks      | elapsed:   25.3s\n",
      "[Parallel(n_jobs=-1)]: Done 2400 out of 2400 | elapsed:   28.4s finished\n",
      "C:\\Users\\chris\\Anaconda2\\lib\\site-packages\\sklearn\\model_selection\\_search.py:841: DeprecationWarning: The default of the `iid` parameter will change from True to False in version 0.22 and will be removed in 0.24. This will change numeric results when test-set sizes are unequal.\n",
      "  DeprecationWarning)\n"
     ]
    },
    {
     "name": "stdout",
     "output_type": "stream",
     "text": [
      "Fitting 5 folds for each of 480 candidates, totalling 2400 fits\n"
     ]
    },
    {
     "name": "stderr",
     "output_type": "stream",
     "text": [
      "[Parallel(n_jobs=-1)]: Using backend LokyBackend with 4 concurrent workers.\n",
      "[Parallel(n_jobs=-1)]: Done 152 tasks      | elapsed:    1.2s\n",
      "[Parallel(n_jobs=-1)]: Done 1304 tasks      | elapsed:   14.5s\n",
      "[Parallel(n_jobs=-1)]: Done 2400 out of 2400 | elapsed:   27.6s finished\n",
      "C:\\Users\\chris\\Anaconda2\\lib\\site-packages\\sklearn\\model_selection\\_search.py:841: DeprecationWarning: The default of the `iid` parameter will change from True to False in version 0.22 and will be removed in 0.24. This will change numeric results when test-set sizes are unequal.\n",
      "  DeprecationWarning)\n"
     ]
    },
    {
     "name": "stdout",
     "output_type": "stream",
     "text": [
      "Games predicted: 245\n",
      "\n",
      "\n",
      "Now Starting Simulation Number: 265\n",
      "\n",
      "\n",
      "{'n_estimators': [10, 12, 14, 16, 18, 20, 22, 24, 26, 28], 'loss': ['ls', 'huber'], 'learning_rate': array([0.1, 0.2, 0.3, 0.4, 0.5, 0.6]), 'max_depth': [1, 2, 3, 4]}\n",
      "Fitting 5 folds for each of 480 candidates, totalling 2400 fits\n"
     ]
    },
    {
     "name": "stderr",
     "output_type": "stream",
     "text": [
      "[Parallel(n_jobs=-1)]: Using backend LokyBackend with 4 concurrent workers.\n",
      "[Parallel(n_jobs=-1)]: Done 136 tasks      | elapsed:    1.1s\n",
      "[Parallel(n_jobs=-1)]: Done 904 tasks      | elapsed:   10.8s\n",
      "[Parallel(n_jobs=-1)]: Done 2184 tasks      | elapsed:   26.9s\n",
      "[Parallel(n_jobs=-1)]: Done 2400 out of 2400 | elapsed:   30.2s finished\n",
      "C:\\Users\\chris\\Anaconda2\\lib\\site-packages\\sklearn\\model_selection\\_search.py:841: DeprecationWarning: The default of the `iid` parameter will change from True to False in version 0.22 and will be removed in 0.24. This will change numeric results when test-set sizes are unequal.\n",
      "  DeprecationWarning)\n"
     ]
    },
    {
     "name": "stdout",
     "output_type": "stream",
     "text": [
      "Fitting 5 folds for each of 480 candidates, totalling 2400 fits\n"
     ]
    },
    {
     "name": "stderr",
     "output_type": "stream",
     "text": [
      "[Parallel(n_jobs=-1)]: Using backend LokyBackend with 4 concurrent workers.\n",
      "[Parallel(n_jobs=-1)]: Done 168 tasks      | elapsed:    1.3s\n",
      "[Parallel(n_jobs=-1)]: Done 1128 tasks      | elapsed:   12.4s\n",
      "[Parallel(n_jobs=-1)]: Done 2400 out of 2400 | elapsed:   27.4s finished\n",
      "C:\\Users\\chris\\Anaconda2\\lib\\site-packages\\sklearn\\model_selection\\_search.py:841: DeprecationWarning: The default of the `iid` parameter will change from True to False in version 0.22 and will be removed in 0.24. This will change numeric results when test-set sizes are unequal.\n",
      "  DeprecationWarning)\n"
     ]
    },
    {
     "name": "stdout",
     "output_type": "stream",
     "text": [
      "Games predicted: 245\n",
      "\n",
      "\n",
      "Now Starting Simulation Number: 266\n",
      "\n",
      "\n",
      "{'n_estimators': [10, 12, 14, 16, 18, 20, 22, 24, 26, 28], 'loss': ['ls', 'huber'], 'learning_rate': array([0.1, 0.2, 0.3, 0.4, 0.5, 0.6]), 'max_depth': [1, 2, 3, 4]}\n",
      "Fitting 5 folds for each of 480 candidates, totalling 2400 fits\n"
     ]
    },
    {
     "name": "stderr",
     "output_type": "stream",
     "text": [
      "[Parallel(n_jobs=-1)]: Using backend LokyBackend with 4 concurrent workers.\n",
      "[Parallel(n_jobs=-1)]: Done 136 tasks      | elapsed:    1.1s\n",
      "[Parallel(n_jobs=-1)]: Done 904 tasks      | elapsed:   10.8s\n",
      "[Parallel(n_jobs=-1)]: Done 2184 tasks      | elapsed:   26.1s\n",
      "[Parallel(n_jobs=-1)]: Done 2400 out of 2400 | elapsed:   29.4s finished\n",
      "C:\\Users\\chris\\Anaconda2\\lib\\site-packages\\sklearn\\model_selection\\_search.py:841: DeprecationWarning: The default of the `iid` parameter will change from True to False in version 0.22 and will be removed in 0.24. This will change numeric results when test-set sizes are unequal.\n",
      "  DeprecationWarning)\n"
     ]
    },
    {
     "name": "stdout",
     "output_type": "stream",
     "text": [
      "Fitting 5 folds for each of 480 candidates, totalling 2400 fits\n"
     ]
    },
    {
     "name": "stderr",
     "output_type": "stream",
     "text": [
      "[Parallel(n_jobs=-1)]: Using backend LokyBackend with 4 concurrent workers.\n",
      "[Parallel(n_jobs=-1)]: Done 232 tasks      | elapsed:    2.2s\n",
      "[Parallel(n_jobs=-1)]: Done 1576 tasks      | elapsed:   19.0s\n",
      "[Parallel(n_jobs=-1)]: Done 2400 out of 2400 | elapsed:   28.7s finished\n",
      "C:\\Users\\chris\\Anaconda2\\lib\\site-packages\\sklearn\\model_selection\\_search.py:841: DeprecationWarning: The default of the `iid` parameter will change from True to False in version 0.22 and will be removed in 0.24. This will change numeric results when test-set sizes are unequal.\n",
      "  DeprecationWarning)\n"
     ]
    },
    {
     "name": "stdout",
     "output_type": "stream",
     "text": [
      "Games predicted: 245\n",
      "\n",
      "\n",
      "Now Starting Simulation Number: 267\n",
      "\n",
      "\n",
      "{'n_estimators': [10, 12, 14, 16, 18, 20, 22, 24, 26, 28], 'loss': ['ls', 'huber'], 'learning_rate': array([0.1, 0.2, 0.3, 0.4, 0.5, 0.6]), 'max_depth': [1, 2, 3, 4]}\n",
      "Fitting 5 folds for each of 480 candidates, totalling 2400 fits\n"
     ]
    },
    {
     "name": "stderr",
     "output_type": "stream",
     "text": [
      "[Parallel(n_jobs=-1)]: Using backend LokyBackend with 4 concurrent workers.\n",
      "[Parallel(n_jobs=-1)]: Done 136 tasks      | elapsed:    1.0s\n",
      "[Parallel(n_jobs=-1)]: Done 904 tasks      | elapsed:    9.8s\n",
      "[Parallel(n_jobs=-1)]: Done 2184 tasks      | elapsed:   24.5s\n",
      "[Parallel(n_jobs=-1)]: Done 2400 out of 2400 | elapsed:   27.8s finished\n",
      "C:\\Users\\chris\\Anaconda2\\lib\\site-packages\\sklearn\\model_selection\\_search.py:841: DeprecationWarning: The default of the `iid` parameter will change from True to False in version 0.22 and will be removed in 0.24. This will change numeric results when test-set sizes are unequal.\n",
      "  DeprecationWarning)\n"
     ]
    },
    {
     "name": "stdout",
     "output_type": "stream",
     "text": [
      "Fitting 5 folds for each of 480 candidates, totalling 2400 fits\n"
     ]
    },
    {
     "name": "stderr",
     "output_type": "stream",
     "text": [
      "[Parallel(n_jobs=-1)]: Using backend LokyBackend with 4 concurrent workers.\n",
      "[Parallel(n_jobs=-1)]: Done 136 tasks      | elapsed:    1.1s\n",
      "[Parallel(n_jobs=-1)]: Done 904 tasks      | elapsed:   10.6s\n",
      "[Parallel(n_jobs=-1)]: Done 2184 tasks      | elapsed:   26.2s\n",
      "[Parallel(n_jobs=-1)]: Done 2400 out of 2400 | elapsed:   29.3s finished\n",
      "C:\\Users\\chris\\Anaconda2\\lib\\site-packages\\sklearn\\model_selection\\_search.py:841: DeprecationWarning: The default of the `iid` parameter will change from True to False in version 0.22 and will be removed in 0.24. This will change numeric results when test-set sizes are unequal.\n",
      "  DeprecationWarning)\n"
     ]
    },
    {
     "name": "stdout",
     "output_type": "stream",
     "text": [
      "Games predicted: 245\n",
      "\n",
      "\n",
      "Now Starting Simulation Number: 268\n",
      "\n",
      "\n",
      "{'n_estimators': [10, 12, 14, 16, 18, 20, 22, 24, 26, 28], 'loss': ['ls', 'huber'], 'learning_rate': array([0.1, 0.2, 0.3, 0.4, 0.5, 0.6]), 'max_depth': [1, 2, 3, 4]}\n",
      "Fitting 5 folds for each of 480 candidates, totalling 2400 fits\n"
     ]
    },
    {
     "name": "stderr",
     "output_type": "stream",
     "text": [
      "[Parallel(n_jobs=-1)]: Using backend LokyBackend with 4 concurrent workers.\n",
      "[Parallel(n_jobs=-1)]: Done 104 tasks      | elapsed:    0.7s\n",
      "[Parallel(n_jobs=-1)]: Done 680 tasks      | elapsed:    7.2s\n",
      "[Parallel(n_jobs=-1)]: Done 1640 tasks      | elapsed:   18.9s\n",
      "[Parallel(n_jobs=-1)]: Done 2400 out of 2400 | elapsed:   28.5s finished\n",
      "C:\\Users\\chris\\Anaconda2\\lib\\site-packages\\sklearn\\model_selection\\_search.py:841: DeprecationWarning: The default of the `iid` parameter will change from True to False in version 0.22 and will be removed in 0.24. This will change numeric results when test-set sizes are unequal.\n",
      "  DeprecationWarning)\n"
     ]
    },
    {
     "name": "stdout",
     "output_type": "stream",
     "text": [
      "Fitting 5 folds for each of 480 candidates, totalling 2400 fits\n"
     ]
    },
    {
     "name": "stderr",
     "output_type": "stream",
     "text": [
      "[Parallel(n_jobs=-1)]: Using backend LokyBackend with 4 concurrent workers.\n",
      "[Parallel(n_jobs=-1)]: Done 136 tasks      | elapsed:    1.0s\n",
      "[Parallel(n_jobs=-1)]: Done 904 tasks      | elapsed:   10.2s\n",
      "[Parallel(n_jobs=-1)]: Done 2184 tasks      | elapsed:   25.8s\n",
      "[Parallel(n_jobs=-1)]: Done 2400 out of 2400 | elapsed:   29.2s finished\n",
      "C:\\Users\\chris\\Anaconda2\\lib\\site-packages\\sklearn\\model_selection\\_search.py:841: DeprecationWarning: The default of the `iid` parameter will change from True to False in version 0.22 and will be removed in 0.24. This will change numeric results when test-set sizes are unequal.\n",
      "  DeprecationWarning)\n"
     ]
    },
    {
     "name": "stdout",
     "output_type": "stream",
     "text": [
      "Games predicted: 245\n",
      "\n",
      "\n",
      "Now Starting Simulation Number: 269\n",
      "\n",
      "\n",
      "{'n_estimators': [10, 12, 14, 16, 18, 20, 22, 24, 26, 28], 'loss': ['ls', 'huber'], 'learning_rate': array([0.1, 0.2, 0.3, 0.4, 0.5, 0.6]), 'max_depth': [1, 2, 3, 4]}\n",
      "Fitting 5 folds for each of 480 candidates, totalling 2400 fits\n"
     ]
    },
    {
     "name": "stderr",
     "output_type": "stream",
     "text": [
      "[Parallel(n_jobs=-1)]: Using backend LokyBackend with 4 concurrent workers.\n",
      "[Parallel(n_jobs=-1)]: Done 104 tasks      | elapsed:    0.8s\n",
      "[Parallel(n_jobs=-1)]: Done 680 tasks      | elapsed:    7.6s\n",
      "[Parallel(n_jobs=-1)]: Done 1640 tasks      | elapsed:   19.4s\n",
      "[Parallel(n_jobs=-1)]: Done 2400 out of 2400 | elapsed:   28.6s finished\n",
      "C:\\Users\\chris\\Anaconda2\\lib\\site-packages\\sklearn\\model_selection\\_search.py:841: DeprecationWarning: The default of the `iid` parameter will change from True to False in version 0.22 and will be removed in 0.24. This will change numeric results when test-set sizes are unequal.\n",
      "  DeprecationWarning)\n"
     ]
    },
    {
     "name": "stdout",
     "output_type": "stream",
     "text": [
      "Fitting 5 folds for each of 480 candidates, totalling 2400 fits\n"
     ]
    },
    {
     "name": "stderr",
     "output_type": "stream",
     "text": [
      "[Parallel(n_jobs=-1)]: Using backend LokyBackend with 4 concurrent workers.\n",
      "[Parallel(n_jobs=-1)]: Done 168 tasks      | elapsed:    1.6s\n",
      "[Parallel(n_jobs=-1)]: Done 1128 tasks      | elapsed:   12.9s\n",
      "[Parallel(n_jobs=-1)]: Done 2400 out of 2400 | elapsed:   28.7s finished\n",
      "C:\\Users\\chris\\Anaconda2\\lib\\site-packages\\sklearn\\model_selection\\_search.py:841: DeprecationWarning: The default of the `iid` parameter will change from True to False in version 0.22 and will be removed in 0.24. This will change numeric results when test-set sizes are unequal.\n",
      "  DeprecationWarning)\n"
     ]
    },
    {
     "name": "stdout",
     "output_type": "stream",
     "text": [
      "Games predicted: 245\n",
      "\n",
      "\n",
      "Now Starting Simulation Number: 270\n",
      "\n",
      "\n",
      "{'n_estimators': [10, 12, 14, 16, 18, 20, 22, 24, 26, 28], 'loss': ['ls', 'huber'], 'learning_rate': array([0.1, 0.2, 0.3, 0.4, 0.5, 0.6]), 'max_depth': [1, 2, 3, 4]}\n",
      "Fitting 5 folds for each of 480 candidates, totalling 2400 fits\n"
     ]
    },
    {
     "name": "stderr",
     "output_type": "stream",
     "text": [
      "[Parallel(n_jobs=-1)]: Using backend LokyBackend with 4 concurrent workers.\n",
      "[Parallel(n_jobs=-1)]: Done 136 tasks      | elapsed:    1.2s\n",
      "[Parallel(n_jobs=-1)]: Done 904 tasks      | elapsed:   11.2s\n",
      "[Parallel(n_jobs=-1)]: Done 2184 tasks      | elapsed:   26.8s\n",
      "[Parallel(n_jobs=-1)]: Done 2400 out of 2400 | elapsed:   30.0s finished\n",
      "C:\\Users\\chris\\Anaconda2\\lib\\site-packages\\sklearn\\model_selection\\_search.py:841: DeprecationWarning: The default of the `iid` parameter will change from True to False in version 0.22 and will be removed in 0.24. This will change numeric results when test-set sizes are unequal.\n",
      "  DeprecationWarning)\n"
     ]
    },
    {
     "name": "stdout",
     "output_type": "stream",
     "text": [
      "Fitting 5 folds for each of 480 candidates, totalling 2400 fits\n"
     ]
    },
    {
     "name": "stderr",
     "output_type": "stream",
     "text": [
      "[Parallel(n_jobs=-1)]: Using backend LokyBackend with 4 concurrent workers.\n",
      "[Parallel(n_jobs=-1)]: Done 152 tasks      | elapsed:    1.7s\n",
      "[Parallel(n_jobs=-1)]: Done 1304 tasks      | elapsed:   15.2s\n",
      "[Parallel(n_jobs=-1)]: Done 2400 out of 2400 | elapsed:   28.4s finished\n",
      "C:\\Users\\chris\\Anaconda2\\lib\\site-packages\\sklearn\\model_selection\\_search.py:841: DeprecationWarning: The default of the `iid` parameter will change from True to False in version 0.22 and will be removed in 0.24. This will change numeric results when test-set sizes are unequal.\n",
      "  DeprecationWarning)\n"
     ]
    },
    {
     "name": "stdout",
     "output_type": "stream",
     "text": [
      "Games predicted: 245\n",
      "\n",
      "\n",
      "Now Starting Simulation Number: 271\n",
      "\n",
      "\n",
      "{'n_estimators': [10, 12, 14, 16, 18, 20, 22, 24, 26, 28], 'loss': ['ls', 'huber'], 'learning_rate': array([0.1, 0.2, 0.3, 0.4, 0.5, 0.6]), 'max_depth': [1, 2, 3, 4]}\n",
      "Fitting 5 folds for each of 480 candidates, totalling 2400 fits\n"
     ]
    },
    {
     "name": "stderr",
     "output_type": "stream",
     "text": [
      "[Parallel(n_jobs=-1)]: Using backend LokyBackend with 4 concurrent workers.\n",
      "[Parallel(n_jobs=-1)]: Done 104 tasks      | elapsed:    0.7s\n",
      "[Parallel(n_jobs=-1)]: Done 680 tasks      | elapsed:    7.2s\n",
      "[Parallel(n_jobs=-1)]: Done 1640 tasks      | elapsed:   19.5s\n",
      "[Parallel(n_jobs=-1)]: Done 2400 out of 2400 | elapsed:   29.3s finished\n",
      "C:\\Users\\chris\\Anaconda2\\lib\\site-packages\\sklearn\\model_selection\\_search.py:841: DeprecationWarning: The default of the `iid` parameter will change from True to False in version 0.22 and will be removed in 0.24. This will change numeric results when test-set sizes are unequal.\n",
      "  DeprecationWarning)\n"
     ]
    },
    {
     "name": "stdout",
     "output_type": "stream",
     "text": [
      "Fitting 5 folds for each of 480 candidates, totalling 2400 fits\n"
     ]
    },
    {
     "name": "stderr",
     "output_type": "stream",
     "text": [
      "[Parallel(n_jobs=-1)]: Using backend LokyBackend with 4 concurrent workers.\n",
      "[Parallel(n_jobs=-1)]: Done 168 tasks      | elapsed:    1.6s\n",
      "[Parallel(n_jobs=-1)]: Done 1128 tasks      | elapsed:   13.8s\n",
      "[Parallel(n_jobs=-1)]: Done 2400 out of 2400 | elapsed:   28.7s finished\n",
      "C:\\Users\\chris\\Anaconda2\\lib\\site-packages\\sklearn\\model_selection\\_search.py:841: DeprecationWarning: The default of the `iid` parameter will change from True to False in version 0.22 and will be removed in 0.24. This will change numeric results when test-set sizes are unequal.\n",
      "  DeprecationWarning)\n"
     ]
    },
    {
     "name": "stdout",
     "output_type": "stream",
     "text": [
      "Games predicted: 245\n",
      "\n",
      "\n",
      "Now Starting Simulation Number: 272\n",
      "\n",
      "\n",
      "{'n_estimators': [10, 12, 14, 16, 18, 20, 22, 24, 26, 28], 'loss': ['ls', 'huber'], 'learning_rate': array([0.1, 0.2, 0.3, 0.4, 0.5, 0.6]), 'max_depth': [1, 2, 3, 4]}\n",
      "Fitting 5 folds for each of 480 candidates, totalling 2400 fits\n"
     ]
    },
    {
     "name": "stderr",
     "output_type": "stream",
     "text": [
      "[Parallel(n_jobs=-1)]: Using backend LokyBackend with 4 concurrent workers.\n",
      "[Parallel(n_jobs=-1)]: Done 136 tasks      | elapsed:    1.1s\n",
      "[Parallel(n_jobs=-1)]: Done 904 tasks      | elapsed:   10.2s\n",
      "[Parallel(n_jobs=-1)]: Done 2184 tasks      | elapsed:   25.1s\n",
      "[Parallel(n_jobs=-1)]: Done 2400 out of 2400 | elapsed:   28.5s finished\n",
      "C:\\Users\\chris\\Anaconda2\\lib\\site-packages\\sklearn\\model_selection\\_search.py:841: DeprecationWarning: The default of the `iid` parameter will change from True to False in version 0.22 and will be removed in 0.24. This will change numeric results when test-set sizes are unequal.\n",
      "  DeprecationWarning)\n"
     ]
    },
    {
     "name": "stdout",
     "output_type": "stream",
     "text": [
      "Fitting 5 folds for each of 480 candidates, totalling 2400 fits\n"
     ]
    },
    {
     "name": "stderr",
     "output_type": "stream",
     "text": [
      "[Parallel(n_jobs=-1)]: Using backend LokyBackend with 4 concurrent workers.\n",
      "[Parallel(n_jobs=-1)]: Done 232 tasks      | elapsed:    2.1s\n",
      "[Parallel(n_jobs=-1)]: Done 1576 tasks      | elapsed:   20.6s\n",
      "[Parallel(n_jobs=-1)]: Done 2400 out of 2400 | elapsed:   30.7s finished\n",
      "C:\\Users\\chris\\Anaconda2\\lib\\site-packages\\sklearn\\model_selection\\_search.py:841: DeprecationWarning: The default of the `iid` parameter will change from True to False in version 0.22 and will be removed in 0.24. This will change numeric results when test-set sizes are unequal.\n",
      "  DeprecationWarning)\n"
     ]
    },
    {
     "name": "stdout",
     "output_type": "stream",
     "text": [
      "Games predicted: 245\n",
      "\n",
      "\n",
      "Now Starting Simulation Number: 273\n",
      "\n",
      "\n",
      "{'n_estimators': [10, 12, 14, 16, 18, 20, 22, 24, 26, 28], 'loss': ['ls', 'huber'], 'learning_rate': array([0.1, 0.2, 0.3, 0.4, 0.5, 0.6]), 'max_depth': [1, 2, 3, 4]}\n",
      "Fitting 5 folds for each of 480 candidates, totalling 2400 fits\n"
     ]
    },
    {
     "name": "stderr",
     "output_type": "stream",
     "text": [
      "[Parallel(n_jobs=-1)]: Using backend LokyBackend with 4 concurrent workers.\n",
      "[Parallel(n_jobs=-1)]: Done 136 tasks      | elapsed:    1.1s\n",
      "[Parallel(n_jobs=-1)]: Done 904 tasks      | elapsed:   10.1s\n",
      "[Parallel(n_jobs=-1)]: Done 2184 tasks      | elapsed:   24.5s\n",
      "[Parallel(n_jobs=-1)]: Done 2400 out of 2400 | elapsed:   27.7s finished\n",
      "C:\\Users\\chris\\Anaconda2\\lib\\site-packages\\sklearn\\model_selection\\_search.py:841: DeprecationWarning: The default of the `iid` parameter will change from True to False in version 0.22 and will be removed in 0.24. This will change numeric results when test-set sizes are unequal.\n",
      "  DeprecationWarning)\n"
     ]
    },
    {
     "name": "stdout",
     "output_type": "stream",
     "text": [
      "Fitting 5 folds for each of 480 candidates, totalling 2400 fits\n"
     ]
    },
    {
     "name": "stderr",
     "output_type": "stream",
     "text": [
      "[Parallel(n_jobs=-1)]: Using backend LokyBackend with 4 concurrent workers.\n",
      "[Parallel(n_jobs=-1)]: Done 168 tasks      | elapsed:    1.3s\n",
      "[Parallel(n_jobs=-1)]: Done 1128 tasks      | elapsed:   12.8s\n",
      "[Parallel(n_jobs=-1)]: Done 2400 out of 2400 | elapsed:   28.5s finished\n",
      "C:\\Users\\chris\\Anaconda2\\lib\\site-packages\\sklearn\\model_selection\\_search.py:841: DeprecationWarning: The default of the `iid` parameter will change from True to False in version 0.22 and will be removed in 0.24. This will change numeric results when test-set sizes are unequal.\n",
      "  DeprecationWarning)\n"
     ]
    },
    {
     "name": "stdout",
     "output_type": "stream",
     "text": [
      "Games predicted: 245\n",
      "\n",
      "\n",
      "Now Starting Simulation Number: 274\n",
      "\n",
      "\n",
      "{'n_estimators': [10, 12, 14, 16, 18, 20, 22, 24, 26, 28], 'loss': ['ls', 'huber'], 'learning_rate': array([0.1, 0.2, 0.3, 0.4, 0.5, 0.6]), 'max_depth': [1, 2, 3, 4]}\n",
      "Fitting 5 folds for each of 480 candidates, totalling 2400 fits\n"
     ]
    },
    {
     "name": "stderr",
     "output_type": "stream",
     "text": [
      "[Parallel(n_jobs=-1)]: Using backend LokyBackend with 4 concurrent workers.\n",
      "[Parallel(n_jobs=-1)]: Done 136 tasks      | elapsed:    1.2s\n",
      "[Parallel(n_jobs=-1)]: Done 904 tasks      | elapsed:   10.8s\n",
      "[Parallel(n_jobs=-1)]: Done 2184 tasks      | elapsed:   25.5s\n",
      "[Parallel(n_jobs=-1)]: Done 2400 out of 2400 | elapsed:   28.7s finished\n",
      "C:\\Users\\chris\\Anaconda2\\lib\\site-packages\\sklearn\\model_selection\\_search.py:841: DeprecationWarning: The default of the `iid` parameter will change from True to False in version 0.22 and will be removed in 0.24. This will change numeric results when test-set sizes are unequal.\n",
      "  DeprecationWarning)\n"
     ]
    },
    {
     "name": "stdout",
     "output_type": "stream",
     "text": [
      "Fitting 5 folds for each of 480 candidates, totalling 2400 fits\n"
     ]
    },
    {
     "name": "stderr",
     "output_type": "stream",
     "text": [
      "[Parallel(n_jobs=-1)]: Using backend LokyBackend with 4 concurrent workers.\n",
      "[Parallel(n_jobs=-1)]: Done 152 tasks      | elapsed:    1.3s\n",
      "[Parallel(n_jobs=-1)]: Done 1304 tasks      | elapsed:   14.4s\n",
      "[Parallel(n_jobs=-1)]: Done 2400 out of 2400 | elapsed:   28.5s finished\n",
      "C:\\Users\\chris\\Anaconda2\\lib\\site-packages\\sklearn\\model_selection\\_search.py:841: DeprecationWarning: The default of the `iid` parameter will change from True to False in version 0.22 and will be removed in 0.24. This will change numeric results when test-set sizes are unequal.\n",
      "  DeprecationWarning)\n"
     ]
    },
    {
     "name": "stdout",
     "output_type": "stream",
     "text": [
      "Games predicted: 245\n",
      "\n",
      "\n",
      "Now Starting Simulation Number: 275\n",
      "\n",
      "\n",
      "{'n_estimators': [10, 12, 14, 16, 18, 20, 22, 24, 26, 28], 'loss': ['ls', 'huber'], 'learning_rate': array([0.1, 0.2, 0.3, 0.4, 0.5, 0.6]), 'max_depth': [1, 2, 3, 4]}\n",
      "Fitting 5 folds for each of 480 candidates, totalling 2400 fits\n"
     ]
    },
    {
     "name": "stderr",
     "output_type": "stream",
     "text": [
      "[Parallel(n_jobs=-1)]: Using backend LokyBackend with 4 concurrent workers.\n",
      "[Parallel(n_jobs=-1)]: Done 136 tasks      | elapsed:    1.1s\n",
      "[Parallel(n_jobs=-1)]: Done 904 tasks      | elapsed:   10.9s\n",
      "[Parallel(n_jobs=-1)]: Done 2184 tasks      | elapsed:   26.7s\n",
      "[Parallel(n_jobs=-1)]: Done 2400 out of 2400 | elapsed:   29.9s finished\n",
      "C:\\Users\\chris\\Anaconda2\\lib\\site-packages\\sklearn\\model_selection\\_search.py:841: DeprecationWarning: The default of the `iid` parameter will change from True to False in version 0.22 and will be removed in 0.24. This will change numeric results when test-set sizes are unequal.\n",
      "  DeprecationWarning)\n"
     ]
    },
    {
     "name": "stdout",
     "output_type": "stream",
     "text": [
      "Fitting 5 folds for each of 480 candidates, totalling 2400 fits\n"
     ]
    },
    {
     "name": "stderr",
     "output_type": "stream",
     "text": [
      "[Parallel(n_jobs=-1)]: Using backend LokyBackend with 4 concurrent workers.\n",
      "[Parallel(n_jobs=-1)]: Done 136 tasks      | elapsed:    1.1s\n",
      "[Parallel(n_jobs=-1)]: Done 904 tasks      | elapsed:   10.3s\n",
      "[Parallel(n_jobs=-1)]: Done 2184 tasks      | elapsed:   25.1s\n",
      "[Parallel(n_jobs=-1)]: Done 2400 out of 2400 | elapsed:   28.2s finished\n",
      "C:\\Users\\chris\\Anaconda2\\lib\\site-packages\\sklearn\\model_selection\\_search.py:841: DeprecationWarning: The default of the `iid` parameter will change from True to False in version 0.22 and will be removed in 0.24. This will change numeric results when test-set sizes are unequal.\n",
      "  DeprecationWarning)\n"
     ]
    },
    {
     "name": "stdout",
     "output_type": "stream",
     "text": [
      "Games predicted: 245\n",
      "\n",
      "\n",
      "Now Starting Simulation Number: 276\n",
      "\n",
      "\n",
      "{'n_estimators': [10, 12, 14, 16, 18, 20, 22, 24, 26, 28], 'loss': ['ls', 'huber'], 'learning_rate': array([0.1, 0.2, 0.3, 0.4, 0.5, 0.6]), 'max_depth': [1, 2, 3, 4]}\n",
      "Fitting 5 folds for each of 480 candidates, totalling 2400 fits\n"
     ]
    },
    {
     "name": "stderr",
     "output_type": "stream",
     "text": [
      "[Parallel(n_jobs=-1)]: Using backend LokyBackend with 4 concurrent workers.\n",
      "[Parallel(n_jobs=-1)]: Done 104 tasks      | elapsed:    0.7s\n",
      "[Parallel(n_jobs=-1)]: Done 680 tasks      | elapsed:    7.6s\n",
      "[Parallel(n_jobs=-1)]: Done 1640 tasks      | elapsed:   20.3s\n",
      "[Parallel(n_jobs=-1)]: Done 2400 out of 2400 | elapsed:   30.4s finished\n",
      "C:\\Users\\chris\\Anaconda2\\lib\\site-packages\\sklearn\\model_selection\\_search.py:841: DeprecationWarning: The default of the `iid` parameter will change from True to False in version 0.22 and will be removed in 0.24. This will change numeric results when test-set sizes are unequal.\n",
      "  DeprecationWarning)\n"
     ]
    },
    {
     "name": "stdout",
     "output_type": "stream",
     "text": [
      "Fitting 5 folds for each of 480 candidates, totalling 2400 fits\n"
     ]
    },
    {
     "name": "stderr",
     "output_type": "stream",
     "text": [
      "[Parallel(n_jobs=-1)]: Using backend LokyBackend with 4 concurrent workers.\n",
      "[Parallel(n_jobs=-1)]: Done 168 tasks      | elapsed:    1.5s\n",
      "[Parallel(n_jobs=-1)]: Done 1128 tasks      | elapsed:   12.9s\n",
      "[Parallel(n_jobs=-1)]: Done 2400 out of 2400 | elapsed:   27.8s finished\n",
      "C:\\Users\\chris\\Anaconda2\\lib\\site-packages\\sklearn\\model_selection\\_search.py:841: DeprecationWarning: The default of the `iid` parameter will change from True to False in version 0.22 and will be removed in 0.24. This will change numeric results when test-set sizes are unequal.\n",
      "  DeprecationWarning)\n"
     ]
    },
    {
     "name": "stdout",
     "output_type": "stream",
     "text": [
      "Games predicted: 245\n",
      "\n",
      "\n",
      "Now Starting Simulation Number: 277\n",
      "\n",
      "\n",
      "{'n_estimators': [10, 12, 14, 16, 18, 20, 22, 24, 26, 28], 'loss': ['ls', 'huber'], 'learning_rate': array([0.1, 0.2, 0.3, 0.4, 0.5, 0.6]), 'max_depth': [1, 2, 3, 4]}\n",
      "Fitting 5 folds for each of 480 candidates, totalling 2400 fits\n"
     ]
    },
    {
     "name": "stderr",
     "output_type": "stream",
     "text": [
      "[Parallel(n_jobs=-1)]: Using backend LokyBackend with 4 concurrent workers.\n",
      "[Parallel(n_jobs=-1)]: Done 136 tasks      | elapsed:    1.0s\n",
      "[Parallel(n_jobs=-1)]: Done 904 tasks      | elapsed:   10.9s\n",
      "[Parallel(n_jobs=-1)]: Done 2184 tasks      | elapsed:   25.7s\n",
      "[Parallel(n_jobs=-1)]: Done 2400 out of 2400 | elapsed:   29.3s finished\n",
      "C:\\Users\\chris\\Anaconda2\\lib\\site-packages\\sklearn\\model_selection\\_search.py:841: DeprecationWarning: The default of the `iid` parameter will change from True to False in version 0.22 and will be removed in 0.24. This will change numeric results when test-set sizes are unequal.\n",
      "  DeprecationWarning)\n"
     ]
    },
    {
     "name": "stdout",
     "output_type": "stream",
     "text": [
      "Fitting 5 folds for each of 480 candidates, totalling 2400 fits\n"
     ]
    },
    {
     "name": "stderr",
     "output_type": "stream",
     "text": [
      "[Parallel(n_jobs=-1)]: Using backend LokyBackend with 4 concurrent workers.\n",
      "[Parallel(n_jobs=-1)]: Done  72 tasks      | elapsed:    0.9s\n",
      "[Parallel(n_jobs=-1)]: Done 456 tasks      | elapsed:    5.9s\n",
      "[Parallel(n_jobs=-1)]: Done 1096 tasks      | elapsed:   13.7s\n",
      "[Parallel(n_jobs=-1)]: Done 1992 tasks      | elapsed:   26.0s\n",
      "[Parallel(n_jobs=-1)]: Done 2400 out of 2400 | elapsed:   31.3s finished\n",
      "C:\\Users\\chris\\Anaconda2\\lib\\site-packages\\sklearn\\model_selection\\_search.py:841: DeprecationWarning: The default of the `iid` parameter will change from True to False in version 0.22 and will be removed in 0.24. This will change numeric results when test-set sizes are unequal.\n",
      "  DeprecationWarning)\n"
     ]
    },
    {
     "name": "stdout",
     "output_type": "stream",
     "text": [
      "Games predicted: 245\n",
      "\n",
      "\n",
      "Now Starting Simulation Number: 278\n",
      "\n",
      "\n",
      "{'n_estimators': [10, 12, 14, 16, 18, 20, 22, 24, 26, 28], 'loss': ['ls', 'huber'], 'learning_rate': array([0.1, 0.2, 0.3, 0.4, 0.5, 0.6]), 'max_depth': [1, 2, 3, 4]}\n",
      "Fitting 5 folds for each of 480 candidates, totalling 2400 fits\n"
     ]
    },
    {
     "name": "stderr",
     "output_type": "stream",
     "text": [
      "[Parallel(n_jobs=-1)]: Using backend LokyBackend with 4 concurrent workers.\n",
      "[Parallel(n_jobs=-1)]: Done 136 tasks      | elapsed:    1.1s\n",
      "[Parallel(n_jobs=-1)]: Done 904 tasks      | elapsed:    9.9s\n",
      "[Parallel(n_jobs=-1)]: Done 2184 tasks      | elapsed:   24.4s\n",
      "[Parallel(n_jobs=-1)]: Done 2400 out of 2400 | elapsed:   27.5s finished\n",
      "C:\\Users\\chris\\Anaconda2\\lib\\site-packages\\sklearn\\model_selection\\_search.py:841: DeprecationWarning: The default of the `iid` parameter will change from True to False in version 0.22 and will be removed in 0.24. This will change numeric results when test-set sizes are unequal.\n",
      "  DeprecationWarning)\n"
     ]
    },
    {
     "name": "stdout",
     "output_type": "stream",
     "text": [
      "Fitting 5 folds for each of 480 candidates, totalling 2400 fits\n"
     ]
    },
    {
     "name": "stderr",
     "output_type": "stream",
     "text": [
      "[Parallel(n_jobs=-1)]: Using backend LokyBackend with 4 concurrent workers.\n",
      "[Parallel(n_jobs=-1)]: Done 168 tasks      | elapsed:    1.3s\n",
      "[Parallel(n_jobs=-1)]: Done 1128 tasks      | elapsed:   12.4s\n",
      "[Parallel(n_jobs=-1)]: Done 2400 out of 2400 | elapsed:   28.2s finished\n",
      "C:\\Users\\chris\\Anaconda2\\lib\\site-packages\\sklearn\\model_selection\\_search.py:841: DeprecationWarning: The default of the `iid` parameter will change from True to False in version 0.22 and will be removed in 0.24. This will change numeric results when test-set sizes are unequal.\n",
      "  DeprecationWarning)\n"
     ]
    },
    {
     "name": "stdout",
     "output_type": "stream",
     "text": [
      "Games predicted: 245\n",
      "\n",
      "\n",
      "Now Starting Simulation Number: 279\n",
      "\n",
      "\n",
      "{'n_estimators': [10, 12, 14, 16, 18, 20, 22, 24, 26, 28], 'loss': ['ls', 'huber'], 'learning_rate': array([0.1, 0.2, 0.3, 0.4, 0.5, 0.6]), 'max_depth': [1, 2, 3, 4]}\n",
      "Fitting 5 folds for each of 480 candidates, totalling 2400 fits\n"
     ]
    },
    {
     "name": "stderr",
     "output_type": "stream",
     "text": [
      "[Parallel(n_jobs=-1)]: Using backend LokyBackend with 4 concurrent workers.\n",
      "[Parallel(n_jobs=-1)]: Done 136 tasks      | elapsed:    1.1s\n",
      "[Parallel(n_jobs=-1)]: Done 904 tasks      | elapsed:   11.4s\n",
      "[Parallel(n_jobs=-1)]: Done 2184 tasks      | elapsed:   27.0s\n",
      "[Parallel(n_jobs=-1)]: Done 2400 out of 2400 | elapsed:   30.2s finished\n",
      "C:\\Users\\chris\\Anaconda2\\lib\\site-packages\\sklearn\\model_selection\\_search.py:841: DeprecationWarning: The default of the `iid` parameter will change from True to False in version 0.22 and will be removed in 0.24. This will change numeric results when test-set sizes are unequal.\n",
      "  DeprecationWarning)\n"
     ]
    },
    {
     "name": "stdout",
     "output_type": "stream",
     "text": [
      "Fitting 5 folds for each of 480 candidates, totalling 2400 fits\n"
     ]
    },
    {
     "name": "stderr",
     "output_type": "stream",
     "text": [
      "[Parallel(n_jobs=-1)]: Using backend LokyBackend with 4 concurrent workers.\n",
      "[Parallel(n_jobs=-1)]: Done 136 tasks      | elapsed:    1.0s\n",
      "[Parallel(n_jobs=-1)]: Done 904 tasks      | elapsed:   10.1s\n",
      "[Parallel(n_jobs=-1)]: Done 2184 tasks      | elapsed:   25.0s\n",
      "[Parallel(n_jobs=-1)]: Done 2400 out of 2400 | elapsed:   28.4s finished\n",
      "C:\\Users\\chris\\Anaconda2\\lib\\site-packages\\sklearn\\model_selection\\_search.py:841: DeprecationWarning: The default of the `iid` parameter will change from True to False in version 0.22 and will be removed in 0.24. This will change numeric results when test-set sizes are unequal.\n",
      "  DeprecationWarning)\n"
     ]
    },
    {
     "name": "stdout",
     "output_type": "stream",
     "text": [
      "Games predicted: 245\n",
      "\n",
      "\n",
      "Now Starting Simulation Number: 280\n",
      "\n",
      "\n",
      "{'n_estimators': [10, 12, 14, 16, 18, 20, 22, 24, 26, 28], 'loss': ['ls', 'huber'], 'learning_rate': array([0.1, 0.2, 0.3, 0.4, 0.5, 0.6]), 'max_depth': [1, 2, 3, 4]}\n",
      "Fitting 5 folds for each of 480 candidates, totalling 2400 fits\n"
     ]
    },
    {
     "name": "stderr",
     "output_type": "stream",
     "text": [
      "[Parallel(n_jobs=-1)]: Using backend LokyBackend with 4 concurrent workers.\n",
      "[Parallel(n_jobs=-1)]: Done 136 tasks      | elapsed:    1.0s\n",
      "[Parallel(n_jobs=-1)]: Done 904 tasks      | elapsed:   10.8s\n",
      "[Parallel(n_jobs=-1)]: Done 2184 tasks      | elapsed:   26.6s\n",
      "[Parallel(n_jobs=-1)]: Done 2400 out of 2400 | elapsed:   29.8s finished\n",
      "C:\\Users\\chris\\Anaconda2\\lib\\site-packages\\sklearn\\model_selection\\_search.py:841: DeprecationWarning: The default of the `iid` parameter will change from True to False in version 0.22 and will be removed in 0.24. This will change numeric results when test-set sizes are unequal.\n",
      "  DeprecationWarning)\n"
     ]
    },
    {
     "name": "stdout",
     "output_type": "stream",
     "text": [
      "Fitting 5 folds for each of 480 candidates, totalling 2400 fits\n"
     ]
    },
    {
     "name": "stderr",
     "output_type": "stream",
     "text": [
      "[Parallel(n_jobs=-1)]: Using backend LokyBackend with 4 concurrent workers.\n",
      "[Parallel(n_jobs=-1)]: Done 152 tasks      | elapsed:    1.2s\n",
      "[Parallel(n_jobs=-1)]: Done 1304 tasks      | elapsed:   14.8s\n",
      "[Parallel(n_jobs=-1)]: Done 2400 out of 2400 | elapsed:   27.6s finished\n",
      "C:\\Users\\chris\\Anaconda2\\lib\\site-packages\\sklearn\\model_selection\\_search.py:841: DeprecationWarning: The default of the `iid` parameter will change from True to False in version 0.22 and will be removed in 0.24. This will change numeric results when test-set sizes are unequal.\n",
      "  DeprecationWarning)\n"
     ]
    },
    {
     "name": "stdout",
     "output_type": "stream",
     "text": [
      "Games predicted: 245\n",
      "\n",
      "\n",
      "Now Starting Simulation Number: 281\n",
      "\n",
      "\n",
      "{'n_estimators': [10, 12, 14, 16, 18, 20, 22, 24, 26, 28], 'loss': ['ls', 'huber'], 'learning_rate': array([0.1, 0.2, 0.3, 0.4, 0.5, 0.6]), 'max_depth': [1, 2, 3, 4]}\n",
      "Fitting 5 folds for each of 480 candidates, totalling 2400 fits\n"
     ]
    },
    {
     "name": "stderr",
     "output_type": "stream",
     "text": [
      "[Parallel(n_jobs=-1)]: Using backend LokyBackend with 4 concurrent workers.\n",
      "[Parallel(n_jobs=-1)]: Done 136 tasks      | elapsed:    1.0s\n",
      "[Parallel(n_jobs=-1)]: Done 904 tasks      | elapsed:   10.3s\n",
      "[Parallel(n_jobs=-1)]: Done 2184 tasks      | elapsed:   26.8s\n",
      "[Parallel(n_jobs=-1)]: Done 2400 out of 2400 | elapsed:   30.3s finished\n",
      "C:\\Users\\chris\\Anaconda2\\lib\\site-packages\\sklearn\\model_selection\\_search.py:841: DeprecationWarning: The default of the `iid` parameter will change from True to False in version 0.22 and will be removed in 0.24. This will change numeric results when test-set sizes are unequal.\n",
      "  DeprecationWarning)\n"
     ]
    },
    {
     "name": "stdout",
     "output_type": "stream",
     "text": [
      "Fitting 5 folds for each of 480 candidates, totalling 2400 fits\n"
     ]
    },
    {
     "name": "stderr",
     "output_type": "stream",
     "text": [
      "[Parallel(n_jobs=-1)]: Using backend LokyBackend with 4 concurrent workers.\n",
      "[Parallel(n_jobs=-1)]: Done 136 tasks      | elapsed:    1.1s\n",
      "[Parallel(n_jobs=-1)]: Done 904 tasks      | elapsed:   10.2s\n",
      "[Parallel(n_jobs=-1)]: Done 2184 tasks      | elapsed:   24.6s\n",
      "[Parallel(n_jobs=-1)]: Done 2400 out of 2400 | elapsed:   27.7s finished\n",
      "C:\\Users\\chris\\Anaconda2\\lib\\site-packages\\sklearn\\model_selection\\_search.py:841: DeprecationWarning: The default of the `iid` parameter will change from True to False in version 0.22 and will be removed in 0.24. This will change numeric results when test-set sizes are unequal.\n",
      "  DeprecationWarning)\n"
     ]
    },
    {
     "name": "stdout",
     "output_type": "stream",
     "text": [
      "Games predicted: 245\n",
      "\n",
      "\n",
      "Now Starting Simulation Number: 282\n",
      "\n",
      "\n",
      "{'n_estimators': [10, 12, 14, 16, 18, 20, 22, 24, 26, 28], 'loss': ['ls', 'huber'], 'learning_rate': array([0.1, 0.2, 0.3, 0.4, 0.5, 0.6]), 'max_depth': [1, 2, 3, 4]}\n",
      "Fitting 5 folds for each of 480 candidates, totalling 2400 fits\n"
     ]
    },
    {
     "name": "stderr",
     "output_type": "stream",
     "text": [
      "[Parallel(n_jobs=-1)]: Using backend LokyBackend with 4 concurrent workers.\n",
      "[Parallel(n_jobs=-1)]: Done 104 tasks      | elapsed:    0.7s\n",
      "[Parallel(n_jobs=-1)]: Done 680 tasks      | elapsed:    7.1s\n",
      "[Parallel(n_jobs=-1)]: Done 1640 tasks      | elapsed:   18.8s\n",
      "[Parallel(n_jobs=-1)]: Done 2400 out of 2400 | elapsed:   28.3s finished\n",
      "C:\\Users\\chris\\Anaconda2\\lib\\site-packages\\sklearn\\model_selection\\_search.py:841: DeprecationWarning: The default of the `iid` parameter will change from True to False in version 0.22 and will be removed in 0.24. This will change numeric results when test-set sizes are unequal.\n",
      "  DeprecationWarning)\n"
     ]
    },
    {
     "name": "stdout",
     "output_type": "stream",
     "text": [
      "Fitting 5 folds for each of 480 candidates, totalling 2400 fits\n"
     ]
    },
    {
     "name": "stderr",
     "output_type": "stream",
     "text": [
      "[Parallel(n_jobs=-1)]: Using backend LokyBackend with 4 concurrent workers.\n",
      "[Parallel(n_jobs=-1)]: Done 200 tasks      | elapsed:    2.0s\n",
      "[Parallel(n_jobs=-1)]: Done 1352 tasks      | elapsed:   16.3s\n",
      "[Parallel(n_jobs=-1)]: Done 2400 out of 2400 | elapsed:   28.9s finished\n",
      "C:\\Users\\chris\\Anaconda2\\lib\\site-packages\\sklearn\\model_selection\\_search.py:841: DeprecationWarning: The default of the `iid` parameter will change from True to False in version 0.22 and will be removed in 0.24. This will change numeric results when test-set sizes are unequal.\n",
      "  DeprecationWarning)\n"
     ]
    },
    {
     "name": "stdout",
     "output_type": "stream",
     "text": [
      "Games predicted: 245\n",
      "\n",
      "\n",
      "Now Starting Simulation Number: 283\n",
      "\n",
      "\n",
      "{'n_estimators': [10, 12, 14, 16, 18, 20, 22, 24, 26, 28], 'loss': ['ls', 'huber'], 'learning_rate': array([0.1, 0.2, 0.3, 0.4, 0.5, 0.6]), 'max_depth': [1, 2, 3, 4]}\n",
      "Fitting 5 folds for each of 480 candidates, totalling 2400 fits\n"
     ]
    },
    {
     "name": "stderr",
     "output_type": "stream",
     "text": [
      "[Parallel(n_jobs=-1)]: Using backend LokyBackend with 4 concurrent workers.\n",
      "[Parallel(n_jobs=-1)]: Done 104 tasks      | elapsed:    0.7s\n",
      "[Parallel(n_jobs=-1)]: Done 680 tasks      | elapsed:    7.3s\n",
      "[Parallel(n_jobs=-1)]: Done 1640 tasks      | elapsed:   19.0s\n",
      "[Parallel(n_jobs=-1)]: Done 2400 out of 2400 | elapsed:   28.1s finished\n",
      "C:\\Users\\chris\\Anaconda2\\lib\\site-packages\\sklearn\\model_selection\\_search.py:841: DeprecationWarning: The default of the `iid` parameter will change from True to False in version 0.22 and will be removed in 0.24. This will change numeric results when test-set sizes are unequal.\n",
      "  DeprecationWarning)\n"
     ]
    },
    {
     "name": "stdout",
     "output_type": "stream",
     "text": [
      "Fitting 5 folds for each of 480 candidates, totalling 2400 fits\n"
     ]
    },
    {
     "name": "stderr",
     "output_type": "stream",
     "text": [
      "[Parallel(n_jobs=-1)]: Using backend LokyBackend with 4 concurrent workers.\n",
      "[Parallel(n_jobs=-1)]: Done 136 tasks      | elapsed:    1.0s\n",
      "[Parallel(n_jobs=-1)]: Done 904 tasks      | elapsed:   10.9s\n",
      "[Parallel(n_jobs=-1)]: Done 2184 tasks      | elapsed:   26.6s\n",
      "[Parallel(n_jobs=-1)]: Done 2400 out of 2400 | elapsed:   30.0s finished\n",
      "C:\\Users\\chris\\Anaconda2\\lib\\site-packages\\sklearn\\model_selection\\_search.py:841: DeprecationWarning: The default of the `iid` parameter will change from True to False in version 0.22 and will be removed in 0.24. This will change numeric results when test-set sizes are unequal.\n",
      "  DeprecationWarning)\n"
     ]
    },
    {
     "name": "stdout",
     "output_type": "stream",
     "text": [
      "Games predicted: 245\n",
      "\n",
      "\n",
      "Now Starting Simulation Number: 284\n",
      "\n",
      "\n",
      "{'n_estimators': [10, 12, 14, 16, 18, 20, 22, 24, 26, 28], 'loss': ['ls', 'huber'], 'learning_rate': array([0.1, 0.2, 0.3, 0.4, 0.5, 0.6]), 'max_depth': [1, 2, 3, 4]}\n",
      "Fitting 5 folds for each of 480 candidates, totalling 2400 fits\n"
     ]
    },
    {
     "name": "stderr",
     "output_type": "stream",
     "text": [
      "[Parallel(n_jobs=-1)]: Using backend LokyBackend with 4 concurrent workers.\n",
      "[Parallel(n_jobs=-1)]: Done 136 tasks      | elapsed:    1.2s\n",
      "[Parallel(n_jobs=-1)]: Done 904 tasks      | elapsed:   10.7s\n",
      "[Parallel(n_jobs=-1)]: Done 2184 tasks      | elapsed:   25.3s\n",
      "[Parallel(n_jobs=-1)]: Done 2400 out of 2400 | elapsed:   28.4s finished\n",
      "C:\\Users\\chris\\Anaconda2\\lib\\site-packages\\sklearn\\model_selection\\_search.py:841: DeprecationWarning: The default of the `iid` parameter will change from True to False in version 0.22 and will be removed in 0.24. This will change numeric results when test-set sizes are unequal.\n",
      "  DeprecationWarning)\n"
     ]
    },
    {
     "name": "stdout",
     "output_type": "stream",
     "text": [
      "Fitting 5 folds for each of 480 candidates, totalling 2400 fits\n"
     ]
    },
    {
     "name": "stderr",
     "output_type": "stream",
     "text": [
      "[Parallel(n_jobs=-1)]: Using backend LokyBackend with 4 concurrent workers.\n",
      "[Parallel(n_jobs=-1)]: Done 168 tasks      | elapsed:    1.3s\n",
      "[Parallel(n_jobs=-1)]: Done 1128 tasks      | elapsed:   12.9s\n",
      "[Parallel(n_jobs=-1)]: Done 2400 out of 2400 | elapsed:   28.1s finished\n",
      "C:\\Users\\chris\\Anaconda2\\lib\\site-packages\\sklearn\\model_selection\\_search.py:841: DeprecationWarning: The default of the `iid` parameter will change from True to False in version 0.22 and will be removed in 0.24. This will change numeric results when test-set sizes are unequal.\n",
      "  DeprecationWarning)\n"
     ]
    },
    {
     "name": "stdout",
     "output_type": "stream",
     "text": [
      "Games predicted: 245\n",
      "\n",
      "\n",
      "Now Starting Simulation Number: 285\n",
      "\n",
      "\n",
      "{'n_estimators': [10, 12, 14, 16, 18, 20, 22, 24, 26, 28], 'loss': ['ls', 'huber'], 'learning_rate': array([0.1, 0.2, 0.3, 0.4, 0.5, 0.6]), 'max_depth': [1, 2, 3, 4]}\n",
      "Fitting 5 folds for each of 480 candidates, totalling 2400 fits\n"
     ]
    },
    {
     "name": "stderr",
     "output_type": "stream",
     "text": [
      "[Parallel(n_jobs=-1)]: Using backend LokyBackend with 4 concurrent workers.\n",
      "[Parallel(n_jobs=-1)]: Done 104 tasks      | elapsed:    0.7s\n",
      "[Parallel(n_jobs=-1)]: Done 680 tasks      | elapsed:    7.6s\n",
      "[Parallel(n_jobs=-1)]: Done 1640 tasks      | elapsed:   20.2s\n",
      "[Parallel(n_jobs=-1)]: Done 2400 out of 2400 | elapsed:   30.2s finished\n",
      "C:\\Users\\chris\\Anaconda2\\lib\\site-packages\\sklearn\\model_selection\\_search.py:841: DeprecationWarning: The default of the `iid` parameter will change from True to False in version 0.22 and will be removed in 0.24. This will change numeric results when test-set sizes are unequal.\n",
      "  DeprecationWarning)\n"
     ]
    },
    {
     "name": "stdout",
     "output_type": "stream",
     "text": [
      "Fitting 5 folds for each of 480 candidates, totalling 2400 fits\n"
     ]
    },
    {
     "name": "stderr",
     "output_type": "stream",
     "text": [
      "[Parallel(n_jobs=-1)]: Using backend LokyBackend with 4 concurrent workers.\n",
      "[Parallel(n_jobs=-1)]: Done 168 tasks      | elapsed:    1.4s\n",
      "[Parallel(n_jobs=-1)]: Done 1128 tasks      | elapsed:   13.0s\n",
      "[Parallel(n_jobs=-1)]: Done 2400 out of 2400 | elapsed:   28.1s finished\n",
      "C:\\Users\\chris\\Anaconda2\\lib\\site-packages\\sklearn\\model_selection\\_search.py:841: DeprecationWarning: The default of the `iid` parameter will change from True to False in version 0.22 and will be removed in 0.24. This will change numeric results when test-set sizes are unequal.\n",
      "  DeprecationWarning)\n"
     ]
    },
    {
     "name": "stdout",
     "output_type": "stream",
     "text": [
      "Games predicted: 245\n",
      "\n",
      "\n",
      "Now Starting Simulation Number: 286\n",
      "\n",
      "\n",
      "{'n_estimators': [10, 12, 14, 16, 18, 20, 22, 24, 26, 28], 'loss': ['ls', 'huber'], 'learning_rate': array([0.1, 0.2, 0.3, 0.4, 0.5, 0.6]), 'max_depth': [1, 2, 3, 4]}\n",
      "Fitting 5 folds for each of 480 candidates, totalling 2400 fits\n"
     ]
    },
    {
     "name": "stderr",
     "output_type": "stream",
     "text": [
      "[Parallel(n_jobs=-1)]: Using backend LokyBackend with 4 concurrent workers.\n",
      "[Parallel(n_jobs=-1)]: Done 104 tasks      | elapsed:    0.8s\n",
      "[Parallel(n_jobs=-1)]: Done 680 tasks      | elapsed:    7.0s\n",
      "[Parallel(n_jobs=-1)]: Done 1640 tasks      | elapsed:   18.7s\n",
      "[Parallel(n_jobs=-1)]: Done 2400 out of 2400 | elapsed:   28.2s finished\n",
      "C:\\Users\\chris\\Anaconda2\\lib\\site-packages\\sklearn\\model_selection\\_search.py:841: DeprecationWarning: The default of the `iid` parameter will change from True to False in version 0.22 and will be removed in 0.24. This will change numeric results when test-set sizes are unequal.\n",
      "  DeprecationWarning)\n"
     ]
    },
    {
     "name": "stdout",
     "output_type": "stream",
     "text": [
      "Fitting 5 folds for each of 480 candidates, totalling 2400 fits\n"
     ]
    },
    {
     "name": "stderr",
     "output_type": "stream",
     "text": [
      "[Parallel(n_jobs=-1)]: Using backend LokyBackend with 4 concurrent workers.\n",
      "[Parallel(n_jobs=-1)]: Done 152 tasks      | elapsed:    1.4s\n",
      "[Parallel(n_jobs=-1)]: Done 1304 tasks      | elapsed:   15.8s\n",
      "[Parallel(n_jobs=-1)]: Done 2400 out of 2400 | elapsed:   29.2s finished\n",
      "C:\\Users\\chris\\Anaconda2\\lib\\site-packages\\sklearn\\model_selection\\_search.py:841: DeprecationWarning: The default of the `iid` parameter will change from True to False in version 0.22 and will be removed in 0.24. This will change numeric results when test-set sizes are unequal.\n",
      "  DeprecationWarning)\n"
     ]
    },
    {
     "name": "stdout",
     "output_type": "stream",
     "text": [
      "Games predicted: 245\n",
      "\n",
      "\n",
      "Now Starting Simulation Number: 287\n",
      "\n",
      "\n",
      "{'n_estimators': [10, 12, 14, 16, 18, 20, 22, 24, 26, 28], 'loss': ['ls', 'huber'], 'learning_rate': array([0.1, 0.2, 0.3, 0.4, 0.5, 0.6]), 'max_depth': [1, 2, 3, 4]}\n",
      "Fitting 5 folds for each of 480 candidates, totalling 2400 fits\n"
     ]
    },
    {
     "name": "stderr",
     "output_type": "stream",
     "text": [
      "[Parallel(n_jobs=-1)]: Using backend LokyBackend with 4 concurrent workers.\n",
      "[Parallel(n_jobs=-1)]: Done 136 tasks      | elapsed:    1.1s\n",
      "[Parallel(n_jobs=-1)]: Done 904 tasks      | elapsed:   10.1s\n",
      "[Parallel(n_jobs=-1)]: Done 2184 tasks      | elapsed:   25.1s\n",
      "[Parallel(n_jobs=-1)]: Done 2400 out of 2400 | elapsed:   28.6s finished\n",
      "C:\\Users\\chris\\Anaconda2\\lib\\site-packages\\sklearn\\model_selection\\_search.py:841: DeprecationWarning: The default of the `iid` parameter will change from True to False in version 0.22 and will be removed in 0.24. This will change numeric results when test-set sizes are unequal.\n",
      "  DeprecationWarning)\n"
     ]
    },
    {
     "name": "stdout",
     "output_type": "stream",
     "text": [
      "Fitting 5 folds for each of 480 candidates, totalling 2400 fits\n"
     ]
    },
    {
     "name": "stderr",
     "output_type": "stream",
     "text": [
      "[Parallel(n_jobs=-1)]: Using backend LokyBackend with 4 concurrent workers.\n",
      "[Parallel(n_jobs=-1)]: Done 104 tasks      | elapsed:    0.8s\n",
      "[Parallel(n_jobs=-1)]: Done 680 tasks      | elapsed:    7.8s\n",
      "[Parallel(n_jobs=-1)]: Done 1640 tasks      | elapsed:   20.4s\n",
      "[Parallel(n_jobs=-1)]: Done 2400 out of 2400 | elapsed:   30.5s finished\n",
      "C:\\Users\\chris\\Anaconda2\\lib\\site-packages\\sklearn\\model_selection\\_search.py:841: DeprecationWarning: The default of the `iid` parameter will change from True to False in version 0.22 and will be removed in 0.24. This will change numeric results when test-set sizes are unequal.\n",
      "  DeprecationWarning)\n"
     ]
    },
    {
     "name": "stdout",
     "output_type": "stream",
     "text": [
      "Games predicted: 245\n",
      "\n",
      "\n",
      "Now Starting Simulation Number: 288\n",
      "\n",
      "\n",
      "{'n_estimators': [10, 12, 14, 16, 18, 20, 22, 24, 26, 28], 'loss': ['ls', 'huber'], 'learning_rate': array([0.1, 0.2, 0.3, 0.4, 0.5, 0.6]), 'max_depth': [1, 2, 3, 4]}\n",
      "Fitting 5 folds for each of 480 candidates, totalling 2400 fits\n"
     ]
    },
    {
     "name": "stderr",
     "output_type": "stream",
     "text": [
      "[Parallel(n_jobs=-1)]: Using backend LokyBackend with 4 concurrent workers.\n",
      "[Parallel(n_jobs=-1)]: Done 104 tasks      | elapsed:    0.7s\n",
      "[Parallel(n_jobs=-1)]: Done 680 tasks      | elapsed:    7.2s\n",
      "[Parallel(n_jobs=-1)]: Done 1640 tasks      | elapsed:   18.7s\n",
      "[Parallel(n_jobs=-1)]: Done 2400 out of 2400 | elapsed:   27.6s finished\n",
      "C:\\Users\\chris\\Anaconda2\\lib\\site-packages\\sklearn\\model_selection\\_search.py:841: DeprecationWarning: The default of the `iid` parameter will change from True to False in version 0.22 and will be removed in 0.24. This will change numeric results when test-set sizes are unequal.\n",
      "  DeprecationWarning)\n"
     ]
    },
    {
     "name": "stdout",
     "output_type": "stream",
     "text": [
      "Fitting 5 folds for each of 480 candidates, totalling 2400 fits\n"
     ]
    },
    {
     "name": "stderr",
     "output_type": "stream",
     "text": [
      "[Parallel(n_jobs=-1)]: Using backend LokyBackend with 4 concurrent workers.\n",
      "[Parallel(n_jobs=-1)]: Done 168 tasks      | elapsed:    1.4s\n",
      "[Parallel(n_jobs=-1)]: Done 1128 tasks      | elapsed:   12.9s\n",
      "[Parallel(n_jobs=-1)]: Done 2400 out of 2400 | elapsed:   29.1s finished\n",
      "C:\\Users\\chris\\Anaconda2\\lib\\site-packages\\sklearn\\model_selection\\_search.py:841: DeprecationWarning: The default of the `iid` parameter will change from True to False in version 0.22 and will be removed in 0.24. This will change numeric results when test-set sizes are unequal.\n",
      "  DeprecationWarning)\n"
     ]
    },
    {
     "name": "stdout",
     "output_type": "stream",
     "text": [
      "Games predicted: 245\n",
      "\n",
      "\n",
      "Now Starting Simulation Number: 289\n",
      "\n",
      "\n",
      "{'n_estimators': [10, 12, 14, 16, 18, 20, 22, 24, 26, 28], 'loss': ['ls', 'huber'], 'learning_rate': array([0.1, 0.2, 0.3, 0.4, 0.5, 0.6]), 'max_depth': [1, 2, 3, 4]}\n",
      "Fitting 5 folds for each of 480 candidates, totalling 2400 fits\n"
     ]
    },
    {
     "name": "stderr",
     "output_type": "stream",
     "text": [
      "[Parallel(n_jobs=-1)]: Using backend LokyBackend with 4 concurrent workers.\n",
      "[Parallel(n_jobs=-1)]: Done 104 tasks      | elapsed:    0.7s\n",
      "[Parallel(n_jobs=-1)]: Done 680 tasks      | elapsed:    7.3s\n",
      "[Parallel(n_jobs=-1)]: Done 1640 tasks      | elapsed:   19.0s\n",
      "[Parallel(n_jobs=-1)]: Done 2400 out of 2400 | elapsed:   27.9s finished\n",
      "C:\\Users\\chris\\Anaconda2\\lib\\site-packages\\sklearn\\model_selection\\_search.py:841: DeprecationWarning: The default of the `iid` parameter will change from True to False in version 0.22 and will be removed in 0.24. This will change numeric results when test-set sizes are unequal.\n",
      "  DeprecationWarning)\n"
     ]
    },
    {
     "name": "stdout",
     "output_type": "stream",
     "text": [
      "Fitting 5 folds for each of 480 candidates, totalling 2400 fits\n"
     ]
    },
    {
     "name": "stderr",
     "output_type": "stream",
     "text": [
      "[Parallel(n_jobs=-1)]: Using backend LokyBackend with 4 concurrent workers.\n",
      "[Parallel(n_jobs=-1)]: Done 136 tasks      | elapsed:    1.0s\n",
      "[Parallel(n_jobs=-1)]: Done 904 tasks      | elapsed:    9.9s\n",
      "[Parallel(n_jobs=-1)]: Done 2184 tasks      | elapsed:   25.3s\n",
      "[Parallel(n_jobs=-1)]: Done 2400 out of 2400 | elapsed:   28.9s finished\n",
      "C:\\Users\\chris\\Anaconda2\\lib\\site-packages\\sklearn\\model_selection\\_search.py:841: DeprecationWarning: The default of the `iid` parameter will change from True to False in version 0.22 and will be removed in 0.24. This will change numeric results when test-set sizes are unequal.\n",
      "  DeprecationWarning)\n"
     ]
    },
    {
     "name": "stdout",
     "output_type": "stream",
     "text": [
      "Games predicted: 245\n",
      "\n",
      "\n",
      "Now Starting Simulation Number: 290\n",
      "\n",
      "\n",
      "{'n_estimators': [10, 12, 14, 16, 18, 20, 22, 24, 26, 28], 'loss': ['ls', 'huber'], 'learning_rate': array([0.1, 0.2, 0.3, 0.4, 0.5, 0.6]), 'max_depth': [1, 2, 3, 4]}\n",
      "Fitting 5 folds for each of 480 candidates, totalling 2400 fits\n"
     ]
    },
    {
     "name": "stderr",
     "output_type": "stream",
     "text": [
      "[Parallel(n_jobs=-1)]: Using backend LokyBackend with 4 concurrent workers.\n",
      "[Parallel(n_jobs=-1)]: Done 136 tasks      | elapsed:    1.1s\n",
      "[Parallel(n_jobs=-1)]: Done 904 tasks      | elapsed:   11.8s\n",
      "[Parallel(n_jobs=-1)]: Done 2184 tasks      | elapsed:   26.4s\n",
      "[Parallel(n_jobs=-1)]: Done 2400 out of 2400 | elapsed:   29.4s finished\n",
      "C:\\Users\\chris\\Anaconda2\\lib\\site-packages\\sklearn\\model_selection\\_search.py:841: DeprecationWarning: The default of the `iid` parameter will change from True to False in version 0.22 and will be removed in 0.24. This will change numeric results when test-set sizes are unequal.\n",
      "  DeprecationWarning)\n"
     ]
    },
    {
     "name": "stdout",
     "output_type": "stream",
     "text": [
      "Fitting 5 folds for each of 480 candidates, totalling 2400 fits\n"
     ]
    },
    {
     "name": "stderr",
     "output_type": "stream",
     "text": [
      "[Parallel(n_jobs=-1)]: Using backend LokyBackend with 4 concurrent workers.\n",
      "[Parallel(n_jobs=-1)]: Done 200 tasks      | elapsed:    1.8s\n",
      "[Parallel(n_jobs=-1)]: Done 1352 tasks      | elapsed:   14.9s\n",
      "[Parallel(n_jobs=-1)]: Done 2400 out of 2400 | elapsed:   27.5s finished\n",
      "C:\\Users\\chris\\Anaconda2\\lib\\site-packages\\sklearn\\model_selection\\_search.py:841: DeprecationWarning: The default of the `iid` parameter will change from True to False in version 0.22 and will be removed in 0.24. This will change numeric results when test-set sizes are unequal.\n",
      "  DeprecationWarning)\n"
     ]
    },
    {
     "name": "stdout",
     "output_type": "stream",
     "text": [
      "Games predicted: 245\n",
      "\n",
      "\n",
      "Now Starting Simulation Number: 291\n",
      "\n",
      "\n",
      "{'n_estimators': [10, 12, 14, 16, 18, 20, 22, 24, 26, 28], 'loss': ['ls', 'huber'], 'learning_rate': array([0.1, 0.2, 0.3, 0.4, 0.5, 0.6]), 'max_depth': [1, 2, 3, 4]}\n",
      "Fitting 5 folds for each of 480 candidates, totalling 2400 fits\n"
     ]
    },
    {
     "name": "stderr",
     "output_type": "stream",
     "text": [
      "[Parallel(n_jobs=-1)]: Using backend LokyBackend with 4 concurrent workers.\n",
      "[Parallel(n_jobs=-1)]: Done 104 tasks      | elapsed:    0.7s\n",
      "[Parallel(n_jobs=-1)]: Done 680 tasks      | elapsed:    7.5s\n",
      "[Parallel(n_jobs=-1)]: Done 1640 tasks      | elapsed:   20.1s\n",
      "[Parallel(n_jobs=-1)]: Done 2400 out of 2400 | elapsed:   29.7s finished\n",
      "C:\\Users\\chris\\Anaconda2\\lib\\site-packages\\sklearn\\model_selection\\_search.py:841: DeprecationWarning: The default of the `iid` parameter will change from True to False in version 0.22 and will be removed in 0.24. This will change numeric results when test-set sizes are unequal.\n",
      "  DeprecationWarning)\n"
     ]
    },
    {
     "name": "stdout",
     "output_type": "stream",
     "text": [
      "Fitting 5 folds for each of 480 candidates, totalling 2400 fits\n"
     ]
    },
    {
     "name": "stderr",
     "output_type": "stream",
     "text": [
      "[Parallel(n_jobs=-1)]: Using backend LokyBackend with 4 concurrent workers.\n",
      "[Parallel(n_jobs=-1)]: Done 168 tasks      | elapsed:    1.4s\n",
      "[Parallel(n_jobs=-1)]: Done 1128 tasks      | elapsed:   12.7s\n",
      "[Parallel(n_jobs=-1)]: Done 2400 out of 2400 | elapsed:   27.6s finished\n",
      "C:\\Users\\chris\\Anaconda2\\lib\\site-packages\\sklearn\\model_selection\\_search.py:841: DeprecationWarning: The default of the `iid` parameter will change from True to False in version 0.22 and will be removed in 0.24. This will change numeric results when test-set sizes are unequal.\n",
      "  DeprecationWarning)\n"
     ]
    },
    {
     "name": "stdout",
     "output_type": "stream",
     "text": [
      "Games predicted: 245\n",
      "\n",
      "\n",
      "Now Starting Simulation Number: 292\n",
      "\n",
      "\n",
      "{'n_estimators': [10, 12, 14, 16, 18, 20, 22, 24, 26, 28], 'loss': ['ls', 'huber'], 'learning_rate': array([0.1, 0.2, 0.3, 0.4, 0.5, 0.6]), 'max_depth': [1, 2, 3, 4]}\n",
      "Fitting 5 folds for each of 480 candidates, totalling 2400 fits\n"
     ]
    },
    {
     "name": "stderr",
     "output_type": "stream",
     "text": [
      "[Parallel(n_jobs=-1)]: Using backend LokyBackend with 4 concurrent workers.\n",
      "[Parallel(n_jobs=-1)]: Done 104 tasks      | elapsed:    0.7s\n",
      "[Parallel(n_jobs=-1)]: Done 680 tasks      | elapsed:    7.2s\n",
      "[Parallel(n_jobs=-1)]: Done 1640 tasks      | elapsed:   20.0s\n",
      "[Parallel(n_jobs=-1)]: Done 2400 out of 2400 | elapsed:   30.0s finished\n",
      "C:\\Users\\chris\\Anaconda2\\lib\\site-packages\\sklearn\\model_selection\\_search.py:841: DeprecationWarning: The default of the `iid` parameter will change from True to False in version 0.22 and will be removed in 0.24. This will change numeric results when test-set sizes are unequal.\n",
      "  DeprecationWarning)\n"
     ]
    },
    {
     "name": "stdout",
     "output_type": "stream",
     "text": [
      "Fitting 5 folds for each of 480 candidates, totalling 2400 fits\n"
     ]
    },
    {
     "name": "stderr",
     "output_type": "stream",
     "text": [
      "[Parallel(n_jobs=-1)]: Using backend LokyBackend with 4 concurrent workers.\n",
      "[Parallel(n_jobs=-1)]: Done 168 tasks      | elapsed:    1.5s\n",
      "[Parallel(n_jobs=-1)]: Done 1128 tasks      | elapsed:   13.0s\n",
      "[Parallel(n_jobs=-1)]: Done 2400 out of 2400 | elapsed:   27.9s finished\n",
      "C:\\Users\\chris\\Anaconda2\\lib\\site-packages\\sklearn\\model_selection\\_search.py:841: DeprecationWarning: The default of the `iid` parameter will change from True to False in version 0.22 and will be removed in 0.24. This will change numeric results when test-set sizes are unequal.\n",
      "  DeprecationWarning)\n"
     ]
    },
    {
     "name": "stdout",
     "output_type": "stream",
     "text": [
      "Games predicted: 245\n",
      "\n",
      "\n",
      "Now Starting Simulation Number: 293\n",
      "\n",
      "\n",
      "{'n_estimators': [10, 12, 14, 16, 18, 20, 22, 24, 26, 28], 'loss': ['ls', 'huber'], 'learning_rate': array([0.1, 0.2, 0.3, 0.4, 0.5, 0.6]), 'max_depth': [1, 2, 3, 4]}\n",
      "Fitting 5 folds for each of 480 candidates, totalling 2400 fits\n"
     ]
    },
    {
     "name": "stderr",
     "output_type": "stream",
     "text": [
      "[Parallel(n_jobs=-1)]: Using backend LokyBackend with 4 concurrent workers.\n",
      "[Parallel(n_jobs=-1)]: Done 104 tasks      | elapsed:    0.7s\n",
      "[Parallel(n_jobs=-1)]: Done 680 tasks      | elapsed:    7.1s\n",
      "[Parallel(n_jobs=-1)]: Done 1640 tasks      | elapsed:   18.7s\n",
      "[Parallel(n_jobs=-1)]: Done 2400 out of 2400 | elapsed:   28.0s finished\n",
      "C:\\Users\\chris\\Anaconda2\\lib\\site-packages\\sklearn\\model_selection\\_search.py:841: DeprecationWarning: The default of the `iid` parameter will change from True to False in version 0.22 and will be removed in 0.24. This will change numeric results when test-set sizes are unequal.\n",
      "  DeprecationWarning)\n"
     ]
    },
    {
     "name": "stdout",
     "output_type": "stream",
     "text": [
      "Fitting 5 folds for each of 480 candidates, totalling 2400 fits\n"
     ]
    },
    {
     "name": "stderr",
     "output_type": "stream",
     "text": [
      "[Parallel(n_jobs=-1)]: Using backend LokyBackend with 4 concurrent workers.\n",
      "[Parallel(n_jobs=-1)]: Done 168 tasks      | elapsed:    1.5s\n",
      "[Parallel(n_jobs=-1)]: Done 1128 tasks      | elapsed:   13.7s\n",
      "[Parallel(n_jobs=-1)]: Done 2400 out of 2400 | elapsed:   29.1s finished\n",
      "C:\\Users\\chris\\Anaconda2\\lib\\site-packages\\sklearn\\model_selection\\_search.py:841: DeprecationWarning: The default of the `iid` parameter will change from True to False in version 0.22 and will be removed in 0.24. This will change numeric results when test-set sizes are unequal.\n",
      "  DeprecationWarning)\n"
     ]
    },
    {
     "name": "stdout",
     "output_type": "stream",
     "text": [
      "Games predicted: 245\n",
      "\n",
      "\n",
      "Now Starting Simulation Number: 294\n",
      "\n",
      "\n",
      "{'n_estimators': [10, 12, 14, 16, 18, 20, 22, 24, 26, 28], 'loss': ['ls', 'huber'], 'learning_rate': array([0.1, 0.2, 0.3, 0.4, 0.5, 0.6]), 'max_depth': [1, 2, 3, 4]}\n",
      "Fitting 5 folds for each of 480 candidates, totalling 2400 fits\n"
     ]
    },
    {
     "name": "stderr",
     "output_type": "stream",
     "text": [
      "[Parallel(n_jobs=-1)]: Using backend LokyBackend with 4 concurrent workers.\n",
      "[Parallel(n_jobs=-1)]: Done 136 tasks      | elapsed:    1.1s\n",
      "[Parallel(n_jobs=-1)]: Done 904 tasks      | elapsed:    9.9s\n",
      "[Parallel(n_jobs=-1)]: Done 2184 tasks      | elapsed:   24.5s\n",
      "[Parallel(n_jobs=-1)]: Done 2400 out of 2400 | elapsed:   28.2s finished\n",
      "C:\\Users\\chris\\Anaconda2\\lib\\site-packages\\sklearn\\model_selection\\_search.py:841: DeprecationWarning: The default of the `iid` parameter will change from True to False in version 0.22 and will be removed in 0.24. This will change numeric results when test-set sizes are unequal.\n",
      "  DeprecationWarning)\n"
     ]
    },
    {
     "name": "stdout",
     "output_type": "stream",
     "text": [
      "Fitting 5 folds for each of 480 candidates, totalling 2400 fits\n"
     ]
    },
    {
     "name": "stderr",
     "output_type": "stream",
     "text": [
      "[Parallel(n_jobs=-1)]: Using backend LokyBackend with 4 concurrent workers.\n",
      "[Parallel(n_jobs=-1)]: Done 152 tasks      | elapsed:    1.3s\n",
      "[Parallel(n_jobs=-1)]: Done 1304 tasks      | elapsed:   15.0s\n",
      "[Parallel(n_jobs=-1)]: Done 2400 out of 2400 | elapsed:   29.3s finished\n",
      "C:\\Users\\chris\\Anaconda2\\lib\\site-packages\\sklearn\\model_selection\\_search.py:841: DeprecationWarning: The default of the `iid` parameter will change from True to False in version 0.22 and will be removed in 0.24. This will change numeric results when test-set sizes are unequal.\n",
      "  DeprecationWarning)\n"
     ]
    },
    {
     "name": "stdout",
     "output_type": "stream",
     "text": [
      "Games predicted: 245\n",
      "\n",
      "\n",
      "Now Starting Simulation Number: 295\n",
      "\n",
      "\n",
      "{'n_estimators': [10, 12, 14, 16, 18, 20, 22, 24, 26, 28], 'loss': ['ls', 'huber'], 'learning_rate': array([0.1, 0.2, 0.3, 0.4, 0.5, 0.6]), 'max_depth': [1, 2, 3, 4]}\n",
      "Fitting 5 folds for each of 480 candidates, totalling 2400 fits\n"
     ]
    },
    {
     "name": "stderr",
     "output_type": "stream",
     "text": [
      "[Parallel(n_jobs=-1)]: Using backend LokyBackend with 4 concurrent workers.\n",
      "[Parallel(n_jobs=-1)]: Done 136 tasks      | elapsed:    1.1s\n",
      "[Parallel(n_jobs=-1)]: Done 904 tasks      | elapsed:   10.6s\n",
      "[Parallel(n_jobs=-1)]: Done 2184 tasks      | elapsed:   25.4s\n",
      "[Parallel(n_jobs=-1)]: Done 2400 out of 2400 | elapsed:   28.6s finished\n",
      "C:\\Users\\chris\\Anaconda2\\lib\\site-packages\\sklearn\\model_selection\\_search.py:841: DeprecationWarning: The default of the `iid` parameter will change from True to False in version 0.22 and will be removed in 0.24. This will change numeric results when test-set sizes are unequal.\n",
      "  DeprecationWarning)\n"
     ]
    },
    {
     "name": "stdout",
     "output_type": "stream",
     "text": [
      "Fitting 5 folds for each of 480 candidates, totalling 2400 fits\n"
     ]
    },
    {
     "name": "stderr",
     "output_type": "stream",
     "text": [
      "[Parallel(n_jobs=-1)]: Using backend LokyBackend with 4 concurrent workers.\n",
      "[Parallel(n_jobs=-1)]: Done 200 tasks      | elapsed:    1.8s\n",
      "[Parallel(n_jobs=-1)]: Done 1736 tasks      | elapsed:   19.6s\n",
      "[Parallel(n_jobs=-1)]: Done 2400 out of 2400 | elapsed:   28.1s finished\n",
      "C:\\Users\\chris\\Anaconda2\\lib\\site-packages\\sklearn\\model_selection\\_search.py:841: DeprecationWarning: The default of the `iid` parameter will change from True to False in version 0.22 and will be removed in 0.24. This will change numeric results when test-set sizes are unequal.\n",
      "  DeprecationWarning)\n"
     ]
    },
    {
     "name": "stdout",
     "output_type": "stream",
     "text": [
      "Games predicted: 245\n",
      "\n",
      "\n",
      "Now Starting Simulation Number: 296\n",
      "\n",
      "\n",
      "{'n_estimators': [10, 12, 14, 16, 18, 20, 22, 24, 26, 28], 'loss': ['ls', 'huber'], 'learning_rate': array([0.1, 0.2, 0.3, 0.4, 0.5, 0.6]), 'max_depth': [1, 2, 3, 4]}\n",
      "Fitting 5 folds for each of 480 candidates, totalling 2400 fits\n"
     ]
    },
    {
     "name": "stderr",
     "output_type": "stream",
     "text": [
      "[Parallel(n_jobs=-1)]: Using backend LokyBackend with 4 concurrent workers.\n",
      "[Parallel(n_jobs=-1)]: Done 104 tasks      | elapsed:    0.7s\n",
      "[Parallel(n_jobs=-1)]: Done 680 tasks      | elapsed:    7.9s\n",
      "[Parallel(n_jobs=-1)]: Done 1640 tasks      | elapsed:   20.7s\n",
      "[Parallel(n_jobs=-1)]: Done 2400 out of 2400 | elapsed:   30.0s finished\n",
      "C:\\Users\\chris\\Anaconda2\\lib\\site-packages\\sklearn\\model_selection\\_search.py:841: DeprecationWarning: The default of the `iid` parameter will change from True to False in version 0.22 and will be removed in 0.24. This will change numeric results when test-set sizes are unequal.\n",
      "  DeprecationWarning)\n"
     ]
    },
    {
     "name": "stdout",
     "output_type": "stream",
     "text": [
      "Fitting 5 folds for each of 480 candidates, totalling 2400 fits\n"
     ]
    },
    {
     "name": "stderr",
     "output_type": "stream",
     "text": [
      "[Parallel(n_jobs=-1)]: Using backend LokyBackend with 4 concurrent workers.\n",
      "[Parallel(n_jobs=-1)]: Done 136 tasks      | elapsed:    1.0s\n",
      "[Parallel(n_jobs=-1)]: Done 904 tasks      | elapsed:   10.5s\n",
      "[Parallel(n_jobs=-1)]: Done 2184 tasks      | elapsed:   24.9s\n",
      "[Parallel(n_jobs=-1)]: Done 2400 out of 2400 | elapsed:   28.1s finished\n",
      "C:\\Users\\chris\\Anaconda2\\lib\\site-packages\\sklearn\\model_selection\\_search.py:841: DeprecationWarning: The default of the `iid` parameter will change from True to False in version 0.22 and will be removed in 0.24. This will change numeric results when test-set sizes are unequal.\n",
      "  DeprecationWarning)\n"
     ]
    },
    {
     "name": "stdout",
     "output_type": "stream",
     "text": [
      "Games predicted: 245\n",
      "\n",
      "\n",
      "Now Starting Simulation Number: 297\n",
      "\n",
      "\n",
      "{'n_estimators': [10, 12, 14, 16, 18, 20, 22, 24, 26, 28], 'loss': ['ls', 'huber'], 'learning_rate': array([0.1, 0.2, 0.3, 0.4, 0.5, 0.6]), 'max_depth': [1, 2, 3, 4]}\n",
      "Fitting 5 folds for each of 480 candidates, totalling 2400 fits\n"
     ]
    },
    {
     "name": "stderr",
     "output_type": "stream",
     "text": [
      "[Parallel(n_jobs=-1)]: Using backend LokyBackend with 4 concurrent workers.\n",
      "[Parallel(n_jobs=-1)]: Done 136 tasks      | elapsed:    1.0s\n",
      "[Parallel(n_jobs=-1)]: Done 904 tasks      | elapsed:   10.0s\n",
      "[Parallel(n_jobs=-1)]: Done 2184 tasks      | elapsed:   25.0s\n",
      "[Parallel(n_jobs=-1)]: Done 2400 out of 2400 | elapsed:   28.6s finished\n",
      "C:\\Users\\chris\\Anaconda2\\lib\\site-packages\\sklearn\\model_selection\\_search.py:841: DeprecationWarning: The default of the `iid` parameter will change from True to False in version 0.22 and will be removed in 0.24. This will change numeric results when test-set sizes are unequal.\n",
      "  DeprecationWarning)\n"
     ]
    },
    {
     "name": "stdout",
     "output_type": "stream",
     "text": [
      "Fitting 5 folds for each of 480 candidates, totalling 2400 fits\n"
     ]
    },
    {
     "name": "stderr",
     "output_type": "stream",
     "text": [
      "[Parallel(n_jobs=-1)]: Using backend LokyBackend with 4 concurrent workers.\n",
      "[Parallel(n_jobs=-1)]: Done 136 tasks      | elapsed:    1.1s\n",
      "[Parallel(n_jobs=-1)]: Done 904 tasks      | elapsed:   10.9s\n",
      "[Parallel(n_jobs=-1)]: Done 2184 tasks      | elapsed:   26.6s\n",
      "[Parallel(n_jobs=-1)]: Done 2400 out of 2400 | elapsed:   29.8s finished\n",
      "C:\\Users\\chris\\Anaconda2\\lib\\site-packages\\sklearn\\model_selection\\_search.py:841: DeprecationWarning: The default of the `iid` parameter will change from True to False in version 0.22 and will be removed in 0.24. This will change numeric results when test-set sizes are unequal.\n",
      "  DeprecationWarning)\n"
     ]
    },
    {
     "name": "stdout",
     "output_type": "stream",
     "text": [
      "Games predicted: 245\n",
      "\n",
      "\n",
      "Now Starting Simulation Number: 298\n",
      "\n",
      "\n",
      "{'n_estimators': [10, 12, 14, 16, 18, 20, 22, 24, 26, 28], 'loss': ['ls', 'huber'], 'learning_rate': array([0.1, 0.2, 0.3, 0.4, 0.5, 0.6]), 'max_depth': [1, 2, 3, 4]}\n",
      "Fitting 5 folds for each of 480 candidates, totalling 2400 fits\n"
     ]
    },
    {
     "name": "stderr",
     "output_type": "stream",
     "text": [
      "[Parallel(n_jobs=-1)]: Using backend LokyBackend with 4 concurrent workers.\n",
      "[Parallel(n_jobs=-1)]: Done 136 tasks      | elapsed:    1.0s\n",
      "[Parallel(n_jobs=-1)]: Done 904 tasks      | elapsed:    9.9s\n",
      "[Parallel(n_jobs=-1)]: Done 2184 tasks      | elapsed:   24.9s\n",
      "[Parallel(n_jobs=-1)]: Done 2400 out of 2400 | elapsed:   28.0s finished\n",
      "C:\\Users\\chris\\Anaconda2\\lib\\site-packages\\sklearn\\model_selection\\_search.py:841: DeprecationWarning: The default of the `iid` parameter will change from True to False in version 0.22 and will be removed in 0.24. This will change numeric results when test-set sizes are unequal.\n",
      "  DeprecationWarning)\n"
     ]
    },
    {
     "name": "stdout",
     "output_type": "stream",
     "text": [
      "Fitting 5 folds for each of 480 candidates, totalling 2400 fits\n"
     ]
    },
    {
     "name": "stderr",
     "output_type": "stream",
     "text": [
      "[Parallel(n_jobs=-1)]: Using backend LokyBackend with 4 concurrent workers.\n",
      "[Parallel(n_jobs=-1)]: Done 200 tasks      | elapsed:    1.7s\n",
      "[Parallel(n_jobs=-1)]: Done 1352 tasks      | elapsed:   14.9s\n",
      "[Parallel(n_jobs=-1)]: Done 2400 out of 2400 | elapsed:   28.9s finished\n",
      "C:\\Users\\chris\\Anaconda2\\lib\\site-packages\\sklearn\\model_selection\\_search.py:841: DeprecationWarning: The default of the `iid` parameter will change from True to False in version 0.22 and will be removed in 0.24. This will change numeric results when test-set sizes are unequal.\n",
      "  DeprecationWarning)\n"
     ]
    },
    {
     "name": "stdout",
     "output_type": "stream",
     "text": [
      "Games predicted: 245\n",
      "\n",
      "\n",
      "Now Starting Simulation Number: 299\n",
      "\n",
      "\n",
      "{'n_estimators': [10, 12, 14, 16, 18, 20, 22, 24, 26, 28], 'loss': ['ls', 'huber'], 'learning_rate': array([0.1, 0.2, 0.3, 0.4, 0.5, 0.6]), 'max_depth': [1, 2, 3, 4]}\n",
      "Fitting 5 folds for each of 480 candidates, totalling 2400 fits\n"
     ]
    },
    {
     "name": "stderr",
     "output_type": "stream",
     "text": [
      "[Parallel(n_jobs=-1)]: Using backend LokyBackend with 4 concurrent workers.\n",
      "[Parallel(n_jobs=-1)]: Done 136 tasks      | elapsed:    1.1s\n",
      "[Parallel(n_jobs=-1)]: Done 904 tasks      | elapsed:   11.0s\n",
      "[Parallel(n_jobs=-1)]: Done 2184 tasks      | elapsed:   25.9s\n",
      "[Parallel(n_jobs=-1)]: Done 2400 out of 2400 | elapsed:   28.9s finished\n",
      "C:\\Users\\chris\\Anaconda2\\lib\\site-packages\\sklearn\\model_selection\\_search.py:841: DeprecationWarning: The default of the `iid` parameter will change from True to False in version 0.22 and will be removed in 0.24. This will change numeric results when test-set sizes are unequal.\n",
      "  DeprecationWarning)\n"
     ]
    },
    {
     "name": "stdout",
     "output_type": "stream",
     "text": [
      "Fitting 5 folds for each of 480 candidates, totalling 2400 fits\n"
     ]
    },
    {
     "name": "stderr",
     "output_type": "stream",
     "text": [
      "[Parallel(n_jobs=-1)]: Using backend LokyBackend with 4 concurrent workers.\n",
      "[Parallel(n_jobs=-1)]: Done 200 tasks      | elapsed:    1.7s\n",
      "[Parallel(n_jobs=-1)]: Done 1352 tasks      | elapsed:   15.3s\n",
      "[Parallel(n_jobs=-1)]: Done 2400 out of 2400 | elapsed:   28.2s finished\n",
      "C:\\Users\\chris\\Anaconda2\\lib\\site-packages\\sklearn\\model_selection\\_search.py:841: DeprecationWarning: The default of the `iid` parameter will change from True to False in version 0.22 and will be removed in 0.24. This will change numeric results when test-set sizes are unequal.\n",
      "  DeprecationWarning)\n"
     ]
    },
    {
     "name": "stdout",
     "output_type": "stream",
     "text": [
      "Games predicted: 245\n",
      "\n",
      "\n",
      "Now Starting Simulation Number: 300\n",
      "\n",
      "\n",
      "{'n_estimators': [10, 12, 14, 16, 18, 20, 22, 24, 26, 28], 'loss': ['ls', 'huber'], 'learning_rate': array([0.1, 0.2, 0.3, 0.4, 0.5, 0.6]), 'max_depth': [1, 2, 3, 4]}\n",
      "Fitting 5 folds for each of 480 candidates, totalling 2400 fits\n"
     ]
    },
    {
     "name": "stderr",
     "output_type": "stream",
     "text": [
      "[Parallel(n_jobs=-1)]: Using backend LokyBackend with 4 concurrent workers.\n",
      "[Parallel(n_jobs=-1)]: Done 136 tasks      | elapsed:    1.0s\n",
      "[Parallel(n_jobs=-1)]: Done 904 tasks      | elapsed:   10.9s\n",
      "[Parallel(n_jobs=-1)]: Done 2184 tasks      | elapsed:   26.2s\n",
      "[Parallel(n_jobs=-1)]: Done 2400 out of 2400 | elapsed:   29.3s finished\n",
      "C:\\Users\\chris\\Anaconda2\\lib\\site-packages\\sklearn\\model_selection\\_search.py:841: DeprecationWarning: The default of the `iid` parameter will change from True to False in version 0.22 and will be removed in 0.24. This will change numeric results when test-set sizes are unequal.\n",
      "  DeprecationWarning)\n"
     ]
    },
    {
     "name": "stdout",
     "output_type": "stream",
     "text": [
      "Fitting 5 folds for each of 480 candidates, totalling 2400 fits\n"
     ]
    },
    {
     "name": "stderr",
     "output_type": "stream",
     "text": [
      "[Parallel(n_jobs=-1)]: Using backend LokyBackend with 4 concurrent workers.\n",
      "[Parallel(n_jobs=-1)]: Done 168 tasks      | elapsed:    1.3s\n",
      "[Parallel(n_jobs=-1)]: Done 1128 tasks      | elapsed:   12.5s\n",
      "[Parallel(n_jobs=-1)]: Done 2400 out of 2400 | elapsed:   28.3s finished\n",
      "C:\\Users\\chris\\Anaconda2\\lib\\site-packages\\sklearn\\model_selection\\_search.py:841: DeprecationWarning: The default of the `iid` parameter will change from True to False in version 0.22 and will be removed in 0.24. This will change numeric results when test-set sizes are unequal.\n",
      "  DeprecationWarning)\n"
     ]
    },
    {
     "name": "stdout",
     "output_type": "stream",
     "text": [
      "Games predicted: 245\n",
      "\n",
      "\n",
      "Now Starting Simulation Number: 301\n",
      "\n",
      "\n",
      "{'n_estimators': [10, 12, 14, 16, 18, 20, 22, 24, 26, 28], 'loss': ['ls', 'huber'], 'learning_rate': array([0.1, 0.2, 0.3, 0.4, 0.5, 0.6]), 'max_depth': [1, 2, 3, 4]}\n",
      "Fitting 5 folds for each of 480 candidates, totalling 2400 fits\n"
     ]
    },
    {
     "name": "stderr",
     "output_type": "stream",
     "text": [
      "[Parallel(n_jobs=-1)]: Using backend LokyBackend with 4 concurrent workers.\n",
      "[Parallel(n_jobs=-1)]: Done 136 tasks      | elapsed:    1.1s\n",
      "[Parallel(n_jobs=-1)]: Done 904 tasks      | elapsed:   10.8s\n",
      "[Parallel(n_jobs=-1)]: Done 2184 tasks      | elapsed:   26.2s\n",
      "[Parallel(n_jobs=-1)]: Done 2400 out of 2400 | elapsed:   29.3s finished\n",
      "C:\\Users\\chris\\Anaconda2\\lib\\site-packages\\sklearn\\model_selection\\_search.py:841: DeprecationWarning: The default of the `iid` parameter will change from True to False in version 0.22 and will be removed in 0.24. This will change numeric results when test-set sizes are unequal.\n",
      "  DeprecationWarning)\n"
     ]
    },
    {
     "name": "stdout",
     "output_type": "stream",
     "text": [
      "Fitting 5 folds for each of 480 candidates, totalling 2400 fits\n"
     ]
    },
    {
     "name": "stderr",
     "output_type": "stream",
     "text": [
      "[Parallel(n_jobs=-1)]: Using backend LokyBackend with 4 concurrent workers.\n",
      "[Parallel(n_jobs=-1)]: Done 168 tasks      | elapsed:    1.4s\n",
      "[Parallel(n_jobs=-1)]: Done 1128 tasks      | elapsed:   12.6s\n",
      "[Parallel(n_jobs=-1)]: Done 2400 out of 2400 | elapsed:   28.2s finished\n",
      "C:\\Users\\chris\\Anaconda2\\lib\\site-packages\\sklearn\\model_selection\\_search.py:841: DeprecationWarning: The default of the `iid` parameter will change from True to False in version 0.22 and will be removed in 0.24. This will change numeric results when test-set sizes are unequal.\n",
      "  DeprecationWarning)\n"
     ]
    },
    {
     "name": "stdout",
     "output_type": "stream",
     "text": [
      "Games predicted: 245\n",
      "\n",
      "\n",
      "Now Starting Simulation Number: 302\n",
      "\n",
      "\n",
      "{'n_estimators': [10, 12, 14, 16, 18, 20, 22, 24, 26, 28], 'loss': ['ls', 'huber'], 'learning_rate': array([0.1, 0.2, 0.3, 0.4, 0.5, 0.6]), 'max_depth': [1, 2, 3, 4]}\n",
      "Fitting 5 folds for each of 480 candidates, totalling 2400 fits\n"
     ]
    },
    {
     "name": "stderr",
     "output_type": "stream",
     "text": [
      "[Parallel(n_jobs=-1)]: Using backend LokyBackend with 4 concurrent workers.\n",
      "[Parallel(n_jobs=-1)]: Done 104 tasks      | elapsed:    0.7s\n",
      "[Parallel(n_jobs=-1)]: Done 680 tasks      | elapsed:    7.4s\n",
      "[Parallel(n_jobs=-1)]: Done 1640 tasks      | elapsed:   19.9s\n",
      "[Parallel(n_jobs=-1)]: Done 2400 out of 2400 | elapsed:   30.0s finished\n",
      "C:\\Users\\chris\\Anaconda2\\lib\\site-packages\\sklearn\\model_selection\\_search.py:841: DeprecationWarning: The default of the `iid` parameter will change from True to False in version 0.22 and will be removed in 0.24. This will change numeric results when test-set sizes are unequal.\n",
      "  DeprecationWarning)\n"
     ]
    },
    {
     "name": "stdout",
     "output_type": "stream",
     "text": [
      "Fitting 5 folds for each of 480 candidates, totalling 2400 fits\n"
     ]
    },
    {
     "name": "stderr",
     "output_type": "stream",
     "text": [
      "[Parallel(n_jobs=-1)]: Using backend LokyBackend with 4 concurrent workers.\n",
      "[Parallel(n_jobs=-1)]: Done 136 tasks      | elapsed:    1.1s\n",
      "[Parallel(n_jobs=-1)]: Done 904 tasks      | elapsed:   10.1s\n",
      "[Parallel(n_jobs=-1)]: Done 2184 tasks      | elapsed:   24.6s\n",
      "[Parallel(n_jobs=-1)]: Done 2400 out of 2400 | elapsed:   27.9s finished\n",
      "C:\\Users\\chris\\Anaconda2\\lib\\site-packages\\sklearn\\model_selection\\_search.py:841: DeprecationWarning: The default of the `iid` parameter will change from True to False in version 0.22 and will be removed in 0.24. This will change numeric results when test-set sizes are unequal.\n",
      "  DeprecationWarning)\n"
     ]
    },
    {
     "name": "stdout",
     "output_type": "stream",
     "text": [
      "Games predicted: 245\n",
      "\n",
      "\n",
      "Now Starting Simulation Number: 303\n",
      "\n",
      "\n",
      "{'n_estimators': [10, 12, 14, 16, 18, 20, 22, 24, 26, 28], 'loss': ['ls', 'huber'], 'learning_rate': array([0.1, 0.2, 0.3, 0.4, 0.5, 0.6]), 'max_depth': [1, 2, 3, 4]}\n",
      "Fitting 5 folds for each of 480 candidates, totalling 2400 fits\n"
     ]
    },
    {
     "name": "stderr",
     "output_type": "stream",
     "text": [
      "[Parallel(n_jobs=-1)]: Using backend LokyBackend with 4 concurrent workers.\n",
      "[Parallel(n_jobs=-1)]: Done 136 tasks      | elapsed:    1.0s\n",
      "[Parallel(n_jobs=-1)]: Done 904 tasks      | elapsed:   10.6s\n",
      "[Parallel(n_jobs=-1)]: Done 2184 tasks      | elapsed:   25.9s\n",
      "[Parallel(n_jobs=-1)]: Done 2400 out of 2400 | elapsed:   29.4s finished\n",
      "C:\\Users\\chris\\Anaconda2\\lib\\site-packages\\sklearn\\model_selection\\_search.py:841: DeprecationWarning: The default of the `iid` parameter will change from True to False in version 0.22 and will be removed in 0.24. This will change numeric results when test-set sizes are unequal.\n",
      "  DeprecationWarning)\n"
     ]
    },
    {
     "name": "stdout",
     "output_type": "stream",
     "text": [
      "Fitting 5 folds for each of 480 candidates, totalling 2400 fits\n"
     ]
    },
    {
     "name": "stderr",
     "output_type": "stream",
     "text": [
      "[Parallel(n_jobs=-1)]: Using backend LokyBackend with 4 concurrent workers.\n",
      "[Parallel(n_jobs=-1)]: Done 136 tasks      | elapsed:    1.2s\n",
      "[Parallel(n_jobs=-1)]: Done 904 tasks      | elapsed:   10.6s\n",
      "[Parallel(n_jobs=-1)]: Done 2184 tasks      | elapsed:   25.2s\n",
      "[Parallel(n_jobs=-1)]: Done 2400 out of 2400 | elapsed:   28.3s finished\n",
      "C:\\Users\\chris\\Anaconda2\\lib\\site-packages\\sklearn\\model_selection\\_search.py:841: DeprecationWarning: The default of the `iid` parameter will change from True to False in version 0.22 and will be removed in 0.24. This will change numeric results when test-set sizes are unequal.\n",
      "  DeprecationWarning)\n"
     ]
    },
    {
     "name": "stdout",
     "output_type": "stream",
     "text": [
      "Games predicted: 245\n",
      "\n",
      "\n",
      "Now Starting Simulation Number: 304\n",
      "\n",
      "\n",
      "{'n_estimators': [10, 12, 14, 16, 18, 20, 22, 24, 26, 28], 'loss': ['ls', 'huber'], 'learning_rate': array([0.1, 0.2, 0.3, 0.4, 0.5, 0.6]), 'max_depth': [1, 2, 3, 4]}\n",
      "Fitting 5 folds for each of 480 candidates, totalling 2400 fits\n"
     ]
    },
    {
     "name": "stderr",
     "output_type": "stream",
     "text": [
      "[Parallel(n_jobs=-1)]: Using backend LokyBackend with 4 concurrent workers.\n",
      "[Parallel(n_jobs=-1)]: Done 136 tasks      | elapsed:    1.0s\n",
      "[Parallel(n_jobs=-1)]: Done 904 tasks      | elapsed:   10.0s\n",
      "[Parallel(n_jobs=-1)]: Done 2184 tasks      | elapsed:   24.9s\n",
      "[Parallel(n_jobs=-1)]: Done 2400 out of 2400 | elapsed:   28.3s finished\n",
      "C:\\Users\\chris\\Anaconda2\\lib\\site-packages\\sklearn\\model_selection\\_search.py:841: DeprecationWarning: The default of the `iid` parameter will change from True to False in version 0.22 and will be removed in 0.24. This will change numeric results when test-set sizes are unequal.\n",
      "  DeprecationWarning)\n"
     ]
    },
    {
     "name": "stdout",
     "output_type": "stream",
     "text": [
      "Fitting 5 folds for each of 480 candidates, totalling 2400 fits\n"
     ]
    },
    {
     "name": "stderr",
     "output_type": "stream",
     "text": [
      "[Parallel(n_jobs=-1)]: Using backend LokyBackend with 4 concurrent workers.\n",
      "[Parallel(n_jobs=-1)]: Done 168 tasks      | elapsed:    1.4s\n",
      "[Parallel(n_jobs=-1)]: Done 1128 tasks      | elapsed:   13.5s\n",
      "[Parallel(n_jobs=-1)]: Done 2400 out of 2400 | elapsed:   29.0s finished\n",
      "C:\\Users\\chris\\Anaconda2\\lib\\site-packages\\sklearn\\model_selection\\_search.py:841: DeprecationWarning: The default of the `iid` parameter will change from True to False in version 0.22 and will be removed in 0.24. This will change numeric results when test-set sizes are unequal.\n",
      "  DeprecationWarning)\n"
     ]
    },
    {
     "name": "stdout",
     "output_type": "stream",
     "text": [
      "Games predicted: 245\n",
      "\n",
      "\n",
      "Now Starting Simulation Number: 305\n",
      "\n",
      "\n",
      "{'n_estimators': [10, 12, 14, 16, 18, 20, 22, 24, 26, 28], 'loss': ['ls', 'huber'], 'learning_rate': array([0.1, 0.2, 0.3, 0.4, 0.5, 0.6]), 'max_depth': [1, 2, 3, 4]}\n",
      "Fitting 5 folds for each of 480 candidates, totalling 2400 fits\n"
     ]
    },
    {
     "name": "stderr",
     "output_type": "stream",
     "text": [
      "[Parallel(n_jobs=-1)]: Using backend LokyBackend with 4 concurrent workers.\n",
      "[Parallel(n_jobs=-1)]: Done 104 tasks      | elapsed:    0.8s\n",
      "[Parallel(n_jobs=-1)]: Done 680 tasks      | elapsed:    7.2s\n",
      "[Parallel(n_jobs=-1)]: Done 1640 tasks      | elapsed:   19.8s\n",
      "[Parallel(n_jobs=-1)]: Done 2400 out of 2400 | elapsed:   29.1s finished\n",
      "C:\\Users\\chris\\Anaconda2\\lib\\site-packages\\sklearn\\model_selection\\_search.py:841: DeprecationWarning: The default of the `iid` parameter will change from True to False in version 0.22 and will be removed in 0.24. This will change numeric results when test-set sizes are unequal.\n",
      "  DeprecationWarning)\n"
     ]
    },
    {
     "name": "stdout",
     "output_type": "stream",
     "text": [
      "Fitting 5 folds for each of 480 candidates, totalling 2400 fits\n"
     ]
    },
    {
     "name": "stderr",
     "output_type": "stream",
     "text": [
      "[Parallel(n_jobs=-1)]: Using backend LokyBackend with 4 concurrent workers.\n",
      "[Parallel(n_jobs=-1)]: Done 136 tasks      | elapsed:    1.1s\n",
      "[Parallel(n_jobs=-1)]: Done 904 tasks      | elapsed:   10.6s\n",
      "[Parallel(n_jobs=-1)]: Done 2184 tasks      | elapsed:   26.1s\n",
      "[Parallel(n_jobs=-1)]: Done 2400 out of 2400 | elapsed:   29.3s finished\n",
      "C:\\Users\\chris\\Anaconda2\\lib\\site-packages\\sklearn\\model_selection\\_search.py:841: DeprecationWarning: The default of the `iid` parameter will change from True to False in version 0.22 and will be removed in 0.24. This will change numeric results when test-set sizes are unequal.\n",
      "  DeprecationWarning)\n"
     ]
    },
    {
     "name": "stdout",
     "output_type": "stream",
     "text": [
      "Games predicted: 245\n",
      "\n",
      "\n",
      "Now Starting Simulation Number: 306\n",
      "\n",
      "\n",
      "{'n_estimators': [10, 12, 14, 16, 18, 20, 22, 24, 26, 28], 'loss': ['ls', 'huber'], 'learning_rate': array([0.1, 0.2, 0.3, 0.4, 0.5, 0.6]), 'max_depth': [1, 2, 3, 4]}\n",
      "Fitting 5 folds for each of 480 candidates, totalling 2400 fits\n"
     ]
    },
    {
     "name": "stderr",
     "output_type": "stream",
     "text": [
      "[Parallel(n_jobs=-1)]: Using backend LokyBackend with 4 concurrent workers.\n",
      "[Parallel(n_jobs=-1)]: Done 104 tasks      | elapsed:    0.7s\n",
      "[Parallel(n_jobs=-1)]: Done 680 tasks      | elapsed:    7.1s\n",
      "[Parallel(n_jobs=-1)]: Done 1640 tasks      | elapsed:   18.8s\n",
      "[Parallel(n_jobs=-1)]: Done 2400 out of 2400 | elapsed:   27.7s finished\n",
      "C:\\Users\\chris\\Anaconda2\\lib\\site-packages\\sklearn\\model_selection\\_search.py:841: DeprecationWarning: The default of the `iid` parameter will change from True to False in version 0.22 and will be removed in 0.24. This will change numeric results when test-set sizes are unequal.\n",
      "  DeprecationWarning)\n"
     ]
    },
    {
     "name": "stdout",
     "output_type": "stream",
     "text": [
      "Fitting 5 folds for each of 480 candidates, totalling 2400 fits\n"
     ]
    },
    {
     "name": "stderr",
     "output_type": "stream",
     "text": [
      "[Parallel(n_jobs=-1)]: Using backend LokyBackend with 4 concurrent workers.\n",
      "[Parallel(n_jobs=-1)]: Done 200 tasks      | elapsed:    1.9s\n",
      "[Parallel(n_jobs=-1)]: Done 1352 tasks      | elapsed:   15.5s\n",
      "[Parallel(n_jobs=-1)]: Done 2400 out of 2400 | elapsed:   29.0s finished\n",
      "C:\\Users\\chris\\Anaconda2\\lib\\site-packages\\sklearn\\model_selection\\_search.py:841: DeprecationWarning: The default of the `iid` parameter will change from True to False in version 0.22 and will be removed in 0.24. This will change numeric results when test-set sizes are unequal.\n",
      "  DeprecationWarning)\n"
     ]
    },
    {
     "name": "stdout",
     "output_type": "stream",
     "text": [
      "Games predicted: 245\n",
      "\n",
      "\n",
      "Now Starting Simulation Number: 307\n",
      "\n",
      "\n",
      "{'n_estimators': [10, 12, 14, 16, 18, 20, 22, 24, 26, 28], 'loss': ['ls', 'huber'], 'learning_rate': array([0.1, 0.2, 0.3, 0.4, 0.5, 0.6]), 'max_depth': [1, 2, 3, 4]}\n",
      "Fitting 5 folds for each of 480 candidates, totalling 2400 fits\n"
     ]
    },
    {
     "name": "stderr",
     "output_type": "stream",
     "text": [
      "[Parallel(n_jobs=-1)]: Using backend LokyBackend with 4 concurrent workers.\n",
      "[Parallel(n_jobs=-1)]: Done 104 tasks      | elapsed:    0.7s\n",
      "[Parallel(n_jobs=-1)]: Done 680 tasks      | elapsed:    7.5s\n",
      "[Parallel(n_jobs=-1)]: Done 1640 tasks      | elapsed:   19.1s\n",
      "[Parallel(n_jobs=-1)]: Done 2400 out of 2400 | elapsed:   28.6s finished\n",
      "C:\\Users\\chris\\Anaconda2\\lib\\site-packages\\sklearn\\model_selection\\_search.py:841: DeprecationWarning: The default of the `iid` parameter will change from True to False in version 0.22 and will be removed in 0.24. This will change numeric results when test-set sizes are unequal.\n",
      "  DeprecationWarning)\n"
     ]
    },
    {
     "name": "stdout",
     "output_type": "stream",
     "text": [
      "Fitting 5 folds for each of 480 candidates, totalling 2400 fits\n"
     ]
    },
    {
     "name": "stderr",
     "output_type": "stream",
     "text": [
      "[Parallel(n_jobs=-1)]: Using backend LokyBackend with 4 concurrent workers.\n",
      "[Parallel(n_jobs=-1)]: Done 168 tasks      | elapsed:    1.4s\n",
      "[Parallel(n_jobs=-1)]: Done 1128 tasks      | elapsed:   12.4s\n",
      "[Parallel(n_jobs=-1)]: Done 2400 out of 2400 | elapsed:   27.7s finished\n",
      "C:\\Users\\chris\\Anaconda2\\lib\\site-packages\\sklearn\\model_selection\\_search.py:841: DeprecationWarning: The default of the `iid` parameter will change from True to False in version 0.22 and will be removed in 0.24. This will change numeric results when test-set sizes are unequal.\n",
      "  DeprecationWarning)\n"
     ]
    },
    {
     "name": "stdout",
     "output_type": "stream",
     "text": [
      "Games predicted: 245\n",
      "\n",
      "\n",
      "Now Starting Simulation Number: 308\n",
      "\n",
      "\n",
      "{'n_estimators': [10, 12, 14, 16, 18, 20, 22, 24, 26, 28], 'loss': ['ls', 'huber'], 'learning_rate': array([0.1, 0.2, 0.3, 0.4, 0.5, 0.6]), 'max_depth': [1, 2, 3, 4]}\n",
      "Fitting 5 folds for each of 480 candidates, totalling 2400 fits\n"
     ]
    },
    {
     "name": "stderr",
     "output_type": "stream",
     "text": [
      "[Parallel(n_jobs=-1)]: Using backend LokyBackend with 4 concurrent workers.\n",
      "[Parallel(n_jobs=-1)]: Done 136 tasks      | elapsed:    1.0s\n",
      "[Parallel(n_jobs=-1)]: Done 904 tasks      | elapsed:   10.7s\n",
      "[Parallel(n_jobs=-1)]: Done 2184 tasks      | elapsed:   26.5s\n",
      "[Parallel(n_jobs=-1)]: Done 2400 out of 2400 | elapsed:   29.6s finished\n",
      "C:\\Users\\chris\\Anaconda2\\lib\\site-packages\\sklearn\\model_selection\\_search.py:841: DeprecationWarning: The default of the `iid` parameter will change from True to False in version 0.22 and will be removed in 0.24. This will change numeric results when test-set sizes are unequal.\n",
      "  DeprecationWarning)\n"
     ]
    },
    {
     "name": "stdout",
     "output_type": "stream",
     "text": [
      "Fitting 5 folds for each of 480 candidates, totalling 2400 fits\n"
     ]
    },
    {
     "name": "stderr",
     "output_type": "stream",
     "text": [
      "[Parallel(n_jobs=-1)]: Using backend LokyBackend with 4 concurrent workers.\n",
      "[Parallel(n_jobs=-1)]: Done 168 tasks      | elapsed:    1.4s\n",
      "[Parallel(n_jobs=-1)]: Done 1128 tasks      | elapsed:   12.6s\n",
      "[Parallel(n_jobs=-1)]: Done 2400 out of 2400 | elapsed:   27.6s finished\n",
      "C:\\Users\\chris\\Anaconda2\\lib\\site-packages\\sklearn\\model_selection\\_search.py:841: DeprecationWarning: The default of the `iid` parameter will change from True to False in version 0.22 and will be removed in 0.24. This will change numeric results when test-set sizes are unequal.\n",
      "  DeprecationWarning)\n"
     ]
    },
    {
     "name": "stdout",
     "output_type": "stream",
     "text": [
      "Games predicted: 245\n",
      "\n",
      "\n",
      "Now Starting Simulation Number: 309\n",
      "\n",
      "\n",
      "{'n_estimators': [10, 12, 14, 16, 18, 20, 22, 24, 26, 28], 'loss': ['ls', 'huber'], 'learning_rate': array([0.1, 0.2, 0.3, 0.4, 0.5, 0.6]), 'max_depth': [1, 2, 3, 4]}\n",
      "Fitting 5 folds for each of 480 candidates, totalling 2400 fits\n"
     ]
    },
    {
     "name": "stderr",
     "output_type": "stream",
     "text": [
      "[Parallel(n_jobs=-1)]: Using backend LokyBackend with 4 concurrent workers.\n",
      "[Parallel(n_jobs=-1)]: Done 104 tasks      | elapsed:    0.7s\n",
      "[Parallel(n_jobs=-1)]: Done 680 tasks      | elapsed:    7.3s\n",
      "[Parallel(n_jobs=-1)]: Done 1640 tasks      | elapsed:   19.8s\n",
      "[Parallel(n_jobs=-1)]: Done 2400 out of 2400 | elapsed:   29.3s finished\n",
      "C:\\Users\\chris\\Anaconda2\\lib\\site-packages\\sklearn\\model_selection\\_search.py:841: DeprecationWarning: The default of the `iid` parameter will change from True to False in version 0.22 and will be removed in 0.24. This will change numeric results when test-set sizes are unequal.\n",
      "  DeprecationWarning)\n"
     ]
    },
    {
     "name": "stdout",
     "output_type": "stream",
     "text": [
      "Fitting 5 folds for each of 480 candidates, totalling 2400 fits\n"
     ]
    },
    {
     "name": "stderr",
     "output_type": "stream",
     "text": [
      "[Parallel(n_jobs=-1)]: Using backend LokyBackend with 4 concurrent workers.\n",
      "[Parallel(n_jobs=-1)]: Done 168 tasks      | elapsed:    1.4s\n",
      "[Parallel(n_jobs=-1)]: Done 1128 tasks      | elapsed:   13.3s\n",
      "[Parallel(n_jobs=-1)]: Done 2400 out of 2400 | elapsed:   28.5s finished\n",
      "C:\\Users\\chris\\Anaconda2\\lib\\site-packages\\sklearn\\model_selection\\_search.py:841: DeprecationWarning: The default of the `iid` parameter will change from True to False in version 0.22 and will be removed in 0.24. This will change numeric results when test-set sizes are unequal.\n",
      "  DeprecationWarning)\n"
     ]
    },
    {
     "name": "stdout",
     "output_type": "stream",
     "text": [
      "Games predicted: 245\n",
      "\n",
      "\n",
      "Now Starting Simulation Number: 310\n",
      "\n",
      "\n",
      "{'n_estimators': [10, 12, 14, 16, 18, 20, 22, 24, 26, 28], 'loss': ['ls', 'huber'], 'learning_rate': array([0.1, 0.2, 0.3, 0.4, 0.5, 0.6]), 'max_depth': [1, 2, 3, 4]}\n",
      "Fitting 5 folds for each of 480 candidates, totalling 2400 fits\n"
     ]
    },
    {
     "name": "stderr",
     "output_type": "stream",
     "text": [
      "[Parallel(n_jobs=-1)]: Using backend LokyBackend with 4 concurrent workers.\n",
      "[Parallel(n_jobs=-1)]: Done 104 tasks      | elapsed:    0.8s\n",
      "[Parallel(n_jobs=-1)]: Done 680 tasks      | elapsed:    7.6s\n",
      "[Parallel(n_jobs=-1)]: Done 1640 tasks      | elapsed:   20.4s\n",
      "[Parallel(n_jobs=-1)]: Done 2400 out of 2400 | elapsed:   30.1s finished\n",
      "C:\\Users\\chris\\Anaconda2\\lib\\site-packages\\sklearn\\model_selection\\_search.py:841: DeprecationWarning: The default of the `iid` parameter will change from True to False in version 0.22 and will be removed in 0.24. This will change numeric results when test-set sizes are unequal.\n",
      "  DeprecationWarning)\n"
     ]
    },
    {
     "name": "stdout",
     "output_type": "stream",
     "text": [
      "Fitting 5 folds for each of 480 candidates, totalling 2400 fits\n"
     ]
    },
    {
     "name": "stderr",
     "output_type": "stream",
     "text": [
      "[Parallel(n_jobs=-1)]: Using backend LokyBackend with 4 concurrent workers.\n",
      "[Parallel(n_jobs=-1)]: Done 168 tasks      | elapsed:    1.4s\n",
      "[Parallel(n_jobs=-1)]: Done 1128 tasks      | elapsed:   12.6s\n",
      "[Parallel(n_jobs=-1)]: Done 2400 out of 2400 | elapsed:   27.4s finished\n",
      "C:\\Users\\chris\\Anaconda2\\lib\\site-packages\\sklearn\\model_selection\\_search.py:841: DeprecationWarning: The default of the `iid` parameter will change from True to False in version 0.22 and will be removed in 0.24. This will change numeric results when test-set sizes are unequal.\n",
      "  DeprecationWarning)\n"
     ]
    },
    {
     "name": "stdout",
     "output_type": "stream",
     "text": [
      "Games predicted: 245\n",
      "\n",
      "\n",
      "Now Starting Simulation Number: 311\n",
      "\n",
      "\n",
      "{'n_estimators': [10, 12, 14, 16, 18, 20, 22, 24, 26, 28], 'loss': ['ls', 'huber'], 'learning_rate': array([0.1, 0.2, 0.3, 0.4, 0.5, 0.6]), 'max_depth': [1, 2, 3, 4]}\n",
      "Fitting 5 folds for each of 480 candidates, totalling 2400 fits\n"
     ]
    },
    {
     "name": "stderr",
     "output_type": "stream",
     "text": [
      "[Parallel(n_jobs=-1)]: Using backend LokyBackend with 4 concurrent workers.\n",
      "[Parallel(n_jobs=-1)]: Done 104 tasks      | elapsed:    0.7s\n",
      "[Parallel(n_jobs=-1)]: Done 680 tasks      | elapsed:    7.0s\n",
      "[Parallel(n_jobs=-1)]: Done 1640 tasks      | elapsed:   18.6s\n",
      "[Parallel(n_jobs=-1)]: Done 2400 out of 2400 | elapsed:   27.8s finished\n",
      "C:\\Users\\chris\\Anaconda2\\lib\\site-packages\\sklearn\\model_selection\\_search.py:841: DeprecationWarning: The default of the `iid` parameter will change from True to False in version 0.22 and will be removed in 0.24. This will change numeric results when test-set sizes are unequal.\n",
      "  DeprecationWarning)\n"
     ]
    },
    {
     "name": "stdout",
     "output_type": "stream",
     "text": [
      "Fitting 5 folds for each of 480 candidates, totalling 2400 fits\n"
     ]
    },
    {
     "name": "stderr",
     "output_type": "stream",
     "text": [
      "[Parallel(n_jobs=-1)]: Using backend LokyBackend with 4 concurrent workers.\n",
      "[Parallel(n_jobs=-1)]: Done 168 tasks      | elapsed:    1.4s\n",
      "[Parallel(n_jobs=-1)]: Done 1128 tasks      | elapsed:   13.5s\n",
      "[Parallel(n_jobs=-1)]: Done 2400 out of 2400 | elapsed:   30.1s finished\n",
      "C:\\Users\\chris\\Anaconda2\\lib\\site-packages\\sklearn\\model_selection\\_search.py:841: DeprecationWarning: The default of the `iid` parameter will change from True to False in version 0.22 and will be removed in 0.24. This will change numeric results when test-set sizes are unequal.\n",
      "  DeprecationWarning)\n"
     ]
    },
    {
     "name": "stdout",
     "output_type": "stream",
     "text": [
      "Games predicted: 245\n",
      "\n",
      "\n",
      "Now Starting Simulation Number: 312\n",
      "\n",
      "\n",
      "{'n_estimators': [10, 12, 14, 16, 18, 20, 22, 24, 26, 28], 'loss': ['ls', 'huber'], 'learning_rate': array([0.1, 0.2, 0.3, 0.4, 0.5, 0.6]), 'max_depth': [1, 2, 3, 4]}\n",
      "Fitting 5 folds for each of 480 candidates, totalling 2400 fits\n"
     ]
    },
    {
     "name": "stderr",
     "output_type": "stream",
     "text": [
      "[Parallel(n_jobs=-1)]: Using backend LokyBackend with 4 concurrent workers.\n",
      "[Parallel(n_jobs=-1)]: Done 136 tasks      | elapsed:    1.0s\n",
      "[Parallel(n_jobs=-1)]: Done 904 tasks      | elapsed:    9.9s\n",
      "[Parallel(n_jobs=-1)]: Done 2184 tasks      | elapsed:   24.4s\n",
      "[Parallel(n_jobs=-1)]: Done 2400 out of 2400 | elapsed:   27.6s finished\n",
      "C:\\Users\\chris\\Anaconda2\\lib\\site-packages\\sklearn\\model_selection\\_search.py:841: DeprecationWarning: The default of the `iid` parameter will change from True to False in version 0.22 and will be removed in 0.24. This will change numeric results when test-set sizes are unequal.\n",
      "  DeprecationWarning)\n"
     ]
    },
    {
     "name": "stdout",
     "output_type": "stream",
     "text": [
      "Fitting 5 folds for each of 480 candidates, totalling 2400 fits\n"
     ]
    },
    {
     "name": "stderr",
     "output_type": "stream",
     "text": [
      "[Parallel(n_jobs=-1)]: Using backend LokyBackend with 4 concurrent workers.\n",
      "[Parallel(n_jobs=-1)]: Done 168 tasks      | elapsed:    1.3s\n",
      "[Parallel(n_jobs=-1)]: Done 1128 tasks      | elapsed:   12.3s\n",
      "[Parallel(n_jobs=-1)]: Done 2400 out of 2400 | elapsed:   28.0s finished\n",
      "C:\\Users\\chris\\Anaconda2\\lib\\site-packages\\sklearn\\model_selection\\_search.py:841: DeprecationWarning: The default of the `iid` parameter will change from True to False in version 0.22 and will be removed in 0.24. This will change numeric results when test-set sizes are unequal.\n",
      "  DeprecationWarning)\n"
     ]
    },
    {
     "name": "stdout",
     "output_type": "stream",
     "text": [
      "Games predicted: 245\n",
      "\n",
      "\n",
      "Now Starting Simulation Number: 313\n",
      "\n",
      "\n",
      "{'n_estimators': [10, 12, 14, 16, 18, 20, 22, 24, 26, 28], 'loss': ['ls', 'huber'], 'learning_rate': array([0.1, 0.2, 0.3, 0.4, 0.5, 0.6]), 'max_depth': [1, 2, 3, 4]}\n",
      "Fitting 5 folds for each of 480 candidates, totalling 2400 fits\n"
     ]
    },
    {
     "name": "stderr",
     "output_type": "stream",
     "text": [
      "[Parallel(n_jobs=-1)]: Using backend LokyBackend with 4 concurrent workers.\n",
      "[Parallel(n_jobs=-1)]: Done 104 tasks      | elapsed:    0.7s\n",
      "[Parallel(n_jobs=-1)]: Done 680 tasks      | elapsed:    7.5s\n",
      "[Parallel(n_jobs=-1)]: Done 1640 tasks      | elapsed:   19.2s\n",
      "[Parallel(n_jobs=-1)]: Done 2400 out of 2400 | elapsed:   28.2s finished\n",
      "C:\\Users\\chris\\Anaconda2\\lib\\site-packages\\sklearn\\model_selection\\_search.py:841: DeprecationWarning: The default of the `iid` parameter will change from True to False in version 0.22 and will be removed in 0.24. This will change numeric results when test-set sizes are unequal.\n",
      "  DeprecationWarning)\n"
     ]
    },
    {
     "name": "stdout",
     "output_type": "stream",
     "text": [
      "Fitting 5 folds for each of 480 candidates, totalling 2400 fits\n"
     ]
    },
    {
     "name": "stderr",
     "output_type": "stream",
     "text": [
      "[Parallel(n_jobs=-1)]: Using backend LokyBackend with 4 concurrent workers.\n",
      "[Parallel(n_jobs=-1)]: Done 168 tasks      | elapsed:    1.3s\n",
      "[Parallel(n_jobs=-1)]: Done 1128 tasks      | elapsed:   12.5s\n",
      "[Parallel(n_jobs=-1)]: Done 2400 out of 2400 | elapsed:   28.2s finished\n",
      "C:\\Users\\chris\\Anaconda2\\lib\\site-packages\\sklearn\\model_selection\\_search.py:841: DeprecationWarning: The default of the `iid` parameter will change from True to False in version 0.22 and will be removed in 0.24. This will change numeric results when test-set sizes are unequal.\n",
      "  DeprecationWarning)\n"
     ]
    },
    {
     "name": "stdout",
     "output_type": "stream",
     "text": [
      "Games predicted: 245\n",
      "\n",
      "\n",
      "Now Starting Simulation Number: 314\n",
      "\n",
      "\n",
      "{'n_estimators': [10, 12, 14, 16, 18, 20, 22, 24, 26, 28], 'loss': ['ls', 'huber'], 'learning_rate': array([0.1, 0.2, 0.3, 0.4, 0.5, 0.6]), 'max_depth': [1, 2, 3, 4]}\n",
      "Fitting 5 folds for each of 480 candidates, totalling 2400 fits\n"
     ]
    },
    {
     "name": "stderr",
     "output_type": "stream",
     "text": [
      "[Parallel(n_jobs=-1)]: Using backend LokyBackend with 4 concurrent workers.\n",
      "[Parallel(n_jobs=-1)]: Done 104 tasks      | elapsed:    1.1s\n",
      "[Parallel(n_jobs=-1)]: Done 680 tasks      | elapsed:    8.6s\n",
      "[Parallel(n_jobs=-1)]: Done 1640 tasks      | elapsed:   20.8s\n",
      "[Parallel(n_jobs=-1)]: Done 2400 out of 2400 | elapsed:   29.8s finished\n",
      "C:\\Users\\chris\\Anaconda2\\lib\\site-packages\\sklearn\\model_selection\\_search.py:841: DeprecationWarning: The default of the `iid` parameter will change from True to False in version 0.22 and will be removed in 0.24. This will change numeric results when test-set sizes are unequal.\n",
      "  DeprecationWarning)\n"
     ]
    },
    {
     "name": "stdout",
     "output_type": "stream",
     "text": [
      "Fitting 5 folds for each of 480 candidates, totalling 2400 fits\n"
     ]
    },
    {
     "name": "stderr",
     "output_type": "stream",
     "text": [
      "[Parallel(n_jobs=-1)]: Using backend LokyBackend with 4 concurrent workers.\n",
      "[Parallel(n_jobs=-1)]: Done 136 tasks      | elapsed:    1.0s\n",
      "[Parallel(n_jobs=-1)]: Done 904 tasks      | elapsed:   10.0s\n",
      "[Parallel(n_jobs=-1)]: Done 2184 tasks      | elapsed:   25.4s\n",
      "[Parallel(n_jobs=-1)]: Done 2400 out of 2400 | elapsed:   28.7s finished\n",
      "C:\\Users\\chris\\Anaconda2\\lib\\site-packages\\sklearn\\model_selection\\_search.py:841: DeprecationWarning: The default of the `iid` parameter will change from True to False in version 0.22 and will be removed in 0.24. This will change numeric results when test-set sizes are unequal.\n",
      "  DeprecationWarning)\n"
     ]
    },
    {
     "name": "stdout",
     "output_type": "stream",
     "text": [
      "Games predicted: 245\n",
      "\n",
      "\n",
      "Now Starting Simulation Number: 315\n",
      "\n",
      "\n",
      "{'n_estimators': [10, 12, 14, 16, 18, 20, 22, 24, 26, 28], 'loss': ['ls', 'huber'], 'learning_rate': array([0.1, 0.2, 0.3, 0.4, 0.5, 0.6]), 'max_depth': [1, 2, 3, 4]}\n",
      "Fitting 5 folds for each of 480 candidates, totalling 2400 fits\n"
     ]
    },
    {
     "name": "stderr",
     "output_type": "stream",
     "text": [
      "[Parallel(n_jobs=-1)]: Using backend LokyBackend with 4 concurrent workers.\n",
      "[Parallel(n_jobs=-1)]: Done 104 tasks      | elapsed:    0.8s\n",
      "[Parallel(n_jobs=-1)]: Done 680 tasks      | elapsed:    7.7s\n",
      "[Parallel(n_jobs=-1)]: Done 1640 tasks      | elapsed:   20.7s\n",
      "[Parallel(n_jobs=-1)]: Done 2400 out of 2400 | elapsed:   30.3s finished\n",
      "C:\\Users\\chris\\Anaconda2\\lib\\site-packages\\sklearn\\model_selection\\_search.py:841: DeprecationWarning: The default of the `iid` parameter will change from True to False in version 0.22 and will be removed in 0.24. This will change numeric results when test-set sizes are unequal.\n",
      "  DeprecationWarning)\n"
     ]
    },
    {
     "name": "stdout",
     "output_type": "stream",
     "text": [
      "Fitting 5 folds for each of 480 candidates, totalling 2400 fits\n"
     ]
    },
    {
     "name": "stderr",
     "output_type": "stream",
     "text": [
      "[Parallel(n_jobs=-1)]: Using backend LokyBackend with 4 concurrent workers.\n",
      "[Parallel(n_jobs=-1)]: Done 136 tasks      | elapsed:    1.1s\n",
      "[Parallel(n_jobs=-1)]: Done 904 tasks      | elapsed:   10.1s\n",
      "[Parallel(n_jobs=-1)]: Done 2184 tasks      | elapsed:   24.7s\n",
      "[Parallel(n_jobs=-1)]: Done 2400 out of 2400 | elapsed:   27.9s finished\n",
      "C:\\Users\\chris\\Anaconda2\\lib\\site-packages\\sklearn\\model_selection\\_search.py:841: DeprecationWarning: The default of the `iid` parameter will change from True to False in version 0.22 and will be removed in 0.24. This will change numeric results when test-set sizes are unequal.\n",
      "  DeprecationWarning)\n"
     ]
    },
    {
     "name": "stdout",
     "output_type": "stream",
     "text": [
      "Games predicted: 245\n",
      "\n",
      "\n",
      "Now Starting Simulation Number: 316\n",
      "\n",
      "\n",
      "{'n_estimators': [10, 12, 14, 16, 18, 20, 22, 24, 26, 28], 'loss': ['ls', 'huber'], 'learning_rate': array([0.1, 0.2, 0.3, 0.4, 0.5, 0.6]), 'max_depth': [1, 2, 3, 4]}\n",
      "Fitting 5 folds for each of 480 candidates, totalling 2400 fits\n"
     ]
    },
    {
     "name": "stderr",
     "output_type": "stream",
     "text": [
      "[Parallel(n_jobs=-1)]: Using backend LokyBackend with 4 concurrent workers.\n",
      "[Parallel(n_jobs=-1)]: Done 136 tasks      | elapsed:    1.1s\n",
      "[Parallel(n_jobs=-1)]: Done 904 tasks      | elapsed:   10.6s\n",
      "[Parallel(n_jobs=-1)]: Done 2184 tasks      | elapsed:   26.0s\n",
      "[Parallel(n_jobs=-1)]: Done 2400 out of 2400 | elapsed:   29.5s finished\n",
      "C:\\Users\\chris\\Anaconda2\\lib\\site-packages\\sklearn\\model_selection\\_search.py:841: DeprecationWarning: The default of the `iid` parameter will change from True to False in version 0.22 and will be removed in 0.24. This will change numeric results when test-set sizes are unequal.\n",
      "  DeprecationWarning)\n"
     ]
    },
    {
     "name": "stdout",
     "output_type": "stream",
     "text": [
      "Fitting 5 folds for each of 480 candidates, totalling 2400 fits\n"
     ]
    },
    {
     "name": "stderr",
     "output_type": "stream",
     "text": [
      "[Parallel(n_jobs=-1)]: Using backend LokyBackend with 4 concurrent workers.\n",
      "[Parallel(n_jobs=-1)]: Done 136 tasks      | elapsed:    1.1s\n",
      "[Parallel(n_jobs=-1)]: Done 904 tasks      | elapsed:   11.2s\n",
      "[Parallel(n_jobs=-1)]: Done 2184 tasks      | elapsed:   26.4s\n",
      "[Parallel(n_jobs=-1)]: Done 2400 out of 2400 | elapsed:   29.6s finished\n",
      "C:\\Users\\chris\\Anaconda2\\lib\\site-packages\\sklearn\\model_selection\\_search.py:841: DeprecationWarning: The default of the `iid` parameter will change from True to False in version 0.22 and will be removed in 0.24. This will change numeric results when test-set sizes are unequal.\n",
      "  DeprecationWarning)\n"
     ]
    },
    {
     "name": "stdout",
     "output_type": "stream",
     "text": [
      "Games predicted: 245\n",
      "\n",
      "\n",
      "Now Starting Simulation Number: 317\n",
      "\n",
      "\n",
      "{'n_estimators': [10, 12, 14, 16, 18, 20, 22, 24, 26, 28], 'loss': ['ls', 'huber'], 'learning_rate': array([0.1, 0.2, 0.3, 0.4, 0.5, 0.6]), 'max_depth': [1, 2, 3, 4]}\n",
      "Fitting 5 folds for each of 480 candidates, totalling 2400 fits\n"
     ]
    },
    {
     "name": "stderr",
     "output_type": "stream",
     "text": [
      "[Parallel(n_jobs=-1)]: Using backend LokyBackend with 4 concurrent workers.\n",
      "[Parallel(n_jobs=-1)]: Done 104 tasks      | elapsed:    0.8s\n",
      "[Parallel(n_jobs=-1)]: Done 680 tasks      | elapsed:    7.2s\n",
      "[Parallel(n_jobs=-1)]: Done 1640 tasks      | elapsed:   18.8s\n",
      "[Parallel(n_jobs=-1)]: Done 2400 out of 2400 | elapsed:   27.9s finished\n",
      "C:\\Users\\chris\\Anaconda2\\lib\\site-packages\\sklearn\\model_selection\\_search.py:841: DeprecationWarning: The default of the `iid` parameter will change from True to False in version 0.22 and will be removed in 0.24. This will change numeric results when test-set sizes are unequal.\n",
      "  DeprecationWarning)\n"
     ]
    },
    {
     "name": "stdout",
     "output_type": "stream",
     "text": [
      "Fitting 5 folds for each of 480 candidates, totalling 2400 fits\n"
     ]
    },
    {
     "name": "stderr",
     "output_type": "stream",
     "text": [
      "[Parallel(n_jobs=-1)]: Using backend LokyBackend with 4 concurrent workers.\n",
      "[Parallel(n_jobs=-1)]: Done 136 tasks      | elapsed:    1.0s\n",
      "[Parallel(n_jobs=-1)]: Done 904 tasks      | elapsed:   10.0s\n",
      "[Parallel(n_jobs=-1)]: Done 2184 tasks      | elapsed:   25.3s\n",
      "[Parallel(n_jobs=-1)]: Done 2400 out of 2400 | elapsed:   28.7s finished\n",
      "C:\\Users\\chris\\Anaconda2\\lib\\site-packages\\sklearn\\model_selection\\_search.py:841: DeprecationWarning: The default of the `iid` parameter will change from True to False in version 0.22 and will be removed in 0.24. This will change numeric results when test-set sizes are unequal.\n",
      "  DeprecationWarning)\n"
     ]
    },
    {
     "name": "stdout",
     "output_type": "stream",
     "text": [
      "Games predicted: 245\n",
      "\n",
      "\n",
      "Now Starting Simulation Number: 318\n",
      "\n",
      "\n",
      "{'n_estimators': [10, 12, 14, 16, 18, 20, 22, 24, 26, 28], 'loss': ['ls', 'huber'], 'learning_rate': array([0.1, 0.2, 0.3, 0.4, 0.5, 0.6]), 'max_depth': [1, 2, 3, 4]}\n",
      "Fitting 5 folds for each of 480 candidates, totalling 2400 fits\n"
     ]
    },
    {
     "name": "stderr",
     "output_type": "stream",
     "text": [
      "[Parallel(n_jobs=-1)]: Using backend LokyBackend with 4 concurrent workers.\n",
      "[Parallel(n_jobs=-1)]: Done 104 tasks      | elapsed:    0.8s\n",
      "[Parallel(n_jobs=-1)]: Done 680 tasks      | elapsed:    7.7s\n",
      "[Parallel(n_jobs=-1)]: Done 1640 tasks      | elapsed:   20.2s\n",
      "[Parallel(n_jobs=-1)]: Done 2400 out of 2400 | elapsed:   29.5s finished\n",
      "C:\\Users\\chris\\Anaconda2\\lib\\site-packages\\sklearn\\model_selection\\_search.py:841: DeprecationWarning: The default of the `iid` parameter will change from True to False in version 0.22 and will be removed in 0.24. This will change numeric results when test-set sizes are unequal.\n",
      "  DeprecationWarning)\n"
     ]
    },
    {
     "name": "stdout",
     "output_type": "stream",
     "text": [
      "Fitting 5 folds for each of 480 candidates, totalling 2400 fits\n"
     ]
    },
    {
     "name": "stderr",
     "output_type": "stream",
     "text": [
      "[Parallel(n_jobs=-1)]: Using backend LokyBackend with 4 concurrent workers.\n",
      "[Parallel(n_jobs=-1)]: Done 136 tasks      | elapsed:    1.0s\n",
      "[Parallel(n_jobs=-1)]: Done 904 tasks      | elapsed:   10.0s\n",
      "[Parallel(n_jobs=-1)]: Done 2184 tasks      | elapsed:   25.5s\n",
      "[Parallel(n_jobs=-1)]: Done 2400 out of 2400 | elapsed:   29.0s finished\n",
      "C:\\Users\\chris\\Anaconda2\\lib\\site-packages\\sklearn\\model_selection\\_search.py:841: DeprecationWarning: The default of the `iid` parameter will change from True to False in version 0.22 and will be removed in 0.24. This will change numeric results when test-set sizes are unequal.\n",
      "  DeprecationWarning)\n"
     ]
    },
    {
     "name": "stdout",
     "output_type": "stream",
     "text": [
      "Games predicted: 245\n",
      "\n",
      "\n",
      "Now Starting Simulation Number: 319\n",
      "\n",
      "\n",
      "{'n_estimators': [10, 12, 14, 16, 18, 20, 22, 24, 26, 28], 'loss': ['ls', 'huber'], 'learning_rate': array([0.1, 0.2, 0.3, 0.4, 0.5, 0.6]), 'max_depth': [1, 2, 3, 4]}\n",
      "Fitting 5 folds for each of 480 candidates, totalling 2400 fits\n"
     ]
    },
    {
     "name": "stderr",
     "output_type": "stream",
     "text": [
      "[Parallel(n_jobs=-1)]: Using backend LokyBackend with 4 concurrent workers.\n",
      "[Parallel(n_jobs=-1)]: Done 104 tasks      | elapsed:    0.8s\n",
      "[Parallel(n_jobs=-1)]: Done 680 tasks      | elapsed:    7.9s\n",
      "[Parallel(n_jobs=-1)]: Done 1640 tasks      | elapsed:   19.7s\n",
      "[Parallel(n_jobs=-1)]: Done 2400 out of 2400 | elapsed:   28.6s finished\n",
      "C:\\Users\\chris\\Anaconda2\\lib\\site-packages\\sklearn\\model_selection\\_search.py:841: DeprecationWarning: The default of the `iid` parameter will change from True to False in version 0.22 and will be removed in 0.24. This will change numeric results when test-set sizes are unequal.\n",
      "  DeprecationWarning)\n"
     ]
    },
    {
     "name": "stdout",
     "output_type": "stream",
     "text": [
      "Fitting 5 folds for each of 480 candidates, totalling 2400 fits\n"
     ]
    },
    {
     "name": "stderr",
     "output_type": "stream",
     "text": [
      "[Parallel(n_jobs=-1)]: Using backend LokyBackend with 4 concurrent workers.\n",
      "[Parallel(n_jobs=-1)]: Done 136 tasks      | elapsed:    1.0s\n",
      "[Parallel(n_jobs=-1)]: Done 904 tasks      | elapsed:   10.0s\n",
      "[Parallel(n_jobs=-1)]: Done 2184 tasks      | elapsed:   24.8s\n",
      "[Parallel(n_jobs=-1)]: Done 2400 out of 2400 | elapsed:   28.2s finished\n",
      "C:\\Users\\chris\\Anaconda2\\lib\\site-packages\\sklearn\\model_selection\\_search.py:841: DeprecationWarning: The default of the `iid` parameter will change from True to False in version 0.22 and will be removed in 0.24. This will change numeric results when test-set sizes are unequal.\n",
      "  DeprecationWarning)\n"
     ]
    },
    {
     "name": "stdout",
     "output_type": "stream",
     "text": [
      "Games predicted: 245\n",
      "\n",
      "\n",
      "Now Starting Simulation Number: 320\n",
      "\n",
      "\n",
      "{'n_estimators': [10, 12, 14, 16, 18, 20, 22, 24, 26, 28], 'loss': ['ls', 'huber'], 'learning_rate': array([0.1, 0.2, 0.3, 0.4, 0.5, 0.6]), 'max_depth': [1, 2, 3, 4]}\n",
      "Fitting 5 folds for each of 480 candidates, totalling 2400 fits\n"
     ]
    },
    {
     "name": "stderr",
     "output_type": "stream",
     "text": [
      "[Parallel(n_jobs=-1)]: Using backend LokyBackend with 4 concurrent workers.\n",
      "[Parallel(n_jobs=-1)]: Done 168 tasks      | elapsed:    1.4s\n",
      "[Parallel(n_jobs=-1)]: Done 1128 tasks      | elapsed:   13.6s\n",
      "[Parallel(n_jobs=-1)]: Done 2400 out of 2400 | elapsed:   30.6s finished\n",
      "C:\\Users\\chris\\Anaconda2\\lib\\site-packages\\sklearn\\model_selection\\_search.py:841: DeprecationWarning: The default of the `iid` parameter will change from True to False in version 0.22 and will be removed in 0.24. This will change numeric results when test-set sizes are unequal.\n",
      "  DeprecationWarning)\n"
     ]
    },
    {
     "name": "stdout",
     "output_type": "stream",
     "text": [
      "Fitting 5 folds for each of 480 candidates, totalling 2400 fits\n"
     ]
    },
    {
     "name": "stderr",
     "output_type": "stream",
     "text": [
      "[Parallel(n_jobs=-1)]: Using backend LokyBackend with 4 concurrent workers.\n",
      "[Parallel(n_jobs=-1)]: Done 232 tasks      | elapsed:    2.1s\n",
      "[Parallel(n_jobs=-1)]: Done 1475 tasks      | elapsed:   16.2s\n",
      "[Parallel(n_jobs=-1)]: Done 2400 out of 2400 | elapsed:   27.6s finished\n",
      "C:\\Users\\chris\\Anaconda2\\lib\\site-packages\\sklearn\\model_selection\\_search.py:841: DeprecationWarning: The default of the `iid` parameter will change from True to False in version 0.22 and will be removed in 0.24. This will change numeric results when test-set sizes are unequal.\n",
      "  DeprecationWarning)\n"
     ]
    },
    {
     "name": "stdout",
     "output_type": "stream",
     "text": [
      "Games predicted: 245\n",
      "\n",
      "\n",
      "Now Starting Simulation Number: 321\n",
      "\n",
      "\n",
      "{'n_estimators': [10, 12, 14, 16, 18, 20, 22, 24, 26, 28], 'loss': ['ls', 'huber'], 'learning_rate': array([0.1, 0.2, 0.3, 0.4, 0.5, 0.6]), 'max_depth': [1, 2, 3, 4]}\n",
      "Fitting 5 folds for each of 480 candidates, totalling 2400 fits\n"
     ]
    },
    {
     "name": "stderr",
     "output_type": "stream",
     "text": [
      "[Parallel(n_jobs=-1)]: Using backend LokyBackend with 4 concurrent workers.\n",
      "[Parallel(n_jobs=-1)]: Done 136 tasks      | elapsed:    1.0s\n",
      "[Parallel(n_jobs=-1)]: Done 904 tasks      | elapsed:    9.9s\n",
      "[Parallel(n_jobs=-1)]: Done 2184 tasks      | elapsed:   24.8s\n",
      "[Parallel(n_jobs=-1)]: Done 2400 out of 2400 | elapsed:   28.3s finished\n",
      "C:\\Users\\chris\\Anaconda2\\lib\\site-packages\\sklearn\\model_selection\\_search.py:841: DeprecationWarning: The default of the `iid` parameter will change from True to False in version 0.22 and will be removed in 0.24. This will change numeric results when test-set sizes are unequal.\n",
      "  DeprecationWarning)\n"
     ]
    },
    {
     "name": "stdout",
     "output_type": "stream",
     "text": [
      "Fitting 5 folds for each of 480 candidates, totalling 2400 fits\n"
     ]
    },
    {
     "name": "stderr",
     "output_type": "stream",
     "text": [
      "[Parallel(n_jobs=-1)]: Using backend LokyBackend with 4 concurrent workers.\n",
      "[Parallel(n_jobs=-1)]: Done 136 tasks      | elapsed:    1.1s\n",
      "[Parallel(n_jobs=-1)]: Done 904 tasks      | elapsed:   10.9s\n",
      "[Parallel(n_jobs=-1)]: Done 2184 tasks      | elapsed:   26.7s\n",
      "[Parallel(n_jobs=-1)]: Done 2400 out of 2400 | elapsed:   29.8s finished\n",
      "C:\\Users\\chris\\Anaconda2\\lib\\site-packages\\sklearn\\model_selection\\_search.py:841: DeprecationWarning: The default of the `iid` parameter will change from True to False in version 0.22 and will be removed in 0.24. This will change numeric results when test-set sizes are unequal.\n",
      "  DeprecationWarning)\n"
     ]
    },
    {
     "name": "stdout",
     "output_type": "stream",
     "text": [
      "Games predicted: 245\n",
      "\n",
      "\n",
      "Now Starting Simulation Number: 322\n",
      "\n",
      "\n",
      "{'n_estimators': [10, 12, 14, 16, 18, 20, 22, 24, 26, 28], 'loss': ['ls', 'huber'], 'learning_rate': array([0.1, 0.2, 0.3, 0.4, 0.5, 0.6]), 'max_depth': [1, 2, 3, 4]}\n",
      "Fitting 5 folds for each of 480 candidates, totalling 2400 fits\n"
     ]
    },
    {
     "name": "stderr",
     "output_type": "stream",
     "text": [
      "[Parallel(n_jobs=-1)]: Using backend LokyBackend with 4 concurrent workers.\n",
      "[Parallel(n_jobs=-1)]: Done 136 tasks      | elapsed:    1.0s\n",
      "[Parallel(n_jobs=-1)]: Done 904 tasks      | elapsed:    9.9s\n",
      "[Parallel(n_jobs=-1)]: Done 2184 tasks      | elapsed:   24.3s\n",
      "[Parallel(n_jobs=-1)]: Done 2400 out of 2400 | elapsed:   27.4s finished\n",
      "C:\\Users\\chris\\Anaconda2\\lib\\site-packages\\sklearn\\model_selection\\_search.py:841: DeprecationWarning: The default of the `iid` parameter will change from True to False in version 0.22 and will be removed in 0.24. This will change numeric results when test-set sizes are unequal.\n",
      "  DeprecationWarning)\n"
     ]
    },
    {
     "name": "stdout",
     "output_type": "stream",
     "text": [
      "Fitting 5 folds for each of 480 candidates, totalling 2400 fits\n"
     ]
    },
    {
     "name": "stderr",
     "output_type": "stream",
     "text": [
      "[Parallel(n_jobs=-1)]: Using backend LokyBackend with 4 concurrent workers.\n",
      "[Parallel(n_jobs=-1)]: Done 232 tasks      | elapsed:    2.0s\n",
      "[Parallel(n_jobs=-1)]: Done 1247 tasks      | elapsed:   14.7s\n",
      "[Parallel(n_jobs=-1)]: Done 2400 out of 2400 | elapsed:   28.8s finished\n",
      "C:\\Users\\chris\\Anaconda2\\lib\\site-packages\\sklearn\\model_selection\\_search.py:841: DeprecationWarning: The default of the `iid` parameter will change from True to False in version 0.22 and will be removed in 0.24. This will change numeric results when test-set sizes are unequal.\n",
      "  DeprecationWarning)\n"
     ]
    },
    {
     "name": "stdout",
     "output_type": "stream",
     "text": [
      "Games predicted: 245\n",
      "\n",
      "\n",
      "Now Starting Simulation Number: 323\n",
      "\n",
      "\n",
      "{'n_estimators': [10, 12, 14, 16, 18, 20, 22, 24, 26, 28], 'loss': ['ls', 'huber'], 'learning_rate': array([0.1, 0.2, 0.3, 0.4, 0.5, 0.6]), 'max_depth': [1, 2, 3, 4]}\n",
      "Fitting 5 folds for each of 480 candidates, totalling 2400 fits\n"
     ]
    },
    {
     "name": "stderr",
     "output_type": "stream",
     "text": [
      "[Parallel(n_jobs=-1)]: Using backend LokyBackend with 4 concurrent workers.\n",
      "[Parallel(n_jobs=-1)]: Done 104 tasks      | elapsed:    0.8s\n",
      "[Parallel(n_jobs=-1)]: Done 680 tasks      | elapsed:    7.8s\n",
      "[Parallel(n_jobs=-1)]: Done 1640 tasks      | elapsed:   21.4s\n",
      "[Parallel(n_jobs=-1)]: Done 2400 out of 2400 | elapsed:   30.6s finished\n",
      "C:\\Users\\chris\\Anaconda2\\lib\\site-packages\\sklearn\\model_selection\\_search.py:841: DeprecationWarning: The default of the `iid` parameter will change from True to False in version 0.22 and will be removed in 0.24. This will change numeric results when test-set sizes are unequal.\n",
      "  DeprecationWarning)\n"
     ]
    },
    {
     "name": "stdout",
     "output_type": "stream",
     "text": [
      "Fitting 5 folds for each of 480 candidates, totalling 2400 fits\n"
     ]
    },
    {
     "name": "stderr",
     "output_type": "stream",
     "text": [
      "[Parallel(n_jobs=-1)]: Using backend LokyBackend with 4 concurrent workers.\n",
      "[Parallel(n_jobs=-1)]: Done 168 tasks      | elapsed:    1.4s\n",
      "[Parallel(n_jobs=-1)]: Done 1128 tasks      | elapsed:   12.4s\n",
      "[Parallel(n_jobs=-1)]: Done 2400 out of 2400 | elapsed:   27.3s finished\n",
      "C:\\Users\\chris\\Anaconda2\\lib\\site-packages\\sklearn\\model_selection\\_search.py:841: DeprecationWarning: The default of the `iid` parameter will change from True to False in version 0.22 and will be removed in 0.24. This will change numeric results when test-set sizes are unequal.\n",
      "  DeprecationWarning)\n"
     ]
    },
    {
     "name": "stdout",
     "output_type": "stream",
     "text": [
      "Games predicted: 245\n",
      "\n",
      "\n",
      "Now Starting Simulation Number: 324\n",
      "\n",
      "\n",
      "{'n_estimators': [10, 12, 14, 16, 18, 20, 22, 24, 26, 28], 'loss': ['ls', 'huber'], 'learning_rate': array([0.1, 0.2, 0.3, 0.4, 0.5, 0.6]), 'max_depth': [1, 2, 3, 4]}\n",
      "Fitting 5 folds for each of 480 candidates, totalling 2400 fits\n"
     ]
    },
    {
     "name": "stderr",
     "output_type": "stream",
     "text": [
      "[Parallel(n_jobs=-1)]: Using backend LokyBackend with 4 concurrent workers.\n",
      "[Parallel(n_jobs=-1)]: Done 136 tasks      | elapsed:    1.1s\n",
      "[Parallel(n_jobs=-1)]: Done 904 tasks      | elapsed:   10.3s\n",
      "[Parallel(n_jobs=-1)]: Done 2184 tasks      | elapsed:   26.1s\n",
      "[Parallel(n_jobs=-1)]: Done 2400 out of 2400 | elapsed:   29.3s finished\n",
      "C:\\Users\\chris\\Anaconda2\\lib\\site-packages\\sklearn\\model_selection\\_search.py:841: DeprecationWarning: The default of the `iid` parameter will change from True to False in version 0.22 and will be removed in 0.24. This will change numeric results when test-set sizes are unequal.\n",
      "  DeprecationWarning)\n"
     ]
    },
    {
     "name": "stdout",
     "output_type": "stream",
     "text": [
      "Fitting 5 folds for each of 480 candidates, totalling 2400 fits\n"
     ]
    },
    {
     "name": "stderr",
     "output_type": "stream",
     "text": [
      "[Parallel(n_jobs=-1)]: Using backend LokyBackend with 4 concurrent workers.\n",
      "[Parallel(n_jobs=-1)]: Done 200 tasks      | elapsed:    1.8s\n",
      "[Parallel(n_jobs=-1)]: Done 1352 tasks      | elapsed:   15.0s\n",
      "[Parallel(n_jobs=-1)]: Done 2400 out of 2400 | elapsed:   28.2s finished\n",
      "C:\\Users\\chris\\Anaconda2\\lib\\site-packages\\sklearn\\model_selection\\_search.py:841: DeprecationWarning: The default of the `iid` parameter will change from True to False in version 0.22 and will be removed in 0.24. This will change numeric results when test-set sizes are unequal.\n",
      "  DeprecationWarning)\n"
     ]
    },
    {
     "name": "stdout",
     "output_type": "stream",
     "text": [
      "Games predicted: 245\n",
      "\n",
      "\n",
      "Now Starting Simulation Number: 325\n",
      "\n",
      "\n",
      "{'n_estimators': [10, 12, 14, 16, 18, 20, 22, 24, 26, 28], 'loss': ['ls', 'huber'], 'learning_rate': array([0.1, 0.2, 0.3, 0.4, 0.5, 0.6]), 'max_depth': [1, 2, 3, 4]}\n",
      "Fitting 5 folds for each of 480 candidates, totalling 2400 fits\n"
     ]
    },
    {
     "name": "stderr",
     "output_type": "stream",
     "text": [
      "[Parallel(n_jobs=-1)]: Using backend LokyBackend with 4 concurrent workers.\n",
      "[Parallel(n_jobs=-1)]: Done 104 tasks      | elapsed:    0.7s\n",
      "[Parallel(n_jobs=-1)]: Done 680 tasks      | elapsed:    7.0s\n",
      "[Parallel(n_jobs=-1)]: Done 1640 tasks      | elapsed:   18.9s\n",
      "[Parallel(n_jobs=-1)]: Done 2400 out of 2400 | elapsed:   28.8s finished\n",
      "C:\\Users\\chris\\Anaconda2\\lib\\site-packages\\sklearn\\model_selection\\_search.py:841: DeprecationWarning: The default of the `iid` parameter will change from True to False in version 0.22 and will be removed in 0.24. This will change numeric results when test-set sizes are unequal.\n",
      "  DeprecationWarning)\n"
     ]
    },
    {
     "name": "stdout",
     "output_type": "stream",
     "text": [
      "Fitting 5 folds for each of 480 candidates, totalling 2400 fits\n"
     ]
    },
    {
     "name": "stderr",
     "output_type": "stream",
     "text": [
      "[Parallel(n_jobs=-1)]: Using backend LokyBackend with 4 concurrent workers.\n",
      "[Parallel(n_jobs=-1)]: Done 136 tasks      | elapsed:    1.2s\n",
      "[Parallel(n_jobs=-1)]: Done 904 tasks      | elapsed:   11.1s\n",
      "[Parallel(n_jobs=-1)]: Done 2184 tasks      | elapsed:   26.1s\n",
      "[Parallel(n_jobs=-1)]: Done 2400 out of 2400 | elapsed:   29.3s finished\n",
      "C:\\Users\\chris\\Anaconda2\\lib\\site-packages\\sklearn\\model_selection\\_search.py:841: DeprecationWarning: The default of the `iid` parameter will change from True to False in version 0.22 and will be removed in 0.24. This will change numeric results when test-set sizes are unequal.\n",
      "  DeprecationWarning)\n"
     ]
    },
    {
     "name": "stdout",
     "output_type": "stream",
     "text": [
      "Games predicted: 245\n",
      "\n",
      "\n",
      "Now Starting Simulation Number: 326\n",
      "\n",
      "\n",
      "{'n_estimators': [10, 12, 14, 16, 18, 20, 22, 24, 26, 28], 'loss': ['ls', 'huber'], 'learning_rate': array([0.1, 0.2, 0.3, 0.4, 0.5, 0.6]), 'max_depth': [1, 2, 3, 4]}\n",
      "Fitting 5 folds for each of 480 candidates, totalling 2400 fits\n"
     ]
    },
    {
     "name": "stderr",
     "output_type": "stream",
     "text": [
      "[Parallel(n_jobs=-1)]: Using backend LokyBackend with 4 concurrent workers.\n",
      "[Parallel(n_jobs=-1)]: Done 104 tasks      | elapsed:    0.7s\n",
      "[Parallel(n_jobs=-1)]: Done 680 tasks      | elapsed:    7.8s\n",
      "[Parallel(n_jobs=-1)]: Done 1640 tasks      | elapsed:   19.9s\n",
      "[Parallel(n_jobs=-1)]: Done 2400 out of 2400 | elapsed:   28.9s finished\n",
      "C:\\Users\\chris\\Anaconda2\\lib\\site-packages\\sklearn\\model_selection\\_search.py:841: DeprecationWarning: The default of the `iid` parameter will change from True to False in version 0.22 and will be removed in 0.24. This will change numeric results when test-set sizes are unequal.\n",
      "  DeprecationWarning)\n"
     ]
    },
    {
     "name": "stdout",
     "output_type": "stream",
     "text": [
      "Fitting 5 folds for each of 480 candidates, totalling 2400 fits\n"
     ]
    },
    {
     "name": "stderr",
     "output_type": "stream",
     "text": [
      "[Parallel(n_jobs=-1)]: Using backend LokyBackend with 4 concurrent workers.\n",
      "[Parallel(n_jobs=-1)]: Done 168 tasks      | elapsed:    1.4s\n",
      "[Parallel(n_jobs=-1)]: Done 1128 tasks      | elapsed:   12.7s\n",
      "[Parallel(n_jobs=-1)]: Done 2400 out of 2400 | elapsed:   29.7s finished\n",
      "C:\\Users\\chris\\Anaconda2\\lib\\site-packages\\sklearn\\model_selection\\_search.py:841: DeprecationWarning: The default of the `iid` parameter will change from True to False in version 0.22 and will be removed in 0.24. This will change numeric results when test-set sizes are unequal.\n",
      "  DeprecationWarning)\n"
     ]
    },
    {
     "name": "stdout",
     "output_type": "stream",
     "text": [
      "Games predicted: 245\n",
      "\n",
      "\n",
      "Now Starting Simulation Number: 327\n",
      "\n",
      "\n",
      "{'n_estimators': [10, 12, 14, 16, 18, 20, 22, 24, 26, 28], 'loss': ['ls', 'huber'], 'learning_rate': array([0.1, 0.2, 0.3, 0.4, 0.5, 0.6]), 'max_depth': [1, 2, 3, 4]}\n",
      "Fitting 5 folds for each of 480 candidates, totalling 2400 fits\n"
     ]
    },
    {
     "name": "stderr",
     "output_type": "stream",
     "text": [
      "[Parallel(n_jobs=-1)]: Using backend LokyBackend with 4 concurrent workers.\n",
      "[Parallel(n_jobs=-1)]: Done 136 tasks      | elapsed:    1.0s\n",
      "[Parallel(n_jobs=-1)]: Done 904 tasks      | elapsed:   10.3s\n",
      "[Parallel(n_jobs=-1)]: Done 2184 tasks      | elapsed:   24.9s\n",
      "[Parallel(n_jobs=-1)]: Done 2400 out of 2400 | elapsed:   28.1s finished\n",
      "C:\\Users\\chris\\Anaconda2\\lib\\site-packages\\sklearn\\model_selection\\_search.py:841: DeprecationWarning: The default of the `iid` parameter will change from True to False in version 0.22 and will be removed in 0.24. This will change numeric results when test-set sizes are unequal.\n",
      "  DeprecationWarning)\n"
     ]
    },
    {
     "name": "stdout",
     "output_type": "stream",
     "text": [
      "Fitting 5 folds for each of 480 candidates, totalling 2400 fits\n"
     ]
    },
    {
     "name": "stderr",
     "output_type": "stream",
     "text": [
      "[Parallel(n_jobs=-1)]: Using backend LokyBackend with 4 concurrent workers.\n",
      "[Parallel(n_jobs=-1)]: Done 184 tasks      | elapsed:    1.6s\n",
      "[Parallel(n_jobs=-1)]: Done 1720 tasks      | elapsed:   19.5s\n",
      "[Parallel(n_jobs=-1)]: Done 2400 out of 2400 | elapsed:   28.2s finished\n",
      "C:\\Users\\chris\\Anaconda2\\lib\\site-packages\\sklearn\\model_selection\\_search.py:841: DeprecationWarning: The default of the `iid` parameter will change from True to False in version 0.22 and will be removed in 0.24. This will change numeric results when test-set sizes are unequal.\n",
      "  DeprecationWarning)\n"
     ]
    },
    {
     "name": "stdout",
     "output_type": "stream",
     "text": [
      "Games predicted: 245\n",
      "\n",
      "\n",
      "Now Starting Simulation Number: 328\n",
      "\n",
      "\n",
      "{'n_estimators': [10, 12, 14, 16, 18, 20, 22, 24, 26, 28], 'loss': ['ls', 'huber'], 'learning_rate': array([0.1, 0.2, 0.3, 0.4, 0.5, 0.6]), 'max_depth': [1, 2, 3, 4]}\n",
      "Fitting 5 folds for each of 480 candidates, totalling 2400 fits\n"
     ]
    },
    {
     "name": "stderr",
     "output_type": "stream",
     "text": [
      "[Parallel(n_jobs=-1)]: Using backend LokyBackend with 4 concurrent workers.\n",
      "[Parallel(n_jobs=-1)]: Done 104 tasks      | elapsed:    0.9s\n",
      "[Parallel(n_jobs=-1)]: Done 680 tasks      | elapsed:    8.3s\n",
      "[Parallel(n_jobs=-1)]: Done 1640 tasks      | elapsed:   20.5s\n",
      "[Parallel(n_jobs=-1)]: Done 2400 out of 2400 | elapsed:   29.9s finished\n",
      "C:\\Users\\chris\\Anaconda2\\lib\\site-packages\\sklearn\\model_selection\\_search.py:841: DeprecationWarning: The default of the `iid` parameter will change from True to False in version 0.22 and will be removed in 0.24. This will change numeric results when test-set sizes are unequal.\n",
      "  DeprecationWarning)\n"
     ]
    },
    {
     "name": "stdout",
     "output_type": "stream",
     "text": [
      "Fitting 5 folds for each of 480 candidates, totalling 2400 fits\n"
     ]
    },
    {
     "name": "stderr",
     "output_type": "stream",
     "text": [
      "[Parallel(n_jobs=-1)]: Using backend LokyBackend with 4 concurrent workers.\n",
      "[Parallel(n_jobs=-1)]: Done 136 tasks      | elapsed:    1.1s\n",
      "[Parallel(n_jobs=-1)]: Done 904 tasks      | elapsed:   10.2s\n",
      "[Parallel(n_jobs=-1)]: Done 2184 tasks      | elapsed:   24.7s\n",
      "[Parallel(n_jobs=-1)]: Done 2400 out of 2400 | elapsed:   27.9s finished\n",
      "C:\\Users\\chris\\Anaconda2\\lib\\site-packages\\sklearn\\model_selection\\_search.py:841: DeprecationWarning: The default of the `iid` parameter will change from True to False in version 0.22 and will be removed in 0.24. This will change numeric results when test-set sizes are unequal.\n",
      "  DeprecationWarning)\n"
     ]
    },
    {
     "name": "stdout",
     "output_type": "stream",
     "text": [
      "Games predicted: 245\n",
      "\n",
      "\n",
      "Now Starting Simulation Number: 329\n",
      "\n",
      "\n",
      "{'n_estimators': [10, 12, 14, 16, 18, 20, 22, 24, 26, 28], 'loss': ['ls', 'huber'], 'learning_rate': array([0.1, 0.2, 0.3, 0.4, 0.5, 0.6]), 'max_depth': [1, 2, 3, 4]}\n",
      "Fitting 5 folds for each of 480 candidates, totalling 2400 fits\n"
     ]
    },
    {
     "name": "stderr",
     "output_type": "stream",
     "text": [
      "[Parallel(n_jobs=-1)]: Using backend LokyBackend with 4 concurrent workers.\n",
      "[Parallel(n_jobs=-1)]: Done 104 tasks      | elapsed:    0.8s\n",
      "[Parallel(n_jobs=-1)]: Done 680 tasks      | elapsed:    8.1s\n",
      "[Parallel(n_jobs=-1)]: Done 1640 tasks      | elapsed:   20.6s\n",
      "[Parallel(n_jobs=-1)]: Done 2400 out of 2400 | elapsed:   30.6s finished\n",
      "C:\\Users\\chris\\Anaconda2\\lib\\site-packages\\sklearn\\model_selection\\_search.py:841: DeprecationWarning: The default of the `iid` parameter will change from True to False in version 0.22 and will be removed in 0.24. This will change numeric results when test-set sizes are unequal.\n",
      "  DeprecationWarning)\n"
     ]
    },
    {
     "name": "stdout",
     "output_type": "stream",
     "text": [
      "Fitting 5 folds for each of 480 candidates, totalling 2400 fits\n"
     ]
    },
    {
     "name": "stderr",
     "output_type": "stream",
     "text": [
      "[Parallel(n_jobs=-1)]: Using backend LokyBackend with 4 concurrent workers.\n",
      "[Parallel(n_jobs=-1)]: Done 136 tasks      | elapsed:    1.1s\n",
      "[Parallel(n_jobs=-1)]: Done 904 tasks      | elapsed:   11.0s\n",
      "[Parallel(n_jobs=-1)]: Done 2184 tasks      | elapsed:   25.8s\n",
      "[Parallel(n_jobs=-1)]: Done 2400 out of 2400 | elapsed:   29.1s finished\n",
      "C:\\Users\\chris\\Anaconda2\\lib\\site-packages\\sklearn\\model_selection\\_search.py:841: DeprecationWarning: The default of the `iid` parameter will change from True to False in version 0.22 and will be removed in 0.24. This will change numeric results when test-set sizes are unequal.\n",
      "  DeprecationWarning)\n"
     ]
    },
    {
     "name": "stdout",
     "output_type": "stream",
     "text": [
      "Games predicted: 245\n",
      "\n",
      "\n",
      "Now Starting Simulation Number: 330\n",
      "\n",
      "\n",
      "{'n_estimators': [10, 12, 14, 16, 18, 20, 22, 24, 26, 28], 'loss': ['ls', 'huber'], 'learning_rate': array([0.1, 0.2, 0.3, 0.4, 0.5, 0.6]), 'max_depth': [1, 2, 3, 4]}\n",
      "Fitting 5 folds for each of 480 candidates, totalling 2400 fits\n"
     ]
    },
    {
     "name": "stderr",
     "output_type": "stream",
     "text": [
      "[Parallel(n_jobs=-1)]: Using backend LokyBackend with 4 concurrent workers.\n",
      "[Parallel(n_jobs=-1)]: Done 168 tasks      | elapsed:    1.4s\n",
      "[Parallel(n_jobs=-1)]: Done 1128 tasks      | elapsed:   12.9s\n",
      "[Parallel(n_jobs=-1)]: Done 2400 out of 2400 | elapsed:   28.5s finished\n",
      "C:\\Users\\chris\\Anaconda2\\lib\\site-packages\\sklearn\\model_selection\\_search.py:841: DeprecationWarning: The default of the `iid` parameter will change from True to False in version 0.22 and will be removed in 0.24. This will change numeric results when test-set sizes are unequal.\n",
      "  DeprecationWarning)\n"
     ]
    },
    {
     "name": "stdout",
     "output_type": "stream",
     "text": [
      "Fitting 5 folds for each of 480 candidates, totalling 2400 fits\n"
     ]
    },
    {
     "name": "stderr",
     "output_type": "stream",
     "text": [
      "[Parallel(n_jobs=-1)]: Using backend LokyBackend with 4 concurrent workers.\n",
      "[Parallel(n_jobs=-1)]: Done 136 tasks      | elapsed:    1.1s\n",
      "[Parallel(n_jobs=-1)]: Done 904 tasks      | elapsed:   10.9s\n",
      "[Parallel(n_jobs=-1)]: Done 2184 tasks      | elapsed:   26.7s\n",
      "[Parallel(n_jobs=-1)]: Done 2400 out of 2400 | elapsed:   29.9s finished\n",
      "C:\\Users\\chris\\Anaconda2\\lib\\site-packages\\sklearn\\model_selection\\_search.py:841: DeprecationWarning: The default of the `iid` parameter will change from True to False in version 0.22 and will be removed in 0.24. This will change numeric results when test-set sizes are unequal.\n",
      "  DeprecationWarning)\n"
     ]
    },
    {
     "name": "stdout",
     "output_type": "stream",
     "text": [
      "Games predicted: 245\n",
      "\n",
      "\n",
      "Now Starting Simulation Number: 331\n",
      "\n",
      "\n",
      "{'n_estimators': [10, 12, 14, 16, 18, 20, 22, 24, 26, 28], 'loss': ['ls', 'huber'], 'learning_rate': array([0.1, 0.2, 0.3, 0.4, 0.5, 0.6]), 'max_depth': [1, 2, 3, 4]}\n",
      "Fitting 5 folds for each of 480 candidates, totalling 2400 fits\n"
     ]
    },
    {
     "name": "stderr",
     "output_type": "stream",
     "text": [
      "[Parallel(n_jobs=-1)]: Using backend LokyBackend with 4 concurrent workers.\n",
      "[Parallel(n_jobs=-1)]: Done 104 tasks      | elapsed:    0.7s\n",
      "[Parallel(n_jobs=-1)]: Done 680 tasks      | elapsed:    7.1s\n",
      "[Parallel(n_jobs=-1)]: Done 1640 tasks      | elapsed:   19.7s\n",
      "[Parallel(n_jobs=-1)]: Done 2400 out of 2400 | elapsed:   29.0s finished\n",
      "C:\\Users\\chris\\Anaconda2\\lib\\site-packages\\sklearn\\model_selection\\_search.py:841: DeprecationWarning: The default of the `iid` parameter will change from True to False in version 0.22 and will be removed in 0.24. This will change numeric results when test-set sizes are unequal.\n",
      "  DeprecationWarning)\n"
     ]
    },
    {
     "name": "stdout",
     "output_type": "stream",
     "text": [
      "Fitting 5 folds for each of 480 candidates, totalling 2400 fits\n"
     ]
    },
    {
     "name": "stderr",
     "output_type": "stream",
     "text": [
      "[Parallel(n_jobs=-1)]: Using backend LokyBackend with 4 concurrent workers.\n",
      "[Parallel(n_jobs=-1)]: Done 184 tasks      | elapsed:    1.6s\n",
      "[Parallel(n_jobs=-1)]: Done 1720 tasks      | elapsed:   20.3s\n",
      "[Parallel(n_jobs=-1)]: Done 2400 out of 2400 | elapsed:   29.7s finished\n",
      "C:\\Users\\chris\\Anaconda2\\lib\\site-packages\\sklearn\\model_selection\\_search.py:841: DeprecationWarning: The default of the `iid` parameter will change from True to False in version 0.22 and will be removed in 0.24. This will change numeric results when test-set sizes are unequal.\n",
      "  DeprecationWarning)\n"
     ]
    },
    {
     "name": "stdout",
     "output_type": "stream",
     "text": [
      "Games predicted: 245\n",
      "\n",
      "\n",
      "Now Starting Simulation Number: 332\n",
      "\n",
      "\n",
      "{'n_estimators': [10, 12, 14, 16, 18, 20, 22, 24, 26, 28], 'loss': ['ls', 'huber'], 'learning_rate': array([0.1, 0.2, 0.3, 0.4, 0.5, 0.6]), 'max_depth': [1, 2, 3, 4]}\n",
      "Fitting 5 folds for each of 480 candidates, totalling 2400 fits\n"
     ]
    },
    {
     "name": "stderr",
     "output_type": "stream",
     "text": [
      "[Parallel(n_jobs=-1)]: Using backend LokyBackend with 4 concurrent workers.\n",
      "[Parallel(n_jobs=-1)]: Done 232 tasks      | elapsed:    2.3s\n",
      "[Parallel(n_jobs=-1)]: Done 1576 tasks      | elapsed:   18.9s\n",
      "[Parallel(n_jobs=-1)]: Done 2400 out of 2400 | elapsed:   28.8s finished\n",
      "C:\\Users\\chris\\Anaconda2\\lib\\site-packages\\sklearn\\model_selection\\_search.py:841: DeprecationWarning: The default of the `iid` parameter will change from True to False in version 0.22 and will be removed in 0.24. This will change numeric results when test-set sizes are unequal.\n",
      "  DeprecationWarning)\n"
     ]
    },
    {
     "name": "stdout",
     "output_type": "stream",
     "text": [
      "Fitting 5 folds for each of 480 candidates, totalling 2400 fits\n"
     ]
    },
    {
     "name": "stderr",
     "output_type": "stream",
     "text": [
      "[Parallel(n_jobs=-1)]: Using backend LokyBackend with 4 concurrent workers.\n",
      "[Parallel(n_jobs=-1)]: Done 168 tasks      | elapsed:    1.5s\n",
      "[Parallel(n_jobs=-1)]: Done 1512 tasks      | elapsed:   17.0s\n",
      "[Parallel(n_jobs=-1)]: Done 2400 out of 2400 | elapsed:   28.5s finished\n",
      "C:\\Users\\chris\\Anaconda2\\lib\\site-packages\\sklearn\\model_selection\\_search.py:841: DeprecationWarning: The default of the `iid` parameter will change from True to False in version 0.22 and will be removed in 0.24. This will change numeric results when test-set sizes are unequal.\n",
      "  DeprecationWarning)\n"
     ]
    },
    {
     "name": "stdout",
     "output_type": "stream",
     "text": [
      "Games predicted: 245\n",
      "\n",
      "\n",
      "Now Starting Simulation Number: 333\n",
      "\n",
      "\n",
      "{'n_estimators': [10, 12, 14, 16, 18, 20, 22, 24, 26, 28], 'loss': ['ls', 'huber'], 'learning_rate': array([0.1, 0.2, 0.3, 0.4, 0.5, 0.6]), 'max_depth': [1, 2, 3, 4]}\n",
      "Fitting 5 folds for each of 480 candidates, totalling 2400 fits\n"
     ]
    },
    {
     "name": "stderr",
     "output_type": "stream",
     "text": [
      "[Parallel(n_jobs=-1)]: Using backend LokyBackend with 4 concurrent workers.\n",
      "[Parallel(n_jobs=-1)]: Done 104 tasks      | elapsed:    0.9s\n",
      "[Parallel(n_jobs=-1)]: Done 680 tasks      | elapsed:    8.1s\n",
      "[Parallel(n_jobs=-1)]: Done 1640 tasks      | elapsed:   21.0s\n",
      "[Parallel(n_jobs=-1)]: Done 2400 out of 2400 | elapsed:   30.3s finished\n",
      "C:\\Users\\chris\\Anaconda2\\lib\\site-packages\\sklearn\\model_selection\\_search.py:841: DeprecationWarning: The default of the `iid` parameter will change from True to False in version 0.22 and will be removed in 0.24. This will change numeric results when test-set sizes are unequal.\n",
      "  DeprecationWarning)\n"
     ]
    },
    {
     "name": "stdout",
     "output_type": "stream",
     "text": [
      "Fitting 5 folds for each of 480 candidates, totalling 2400 fits\n"
     ]
    },
    {
     "name": "stderr",
     "output_type": "stream",
     "text": [
      "[Parallel(n_jobs=-1)]: Using backend LokyBackend with 4 concurrent workers.\n",
      "[Parallel(n_jobs=-1)]: Done 136 tasks      | elapsed:    1.2s\n",
      "[Parallel(n_jobs=-1)]: Done 904 tasks      | elapsed:   10.1s\n",
      "[Parallel(n_jobs=-1)]: Done 2184 tasks      | elapsed:   25.3s\n",
      "[Parallel(n_jobs=-1)]: Done 2400 out of 2400 | elapsed:   28.9s finished\n",
      "C:\\Users\\chris\\Anaconda2\\lib\\site-packages\\sklearn\\model_selection\\_search.py:841: DeprecationWarning: The default of the `iid` parameter will change from True to False in version 0.22 and will be removed in 0.24. This will change numeric results when test-set sizes are unequal.\n",
      "  DeprecationWarning)\n"
     ]
    },
    {
     "name": "stdout",
     "output_type": "stream",
     "text": [
      "Games predicted: 245\n",
      "\n",
      "\n",
      "Now Starting Simulation Number: 334\n",
      "\n",
      "\n",
      "{'n_estimators': [10, 12, 14, 16, 18, 20, 22, 24, 26, 28], 'loss': ['ls', 'huber'], 'learning_rate': array([0.1, 0.2, 0.3, 0.4, 0.5, 0.6]), 'max_depth': [1, 2, 3, 4]}\n",
      "Fitting 5 folds for each of 480 candidates, totalling 2400 fits\n"
     ]
    },
    {
     "name": "stderr",
     "output_type": "stream",
     "text": [
      "[Parallel(n_jobs=-1)]: Using backend LokyBackend with 4 concurrent workers.\n",
      "[Parallel(n_jobs=-1)]: Done 104 tasks      | elapsed:    0.9s\n",
      "[Parallel(n_jobs=-1)]: Done 680 tasks      | elapsed:    8.2s\n",
      "[Parallel(n_jobs=-1)]: Done 1640 tasks      | elapsed:   20.9s\n",
      "[Parallel(n_jobs=-1)]: Done 2400 out of 2400 | elapsed:   30.2s finished\n",
      "C:\\Users\\chris\\Anaconda2\\lib\\site-packages\\sklearn\\model_selection\\_search.py:841: DeprecationWarning: The default of the `iid` parameter will change from True to False in version 0.22 and will be removed in 0.24. This will change numeric results when test-set sizes are unequal.\n",
      "  DeprecationWarning)\n"
     ]
    },
    {
     "name": "stdout",
     "output_type": "stream",
     "text": [
      "Fitting 5 folds for each of 480 candidates, totalling 2400 fits\n"
     ]
    },
    {
     "name": "stderr",
     "output_type": "stream",
     "text": [
      "[Parallel(n_jobs=-1)]: Using backend LokyBackend with 4 concurrent workers.\n",
      "[Parallel(n_jobs=-1)]: Done 136 tasks      | elapsed:    1.1s\n",
      "[Parallel(n_jobs=-1)]: Done 904 tasks      | elapsed:   10.1s\n",
      "[Parallel(n_jobs=-1)]: Done 2184 tasks      | elapsed:   24.7s\n",
      "[Parallel(n_jobs=-1)]: Done 2400 out of 2400 | elapsed:   28.0s finished\n",
      "C:\\Users\\chris\\Anaconda2\\lib\\site-packages\\sklearn\\model_selection\\_search.py:841: DeprecationWarning: The default of the `iid` parameter will change from True to False in version 0.22 and will be removed in 0.24. This will change numeric results when test-set sizes are unequal.\n",
      "  DeprecationWarning)\n"
     ]
    },
    {
     "name": "stdout",
     "output_type": "stream",
     "text": [
      "Games predicted: 245\n",
      "\n",
      "\n",
      "Now Starting Simulation Number: 335\n",
      "\n",
      "\n",
      "{'n_estimators': [10, 12, 14, 16, 18, 20, 22, 24, 26, 28], 'loss': ['ls', 'huber'], 'learning_rate': array([0.1, 0.2, 0.3, 0.4, 0.5, 0.6]), 'max_depth': [1, 2, 3, 4]}\n",
      "Fitting 5 folds for each of 480 candidates, totalling 2400 fits\n"
     ]
    },
    {
     "name": "stderr",
     "output_type": "stream",
     "text": [
      "[Parallel(n_jobs=-1)]: Using backend LokyBackend with 4 concurrent workers.\n",
      "[Parallel(n_jobs=-1)]: Done 136 tasks      | elapsed:    1.1s\n",
      "[Parallel(n_jobs=-1)]: Done 904 tasks      | elapsed:   10.5s\n",
      "[Parallel(n_jobs=-1)]: Done 2184 tasks      | elapsed:   27.0s\n",
      "[Parallel(n_jobs=-1)]: Done 2400 out of 2400 | elapsed:   30.7s finished\n",
      "C:\\Users\\chris\\Anaconda2\\lib\\site-packages\\sklearn\\model_selection\\_search.py:841: DeprecationWarning: The default of the `iid` parameter will change from True to False in version 0.22 and will be removed in 0.24. This will change numeric results when test-set sizes are unequal.\n",
      "  DeprecationWarning)\n"
     ]
    },
    {
     "name": "stdout",
     "output_type": "stream",
     "text": [
      "Fitting 5 folds for each of 480 candidates, totalling 2400 fits\n"
     ]
    },
    {
     "name": "stderr",
     "output_type": "stream",
     "text": [
      "[Parallel(n_jobs=-1)]: Using backend LokyBackend with 4 concurrent workers.\n",
      "[Parallel(n_jobs=-1)]: Done 136 tasks      | elapsed:    1.3s\n",
      "[Parallel(n_jobs=-1)]: Done 904 tasks      | elapsed:   11.1s\n",
      "[Parallel(n_jobs=-1)]: Done 2184 tasks      | elapsed:   26.1s\n",
      "[Parallel(n_jobs=-1)]: Done 2400 out of 2400 | elapsed:   29.5s finished\n",
      "C:\\Users\\chris\\Anaconda2\\lib\\site-packages\\sklearn\\model_selection\\_search.py:841: DeprecationWarning: The default of the `iid` parameter will change from True to False in version 0.22 and will be removed in 0.24. This will change numeric results when test-set sizes are unequal.\n",
      "  DeprecationWarning)\n"
     ]
    },
    {
     "name": "stdout",
     "output_type": "stream",
     "text": [
      "Games predicted: 245\n",
      "\n",
      "\n",
      "Now Starting Simulation Number: 336\n",
      "\n",
      "\n",
      "{'n_estimators': [10, 12, 14, 16, 18, 20, 22, 24, 26, 28], 'loss': ['ls', 'huber'], 'learning_rate': array([0.1, 0.2, 0.3, 0.4, 0.5, 0.6]), 'max_depth': [1, 2, 3, 4]}\n",
      "Fitting 5 folds for each of 480 candidates, totalling 2400 fits\n"
     ]
    },
    {
     "name": "stderr",
     "output_type": "stream",
     "text": [
      "[Parallel(n_jobs=-1)]: Using backend LokyBackend with 4 concurrent workers.\n",
      "[Parallel(n_jobs=-1)]: Done 136 tasks      | elapsed:    1.1s\n",
      "[Parallel(n_jobs=-1)]: Done 904 tasks      | elapsed:   10.3s\n",
      "[Parallel(n_jobs=-1)]: Done 2184 tasks      | elapsed:   25.2s\n",
      "[Parallel(n_jobs=-1)]: Done 2400 out of 2400 | elapsed:   28.6s finished\n",
      "C:\\Users\\chris\\Anaconda2\\lib\\site-packages\\sklearn\\model_selection\\_search.py:841: DeprecationWarning: The default of the `iid` parameter will change from True to False in version 0.22 and will be removed in 0.24. This will change numeric results when test-set sizes are unequal.\n",
      "  DeprecationWarning)\n"
     ]
    },
    {
     "name": "stdout",
     "output_type": "stream",
     "text": [
      "Fitting 5 folds for each of 480 candidates, totalling 2400 fits\n"
     ]
    },
    {
     "name": "stderr",
     "output_type": "stream",
     "text": [
      "[Parallel(n_jobs=-1)]: Using backend LokyBackend with 4 concurrent workers.\n",
      "[Parallel(n_jobs=-1)]: Done 136 tasks      | elapsed:    1.2s\n",
      "[Parallel(n_jobs=-1)]: Done 904 tasks      | elapsed:   10.5s\n",
      "[Parallel(n_jobs=-1)]: Done 2184 tasks      | elapsed:   26.8s\n",
      "[Parallel(n_jobs=-1)]: Done 2400 out of 2400 | elapsed:   30.7s finished\n",
      "C:\\Users\\chris\\Anaconda2\\lib\\site-packages\\sklearn\\model_selection\\_search.py:841: DeprecationWarning: The default of the `iid` parameter will change from True to False in version 0.22 and will be removed in 0.24. This will change numeric results when test-set sizes are unequal.\n",
      "  DeprecationWarning)\n"
     ]
    },
    {
     "name": "stdout",
     "output_type": "stream",
     "text": [
      "Games predicted: 245\n",
      "\n",
      "\n",
      "Now Starting Simulation Number: 337\n",
      "\n",
      "\n",
      "{'n_estimators': [10, 12, 14, 16, 18, 20, 22, 24, 26, 28], 'loss': ['ls', 'huber'], 'learning_rate': array([0.1, 0.2, 0.3, 0.4, 0.5, 0.6]), 'max_depth': [1, 2, 3, 4]}\n",
      "Fitting 5 folds for each of 480 candidates, totalling 2400 fits\n"
     ]
    },
    {
     "name": "stderr",
     "output_type": "stream",
     "text": [
      "[Parallel(n_jobs=-1)]: Using backend LokyBackend with 4 concurrent workers.\n",
      "[Parallel(n_jobs=-1)]: Done 136 tasks      | elapsed:    1.2s\n",
      "[Parallel(n_jobs=-1)]: Done 904 tasks      | elapsed:   10.2s\n",
      "[Parallel(n_jobs=-1)]: Done 2184 tasks      | elapsed:   25.1s\n",
      "[Parallel(n_jobs=-1)]: Done 2400 out of 2400 | elapsed:   29.0s finished\n",
      "C:\\Users\\chris\\Anaconda2\\lib\\site-packages\\sklearn\\model_selection\\_search.py:841: DeprecationWarning: The default of the `iid` parameter will change from True to False in version 0.22 and will be removed in 0.24. This will change numeric results when test-set sizes are unequal.\n",
      "  DeprecationWarning)\n"
     ]
    },
    {
     "name": "stdout",
     "output_type": "stream",
     "text": [
      "Fitting 5 folds for each of 480 candidates, totalling 2400 fits\n"
     ]
    },
    {
     "name": "stderr",
     "output_type": "stream",
     "text": [
      "[Parallel(n_jobs=-1)]: Using backend LokyBackend with 4 concurrent workers.\n",
      "[Parallel(n_jobs=-1)]: Done 168 tasks      | elapsed:    1.4s\n",
      "[Parallel(n_jobs=-1)]: Done 1128 tasks      | elapsed:   12.9s\n",
      "[Parallel(n_jobs=-1)]: Done 2400 out of 2400 | elapsed:   29.1s finished\n",
      "C:\\Users\\chris\\Anaconda2\\lib\\site-packages\\sklearn\\model_selection\\_search.py:841: DeprecationWarning: The default of the `iid` parameter will change from True to False in version 0.22 and will be removed in 0.24. This will change numeric results when test-set sizes are unequal.\n",
      "  DeprecationWarning)\n"
     ]
    },
    {
     "name": "stdout",
     "output_type": "stream",
     "text": [
      "Games predicted: 245\n",
      "\n",
      "\n",
      "Now Starting Simulation Number: 338\n",
      "\n",
      "\n",
      "{'n_estimators': [10, 12, 14, 16, 18, 20, 22, 24, 26, 28], 'loss': ['ls', 'huber'], 'learning_rate': array([0.1, 0.2, 0.3, 0.4, 0.5, 0.6]), 'max_depth': [1, 2, 3, 4]}\n",
      "Fitting 5 folds for each of 480 candidates, totalling 2400 fits\n"
     ]
    },
    {
     "name": "stderr",
     "output_type": "stream",
     "text": [
      "[Parallel(n_jobs=-1)]: Using backend LokyBackend with 4 concurrent workers.\n",
      "[Parallel(n_jobs=-1)]: Done 104 tasks      | elapsed:    0.9s\n",
      "[Parallel(n_jobs=-1)]: Done 872 tasks      | elapsed:   11.0s\n",
      "[Parallel(n_jobs=-1)]: Done 2152 tasks      | elapsed:   26.0s\n",
      "[Parallel(n_jobs=-1)]: Done 2400 out of 2400 | elapsed:   29.6s finished\n",
      "C:\\Users\\chris\\Anaconda2\\lib\\site-packages\\sklearn\\model_selection\\_search.py:841: DeprecationWarning: The default of the `iid` parameter will change from True to False in version 0.22 and will be removed in 0.24. This will change numeric results when test-set sizes are unequal.\n",
      "  DeprecationWarning)\n"
     ]
    },
    {
     "name": "stdout",
     "output_type": "stream",
     "text": [
      "Fitting 5 folds for each of 480 candidates, totalling 2400 fits\n"
     ]
    },
    {
     "name": "stderr",
     "output_type": "stream",
     "text": [
      "[Parallel(n_jobs=-1)]: Using backend LokyBackend with 4 concurrent workers.\n",
      "[Parallel(n_jobs=-1)]: Done 136 tasks      | elapsed:    1.1s\n",
      "[Parallel(n_jobs=-1)]: Done 904 tasks      | elapsed:   10.1s\n",
      "[Parallel(n_jobs=-1)]: Done 2184 tasks      | elapsed:   24.9s\n",
      "[Parallel(n_jobs=-1)]: Done 2400 out of 2400 | elapsed:   28.3s finished\n",
      "C:\\Users\\chris\\Anaconda2\\lib\\site-packages\\sklearn\\model_selection\\_search.py:841: DeprecationWarning: The default of the `iid` parameter will change from True to False in version 0.22 and will be removed in 0.24. This will change numeric results when test-set sizes are unequal.\n",
      "  DeprecationWarning)\n"
     ]
    },
    {
     "name": "stdout",
     "output_type": "stream",
     "text": [
      "Games predicted: 245\n",
      "\n",
      "\n",
      "Now Starting Simulation Number: 339\n",
      "\n",
      "\n",
      "{'n_estimators': [10, 12, 14, 16, 18, 20, 22, 24, 26, 28], 'loss': ['ls', 'huber'], 'learning_rate': array([0.1, 0.2, 0.3, 0.4, 0.5, 0.6]), 'max_depth': [1, 2, 3, 4]}\n",
      "Fitting 5 folds for each of 480 candidates, totalling 2400 fits\n"
     ]
    },
    {
     "name": "stderr",
     "output_type": "stream",
     "text": [
      "[Parallel(n_jobs=-1)]: Using backend LokyBackend with 4 concurrent workers.\n",
      "[Parallel(n_jobs=-1)]: Done 136 tasks      | elapsed:    1.0s\n",
      "[Parallel(n_jobs=-1)]: Done 904 tasks      | elapsed:   10.6s\n",
      "[Parallel(n_jobs=-1)]: Done 2184 tasks      | elapsed:   25.9s\n",
      "[Parallel(n_jobs=-1)]: Done 2400 out of 2400 | elapsed:   29.2s finished\n",
      "C:\\Users\\chris\\Anaconda2\\lib\\site-packages\\sklearn\\model_selection\\_search.py:841: DeprecationWarning: The default of the `iid` parameter will change from True to False in version 0.22 and will be removed in 0.24. This will change numeric results when test-set sizes are unequal.\n",
      "  DeprecationWarning)\n"
     ]
    },
    {
     "name": "stdout",
     "output_type": "stream",
     "text": [
      "Fitting 5 folds for each of 480 candidates, totalling 2400 fits\n"
     ]
    },
    {
     "name": "stderr",
     "output_type": "stream",
     "text": [
      "[Parallel(n_jobs=-1)]: Using backend LokyBackend with 4 concurrent workers.\n",
      "[Parallel(n_jobs=-1)]: Done 200 tasks      | elapsed:    1.8s\n",
      "[Parallel(n_jobs=-1)]: Done 1352 tasks      | elapsed:   15.9s\n",
      "[Parallel(n_jobs=-1)]: Done 2400 out of 2400 | elapsed:   28.7s finished\n",
      "C:\\Users\\chris\\Anaconda2\\lib\\site-packages\\sklearn\\model_selection\\_search.py:841: DeprecationWarning: The default of the `iid` parameter will change from True to False in version 0.22 and will be removed in 0.24. This will change numeric results when test-set sizes are unequal.\n",
      "  DeprecationWarning)\n"
     ]
    },
    {
     "name": "stdout",
     "output_type": "stream",
     "text": [
      "Games predicted: 245\n",
      "\n",
      "\n",
      "Now Starting Simulation Number: 340\n",
      "\n",
      "\n",
      "{'n_estimators': [10, 12, 14, 16, 18, 20, 22, 24, 26, 28], 'loss': ['ls', 'huber'], 'learning_rate': array([0.1, 0.2, 0.3, 0.4, 0.5, 0.6]), 'max_depth': [1, 2, 3, 4]}\n",
      "Fitting 5 folds for each of 480 candidates, totalling 2400 fits\n"
     ]
    },
    {
     "name": "stderr",
     "output_type": "stream",
     "text": [
      "[Parallel(n_jobs=-1)]: Using backend LokyBackend with 4 concurrent workers.\n",
      "[Parallel(n_jobs=-1)]: Done 136 tasks      | elapsed:    1.1s\n",
      "[Parallel(n_jobs=-1)]: Done 904 tasks      | elapsed:   10.4s\n",
      "[Parallel(n_jobs=-1)]: Done 2184 tasks      | elapsed:   26.3s\n",
      "[Parallel(n_jobs=-1)]: Done 2400 out of 2400 | elapsed:   29.5s finished\n",
      "C:\\Users\\chris\\Anaconda2\\lib\\site-packages\\sklearn\\model_selection\\_search.py:841: DeprecationWarning: The default of the `iid` parameter will change from True to False in version 0.22 and will be removed in 0.24. This will change numeric results when test-set sizes are unequal.\n",
      "  DeprecationWarning)\n"
     ]
    },
    {
     "name": "stdout",
     "output_type": "stream",
     "text": [
      "Fitting 5 folds for each of 480 candidates, totalling 2400 fits\n"
     ]
    },
    {
     "name": "stderr",
     "output_type": "stream",
     "text": [
      "[Parallel(n_jobs=-1)]: Using backend LokyBackend with 4 concurrent workers.\n",
      "[Parallel(n_jobs=-1)]: Done 152 tasks      | elapsed:    1.2s\n",
      "[Parallel(n_jobs=-1)]: Done 1304 tasks      | elapsed:   14.4s\n",
      "[Parallel(n_jobs=-1)]: Done 2400 out of 2400 | elapsed:   27.4s finished\n",
      "C:\\Users\\chris\\Anaconda2\\lib\\site-packages\\sklearn\\model_selection\\_search.py:841: DeprecationWarning: The default of the `iid` parameter will change from True to False in version 0.22 and will be removed in 0.24. This will change numeric results when test-set sizes are unequal.\n",
      "  DeprecationWarning)\n"
     ]
    },
    {
     "name": "stdout",
     "output_type": "stream",
     "text": [
      "Games predicted: 245\n",
      "\n",
      "\n",
      "Now Starting Simulation Number: 341\n",
      "\n",
      "\n",
      "{'n_estimators': [10, 12, 14, 16, 18, 20, 22, 24, 26, 28], 'loss': ['ls', 'huber'], 'learning_rate': array([0.1, 0.2, 0.3, 0.4, 0.5, 0.6]), 'max_depth': [1, 2, 3, 4]}\n",
      "Fitting 5 folds for each of 480 candidates, totalling 2400 fits\n"
     ]
    },
    {
     "name": "stderr",
     "output_type": "stream",
     "text": [
      "[Parallel(n_jobs=-1)]: Using backend LokyBackend with 4 concurrent workers.\n",
      "[Parallel(n_jobs=-1)]: Done 136 tasks      | elapsed:    1.0s\n",
      "[Parallel(n_jobs=-1)]: Done 904 tasks      | elapsed:    9.8s\n",
      "[Parallel(n_jobs=-1)]: Done 2184 tasks      | elapsed:   25.0s\n",
      "[Parallel(n_jobs=-1)]: Done 2400 out of 2400 | elapsed:   28.5s finished\n",
      "C:\\Users\\chris\\Anaconda2\\lib\\site-packages\\sklearn\\model_selection\\_search.py:841: DeprecationWarning: The default of the `iid` parameter will change from True to False in version 0.22 and will be removed in 0.24. This will change numeric results when test-set sizes are unequal.\n",
      "  DeprecationWarning)\n"
     ]
    },
    {
     "name": "stdout",
     "output_type": "stream",
     "text": [
      "Fitting 5 folds for each of 480 candidates, totalling 2400 fits\n"
     ]
    },
    {
     "name": "stderr",
     "output_type": "stream",
     "text": [
      "[Parallel(n_jobs=-1)]: Using backend LokyBackend with 4 concurrent workers.\n",
      "[Parallel(n_jobs=-1)]: Done 184 tasks      | elapsed:    1.7s\n",
      "[Parallel(n_jobs=-1)]: Done 1144 tasks      | elapsed:   14.2s\n",
      "[Parallel(n_jobs=-1)]: Done 2400 out of 2400 | elapsed:   29.5s finished\n",
      "C:\\Users\\chris\\Anaconda2\\lib\\site-packages\\sklearn\\model_selection\\_search.py:841: DeprecationWarning: The default of the `iid` parameter will change from True to False in version 0.22 and will be removed in 0.24. This will change numeric results when test-set sizes are unequal.\n",
      "  DeprecationWarning)\n"
     ]
    },
    {
     "name": "stdout",
     "output_type": "stream",
     "text": [
      "Games predicted: 245\n",
      "\n",
      "\n",
      "Now Starting Simulation Number: 342\n",
      "\n",
      "\n",
      "{'n_estimators': [10, 12, 14, 16, 18, 20, 22, 24, 26, 28], 'loss': ['ls', 'huber'], 'learning_rate': array([0.1, 0.2, 0.3, 0.4, 0.5, 0.6]), 'max_depth': [1, 2, 3, 4]}\n",
      "Fitting 5 folds for each of 480 candidates, totalling 2400 fits\n"
     ]
    },
    {
     "name": "stderr",
     "output_type": "stream",
     "text": [
      "[Parallel(n_jobs=-1)]: Using backend LokyBackend with 4 concurrent workers.\n",
      "[Parallel(n_jobs=-1)]: Done 104 tasks      | elapsed:    0.7s\n",
      "[Parallel(n_jobs=-1)]: Done 680 tasks      | elapsed:    7.1s\n",
      "[Parallel(n_jobs=-1)]: Done 1640 tasks      | elapsed:   18.7s\n",
      "[Parallel(n_jobs=-1)]: Done 2400 out of 2400 | elapsed:   27.7s finished\n",
      "C:\\Users\\chris\\Anaconda2\\lib\\site-packages\\sklearn\\model_selection\\_search.py:841: DeprecationWarning: The default of the `iid` parameter will change from True to False in version 0.22 and will be removed in 0.24. This will change numeric results when test-set sizes are unequal.\n",
      "  DeprecationWarning)\n"
     ]
    },
    {
     "name": "stdout",
     "output_type": "stream",
     "text": [
      "Fitting 5 folds for each of 480 candidates, totalling 2400 fits\n"
     ]
    },
    {
     "name": "stderr",
     "output_type": "stream",
     "text": [
      "[Parallel(n_jobs=-1)]: Using backend LokyBackend with 4 concurrent workers.\n",
      "[Parallel(n_jobs=-1)]: Done 136 tasks      | elapsed:    1.1s\n",
      "[Parallel(n_jobs=-1)]: Done 904 tasks      | elapsed:   10.4s\n",
      "[Parallel(n_jobs=-1)]: Done 2184 tasks      | elapsed:   26.3s\n",
      "[Parallel(n_jobs=-1)]: Done 2400 out of 2400 | elapsed:   29.8s finished\n",
      "C:\\Users\\chris\\Anaconda2\\lib\\site-packages\\sklearn\\model_selection\\_search.py:841: DeprecationWarning: The default of the `iid` parameter will change from True to False in version 0.22 and will be removed in 0.24. This will change numeric results when test-set sizes are unequal.\n",
      "  DeprecationWarning)\n"
     ]
    },
    {
     "name": "stdout",
     "output_type": "stream",
     "text": [
      "Games predicted: 245\n",
      "\n",
      "\n",
      "Now Starting Simulation Number: 343\n",
      "\n",
      "\n",
      "{'n_estimators': [10, 12, 14, 16, 18, 20, 22, 24, 26, 28], 'loss': ['ls', 'huber'], 'learning_rate': array([0.1, 0.2, 0.3, 0.4, 0.5, 0.6]), 'max_depth': [1, 2, 3, 4]}\n",
      "Fitting 5 folds for each of 480 candidates, totalling 2400 fits\n"
     ]
    },
    {
     "name": "stderr",
     "output_type": "stream",
     "text": [
      "[Parallel(n_jobs=-1)]: Using backend LokyBackend with 4 concurrent workers.\n",
      "[Parallel(n_jobs=-1)]: Done 136 tasks      | elapsed:    1.1s\n",
      "[Parallel(n_jobs=-1)]: Done 904 tasks      | elapsed:   10.3s\n",
      "[Parallel(n_jobs=-1)]: Done 2184 tasks      | elapsed:   24.9s\n",
      "[Parallel(n_jobs=-1)]: Done 2400 out of 2400 | elapsed:   28.1s finished\n",
      "C:\\Users\\chris\\Anaconda2\\lib\\site-packages\\sklearn\\model_selection\\_search.py:841: DeprecationWarning: The default of the `iid` parameter will change from True to False in version 0.22 and will be removed in 0.24. This will change numeric results when test-set sizes are unequal.\n",
      "  DeprecationWarning)\n"
     ]
    },
    {
     "name": "stdout",
     "output_type": "stream",
     "text": [
      "Fitting 5 folds for each of 480 candidates, totalling 2400 fits\n"
     ]
    },
    {
     "name": "stderr",
     "output_type": "stream",
     "text": [
      "[Parallel(n_jobs=-1)]: Using backend LokyBackend with 4 concurrent workers.\n",
      "[Parallel(n_jobs=-1)]: Done 200 tasks      | elapsed:    1.7s\n",
      "[Parallel(n_jobs=-1)]: Done 1352 tasks      | elapsed:   15.0s\n",
      "[Parallel(n_jobs=-1)]: Done 2400 out of 2400 | elapsed:   28.4s finished\n",
      "C:\\Users\\chris\\Anaconda2\\lib\\site-packages\\sklearn\\model_selection\\_search.py:841: DeprecationWarning: The default of the `iid` parameter will change from True to False in version 0.22 and will be removed in 0.24. This will change numeric results when test-set sizes are unequal.\n",
      "  DeprecationWarning)\n"
     ]
    },
    {
     "name": "stdout",
     "output_type": "stream",
     "text": [
      "Games predicted: 245\n",
      "\n",
      "\n",
      "Now Starting Simulation Number: 344\n",
      "\n",
      "\n",
      "{'n_estimators': [10, 12, 14, 16, 18, 20, 22, 24, 26, 28], 'loss': ['ls', 'huber'], 'learning_rate': array([0.1, 0.2, 0.3, 0.4, 0.5, 0.6]), 'max_depth': [1, 2, 3, 4]}\n",
      "Fitting 5 folds for each of 480 candidates, totalling 2400 fits\n"
     ]
    },
    {
     "name": "stderr",
     "output_type": "stream",
     "text": [
      "[Parallel(n_jobs=-1)]: Using backend LokyBackend with 4 concurrent workers.\n",
      "[Parallel(n_jobs=-1)]: Done 104 tasks      | elapsed:    0.8s\n",
      "[Parallel(n_jobs=-1)]: Done 680 tasks      | elapsed:    7.5s\n",
      "[Parallel(n_jobs=-1)]: Done 1640 tasks      | elapsed:   20.7s\n",
      "[Parallel(n_jobs=-1)]: Done 2400 out of 2400 | elapsed:   31.0s finished\n",
      "C:\\Users\\chris\\Anaconda2\\lib\\site-packages\\sklearn\\model_selection\\_search.py:841: DeprecationWarning: The default of the `iid` parameter will change from True to False in version 0.22 and will be removed in 0.24. This will change numeric results when test-set sizes are unequal.\n",
      "  DeprecationWarning)\n"
     ]
    },
    {
     "name": "stdout",
     "output_type": "stream",
     "text": [
      "Fitting 5 folds for each of 480 candidates, totalling 2400 fits\n"
     ]
    },
    {
     "name": "stderr",
     "output_type": "stream",
     "text": [
      "[Parallel(n_jobs=-1)]: Using backend LokyBackend with 4 concurrent workers.\n",
      "[Parallel(n_jobs=-1)]: Done 136 tasks      | elapsed:    1.2s\n",
      "[Parallel(n_jobs=-1)]: Done 904 tasks      | elapsed:   10.2s\n",
      "[Parallel(n_jobs=-1)]: Done 2184 tasks      | elapsed:   25.3s\n",
      "[Parallel(n_jobs=-1)]: Done 2400 out of 2400 | elapsed:   28.7s finished\n",
      "C:\\Users\\chris\\Anaconda2\\lib\\site-packages\\sklearn\\model_selection\\_search.py:841: DeprecationWarning: The default of the `iid` parameter will change from True to False in version 0.22 and will be removed in 0.24. This will change numeric results when test-set sizes are unequal.\n",
      "  DeprecationWarning)\n"
     ]
    },
    {
     "name": "stdout",
     "output_type": "stream",
     "text": [
      "Games predicted: 245\n",
      "\n",
      "\n",
      "Now Starting Simulation Number: 345\n",
      "\n",
      "\n",
      "{'n_estimators': [10, 12, 14, 16, 18, 20, 22, 24, 26, 28], 'loss': ['ls', 'huber'], 'learning_rate': array([0.1, 0.2, 0.3, 0.4, 0.5, 0.6]), 'max_depth': [1, 2, 3, 4]}\n",
      "Fitting 5 folds for each of 480 candidates, totalling 2400 fits\n"
     ]
    },
    {
     "name": "stderr",
     "output_type": "stream",
     "text": [
      "[Parallel(n_jobs=-1)]: Using backend LokyBackend with 4 concurrent workers.\n",
      "[Parallel(n_jobs=-1)]: Done 136 tasks      | elapsed:    1.0s\n",
      "[Parallel(n_jobs=-1)]: Done 904 tasks      | elapsed:   10.0s\n",
      "[Parallel(n_jobs=-1)]: Done 2184 tasks      | elapsed:   24.8s\n",
      "[Parallel(n_jobs=-1)]: Done 2400 out of 2400 | elapsed:   28.0s finished\n",
      "C:\\Users\\chris\\Anaconda2\\lib\\site-packages\\sklearn\\model_selection\\_search.py:841: DeprecationWarning: The default of the `iid` parameter will change from True to False in version 0.22 and will be removed in 0.24. This will change numeric results when test-set sizes are unequal.\n",
      "  DeprecationWarning)\n"
     ]
    },
    {
     "name": "stdout",
     "output_type": "stream",
     "text": [
      "Fitting 5 folds for each of 480 candidates, totalling 2400 fits\n"
     ]
    },
    {
     "name": "stderr",
     "output_type": "stream",
     "text": [
      "[Parallel(n_jobs=-1)]: Using backend LokyBackend with 4 concurrent workers.\n",
      "[Parallel(n_jobs=-1)]: Done 200 tasks      | elapsed:    1.9s\n",
      "[Parallel(n_jobs=-1)]: Done 1352 tasks      | elapsed:   16.3s\n",
      "[Parallel(n_jobs=-1)]: Done 2400 out of 2400 | elapsed:   29.3s finished\n",
      "C:\\Users\\chris\\Anaconda2\\lib\\site-packages\\sklearn\\model_selection\\_search.py:841: DeprecationWarning: The default of the `iid` parameter will change from True to False in version 0.22 and will be removed in 0.24. This will change numeric results when test-set sizes are unequal.\n",
      "  DeprecationWarning)\n"
     ]
    },
    {
     "name": "stdout",
     "output_type": "stream",
     "text": [
      "Games predicted: 245\n",
      "\n",
      "\n",
      "Now Starting Simulation Number: 346\n",
      "\n",
      "\n",
      "{'n_estimators': [10, 12, 14, 16, 18, 20, 22, 24, 26, 28], 'loss': ['ls', 'huber'], 'learning_rate': array([0.1, 0.2, 0.3, 0.4, 0.5, 0.6]), 'max_depth': [1, 2, 3, 4]}\n",
      "Fitting 5 folds for each of 480 candidates, totalling 2400 fits\n"
     ]
    },
    {
     "name": "stderr",
     "output_type": "stream",
     "text": [
      "[Parallel(n_jobs=-1)]: Using backend LokyBackend with 4 concurrent workers.\n",
      "[Parallel(n_jobs=-1)]: Done 136 tasks      | elapsed:    1.1s\n",
      "[Parallel(n_jobs=-1)]: Done 904 tasks      | elapsed:   10.0s\n",
      "[Parallel(n_jobs=-1)]: Done 2184 tasks      | elapsed:   24.6s\n",
      "[Parallel(n_jobs=-1)]: Done 2400 out of 2400 | elapsed:   27.7s finished\n",
      "C:\\Users\\chris\\Anaconda2\\lib\\site-packages\\sklearn\\model_selection\\_search.py:841: DeprecationWarning: The default of the `iid` parameter will change from True to False in version 0.22 and will be removed in 0.24. This will change numeric results when test-set sizes are unequal.\n",
      "  DeprecationWarning)\n"
     ]
    },
    {
     "name": "stdout",
     "output_type": "stream",
     "text": [
      "Fitting 5 folds for each of 480 candidates, totalling 2400 fits\n"
     ]
    },
    {
     "name": "stderr",
     "output_type": "stream",
     "text": [
      "[Parallel(n_jobs=-1)]: Using backend LokyBackend with 4 concurrent workers.\n",
      "[Parallel(n_jobs=-1)]: Done 168 tasks      | elapsed:    1.4s\n",
      "[Parallel(n_jobs=-1)]: Done 1128 tasks      | elapsed:   12.8s\n",
      "[Parallel(n_jobs=-1)]: Done 2400 out of 2400 | elapsed:   29.4s finished\n",
      "C:\\Users\\chris\\Anaconda2\\lib\\site-packages\\sklearn\\model_selection\\_search.py:841: DeprecationWarning: The default of the `iid` parameter will change from True to False in version 0.22 and will be removed in 0.24. This will change numeric results when test-set sizes are unequal.\n",
      "  DeprecationWarning)\n"
     ]
    },
    {
     "name": "stdout",
     "output_type": "stream",
     "text": [
      "Games predicted: 245\n",
      "\n",
      "\n",
      "Now Starting Simulation Number: 347\n",
      "\n",
      "\n",
      "{'n_estimators': [10, 12, 14, 16, 18, 20, 22, 24, 26, 28], 'loss': ['ls', 'huber'], 'learning_rate': array([0.1, 0.2, 0.3, 0.4, 0.5, 0.6]), 'max_depth': [1, 2, 3, 4]}\n",
      "Fitting 5 folds for each of 480 candidates, totalling 2400 fits\n"
     ]
    },
    {
     "name": "stderr",
     "output_type": "stream",
     "text": [
      "[Parallel(n_jobs=-1)]: Using backend LokyBackend with 4 concurrent workers.\n",
      "[Parallel(n_jobs=-1)]: Done 104 tasks      | elapsed:    0.8s\n",
      "[Parallel(n_jobs=-1)]: Done 680 tasks      | elapsed:    7.9s\n",
      "[Parallel(n_jobs=-1)]: Done 1640 tasks      | elapsed:   19.7s\n",
      "[Parallel(n_jobs=-1)]: Done 2400 out of 2400 | elapsed:   28.7s finished\n",
      "C:\\Users\\chris\\Anaconda2\\lib\\site-packages\\sklearn\\model_selection\\_search.py:841: DeprecationWarning: The default of the `iid` parameter will change from True to False in version 0.22 and will be removed in 0.24. This will change numeric results when test-set sizes are unequal.\n",
      "  DeprecationWarning)\n"
     ]
    },
    {
     "name": "stdout",
     "output_type": "stream",
     "text": [
      "Fitting 5 folds for each of 480 candidates, totalling 2400 fits\n"
     ]
    },
    {
     "name": "stderr",
     "output_type": "stream",
     "text": [
      "[Parallel(n_jobs=-1)]: Using backend LokyBackend with 4 concurrent workers.\n",
      "[Parallel(n_jobs=-1)]: Done 168 tasks      | elapsed:    1.4s\n",
      "[Parallel(n_jobs=-1)]: Done 1128 tasks      | elapsed:   12.4s\n",
      "[Parallel(n_jobs=-1)]: Done 2400 out of 2400 | elapsed:   27.5s finished\n",
      "C:\\Users\\chris\\Anaconda2\\lib\\site-packages\\sklearn\\model_selection\\_search.py:841: DeprecationWarning: The default of the `iid` parameter will change from True to False in version 0.22 and will be removed in 0.24. This will change numeric results when test-set sizes are unequal.\n",
      "  DeprecationWarning)\n"
     ]
    },
    {
     "name": "stdout",
     "output_type": "stream",
     "text": [
      "Games predicted: 245\n",
      "\n",
      "\n",
      "Now Starting Simulation Number: 348\n",
      "\n",
      "\n",
      "{'n_estimators': [10, 12, 14, 16, 18, 20, 22, 24, 26, 28], 'loss': ['ls', 'huber'], 'learning_rate': array([0.1, 0.2, 0.3, 0.4, 0.5, 0.6]), 'max_depth': [1, 2, 3, 4]}\n",
      "Fitting 5 folds for each of 480 candidates, totalling 2400 fits\n"
     ]
    },
    {
     "name": "stderr",
     "output_type": "stream",
     "text": [
      "[Parallel(n_jobs=-1)]: Using backend LokyBackend with 4 concurrent workers.\n",
      "[Parallel(n_jobs=-1)]: Done 136 tasks      | elapsed:    1.1s\n",
      "[Parallel(n_jobs=-1)]: Done 904 tasks      | elapsed:   10.8s\n",
      "[Parallel(n_jobs=-1)]: Done 2184 tasks      | elapsed:   26.5s\n",
      "[Parallel(n_jobs=-1)]: Done 2400 out of 2400 | elapsed:   29.7s finished\n",
      "C:\\Users\\chris\\Anaconda2\\lib\\site-packages\\sklearn\\model_selection\\_search.py:841: DeprecationWarning: The default of the `iid` parameter will change from True to False in version 0.22 and will be removed in 0.24. This will change numeric results when test-set sizes are unequal.\n",
      "  DeprecationWarning)\n"
     ]
    },
    {
     "name": "stdout",
     "output_type": "stream",
     "text": [
      "Fitting 5 folds for each of 480 candidates, totalling 2400 fits\n"
     ]
    },
    {
     "name": "stderr",
     "output_type": "stream",
     "text": [
      "[Parallel(n_jobs=-1)]: Using backend LokyBackend with 4 concurrent workers.\n",
      "[Parallel(n_jobs=-1)]: Done 216 tasks      | elapsed:    1.9s\n",
      "[Parallel(n_jobs=-1)]: Done 1467 tasks      | elapsed:   15.8s\n",
      "[Parallel(n_jobs=-1)]: Done 2400 out of 2400 | elapsed:   27.3s finished\n",
      "C:\\Users\\chris\\Anaconda2\\lib\\site-packages\\sklearn\\model_selection\\_search.py:841: DeprecationWarning: The default of the `iid` parameter will change from True to False in version 0.22 and will be removed in 0.24. This will change numeric results when test-set sizes are unequal.\n",
      "  DeprecationWarning)\n"
     ]
    },
    {
     "name": "stdout",
     "output_type": "stream",
     "text": [
      "Games predicted: 245\n",
      "\n",
      "\n",
      "Now Starting Simulation Number: 349\n",
      "\n",
      "\n",
      "{'n_estimators': [10, 12, 14, 16, 18, 20, 22, 24, 26, 28], 'loss': ['ls', 'huber'], 'learning_rate': array([0.1, 0.2, 0.3, 0.4, 0.5, 0.6]), 'max_depth': [1, 2, 3, 4]}\n",
      "Fitting 5 folds for each of 480 candidates, totalling 2400 fits\n"
     ]
    },
    {
     "name": "stderr",
     "output_type": "stream",
     "text": [
      "[Parallel(n_jobs=-1)]: Using backend LokyBackend with 4 concurrent workers.\n",
      "[Parallel(n_jobs=-1)]: Done 136 tasks      | elapsed:    1.1s\n",
      "[Parallel(n_jobs=-1)]: Done 904 tasks      | elapsed:   10.1s\n",
      "[Parallel(n_jobs=-1)]: Done 2184 tasks      | elapsed:   25.9s\n",
      "[Parallel(n_jobs=-1)]: Done 2400 out of 2400 | elapsed:   29.5s finished\n",
      "C:\\Users\\chris\\Anaconda2\\lib\\site-packages\\sklearn\\model_selection\\_search.py:841: DeprecationWarning: The default of the `iid` parameter will change from True to False in version 0.22 and will be removed in 0.24. This will change numeric results when test-set sizes are unequal.\n",
      "  DeprecationWarning)\n"
     ]
    },
    {
     "name": "stdout",
     "output_type": "stream",
     "text": [
      "Fitting 5 folds for each of 480 candidates, totalling 2400 fits\n"
     ]
    },
    {
     "name": "stderr",
     "output_type": "stream",
     "text": [
      "[Parallel(n_jobs=-1)]: Using backend LokyBackend with 4 concurrent workers.\n",
      "[Parallel(n_jobs=-1)]: Done 168 tasks      | elapsed:    1.5s\n",
      "[Parallel(n_jobs=-1)]: Done 1128 tasks      | elapsed:   13.1s\n",
      "[Parallel(n_jobs=-1)]: Done 2400 out of 2400 | elapsed:   28.2s finished\n",
      "C:\\Users\\chris\\Anaconda2\\lib\\site-packages\\sklearn\\model_selection\\_search.py:841: DeprecationWarning: The default of the `iid` parameter will change from True to False in version 0.22 and will be removed in 0.24. This will change numeric results when test-set sizes are unequal.\n",
      "  DeprecationWarning)\n"
     ]
    },
    {
     "name": "stdout",
     "output_type": "stream",
     "text": [
      "Games predicted: 245\n",
      "\n",
      "\n",
      "Now Starting Simulation Number: 350\n",
      "\n",
      "\n",
      "{'n_estimators': [10, 12, 14, 16, 18, 20, 22, 24, 26, 28], 'loss': ['ls', 'huber'], 'learning_rate': array([0.1, 0.2, 0.3, 0.4, 0.5, 0.6]), 'max_depth': [1, 2, 3, 4]}\n",
      "Fitting 5 folds for each of 480 candidates, totalling 2400 fits\n"
     ]
    },
    {
     "name": "stderr",
     "output_type": "stream",
     "text": [
      "[Parallel(n_jobs=-1)]: Using backend LokyBackend with 4 concurrent workers.\n",
      "[Parallel(n_jobs=-1)]: Done 104 tasks      | elapsed:    0.7s\n",
      "[Parallel(n_jobs=-1)]: Done 680 tasks      | elapsed:    7.0s\n",
      "[Parallel(n_jobs=-1)]: Done 1640 tasks      | elapsed:   19.0s\n",
      "[Parallel(n_jobs=-1)]: Done 2400 out of 2400 | elapsed:   28.8s finished\n",
      "C:\\Users\\chris\\Anaconda2\\lib\\site-packages\\sklearn\\model_selection\\_search.py:841: DeprecationWarning: The default of the `iid` parameter will change from True to False in version 0.22 and will be removed in 0.24. This will change numeric results when test-set sizes are unequal.\n",
      "  DeprecationWarning)\n"
     ]
    },
    {
     "name": "stdout",
     "output_type": "stream",
     "text": [
      "Fitting 5 folds for each of 480 candidates, totalling 2400 fits\n"
     ]
    },
    {
     "name": "stderr",
     "output_type": "stream",
     "text": [
      "[Parallel(n_jobs=-1)]: Using backend LokyBackend with 4 concurrent workers.\n",
      "[Parallel(n_jobs=-1)]: Done 136 tasks      | elapsed:    1.1s\n",
      "[Parallel(n_jobs=-1)]: Done 904 tasks      | elapsed:   10.9s\n",
      "[Parallel(n_jobs=-1)]: Done 2184 tasks      | elapsed:   26.2s\n",
      "[Parallel(n_jobs=-1)]: Done 2400 out of 2400 | elapsed:   29.5s finished\n",
      "C:\\Users\\chris\\Anaconda2\\lib\\site-packages\\sklearn\\model_selection\\_search.py:841: DeprecationWarning: The default of the `iid` parameter will change from True to False in version 0.22 and will be removed in 0.24. This will change numeric results when test-set sizes are unequal.\n",
      "  DeprecationWarning)\n"
     ]
    },
    {
     "name": "stdout",
     "output_type": "stream",
     "text": [
      "Games predicted: 245\n",
      "\n",
      "\n",
      "Now Starting Simulation Number: 351\n",
      "\n",
      "\n",
      "{'n_estimators': [10, 12, 14, 16, 18, 20, 22, 24, 26, 28], 'loss': ['ls', 'huber'], 'learning_rate': array([0.1, 0.2, 0.3, 0.4, 0.5, 0.6]), 'max_depth': [1, 2, 3, 4]}\n",
      "Fitting 5 folds for each of 480 candidates, totalling 2400 fits\n"
     ]
    },
    {
     "name": "stderr",
     "output_type": "stream",
     "text": [
      "[Parallel(n_jobs=-1)]: Using backend LokyBackend with 4 concurrent workers.\n",
      "[Parallel(n_jobs=-1)]: Done 104 tasks      | elapsed:    0.8s\n",
      "[Parallel(n_jobs=-1)]: Done 680 tasks      | elapsed:    7.1s\n",
      "[Parallel(n_jobs=-1)]: Done 1640 tasks      | elapsed:   18.8s\n",
      "[Parallel(n_jobs=-1)]: Done 2400 out of 2400 | elapsed:   27.8s finished\n",
      "C:\\Users\\chris\\Anaconda2\\lib\\site-packages\\sklearn\\model_selection\\_search.py:841: DeprecationWarning: The default of the `iid` parameter will change from True to False in version 0.22 and will be removed in 0.24. This will change numeric results when test-set sizes are unequal.\n",
      "  DeprecationWarning)\n"
     ]
    },
    {
     "name": "stdout",
     "output_type": "stream",
     "text": [
      "Fitting 5 folds for each of 480 candidates, totalling 2400 fits\n"
     ]
    },
    {
     "name": "stderr",
     "output_type": "stream",
     "text": [
      "[Parallel(n_jobs=-1)]: Using backend LokyBackend with 4 concurrent workers.\n",
      "[Parallel(n_jobs=-1)]: Done 168 tasks      | elapsed:    1.3s\n",
      "[Parallel(n_jobs=-1)]: Done 1128 tasks      | elapsed:   12.6s\n",
      "[Parallel(n_jobs=-1)]: Done 2400 out of 2400 | elapsed:   28.6s finished\n",
      "C:\\Users\\chris\\Anaconda2\\lib\\site-packages\\sklearn\\model_selection\\_search.py:841: DeprecationWarning: The default of the `iid` parameter will change from True to False in version 0.22 and will be removed in 0.24. This will change numeric results when test-set sizes are unequal.\n",
      "  DeprecationWarning)\n"
     ]
    },
    {
     "name": "stdout",
     "output_type": "stream",
     "text": [
      "Games predicted: 245\n",
      "\n",
      "\n",
      "Now Starting Simulation Number: 352\n",
      "\n",
      "\n",
      "{'n_estimators': [10, 12, 14, 16, 18, 20, 22, 24, 26, 28], 'loss': ['ls', 'huber'], 'learning_rate': array([0.1, 0.2, 0.3, 0.4, 0.5, 0.6]), 'max_depth': [1, 2, 3, 4]}\n",
      "Fitting 5 folds for each of 480 candidates, totalling 2400 fits\n"
     ]
    },
    {
     "name": "stderr",
     "output_type": "stream",
     "text": [
      "[Parallel(n_jobs=-1)]: Using backend LokyBackend with 4 concurrent workers.\n",
      "[Parallel(n_jobs=-1)]: Done 168 tasks      | elapsed:    1.5s\n",
      "[Parallel(n_jobs=-1)]: Done 1128 tasks      | elapsed:   13.2s\n",
      "[Parallel(n_jobs=-1)]: Done 2400 out of 2400 | elapsed:   28.2s finished\n",
      "C:\\Users\\chris\\Anaconda2\\lib\\site-packages\\sklearn\\model_selection\\_search.py:841: DeprecationWarning: The default of the `iid` parameter will change from True to False in version 0.22 and will be removed in 0.24. This will change numeric results when test-set sizes are unequal.\n",
      "  DeprecationWarning)\n"
     ]
    },
    {
     "name": "stdout",
     "output_type": "stream",
     "text": [
      "Fitting 5 folds for each of 480 candidates, totalling 2400 fits\n"
     ]
    },
    {
     "name": "stderr",
     "output_type": "stream",
     "text": [
      "[Parallel(n_jobs=-1)]: Using backend LokyBackend with 4 concurrent workers.\n",
      "[Parallel(n_jobs=-1)]: Done 136 tasks      | elapsed:    1.2s\n",
      "[Parallel(n_jobs=-1)]: Done 904 tasks      | elapsed:    9.9s\n",
      "[Parallel(n_jobs=-1)]: Done 2184 tasks      | elapsed:   24.6s\n",
      "[Parallel(n_jobs=-1)]: Done 2400 out of 2400 | elapsed:   27.7s finished\n",
      "C:\\Users\\chris\\Anaconda2\\lib\\site-packages\\sklearn\\model_selection\\_search.py:841: DeprecationWarning: The default of the `iid` parameter will change from True to False in version 0.22 and will be removed in 0.24. This will change numeric results when test-set sizes are unequal.\n",
      "  DeprecationWarning)\n"
     ]
    },
    {
     "name": "stdout",
     "output_type": "stream",
     "text": [
      "Games predicted: 245\n",
      "\n",
      "\n",
      "Now Starting Simulation Number: 353\n",
      "\n",
      "\n",
      "{'n_estimators': [10, 12, 14, 16, 18, 20, 22, 24, 26, 28], 'loss': ['ls', 'huber'], 'learning_rate': array([0.1, 0.2, 0.3, 0.4, 0.5, 0.6]), 'max_depth': [1, 2, 3, 4]}\n",
      "Fitting 5 folds for each of 480 candidates, totalling 2400 fits\n"
     ]
    },
    {
     "name": "stderr",
     "output_type": "stream",
     "text": [
      "[Parallel(n_jobs=-1)]: Using backend LokyBackend with 4 concurrent workers.\n",
      "[Parallel(n_jobs=-1)]: Done 136 tasks      | elapsed:    1.0s\n",
      "[Parallel(n_jobs=-1)]: Done 904 tasks      | elapsed:   10.7s\n",
      "[Parallel(n_jobs=-1)]: Done 2184 tasks      | elapsed:   25.4s\n",
      "[Parallel(n_jobs=-1)]: Done 2400 out of 2400 | elapsed:   28.5s finished\n",
      "C:\\Users\\chris\\Anaconda2\\lib\\site-packages\\sklearn\\model_selection\\_search.py:841: DeprecationWarning: The default of the `iid` parameter will change from True to False in version 0.22 and will be removed in 0.24. This will change numeric results when test-set sizes are unequal.\n",
      "  DeprecationWarning)\n"
     ]
    },
    {
     "name": "stdout",
     "output_type": "stream",
     "text": [
      "Fitting 5 folds for each of 480 candidates, totalling 2400 fits\n"
     ]
    },
    {
     "name": "stderr",
     "output_type": "stream",
     "text": [
      "[Parallel(n_jobs=-1)]: Using backend LokyBackend with 4 concurrent workers.\n",
      "[Parallel(n_jobs=-1)]: Done 136 tasks      | elapsed:    1.0s\n",
      "[Parallel(n_jobs=-1)]: Done 904 tasks      | elapsed:    9.8s\n",
      "[Parallel(n_jobs=-1)]: Done 2184 tasks      | elapsed:   24.4s\n",
      "[Parallel(n_jobs=-1)]: Done 2400 out of 2400 | elapsed:   27.6s finished\n",
      "C:\\Users\\chris\\Anaconda2\\lib\\site-packages\\sklearn\\model_selection\\_search.py:841: DeprecationWarning: The default of the `iid` parameter will change from True to False in version 0.22 and will be removed in 0.24. This will change numeric results when test-set sizes are unequal.\n",
      "  DeprecationWarning)\n"
     ]
    },
    {
     "name": "stdout",
     "output_type": "stream",
     "text": [
      "Games predicted: 245\n",
      "\n",
      "\n",
      "Now Starting Simulation Number: 354\n",
      "\n",
      "\n",
      "{'n_estimators': [10, 12, 14, 16, 18, 20, 22, 24, 26, 28], 'loss': ['ls', 'huber'], 'learning_rate': array([0.1, 0.2, 0.3, 0.4, 0.5, 0.6]), 'max_depth': [1, 2, 3, 4]}\n",
      "Fitting 5 folds for each of 480 candidates, totalling 2400 fits\n"
     ]
    },
    {
     "name": "stderr",
     "output_type": "stream",
     "text": [
      "[Parallel(n_jobs=-1)]: Using backend LokyBackend with 4 concurrent workers.\n",
      "[Parallel(n_jobs=-1)]: Done 104 tasks      | elapsed:    0.7s\n",
      "[Parallel(n_jobs=-1)]: Done 680 tasks      | elapsed:    7.4s\n",
      "[Parallel(n_jobs=-1)]: Done 1640 tasks      | elapsed:   19.8s\n",
      "[Parallel(n_jobs=-1)]: Done 2400 out of 2400 | elapsed:   29.0s finished\n",
      "C:\\Users\\chris\\Anaconda2\\lib\\site-packages\\sklearn\\model_selection\\_search.py:841: DeprecationWarning: The default of the `iid` parameter will change from True to False in version 0.22 and will be removed in 0.24. This will change numeric results when test-set sizes are unequal.\n",
      "  DeprecationWarning)\n"
     ]
    },
    {
     "name": "stdout",
     "output_type": "stream",
     "text": [
      "Fitting 5 folds for each of 480 candidates, totalling 2400 fits\n"
     ]
    },
    {
     "name": "stderr",
     "output_type": "stream",
     "text": [
      "[Parallel(n_jobs=-1)]: Using backend LokyBackend with 4 concurrent workers.\n",
      "[Parallel(n_jobs=-1)]: Done 136 tasks      | elapsed:    1.1s\n",
      "[Parallel(n_jobs=-1)]: Done 904 tasks      | elapsed:   10.4s\n",
      "[Parallel(n_jobs=-1)]: Done 2184 tasks      | elapsed:   26.2s\n",
      "[Parallel(n_jobs=-1)]: Done 2400 out of 2400 | elapsed:   29.5s finished\n",
      "C:\\Users\\chris\\Anaconda2\\lib\\site-packages\\sklearn\\model_selection\\_search.py:841: DeprecationWarning: The default of the `iid` parameter will change from True to False in version 0.22 and will be removed in 0.24. This will change numeric results when test-set sizes are unequal.\n",
      "  DeprecationWarning)\n"
     ]
    },
    {
     "name": "stdout",
     "output_type": "stream",
     "text": [
      "Games predicted: 245\n",
      "\n",
      "\n",
      "Now Starting Simulation Number: 355\n",
      "\n",
      "\n",
      "{'n_estimators': [10, 12, 14, 16, 18, 20, 22, 24, 26, 28], 'loss': ['ls', 'huber'], 'learning_rate': array([0.1, 0.2, 0.3, 0.4, 0.5, 0.6]), 'max_depth': [1, 2, 3, 4]}\n",
      "Fitting 5 folds for each of 480 candidates, totalling 2400 fits\n"
     ]
    },
    {
     "name": "stderr",
     "output_type": "stream",
     "text": [
      "[Parallel(n_jobs=-1)]: Using backend LokyBackend with 4 concurrent workers.\n",
      "[Parallel(n_jobs=-1)]: Done 168 tasks      | elapsed:    1.4s\n",
      "[Parallel(n_jobs=-1)]: Done 1128 tasks      | elapsed:   13.5s\n",
      "[Parallel(n_jobs=-1)]: Done 2400 out of 2400 | elapsed:   28.7s finished\n",
      "C:\\Users\\chris\\Anaconda2\\lib\\site-packages\\sklearn\\model_selection\\_search.py:841: DeprecationWarning: The default of the `iid` parameter will change from True to False in version 0.22 and will be removed in 0.24. This will change numeric results when test-set sizes are unequal.\n",
      "  DeprecationWarning)\n"
     ]
    },
    {
     "name": "stdout",
     "output_type": "stream",
     "text": [
      "Fitting 5 folds for each of 480 candidates, totalling 2400 fits\n"
     ]
    },
    {
     "name": "stderr",
     "output_type": "stream",
     "text": [
      "[Parallel(n_jobs=-1)]: Using backend LokyBackend with 4 concurrent workers.\n",
      "[Parallel(n_jobs=-1)]: Done 188 tasks      | elapsed:    1.6s\n",
      "[Parallel(n_jobs=-1)]: Done 1148 tasks      | elapsed:   12.6s\n",
      "[Parallel(n_jobs=-1)]: Done 2400 out of 2400 | elapsed:   27.4s finished\n",
      "C:\\Users\\chris\\Anaconda2\\lib\\site-packages\\sklearn\\model_selection\\_search.py:841: DeprecationWarning: The default of the `iid` parameter will change from True to False in version 0.22 and will be removed in 0.24. This will change numeric results when test-set sizes are unequal.\n",
      "  DeprecationWarning)\n"
     ]
    },
    {
     "name": "stdout",
     "output_type": "stream",
     "text": [
      "Games predicted: 245\n",
      "\n",
      "\n",
      "Now Starting Simulation Number: 356\n",
      "\n",
      "\n",
      "{'n_estimators': [10, 12, 14, 16, 18, 20, 22, 24, 26, 28], 'loss': ['ls', 'huber'], 'learning_rate': array([0.1, 0.2, 0.3, 0.4, 0.5, 0.6]), 'max_depth': [1, 2, 3, 4]}\n",
      "Fitting 5 folds for each of 480 candidates, totalling 2400 fits\n"
     ]
    },
    {
     "name": "stderr",
     "output_type": "stream",
     "text": [
      "[Parallel(n_jobs=-1)]: Using backend LokyBackend with 4 concurrent workers.\n",
      "[Parallel(n_jobs=-1)]: Done 104 tasks      | elapsed:    0.8s\n",
      "[Parallel(n_jobs=-1)]: Done 680 tasks      | elapsed:    7.6s\n",
      "[Parallel(n_jobs=-1)]: Done 1640 tasks      | elapsed:   20.0s\n",
      "[Parallel(n_jobs=-1)]: Done 2400 out of 2400 | elapsed:   29.1s finished\n",
      "C:\\Users\\chris\\Anaconda2\\lib\\site-packages\\sklearn\\model_selection\\_search.py:841: DeprecationWarning: The default of the `iid` parameter will change from True to False in version 0.22 and will be removed in 0.24. This will change numeric results when test-set sizes are unequal.\n",
      "  DeprecationWarning)\n"
     ]
    },
    {
     "name": "stdout",
     "output_type": "stream",
     "text": [
      "Fitting 5 folds for each of 480 candidates, totalling 2400 fits\n"
     ]
    },
    {
     "name": "stderr",
     "output_type": "stream",
     "text": [
      "[Parallel(n_jobs=-1)]: Using backend LokyBackend with 4 concurrent workers.\n",
      "[Parallel(n_jobs=-1)]: Done 168 tasks      | elapsed:    1.4s\n",
      "[Parallel(n_jobs=-1)]: Done 1128 tasks      | elapsed:   12.4s\n",
      "[Parallel(n_jobs=-1)]: Done 2400 out of 2400 | elapsed:   28.1s finished\n",
      "C:\\Users\\chris\\Anaconda2\\lib\\site-packages\\sklearn\\model_selection\\_search.py:841: DeprecationWarning: The default of the `iid` parameter will change from True to False in version 0.22 and will be removed in 0.24. This will change numeric results when test-set sizes are unequal.\n",
      "  DeprecationWarning)\n"
     ]
    },
    {
     "name": "stdout",
     "output_type": "stream",
     "text": [
      "Games predicted: 245\n",
      "\n",
      "\n",
      "Now Starting Simulation Number: 357\n",
      "\n",
      "\n",
      "{'n_estimators': [10, 12, 14, 16, 18, 20, 22, 24, 26, 28], 'loss': ['ls', 'huber'], 'learning_rate': array([0.1, 0.2, 0.3, 0.4, 0.5, 0.6]), 'max_depth': [1, 2, 3, 4]}\n",
      "Fitting 5 folds for each of 480 candidates, totalling 2400 fits\n"
     ]
    },
    {
     "name": "stderr",
     "output_type": "stream",
     "text": [
      "[Parallel(n_jobs=-1)]: Using backend LokyBackend with 4 concurrent workers.\n",
      "[Parallel(n_jobs=-1)]: Done 136 tasks      | elapsed:    1.0s\n",
      "[Parallel(n_jobs=-1)]: Done 904 tasks      | elapsed:   10.5s\n",
      "[Parallel(n_jobs=-1)]: Done 2184 tasks      | elapsed:   26.2s\n",
      "[Parallel(n_jobs=-1)]: Done 2400 out of 2400 | elapsed:   29.5s finished\n",
      "C:\\Users\\chris\\Anaconda2\\lib\\site-packages\\sklearn\\model_selection\\_search.py:841: DeprecationWarning: The default of the `iid` parameter will change from True to False in version 0.22 and will be removed in 0.24. This will change numeric results when test-set sizes are unequal.\n",
      "  DeprecationWarning)\n"
     ]
    },
    {
     "name": "stdout",
     "output_type": "stream",
     "text": [
      "Fitting 5 folds for each of 480 candidates, totalling 2400 fits\n"
     ]
    },
    {
     "name": "stderr",
     "output_type": "stream",
     "text": [
      "[Parallel(n_jobs=-1)]: Using backend LokyBackend with 4 concurrent workers.\n",
      "[Parallel(n_jobs=-1)]: Done 168 tasks      | elapsed:    1.4s\n",
      "[Parallel(n_jobs=-1)]: Done 1128 tasks      | elapsed:   12.5s\n",
      "[Parallel(n_jobs=-1)]: Done 2400 out of 2400 | elapsed:   27.5s finished\n",
      "C:\\Users\\chris\\Anaconda2\\lib\\site-packages\\sklearn\\model_selection\\_search.py:841: DeprecationWarning: The default of the `iid` parameter will change from True to False in version 0.22 and will be removed in 0.24. This will change numeric results when test-set sizes are unequal.\n",
      "  DeprecationWarning)\n"
     ]
    },
    {
     "name": "stdout",
     "output_type": "stream",
     "text": [
      "Games predicted: 245\n",
      "\n",
      "\n",
      "Now Starting Simulation Number: 358\n",
      "\n",
      "\n",
      "{'n_estimators': [10, 12, 14, 16, 18, 20, 22, 24, 26, 28], 'loss': ['ls', 'huber'], 'learning_rate': array([0.1, 0.2, 0.3, 0.4, 0.5, 0.6]), 'max_depth': [1, 2, 3, 4]}\n",
      "Fitting 5 folds for each of 480 candidates, totalling 2400 fits\n"
     ]
    },
    {
     "name": "stderr",
     "output_type": "stream",
     "text": [
      "[Parallel(n_jobs=-1)]: Using backend LokyBackend with 4 concurrent workers.\n",
      "[Parallel(n_jobs=-1)]: Done 136 tasks      | elapsed:    1.1s\n",
      "[Parallel(n_jobs=-1)]: Done 904 tasks      | elapsed:   10.2s\n",
      "[Parallel(n_jobs=-1)]: Done 2184 tasks      | elapsed:   25.2s\n",
      "[Parallel(n_jobs=-1)]: Done 2400 out of 2400 | elapsed:   28.5s finished\n",
      "C:\\Users\\chris\\Anaconda2\\lib\\site-packages\\sklearn\\model_selection\\_search.py:841: DeprecationWarning: The default of the `iid` parameter will change from True to False in version 0.22 and will be removed in 0.24. This will change numeric results when test-set sizes are unequal.\n",
      "  DeprecationWarning)\n"
     ]
    },
    {
     "name": "stdout",
     "output_type": "stream",
     "text": [
      "Fitting 5 folds for each of 480 candidates, totalling 2400 fits\n"
     ]
    },
    {
     "name": "stderr",
     "output_type": "stream",
     "text": [
      "[Parallel(n_jobs=-1)]: Using backend LokyBackend with 4 concurrent workers.\n",
      "[Parallel(n_jobs=-1)]: Done 168 tasks      | elapsed:    1.4s\n",
      "[Parallel(n_jobs=-1)]: Done 1128 tasks      | elapsed:   13.4s\n",
      "[Parallel(n_jobs=-1)]: Done 2400 out of 2400 | elapsed:   28.8s finished\n",
      "C:\\Users\\chris\\Anaconda2\\lib\\site-packages\\sklearn\\model_selection\\_search.py:841: DeprecationWarning: The default of the `iid` parameter will change from True to False in version 0.22 and will be removed in 0.24. This will change numeric results when test-set sizes are unequal.\n",
      "  DeprecationWarning)\n"
     ]
    },
    {
     "name": "stdout",
     "output_type": "stream",
     "text": [
      "Games predicted: 245\n",
      "\n",
      "\n",
      "Now Starting Simulation Number: 359\n",
      "\n",
      "\n",
      "{'n_estimators': [10, 12, 14, 16, 18, 20, 22, 24, 26, 28], 'loss': ['ls', 'huber'], 'learning_rate': array([0.1, 0.2, 0.3, 0.4, 0.5, 0.6]), 'max_depth': [1, 2, 3, 4]}\n",
      "Fitting 5 folds for each of 480 candidates, totalling 2400 fits\n"
     ]
    },
    {
     "name": "stderr",
     "output_type": "stream",
     "text": [
      "[Parallel(n_jobs=-1)]: Using backend LokyBackend with 4 concurrent workers.\n",
      "[Parallel(n_jobs=-1)]: Done 104 tasks      | elapsed:    0.7s\n",
      "[Parallel(n_jobs=-1)]: Done 680 tasks      | elapsed:    7.2s\n",
      "[Parallel(n_jobs=-1)]: Done 1640 tasks      | elapsed:   19.0s\n",
      "[Parallel(n_jobs=-1)]: Done 2400 out of 2400 | elapsed:   28.3s finished\n",
      "C:\\Users\\chris\\Anaconda2\\lib\\site-packages\\sklearn\\model_selection\\_search.py:841: DeprecationWarning: The default of the `iid` parameter will change from True to False in version 0.22 and will be removed in 0.24. This will change numeric results when test-set sizes are unequal.\n",
      "  DeprecationWarning)\n"
     ]
    },
    {
     "name": "stdout",
     "output_type": "stream",
     "text": [
      "Fitting 5 folds for each of 480 candidates, totalling 2400 fits\n"
     ]
    },
    {
     "name": "stderr",
     "output_type": "stream",
     "text": [
      "[Parallel(n_jobs=-1)]: Using backend LokyBackend with 4 concurrent workers.\n",
      "[Parallel(n_jobs=-1)]: Done 136 tasks      | elapsed:    1.1s\n",
      "[Parallel(n_jobs=-1)]: Done 904 tasks      | elapsed:   10.8s\n",
      "[Parallel(n_jobs=-1)]: Done 2184 tasks      | elapsed:   26.8s\n",
      "[Parallel(n_jobs=-1)]: Done 2400 out of 2400 | elapsed:   30.3s finished\n",
      "C:\\Users\\chris\\Anaconda2\\lib\\site-packages\\sklearn\\model_selection\\_search.py:841: DeprecationWarning: The default of the `iid` parameter will change from True to False in version 0.22 and will be removed in 0.24. This will change numeric results when test-set sizes are unequal.\n",
      "  DeprecationWarning)\n"
     ]
    },
    {
     "name": "stdout",
     "output_type": "stream",
     "text": [
      "Games predicted: 245\n",
      "\n",
      "\n",
      "Now Starting Simulation Number: 360\n",
      "\n",
      "\n",
      "{'n_estimators': [10, 12, 14, 16, 18, 20, 22, 24, 26, 28], 'loss': ['ls', 'huber'], 'learning_rate': array([0.1, 0.2, 0.3, 0.4, 0.5, 0.6]), 'max_depth': [1, 2, 3, 4]}\n",
      "Fitting 5 folds for each of 480 candidates, totalling 2400 fits\n"
     ]
    },
    {
     "name": "stderr",
     "output_type": "stream",
     "text": [
      "[Parallel(n_jobs=-1)]: Using backend LokyBackend with 4 concurrent workers.\n",
      "[Parallel(n_jobs=-1)]: Done 136 tasks      | elapsed:    1.1s\n",
      "[Parallel(n_jobs=-1)]: Done 904 tasks      | elapsed:   10.2s\n",
      "[Parallel(n_jobs=-1)]: Done 2184 tasks      | elapsed:   25.1s\n",
      "[Parallel(n_jobs=-1)]: Done 2400 out of 2400 | elapsed:   28.4s finished\n",
      "C:\\Users\\chris\\Anaconda2\\lib\\site-packages\\sklearn\\model_selection\\_search.py:841: DeprecationWarning: The default of the `iid` parameter will change from True to False in version 0.22 and will be removed in 0.24. This will change numeric results when test-set sizes are unequal.\n",
      "  DeprecationWarning)\n"
     ]
    },
    {
     "name": "stdout",
     "output_type": "stream",
     "text": [
      "Fitting 5 folds for each of 480 candidates, totalling 2400 fits\n"
     ]
    },
    {
     "name": "stderr",
     "output_type": "stream",
     "text": [
      "[Parallel(n_jobs=-1)]: Using backend LokyBackend with 4 concurrent workers.\n",
      "[Parallel(n_jobs=-1)]: Done 168 tasks      | elapsed:    1.3s\n",
      "[Parallel(n_jobs=-1)]: Done 1128 tasks      | elapsed:   13.2s\n",
      "[Parallel(n_jobs=-1)]: Done 2400 out of 2400 | elapsed:   29.2s finished\n",
      "C:\\Users\\chris\\Anaconda2\\lib\\site-packages\\sklearn\\model_selection\\_search.py:841: DeprecationWarning: The default of the `iid` parameter will change from True to False in version 0.22 and will be removed in 0.24. This will change numeric results when test-set sizes are unequal.\n",
      "  DeprecationWarning)\n"
     ]
    },
    {
     "name": "stdout",
     "output_type": "stream",
     "text": [
      "Games predicted: 245\n",
      "\n",
      "\n",
      "Now Starting Simulation Number: 361\n",
      "\n",
      "\n",
      "{'n_estimators': [10, 12, 14, 16, 18, 20, 22, 24, 26, 28], 'loss': ['ls', 'huber'], 'learning_rate': array([0.1, 0.2, 0.3, 0.4, 0.5, 0.6]), 'max_depth': [1, 2, 3, 4]}\n",
      "Fitting 5 folds for each of 480 candidates, totalling 2400 fits\n"
     ]
    },
    {
     "name": "stderr",
     "output_type": "stream",
     "text": [
      "[Parallel(n_jobs=-1)]: Using backend LokyBackend with 4 concurrent workers.\n",
      "[Parallel(n_jobs=-1)]: Done 104 tasks      | elapsed:    0.7s\n",
      "[Parallel(n_jobs=-1)]: Done 680 tasks      | elapsed:    8.0s\n",
      "[Parallel(n_jobs=-1)]: Done 1640 tasks      | elapsed:   20.1s\n",
      "[Parallel(n_jobs=-1)]: Done 2400 out of 2400 | elapsed:   29.6s finished\n",
      "C:\\Users\\chris\\Anaconda2\\lib\\site-packages\\sklearn\\model_selection\\_search.py:841: DeprecationWarning: The default of the `iid` parameter will change from True to False in version 0.22 and will be removed in 0.24. This will change numeric results when test-set sizes are unequal.\n",
      "  DeprecationWarning)\n"
     ]
    },
    {
     "name": "stdout",
     "output_type": "stream",
     "text": [
      "Fitting 5 folds for each of 480 candidates, totalling 2400 fits\n"
     ]
    },
    {
     "name": "stderr",
     "output_type": "stream",
     "text": [
      "[Parallel(n_jobs=-1)]: Using backend LokyBackend with 4 concurrent workers.\n",
      "[Parallel(n_jobs=-1)]: Done 104 tasks      | elapsed:    0.9s\n",
      "[Parallel(n_jobs=-1)]: Done 680 tasks      | elapsed:    7.6s\n",
      "[Parallel(n_jobs=-1)]: Done 1640 tasks      | elapsed:   20.0s\n",
      "[Parallel(n_jobs=-1)]: Done 2400 out of 2400 | elapsed:   30.1s finished\n",
      "C:\\Users\\chris\\Anaconda2\\lib\\site-packages\\sklearn\\model_selection\\_search.py:841: DeprecationWarning: The default of the `iid` parameter will change from True to False in version 0.22 and will be removed in 0.24. This will change numeric results when test-set sizes are unequal.\n",
      "  DeprecationWarning)\n"
     ]
    },
    {
     "name": "stdout",
     "output_type": "stream",
     "text": [
      "Games predicted: 245\n",
      "\n",
      "\n",
      "Now Starting Simulation Number: 362\n",
      "\n",
      "\n",
      "{'n_estimators': [10, 12, 14, 16, 18, 20, 22, 24, 26, 28], 'loss': ['ls', 'huber'], 'learning_rate': array([0.1, 0.2, 0.3, 0.4, 0.5, 0.6]), 'max_depth': [1, 2, 3, 4]}\n",
      "Fitting 5 folds for each of 480 candidates, totalling 2400 fits\n"
     ]
    },
    {
     "name": "stderr",
     "output_type": "stream",
     "text": [
      "[Parallel(n_jobs=-1)]: Using backend LokyBackend with 4 concurrent workers.\n",
      "[Parallel(n_jobs=-1)]: Done 136 tasks      | elapsed:    1.2s\n",
      "[Parallel(n_jobs=-1)]: Done 904 tasks      | elapsed:   11.1s\n",
      "[Parallel(n_jobs=-1)]: Done 2184 tasks      | elapsed:   26.1s\n",
      "[Parallel(n_jobs=-1)]: Done 2400 out of 2400 | elapsed:   29.3s finished\n",
      "C:\\Users\\chris\\Anaconda2\\lib\\site-packages\\sklearn\\model_selection\\_search.py:841: DeprecationWarning: The default of the `iid` parameter will change from True to False in version 0.22 and will be removed in 0.24. This will change numeric results when test-set sizes are unequal.\n",
      "  DeprecationWarning)\n"
     ]
    },
    {
     "name": "stdout",
     "output_type": "stream",
     "text": [
      "Fitting 5 folds for each of 480 candidates, totalling 2400 fits\n"
     ]
    },
    {
     "name": "stderr",
     "output_type": "stream",
     "text": [
      "[Parallel(n_jobs=-1)]: Using backend LokyBackend with 4 concurrent workers.\n",
      "[Parallel(n_jobs=-1)]: Done 168 tasks      | elapsed:    1.4s\n",
      "[Parallel(n_jobs=-1)]: Done 1128 tasks      | elapsed:   12.3s\n",
      "[Parallel(n_jobs=-1)]: Done 2400 out of 2400 | elapsed:   27.4s finished\n",
      "C:\\Users\\chris\\Anaconda2\\lib\\site-packages\\sklearn\\model_selection\\_search.py:841: DeprecationWarning: The default of the `iid` parameter will change from True to False in version 0.22 and will be removed in 0.24. This will change numeric results when test-set sizes are unequal.\n",
      "  DeprecationWarning)\n"
     ]
    },
    {
     "name": "stdout",
     "output_type": "stream",
     "text": [
      "Games predicted: 245\n",
      "\n",
      "\n",
      "Now Starting Simulation Number: 363\n",
      "\n",
      "\n",
      "{'n_estimators': [10, 12, 14, 16, 18, 20, 22, 24, 26, 28], 'loss': ['ls', 'huber'], 'learning_rate': array([0.1, 0.2, 0.3, 0.4, 0.5, 0.6]), 'max_depth': [1, 2, 3, 4]}\n",
      "Fitting 5 folds for each of 480 candidates, totalling 2400 fits\n"
     ]
    },
    {
     "name": "stderr",
     "output_type": "stream",
     "text": [
      "[Parallel(n_jobs=-1)]: Using backend LokyBackend with 4 concurrent workers.\n",
      "[Parallel(n_jobs=-1)]: Done 104 tasks      | elapsed:    0.7s\n",
      "[Parallel(n_jobs=-1)]: Done 680 tasks      | elapsed:    7.3s\n",
      "[Parallel(n_jobs=-1)]: Done 1640 tasks      | elapsed:   20.5s\n",
      "[Parallel(n_jobs=-1)]: Done 2400 out of 2400 | elapsed:   30.5s finished\n",
      "C:\\Users\\chris\\Anaconda2\\lib\\site-packages\\sklearn\\model_selection\\_search.py:841: DeprecationWarning: The default of the `iid` parameter will change from True to False in version 0.22 and will be removed in 0.24. This will change numeric results when test-set sizes are unequal.\n",
      "  DeprecationWarning)\n"
     ]
    },
    {
     "name": "stdout",
     "output_type": "stream",
     "text": [
      "Fitting 5 folds for each of 480 candidates, totalling 2400 fits\n"
     ]
    },
    {
     "name": "stderr",
     "output_type": "stream",
     "text": [
      "[Parallel(n_jobs=-1)]: Using backend LokyBackend with 4 concurrent workers.\n",
      "[Parallel(n_jobs=-1)]: Done 168 tasks      | elapsed:    1.5s\n",
      "[Parallel(n_jobs=-1)]: Done 1128 tasks      | elapsed:   12.7s\n",
      "[Parallel(n_jobs=-1)]: Done 2400 out of 2400 | elapsed:   27.8s finished\n",
      "C:\\Users\\chris\\Anaconda2\\lib\\site-packages\\sklearn\\model_selection\\_search.py:841: DeprecationWarning: The default of the `iid` parameter will change from True to False in version 0.22 and will be removed in 0.24. This will change numeric results when test-set sizes are unequal.\n",
      "  DeprecationWarning)\n"
     ]
    },
    {
     "name": "stdout",
     "output_type": "stream",
     "text": [
      "Games predicted: 245\n",
      "\n",
      "\n",
      "Now Starting Simulation Number: 364\n",
      "\n",
      "\n",
      "{'n_estimators': [10, 12, 14, 16, 18, 20, 22, 24, 26, 28], 'loss': ['ls', 'huber'], 'learning_rate': array([0.1, 0.2, 0.3, 0.4, 0.5, 0.6]), 'max_depth': [1, 2, 3, 4]}\n",
      "Fitting 5 folds for each of 480 candidates, totalling 2400 fits\n"
     ]
    },
    {
     "name": "stderr",
     "output_type": "stream",
     "text": [
      "[Parallel(n_jobs=-1)]: Using backend LokyBackend with 4 concurrent workers.\n",
      "[Parallel(n_jobs=-1)]: Done 136 tasks      | elapsed:    1.0s\n",
      "[Parallel(n_jobs=-1)]: Done 904 tasks      | elapsed:    9.9s\n",
      "[Parallel(n_jobs=-1)]: Done 2184 tasks      | elapsed:   25.1s\n",
      "[Parallel(n_jobs=-1)]: Done 2400 out of 2400 | elapsed:   28.5s finished\n",
      "C:\\Users\\chris\\Anaconda2\\lib\\site-packages\\sklearn\\model_selection\\_search.py:841: DeprecationWarning: The default of the `iid` parameter will change from True to False in version 0.22 and will be removed in 0.24. This will change numeric results when test-set sizes are unequal.\n",
      "  DeprecationWarning)\n"
     ]
    },
    {
     "name": "stdout",
     "output_type": "stream",
     "text": [
      "Fitting 5 folds for each of 480 candidates, totalling 2400 fits\n"
     ]
    },
    {
     "name": "stderr",
     "output_type": "stream",
     "text": [
      "[Parallel(n_jobs=-1)]: Using backend LokyBackend with 4 concurrent workers.\n",
      "[Parallel(n_jobs=-1)]: Done 168 tasks      | elapsed:    1.5s\n",
      "[Parallel(n_jobs=-1)]: Done 1128 tasks      | elapsed:   13.8s\n",
      "[Parallel(n_jobs=-1)]: Done 2400 out of 2400 | elapsed:   29.4s finished\n",
      "C:\\Users\\chris\\Anaconda2\\lib\\site-packages\\sklearn\\model_selection\\_search.py:841: DeprecationWarning: The default of the `iid` parameter will change from True to False in version 0.22 and will be removed in 0.24. This will change numeric results when test-set sizes are unequal.\n",
      "  DeprecationWarning)\n"
     ]
    },
    {
     "name": "stdout",
     "output_type": "stream",
     "text": [
      "Games predicted: 245\n",
      "\n",
      "\n",
      "Now Starting Simulation Number: 365\n",
      "\n",
      "\n",
      "{'n_estimators': [10, 12, 14, 16, 18, 20, 22, 24, 26, 28], 'loss': ['ls', 'huber'], 'learning_rate': array([0.1, 0.2, 0.3, 0.4, 0.5, 0.6]), 'max_depth': [1, 2, 3, 4]}\n",
      "Fitting 5 folds for each of 480 candidates, totalling 2400 fits\n"
     ]
    },
    {
     "name": "stderr",
     "output_type": "stream",
     "text": [
      "[Parallel(n_jobs=-1)]: Using backend LokyBackend with 4 concurrent workers.\n",
      "[Parallel(n_jobs=-1)]: Done 104 tasks      | elapsed:    0.7s\n",
      "[Parallel(n_jobs=-1)]: Done 680 tasks      | elapsed:    7.2s\n",
      "[Parallel(n_jobs=-1)]: Done 1640 tasks      | elapsed:   19.4s\n",
      "[Parallel(n_jobs=-1)]: Done 2400 out of 2400 | elapsed:   28.5s finished\n",
      "C:\\Users\\chris\\Anaconda2\\lib\\site-packages\\sklearn\\model_selection\\_search.py:841: DeprecationWarning: The default of the `iid` parameter will change from True to False in version 0.22 and will be removed in 0.24. This will change numeric results when test-set sizes are unequal.\n",
      "  DeprecationWarning)\n"
     ]
    },
    {
     "name": "stdout",
     "output_type": "stream",
     "text": [
      "Fitting 5 folds for each of 480 candidates, totalling 2400 fits\n"
     ]
    },
    {
     "name": "stderr",
     "output_type": "stream",
     "text": [
      "[Parallel(n_jobs=-1)]: Using backend LokyBackend with 4 concurrent workers.\n",
      "[Parallel(n_jobs=-1)]: Done 200 tasks      | elapsed:    1.8s\n",
      "[Parallel(n_jobs=-1)]: Done 1352 tasks      | elapsed:   15.6s\n",
      "[Parallel(n_jobs=-1)]: Done 2400 out of 2400 | elapsed:   29.5s finished\n",
      "C:\\Users\\chris\\Anaconda2\\lib\\site-packages\\sklearn\\model_selection\\_search.py:841: DeprecationWarning: The default of the `iid` parameter will change from True to False in version 0.22 and will be removed in 0.24. This will change numeric results when test-set sizes are unequal.\n",
      "  DeprecationWarning)\n"
     ]
    },
    {
     "name": "stdout",
     "output_type": "stream",
     "text": [
      "Games predicted: 245\n",
      "\n",
      "\n",
      "Now Starting Simulation Number: 366\n",
      "\n",
      "\n",
      "{'n_estimators': [10, 12, 14, 16, 18, 20, 22, 24, 26, 28], 'loss': ['ls', 'huber'], 'learning_rate': array([0.1, 0.2, 0.3, 0.4, 0.5, 0.6]), 'max_depth': [1, 2, 3, 4]}\n",
      "Fitting 5 folds for each of 480 candidates, totalling 2400 fits\n"
     ]
    },
    {
     "name": "stderr",
     "output_type": "stream",
     "text": [
      "[Parallel(n_jobs=-1)]: Using backend LokyBackend with 4 concurrent workers.\n",
      "[Parallel(n_jobs=-1)]: Done 104 tasks      | elapsed:    0.7s\n",
      "[Parallel(n_jobs=-1)]: Done 680 tasks      | elapsed:    7.3s\n",
      "[Parallel(n_jobs=-1)]: Done 1640 tasks      | elapsed:   19.0s\n",
      "[Parallel(n_jobs=-1)]: Done 2400 out of 2400 | elapsed:   28.2s finished\n",
      "C:\\Users\\chris\\Anaconda2\\lib\\site-packages\\sklearn\\model_selection\\_search.py:841: DeprecationWarning: The default of the `iid` parameter will change from True to False in version 0.22 and will be removed in 0.24. This will change numeric results when test-set sizes are unequal.\n",
      "  DeprecationWarning)\n"
     ]
    },
    {
     "name": "stdout",
     "output_type": "stream",
     "text": [
      "Fitting 5 folds for each of 480 candidates, totalling 2400 fits\n"
     ]
    },
    {
     "name": "stderr",
     "output_type": "stream",
     "text": [
      "[Parallel(n_jobs=-1)]: Using backend LokyBackend with 4 concurrent workers.\n",
      "[Parallel(n_jobs=-1)]: Done 200 tasks      | elapsed:    1.8s\n",
      "[Parallel(n_jobs=-1)]: Done 1736 tasks      | elapsed:   19.2s\n",
      "[Parallel(n_jobs=-1)]: Done 2400 out of 2400 | elapsed:   27.5s finished\n",
      "C:\\Users\\chris\\Anaconda2\\lib\\site-packages\\sklearn\\model_selection\\_search.py:841: DeprecationWarning: The default of the `iid` parameter will change from True to False in version 0.22 and will be removed in 0.24. This will change numeric results when test-set sizes are unequal.\n",
      "  DeprecationWarning)\n"
     ]
    },
    {
     "name": "stdout",
     "output_type": "stream",
     "text": [
      "Games predicted: 245\n",
      "\n",
      "\n",
      "Now Starting Simulation Number: 367\n",
      "\n",
      "\n",
      "{'n_estimators': [10, 12, 14, 16, 18, 20, 22, 24, 26, 28], 'loss': ['ls', 'huber'], 'learning_rate': array([0.1, 0.2, 0.3, 0.4, 0.5, 0.6]), 'max_depth': [1, 2, 3, 4]}\n",
      "Fitting 5 folds for each of 480 candidates, totalling 2400 fits\n"
     ]
    },
    {
     "name": "stderr",
     "output_type": "stream",
     "text": [
      "[Parallel(n_jobs=-1)]: Using backend LokyBackend with 4 concurrent workers.\n",
      "[Parallel(n_jobs=-1)]: Done 104 tasks      | elapsed:    0.8s\n",
      "[Parallel(n_jobs=-1)]: Done 680 tasks      | elapsed:    7.9s\n",
      "[Parallel(n_jobs=-1)]: Done 1640 tasks      | elapsed:   19.9s\n",
      "[Parallel(n_jobs=-1)]: Done 2400 out of 2400 | elapsed:   29.7s finished\n",
      "C:\\Users\\chris\\Anaconda2\\lib\\site-packages\\sklearn\\model_selection\\_search.py:841: DeprecationWarning: The default of the `iid` parameter will change from True to False in version 0.22 and will be removed in 0.24. This will change numeric results when test-set sizes are unequal.\n",
      "  DeprecationWarning)\n"
     ]
    },
    {
     "name": "stdout",
     "output_type": "stream",
     "text": [
      "Fitting 5 folds for each of 480 candidates, totalling 2400 fits\n"
     ]
    },
    {
     "name": "stderr",
     "output_type": "stream",
     "text": [
      "[Parallel(n_jobs=-1)]: Using backend LokyBackend with 4 concurrent workers.\n",
      "[Parallel(n_jobs=-1)]: Done 200 tasks      | elapsed:    1.8s\n",
      "[Parallel(n_jobs=-1)]: Done 1352 tasks      | elapsed:   15.2s\n",
      "[Parallel(n_jobs=-1)]: Done 2400 out of 2400 | elapsed:   27.8s finished\n",
      "C:\\Users\\chris\\Anaconda2\\lib\\site-packages\\sklearn\\model_selection\\_search.py:841: DeprecationWarning: The default of the `iid` parameter will change from True to False in version 0.22 and will be removed in 0.24. This will change numeric results when test-set sizes are unequal.\n",
      "  DeprecationWarning)\n"
     ]
    },
    {
     "name": "stdout",
     "output_type": "stream",
     "text": [
      "Games predicted: 245\n",
      "\n",
      "\n",
      "Now Starting Simulation Number: 368\n",
      "\n",
      "\n",
      "{'n_estimators': [10, 12, 14, 16, 18, 20, 22, 24, 26, 28], 'loss': ['ls', 'huber'], 'learning_rate': array([0.1, 0.2, 0.3, 0.4, 0.5, 0.6]), 'max_depth': [1, 2, 3, 4]}\n",
      "Fitting 5 folds for each of 480 candidates, totalling 2400 fits\n"
     ]
    },
    {
     "name": "stderr",
     "output_type": "stream",
     "text": [
      "[Parallel(n_jobs=-1)]: Using backend LokyBackend with 4 concurrent workers.\n",
      "[Parallel(n_jobs=-1)]: Done 136 tasks      | elapsed:    1.1s\n",
      "[Parallel(n_jobs=-1)]: Done 904 tasks      | elapsed:   10.4s\n",
      "[Parallel(n_jobs=-1)]: Done 2184 tasks      | elapsed:   25.8s\n",
      "[Parallel(n_jobs=-1)]: Done 2400 out of 2400 | elapsed:   29.0s finished\n",
      "C:\\Users\\chris\\Anaconda2\\lib\\site-packages\\sklearn\\model_selection\\_search.py:841: DeprecationWarning: The default of the `iid` parameter will change from True to False in version 0.22 and will be removed in 0.24. This will change numeric results when test-set sizes are unequal.\n",
      "  DeprecationWarning)\n"
     ]
    },
    {
     "name": "stdout",
     "output_type": "stream",
     "text": [
      "Fitting 5 folds for each of 480 candidates, totalling 2400 fits\n"
     ]
    },
    {
     "name": "stderr",
     "output_type": "stream",
     "text": [
      "[Parallel(n_jobs=-1)]: Using backend LokyBackend with 4 concurrent workers.\n",
      "[Parallel(n_jobs=-1)]: Done 168 tasks      | elapsed:    1.3s\n",
      "[Parallel(n_jobs=-1)]: Done 1128 tasks      | elapsed:   12.7s\n",
      "[Parallel(n_jobs=-1)]: Done 2400 out of 2400 | elapsed:   27.7s finished\n",
      "C:\\Users\\chris\\Anaconda2\\lib\\site-packages\\sklearn\\model_selection\\_search.py:841: DeprecationWarning: The default of the `iid` parameter will change from True to False in version 0.22 and will be removed in 0.24. This will change numeric results when test-set sizes are unequal.\n",
      "  DeprecationWarning)\n"
     ]
    },
    {
     "name": "stdout",
     "output_type": "stream",
     "text": [
      "Games predicted: 245\n",
      "\n",
      "\n",
      "Now Starting Simulation Number: 369\n",
      "\n",
      "\n",
      "{'n_estimators': [10, 12, 14, 16, 18, 20, 22, 24, 26, 28], 'loss': ['ls', 'huber'], 'learning_rate': array([0.1, 0.2, 0.3, 0.4, 0.5, 0.6]), 'max_depth': [1, 2, 3, 4]}\n",
      "Fitting 5 folds for each of 480 candidates, totalling 2400 fits\n"
     ]
    },
    {
     "name": "stderr",
     "output_type": "stream",
     "text": [
      "[Parallel(n_jobs=-1)]: Using backend LokyBackend with 4 concurrent workers.\n",
      "[Parallel(n_jobs=-1)]: Done 136 tasks      | elapsed:    1.0s\n",
      "[Parallel(n_jobs=-1)]: Done 904 tasks      | elapsed:   10.3s\n",
      "[Parallel(n_jobs=-1)]: Done 2184 tasks      | elapsed:   25.7s\n",
      "[Parallel(n_jobs=-1)]: Done 2400 out of 2400 | elapsed:   28.8s finished\n",
      "C:\\Users\\chris\\Anaconda2\\lib\\site-packages\\sklearn\\model_selection\\_search.py:841: DeprecationWarning: The default of the `iid` parameter will change from True to False in version 0.22 and will be removed in 0.24. This will change numeric results when test-set sizes are unequal.\n",
      "  DeprecationWarning)\n"
     ]
    },
    {
     "name": "stdout",
     "output_type": "stream",
     "text": [
      "Fitting 5 folds for each of 480 candidates, totalling 2400 fits\n"
     ]
    },
    {
     "name": "stderr",
     "output_type": "stream",
     "text": [
      "[Parallel(n_jobs=-1)]: Using backend LokyBackend with 4 concurrent workers.\n",
      "[Parallel(n_jobs=-1)]: Done 136 tasks      | elapsed:    1.0s\n",
      "[Parallel(n_jobs=-1)]: Done 904 tasks      | elapsed:   10.7s\n",
      "[Parallel(n_jobs=-1)]: Done 2184 tasks      | elapsed:   25.2s\n",
      "[Parallel(n_jobs=-1)]: Done 2400 out of 2400 | elapsed:   28.4s finished\n",
      "C:\\Users\\chris\\Anaconda2\\lib\\site-packages\\sklearn\\model_selection\\_search.py:841: DeprecationWarning: The default of the `iid` parameter will change from True to False in version 0.22 and will be removed in 0.24. This will change numeric results when test-set sizes are unequal.\n",
      "  DeprecationWarning)\n"
     ]
    },
    {
     "name": "stdout",
     "output_type": "stream",
     "text": [
      "Games predicted: 245\n",
      "\n",
      "\n",
      "Now Starting Simulation Number: 370\n",
      "\n",
      "\n",
      "{'n_estimators': [10, 12, 14, 16, 18, 20, 22, 24, 26, 28], 'loss': ['ls', 'huber'], 'learning_rate': array([0.1, 0.2, 0.3, 0.4, 0.5, 0.6]), 'max_depth': [1, 2, 3, 4]}\n",
      "Fitting 5 folds for each of 480 candidates, totalling 2400 fits\n"
     ]
    },
    {
     "name": "stderr",
     "output_type": "stream",
     "text": [
      "[Parallel(n_jobs=-1)]: Using backend LokyBackend with 4 concurrent workers.\n",
      "[Parallel(n_jobs=-1)]: Done 136 tasks      | elapsed:    1.0s\n",
      "[Parallel(n_jobs=-1)]: Done 904 tasks      | elapsed:   10.4s\n",
      "[Parallel(n_jobs=-1)]: Done 2184 tasks      | elapsed:   26.4s\n",
      "[Parallel(n_jobs=-1)]: Done 2400 out of 2400 | elapsed:   29.7s finished\n",
      "C:\\Users\\chris\\Anaconda2\\lib\\site-packages\\sklearn\\model_selection\\_search.py:841: DeprecationWarning: The default of the `iid` parameter will change from True to False in version 0.22 and will be removed in 0.24. This will change numeric results when test-set sizes are unequal.\n",
      "  DeprecationWarning)\n"
     ]
    },
    {
     "name": "stdout",
     "output_type": "stream",
     "text": [
      "Fitting 5 folds for each of 480 candidates, totalling 2400 fits\n"
     ]
    },
    {
     "name": "stderr",
     "output_type": "stream",
     "text": [
      "[Parallel(n_jobs=-1)]: Using backend LokyBackend with 4 concurrent workers.\n",
      "[Parallel(n_jobs=-1)]: Done 168 tasks      | elapsed:    1.3s\n",
      "[Parallel(n_jobs=-1)]: Done 1128 tasks      | elapsed:   12.2s\n",
      "[Parallel(n_jobs=-1)]: Done 2400 out of 2400 | elapsed:   27.3s finished\n",
      "C:\\Users\\chris\\Anaconda2\\lib\\site-packages\\sklearn\\model_selection\\_search.py:841: DeprecationWarning: The default of the `iid` parameter will change from True to False in version 0.22 and will be removed in 0.24. This will change numeric results when test-set sizes are unequal.\n",
      "  DeprecationWarning)\n"
     ]
    },
    {
     "name": "stdout",
     "output_type": "stream",
     "text": [
      "Games predicted: 245\n",
      "\n",
      "\n",
      "Now Starting Simulation Number: 371\n",
      "\n",
      "\n",
      "{'n_estimators': [10, 12, 14, 16, 18, 20, 22, 24, 26, 28], 'loss': ['ls', 'huber'], 'learning_rate': array([0.1, 0.2, 0.3, 0.4, 0.5, 0.6]), 'max_depth': [1, 2, 3, 4]}\n",
      "Fitting 5 folds for each of 480 candidates, totalling 2400 fits\n"
     ]
    },
    {
     "name": "stderr",
     "output_type": "stream",
     "text": [
      "[Parallel(n_jobs=-1)]: Using backend LokyBackend with 4 concurrent workers.\n",
      "[Parallel(n_jobs=-1)]: Done 136 tasks      | elapsed:    1.0s\n",
      "[Parallel(n_jobs=-1)]: Done 904 tasks      | elapsed:   10.1s\n",
      "[Parallel(n_jobs=-1)]: Done 2184 tasks      | elapsed:   25.8s\n",
      "[Parallel(n_jobs=-1)]: Done 2400 out of 2400 | elapsed:   29.1s finished\n",
      "C:\\Users\\chris\\Anaconda2\\lib\\site-packages\\sklearn\\model_selection\\_search.py:841: DeprecationWarning: The default of the `iid` parameter will change from True to False in version 0.22 and will be removed in 0.24. This will change numeric results when test-set sizes are unequal.\n",
      "  DeprecationWarning)\n"
     ]
    },
    {
     "name": "stdout",
     "output_type": "stream",
     "text": [
      "Fitting 5 folds for each of 480 candidates, totalling 2400 fits\n"
     ]
    },
    {
     "name": "stderr",
     "output_type": "stream",
     "text": [
      "[Parallel(n_jobs=-1)]: Using backend LokyBackend with 4 concurrent workers.\n",
      "[Parallel(n_jobs=-1)]: Done 136 tasks      | elapsed:    1.0s\n",
      "[Parallel(n_jobs=-1)]: Done 904 tasks      | elapsed:   10.0s\n",
      "[Parallel(n_jobs=-1)]: Done 2184 tasks      | elapsed:   25.3s\n",
      "[Parallel(n_jobs=-1)]: Done 2400 out of 2400 | elapsed:   28.4s finished\n",
      "C:\\Users\\chris\\Anaconda2\\lib\\site-packages\\sklearn\\model_selection\\_search.py:841: DeprecationWarning: The default of the `iid` parameter will change from True to False in version 0.22 and will be removed in 0.24. This will change numeric results when test-set sizes are unequal.\n",
      "  DeprecationWarning)\n"
     ]
    },
    {
     "name": "stdout",
     "output_type": "stream",
     "text": [
      "Games predicted: 245\n",
      "\n",
      "\n",
      "Now Starting Simulation Number: 372\n",
      "\n",
      "\n",
      "{'n_estimators': [10, 12, 14, 16, 18, 20, 22, 24, 26, 28], 'loss': ['ls', 'huber'], 'learning_rate': array([0.1, 0.2, 0.3, 0.4, 0.5, 0.6]), 'max_depth': [1, 2, 3, 4]}\n",
      "Fitting 5 folds for each of 480 candidates, totalling 2400 fits\n"
     ]
    },
    {
     "name": "stderr",
     "output_type": "stream",
     "text": [
      "[Parallel(n_jobs=-1)]: Using backend LokyBackend with 4 concurrent workers.\n",
      "[Parallel(n_jobs=-1)]: Done 104 tasks      | elapsed:    0.7s\n",
      "[Parallel(n_jobs=-1)]: Done 680 tasks      | elapsed:    7.1s\n",
      "[Parallel(n_jobs=-1)]: Done 1640 tasks      | elapsed:   19.3s\n",
      "[Parallel(n_jobs=-1)]: Done 2400 out of 2400 | elapsed:   29.0s finished\n",
      "C:\\Users\\chris\\Anaconda2\\lib\\site-packages\\sklearn\\model_selection\\_search.py:841: DeprecationWarning: The default of the `iid` parameter will change from True to False in version 0.22 and will be removed in 0.24. This will change numeric results when test-set sizes are unequal.\n",
      "  DeprecationWarning)\n"
     ]
    },
    {
     "name": "stdout",
     "output_type": "stream",
     "text": [
      "Fitting 5 folds for each of 480 candidates, totalling 2400 fits\n"
     ]
    },
    {
     "name": "stderr",
     "output_type": "stream",
     "text": [
      "[Parallel(n_jobs=-1)]: Using backend LokyBackend with 4 concurrent workers.\n",
      "[Parallel(n_jobs=-1)]: Done 136 tasks      | elapsed:    1.1s\n",
      "[Parallel(n_jobs=-1)]: Done 904 tasks      | elapsed:   10.0s\n",
      "[Parallel(n_jobs=-1)]: Done 2184 tasks      | elapsed:   24.6s\n",
      "[Parallel(n_jobs=-1)]: Done 2400 out of 2400 | elapsed:   27.8s finished\n",
      "C:\\Users\\chris\\Anaconda2\\lib\\site-packages\\sklearn\\model_selection\\_search.py:841: DeprecationWarning: The default of the `iid` parameter will change from True to False in version 0.22 and will be removed in 0.24. This will change numeric results when test-set sizes are unequal.\n",
      "  DeprecationWarning)\n"
     ]
    },
    {
     "name": "stdout",
     "output_type": "stream",
     "text": [
      "Games predicted: 245\n",
      "\n",
      "\n",
      "Now Starting Simulation Number: 373\n",
      "\n",
      "\n",
      "{'n_estimators': [10, 12, 14, 16, 18, 20, 22, 24, 26, 28], 'loss': ['ls', 'huber'], 'learning_rate': array([0.1, 0.2, 0.3, 0.4, 0.5, 0.6]), 'max_depth': [1, 2, 3, 4]}\n",
      "Fitting 5 folds for each of 480 candidates, totalling 2400 fits\n"
     ]
    },
    {
     "name": "stderr",
     "output_type": "stream",
     "text": [
      "[Parallel(n_jobs=-1)]: Using backend LokyBackend with 4 concurrent workers.\n",
      "[Parallel(n_jobs=-1)]: Done 104 tasks      | elapsed:    0.8s\n",
      "[Parallel(n_jobs=-1)]: Done 680 tasks      | elapsed:    7.3s\n",
      "[Parallel(n_jobs=-1)]: Done 1640 tasks      | elapsed:   19.2s\n",
      "[Parallel(n_jobs=-1)]: Done 2400 out of 2400 | elapsed:   29.1s finished\n",
      "C:\\Users\\chris\\Anaconda2\\lib\\site-packages\\sklearn\\model_selection\\_search.py:841: DeprecationWarning: The default of the `iid` parameter will change from True to False in version 0.22 and will be removed in 0.24. This will change numeric results when test-set sizes are unequal.\n",
      "  DeprecationWarning)\n"
     ]
    },
    {
     "name": "stdout",
     "output_type": "stream",
     "text": [
      "Fitting 5 folds for each of 480 candidates, totalling 2400 fits\n"
     ]
    },
    {
     "name": "stderr",
     "output_type": "stream",
     "text": [
      "[Parallel(n_jobs=-1)]: Using backend LokyBackend with 4 concurrent workers.\n",
      "[Parallel(n_jobs=-1)]: Done 136 tasks      | elapsed:    1.2s\n",
      "[Parallel(n_jobs=-1)]: Done 904 tasks      | elapsed:   10.9s\n",
      "[Parallel(n_jobs=-1)]: Done 2184 tasks      | elapsed:   26.0s\n",
      "[Parallel(n_jobs=-1)]: Done 2400 out of 2400 | elapsed:   29.5s finished\n",
      "C:\\Users\\chris\\Anaconda2\\lib\\site-packages\\sklearn\\model_selection\\_search.py:841: DeprecationWarning: The default of the `iid` parameter will change from True to False in version 0.22 and will be removed in 0.24. This will change numeric results when test-set sizes are unequal.\n",
      "  DeprecationWarning)\n"
     ]
    },
    {
     "name": "stdout",
     "output_type": "stream",
     "text": [
      "Games predicted: 245\n",
      "\n",
      "\n",
      "Now Starting Simulation Number: 374\n",
      "\n",
      "\n",
      "{'n_estimators': [10, 12, 14, 16, 18, 20, 22, 24, 26, 28], 'loss': ['ls', 'huber'], 'learning_rate': array([0.1, 0.2, 0.3, 0.4, 0.5, 0.6]), 'max_depth': [1, 2, 3, 4]}\n",
      "Fitting 5 folds for each of 480 candidates, totalling 2400 fits\n"
     ]
    },
    {
     "name": "stderr",
     "output_type": "stream",
     "text": [
      "[Parallel(n_jobs=-1)]: Using backend LokyBackend with 4 concurrent workers.\n",
      "[Parallel(n_jobs=-1)]: Done 104 tasks      | elapsed:    0.7s\n",
      "[Parallel(n_jobs=-1)]: Done 680 tasks      | elapsed:    7.1s\n",
      "[Parallel(n_jobs=-1)]: Done 1640 tasks      | elapsed:   19.0s\n",
      "[Parallel(n_jobs=-1)]: Done 2400 out of 2400 | elapsed:   28.7s finished\n",
      "C:\\Users\\chris\\Anaconda2\\lib\\site-packages\\sklearn\\model_selection\\_search.py:841: DeprecationWarning: The default of the `iid` parameter will change from True to False in version 0.22 and will be removed in 0.24. This will change numeric results when test-set sizes are unequal.\n",
      "  DeprecationWarning)\n"
     ]
    },
    {
     "name": "stdout",
     "output_type": "stream",
     "text": [
      "Fitting 5 folds for each of 480 candidates, totalling 2400 fits\n"
     ]
    },
    {
     "name": "stderr",
     "output_type": "stream",
     "text": [
      "[Parallel(n_jobs=-1)]: Using backend LokyBackend with 4 concurrent workers.\n",
      "[Parallel(n_jobs=-1)]: Done 200 tasks      | elapsed:    1.9s\n",
      "[Parallel(n_jobs=-1)]: Done 1736 tasks      | elapsed:   20.2s\n",
      "[Parallel(n_jobs=-1)]: Done 2400 out of 2400 | elapsed:   29.0s finished\n",
      "C:\\Users\\chris\\Anaconda2\\lib\\site-packages\\sklearn\\model_selection\\_search.py:841: DeprecationWarning: The default of the `iid` parameter will change from True to False in version 0.22 and will be removed in 0.24. This will change numeric results when test-set sizes are unequal.\n",
      "  DeprecationWarning)\n"
     ]
    },
    {
     "name": "stdout",
     "output_type": "stream",
     "text": [
      "Games predicted: 245\n",
      "\n",
      "\n",
      "Now Starting Simulation Number: 375\n",
      "\n",
      "\n",
      "{'n_estimators': [10, 12, 14, 16, 18, 20, 22, 24, 26, 28], 'loss': ['ls', 'huber'], 'learning_rate': array([0.1, 0.2, 0.3, 0.4, 0.5, 0.6]), 'max_depth': [1, 2, 3, 4]}\n",
      "Fitting 5 folds for each of 480 candidates, totalling 2400 fits\n"
     ]
    },
    {
     "name": "stderr",
     "output_type": "stream",
     "text": [
      "[Parallel(n_jobs=-1)]: Using backend LokyBackend with 4 concurrent workers.\n",
      "[Parallel(n_jobs=-1)]: Done 136 tasks      | elapsed:    1.0s\n",
      "[Parallel(n_jobs=-1)]: Done 904 tasks      | elapsed:    9.8s\n",
      "[Parallel(n_jobs=-1)]: Done 2184 tasks      | elapsed:   24.3s\n",
      "[Parallel(n_jobs=-1)]: Done 2400 out of 2400 | elapsed:   27.3s finished\n",
      "C:\\Users\\chris\\Anaconda2\\lib\\site-packages\\sklearn\\model_selection\\_search.py:841: DeprecationWarning: The default of the `iid` parameter will change from True to False in version 0.22 and will be removed in 0.24. This will change numeric results when test-set sizes are unequal.\n",
      "  DeprecationWarning)\n"
     ]
    },
    {
     "name": "stdout",
     "output_type": "stream",
     "text": [
      "Fitting 5 folds for each of 480 candidates, totalling 2400 fits\n"
     ]
    },
    {
     "name": "stderr",
     "output_type": "stream",
     "text": [
      "[Parallel(n_jobs=-1)]: Using backend LokyBackend with 4 concurrent workers.\n",
      "[Parallel(n_jobs=-1)]: Done 168 tasks      | elapsed:    1.3s\n",
      "[Parallel(n_jobs=-1)]: Done 1128 tasks      | elapsed:   12.4s\n",
      "[Parallel(n_jobs=-1)]: Done 2400 out of 2400 | elapsed:   27.7s finished\n",
      "C:\\Users\\chris\\Anaconda2\\lib\\site-packages\\sklearn\\model_selection\\_search.py:841: DeprecationWarning: The default of the `iid` parameter will change from True to False in version 0.22 and will be removed in 0.24. This will change numeric results when test-set sizes are unequal.\n",
      "  DeprecationWarning)\n"
     ]
    },
    {
     "name": "stdout",
     "output_type": "stream",
     "text": [
      "Games predicted: 245\n",
      "\n",
      "\n",
      "Now Starting Simulation Number: 376\n",
      "\n",
      "\n",
      "{'n_estimators': [10, 12, 14, 16, 18, 20, 22, 24, 26, 28], 'loss': ['ls', 'huber'], 'learning_rate': array([0.1, 0.2, 0.3, 0.4, 0.5, 0.6]), 'max_depth': [1, 2, 3, 4]}\n",
      "Fitting 5 folds for each of 480 candidates, totalling 2400 fits\n"
     ]
    },
    {
     "name": "stderr",
     "output_type": "stream",
     "text": [
      "[Parallel(n_jobs=-1)]: Using backend LokyBackend with 4 concurrent workers.\n",
      "[Parallel(n_jobs=-1)]: Done 136 tasks      | elapsed:    1.0s\n",
      "[Parallel(n_jobs=-1)]: Done 904 tasks      | elapsed:   11.6s\n",
      "[Parallel(n_jobs=-1)]: Done 2184 tasks      | elapsed:   26.2s\n",
      "[Parallel(n_jobs=-1)]: Done 2400 out of 2400 | elapsed:   29.4s finished\n",
      "C:\\Users\\chris\\Anaconda2\\lib\\site-packages\\sklearn\\model_selection\\_search.py:841: DeprecationWarning: The default of the `iid` parameter will change from True to False in version 0.22 and will be removed in 0.24. This will change numeric results when test-set sizes are unequal.\n",
      "  DeprecationWarning)\n"
     ]
    },
    {
     "name": "stdout",
     "output_type": "stream",
     "text": [
      "Fitting 5 folds for each of 480 candidates, totalling 2400 fits\n"
     ]
    },
    {
     "name": "stderr",
     "output_type": "stream",
     "text": [
      "[Parallel(n_jobs=-1)]: Using backend LokyBackend with 4 concurrent workers.\n",
      "[Parallel(n_jobs=-1)]: Done 216 tasks      | elapsed:    1.9s\n",
      "[Parallel(n_jobs=-1)]: Done 1467 tasks      | elapsed:   15.9s\n",
      "[Parallel(n_jobs=-1)]: Done 2400 out of 2400 | elapsed:   27.5s finished\n",
      "C:\\Users\\chris\\Anaconda2\\lib\\site-packages\\sklearn\\model_selection\\_search.py:841: DeprecationWarning: The default of the `iid` parameter will change from True to False in version 0.22 and will be removed in 0.24. This will change numeric results when test-set sizes are unequal.\n",
      "  DeprecationWarning)\n"
     ]
    },
    {
     "name": "stdout",
     "output_type": "stream",
     "text": [
      "Games predicted: 245\n",
      "\n",
      "\n",
      "Now Starting Simulation Number: 377\n",
      "\n",
      "\n",
      "{'n_estimators': [10, 12, 14, 16, 18, 20, 22, 24, 26, 28], 'loss': ['ls', 'huber'], 'learning_rate': array([0.1, 0.2, 0.3, 0.4, 0.5, 0.6]), 'max_depth': [1, 2, 3, 4]}\n",
      "Fitting 5 folds for each of 480 candidates, totalling 2400 fits\n"
     ]
    },
    {
     "name": "stderr",
     "output_type": "stream",
     "text": [
      "[Parallel(n_jobs=-1)]: Using backend LokyBackend with 4 concurrent workers.\n",
      "[Parallel(n_jobs=-1)]: Done 104 tasks      | elapsed:    0.8s\n",
      "[Parallel(n_jobs=-1)]: Done 680 tasks      | elapsed:    7.6s\n",
      "[Parallel(n_jobs=-1)]: Done 1640 tasks      | elapsed:   19.8s\n",
      "[Parallel(n_jobs=-1)]: Done 2400 out of 2400 | elapsed:   28.9s finished\n",
      "C:\\Users\\chris\\Anaconda2\\lib\\site-packages\\sklearn\\model_selection\\_search.py:841: DeprecationWarning: The default of the `iid` parameter will change from True to False in version 0.22 and will be removed in 0.24. This will change numeric results when test-set sizes are unequal.\n",
      "  DeprecationWarning)\n"
     ]
    },
    {
     "name": "stdout",
     "output_type": "stream",
     "text": [
      "Fitting 5 folds for each of 480 candidates, totalling 2400 fits\n"
     ]
    },
    {
     "name": "stderr",
     "output_type": "stream",
     "text": [
      "[Parallel(n_jobs=-1)]: Using backend LokyBackend with 4 concurrent workers.\n",
      "[Parallel(n_jobs=-1)]: Done 168 tasks      | elapsed:    1.3s\n",
      "[Parallel(n_jobs=-1)]: Done 1128 tasks      | elapsed:   12.4s\n",
      "[Parallel(n_jobs=-1)]: Done 2400 out of 2400 | elapsed:   27.2s finished\n",
      "C:\\Users\\chris\\Anaconda2\\lib\\site-packages\\sklearn\\model_selection\\_search.py:841: DeprecationWarning: The default of the `iid` parameter will change from True to False in version 0.22 and will be removed in 0.24. This will change numeric results when test-set sizes are unequal.\n",
      "  DeprecationWarning)\n"
     ]
    },
    {
     "name": "stdout",
     "output_type": "stream",
     "text": [
      "Games predicted: 245\n",
      "\n",
      "\n",
      "Now Starting Simulation Number: 378\n",
      "\n",
      "\n",
      "{'n_estimators': [10, 12, 14, 16, 18, 20, 22, 24, 26, 28], 'loss': ['ls', 'huber'], 'learning_rate': array([0.1, 0.2, 0.3, 0.4, 0.5, 0.6]), 'max_depth': [1, 2, 3, 4]}\n",
      "Fitting 5 folds for each of 480 candidates, totalling 2400 fits\n"
     ]
    },
    {
     "name": "stderr",
     "output_type": "stream",
     "text": [
      "[Parallel(n_jobs=-1)]: Using backend LokyBackend with 4 concurrent workers.\n",
      "[Parallel(n_jobs=-1)]: Done 104 tasks      | elapsed:    0.8s\n",
      "[Parallel(n_jobs=-1)]: Done 680 tasks      | elapsed:    7.4s\n",
      "[Parallel(n_jobs=-1)]: Done 1640 tasks      | elapsed:   20.6s\n",
      "[Parallel(n_jobs=-1)]: Done 2400 out of 2400 | elapsed:   29.6s finished\n",
      "C:\\Users\\chris\\Anaconda2\\lib\\site-packages\\sklearn\\model_selection\\_search.py:841: DeprecationWarning: The default of the `iid` parameter will change from True to False in version 0.22 and will be removed in 0.24. This will change numeric results when test-set sizes are unequal.\n",
      "  DeprecationWarning)\n"
     ]
    },
    {
     "name": "stdout",
     "output_type": "stream",
     "text": [
      "Fitting 5 folds for each of 480 candidates, totalling 2400 fits\n"
     ]
    },
    {
     "name": "stderr",
     "output_type": "stream",
     "text": [
      "[Parallel(n_jobs=-1)]: Using backend LokyBackend with 4 concurrent workers.\n",
      "[Parallel(n_jobs=-1)]: Done 136 tasks      | elapsed:    1.0s\n",
      "[Parallel(n_jobs=-1)]: Done 904 tasks      | elapsed:    9.8s\n",
      "[Parallel(n_jobs=-1)]: Done 2184 tasks      | elapsed:   24.2s\n",
      "[Parallel(n_jobs=-1)]: Done 2400 out of 2400 | elapsed:   27.5s finished\n",
      "C:\\Users\\chris\\Anaconda2\\lib\\site-packages\\sklearn\\model_selection\\_search.py:841: DeprecationWarning: The default of the `iid` parameter will change from True to False in version 0.22 and will be removed in 0.24. This will change numeric results when test-set sizes are unequal.\n",
      "  DeprecationWarning)\n"
     ]
    },
    {
     "name": "stdout",
     "output_type": "stream",
     "text": [
      "Games predicted: 245\n",
      "\n",
      "\n",
      "Now Starting Simulation Number: 379\n",
      "\n",
      "\n",
      "{'n_estimators': [10, 12, 14, 16, 18, 20, 22, 24, 26, 28], 'loss': ['ls', 'huber'], 'learning_rate': array([0.1, 0.2, 0.3, 0.4, 0.5, 0.6]), 'max_depth': [1, 2, 3, 4]}\n",
      "Fitting 5 folds for each of 480 candidates, totalling 2400 fits\n"
     ]
    },
    {
     "name": "stderr",
     "output_type": "stream",
     "text": [
      "[Parallel(n_jobs=-1)]: Using backend LokyBackend with 4 concurrent workers.\n",
      "[Parallel(n_jobs=-1)]: Done 104 tasks      | elapsed:    0.8s\n",
      "[Parallel(n_jobs=-1)]: Done 680 tasks      | elapsed:    7.5s\n",
      "[Parallel(n_jobs=-1)]: Done 1640 tasks      | elapsed:   20.0s\n",
      "[Parallel(n_jobs=-1)]: Done 2400 out of 2400 | elapsed:   29.4s finished\n",
      "C:\\Users\\chris\\Anaconda2\\lib\\site-packages\\sklearn\\model_selection\\_search.py:841: DeprecationWarning: The default of the `iid` parameter will change from True to False in version 0.22 and will be removed in 0.24. This will change numeric results when test-set sizes are unequal.\n",
      "  DeprecationWarning)\n"
     ]
    },
    {
     "name": "stdout",
     "output_type": "stream",
     "text": [
      "Fitting 5 folds for each of 480 candidates, totalling 2400 fits\n"
     ]
    },
    {
     "name": "stderr",
     "output_type": "stream",
     "text": [
      "[Parallel(n_jobs=-1)]: Using backend LokyBackend with 4 concurrent workers.\n",
      "[Parallel(n_jobs=-1)]: Done 168 tasks      | elapsed:    1.4s\n",
      "[Parallel(n_jobs=-1)]: Done 1128 tasks      | elapsed:   12.6s\n",
      "[Parallel(n_jobs=-1)]: Done 2400 out of 2400 | elapsed:   27.5s finished\n",
      "C:\\Users\\chris\\Anaconda2\\lib\\site-packages\\sklearn\\model_selection\\_search.py:841: DeprecationWarning: The default of the `iid` parameter will change from True to False in version 0.22 and will be removed in 0.24. This will change numeric results when test-set sizes are unequal.\n",
      "  DeprecationWarning)\n"
     ]
    },
    {
     "name": "stdout",
     "output_type": "stream",
     "text": [
      "Games predicted: 245\n",
      "\n",
      "\n",
      "Now Starting Simulation Number: 380\n",
      "\n",
      "\n",
      "{'n_estimators': [10, 12, 14, 16, 18, 20, 22, 24, 26, 28], 'loss': ['ls', 'huber'], 'learning_rate': array([0.1, 0.2, 0.3, 0.4, 0.5, 0.6]), 'max_depth': [1, 2, 3, 4]}\n",
      "Fitting 5 folds for each of 480 candidates, totalling 2400 fits\n"
     ]
    },
    {
     "name": "stderr",
     "output_type": "stream",
     "text": [
      "[Parallel(n_jobs=-1)]: Using backend LokyBackend with 4 concurrent workers.\n",
      "[Parallel(n_jobs=-1)]: Done 136 tasks      | elapsed:    1.0s\n",
      "[Parallel(n_jobs=-1)]: Done 904 tasks      | elapsed:   10.1s\n",
      "[Parallel(n_jobs=-1)]: Done 2184 tasks      | elapsed:   26.5s\n",
      "[Parallel(n_jobs=-1)]: Done 2400 out of 2400 | elapsed:   29.8s finished\n",
      "C:\\Users\\chris\\Anaconda2\\lib\\site-packages\\sklearn\\model_selection\\_search.py:841: DeprecationWarning: The default of the `iid` parameter will change from True to False in version 0.22 and will be removed in 0.24. This will change numeric results when test-set sizes are unequal.\n",
      "  DeprecationWarning)\n"
     ]
    },
    {
     "name": "stdout",
     "output_type": "stream",
     "text": [
      "Fitting 5 folds for each of 480 candidates, totalling 2400 fits\n"
     ]
    },
    {
     "name": "stderr",
     "output_type": "stream",
     "text": [
      "[Parallel(n_jobs=-1)]: Using backend LokyBackend with 4 concurrent workers.\n",
      "[Parallel(n_jobs=-1)]: Done 168 tasks      | elapsed:    1.3s\n",
      "[Parallel(n_jobs=-1)]: Done 1128 tasks      | elapsed:   12.4s\n",
      "[Parallel(n_jobs=-1)]: Done 2400 out of 2400 | elapsed:   27.4s finished\n",
      "C:\\Users\\chris\\Anaconda2\\lib\\site-packages\\sklearn\\model_selection\\_search.py:841: DeprecationWarning: The default of the `iid` parameter will change from True to False in version 0.22 and will be removed in 0.24. This will change numeric results when test-set sizes are unequal.\n",
      "  DeprecationWarning)\n"
     ]
    },
    {
     "name": "stdout",
     "output_type": "stream",
     "text": [
      "Games predicted: 245\n",
      "\n",
      "\n",
      "Now Starting Simulation Number: 381\n",
      "\n",
      "\n",
      "{'n_estimators': [10, 12, 14, 16, 18, 20, 22, 24, 26, 28], 'loss': ['ls', 'huber'], 'learning_rate': array([0.1, 0.2, 0.3, 0.4, 0.5, 0.6]), 'max_depth': [1, 2, 3, 4]}\n",
      "Fitting 5 folds for each of 480 candidates, totalling 2400 fits\n"
     ]
    },
    {
     "name": "stderr",
     "output_type": "stream",
     "text": [
      "[Parallel(n_jobs=-1)]: Using backend LokyBackend with 4 concurrent workers.\n",
      "[Parallel(n_jobs=-1)]: Done 136 tasks      | elapsed:    1.0s\n",
      "[Parallel(n_jobs=-1)]: Done 904 tasks      | elapsed:    9.8s\n",
      "[Parallel(n_jobs=-1)]: Done 2184 tasks      | elapsed:   24.8s\n",
      "[Parallel(n_jobs=-1)]: Done 2400 out of 2400 | elapsed:   28.1s finished\n",
      "C:\\Users\\chris\\Anaconda2\\lib\\site-packages\\sklearn\\model_selection\\_search.py:841: DeprecationWarning: The default of the `iid` parameter will change from True to False in version 0.22 and will be removed in 0.24. This will change numeric results when test-set sizes are unequal.\n",
      "  DeprecationWarning)\n"
     ]
    },
    {
     "name": "stdout",
     "output_type": "stream",
     "text": [
      "Fitting 5 folds for each of 480 candidates, totalling 2400 fits\n"
     ]
    },
    {
     "name": "stderr",
     "output_type": "stream",
     "text": [
      "[Parallel(n_jobs=-1)]: Using backend LokyBackend with 4 concurrent workers.\n",
      "[Parallel(n_jobs=-1)]: Done 136 tasks      | elapsed:    1.1s\n",
      "[Parallel(n_jobs=-1)]: Done 904 tasks      | elapsed:   11.1s\n",
      "[Parallel(n_jobs=-1)]: Done 2184 tasks      | elapsed:   26.3s\n",
      "[Parallel(n_jobs=-1)]: Done 2400 out of 2400 | elapsed:   29.4s finished\n",
      "C:\\Users\\chris\\Anaconda2\\lib\\site-packages\\sklearn\\model_selection\\_search.py:841: DeprecationWarning: The default of the `iid` parameter will change from True to False in version 0.22 and will be removed in 0.24. This will change numeric results when test-set sizes are unequal.\n",
      "  DeprecationWarning)\n"
     ]
    },
    {
     "name": "stdout",
     "output_type": "stream",
     "text": [
      "Games predicted: 245\n",
      "\n",
      "\n",
      "Now Starting Simulation Number: 382\n",
      "\n",
      "\n",
      "{'n_estimators': [10, 12, 14, 16, 18, 20, 22, 24, 26, 28], 'loss': ['ls', 'huber'], 'learning_rate': array([0.1, 0.2, 0.3, 0.4, 0.5, 0.6]), 'max_depth': [1, 2, 3, 4]}\n",
      "Fitting 5 folds for each of 480 candidates, totalling 2400 fits\n"
     ]
    },
    {
     "name": "stderr",
     "output_type": "stream",
     "text": [
      "[Parallel(n_jobs=-1)]: Using backend LokyBackend with 4 concurrent workers.\n",
      "[Parallel(n_jobs=-1)]: Done 104 tasks      | elapsed:    0.8s\n",
      "[Parallel(n_jobs=-1)]: Done 680 tasks      | elapsed:    7.1s\n",
      "[Parallel(n_jobs=-1)]: Done 1640 tasks      | elapsed:   18.7s\n",
      "[Parallel(n_jobs=-1)]: Done 2400 out of 2400 | elapsed:   28.1s finished\n",
      "C:\\Users\\chris\\Anaconda2\\lib\\site-packages\\sklearn\\model_selection\\_search.py:841: DeprecationWarning: The default of the `iid` parameter will change from True to False in version 0.22 and will be removed in 0.24. This will change numeric results when test-set sizes are unequal.\n",
      "  DeprecationWarning)\n"
     ]
    },
    {
     "name": "stdout",
     "output_type": "stream",
     "text": [
      "Fitting 5 folds for each of 480 candidates, totalling 2400 fits\n"
     ]
    },
    {
     "name": "stderr",
     "output_type": "stream",
     "text": [
      "[Parallel(n_jobs=-1)]: Using backend LokyBackend with 4 concurrent workers.\n",
      "[Parallel(n_jobs=-1)]: Done 104 tasks      | elapsed:    1.3s\n",
      "[Parallel(n_jobs=-1)]: Done 680 tasks      | elapsed:    9.3s\n",
      "[Parallel(n_jobs=-1)]: Done 1640 tasks      | elapsed:   21.7s\n",
      "[Parallel(n_jobs=-1)]: Done 2400 out of 2400 | elapsed:   31.4s finished\n",
      "C:\\Users\\chris\\Anaconda2\\lib\\site-packages\\sklearn\\model_selection\\_search.py:841: DeprecationWarning: The default of the `iid` parameter will change from True to False in version 0.22 and will be removed in 0.24. This will change numeric results when test-set sizes are unequal.\n",
      "  DeprecationWarning)\n"
     ]
    },
    {
     "name": "stdout",
     "output_type": "stream",
     "text": [
      "Games predicted: 245\n",
      "\n",
      "\n",
      "Now Starting Simulation Number: 383\n",
      "\n",
      "\n",
      "{'n_estimators': [10, 12, 14, 16, 18, 20, 22, 24, 26, 28], 'loss': ['ls', 'huber'], 'learning_rate': array([0.1, 0.2, 0.3, 0.4, 0.5, 0.6]), 'max_depth': [1, 2, 3, 4]}\n",
      "Fitting 5 folds for each of 480 candidates, totalling 2400 fits\n"
     ]
    },
    {
     "name": "stderr",
     "output_type": "stream",
     "text": [
      "[Parallel(n_jobs=-1)]: Using backend LokyBackend with 4 concurrent workers.\n",
      "[Parallel(n_jobs=-1)]: Done 136 tasks      | elapsed:    1.0s\n",
      "[Parallel(n_jobs=-1)]: Done 904 tasks      | elapsed:   10.0s\n",
      "[Parallel(n_jobs=-1)]: Done 2184 tasks      | elapsed:   24.5s\n",
      "[Parallel(n_jobs=-1)]: Done 2400 out of 2400 | elapsed:   27.6s finished\n",
      "C:\\Users\\chris\\Anaconda2\\lib\\site-packages\\sklearn\\model_selection\\_search.py:841: DeprecationWarning: The default of the `iid` parameter will change from True to False in version 0.22 and will be removed in 0.24. This will change numeric results when test-set sizes are unequal.\n",
      "  DeprecationWarning)\n"
     ]
    },
    {
     "name": "stdout",
     "output_type": "stream",
     "text": [
      "Fitting 5 folds for each of 480 candidates, totalling 2400 fits\n"
     ]
    },
    {
     "name": "stderr",
     "output_type": "stream",
     "text": [
      "[Parallel(n_jobs=-1)]: Using backend LokyBackend with 4 concurrent workers.\n",
      "[Parallel(n_jobs=-1)]: Done 136 tasks      | elapsed:    1.0s\n",
      "[Parallel(n_jobs=-1)]: Done 904 tasks      | elapsed:    9.9s\n",
      "[Parallel(n_jobs=-1)]: Done 2184 tasks      | elapsed:   24.9s\n",
      "[Parallel(n_jobs=-1)]: Done 2400 out of 2400 | elapsed:   28.3s finished\n",
      "C:\\Users\\chris\\Anaconda2\\lib\\site-packages\\sklearn\\model_selection\\_search.py:841: DeprecationWarning: The default of the `iid` parameter will change from True to False in version 0.22 and will be removed in 0.24. This will change numeric results when test-set sizes are unequal.\n",
      "  DeprecationWarning)\n"
     ]
    },
    {
     "name": "stdout",
     "output_type": "stream",
     "text": [
      "Games predicted: 245\n",
      "\n",
      "\n",
      "Now Starting Simulation Number: 384\n",
      "\n",
      "\n",
      "{'n_estimators': [10, 12, 14, 16, 18, 20, 22, 24, 26, 28], 'loss': ['ls', 'huber'], 'learning_rate': array([0.1, 0.2, 0.3, 0.4, 0.5, 0.6]), 'max_depth': [1, 2, 3, 4]}\n",
      "Fitting 5 folds for each of 480 candidates, totalling 2400 fits\n"
     ]
    },
    {
     "name": "stderr",
     "output_type": "stream",
     "text": [
      "[Parallel(n_jobs=-1)]: Using backend LokyBackend with 4 concurrent workers.\n",
      "[Parallel(n_jobs=-1)]: Done 136 tasks      | elapsed:    1.0s\n",
      "[Parallel(n_jobs=-1)]: Done 904 tasks      | elapsed:   10.6s\n",
      "[Parallel(n_jobs=-1)]: Done 2184 tasks      | elapsed:   25.1s\n",
      "[Parallel(n_jobs=-1)]: Done 2400 out of 2400 | elapsed:   28.2s finished\n",
      "C:\\Users\\chris\\Anaconda2\\lib\\site-packages\\sklearn\\model_selection\\_search.py:841: DeprecationWarning: The default of the `iid` parameter will change from True to False in version 0.22 and will be removed in 0.24. This will change numeric results when test-set sizes are unequal.\n",
      "  DeprecationWarning)\n"
     ]
    },
    {
     "name": "stdout",
     "output_type": "stream",
     "text": [
      "Fitting 5 folds for each of 480 candidates, totalling 2400 fits\n"
     ]
    },
    {
     "name": "stderr",
     "output_type": "stream",
     "text": [
      "[Parallel(n_jobs=-1)]: Using backend LokyBackend with 4 concurrent workers.\n",
      "[Parallel(n_jobs=-1)]: Done 136 tasks      | elapsed:    1.0s\n",
      "[Parallel(n_jobs=-1)]: Done 904 tasks      | elapsed:   10.6s\n",
      "[Parallel(n_jobs=-1)]: Done 2184 tasks      | elapsed:   25.7s\n",
      "[Parallel(n_jobs=-1)]: Done 2400 out of 2400 | elapsed:   29.0s finished\n",
      "C:\\Users\\chris\\Anaconda2\\lib\\site-packages\\sklearn\\model_selection\\_search.py:841: DeprecationWarning: The default of the `iid` parameter will change from True to False in version 0.22 and will be removed in 0.24. This will change numeric results when test-set sizes are unequal.\n",
      "  DeprecationWarning)\n"
     ]
    },
    {
     "name": "stdout",
     "output_type": "stream",
     "text": [
      "Games predicted: 245\n",
      "\n",
      "\n",
      "Now Starting Simulation Number: 385\n",
      "\n",
      "\n",
      "{'n_estimators': [10, 12, 14, 16, 18, 20, 22, 24, 26, 28], 'loss': ['ls', 'huber'], 'learning_rate': array([0.1, 0.2, 0.3, 0.4, 0.5, 0.6]), 'max_depth': [1, 2, 3, 4]}\n",
      "Fitting 5 folds for each of 480 candidates, totalling 2400 fits\n"
     ]
    },
    {
     "name": "stderr",
     "output_type": "stream",
     "text": [
      "[Parallel(n_jobs=-1)]: Using backend LokyBackend with 4 concurrent workers.\n",
      "[Parallel(n_jobs=-1)]: Done 104 tasks      | elapsed:    0.7s\n",
      "[Parallel(n_jobs=-1)]: Done 680 tasks      | elapsed:    7.5s\n",
      "[Parallel(n_jobs=-1)]: Done 1640 tasks      | elapsed:   19.2s\n",
      "[Parallel(n_jobs=-1)]: Done 2400 out of 2400 | elapsed:   28.1s finished\n",
      "C:\\Users\\chris\\Anaconda2\\lib\\site-packages\\sklearn\\model_selection\\_search.py:841: DeprecationWarning: The default of the `iid` parameter will change from True to False in version 0.22 and will be removed in 0.24. This will change numeric results when test-set sizes are unequal.\n",
      "  DeprecationWarning)\n"
     ]
    },
    {
     "name": "stdout",
     "output_type": "stream",
     "text": [
      "Fitting 5 folds for each of 480 candidates, totalling 2400 fits\n"
     ]
    },
    {
     "name": "stderr",
     "output_type": "stream",
     "text": [
      "[Parallel(n_jobs=-1)]: Using backend LokyBackend with 4 concurrent workers.\n",
      "[Parallel(n_jobs=-1)]: Done 168 tasks      | elapsed:    1.4s\n",
      "[Parallel(n_jobs=-1)]: Done 1128 tasks      | elapsed:   12.6s\n",
      "[Parallel(n_jobs=-1)]: Done 2400 out of 2400 | elapsed:   28.9s finished\n",
      "C:\\Users\\chris\\Anaconda2\\lib\\site-packages\\sklearn\\model_selection\\_search.py:841: DeprecationWarning: The default of the `iid` parameter will change from True to False in version 0.22 and will be removed in 0.24. This will change numeric results when test-set sizes are unequal.\n",
      "  DeprecationWarning)\n"
     ]
    },
    {
     "name": "stdout",
     "output_type": "stream",
     "text": [
      "Games predicted: 245\n",
      "\n",
      "\n",
      "Now Starting Simulation Number: 386\n",
      "\n",
      "\n",
      "{'n_estimators': [10, 12, 14, 16, 18, 20, 22, 24, 26, 28], 'loss': ['ls', 'huber'], 'learning_rate': array([0.1, 0.2, 0.3, 0.4, 0.5, 0.6]), 'max_depth': [1, 2, 3, 4]}\n",
      "Fitting 5 folds for each of 480 candidates, totalling 2400 fits\n"
     ]
    },
    {
     "name": "stderr",
     "output_type": "stream",
     "text": [
      "[Parallel(n_jobs=-1)]: Using backend LokyBackend with 4 concurrent workers.\n",
      "[Parallel(n_jobs=-1)]: Done 136 tasks      | elapsed:    1.1s\n",
      "[Parallel(n_jobs=-1)]: Done 904 tasks      | elapsed:   10.6s\n",
      "[Parallel(n_jobs=-1)]: Done 2184 tasks      | elapsed:   25.1s\n",
      "[Parallel(n_jobs=-1)]: Done 2400 out of 2400 | elapsed:   28.2s finished\n",
      "C:\\Users\\chris\\Anaconda2\\lib\\site-packages\\sklearn\\model_selection\\_search.py:841: DeprecationWarning: The default of the `iid` parameter will change from True to False in version 0.22 and will be removed in 0.24. This will change numeric results when test-set sizes are unequal.\n",
      "  DeprecationWarning)\n"
     ]
    },
    {
     "name": "stdout",
     "output_type": "stream",
     "text": [
      "Fitting 5 folds for each of 480 candidates, totalling 2400 fits\n"
     ]
    },
    {
     "name": "stderr",
     "output_type": "stream",
     "text": [
      "[Parallel(n_jobs=-1)]: Using backend LokyBackend with 4 concurrent workers.\n",
      "[Parallel(n_jobs=-1)]: Done 200 tasks      | elapsed:    1.7s\n",
      "[Parallel(n_jobs=-1)]: Done 1352 tasks      | elapsed:   14.7s\n",
      "[Parallel(n_jobs=-1)]: Done 2400 out of 2400 | elapsed:   28.2s finished\n",
      "C:\\Users\\chris\\Anaconda2\\lib\\site-packages\\sklearn\\model_selection\\_search.py:841: DeprecationWarning: The default of the `iid` parameter will change from True to False in version 0.22 and will be removed in 0.24. This will change numeric results when test-set sizes are unequal.\n",
      "  DeprecationWarning)\n"
     ]
    },
    {
     "name": "stdout",
     "output_type": "stream",
     "text": [
      "Games predicted: 245\n",
      "\n",
      "\n",
      "Now Starting Simulation Number: 387\n",
      "\n",
      "\n",
      "{'n_estimators': [10, 12, 14, 16, 18, 20, 22, 24, 26, 28], 'loss': ['ls', 'huber'], 'learning_rate': array([0.1, 0.2, 0.3, 0.4, 0.5, 0.6]), 'max_depth': [1, 2, 3, 4]}\n",
      "Fitting 5 folds for each of 480 candidates, totalling 2400 fits\n"
     ]
    },
    {
     "name": "stderr",
     "output_type": "stream",
     "text": [
      "[Parallel(n_jobs=-1)]: Using backend LokyBackend with 4 concurrent workers.\n",
      "[Parallel(n_jobs=-1)]: Done 136 tasks      | elapsed:    1.1s\n",
      "[Parallel(n_jobs=-1)]: Done 904 tasks      | elapsed:   10.5s\n",
      "[Parallel(n_jobs=-1)]: Done 2184 tasks      | elapsed:   25.6s\n",
      "[Parallel(n_jobs=-1)]: Done 2400 out of 2400 | elapsed:   28.7s finished\n",
      "C:\\Users\\chris\\Anaconda2\\lib\\site-packages\\sklearn\\model_selection\\_search.py:841: DeprecationWarning: The default of the `iid` parameter will change from True to False in version 0.22 and will be removed in 0.24. This will change numeric results when test-set sizes are unequal.\n",
      "  DeprecationWarning)\n"
     ]
    },
    {
     "name": "stdout",
     "output_type": "stream",
     "text": [
      "Fitting 5 folds for each of 480 candidates, totalling 2400 fits\n"
     ]
    },
    {
     "name": "stderr",
     "output_type": "stream",
     "text": [
      "[Parallel(n_jobs=-1)]: Using backend LokyBackend with 4 concurrent workers.\n",
      "[Parallel(n_jobs=-1)]: Done 136 tasks      | elapsed:    1.0s\n",
      "[Parallel(n_jobs=-1)]: Done 904 tasks      | elapsed:    9.8s\n",
      "[Parallel(n_jobs=-1)]: Done 2184 tasks      | elapsed:   24.4s\n",
      "[Parallel(n_jobs=-1)]: Done 2400 out of 2400 | elapsed:   27.7s finished\n",
      "C:\\Users\\chris\\Anaconda2\\lib\\site-packages\\sklearn\\model_selection\\_search.py:841: DeprecationWarning: The default of the `iid` parameter will change from True to False in version 0.22 and will be removed in 0.24. This will change numeric results when test-set sizes are unequal.\n",
      "  DeprecationWarning)\n"
     ]
    },
    {
     "name": "stdout",
     "output_type": "stream",
     "text": [
      "Games predicted: 245\n",
      "\n",
      "\n",
      "Now Starting Simulation Number: 388\n",
      "\n",
      "\n",
      "{'n_estimators': [10, 12, 14, 16, 18, 20, 22, 24, 26, 28], 'loss': ['ls', 'huber'], 'learning_rate': array([0.1, 0.2, 0.3, 0.4, 0.5, 0.6]), 'max_depth': [1, 2, 3, 4]}\n",
      "Fitting 5 folds for each of 480 candidates, totalling 2400 fits\n"
     ]
    },
    {
     "name": "stderr",
     "output_type": "stream",
     "text": [
      "[Parallel(n_jobs=-1)]: Using backend LokyBackend with 4 concurrent workers.\n",
      "[Parallel(n_jobs=-1)]: Done 136 tasks      | elapsed:    1.0s\n",
      "[Parallel(n_jobs=-1)]: Done 904 tasks      | elapsed:   10.5s\n",
      "[Parallel(n_jobs=-1)]: Done 2184 tasks      | elapsed:   25.1s\n",
      "[Parallel(n_jobs=-1)]: Done 2400 out of 2400 | elapsed:   28.2s finished\n",
      "C:\\Users\\chris\\Anaconda2\\lib\\site-packages\\sklearn\\model_selection\\_search.py:841: DeprecationWarning: The default of the `iid` parameter will change from True to False in version 0.22 and will be removed in 0.24. This will change numeric results when test-set sizes are unequal.\n",
      "  DeprecationWarning)\n"
     ]
    },
    {
     "name": "stdout",
     "output_type": "stream",
     "text": [
      "Fitting 5 folds for each of 480 candidates, totalling 2400 fits\n"
     ]
    },
    {
     "name": "stderr",
     "output_type": "stream",
     "text": [
      "[Parallel(n_jobs=-1)]: Using backend LokyBackend with 4 concurrent workers.\n",
      "[Parallel(n_jobs=-1)]: Done 200 tasks      | elapsed:    1.8s\n",
      "[Parallel(n_jobs=-1)]: Done 1352 tasks      | elapsed:   15.0s\n",
      "[Parallel(n_jobs=-1)]: Done 2400 out of 2400 | elapsed:   29.1s finished\n",
      "C:\\Users\\chris\\Anaconda2\\lib\\site-packages\\sklearn\\model_selection\\_search.py:841: DeprecationWarning: The default of the `iid` parameter will change from True to False in version 0.22 and will be removed in 0.24. This will change numeric results when test-set sizes are unequal.\n",
      "  DeprecationWarning)\n"
     ]
    },
    {
     "name": "stdout",
     "output_type": "stream",
     "text": [
      "Games predicted: 245\n",
      "\n",
      "\n",
      "Now Starting Simulation Number: 389\n",
      "\n",
      "\n",
      "{'n_estimators': [10, 12, 14, 16, 18, 20, 22, 24, 26, 28], 'loss': ['ls', 'huber'], 'learning_rate': array([0.1, 0.2, 0.3, 0.4, 0.5, 0.6]), 'max_depth': [1, 2, 3, 4]}\n",
      "Fitting 5 folds for each of 480 candidates, totalling 2400 fits\n"
     ]
    },
    {
     "name": "stderr",
     "output_type": "stream",
     "text": [
      "[Parallel(n_jobs=-1)]: Using backend LokyBackend with 4 concurrent workers.\n",
      "[Parallel(n_jobs=-1)]: Done 104 tasks      | elapsed:    0.9s\n",
      "[Parallel(n_jobs=-1)]: Done 680 tasks      | elapsed:    7.7s\n",
      "[Parallel(n_jobs=-1)]: Done 1640 tasks      | elapsed:   19.6s\n",
      "[Parallel(n_jobs=-1)]: Done 2400 out of 2400 | elapsed:   28.9s finished\n",
      "C:\\Users\\chris\\Anaconda2\\lib\\site-packages\\sklearn\\model_selection\\_search.py:841: DeprecationWarning: The default of the `iid` parameter will change from True to False in version 0.22 and will be removed in 0.24. This will change numeric results when test-set sizes are unequal.\n",
      "  DeprecationWarning)\n"
     ]
    },
    {
     "name": "stdout",
     "output_type": "stream",
     "text": [
      "Fitting 5 folds for each of 480 candidates, totalling 2400 fits\n"
     ]
    },
    {
     "name": "stderr",
     "output_type": "stream",
     "text": [
      "[Parallel(n_jobs=-1)]: Using backend LokyBackend with 4 concurrent workers.\n",
      "[Parallel(n_jobs=-1)]: Done 136 tasks      | elapsed:    1.1s\n",
      "[Parallel(n_jobs=-1)]: Done 904 tasks      | elapsed:   10.1s\n",
      "[Parallel(n_jobs=-1)]: Done 2184 tasks      | elapsed:   25.5s\n",
      "[Parallel(n_jobs=-1)]: Done 2400 out of 2400 | elapsed:   29.1s finished\n",
      "C:\\Users\\chris\\Anaconda2\\lib\\site-packages\\sklearn\\model_selection\\_search.py:841: DeprecationWarning: The default of the `iid` parameter will change from True to False in version 0.22 and will be removed in 0.24. This will change numeric results when test-set sizes are unequal.\n",
      "  DeprecationWarning)\n"
     ]
    },
    {
     "name": "stdout",
     "output_type": "stream",
     "text": [
      "Games predicted: 245\n",
      "\n",
      "\n",
      "Now Starting Simulation Number: 390\n",
      "\n",
      "\n",
      "{'n_estimators': [10, 12, 14, 16, 18, 20, 22, 24, 26, 28], 'loss': ['ls', 'huber'], 'learning_rate': array([0.1, 0.2, 0.3, 0.4, 0.5, 0.6]), 'max_depth': [1, 2, 3, 4]}\n",
      "Fitting 5 folds for each of 480 candidates, totalling 2400 fits\n"
     ]
    },
    {
     "name": "stderr",
     "output_type": "stream",
     "text": [
      "[Parallel(n_jobs=-1)]: Using backend LokyBackend with 4 concurrent workers.\n",
      "[Parallel(n_jobs=-1)]: Done 136 tasks      | elapsed:    1.1s\n",
      "[Parallel(n_jobs=-1)]: Done 904 tasks      | elapsed:   10.0s\n",
      "[Parallel(n_jobs=-1)]: Done 2184 tasks      | elapsed:   25.2s\n",
      "[Parallel(n_jobs=-1)]: Done 2400 out of 2400 | elapsed:   28.3s finished\n",
      "C:\\Users\\chris\\Anaconda2\\lib\\site-packages\\sklearn\\model_selection\\_search.py:841: DeprecationWarning: The default of the `iid` parameter will change from True to False in version 0.22 and will be removed in 0.24. This will change numeric results when test-set sizes are unequal.\n",
      "  DeprecationWarning)\n"
     ]
    },
    {
     "name": "stdout",
     "output_type": "stream",
     "text": [
      "Fitting 5 folds for each of 480 candidates, totalling 2400 fits\n"
     ]
    },
    {
     "name": "stderr",
     "output_type": "stream",
     "text": [
      "[Parallel(n_jobs=-1)]: Using backend LokyBackend with 4 concurrent workers.\n",
      "[Parallel(n_jobs=-1)]: Done 168 tasks      | elapsed:    1.3s\n",
      "[Parallel(n_jobs=-1)]: Done 1128 tasks      | elapsed:   12.8s\n",
      "[Parallel(n_jobs=-1)]: Done 2400 out of 2400 | elapsed:   29.6s finished\n",
      "C:\\Users\\chris\\Anaconda2\\lib\\site-packages\\sklearn\\model_selection\\_search.py:841: DeprecationWarning: The default of the `iid` parameter will change from True to False in version 0.22 and will be removed in 0.24. This will change numeric results when test-set sizes are unequal.\n",
      "  DeprecationWarning)\n"
     ]
    },
    {
     "name": "stdout",
     "output_type": "stream",
     "text": [
      "Games predicted: 245\n",
      "\n",
      "\n",
      "Now Starting Simulation Number: 391\n",
      "\n",
      "\n",
      "{'n_estimators': [10, 12, 14, 16, 18, 20, 22, 24, 26, 28], 'loss': ['ls', 'huber'], 'learning_rate': array([0.1, 0.2, 0.3, 0.4, 0.5, 0.6]), 'max_depth': [1, 2, 3, 4]}\n",
      "Fitting 5 folds for each of 480 candidates, totalling 2400 fits\n"
     ]
    },
    {
     "name": "stderr",
     "output_type": "stream",
     "text": [
      "[Parallel(n_jobs=-1)]: Using backend LokyBackend with 4 concurrent workers.\n",
      "[Parallel(n_jobs=-1)]: Done 104 tasks      | elapsed:    0.9s\n",
      "[Parallel(n_jobs=-1)]: Done 680 tasks      | elapsed:    8.3s\n",
      "[Parallel(n_jobs=-1)]: Done 1640 tasks      | elapsed:   20.3s\n",
      "[Parallel(n_jobs=-1)]: Done 2400 out of 2400 | elapsed:   29.7s finished\n",
      "C:\\Users\\chris\\Anaconda2\\lib\\site-packages\\sklearn\\model_selection\\_search.py:841: DeprecationWarning: The default of the `iid` parameter will change from True to False in version 0.22 and will be removed in 0.24. This will change numeric results when test-set sizes are unequal.\n",
      "  DeprecationWarning)\n"
     ]
    },
    {
     "name": "stdout",
     "output_type": "stream",
     "text": [
      "Fitting 5 folds for each of 480 candidates, totalling 2400 fits\n"
     ]
    },
    {
     "name": "stderr",
     "output_type": "stream",
     "text": [
      "[Parallel(n_jobs=-1)]: Using backend LokyBackend with 4 concurrent workers.\n",
      "[Parallel(n_jobs=-1)]: Done 168 tasks      | elapsed:    1.4s\n",
      "[Parallel(n_jobs=-1)]: Done 1128 tasks      | elapsed:   12.6s\n",
      "[Parallel(n_jobs=-1)]: Done 2400 out of 2400 | elapsed:   28.1s finished\n",
      "C:\\Users\\chris\\Anaconda2\\lib\\site-packages\\sklearn\\model_selection\\_search.py:841: DeprecationWarning: The default of the `iid` parameter will change from True to False in version 0.22 and will be removed in 0.24. This will change numeric results when test-set sizes are unequal.\n",
      "  DeprecationWarning)\n"
     ]
    },
    {
     "name": "stdout",
     "output_type": "stream",
     "text": [
      "Games predicted: 245\n",
      "\n",
      "\n",
      "Now Starting Simulation Number: 392\n",
      "\n",
      "\n",
      "{'n_estimators': [10, 12, 14, 16, 18, 20, 22, 24, 26, 28], 'loss': ['ls', 'huber'], 'learning_rate': array([0.1, 0.2, 0.3, 0.4, 0.5, 0.6]), 'max_depth': [1, 2, 3, 4]}\n",
      "Fitting 5 folds for each of 480 candidates, totalling 2400 fits\n"
     ]
    },
    {
     "name": "stderr",
     "output_type": "stream",
     "text": [
      "[Parallel(n_jobs=-1)]: Using backend LokyBackend with 4 concurrent workers.\n",
      "[Parallel(n_jobs=-1)]: Done 136 tasks      | elapsed:    1.1s\n",
      "[Parallel(n_jobs=-1)]: Done 904 tasks      | elapsed:   10.6s\n",
      "[Parallel(n_jobs=-1)]: Done 2184 tasks      | elapsed:   25.2s\n",
      "[Parallel(n_jobs=-1)]: Done 2400 out of 2400 | elapsed:   28.3s finished\n",
      "C:\\Users\\chris\\Anaconda2\\lib\\site-packages\\sklearn\\model_selection\\_search.py:841: DeprecationWarning: The default of the `iid` parameter will change from True to False in version 0.22 and will be removed in 0.24. This will change numeric results when test-set sizes are unequal.\n",
      "  DeprecationWarning)\n"
     ]
    },
    {
     "name": "stdout",
     "output_type": "stream",
     "text": [
      "Fitting 5 folds for each of 480 candidates, totalling 2400 fits\n"
     ]
    },
    {
     "name": "stderr",
     "output_type": "stream",
     "text": [
      "[Parallel(n_jobs=-1)]: Using backend LokyBackend with 4 concurrent workers.\n",
      "[Parallel(n_jobs=-1)]: Done 136 tasks      | elapsed:    1.0s\n",
      "[Parallel(n_jobs=-1)]: Done 904 tasks      | elapsed:    9.9s\n",
      "[Parallel(n_jobs=-1)]: Done 2184 tasks      | elapsed:   24.4s\n",
      "[Parallel(n_jobs=-1)]: Done 2400 out of 2400 | elapsed:   27.5s finished\n",
      "C:\\Users\\chris\\Anaconda2\\lib\\site-packages\\sklearn\\model_selection\\_search.py:841: DeprecationWarning: The default of the `iid` parameter will change from True to False in version 0.22 and will be removed in 0.24. This will change numeric results when test-set sizes are unequal.\n",
      "  DeprecationWarning)\n"
     ]
    },
    {
     "name": "stdout",
     "output_type": "stream",
     "text": [
      "Games predicted: 245\n",
      "\n",
      "\n",
      "Now Starting Simulation Number: 393\n",
      "\n",
      "\n",
      "{'n_estimators': [10, 12, 14, 16, 18, 20, 22, 24, 26, 28], 'loss': ['ls', 'huber'], 'learning_rate': array([0.1, 0.2, 0.3, 0.4, 0.5, 0.6]), 'max_depth': [1, 2, 3, 4]}\n",
      "Fitting 5 folds for each of 480 candidates, totalling 2400 fits\n"
     ]
    },
    {
     "name": "stderr",
     "output_type": "stream",
     "text": [
      "[Parallel(n_jobs=-1)]: Using backend LokyBackend with 4 concurrent workers.\n",
      "[Parallel(n_jobs=-1)]: Done 104 tasks      | elapsed:    0.7s\n",
      "[Parallel(n_jobs=-1)]: Done 680 tasks      | elapsed:    7.4s\n",
      "[Parallel(n_jobs=-1)]: Done 1640 tasks      | elapsed:   20.7s\n",
      "[Parallel(n_jobs=-1)]: Done 2400 out of 2400 | elapsed:   29.6s finished\n",
      "C:\\Users\\chris\\Anaconda2\\lib\\site-packages\\sklearn\\model_selection\\_search.py:841: DeprecationWarning: The default of the `iid` parameter will change from True to False in version 0.22 and will be removed in 0.24. This will change numeric results when test-set sizes are unequal.\n",
      "  DeprecationWarning)\n"
     ]
    },
    {
     "name": "stdout",
     "output_type": "stream",
     "text": [
      "Fitting 5 folds for each of 480 candidates, totalling 2400 fits\n"
     ]
    },
    {
     "name": "stderr",
     "output_type": "stream",
     "text": [
      "[Parallel(n_jobs=-1)]: Using backend LokyBackend with 4 concurrent workers.\n",
      "[Parallel(n_jobs=-1)]: Done 136 tasks      | elapsed:    1.1s\n",
      "[Parallel(n_jobs=-1)]: Done 904 tasks      | elapsed:    9.9s\n",
      "[Parallel(n_jobs=-1)]: Done 2184 tasks      | elapsed:   24.5s\n",
      "[Parallel(n_jobs=-1)]: Done 2400 out of 2400 | elapsed:   28.0s finished\n",
      "C:\\Users\\chris\\Anaconda2\\lib\\site-packages\\sklearn\\model_selection\\_search.py:841: DeprecationWarning: The default of the `iid` parameter will change from True to False in version 0.22 and will be removed in 0.24. This will change numeric results when test-set sizes are unequal.\n",
      "  DeprecationWarning)\n"
     ]
    },
    {
     "name": "stdout",
     "output_type": "stream",
     "text": [
      "Games predicted: 245\n",
      "\n",
      "\n",
      "Now Starting Simulation Number: 394\n",
      "\n",
      "\n",
      "{'n_estimators': [10, 12, 14, 16, 18, 20, 22, 24, 26, 28], 'loss': ['ls', 'huber'], 'learning_rate': array([0.1, 0.2, 0.3, 0.4, 0.5, 0.6]), 'max_depth': [1, 2, 3, 4]}\n",
      "Fitting 5 folds for each of 480 candidates, totalling 2400 fits\n"
     ]
    },
    {
     "name": "stderr",
     "output_type": "stream",
     "text": [
      "[Parallel(n_jobs=-1)]: Using backend LokyBackend with 4 concurrent workers.\n",
      "[Parallel(n_jobs=-1)]: Done 136 tasks      | elapsed:    1.1s\n",
      "[Parallel(n_jobs=-1)]: Done 904 tasks      | elapsed:   11.0s\n",
      "[Parallel(n_jobs=-1)]: Done 2184 tasks      | elapsed:   26.2s\n",
      "[Parallel(n_jobs=-1)]: Done 2400 out of 2400 | elapsed:   29.4s finished\n",
      "C:\\Users\\chris\\Anaconda2\\lib\\site-packages\\sklearn\\model_selection\\_search.py:841: DeprecationWarning: The default of the `iid` parameter will change from True to False in version 0.22 and will be removed in 0.24. This will change numeric results when test-set sizes are unequal.\n",
      "  DeprecationWarning)\n"
     ]
    },
    {
     "name": "stdout",
     "output_type": "stream",
     "text": [
      "Fitting 5 folds for each of 480 candidates, totalling 2400 fits\n"
     ]
    },
    {
     "name": "stderr",
     "output_type": "stream",
     "text": [
      "[Parallel(n_jobs=-1)]: Using backend LokyBackend with 4 concurrent workers.\n",
      "[Parallel(n_jobs=-1)]: Done 136 tasks      | elapsed:    1.0s\n",
      "[Parallel(n_jobs=-1)]: Done 904 tasks      | elapsed:    9.8s\n",
      "[Parallel(n_jobs=-1)]: Done 2184 tasks      | elapsed:   24.2s\n",
      "[Parallel(n_jobs=-1)]: Done 2400 out of 2400 | elapsed:   27.3s finished\n",
      "C:\\Users\\chris\\Anaconda2\\lib\\site-packages\\sklearn\\model_selection\\_search.py:841: DeprecationWarning: The default of the `iid` parameter will change from True to False in version 0.22 and will be removed in 0.24. This will change numeric results when test-set sizes are unequal.\n",
      "  DeprecationWarning)\n"
     ]
    },
    {
     "name": "stdout",
     "output_type": "stream",
     "text": [
      "Games predicted: 245\n",
      "\n",
      "\n",
      "Now Starting Simulation Number: 395\n",
      "\n",
      "\n",
      "{'n_estimators': [10, 12, 14, 16, 18, 20, 22, 24, 26, 28], 'loss': ['ls', 'huber'], 'learning_rate': array([0.1, 0.2, 0.3, 0.4, 0.5, 0.6]), 'max_depth': [1, 2, 3, 4]}\n",
      "Fitting 5 folds for each of 480 candidates, totalling 2400 fits\n"
     ]
    },
    {
     "name": "stderr",
     "output_type": "stream",
     "text": [
      "[Parallel(n_jobs=-1)]: Using backend LokyBackend with 4 concurrent workers.\n",
      "[Parallel(n_jobs=-1)]: Done 136 tasks      | elapsed:    1.0s\n",
      "[Parallel(n_jobs=-1)]: Done 904 tasks      | elapsed:   10.0s\n",
      "[Parallel(n_jobs=-1)]: Done 2184 tasks      | elapsed:   26.8s\n",
      "[Parallel(n_jobs=-1)]: Done 2400 out of 2400 | elapsed:   30.3s finished\n",
      "C:\\Users\\chris\\Anaconda2\\lib\\site-packages\\sklearn\\model_selection\\_search.py:841: DeprecationWarning: The default of the `iid` parameter will change from True to False in version 0.22 and will be removed in 0.24. This will change numeric results when test-set sizes are unequal.\n",
      "  DeprecationWarning)\n"
     ]
    },
    {
     "name": "stdout",
     "output_type": "stream",
     "text": [
      "Fitting 5 folds for each of 480 candidates, totalling 2400 fits\n"
     ]
    },
    {
     "name": "stderr",
     "output_type": "stream",
     "text": [
      "[Parallel(n_jobs=-1)]: Using backend LokyBackend with 4 concurrent workers.\n",
      "[Parallel(n_jobs=-1)]: Done 168 tasks      | elapsed:    1.4s\n",
      "[Parallel(n_jobs=-1)]: Done 1128 tasks      | elapsed:   12.9s\n",
      "[Parallel(n_jobs=-1)]: Done 2400 out of 2400 | elapsed:   27.9s finished\n",
      "C:\\Users\\chris\\Anaconda2\\lib\\site-packages\\sklearn\\model_selection\\_search.py:841: DeprecationWarning: The default of the `iid` parameter will change from True to False in version 0.22 and will be removed in 0.24. This will change numeric results when test-set sizes are unequal.\n",
      "  DeprecationWarning)\n"
     ]
    },
    {
     "name": "stdout",
     "output_type": "stream",
     "text": [
      "Games predicted: 245\n",
      "\n",
      "\n",
      "Now Starting Simulation Number: 396\n",
      "\n",
      "\n",
      "{'n_estimators': [10, 12, 14, 16, 18, 20, 22, 24, 26, 28], 'loss': ['ls', 'huber'], 'learning_rate': array([0.1, 0.2, 0.3, 0.4, 0.5, 0.6]), 'max_depth': [1, 2, 3, 4]}\n",
      "Fitting 5 folds for each of 480 candidates, totalling 2400 fits\n"
     ]
    },
    {
     "name": "stderr",
     "output_type": "stream",
     "text": [
      "[Parallel(n_jobs=-1)]: Using backend LokyBackend with 4 concurrent workers.\n",
      "[Parallel(n_jobs=-1)]: Done 136 tasks      | elapsed:    1.0s\n",
      "[Parallel(n_jobs=-1)]: Done 904 tasks      | elapsed:   10.2s\n",
      "[Parallel(n_jobs=-1)]: Done 2184 tasks      | elapsed:   24.9s\n",
      "[Parallel(n_jobs=-1)]: Done 2400 out of 2400 | elapsed:   28.4s finished\n",
      "C:\\Users\\chris\\Anaconda2\\lib\\site-packages\\sklearn\\model_selection\\_search.py:841: DeprecationWarning: The default of the `iid` parameter will change from True to False in version 0.22 and will be removed in 0.24. This will change numeric results when test-set sizes are unequal.\n",
      "  DeprecationWarning)\n"
     ]
    },
    {
     "name": "stdout",
     "output_type": "stream",
     "text": [
      "Fitting 5 folds for each of 480 candidates, totalling 2400 fits\n"
     ]
    },
    {
     "name": "stderr",
     "output_type": "stream",
     "text": [
      "[Parallel(n_jobs=-1)]: Using backend LokyBackend with 4 concurrent workers.\n",
      "[Parallel(n_jobs=-1)]: Done 104 tasks      | elapsed:    1.2s\n",
      "[Parallel(n_jobs=-1)]: Done 680 tasks      | elapsed:    8.0s\n",
      "[Parallel(n_jobs=-1)]: Done 1640 tasks      | elapsed:   20.5s\n",
      "[Parallel(n_jobs=-1)]: Done 2400 out of 2400 | elapsed:   30.1s finished\n",
      "C:\\Users\\chris\\Anaconda2\\lib\\site-packages\\sklearn\\model_selection\\_search.py:841: DeprecationWarning: The default of the `iid` parameter will change from True to False in version 0.22 and will be removed in 0.24. This will change numeric results when test-set sizes are unequal.\n",
      "  DeprecationWarning)\n"
     ]
    },
    {
     "name": "stdout",
     "output_type": "stream",
     "text": [
      "Games predicted: 245\n",
      "\n",
      "\n",
      "Now Starting Simulation Number: 397\n",
      "\n",
      "\n",
      "{'n_estimators': [10, 12, 14, 16, 18, 20, 22, 24, 26, 28], 'loss': ['ls', 'huber'], 'learning_rate': array([0.1, 0.2, 0.3, 0.4, 0.5, 0.6]), 'max_depth': [1, 2, 3, 4]}\n",
      "Fitting 5 folds for each of 480 candidates, totalling 2400 fits\n"
     ]
    },
    {
     "name": "stderr",
     "output_type": "stream",
     "text": [
      "[Parallel(n_jobs=-1)]: Using backend LokyBackend with 4 concurrent workers.\n",
      "[Parallel(n_jobs=-1)]: Done 104 tasks      | elapsed:    0.7s\n",
      "[Parallel(n_jobs=-1)]: Done 680 tasks      | elapsed:    7.0s\n",
      "[Parallel(n_jobs=-1)]: Done 1640 tasks      | elapsed:   18.5s\n",
      "[Parallel(n_jobs=-1)]: Done 2400 out of 2400 | elapsed:   28.3s finished\n",
      "C:\\Users\\chris\\Anaconda2\\lib\\site-packages\\sklearn\\model_selection\\_search.py:841: DeprecationWarning: The default of the `iid` parameter will change from True to False in version 0.22 and will be removed in 0.24. This will change numeric results when test-set sizes are unequal.\n",
      "  DeprecationWarning)\n"
     ]
    },
    {
     "name": "stdout",
     "output_type": "stream",
     "text": [
      "Fitting 5 folds for each of 480 candidates, totalling 2400 fits\n"
     ]
    },
    {
     "name": "stderr",
     "output_type": "stream",
     "text": [
      "[Parallel(n_jobs=-1)]: Using backend LokyBackend with 4 concurrent workers.\n",
      "[Parallel(n_jobs=-1)]: Done 168 tasks      | elapsed:    1.3s\n",
      "[Parallel(n_jobs=-1)]: Done 1512 tasks      | elapsed:   17.0s\n",
      "[Parallel(n_jobs=-1)]: Done 2400 out of 2400 | elapsed:   28.7s finished\n",
      "C:\\Users\\chris\\Anaconda2\\lib\\site-packages\\sklearn\\model_selection\\_search.py:841: DeprecationWarning: The default of the `iid` parameter will change from True to False in version 0.22 and will be removed in 0.24. This will change numeric results when test-set sizes are unequal.\n",
      "  DeprecationWarning)\n"
     ]
    },
    {
     "name": "stdout",
     "output_type": "stream",
     "text": [
      "Games predicted: 245\n",
      "\n",
      "\n",
      "Now Starting Simulation Number: 398\n",
      "\n",
      "\n",
      "{'n_estimators': [10, 12, 14, 16, 18, 20, 22, 24, 26, 28], 'loss': ['ls', 'huber'], 'learning_rate': array([0.1, 0.2, 0.3, 0.4, 0.5, 0.6]), 'max_depth': [1, 2, 3, 4]}\n",
      "Fitting 5 folds for each of 480 candidates, totalling 2400 fits\n"
     ]
    },
    {
     "name": "stderr",
     "output_type": "stream",
     "text": [
      "[Parallel(n_jobs=-1)]: Using backend LokyBackend with 4 concurrent workers.\n",
      "[Parallel(n_jobs=-1)]: Done 104 tasks      | elapsed:    0.8s\n",
      "[Parallel(n_jobs=-1)]: Done 680 tasks      | elapsed:    7.7s\n",
      "[Parallel(n_jobs=-1)]: Done 1640 tasks      | elapsed:   19.5s\n",
      "[Parallel(n_jobs=-1)]: Done 2400 out of 2400 | elapsed:   28.3s finished\n",
      "C:\\Users\\chris\\Anaconda2\\lib\\site-packages\\sklearn\\model_selection\\_search.py:841: DeprecationWarning: The default of the `iid` parameter will change from True to False in version 0.22 and will be removed in 0.24. This will change numeric results when test-set sizes are unequal.\n",
      "  DeprecationWarning)\n"
     ]
    },
    {
     "name": "stdout",
     "output_type": "stream",
     "text": [
      "Fitting 5 folds for each of 480 candidates, totalling 2400 fits\n"
     ]
    },
    {
     "name": "stderr",
     "output_type": "stream",
     "text": [
      "[Parallel(n_jobs=-1)]: Using backend LokyBackend with 4 concurrent workers.\n",
      "[Parallel(n_jobs=-1)]: Done 168 tasks      | elapsed:    1.3s\n",
      "[Parallel(n_jobs=-1)]: Done 1128 tasks      | elapsed:   12.6s\n",
      "[Parallel(n_jobs=-1)]: Done 2400 out of 2400 | elapsed:   27.5s finished\n",
      "C:\\Users\\chris\\Anaconda2\\lib\\site-packages\\sklearn\\model_selection\\_search.py:841: DeprecationWarning: The default of the `iid` parameter will change from True to False in version 0.22 and will be removed in 0.24. This will change numeric results when test-set sizes are unequal.\n",
      "  DeprecationWarning)\n"
     ]
    },
    {
     "name": "stdout",
     "output_type": "stream",
     "text": [
      "Games predicted: 245\n",
      "\n",
      "\n",
      "Now Starting Simulation Number: 399\n",
      "\n",
      "\n",
      "{'n_estimators': [10, 12, 14, 16, 18, 20, 22, 24, 26, 28], 'loss': ['ls', 'huber'], 'learning_rate': array([0.1, 0.2, 0.3, 0.4, 0.5, 0.6]), 'max_depth': [1, 2, 3, 4]}\n",
      "Fitting 5 folds for each of 480 candidates, totalling 2400 fits\n"
     ]
    },
    {
     "name": "stderr",
     "output_type": "stream",
     "text": [
      "[Parallel(n_jobs=-1)]: Using backend LokyBackend with 4 concurrent workers.\n",
      "[Parallel(n_jobs=-1)]: Done 104 tasks      | elapsed:    0.8s\n",
      "[Parallel(n_jobs=-1)]: Done 680 tasks      | elapsed:    7.4s\n",
      "[Parallel(n_jobs=-1)]: Done 1640 tasks      | elapsed:   20.1s\n",
      "[Parallel(n_jobs=-1)]: Done 2400 out of 2400 | elapsed:   29.9s finished\n",
      "C:\\Users\\chris\\Anaconda2\\lib\\site-packages\\sklearn\\model_selection\\_search.py:841: DeprecationWarning: The default of the `iid` parameter will change from True to False in version 0.22 and will be removed in 0.24. This will change numeric results when test-set sizes are unequal.\n",
      "  DeprecationWarning)\n"
     ]
    },
    {
     "name": "stdout",
     "output_type": "stream",
     "text": [
      "Fitting 5 folds for each of 480 candidates, totalling 2400 fits\n"
     ]
    },
    {
     "name": "stderr",
     "output_type": "stream",
     "text": [
      "[Parallel(n_jobs=-1)]: Using backend LokyBackend with 4 concurrent workers.\n",
      "[Parallel(n_jobs=-1)]: Done 136 tasks      | elapsed:    1.1s\n",
      "[Parallel(n_jobs=-1)]: Done 904 tasks      | elapsed:   11.0s\n",
      "[Parallel(n_jobs=-1)]: Done 2184 tasks      | elapsed:   26.0s\n",
      "[Parallel(n_jobs=-1)]: Done 2400 out of 2400 | elapsed:   29.3s finished\n",
      "C:\\Users\\chris\\Anaconda2\\lib\\site-packages\\sklearn\\model_selection\\_search.py:841: DeprecationWarning: The default of the `iid` parameter will change from True to False in version 0.22 and will be removed in 0.24. This will change numeric results when test-set sizes are unequal.\n",
      "  DeprecationWarning)\n"
     ]
    },
    {
     "name": "stdout",
     "output_type": "stream",
     "text": [
      "Games predicted: 245\n",
      "\n",
      "\n",
      "Now Starting Simulation Number: 400\n",
      "\n",
      "\n",
      "{'n_estimators': [10, 12, 14, 16, 18, 20, 22, 24, 26, 28], 'loss': ['ls', 'huber'], 'learning_rate': array([0.1, 0.2, 0.3, 0.4, 0.5, 0.6]), 'max_depth': [1, 2, 3, 4]}\n",
      "Fitting 5 folds for each of 480 candidates, totalling 2400 fits\n"
     ]
    },
    {
     "name": "stderr",
     "output_type": "stream",
     "text": [
      "[Parallel(n_jobs=-1)]: Using backend LokyBackend with 4 concurrent workers.\n",
      "[Parallel(n_jobs=-1)]: Done 136 tasks      | elapsed:    1.1s\n",
      "[Parallel(n_jobs=-1)]: Done 904 tasks      | elapsed:   10.2s\n",
      "[Parallel(n_jobs=-1)]: Done 2184 tasks      | elapsed:   25.6s\n",
      "[Parallel(n_jobs=-1)]: Done 2400 out of 2400 | elapsed:   29.0s finished\n",
      "C:\\Users\\chris\\Anaconda2\\lib\\site-packages\\sklearn\\model_selection\\_search.py:841: DeprecationWarning: The default of the `iid` parameter will change from True to False in version 0.22 and will be removed in 0.24. This will change numeric results when test-set sizes are unequal.\n",
      "  DeprecationWarning)\n"
     ]
    },
    {
     "name": "stdout",
     "output_type": "stream",
     "text": [
      "Fitting 5 folds for each of 480 candidates, totalling 2400 fits\n"
     ]
    },
    {
     "name": "stderr",
     "output_type": "stream",
     "text": [
      "[Parallel(n_jobs=-1)]: Using backend LokyBackend with 4 concurrent workers.\n",
      "[Parallel(n_jobs=-1)]: Done 136 tasks      | elapsed:    1.0s\n",
      "[Parallel(n_jobs=-1)]: Done 904 tasks      | elapsed:   10.6s\n",
      "[Parallel(n_jobs=-1)]: Done 2184 tasks      | elapsed:   25.3s\n",
      "[Parallel(n_jobs=-1)]: Done 2400 out of 2400 | elapsed:   28.5s finished\n",
      "C:\\Users\\chris\\Anaconda2\\lib\\site-packages\\sklearn\\model_selection\\_search.py:841: DeprecationWarning: The default of the `iid` parameter will change from True to False in version 0.22 and will be removed in 0.24. This will change numeric results when test-set sizes are unequal.\n",
      "  DeprecationWarning)\n"
     ]
    },
    {
     "name": "stdout",
     "output_type": "stream",
     "text": [
      "Games predicted: 245\n",
      "Wall time: 6h 40min 39s\n"
     ]
    },
    {
     "data": {
      "image/png": "[encoded data removed]",
      "text/plain": [
       "<Figure size 432x288 with 1 Axes>"
      ]
     },
     "metadata": {
      "needs_background": "light"
     },
     "output_type": "display_data"
    }
   ],
   "source": [
    "%%time\n",
    "numSimulations = 400\n",
    "pred_2019 = pd.DataFrame(columns = ['GameNum', 'Predicted_Spread', 'Game_Spread', 'Predicted_OU', 'Game_OU'])\n",
    "next_week_pred=pd.DataFrame(columns = ['GameNum','Predicted_Spread'])\n",
    "\n",
    "for i in range(0,numSimulations):\n",
    "    print \"\\n\\nNow Starting Simulation Number: \" + str(i+1) + \"\\n\\n\"\n",
    "    future_pred, past_pred = simulatePrediction(int(random()*1000000))\n",
    "    next_week_pred = next_week_pred.append(future_pred)\n",
    "    pred_2019 = pred_2019.append(past_pred)\n",
    "    \n"
   ]
  },
  {
   "cell_type": "code",
   "execution_count": 14,
   "metadata": {},
   "outputs": [],
   "source": [
    "lastpast = pd.read_csv('past_game_predictions_12_15.csv')\n",
    "lastfuture = pd.read_csv('future_game_predictions_12_15.csv')\n",
    "\n",
    "lastpast = lastpast.append(pred_2019)\n",
    "lastfuture = lastfuture.append(next_week_pred)"
   ]
  },
  {
   "cell_type": "code",
   "execution_count": 15,
   "metadata": {},
   "outputs": [],
   "source": [
    "pred_2019.to_csv('past_game_predictions_12_15_300.csv')\n",
    "next_week_pred.to_csv('future_game_predictions_12_15_300.csv')\n",
    "\n",
    "lastpast.to_csv('past_game_predictions_12_15_merge.csv')\n",
    "lastfuture.to_csv('future_game_predictions_12_15_merge.csv')"
   ]
  }
 ],
 "metadata": {
  "kernelspec": {
   "display_name": "Python 2",
   "language": "python",
   "name": "python2"
  },
  "language_info": {
   "codemirror_mode": {
    "name": "ipython",
    "version": 2
   },
   "file_extension": ".py",
   "mimetype": "text/x-python",
   "name": "python",
   "nbconvert_exporter": "python",
   "pygments_lexer": "ipython2",
   "version": "2.7.16"
  }
 },
 "nbformat": 4,
 "nbformat_minor": 2
}
